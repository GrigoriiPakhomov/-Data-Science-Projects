{
 "cells": [
  {
   "cell_type": "markdown",
   "metadata": {
    "toc": true
   },
   "source": [
    "<h1>Содержание<span class=\"tocSkip\"></span></h1>\n",
    "<div class=\"toc\"><ul class=\"toc-item\"><li><span><a href=\"#Изучение-данных-из-файла\" data-toc-modified-id=\"Изучение-данных-из-файла-1\"><span class=\"toc-item-num\">1&nbsp;&nbsp;</span>Изучение данных из файла</a></span><ul class=\"toc-item\"><li><span><a href=\"#Вывод\" data-toc-modified-id=\"Вывод-1.1\"><span class=\"toc-item-num\">1.1&nbsp;&nbsp;</span>Вывод</a></span></li></ul></li><li><span><a href=\"#Предобработка-данных\" data-toc-modified-id=\"Предобработка-данных-2\"><span class=\"toc-item-num\">2&nbsp;&nbsp;</span>Предобработка данных</a></span></li><li><span><a href=\"#Расчёты-и-добавление-результатов-в-таблицу\" data-toc-modified-id=\"Расчёты-и-добавление-результатов-в-таблицу-3\"><span class=\"toc-item-num\">3&nbsp;&nbsp;</span>Расчёты и добавление результатов в таблицу</a></span></li><li><span><a href=\"#Исследовательский-анализ-данных\" data-toc-modified-id=\"Исследовательский-анализ-данных-4\"><span class=\"toc-item-num\">4&nbsp;&nbsp;</span>Исследовательский анализ данных</a></span></li><li><span><a href=\"#Общий-вывод\" data-toc-modified-id=\"Общий-вывод-5\"><span class=\"toc-item-num\">5&nbsp;&nbsp;</span>Общий вывод</a></span></li><li><span><a href=\"#Чек-лист-готовности-проекта\" data-toc-modified-id=\"Чек-лист-готовности-проекта-6\"><span class=\"toc-item-num\">6&nbsp;&nbsp;</span>Чек-лист готовности проекта</a></span></li></ul></div>"
   ]
  },
  {
   "cell_type": "markdown",
   "metadata": {},
   "source": [
    "# Исследование объявлений о продаже квартир\n",
    "\n",
    "В вашем распоряжении данные сервиса Яндекc Недвижимость — архив объявлений о продаже квартир в Санкт-Петербурге и соседних населённых пунктах за несколько лет. Нужно научиться определять рыночную стоимость объектов недвижимости. Ваша задача — установить параметры. Это позволит построить автоматизированную систему: она отследит аномалии и мошенническую деятельность. \n",
    "\n",
    "По каждой квартире на продажу доступны два вида данных. Первые вписаны пользователем, вторые получены автоматически на основе картографических данных. Например, расстояние до центра, аэропорта, ближайшего парка и водоёма. "
   ]
  },
  {
   "cell_type": "markdown",
   "metadata": {},
   "source": [
    "## Изучение данных из файла"
   ]
  },
  {
   "cell_type": "code",
   "execution_count": 1,
   "metadata": {},
   "outputs": [],
   "source": [
    "#подключаем библиотеки\n",
    "import pandas as pd\n",
    "import matplotlib.pyplot as plt\n",
    "from IPython.display import display"
   ]
  },
  {
   "cell_type": "code",
   "execution_count": 2,
   "metadata": {},
   "outputs": [
    {
     "data": {
      "text/html": [
       "<div>\n",
       "<style scoped>\n",
       "    .dataframe tbody tr th:only-of-type {\n",
       "        vertical-align: middle;\n",
       "    }\n",
       "\n",
       "    .dataframe tbody tr th {\n",
       "        vertical-align: top;\n",
       "    }\n",
       "\n",
       "    .dataframe thead th {\n",
       "        text-align: right;\n",
       "    }\n",
       "</style>\n",
       "<table border=\"1\" class=\"dataframe\">\n",
       "  <thead>\n",
       "    <tr style=\"text-align: right;\">\n",
       "      <th></th>\n",
       "      <th>total_images</th>\n",
       "      <th>last_price</th>\n",
       "      <th>total_area</th>\n",
       "      <th>first_day_exposition</th>\n",
       "      <th>rooms</th>\n",
       "      <th>ceiling_height</th>\n",
       "      <th>floors_total</th>\n",
       "      <th>living_area</th>\n",
       "      <th>floor</th>\n",
       "      <th>is_apartment</th>\n",
       "      <th>...</th>\n",
       "      <th>kitchen_area</th>\n",
       "      <th>balcony</th>\n",
       "      <th>locality_name</th>\n",
       "      <th>airports_nearest</th>\n",
       "      <th>cityCenters_nearest</th>\n",
       "      <th>parks_around3000</th>\n",
       "      <th>parks_nearest</th>\n",
       "      <th>ponds_around3000</th>\n",
       "      <th>ponds_nearest</th>\n",
       "      <th>days_exposition</th>\n",
       "    </tr>\n",
       "  </thead>\n",
       "  <tbody>\n",
       "    <tr>\n",
       "      <th>0</th>\n",
       "      <td>20</td>\n",
       "      <td>13000000.0</td>\n",
       "      <td>108.00</td>\n",
       "      <td>2019-03-07T00:00:00</td>\n",
       "      <td>3</td>\n",
       "      <td>2.70</td>\n",
       "      <td>16.0</td>\n",
       "      <td>51.00</td>\n",
       "      <td>8</td>\n",
       "      <td>NaN</td>\n",
       "      <td>...</td>\n",
       "      <td>25.00</td>\n",
       "      <td>NaN</td>\n",
       "      <td>Санкт-Петербург</td>\n",
       "      <td>18863.0</td>\n",
       "      <td>16028.0</td>\n",
       "      <td>1.0</td>\n",
       "      <td>482.0</td>\n",
       "      <td>2.0</td>\n",
       "      <td>755.0</td>\n",
       "      <td>NaN</td>\n",
       "    </tr>\n",
       "    <tr>\n",
       "      <th>1</th>\n",
       "      <td>7</td>\n",
       "      <td>3350000.0</td>\n",
       "      <td>40.40</td>\n",
       "      <td>2018-12-04T00:00:00</td>\n",
       "      <td>1</td>\n",
       "      <td>NaN</td>\n",
       "      <td>11.0</td>\n",
       "      <td>18.60</td>\n",
       "      <td>1</td>\n",
       "      <td>NaN</td>\n",
       "      <td>...</td>\n",
       "      <td>11.00</td>\n",
       "      <td>2.0</td>\n",
       "      <td>посёлок Шушары</td>\n",
       "      <td>12817.0</td>\n",
       "      <td>18603.0</td>\n",
       "      <td>0.0</td>\n",
       "      <td>NaN</td>\n",
       "      <td>0.0</td>\n",
       "      <td>NaN</td>\n",
       "      <td>81.0</td>\n",
       "    </tr>\n",
       "    <tr>\n",
       "      <th>2</th>\n",
       "      <td>10</td>\n",
       "      <td>5196000.0</td>\n",
       "      <td>56.00</td>\n",
       "      <td>2015-08-20T00:00:00</td>\n",
       "      <td>2</td>\n",
       "      <td>NaN</td>\n",
       "      <td>5.0</td>\n",
       "      <td>34.30</td>\n",
       "      <td>4</td>\n",
       "      <td>NaN</td>\n",
       "      <td>...</td>\n",
       "      <td>8.30</td>\n",
       "      <td>0.0</td>\n",
       "      <td>Санкт-Петербург</td>\n",
       "      <td>21741.0</td>\n",
       "      <td>13933.0</td>\n",
       "      <td>1.0</td>\n",
       "      <td>90.0</td>\n",
       "      <td>2.0</td>\n",
       "      <td>574.0</td>\n",
       "      <td>558.0</td>\n",
       "    </tr>\n",
       "    <tr>\n",
       "      <th>3</th>\n",
       "      <td>0</td>\n",
       "      <td>64900000.0</td>\n",
       "      <td>159.00</td>\n",
       "      <td>2015-07-24T00:00:00</td>\n",
       "      <td>3</td>\n",
       "      <td>NaN</td>\n",
       "      <td>14.0</td>\n",
       "      <td>NaN</td>\n",
       "      <td>9</td>\n",
       "      <td>NaN</td>\n",
       "      <td>...</td>\n",
       "      <td>NaN</td>\n",
       "      <td>0.0</td>\n",
       "      <td>Санкт-Петербург</td>\n",
       "      <td>28098.0</td>\n",
       "      <td>6800.0</td>\n",
       "      <td>2.0</td>\n",
       "      <td>84.0</td>\n",
       "      <td>3.0</td>\n",
       "      <td>234.0</td>\n",
       "      <td>424.0</td>\n",
       "    </tr>\n",
       "    <tr>\n",
       "      <th>4</th>\n",
       "      <td>2</td>\n",
       "      <td>10000000.0</td>\n",
       "      <td>100.00</td>\n",
       "      <td>2018-06-19T00:00:00</td>\n",
       "      <td>2</td>\n",
       "      <td>3.03</td>\n",
       "      <td>14.0</td>\n",
       "      <td>32.00</td>\n",
       "      <td>13</td>\n",
       "      <td>NaN</td>\n",
       "      <td>...</td>\n",
       "      <td>41.00</td>\n",
       "      <td>NaN</td>\n",
       "      <td>Санкт-Петербург</td>\n",
       "      <td>31856.0</td>\n",
       "      <td>8098.0</td>\n",
       "      <td>2.0</td>\n",
       "      <td>112.0</td>\n",
       "      <td>1.0</td>\n",
       "      <td>48.0</td>\n",
       "      <td>121.0</td>\n",
       "    </tr>\n",
       "    <tr>\n",
       "      <th>5</th>\n",
       "      <td>10</td>\n",
       "      <td>2890000.0</td>\n",
       "      <td>30.40</td>\n",
       "      <td>2018-09-10T00:00:00</td>\n",
       "      <td>1</td>\n",
       "      <td>NaN</td>\n",
       "      <td>12.0</td>\n",
       "      <td>14.40</td>\n",
       "      <td>5</td>\n",
       "      <td>NaN</td>\n",
       "      <td>...</td>\n",
       "      <td>9.10</td>\n",
       "      <td>NaN</td>\n",
       "      <td>городской посёлок Янино-1</td>\n",
       "      <td>NaN</td>\n",
       "      <td>NaN</td>\n",
       "      <td>NaN</td>\n",
       "      <td>NaN</td>\n",
       "      <td>NaN</td>\n",
       "      <td>NaN</td>\n",
       "      <td>55.0</td>\n",
       "    </tr>\n",
       "    <tr>\n",
       "      <th>6</th>\n",
       "      <td>6</td>\n",
       "      <td>3700000.0</td>\n",
       "      <td>37.30</td>\n",
       "      <td>2017-11-02T00:00:00</td>\n",
       "      <td>1</td>\n",
       "      <td>NaN</td>\n",
       "      <td>26.0</td>\n",
       "      <td>10.60</td>\n",
       "      <td>6</td>\n",
       "      <td>NaN</td>\n",
       "      <td>...</td>\n",
       "      <td>14.40</td>\n",
       "      <td>1.0</td>\n",
       "      <td>посёлок Парголово</td>\n",
       "      <td>52996.0</td>\n",
       "      <td>19143.0</td>\n",
       "      <td>0.0</td>\n",
       "      <td>NaN</td>\n",
       "      <td>0.0</td>\n",
       "      <td>NaN</td>\n",
       "      <td>155.0</td>\n",
       "    </tr>\n",
       "    <tr>\n",
       "      <th>7</th>\n",
       "      <td>5</td>\n",
       "      <td>7915000.0</td>\n",
       "      <td>71.60</td>\n",
       "      <td>2019-04-18T00:00:00</td>\n",
       "      <td>2</td>\n",
       "      <td>NaN</td>\n",
       "      <td>24.0</td>\n",
       "      <td>NaN</td>\n",
       "      <td>22</td>\n",
       "      <td>NaN</td>\n",
       "      <td>...</td>\n",
       "      <td>18.90</td>\n",
       "      <td>2.0</td>\n",
       "      <td>Санкт-Петербург</td>\n",
       "      <td>23982.0</td>\n",
       "      <td>11634.0</td>\n",
       "      <td>0.0</td>\n",
       "      <td>NaN</td>\n",
       "      <td>0.0</td>\n",
       "      <td>NaN</td>\n",
       "      <td>NaN</td>\n",
       "    </tr>\n",
       "    <tr>\n",
       "      <th>8</th>\n",
       "      <td>20</td>\n",
       "      <td>2900000.0</td>\n",
       "      <td>33.16</td>\n",
       "      <td>2018-05-23T00:00:00</td>\n",
       "      <td>1</td>\n",
       "      <td>NaN</td>\n",
       "      <td>27.0</td>\n",
       "      <td>15.43</td>\n",
       "      <td>26</td>\n",
       "      <td>NaN</td>\n",
       "      <td>...</td>\n",
       "      <td>8.81</td>\n",
       "      <td>NaN</td>\n",
       "      <td>посёлок Мурино</td>\n",
       "      <td>NaN</td>\n",
       "      <td>NaN</td>\n",
       "      <td>NaN</td>\n",
       "      <td>NaN</td>\n",
       "      <td>NaN</td>\n",
       "      <td>NaN</td>\n",
       "      <td>189.0</td>\n",
       "    </tr>\n",
       "    <tr>\n",
       "      <th>9</th>\n",
       "      <td>18</td>\n",
       "      <td>5400000.0</td>\n",
       "      <td>61.00</td>\n",
       "      <td>2017-02-26T00:00:00</td>\n",
       "      <td>3</td>\n",
       "      <td>2.50</td>\n",
       "      <td>9.0</td>\n",
       "      <td>43.60</td>\n",
       "      <td>7</td>\n",
       "      <td>NaN</td>\n",
       "      <td>...</td>\n",
       "      <td>6.50</td>\n",
       "      <td>2.0</td>\n",
       "      <td>Санкт-Петербург</td>\n",
       "      <td>50898.0</td>\n",
       "      <td>15008.0</td>\n",
       "      <td>0.0</td>\n",
       "      <td>NaN</td>\n",
       "      <td>0.0</td>\n",
       "      <td>NaN</td>\n",
       "      <td>289.0</td>\n",
       "    </tr>\n",
       "  </tbody>\n",
       "</table>\n",
       "<p>10 rows × 22 columns</p>\n",
       "</div>"
      ],
      "text/plain": [
       "   total_images  last_price  total_area first_day_exposition  rooms  \\\n",
       "0            20  13000000.0      108.00  2019-03-07T00:00:00      3   \n",
       "1             7   3350000.0       40.40  2018-12-04T00:00:00      1   \n",
       "2            10   5196000.0       56.00  2015-08-20T00:00:00      2   \n",
       "3             0  64900000.0      159.00  2015-07-24T00:00:00      3   \n",
       "4             2  10000000.0      100.00  2018-06-19T00:00:00      2   \n",
       "5            10   2890000.0       30.40  2018-09-10T00:00:00      1   \n",
       "6             6   3700000.0       37.30  2017-11-02T00:00:00      1   \n",
       "7             5   7915000.0       71.60  2019-04-18T00:00:00      2   \n",
       "8            20   2900000.0       33.16  2018-05-23T00:00:00      1   \n",
       "9            18   5400000.0       61.00  2017-02-26T00:00:00      3   \n",
       "\n",
       "   ceiling_height  floors_total  living_area  floor is_apartment  ...  \\\n",
       "0            2.70          16.0        51.00      8          NaN  ...   \n",
       "1             NaN          11.0        18.60      1          NaN  ...   \n",
       "2             NaN           5.0        34.30      4          NaN  ...   \n",
       "3             NaN          14.0          NaN      9          NaN  ...   \n",
       "4            3.03          14.0        32.00     13          NaN  ...   \n",
       "5             NaN          12.0        14.40      5          NaN  ...   \n",
       "6             NaN          26.0        10.60      6          NaN  ...   \n",
       "7             NaN          24.0          NaN     22          NaN  ...   \n",
       "8             NaN          27.0        15.43     26          NaN  ...   \n",
       "9            2.50           9.0        43.60      7          NaN  ...   \n",
       "\n",
       "   kitchen_area  balcony              locality_name  airports_nearest  \\\n",
       "0         25.00      NaN            Санкт-Петербург           18863.0   \n",
       "1         11.00      2.0             посёлок Шушары           12817.0   \n",
       "2          8.30      0.0            Санкт-Петербург           21741.0   \n",
       "3           NaN      0.0            Санкт-Петербург           28098.0   \n",
       "4         41.00      NaN            Санкт-Петербург           31856.0   \n",
       "5          9.10      NaN  городской посёлок Янино-1               NaN   \n",
       "6         14.40      1.0          посёлок Парголово           52996.0   \n",
       "7         18.90      2.0            Санкт-Петербург           23982.0   \n",
       "8          8.81      NaN             посёлок Мурино               NaN   \n",
       "9          6.50      2.0            Санкт-Петербург           50898.0   \n",
       "\n",
       "  cityCenters_nearest  parks_around3000  parks_nearest  ponds_around3000  \\\n",
       "0             16028.0               1.0          482.0               2.0   \n",
       "1             18603.0               0.0            NaN               0.0   \n",
       "2             13933.0               1.0           90.0               2.0   \n",
       "3              6800.0               2.0           84.0               3.0   \n",
       "4              8098.0               2.0          112.0               1.0   \n",
       "5                 NaN               NaN            NaN               NaN   \n",
       "6             19143.0               0.0            NaN               0.0   \n",
       "7             11634.0               0.0            NaN               0.0   \n",
       "8                 NaN               NaN            NaN               NaN   \n",
       "9             15008.0               0.0            NaN               0.0   \n",
       "\n",
       "   ponds_nearest  days_exposition  \n",
       "0          755.0              NaN  \n",
       "1            NaN             81.0  \n",
       "2          574.0            558.0  \n",
       "3          234.0            424.0  \n",
       "4           48.0            121.0  \n",
       "5            NaN             55.0  \n",
       "6            NaN            155.0  \n",
       "7            NaN              NaN  \n",
       "8            NaN            189.0  \n",
       "9            NaN            289.0  \n",
       "\n",
       "[10 rows x 22 columns]"
      ]
     },
     "metadata": {},
     "output_type": "display_data"
    }
   ],
   "source": [
    "# читаем данные из .csv файла с помощью метода read_csv()\n",
    "real_estate = pd.read_csv('/datasets/real_estate_data.csv',sep='\\t')\n",
    "# выведем первые 10 строк таблицы с помощью метода head()\n",
    "display(real_estate.head(10))"
   ]
  },
  {
   "cell_type": "code",
   "execution_count": 3,
   "metadata": {},
   "outputs": [
    {
     "name": "stdout",
     "output_type": "stream",
     "text": [
      "<class 'pandas.core.frame.DataFrame'>\n",
      "RangeIndex: 23699 entries, 0 to 23698\n",
      "Data columns (total 22 columns):\n",
      " #   Column                Non-Null Count  Dtype  \n",
      "---  ------                --------------  -----  \n",
      " 0   total_images          23699 non-null  int64  \n",
      " 1   last_price            23699 non-null  float64\n",
      " 2   total_area            23699 non-null  float64\n",
      " 3   first_day_exposition  23699 non-null  object \n",
      " 4   rooms                 23699 non-null  int64  \n",
      " 5   ceiling_height        14504 non-null  float64\n",
      " 6   floors_total          23613 non-null  float64\n",
      " 7   living_area           21796 non-null  float64\n",
      " 8   floor                 23699 non-null  int64  \n",
      " 9   is_apartment          2775 non-null   object \n",
      " 10  studio                23699 non-null  bool   \n",
      " 11  open_plan             23699 non-null  bool   \n",
      " 12  kitchen_area          21421 non-null  float64\n",
      " 13  balcony               12180 non-null  float64\n",
      " 14  locality_name         23650 non-null  object \n",
      " 15  airports_nearest      18157 non-null  float64\n",
      " 16  cityCenters_nearest   18180 non-null  float64\n",
      " 17  parks_around3000      18181 non-null  float64\n",
      " 18  parks_nearest         8079 non-null   float64\n",
      " 19  ponds_around3000      18181 non-null  float64\n",
      " 20  ponds_nearest         9110 non-null   float64\n",
      " 21  days_exposition       20518 non-null  float64\n",
      "dtypes: bool(2), float64(14), int64(3), object(3)\n",
      "memory usage: 3.7+ MB\n"
     ]
    }
   ],
   "source": [
    "# с помощью метода info() изучим структуру таблицы: типы данных, колличество строк, столбцов, пропущенных данных.\n",
    "real_estate.info()"
   ]
  },
  {
   "cell_type": "markdown",
   "metadata": {},
   "source": [
    "### Вывод"
   ]
  },
  {
   "cell_type": "markdown",
   "metadata": {},
   "source": [
    "Данные успешно прочитаны из .csv файла и сохранены в переменной real_estate. Данные представляют собой 22 переменные и 23699 записей. Обнаружено достаточно много пропущенных данных в столбцах ceiling_height, is_apartment, balcony, parks_nearest, ponds_nearest и др. Далее рассмотрим каждый отдельный столбец данных для обработки пропущенных и недостоверных значений."
   ]
  },
  {
   "cell_type": "code",
   "execution_count": 4,
   "metadata": {},
   "outputs": [],
   "source": [
    "# пропущенные значения бары\n",
    "\n",
    "def pass_value(df):\n",
    "    (\n",
    "        (df.isna().mean()*100)\n",
    "        .to_frame()\n",
    "        .rename(columns = {0:'space'})\n",
    "        .query('space > 0')\n",
    "        .sort_values(by = 'space', ascending = True)\n",
    "        .plot(kind= 'barh', figsize=(19,6), rot = 0, legend = False, fontsize = 16)\n",
    "        .set_title('Пример' + \"\\n\", fontsize = 22, color = 'SteelBlue')    \n",
    "    );    "
   ]
  },
  {
   "cell_type": "code",
   "execution_count": 5,
   "metadata": {},
   "outputs": [
    {
     "data": {
      "image/png": "[encoded data removed]",
      "text/plain": [
       "<Figure size 1368x432 with 1 Axes>"
      ]
     },
     "metadata": {
      "needs_background": "light"
     },
     "output_type": "display_data"
    }
   ],
   "source": [
    "pass_value(real_estate)"
   ]
  },
  {
   "cell_type": "markdown",
   "metadata": {},
   "source": [
    "## Предобработка данных"
   ]
  },
  {
   "cell_type": "markdown",
   "metadata": {},
   "source": [
    "Рассмотрим данные в столбцах для выявления пропущенных и недостоверных данных.\n",
    "\n",
    "Начнём с колличества комнат (столбец rooms)."
   ]
  },
  {
   "cell_type": "code",
   "execution_count": 6,
   "metadata": {},
   "outputs": [
    {
     "data": {
      "text/plain": [
       "1     8047\n",
       "2     7940\n",
       "3     5814\n",
       "4     1180\n",
       "5      326\n",
       "0      197\n",
       "6      105\n",
       "7       59\n",
       "8       12\n",
       "9        8\n",
       "10       3\n",
       "11       2\n",
       "14       2\n",
       "19       1\n",
       "16       1\n",
       "12       1\n",
       "15       1\n",
       "Name: rooms, dtype: int64"
      ]
     },
     "metadata": {},
     "output_type": "display_data"
    }
   ],
   "source": [
    "# рассмотрим распределение колличества комнат в таблице методом value_counts()\n",
    "display(real_estate['rooms'].value_counts())"
   ]
  },
  {
   "cell_type": "markdown",
   "metadata": {},
   "source": [
    "Колличество комнат не может быть равно 0 (таких значений 197). Скорее всего эти данные не были заполнены, или 0 внесли по ошибке. Взглянем на общую площадь квартир таких объявлений. Построим гистаграмму распределения total_area при rooms = 0."
   ]
  },
  {
   "cell_type": "code",
   "execution_count": 7,
   "metadata": {},
   "outputs": [
    {
     "data": {
      "text/plain": [
       "array([[<AxesSubplot:title={'center':'total_area'}>]], dtype=object)"
      ]
     },
     "execution_count": 7,
     "metadata": {},
     "output_type": "execute_result"
    },
    {
     "data": {
      "image/png": "[encoded data removed]",
      "text/plain": [
       "<Figure size 432x288 with 1 Axes>"
      ]
     },
     "metadata": {
      "needs_background": "light"
     },
     "output_type": "display_data"
    }
   ],
   "source": [
    "# методом loc[] выделим строки с 'rooms' == 0, построим гистаграмму распределения 'total_area' методом hist().\n",
    "# разделим гистограмму на 30 участков (параметр bins=30), ограничимся значением 'total_area' < 50 (м²)\n",
    "real_estate.loc[real_estate['rooms'] == 0].hist('total_area', bins=30, range=(0, 50))"
   ]
  },
  {
   "cell_type": "markdown",
   "metadata": {},
   "source": [
    "Квартиры с площадью меньше 40 м² скорее всего однокомнатные. Заменим значение rooms в таких объявлениях на 1.\n",
    "В квартирах с большей площадью сложно судить о колличестве комнат. Оставим в таких записях нули и запомним, что колличество комнат в них неизвестно."
   ]
  },
  {
   "cell_type": "code",
   "execution_count": 8,
   "metadata": {},
   "outputs": [
    {
     "name": "stdout",
     "output_type": "stream",
     "text": [
      "Колличество объявлений с нулевым колличеством комнат: 9\n"
     ]
    }
   ],
   "source": [
    "# В срезе данных где `rooms` = 0 и `total_area` < 40 запишем: `rooms` = 1.\n",
    "real_estate.loc[(real_estate['rooms'] == 0) & (real_estate['total_area'] < 40), 'rooms'] = 1\n",
    "# Выведем колличество оставшихся записей с нулевым значением `rooms`\n",
    "print('Колличество объявлений с нулевым колличеством комнат:', len(real_estate.loc[(real_estate['rooms'] == 0)]))"
   ]
  },
  {
   "cell_type": "markdown",
   "metadata": {},
   "source": [
    "Рассмотрим цену квартир в столбце last_price.\n",
    "В данном столбце нет пропусков, но тип данных можно заменить на целый. Дробная часть не вносит искажение в данные, но целый тип данных занимает меньше места"
   ]
  },
  {
   "cell_type": "code",
   "execution_count": 9,
   "metadata": {},
   "outputs": [],
   "source": [
    "real_estate['last_price'] = real_estate['last_price'].astype('int64')"
   ]
  },
  {
   "cell_type": "markdown",
   "metadata": {},
   "source": [
    "Рассмотрим дату публикации в столбце first_day_exposition.\n",
    "Данные представляют собой дату публикации объявления. Преобразуем тип данных из object в datetime с помощью метода to_datetime."
   ]
  },
  {
   "cell_type": "code",
   "execution_count": 10,
   "metadata": {},
   "outputs": [],
   "source": [
    "# формат даты передадим методу to_datetime с помощью параметра format.\n",
    "real_estate['first_day_exposition'] = pd.to_datetime(real_estate['first_day_exposition'], format='%Y-%m-%dT%H:%M:%S')"
   ]
  },
  {
   "cell_type": "markdown",
   "metadata": {},
   "source": [
    "Рассмотрим высоту потолков в столбце ceiling_height"
   ]
  },
  {
   "cell_type": "code",
   "execution_count": 11,
   "metadata": {},
   "outputs": [
    {
     "name": "stdout",
     "output_type": "stream",
     "text": [
      "Колличество пропущенных значений в ceiling_height: 9195\n"
     ]
    }
   ],
   "source": [
    "print('Колличество пропущенных значений в ceiling_height:', len(real_estate.loc[real_estate['ceiling_height'].isna()]))"
   ]
  },
  {
   "cell_type": "markdown",
   "metadata": {},
   "source": [
    "Пропущено много данных (почти 50%), удалить их нельзя. Возможно информация утеряна в результатее сбоя системы при загрузке/выгрузке базы данных.\n",
    "Пропуски можно было бы заменить на значения из других объявлений в тех же домах, но информации об адресах квартир в нет.\n",
    "Замена значений на средние или медианные может внести искажения в распределение данных. При возможности, необходимо восстановить данные по адресам домов или обратиться к владельцам данных.\n",
    "На данном этапе оставим значения пустыми."
   ]
  },
  {
   "cell_type": "markdown",
   "metadata": {},
   "source": [
    "Рассмотрим общее колличество этажей в доме в столбце floors_total."
   ]
  },
  {
   "cell_type": "code",
   "execution_count": 12,
   "metadata": {},
   "outputs": [
    {
     "name": "stdout",
     "output_type": "stream",
     "text": [
      "Колличество пропущенных значений в floors_total: 86\n"
     ]
    },
    {
     "data": {
      "text/html": [
       "<div>\n",
       "<style scoped>\n",
       "    .dataframe tbody tr th:only-of-type {\n",
       "        vertical-align: middle;\n",
       "    }\n",
       "\n",
       "    .dataframe tbody tr th {\n",
       "        vertical-align: top;\n",
       "    }\n",
       "\n",
       "    .dataframe thead th {\n",
       "        text-align: right;\n",
       "    }\n",
       "</style>\n",
       "<table border=\"1\" class=\"dataframe\">\n",
       "  <thead>\n",
       "    <tr style=\"text-align: right;\">\n",
       "      <th></th>\n",
       "      <th>total_images</th>\n",
       "      <th>last_price</th>\n",
       "      <th>total_area</th>\n",
       "      <th>first_day_exposition</th>\n",
       "      <th>rooms</th>\n",
       "      <th>ceiling_height</th>\n",
       "      <th>floors_total</th>\n",
       "      <th>living_area</th>\n",
       "      <th>floor</th>\n",
       "      <th>is_apartment</th>\n",
       "      <th>...</th>\n",
       "      <th>kitchen_area</th>\n",
       "      <th>balcony</th>\n",
       "      <th>locality_name</th>\n",
       "      <th>airports_nearest</th>\n",
       "      <th>cityCenters_nearest</th>\n",
       "      <th>parks_around3000</th>\n",
       "      <th>parks_nearest</th>\n",
       "      <th>ponds_around3000</th>\n",
       "      <th>ponds_nearest</th>\n",
       "      <th>days_exposition</th>\n",
       "    </tr>\n",
       "  </thead>\n",
       "  <tbody>\n",
       "    <tr>\n",
       "      <th>186</th>\n",
       "      <td>12</td>\n",
       "      <td>11640000</td>\n",
       "      <td>65.20</td>\n",
       "      <td>2018-10-02</td>\n",
       "      <td>2</td>\n",
       "      <td>NaN</td>\n",
       "      <td>NaN</td>\n",
       "      <td>30.80</td>\n",
       "      <td>4</td>\n",
       "      <td>NaN</td>\n",
       "      <td>...</td>\n",
       "      <td>12.00</td>\n",
       "      <td>NaN</td>\n",
       "      <td>Санкт-Петербург</td>\n",
       "      <td>39197.0</td>\n",
       "      <td>12373.0</td>\n",
       "      <td>1.0</td>\n",
       "      <td>123.0</td>\n",
       "      <td>0.0</td>\n",
       "      <td>NaN</td>\n",
       "      <td>49.0</td>\n",
       "    </tr>\n",
       "    <tr>\n",
       "      <th>237</th>\n",
       "      <td>4</td>\n",
       "      <td>2438033</td>\n",
       "      <td>28.10</td>\n",
       "      <td>2016-11-23</td>\n",
       "      <td>1</td>\n",
       "      <td>NaN</td>\n",
       "      <td>NaN</td>\n",
       "      <td>20.75</td>\n",
       "      <td>1</td>\n",
       "      <td>NaN</td>\n",
       "      <td>...</td>\n",
       "      <td>NaN</td>\n",
       "      <td>0.0</td>\n",
       "      <td>Санкт-Петербург</td>\n",
       "      <td>22041.0</td>\n",
       "      <td>17369.0</td>\n",
       "      <td>0.0</td>\n",
       "      <td>NaN</td>\n",
       "      <td>1.0</td>\n",
       "      <td>374.0</td>\n",
       "      <td>251.0</td>\n",
       "    </tr>\n",
       "    <tr>\n",
       "      <th>457</th>\n",
       "      <td>4</td>\n",
       "      <td>9788348</td>\n",
       "      <td>70.80</td>\n",
       "      <td>2015-08-01</td>\n",
       "      <td>2</td>\n",
       "      <td>NaN</td>\n",
       "      <td>NaN</td>\n",
       "      <td>38.40</td>\n",
       "      <td>12</td>\n",
       "      <td>NaN</td>\n",
       "      <td>...</td>\n",
       "      <td>10.63</td>\n",
       "      <td>0.0</td>\n",
       "      <td>Санкт-Петербург</td>\n",
       "      <td>37364.0</td>\n",
       "      <td>8322.0</td>\n",
       "      <td>2.0</td>\n",
       "      <td>309.0</td>\n",
       "      <td>2.0</td>\n",
       "      <td>706.0</td>\n",
       "      <td>727.0</td>\n",
       "    </tr>\n",
       "    <tr>\n",
       "      <th>671</th>\n",
       "      <td>4</td>\n",
       "      <td>6051191</td>\n",
       "      <td>93.60</td>\n",
       "      <td>2017-04-06</td>\n",
       "      <td>3</td>\n",
       "      <td>NaN</td>\n",
       "      <td>NaN</td>\n",
       "      <td>47.10</td>\n",
       "      <td>8</td>\n",
       "      <td>NaN</td>\n",
       "      <td>...</td>\n",
       "      <td>16.80</td>\n",
       "      <td>0.0</td>\n",
       "      <td>Санкт-Петербург</td>\n",
       "      <td>22041.0</td>\n",
       "      <td>17369.0</td>\n",
       "      <td>0.0</td>\n",
       "      <td>NaN</td>\n",
       "      <td>1.0</td>\n",
       "      <td>374.0</td>\n",
       "      <td>123.0</td>\n",
       "    </tr>\n",
       "    <tr>\n",
       "      <th>1757</th>\n",
       "      <td>5</td>\n",
       "      <td>3600000</td>\n",
       "      <td>39.00</td>\n",
       "      <td>2017-04-22</td>\n",
       "      <td>1</td>\n",
       "      <td>NaN</td>\n",
       "      <td>NaN</td>\n",
       "      <td>NaN</td>\n",
       "      <td>9</td>\n",
       "      <td>NaN</td>\n",
       "      <td>...</td>\n",
       "      <td>NaN</td>\n",
       "      <td>0.0</td>\n",
       "      <td>Санкт-Петербург</td>\n",
       "      <td>22735.0</td>\n",
       "      <td>11618.0</td>\n",
       "      <td>1.0</td>\n",
       "      <td>835.0</td>\n",
       "      <td>1.0</td>\n",
       "      <td>652.0</td>\n",
       "      <td>77.0</td>\n",
       "    </tr>\n",
       "    <tr>\n",
       "      <th>1930</th>\n",
       "      <td>1</td>\n",
       "      <td>9750000</td>\n",
       "      <td>66.77</td>\n",
       "      <td>2016-05-13</td>\n",
       "      <td>2</td>\n",
       "      <td>NaN</td>\n",
       "      <td>NaN</td>\n",
       "      <td>NaN</td>\n",
       "      <td>4</td>\n",
       "      <td>NaN</td>\n",
       "      <td>...</td>\n",
       "      <td>NaN</td>\n",
       "      <td>0.0</td>\n",
       "      <td>Санкт-Петербург</td>\n",
       "      <td>39886.0</td>\n",
       "      <td>10660.0</td>\n",
       "      <td>1.0</td>\n",
       "      <td>2276.0</td>\n",
       "      <td>3.0</td>\n",
       "      <td>244.0</td>\n",
       "      <td>90.0</td>\n",
       "    </tr>\n",
       "    <tr>\n",
       "      <th>2392</th>\n",
       "      <td>7</td>\n",
       "      <td>5395770</td>\n",
       "      <td>53.00</td>\n",
       "      <td>2017-06-29</td>\n",
       "      <td>2</td>\n",
       "      <td>NaN</td>\n",
       "      <td>NaN</td>\n",
       "      <td>29.00</td>\n",
       "      <td>22</td>\n",
       "      <td>NaN</td>\n",
       "      <td>...</td>\n",
       "      <td>9.00</td>\n",
       "      <td>0.0</td>\n",
       "      <td>Санкт-Петербург</td>\n",
       "      <td>43074.0</td>\n",
       "      <td>10820.0</td>\n",
       "      <td>0.0</td>\n",
       "      <td>NaN</td>\n",
       "      <td>0.0</td>\n",
       "      <td>NaN</td>\n",
       "      <td>48.0</td>\n",
       "    </tr>\n",
       "    <tr>\n",
       "      <th>2846</th>\n",
       "      <td>4</td>\n",
       "      <td>2325000</td>\n",
       "      <td>27.80</td>\n",
       "      <td>2016-09-21</td>\n",
       "      <td>1</td>\n",
       "      <td>NaN</td>\n",
       "      <td>NaN</td>\n",
       "      <td>19.40</td>\n",
       "      <td>15</td>\n",
       "      <td>NaN</td>\n",
       "      <td>...</td>\n",
       "      <td>NaN</td>\n",
       "      <td>0.0</td>\n",
       "      <td>Санкт-Петербург</td>\n",
       "      <td>22041.0</td>\n",
       "      <td>17369.0</td>\n",
       "      <td>0.0</td>\n",
       "      <td>NaN</td>\n",
       "      <td>1.0</td>\n",
       "      <td>374.0</td>\n",
       "      <td>307.0</td>\n",
       "    </tr>\n",
       "    <tr>\n",
       "      <th>2952</th>\n",
       "      <td>10</td>\n",
       "      <td>6500000</td>\n",
       "      <td>54.30</td>\n",
       "      <td>2019-04-23</td>\n",
       "      <td>1</td>\n",
       "      <td>NaN</td>\n",
       "      <td>NaN</td>\n",
       "      <td>22.20</td>\n",
       "      <td>6</td>\n",
       "      <td>NaN</td>\n",
       "      <td>...</td>\n",
       "      <td>12.30</td>\n",
       "      <td>NaN</td>\n",
       "      <td>Санкт-Петербург</td>\n",
       "      <td>23606.0</td>\n",
       "      <td>3148.0</td>\n",
       "      <td>0.0</td>\n",
       "      <td>NaN</td>\n",
       "      <td>0.0</td>\n",
       "      <td>NaN</td>\n",
       "      <td>NaN</td>\n",
       "    </tr>\n",
       "    <tr>\n",
       "      <th>3031</th>\n",
       "      <td>9</td>\n",
       "      <td>6400000</td>\n",
       "      <td>56.70</td>\n",
       "      <td>2018-03-27</td>\n",
       "      <td>2</td>\n",
       "      <td>NaN</td>\n",
       "      <td>NaN</td>\n",
       "      <td>32.00</td>\n",
       "      <td>12</td>\n",
       "      <td>NaN</td>\n",
       "      <td>...</td>\n",
       "      <td>12.00</td>\n",
       "      <td>NaN</td>\n",
       "      <td>Кудрово</td>\n",
       "      <td>NaN</td>\n",
       "      <td>NaN</td>\n",
       "      <td>NaN</td>\n",
       "      <td>NaN</td>\n",
       "      <td>NaN</td>\n",
       "      <td>NaN</td>\n",
       "      <td>231.0</td>\n",
       "    </tr>\n",
       "  </tbody>\n",
       "</table>\n",
       "<p>10 rows × 22 columns</p>\n",
       "</div>"
      ],
      "text/plain": [
       "      total_images  last_price  total_area first_day_exposition  rooms  \\\n",
       "186             12    11640000       65.20           2018-10-02      2   \n",
       "237              4     2438033       28.10           2016-11-23      1   \n",
       "457              4     9788348       70.80           2015-08-01      2   \n",
       "671              4     6051191       93.60           2017-04-06      3   \n",
       "1757             5     3600000       39.00           2017-04-22      1   \n",
       "1930             1     9750000       66.77           2016-05-13      2   \n",
       "2392             7     5395770       53.00           2017-06-29      2   \n",
       "2846             4     2325000       27.80           2016-09-21      1   \n",
       "2952            10     6500000       54.30           2019-04-23      1   \n",
       "3031             9     6400000       56.70           2018-03-27      2   \n",
       "\n",
       "      ceiling_height  floors_total  living_area  floor is_apartment  ...  \\\n",
       "186              NaN           NaN        30.80      4          NaN  ...   \n",
       "237              NaN           NaN        20.75      1          NaN  ...   \n",
       "457              NaN           NaN        38.40     12          NaN  ...   \n",
       "671              NaN           NaN        47.10      8          NaN  ...   \n",
       "1757             NaN           NaN          NaN      9          NaN  ...   \n",
       "1930             NaN           NaN          NaN      4          NaN  ...   \n",
       "2392             NaN           NaN        29.00     22          NaN  ...   \n",
       "2846             NaN           NaN        19.40     15          NaN  ...   \n",
       "2952             NaN           NaN        22.20      6          NaN  ...   \n",
       "3031             NaN           NaN        32.00     12          NaN  ...   \n",
       "\n",
       "      kitchen_area  balcony    locality_name  airports_nearest  \\\n",
       "186          12.00      NaN  Санкт-Петербург           39197.0   \n",
       "237            NaN      0.0  Санкт-Петербург           22041.0   \n",
       "457          10.63      0.0  Санкт-Петербург           37364.0   \n",
       "671          16.80      0.0  Санкт-Петербург           22041.0   \n",
       "1757           NaN      0.0  Санкт-Петербург           22735.0   \n",
       "1930           NaN      0.0  Санкт-Петербург           39886.0   \n",
       "2392          9.00      0.0  Санкт-Петербург           43074.0   \n",
       "2846           NaN      0.0  Санкт-Петербург           22041.0   \n",
       "2952         12.30      NaN  Санкт-Петербург           23606.0   \n",
       "3031         12.00      NaN          Кудрово               NaN   \n",
       "\n",
       "     cityCenters_nearest  parks_around3000  parks_nearest  ponds_around3000  \\\n",
       "186              12373.0               1.0          123.0               0.0   \n",
       "237              17369.0               0.0            NaN               1.0   \n",
       "457               8322.0               2.0          309.0               2.0   \n",
       "671              17369.0               0.0            NaN               1.0   \n",
       "1757             11618.0               1.0          835.0               1.0   \n",
       "1930             10660.0               1.0         2276.0               3.0   \n",
       "2392             10820.0               0.0            NaN               0.0   \n",
       "2846             17369.0               0.0            NaN               1.0   \n",
       "2952              3148.0               0.0            NaN               0.0   \n",
       "3031                 NaN               NaN            NaN               NaN   \n",
       "\n",
       "      ponds_nearest  days_exposition  \n",
       "186             NaN             49.0  \n",
       "237           374.0            251.0  \n",
       "457           706.0            727.0  \n",
       "671           374.0            123.0  \n",
       "1757          652.0             77.0  \n",
       "1930          244.0             90.0  \n",
       "2392            NaN             48.0  \n",
       "2846          374.0            307.0  \n",
       "2952            NaN              NaN  \n",
       "3031            NaN            231.0  \n",
       "\n",
       "[10 rows x 22 columns]"
      ]
     },
     "metadata": {},
     "output_type": "display_data"
    }
   ],
   "source": [
    "print('Колличество пропущенных значений в floors_total:', len(real_estate.loc[real_estate['floors_total'].isna()]))\n",
    "display(real_estate.loc[real_estate['floors_total'].isna()].head(10))"
   ]
  },
  {
   "cell_type": "markdown",
   "metadata": {},
   "source": [
    "Пропусков немного. Строки с пропущенными значениями нельзя отнести к одной конкретной категории (разные даты заявлений, разные цены и расположения квартир и тд).\n",
    "Данные также могли не внести составители заявления или значения могли быть утеряны в результате сбоя при загрузке данных в базу. Информацию можно восстановить при наличии адреса дома, или при обращении к владельцам данных.\n",
    "Замена небольшого колличества пропусков средним или медианным значением не внесёт сильного искажения в распределение данных. Но такие замены могут внести искажения во влияние расположения квартир на их стоимость (последний этаж - стоимость). На данном этапе удалим строки с пропусками."
   ]
  },
  {
   "cell_type": "code",
   "execution_count": 13,
   "metadata": {},
   "outputs": [
    {
     "name": "stdout",
     "output_type": "stream",
     "text": [
      "Колличество оставшихся записей: 23613\n"
     ]
    }
   ],
   "source": [
    "real_estate = real_estate.loc[~(real_estate['floors_total'].isna())]\n",
    "print('Колличество оставшихся записей:', len(real_estate))"
   ]
  },
  {
   "cell_type": "markdown",
   "metadata": {},
   "source": [
    "Также заметим, что тип данных floors_total вещественный float64. Однако колличество этажей - величина целая. Заменим тип данных на целочисленный int64."
   ]
  },
  {
   "cell_type": "code",
   "execution_count": 14,
   "metadata": {},
   "outputs": [],
   "source": [
    "real_estate['floors_total'] = real_estate['floors_total'].astype('int64')"
   ]
  },
  {
   "cell_type": "markdown",
   "metadata": {},
   "source": [
    "Рассмотрим жилую площадь в столбце living_area"
   ]
  },
  {
   "cell_type": "code",
   "execution_count": 15,
   "metadata": {},
   "outputs": [
    {
     "name": "stdout",
     "output_type": "stream",
     "text": [
      "Колличество пропущенных значений в living_area: 1870\n"
     ]
    },
    {
     "data": {
      "text/html": [
       "<div>\n",
       "<style scoped>\n",
       "    .dataframe tbody tr th:only-of-type {\n",
       "        vertical-align: middle;\n",
       "    }\n",
       "\n",
       "    .dataframe tbody tr th {\n",
       "        vertical-align: top;\n",
       "    }\n",
       "\n",
       "    .dataframe thead th {\n",
       "        text-align: right;\n",
       "    }\n",
       "</style>\n",
       "<table border=\"1\" class=\"dataframe\">\n",
       "  <thead>\n",
       "    <tr style=\"text-align: right;\">\n",
       "      <th></th>\n",
       "      <th>total_images</th>\n",
       "      <th>last_price</th>\n",
       "      <th>total_area</th>\n",
       "      <th>first_day_exposition</th>\n",
       "      <th>rooms</th>\n",
       "      <th>ceiling_height</th>\n",
       "      <th>floors_total</th>\n",
       "      <th>living_area</th>\n",
       "      <th>floor</th>\n",
       "      <th>is_apartment</th>\n",
       "      <th>...</th>\n",
       "      <th>kitchen_area</th>\n",
       "      <th>balcony</th>\n",
       "      <th>locality_name</th>\n",
       "      <th>airports_nearest</th>\n",
       "      <th>cityCenters_nearest</th>\n",
       "      <th>parks_around3000</th>\n",
       "      <th>parks_nearest</th>\n",
       "      <th>ponds_around3000</th>\n",
       "      <th>ponds_nearest</th>\n",
       "      <th>days_exposition</th>\n",
       "    </tr>\n",
       "  </thead>\n",
       "  <tbody>\n",
       "    <tr>\n",
       "      <th>3</th>\n",
       "      <td>0</td>\n",
       "      <td>64900000</td>\n",
       "      <td>159.0</td>\n",
       "      <td>2015-07-24</td>\n",
       "      <td>3</td>\n",
       "      <td>NaN</td>\n",
       "      <td>14</td>\n",
       "      <td>NaN</td>\n",
       "      <td>9</td>\n",
       "      <td>NaN</td>\n",
       "      <td>...</td>\n",
       "      <td>NaN</td>\n",
       "      <td>0.0</td>\n",
       "      <td>Санкт-Петербург</td>\n",
       "      <td>28098.0</td>\n",
       "      <td>6800.0</td>\n",
       "      <td>2.0</td>\n",
       "      <td>84.0</td>\n",
       "      <td>3.0</td>\n",
       "      <td>234.0</td>\n",
       "      <td>424.0</td>\n",
       "    </tr>\n",
       "    <tr>\n",
       "      <th>7</th>\n",
       "      <td>5</td>\n",
       "      <td>7915000</td>\n",
       "      <td>71.6</td>\n",
       "      <td>2019-04-18</td>\n",
       "      <td>2</td>\n",
       "      <td>NaN</td>\n",
       "      <td>24</td>\n",
       "      <td>NaN</td>\n",
       "      <td>22</td>\n",
       "      <td>NaN</td>\n",
       "      <td>...</td>\n",
       "      <td>18.9</td>\n",
       "      <td>2.0</td>\n",
       "      <td>Санкт-Петербург</td>\n",
       "      <td>23982.0</td>\n",
       "      <td>11634.0</td>\n",
       "      <td>0.0</td>\n",
       "      <td>NaN</td>\n",
       "      <td>0.0</td>\n",
       "      <td>NaN</td>\n",
       "      <td>NaN</td>\n",
       "    </tr>\n",
       "    <tr>\n",
       "      <th>30</th>\n",
       "      <td>12</td>\n",
       "      <td>2200000</td>\n",
       "      <td>32.8</td>\n",
       "      <td>2018-02-19</td>\n",
       "      <td>1</td>\n",
       "      <td>NaN</td>\n",
       "      <td>9</td>\n",
       "      <td>NaN</td>\n",
       "      <td>2</td>\n",
       "      <td>NaN</td>\n",
       "      <td>...</td>\n",
       "      <td>NaN</td>\n",
       "      <td>NaN</td>\n",
       "      <td>Коммунар</td>\n",
       "      <td>NaN</td>\n",
       "      <td>NaN</td>\n",
       "      <td>NaN</td>\n",
       "      <td>NaN</td>\n",
       "      <td>NaN</td>\n",
       "      <td>NaN</td>\n",
       "      <td>63.0</td>\n",
       "    </tr>\n",
       "    <tr>\n",
       "      <th>37</th>\n",
       "      <td>10</td>\n",
       "      <td>1990000</td>\n",
       "      <td>45.8</td>\n",
       "      <td>2017-10-28</td>\n",
       "      <td>2</td>\n",
       "      <td>2.5</td>\n",
       "      <td>5</td>\n",
       "      <td>NaN</td>\n",
       "      <td>1</td>\n",
       "      <td>NaN</td>\n",
       "      <td>...</td>\n",
       "      <td>NaN</td>\n",
       "      <td>NaN</td>\n",
       "      <td>поселок городского типа Красный Бор</td>\n",
       "      <td>NaN</td>\n",
       "      <td>NaN</td>\n",
       "      <td>NaN</td>\n",
       "      <td>NaN</td>\n",
       "      <td>NaN</td>\n",
       "      <td>NaN</td>\n",
       "      <td>196.0</td>\n",
       "    </tr>\n",
       "    <tr>\n",
       "      <th>44</th>\n",
       "      <td>13</td>\n",
       "      <td>5350000</td>\n",
       "      <td>40.0</td>\n",
       "      <td>2018-11-18</td>\n",
       "      <td>1</td>\n",
       "      <td>NaN</td>\n",
       "      <td>22</td>\n",
       "      <td>NaN</td>\n",
       "      <td>3</td>\n",
       "      <td>NaN</td>\n",
       "      <td>...</td>\n",
       "      <td>NaN</td>\n",
       "      <td>1.0</td>\n",
       "      <td>Санкт-Петербург</td>\n",
       "      <td>30471.0</td>\n",
       "      <td>11603.0</td>\n",
       "      <td>1.0</td>\n",
       "      <td>620.0</td>\n",
       "      <td>1.0</td>\n",
       "      <td>1152.0</td>\n",
       "      <td>NaN</td>\n",
       "    </tr>\n",
       "    <tr>\n",
       "      <th>59</th>\n",
       "      <td>15</td>\n",
       "      <td>6300000</td>\n",
       "      <td>46.5</td>\n",
       "      <td>2017-03-06</td>\n",
       "      <td>1</td>\n",
       "      <td>NaN</td>\n",
       "      <td>13</td>\n",
       "      <td>NaN</td>\n",
       "      <td>13</td>\n",
       "      <td>NaN</td>\n",
       "      <td>...</td>\n",
       "      <td>NaN</td>\n",
       "      <td>NaN</td>\n",
       "      <td>Санкт-Петербург</td>\n",
       "      <td>11125.0</td>\n",
       "      <td>14501.0</td>\n",
       "      <td>0.0</td>\n",
       "      <td>NaN</td>\n",
       "      <td>0.0</td>\n",
       "      <td>NaN</td>\n",
       "      <td>336.0</td>\n",
       "    </tr>\n",
       "    <tr>\n",
       "      <th>60</th>\n",
       "      <td>3</td>\n",
       "      <td>2740000</td>\n",
       "      <td>35.0</td>\n",
       "      <td>2018-01-01</td>\n",
       "      <td>1</td>\n",
       "      <td>NaN</td>\n",
       "      <td>12</td>\n",
       "      <td>NaN</td>\n",
       "      <td>8</td>\n",
       "      <td>NaN</td>\n",
       "      <td>...</td>\n",
       "      <td>NaN</td>\n",
       "      <td>NaN</td>\n",
       "      <td>посёлок Мурино</td>\n",
       "      <td>NaN</td>\n",
       "      <td>NaN</td>\n",
       "      <td>NaN</td>\n",
       "      <td>NaN</td>\n",
       "      <td>NaN</td>\n",
       "      <td>NaN</td>\n",
       "      <td>11.0</td>\n",
       "    </tr>\n",
       "    <tr>\n",
       "      <th>81</th>\n",
       "      <td>9</td>\n",
       "      <td>10949000</td>\n",
       "      <td>68.0</td>\n",
       "      <td>2018-12-27</td>\n",
       "      <td>1</td>\n",
       "      <td>NaN</td>\n",
       "      <td>10</td>\n",
       "      <td>NaN</td>\n",
       "      <td>6</td>\n",
       "      <td>NaN</td>\n",
       "      <td>...</td>\n",
       "      <td>NaN</td>\n",
       "      <td>NaN</td>\n",
       "      <td>Санкт-Петербург</td>\n",
       "      <td>NaN</td>\n",
       "      <td>NaN</td>\n",
       "      <td>NaN</td>\n",
       "      <td>NaN</td>\n",
       "      <td>NaN</td>\n",
       "      <td>NaN</td>\n",
       "      <td>NaN</td>\n",
       "    </tr>\n",
       "    <tr>\n",
       "      <th>82</th>\n",
       "      <td>3</td>\n",
       "      <td>4500000</td>\n",
       "      <td>80.5</td>\n",
       "      <td>2018-01-15</td>\n",
       "      <td>3</td>\n",
       "      <td>NaN</td>\n",
       "      <td>25</td>\n",
       "      <td>NaN</td>\n",
       "      <td>16</td>\n",
       "      <td>NaN</td>\n",
       "      <td>...</td>\n",
       "      <td>NaN</td>\n",
       "      <td>NaN</td>\n",
       "      <td>посёлок Шушары</td>\n",
       "      <td>12430.0</td>\n",
       "      <td>18217.0</td>\n",
       "      <td>0.0</td>\n",
       "      <td>NaN</td>\n",
       "      <td>0.0</td>\n",
       "      <td>NaN</td>\n",
       "      <td>60.0</td>\n",
       "    </tr>\n",
       "    <tr>\n",
       "      <th>116</th>\n",
       "      <td>18</td>\n",
       "      <td>10999000</td>\n",
       "      <td>97.2</td>\n",
       "      <td>2017-11-13</td>\n",
       "      <td>3</td>\n",
       "      <td>2.5</td>\n",
       "      <td>16</td>\n",
       "      <td>NaN</td>\n",
       "      <td>16</td>\n",
       "      <td>NaN</td>\n",
       "      <td>...</td>\n",
       "      <td>18.3</td>\n",
       "      <td>5.0</td>\n",
       "      <td>Санкт-Петербург</td>\n",
       "      <td>19426.0</td>\n",
       "      <td>21138.0</td>\n",
       "      <td>0.0</td>\n",
       "      <td>NaN</td>\n",
       "      <td>2.0</td>\n",
       "      <td>390.0</td>\n",
       "      <td>394.0</td>\n",
       "    </tr>\n",
       "  </tbody>\n",
       "</table>\n",
       "<p>10 rows × 22 columns</p>\n",
       "</div>"
      ],
      "text/plain": [
       "     total_images  last_price  total_area first_day_exposition  rooms  \\\n",
       "3               0    64900000       159.0           2015-07-24      3   \n",
       "7               5     7915000        71.6           2019-04-18      2   \n",
       "30             12     2200000        32.8           2018-02-19      1   \n",
       "37             10     1990000        45.8           2017-10-28      2   \n",
       "44             13     5350000        40.0           2018-11-18      1   \n",
       "59             15     6300000        46.5           2017-03-06      1   \n",
       "60              3     2740000        35.0           2018-01-01      1   \n",
       "81              9    10949000        68.0           2018-12-27      1   \n",
       "82              3     4500000        80.5           2018-01-15      3   \n",
       "116            18    10999000        97.2           2017-11-13      3   \n",
       "\n",
       "     ceiling_height  floors_total  living_area  floor is_apartment  ...  \\\n",
       "3               NaN            14          NaN      9          NaN  ...   \n",
       "7               NaN            24          NaN     22          NaN  ...   \n",
       "30              NaN             9          NaN      2          NaN  ...   \n",
       "37              2.5             5          NaN      1          NaN  ...   \n",
       "44              NaN            22          NaN      3          NaN  ...   \n",
       "59              NaN            13          NaN     13          NaN  ...   \n",
       "60              NaN            12          NaN      8          NaN  ...   \n",
       "81              NaN            10          NaN      6          NaN  ...   \n",
       "82              NaN            25          NaN     16          NaN  ...   \n",
       "116             2.5            16          NaN     16          NaN  ...   \n",
       "\n",
       "     kitchen_area  balcony                        locality_name  \\\n",
       "3             NaN      0.0                      Санкт-Петербург   \n",
       "7            18.9      2.0                      Санкт-Петербург   \n",
       "30            NaN      NaN                             Коммунар   \n",
       "37            NaN      NaN  поселок городского типа Красный Бор   \n",
       "44            NaN      1.0                      Санкт-Петербург   \n",
       "59            NaN      NaN                      Санкт-Петербург   \n",
       "60            NaN      NaN                       посёлок Мурино   \n",
       "81            NaN      NaN                      Санкт-Петербург   \n",
       "82            NaN      NaN                       посёлок Шушары   \n",
       "116          18.3      5.0                      Санкт-Петербург   \n",
       "\n",
       "     airports_nearest cityCenters_nearest  parks_around3000  parks_nearest  \\\n",
       "3             28098.0              6800.0               2.0           84.0   \n",
       "7             23982.0             11634.0               0.0            NaN   \n",
       "30                NaN                 NaN               NaN            NaN   \n",
       "37                NaN                 NaN               NaN            NaN   \n",
       "44            30471.0             11603.0               1.0          620.0   \n",
       "59            11125.0             14501.0               0.0            NaN   \n",
       "60                NaN                 NaN               NaN            NaN   \n",
       "81                NaN                 NaN               NaN            NaN   \n",
       "82            12430.0             18217.0               0.0            NaN   \n",
       "116           19426.0             21138.0               0.0            NaN   \n",
       "\n",
       "     ponds_around3000  ponds_nearest  days_exposition  \n",
       "3                 3.0          234.0            424.0  \n",
       "7                 0.0            NaN              NaN  \n",
       "30                NaN            NaN             63.0  \n",
       "37                NaN            NaN            196.0  \n",
       "44                1.0         1152.0              NaN  \n",
       "59                0.0            NaN            336.0  \n",
       "60                NaN            NaN             11.0  \n",
       "81                NaN            NaN              NaN  \n",
       "82                0.0            NaN             60.0  \n",
       "116               2.0          390.0            394.0  \n",
       "\n",
       "[10 rows x 22 columns]"
      ]
     },
     "metadata": {},
     "output_type": "display_data"
    }
   ],
   "source": [
    "print('Колличество пропущенных значений в living_area:', len(real_estate.loc[real_estate['living_area'].isna()]))\n",
    "display(real_estate.loc[real_estate['living_area'].isna()].head(10))"
   ]
  },
  {
   "cell_type": "markdown",
   "metadata": {},
   "source": [
    "Пропусков в данном столбце достаточно много (около 8% от общего числа данных). Строки с пропущенными значениями нельзя отнести к одной конкретной категории (разные даты заявлений, разные цены и расположения квартир и тд).\n",
    "Данные могли не внести составители заявления или значения могли быть утеряны в результате сбоя при загрузке данных в базу. "
   ]
  },
  {
   "cell_type": "markdown",
   "metadata": {},
   "source": [
    "Рассмотрим принадлежность недвижимости к аппартаментам в столбце is_apartment"
   ]
  },
  {
   "cell_type": "code",
   "execution_count": 16,
   "metadata": {},
   "outputs": [
    {
     "name": "stdout",
     "output_type": "stream",
     "text": [
      "Колличество пропущенных значений в is_apartment: 20838\n"
     ]
    }
   ],
   "source": [
    "print('Колличество пропущенных значений в is_apartment:', len(real_estate.loc[real_estate['is_apartment'].isna()]))"
   ]
  },
  {
   "cell_type": "markdown",
   "metadata": {},
   "source": [
    "В данном столбце очень много пропущенных данных. Возможно, данные не были заполнены изначально или были утеряны в результате сбоя системы при загрузке/выгрузке базы данных. В дальнейшем исследовании нам не понадобится информация в этом столбце. Пропуски можно оставить как есть.\n",
    "Тип данных в столбце is_apartment object, хотя переменная принимает только значения True и False. На булев тип данных также указывает описание таблицы. Произведем преобразование типа данных из object в bool"
   ]
  },
  {
   "cell_type": "code",
   "execution_count": 17,
   "metadata": {},
   "outputs": [],
   "source": [
    "real_estate['is_apartment'] = real_estate['is_apartment'].astype('bool')"
   ]
  },
  {
   "cell_type": "markdown",
   "metadata": {},
   "source": [
    "Рассмотрим площадь кухни в столбце kitchen_area."
   ]
  },
  {
   "cell_type": "code",
   "execution_count": 18,
   "metadata": {},
   "outputs": [
    {
     "name": "stdout",
     "output_type": "stream",
     "text": [
      "Колличество пропущенных значений в kitchen_area: 2231\n"
     ]
    },
    {
     "data": {
      "text/html": [
       "<div>\n",
       "<style scoped>\n",
       "    .dataframe tbody tr th:only-of-type {\n",
       "        vertical-align: middle;\n",
       "    }\n",
       "\n",
       "    .dataframe tbody tr th {\n",
       "        vertical-align: top;\n",
       "    }\n",
       "\n",
       "    .dataframe thead th {\n",
       "        text-align: right;\n",
       "    }\n",
       "</style>\n",
       "<table border=\"1\" class=\"dataframe\">\n",
       "  <thead>\n",
       "    <tr style=\"text-align: right;\">\n",
       "      <th></th>\n",
       "      <th>total_images</th>\n",
       "      <th>last_price</th>\n",
       "      <th>total_area</th>\n",
       "      <th>first_day_exposition</th>\n",
       "      <th>rooms</th>\n",
       "      <th>ceiling_height</th>\n",
       "      <th>floors_total</th>\n",
       "      <th>living_area</th>\n",
       "      <th>floor</th>\n",
       "      <th>is_apartment</th>\n",
       "      <th>...</th>\n",
       "      <th>kitchen_area</th>\n",
       "      <th>balcony</th>\n",
       "      <th>locality_name</th>\n",
       "      <th>airports_nearest</th>\n",
       "      <th>cityCenters_nearest</th>\n",
       "      <th>parks_around3000</th>\n",
       "      <th>parks_nearest</th>\n",
       "      <th>ponds_around3000</th>\n",
       "      <th>ponds_nearest</th>\n",
       "      <th>days_exposition</th>\n",
       "    </tr>\n",
       "  </thead>\n",
       "  <tbody>\n",
       "    <tr>\n",
       "      <th>3</th>\n",
       "      <td>0</td>\n",
       "      <td>64900000</td>\n",
       "      <td>159.0</td>\n",
       "      <td>2015-07-24</td>\n",
       "      <td>3</td>\n",
       "      <td>NaN</td>\n",
       "      <td>14</td>\n",
       "      <td>NaN</td>\n",
       "      <td>9</td>\n",
       "      <td>True</td>\n",
       "      <td>...</td>\n",
       "      <td>NaN</td>\n",
       "      <td>0.0</td>\n",
       "      <td>Санкт-Петербург</td>\n",
       "      <td>28098.0</td>\n",
       "      <td>6800.0</td>\n",
       "      <td>2.0</td>\n",
       "      <td>84.0</td>\n",
       "      <td>3.0</td>\n",
       "      <td>234.0</td>\n",
       "      <td>424.0</td>\n",
       "    </tr>\n",
       "    <tr>\n",
       "      <th>30</th>\n",
       "      <td>12</td>\n",
       "      <td>2200000</td>\n",
       "      <td>32.8</td>\n",
       "      <td>2018-02-19</td>\n",
       "      <td>1</td>\n",
       "      <td>NaN</td>\n",
       "      <td>9</td>\n",
       "      <td>NaN</td>\n",
       "      <td>2</td>\n",
       "      <td>True</td>\n",
       "      <td>...</td>\n",
       "      <td>NaN</td>\n",
       "      <td>NaN</td>\n",
       "      <td>Коммунар</td>\n",
       "      <td>NaN</td>\n",
       "      <td>NaN</td>\n",
       "      <td>NaN</td>\n",
       "      <td>NaN</td>\n",
       "      <td>NaN</td>\n",
       "      <td>NaN</td>\n",
       "      <td>63.0</td>\n",
       "    </tr>\n",
       "    <tr>\n",
       "      <th>37</th>\n",
       "      <td>10</td>\n",
       "      <td>1990000</td>\n",
       "      <td>45.8</td>\n",
       "      <td>2017-10-28</td>\n",
       "      <td>2</td>\n",
       "      <td>2.5</td>\n",
       "      <td>5</td>\n",
       "      <td>NaN</td>\n",
       "      <td>1</td>\n",
       "      <td>True</td>\n",
       "      <td>...</td>\n",
       "      <td>NaN</td>\n",
       "      <td>NaN</td>\n",
       "      <td>поселок городского типа Красный Бор</td>\n",
       "      <td>NaN</td>\n",
       "      <td>NaN</td>\n",
       "      <td>NaN</td>\n",
       "      <td>NaN</td>\n",
       "      <td>NaN</td>\n",
       "      <td>NaN</td>\n",
       "      <td>196.0</td>\n",
       "    </tr>\n",
       "    <tr>\n",
       "      <th>44</th>\n",
       "      <td>13</td>\n",
       "      <td>5350000</td>\n",
       "      <td>40.0</td>\n",
       "      <td>2018-11-18</td>\n",
       "      <td>1</td>\n",
       "      <td>NaN</td>\n",
       "      <td>22</td>\n",
       "      <td>NaN</td>\n",
       "      <td>3</td>\n",
       "      <td>True</td>\n",
       "      <td>...</td>\n",
       "      <td>NaN</td>\n",
       "      <td>1.0</td>\n",
       "      <td>Санкт-Петербург</td>\n",
       "      <td>30471.0</td>\n",
       "      <td>11603.0</td>\n",
       "      <td>1.0</td>\n",
       "      <td>620.0</td>\n",
       "      <td>1.0</td>\n",
       "      <td>1152.0</td>\n",
       "      <td>NaN</td>\n",
       "    </tr>\n",
       "    <tr>\n",
       "      <th>59</th>\n",
       "      <td>15</td>\n",
       "      <td>6300000</td>\n",
       "      <td>46.5</td>\n",
       "      <td>2017-03-06</td>\n",
       "      <td>1</td>\n",
       "      <td>NaN</td>\n",
       "      <td>13</td>\n",
       "      <td>NaN</td>\n",
       "      <td>13</td>\n",
       "      <td>True</td>\n",
       "      <td>...</td>\n",
       "      <td>NaN</td>\n",
       "      <td>NaN</td>\n",
       "      <td>Санкт-Петербург</td>\n",
       "      <td>11125.0</td>\n",
       "      <td>14501.0</td>\n",
       "      <td>0.0</td>\n",
       "      <td>NaN</td>\n",
       "      <td>0.0</td>\n",
       "      <td>NaN</td>\n",
       "      <td>336.0</td>\n",
       "    </tr>\n",
       "    <tr>\n",
       "      <th>60</th>\n",
       "      <td>3</td>\n",
       "      <td>2740000</td>\n",
       "      <td>35.0</td>\n",
       "      <td>2018-01-01</td>\n",
       "      <td>1</td>\n",
       "      <td>NaN</td>\n",
       "      <td>12</td>\n",
       "      <td>NaN</td>\n",
       "      <td>8</td>\n",
       "      <td>True</td>\n",
       "      <td>...</td>\n",
       "      <td>NaN</td>\n",
       "      <td>NaN</td>\n",
       "      <td>посёлок Мурино</td>\n",
       "      <td>NaN</td>\n",
       "      <td>NaN</td>\n",
       "      <td>NaN</td>\n",
       "      <td>NaN</td>\n",
       "      <td>NaN</td>\n",
       "      <td>NaN</td>\n",
       "      <td>11.0</td>\n",
       "    </tr>\n",
       "    <tr>\n",
       "      <th>81</th>\n",
       "      <td>9</td>\n",
       "      <td>10949000</td>\n",
       "      <td>68.0</td>\n",
       "      <td>2018-12-27</td>\n",
       "      <td>1</td>\n",
       "      <td>NaN</td>\n",
       "      <td>10</td>\n",
       "      <td>NaN</td>\n",
       "      <td>6</td>\n",
       "      <td>True</td>\n",
       "      <td>...</td>\n",
       "      <td>NaN</td>\n",
       "      <td>NaN</td>\n",
       "      <td>Санкт-Петербург</td>\n",
       "      <td>NaN</td>\n",
       "      <td>NaN</td>\n",
       "      <td>NaN</td>\n",
       "      <td>NaN</td>\n",
       "      <td>NaN</td>\n",
       "      <td>NaN</td>\n",
       "      <td>NaN</td>\n",
       "    </tr>\n",
       "    <tr>\n",
       "      <th>82</th>\n",
       "      <td>3</td>\n",
       "      <td>4500000</td>\n",
       "      <td>80.5</td>\n",
       "      <td>2018-01-15</td>\n",
       "      <td>3</td>\n",
       "      <td>NaN</td>\n",
       "      <td>25</td>\n",
       "      <td>NaN</td>\n",
       "      <td>16</td>\n",
       "      <td>True</td>\n",
       "      <td>...</td>\n",
       "      <td>NaN</td>\n",
       "      <td>NaN</td>\n",
       "      <td>посёлок Шушары</td>\n",
       "      <td>12430.0</td>\n",
       "      <td>18217.0</td>\n",
       "      <td>0.0</td>\n",
       "      <td>NaN</td>\n",
       "      <td>0.0</td>\n",
       "      <td>NaN</td>\n",
       "      <td>60.0</td>\n",
       "    </tr>\n",
       "    <tr>\n",
       "      <th>133</th>\n",
       "      <td>12</td>\n",
       "      <td>3150000</td>\n",
       "      <td>31.0</td>\n",
       "      <td>2018-03-23</td>\n",
       "      <td>1</td>\n",
       "      <td>NaN</td>\n",
       "      <td>25</td>\n",
       "      <td>NaN</td>\n",
       "      <td>6</td>\n",
       "      <td>True</td>\n",
       "      <td>...</td>\n",
       "      <td>NaN</td>\n",
       "      <td>NaN</td>\n",
       "      <td>посёлок Мурино</td>\n",
       "      <td>NaN</td>\n",
       "      <td>NaN</td>\n",
       "      <td>NaN</td>\n",
       "      <td>NaN</td>\n",
       "      <td>NaN</td>\n",
       "      <td>NaN</td>\n",
       "      <td>78.0</td>\n",
       "    </tr>\n",
       "    <tr>\n",
       "      <th>144</th>\n",
       "      <td>1</td>\n",
       "      <td>2450000</td>\n",
       "      <td>27.0</td>\n",
       "      <td>2017-03-30</td>\n",
       "      <td>1</td>\n",
       "      <td>NaN</td>\n",
       "      <td>24</td>\n",
       "      <td>15.5</td>\n",
       "      <td>2</td>\n",
       "      <td>True</td>\n",
       "      <td>...</td>\n",
       "      <td>NaN</td>\n",
       "      <td>2.0</td>\n",
       "      <td>посёлок Мурино</td>\n",
       "      <td>NaN</td>\n",
       "      <td>NaN</td>\n",
       "      <td>NaN</td>\n",
       "      <td>NaN</td>\n",
       "      <td>NaN</td>\n",
       "      <td>NaN</td>\n",
       "      <td>181.0</td>\n",
       "    </tr>\n",
       "  </tbody>\n",
       "</table>\n",
       "<p>10 rows × 22 columns</p>\n",
       "</div>"
      ],
      "text/plain": [
       "     total_images  last_price  total_area first_day_exposition  rooms  \\\n",
       "3               0    64900000       159.0           2015-07-24      3   \n",
       "30             12     2200000        32.8           2018-02-19      1   \n",
       "37             10     1990000        45.8           2017-10-28      2   \n",
       "44             13     5350000        40.0           2018-11-18      1   \n",
       "59             15     6300000        46.5           2017-03-06      1   \n",
       "60              3     2740000        35.0           2018-01-01      1   \n",
       "81              9    10949000        68.0           2018-12-27      1   \n",
       "82              3     4500000        80.5           2018-01-15      3   \n",
       "133            12     3150000        31.0           2018-03-23      1   \n",
       "144             1     2450000        27.0           2017-03-30      1   \n",
       "\n",
       "     ceiling_height  floors_total  living_area  floor  is_apartment  ...  \\\n",
       "3               NaN            14          NaN      9          True  ...   \n",
       "30              NaN             9          NaN      2          True  ...   \n",
       "37              2.5             5          NaN      1          True  ...   \n",
       "44              NaN            22          NaN      3          True  ...   \n",
       "59              NaN            13          NaN     13          True  ...   \n",
       "60              NaN            12          NaN      8          True  ...   \n",
       "81              NaN            10          NaN      6          True  ...   \n",
       "82              NaN            25          NaN     16          True  ...   \n",
       "133             NaN            25          NaN      6          True  ...   \n",
       "144             NaN            24         15.5      2          True  ...   \n",
       "\n",
       "     kitchen_area  balcony                        locality_name  \\\n",
       "3             NaN      0.0                      Санкт-Петербург   \n",
       "30            NaN      NaN                             Коммунар   \n",
       "37            NaN      NaN  поселок городского типа Красный Бор   \n",
       "44            NaN      1.0                      Санкт-Петербург   \n",
       "59            NaN      NaN                      Санкт-Петербург   \n",
       "60            NaN      NaN                       посёлок Мурино   \n",
       "81            NaN      NaN                      Санкт-Петербург   \n",
       "82            NaN      NaN                       посёлок Шушары   \n",
       "133           NaN      NaN                       посёлок Мурино   \n",
       "144           NaN      2.0                       посёлок Мурино   \n",
       "\n",
       "     airports_nearest cityCenters_nearest  parks_around3000  parks_nearest  \\\n",
       "3             28098.0              6800.0               2.0           84.0   \n",
       "30                NaN                 NaN               NaN            NaN   \n",
       "37                NaN                 NaN               NaN            NaN   \n",
       "44            30471.0             11603.0               1.0          620.0   \n",
       "59            11125.0             14501.0               0.0            NaN   \n",
       "60                NaN                 NaN               NaN            NaN   \n",
       "81                NaN                 NaN               NaN            NaN   \n",
       "82            12430.0             18217.0               0.0            NaN   \n",
       "133               NaN                 NaN               NaN            NaN   \n",
       "144               NaN                 NaN               NaN            NaN   \n",
       "\n",
       "     ponds_around3000  ponds_nearest  days_exposition  \n",
       "3                 3.0          234.0            424.0  \n",
       "30                NaN            NaN             63.0  \n",
       "37                NaN            NaN            196.0  \n",
       "44                1.0         1152.0              NaN  \n",
       "59                0.0            NaN            336.0  \n",
       "60                NaN            NaN             11.0  \n",
       "81                NaN            NaN              NaN  \n",
       "82                0.0            NaN             60.0  \n",
       "133               NaN            NaN             78.0  \n",
       "144               NaN            NaN            181.0  \n",
       "\n",
       "[10 rows x 22 columns]"
      ]
     },
     "metadata": {},
     "output_type": "display_data"
    }
   ],
   "source": [
    "print('Колличество пропущенных значений в kitchen_area:', len(real_estate.loc[real_estate['kitchen_area'].isna()]))\n",
    "display(real_estate.loc[real_estate['kitchen_area'].isna()].head(10))"
   ]
  },
  {
   "cell_type": "code",
   "execution_count": 19,
   "metadata": {},
   "outputs": [
    {
     "data": {
      "text/html": [
       "<div>\n",
       "<style scoped>\n",
       "    .dataframe tbody tr th:only-of-type {\n",
       "        vertical-align: middle;\n",
       "    }\n",
       "\n",
       "    .dataframe tbody tr th {\n",
       "        vertical-align: top;\n",
       "    }\n",
       "\n",
       "    .dataframe thead th {\n",
       "        text-align: right;\n",
       "    }\n",
       "</style>\n",
       "<table border=\"1\" class=\"dataframe\">\n",
       "  <thead>\n",
       "    <tr style=\"text-align: right;\">\n",
       "      <th></th>\n",
       "      <th>total_images</th>\n",
       "      <th>last_price</th>\n",
       "      <th>total_area</th>\n",
       "      <th>first_day_exposition</th>\n",
       "      <th>rooms</th>\n",
       "      <th>ceiling_height</th>\n",
       "      <th>floors_total</th>\n",
       "      <th>living_area</th>\n",
       "      <th>floor</th>\n",
       "      <th>is_apartment</th>\n",
       "      <th>...</th>\n",
       "      <th>kitchen_area</th>\n",
       "      <th>balcony</th>\n",
       "      <th>locality_name</th>\n",
       "      <th>airports_nearest</th>\n",
       "      <th>cityCenters_nearest</th>\n",
       "      <th>parks_around3000</th>\n",
       "      <th>parks_nearest</th>\n",
       "      <th>ponds_around3000</th>\n",
       "      <th>ponds_nearest</th>\n",
       "      <th>days_exposition</th>\n",
       "    </tr>\n",
       "  </thead>\n",
       "  <tbody>\n",
       "    <tr>\n",
       "      <th>0</th>\n",
       "      <td>20</td>\n",
       "      <td>13000000</td>\n",
       "      <td>108.00</td>\n",
       "      <td>2019-03-07</td>\n",
       "      <td>3</td>\n",
       "      <td>2.70</td>\n",
       "      <td>16</td>\n",
       "      <td>51.0</td>\n",
       "      <td>8</td>\n",
       "      <td>True</td>\n",
       "      <td>...</td>\n",
       "      <td>25.00</td>\n",
       "      <td>NaN</td>\n",
       "      <td>Санкт-Петербург</td>\n",
       "      <td>18863.0</td>\n",
       "      <td>16028.0</td>\n",
       "      <td>1.0</td>\n",
       "      <td>482.0</td>\n",
       "      <td>2.0</td>\n",
       "      <td>755.0</td>\n",
       "      <td>NaN</td>\n",
       "    </tr>\n",
       "    <tr>\n",
       "      <th>1</th>\n",
       "      <td>7</td>\n",
       "      <td>3350000</td>\n",
       "      <td>40.40</td>\n",
       "      <td>2018-12-04</td>\n",
       "      <td>1</td>\n",
       "      <td>NaN</td>\n",
       "      <td>11</td>\n",
       "      <td>18.6</td>\n",
       "      <td>1</td>\n",
       "      <td>True</td>\n",
       "      <td>...</td>\n",
       "      <td>11.00</td>\n",
       "      <td>2.0</td>\n",
       "      <td>посёлок Шушары</td>\n",
       "      <td>12817.0</td>\n",
       "      <td>18603.0</td>\n",
       "      <td>0.0</td>\n",
       "      <td>NaN</td>\n",
       "      <td>0.0</td>\n",
       "      <td>NaN</td>\n",
       "      <td>81.0</td>\n",
       "    </tr>\n",
       "    <tr>\n",
       "      <th>2</th>\n",
       "      <td>10</td>\n",
       "      <td>5196000</td>\n",
       "      <td>56.00</td>\n",
       "      <td>2015-08-20</td>\n",
       "      <td>2</td>\n",
       "      <td>NaN</td>\n",
       "      <td>5</td>\n",
       "      <td>34.3</td>\n",
       "      <td>4</td>\n",
       "      <td>True</td>\n",
       "      <td>...</td>\n",
       "      <td>8.30</td>\n",
       "      <td>0.0</td>\n",
       "      <td>Санкт-Петербург</td>\n",
       "      <td>21741.0</td>\n",
       "      <td>13933.0</td>\n",
       "      <td>1.0</td>\n",
       "      <td>90.0</td>\n",
       "      <td>2.0</td>\n",
       "      <td>574.0</td>\n",
       "      <td>558.0</td>\n",
       "    </tr>\n",
       "    <tr>\n",
       "      <th>4</th>\n",
       "      <td>2</td>\n",
       "      <td>10000000</td>\n",
       "      <td>100.00</td>\n",
       "      <td>2018-06-19</td>\n",
       "      <td>2</td>\n",
       "      <td>3.03</td>\n",
       "      <td>14</td>\n",
       "      <td>32.0</td>\n",
       "      <td>13</td>\n",
       "      <td>True</td>\n",
       "      <td>...</td>\n",
       "      <td>41.00</td>\n",
       "      <td>NaN</td>\n",
       "      <td>Санкт-Петербург</td>\n",
       "      <td>31856.0</td>\n",
       "      <td>8098.0</td>\n",
       "      <td>2.0</td>\n",
       "      <td>112.0</td>\n",
       "      <td>1.0</td>\n",
       "      <td>48.0</td>\n",
       "      <td>121.0</td>\n",
       "    </tr>\n",
       "    <tr>\n",
       "      <th>5</th>\n",
       "      <td>10</td>\n",
       "      <td>2890000</td>\n",
       "      <td>30.40</td>\n",
       "      <td>2018-09-10</td>\n",
       "      <td>1</td>\n",
       "      <td>NaN</td>\n",
       "      <td>12</td>\n",
       "      <td>14.4</td>\n",
       "      <td>5</td>\n",
       "      <td>True</td>\n",
       "      <td>...</td>\n",
       "      <td>9.10</td>\n",
       "      <td>NaN</td>\n",
       "      <td>городской посёлок Янино-1</td>\n",
       "      <td>NaN</td>\n",
       "      <td>NaN</td>\n",
       "      <td>NaN</td>\n",
       "      <td>NaN</td>\n",
       "      <td>NaN</td>\n",
       "      <td>NaN</td>\n",
       "      <td>55.0</td>\n",
       "    </tr>\n",
       "    <tr>\n",
       "      <th>...</th>\n",
       "      <td>...</td>\n",
       "      <td>...</td>\n",
       "      <td>...</td>\n",
       "      <td>...</td>\n",
       "      <td>...</td>\n",
       "      <td>...</td>\n",
       "      <td>...</td>\n",
       "      <td>...</td>\n",
       "      <td>...</td>\n",
       "      <td>...</td>\n",
       "      <td>...</td>\n",
       "      <td>...</td>\n",
       "      <td>...</td>\n",
       "      <td>...</td>\n",
       "      <td>...</td>\n",
       "      <td>...</td>\n",
       "      <td>...</td>\n",
       "      <td>...</td>\n",
       "      <td>...</td>\n",
       "      <td>...</td>\n",
       "      <td>...</td>\n",
       "    </tr>\n",
       "    <tr>\n",
       "      <th>23692</th>\n",
       "      <td>2</td>\n",
       "      <td>1350000</td>\n",
       "      <td>30.00</td>\n",
       "      <td>2017-07-07</td>\n",
       "      <td>1</td>\n",
       "      <td>NaN</td>\n",
       "      <td>5</td>\n",
       "      <td>17.5</td>\n",
       "      <td>4</td>\n",
       "      <td>True</td>\n",
       "      <td>...</td>\n",
       "      <td>6.00</td>\n",
       "      <td>NaN</td>\n",
       "      <td>Тихвин</td>\n",
       "      <td>NaN</td>\n",
       "      <td>NaN</td>\n",
       "      <td>NaN</td>\n",
       "      <td>NaN</td>\n",
       "      <td>NaN</td>\n",
       "      <td>NaN</td>\n",
       "      <td>413.0</td>\n",
       "    </tr>\n",
       "    <tr>\n",
       "      <th>23693</th>\n",
       "      <td>9</td>\n",
       "      <td>4600000</td>\n",
       "      <td>62.40</td>\n",
       "      <td>2016-08-05</td>\n",
       "      <td>3</td>\n",
       "      <td>2.60</td>\n",
       "      <td>9</td>\n",
       "      <td>40.0</td>\n",
       "      <td>8</td>\n",
       "      <td>True</td>\n",
       "      <td>...</td>\n",
       "      <td>8.00</td>\n",
       "      <td>0.0</td>\n",
       "      <td>Петергоф</td>\n",
       "      <td>45602.0</td>\n",
       "      <td>34104.0</td>\n",
       "      <td>1.0</td>\n",
       "      <td>352.0</td>\n",
       "      <td>1.0</td>\n",
       "      <td>675.0</td>\n",
       "      <td>239.0</td>\n",
       "    </tr>\n",
       "    <tr>\n",
       "      <th>23694</th>\n",
       "      <td>9</td>\n",
       "      <td>9700000</td>\n",
       "      <td>133.81</td>\n",
       "      <td>2017-03-21</td>\n",
       "      <td>3</td>\n",
       "      <td>3.70</td>\n",
       "      <td>5</td>\n",
       "      <td>73.3</td>\n",
       "      <td>3</td>\n",
       "      <td>True</td>\n",
       "      <td>...</td>\n",
       "      <td>13.83</td>\n",
       "      <td>NaN</td>\n",
       "      <td>Санкт-Петербург</td>\n",
       "      <td>24665.0</td>\n",
       "      <td>4232.0</td>\n",
       "      <td>1.0</td>\n",
       "      <td>796.0</td>\n",
       "      <td>3.0</td>\n",
       "      <td>381.0</td>\n",
       "      <td>NaN</td>\n",
       "    </tr>\n",
       "    <tr>\n",
       "      <th>23695</th>\n",
       "      <td>14</td>\n",
       "      <td>3100000</td>\n",
       "      <td>59.00</td>\n",
       "      <td>2018-01-15</td>\n",
       "      <td>3</td>\n",
       "      <td>NaN</td>\n",
       "      <td>5</td>\n",
       "      <td>38.0</td>\n",
       "      <td>4</td>\n",
       "      <td>True</td>\n",
       "      <td>...</td>\n",
       "      <td>8.50</td>\n",
       "      <td>NaN</td>\n",
       "      <td>Тосно</td>\n",
       "      <td>NaN</td>\n",
       "      <td>NaN</td>\n",
       "      <td>NaN</td>\n",
       "      <td>NaN</td>\n",
       "      <td>NaN</td>\n",
       "      <td>NaN</td>\n",
       "      <td>45.0</td>\n",
       "    </tr>\n",
       "    <tr>\n",
       "      <th>23698</th>\n",
       "      <td>4</td>\n",
       "      <td>1350000</td>\n",
       "      <td>32.30</td>\n",
       "      <td>2017-07-21</td>\n",
       "      <td>1</td>\n",
       "      <td>2.50</td>\n",
       "      <td>5</td>\n",
       "      <td>12.3</td>\n",
       "      <td>1</td>\n",
       "      <td>True</td>\n",
       "      <td>...</td>\n",
       "      <td>9.00</td>\n",
       "      <td>NaN</td>\n",
       "      <td>поселок Новый Учхоз</td>\n",
       "      <td>NaN</td>\n",
       "      <td>NaN</td>\n",
       "      <td>NaN</td>\n",
       "      <td>NaN</td>\n",
       "      <td>NaN</td>\n",
       "      <td>NaN</td>\n",
       "      <td>NaN</td>\n",
       "    </tr>\n",
       "  </tbody>\n",
       "</table>\n",
       "<p>20795 rows × 22 columns</p>\n",
       "</div>"
      ],
      "text/plain": [
       "       total_images  last_price  total_area first_day_exposition  rooms  \\\n",
       "0                20    13000000      108.00           2019-03-07      3   \n",
       "1                 7     3350000       40.40           2018-12-04      1   \n",
       "2                10     5196000       56.00           2015-08-20      2   \n",
       "4                 2    10000000      100.00           2018-06-19      2   \n",
       "5                10     2890000       30.40           2018-09-10      1   \n",
       "...             ...         ...         ...                  ...    ...   \n",
       "23692             2     1350000       30.00           2017-07-07      1   \n",
       "23693             9     4600000       62.40           2016-08-05      3   \n",
       "23694             9     9700000      133.81           2017-03-21      3   \n",
       "23695            14     3100000       59.00           2018-01-15      3   \n",
       "23698             4     1350000       32.30           2017-07-21      1   \n",
       "\n",
       "       ceiling_height  floors_total  living_area  floor  is_apartment  ...  \\\n",
       "0                2.70            16         51.0      8          True  ...   \n",
       "1                 NaN            11         18.6      1          True  ...   \n",
       "2                 NaN             5         34.3      4          True  ...   \n",
       "4                3.03            14         32.0     13          True  ...   \n",
       "5                 NaN            12         14.4      5          True  ...   \n",
       "...               ...           ...          ...    ...           ...  ...   \n",
       "23692             NaN             5         17.5      4          True  ...   \n",
       "23693            2.60             9         40.0      8          True  ...   \n",
       "23694            3.70             5         73.3      3          True  ...   \n",
       "23695             NaN             5         38.0      4          True  ...   \n",
       "23698            2.50             5         12.3      1          True  ...   \n",
       "\n",
       "       kitchen_area  balcony              locality_name  airports_nearest  \\\n",
       "0             25.00      NaN            Санкт-Петербург           18863.0   \n",
       "1             11.00      2.0             посёлок Шушары           12817.0   \n",
       "2              8.30      0.0            Санкт-Петербург           21741.0   \n",
       "4             41.00      NaN            Санкт-Петербург           31856.0   \n",
       "5              9.10      NaN  городской посёлок Янино-1               NaN   \n",
       "...             ...      ...                        ...               ...   \n",
       "23692          6.00      NaN                     Тихвин               NaN   \n",
       "23693          8.00      0.0                   Петергоф           45602.0   \n",
       "23694         13.83      NaN            Санкт-Петербург           24665.0   \n",
       "23695          8.50      NaN                      Тосно               NaN   \n",
       "23698          9.00      NaN        поселок Новый Учхоз               NaN   \n",
       "\n",
       "      cityCenters_nearest  parks_around3000  parks_nearest  ponds_around3000  \\\n",
       "0                 16028.0               1.0          482.0               2.0   \n",
       "1                 18603.0               0.0            NaN               0.0   \n",
       "2                 13933.0               1.0           90.0               2.0   \n",
       "4                  8098.0               2.0          112.0               1.0   \n",
       "5                     NaN               NaN            NaN               NaN   \n",
       "...                   ...               ...            ...               ...   \n",
       "23692                 NaN               NaN            NaN               NaN   \n",
       "23693             34104.0               1.0          352.0               1.0   \n",
       "23694              4232.0               1.0          796.0               3.0   \n",
       "23695                 NaN               NaN            NaN               NaN   \n",
       "23698                 NaN               NaN            NaN               NaN   \n",
       "\n",
       "       ponds_nearest  days_exposition  \n",
       "0              755.0              NaN  \n",
       "1                NaN             81.0  \n",
       "2              574.0            558.0  \n",
       "4               48.0            121.0  \n",
       "5                NaN             55.0  \n",
       "...              ...              ...  \n",
       "23692            NaN            413.0  \n",
       "23693          675.0            239.0  \n",
       "23694          381.0              NaN  \n",
       "23695            NaN             45.0  \n",
       "23698            NaN              NaN  \n",
       "\n",
       "[20795 rows x 22 columns]"
      ]
     },
     "execution_count": 19,
     "metadata": {},
     "output_type": "execute_result"
    }
   ],
   "source": [
    "# находим редкое или аномальное значение в датасете\n",
    "\n",
    "real_estate[(real_estate['kitchen_area'] + real_estate['living_area']) <=  real_estate['total_area']*0.99 ]"
   ]
  },
  {
   "cell_type": "code",
   "execution_count": 20,
   "metadata": {},
   "outputs": [
    {
     "data": {
      "text/plain": [
       "(23613, 22)"
      ]
     },
     "execution_count": 20,
     "metadata": {},
     "output_type": "execute_result"
    }
   ],
   "source": [
    "real_estate.shape"
   ]
  },
  {
   "cell_type": "code",
   "execution_count": 22,
   "metadata": {},
   "outputs": [
    {
     "data": {
      "text/html": [
       "<div>\n",
       "<style scoped>\n",
       "    .dataframe tbody tr th:only-of-type {\n",
       "        vertical-align: middle;\n",
       "    }\n",
       "\n",
       "    .dataframe tbody tr th {\n",
       "        vertical-align: top;\n",
       "    }\n",
       "\n",
       "    .dataframe thead th {\n",
       "        text-align: right;\n",
       "    }\n",
       "</style>\n",
       "<table border=\"1\" class=\"dataframe\">\n",
       "  <thead>\n",
       "    <tr style=\"text-align: right;\">\n",
       "      <th></th>\n",
       "      <th>total_images</th>\n",
       "      <th>last_price</th>\n",
       "      <th>total_area</th>\n",
       "      <th>first_day_exposition</th>\n",
       "      <th>rooms</th>\n",
       "      <th>ceiling_height</th>\n",
       "      <th>floors_total</th>\n",
       "      <th>living_area</th>\n",
       "      <th>floor</th>\n",
       "      <th>is_apartment</th>\n",
       "      <th>...</th>\n",
       "      <th>kitchen_area</th>\n",
       "      <th>balcony</th>\n",
       "      <th>locality_name</th>\n",
       "      <th>airports_nearest</th>\n",
       "      <th>cityCenters_nearest</th>\n",
       "      <th>parks_around3000</th>\n",
       "      <th>parks_nearest</th>\n",
       "      <th>ponds_around3000</th>\n",
       "      <th>ponds_nearest</th>\n",
       "      <th>days_exposition</th>\n",
       "    </tr>\n",
       "  </thead>\n",
       "  <tbody>\n",
       "    <tr>\n",
       "      <th>184</th>\n",
       "      <td>7</td>\n",
       "      <td>2600000</td>\n",
       "      <td>30.20</td>\n",
       "      <td>2018-02-14</td>\n",
       "      <td>1</td>\n",
       "      <td>2.65</td>\n",
       "      <td>9</td>\n",
       "      <td>26.10</td>\n",
       "      <td>5</td>\n",
       "      <td>True</td>\n",
       "      <td>...</td>\n",
       "      <td>6.20</td>\n",
       "      <td>NaN</td>\n",
       "      <td>Санкт-Петербург</td>\n",
       "      <td>13952.0</td>\n",
       "      <td>15031.0</td>\n",
       "      <td>0.0</td>\n",
       "      <td>NaN</td>\n",
       "      <td>1.0</td>\n",
       "      <td>824.0</td>\n",
       "      <td>12.0</td>\n",
       "    </tr>\n",
       "    <tr>\n",
       "      <th>220</th>\n",
       "      <td>8</td>\n",
       "      <td>3890000</td>\n",
       "      <td>37.00</td>\n",
       "      <td>2018-07-09</td>\n",
       "      <td>1</td>\n",
       "      <td>2.50</td>\n",
       "      <td>25</td>\n",
       "      <td>28.00</td>\n",
       "      <td>6</td>\n",
       "      <td>True</td>\n",
       "      <td>...</td>\n",
       "      <td>9.00</td>\n",
       "      <td>NaN</td>\n",
       "      <td>Санкт-Петербург</td>\n",
       "      <td>25408.0</td>\n",
       "      <td>16166.0</td>\n",
       "      <td>0.0</td>\n",
       "      <td>NaN</td>\n",
       "      <td>0.0</td>\n",
       "      <td>NaN</td>\n",
       "      <td>28.0</td>\n",
       "    </tr>\n",
       "    <tr>\n",
       "      <th>545</th>\n",
       "      <td>9</td>\n",
       "      <td>4700000</td>\n",
       "      <td>23.80</td>\n",
       "      <td>2018-12-28</td>\n",
       "      <td>1</td>\n",
       "      <td>NaN</td>\n",
       "      <td>18</td>\n",
       "      <td>20.00</td>\n",
       "      <td>9</td>\n",
       "      <td>True</td>\n",
       "      <td>...</td>\n",
       "      <td>5.00</td>\n",
       "      <td>NaN</td>\n",
       "      <td>Санкт-Петербург</td>\n",
       "      <td>9731.0</td>\n",
       "      <td>11849.0</td>\n",
       "      <td>0.0</td>\n",
       "      <td>NaN</td>\n",
       "      <td>0.0</td>\n",
       "      <td>NaN</td>\n",
       "      <td>108.0</td>\n",
       "    </tr>\n",
       "    <tr>\n",
       "      <th>551</th>\n",
       "      <td>8</td>\n",
       "      <td>3100000</td>\n",
       "      <td>31.59</td>\n",
       "      <td>2018-03-08</td>\n",
       "      <td>1</td>\n",
       "      <td>2.70</td>\n",
       "      <td>19</td>\n",
       "      <td>30.55</td>\n",
       "      <td>2</td>\n",
       "      <td>True</td>\n",
       "      <td>...</td>\n",
       "      <td>9.28</td>\n",
       "      <td>2.0</td>\n",
       "      <td>посёлок Мурино</td>\n",
       "      <td>NaN</td>\n",
       "      <td>NaN</td>\n",
       "      <td>NaN</td>\n",
       "      <td>NaN</td>\n",
       "      <td>NaN</td>\n",
       "      <td>NaN</td>\n",
       "      <td>70.0</td>\n",
       "    </tr>\n",
       "    <tr>\n",
       "      <th>601</th>\n",
       "      <td>12</td>\n",
       "      <td>5600000</td>\n",
       "      <td>53.70</td>\n",
       "      <td>2017-04-18</td>\n",
       "      <td>2</td>\n",
       "      <td>2.50</td>\n",
       "      <td>12</td>\n",
       "      <td>48.30</td>\n",
       "      <td>5</td>\n",
       "      <td>True</td>\n",
       "      <td>...</td>\n",
       "      <td>7.00</td>\n",
       "      <td>2.0</td>\n",
       "      <td>Санкт-Петербург</td>\n",
       "      <td>50477.0</td>\n",
       "      <td>13252.0</td>\n",
       "      <td>2.0</td>\n",
       "      <td>220.0</td>\n",
       "      <td>1.0</td>\n",
       "      <td>1250.0</td>\n",
       "      <td>167.0</td>\n",
       "    </tr>\n",
       "    <tr>\n",
       "      <th>...</th>\n",
       "      <td>...</td>\n",
       "      <td>...</td>\n",
       "      <td>...</td>\n",
       "      <td>...</td>\n",
       "      <td>...</td>\n",
       "      <td>...</td>\n",
       "      <td>...</td>\n",
       "      <td>...</td>\n",
       "      <td>...</td>\n",
       "      <td>...</td>\n",
       "      <td>...</td>\n",
       "      <td>...</td>\n",
       "      <td>...</td>\n",
       "      <td>...</td>\n",
       "      <td>...</td>\n",
       "      <td>...</td>\n",
       "      <td>...</td>\n",
       "      <td>...</td>\n",
       "      <td>...</td>\n",
       "      <td>...</td>\n",
       "      <td>...</td>\n",
       "    </tr>\n",
       "    <tr>\n",
       "      <th>22963</th>\n",
       "      <td>16</td>\n",
       "      <td>3150000</td>\n",
       "      <td>102.00</td>\n",
       "      <td>2018-06-26</td>\n",
       "      <td>5</td>\n",
       "      <td>NaN</td>\n",
       "      <td>9</td>\n",
       "      <td>78.00</td>\n",
       "      <td>8</td>\n",
       "      <td>True</td>\n",
       "      <td>...</td>\n",
       "      <td>24.00</td>\n",
       "      <td>1.0</td>\n",
       "      <td>Кингисепп</td>\n",
       "      <td>NaN</td>\n",
       "      <td>NaN</td>\n",
       "      <td>NaN</td>\n",
       "      <td>NaN</td>\n",
       "      <td>NaN</td>\n",
       "      <td>NaN</td>\n",
       "      <td>57.0</td>\n",
       "    </tr>\n",
       "    <tr>\n",
       "      <th>23108</th>\n",
       "      <td>4</td>\n",
       "      <td>2950000</td>\n",
       "      <td>33.95</td>\n",
       "      <td>2019-02-12</td>\n",
       "      <td>1</td>\n",
       "      <td>NaN</td>\n",
       "      <td>19</td>\n",
       "      <td>21.68</td>\n",
       "      <td>11</td>\n",
       "      <td>True</td>\n",
       "      <td>...</td>\n",
       "      <td>12.00</td>\n",
       "      <td>2.0</td>\n",
       "      <td>Мурино</td>\n",
       "      <td>NaN</td>\n",
       "      <td>NaN</td>\n",
       "      <td>NaN</td>\n",
       "      <td>NaN</td>\n",
       "      <td>NaN</td>\n",
       "      <td>NaN</td>\n",
       "      <td>NaN</td>\n",
       "    </tr>\n",
       "    <tr>\n",
       "      <th>23202</th>\n",
       "      <td>13</td>\n",
       "      <td>4919880</td>\n",
       "      <td>67.92</td>\n",
       "      <td>2018-10-23</td>\n",
       "      <td>2</td>\n",
       "      <td>NaN</td>\n",
       "      <td>3</td>\n",
       "      <td>63.00</td>\n",
       "      <td>3</td>\n",
       "      <td>True</td>\n",
       "      <td>...</td>\n",
       "      <td>13.04</td>\n",
       "      <td>NaN</td>\n",
       "      <td>Всеволожск</td>\n",
       "      <td>NaN</td>\n",
       "      <td>NaN</td>\n",
       "      <td>NaN</td>\n",
       "      <td>NaN</td>\n",
       "      <td>NaN</td>\n",
       "      <td>NaN</td>\n",
       "      <td>60.0</td>\n",
       "    </tr>\n",
       "    <tr>\n",
       "      <th>23297</th>\n",
       "      <td>10</td>\n",
       "      <td>1850000</td>\n",
       "      <td>48.20</td>\n",
       "      <td>2019-03-13</td>\n",
       "      <td>2</td>\n",
       "      <td>NaN</td>\n",
       "      <td>5</td>\n",
       "      <td>42.20</td>\n",
       "      <td>2</td>\n",
       "      <td>True</td>\n",
       "      <td>...</td>\n",
       "      <td>6.00</td>\n",
       "      <td>1.0</td>\n",
       "      <td>Высоцк</td>\n",
       "      <td>NaN</td>\n",
       "      <td>NaN</td>\n",
       "      <td>NaN</td>\n",
       "      <td>NaN</td>\n",
       "      <td>NaN</td>\n",
       "      <td>NaN</td>\n",
       "      <td>45.0</td>\n",
       "    </tr>\n",
       "    <tr>\n",
       "      <th>23680</th>\n",
       "      <td>14</td>\n",
       "      <td>5000000</td>\n",
       "      <td>59.00</td>\n",
       "      <td>2019-04-04</td>\n",
       "      <td>3</td>\n",
       "      <td>2.50</td>\n",
       "      <td>5</td>\n",
       "      <td>52.00</td>\n",
       "      <td>1</td>\n",
       "      <td>True</td>\n",
       "      <td>...</td>\n",
       "      <td>7.00</td>\n",
       "      <td>NaN</td>\n",
       "      <td>Санкт-Петербург</td>\n",
       "      <td>26835.0</td>\n",
       "      <td>11878.0</td>\n",
       "      <td>0.0</td>\n",
       "      <td>NaN</td>\n",
       "      <td>0.0</td>\n",
       "      <td>NaN</td>\n",
       "      <td>NaN</td>\n",
       "    </tr>\n",
       "  </tbody>\n",
       "</table>\n",
       "<p>147 rows × 22 columns</p>\n",
       "</div>"
      ],
      "text/plain": [
       "       total_images  last_price  total_area first_day_exposition  rooms  \\\n",
       "184               7     2600000       30.20           2018-02-14      1   \n",
       "220               8     3890000       37.00           2018-07-09      1   \n",
       "545               9     4700000       23.80           2018-12-28      1   \n",
       "551               8     3100000       31.59           2018-03-08      1   \n",
       "601              12     5600000       53.70           2017-04-18      2   \n",
       "...             ...         ...         ...                  ...    ...   \n",
       "22963            16     3150000      102.00           2018-06-26      5   \n",
       "23108             4     2950000       33.95           2019-02-12      1   \n",
       "23202            13     4919880       67.92           2018-10-23      2   \n",
       "23297            10     1850000       48.20           2019-03-13      2   \n",
       "23680            14     5000000       59.00           2019-04-04      3   \n",
       "\n",
       "       ceiling_height  floors_total  living_area  floor  is_apartment  ...  \\\n",
       "184              2.65             9        26.10      5          True  ...   \n",
       "220              2.50            25        28.00      6          True  ...   \n",
       "545               NaN            18        20.00      9          True  ...   \n",
       "551              2.70            19        30.55      2          True  ...   \n",
       "601              2.50            12        48.30      5          True  ...   \n",
       "...               ...           ...          ...    ...           ...  ...   \n",
       "22963             NaN             9        78.00      8          True  ...   \n",
       "23108             NaN            19        21.68     11          True  ...   \n",
       "23202             NaN             3        63.00      3          True  ...   \n",
       "23297             NaN             5        42.20      2          True  ...   \n",
       "23680            2.50             5        52.00      1          True  ...   \n",
       "\n",
       "       kitchen_area  balcony    locality_name  airports_nearest  \\\n",
       "184            6.20      NaN  Санкт-Петербург           13952.0   \n",
       "220            9.00      NaN  Санкт-Петербург           25408.0   \n",
       "545            5.00      NaN  Санкт-Петербург            9731.0   \n",
       "551            9.28      2.0   посёлок Мурино               NaN   \n",
       "601            7.00      2.0  Санкт-Петербург           50477.0   \n",
       "...             ...      ...              ...               ...   \n",
       "22963         24.00      1.0        Кингисепп               NaN   \n",
       "23108         12.00      2.0           Мурино               NaN   \n",
       "23202         13.04      NaN       Всеволожск               NaN   \n",
       "23297          6.00      1.0           Высоцк               NaN   \n",
       "23680          7.00      NaN  Санкт-Петербург           26835.0   \n",
       "\n",
       "      cityCenters_nearest  parks_around3000  parks_nearest  ponds_around3000  \\\n",
       "184               15031.0               0.0            NaN               1.0   \n",
       "220               16166.0               0.0            NaN               0.0   \n",
       "545               11849.0               0.0            NaN               0.0   \n",
       "551                   NaN               NaN            NaN               NaN   \n",
       "601               13252.0               2.0          220.0               1.0   \n",
       "...                   ...               ...            ...               ...   \n",
       "22963                 NaN               NaN            NaN               NaN   \n",
       "23108                 NaN               NaN            NaN               NaN   \n",
       "23202                 NaN               NaN            NaN               NaN   \n",
       "23297                 NaN               NaN            NaN               NaN   \n",
       "23680             11878.0               0.0            NaN               0.0   \n",
       "\n",
       "       ponds_nearest  days_exposition  \n",
       "184            824.0             12.0  \n",
       "220              NaN             28.0  \n",
       "545              NaN            108.0  \n",
       "551              NaN             70.0  \n",
       "601           1250.0            167.0  \n",
       "...              ...              ...  \n",
       "22963            NaN             57.0  \n",
       "23108            NaN              NaN  \n",
       "23202            NaN             60.0  \n",
       "23297            NaN             45.0  \n",
       "23680            NaN              NaN  \n",
       "\n",
       "[147 rows x 22 columns]"
      ]
     },
     "execution_count": 22,
     "metadata": {},
     "output_type": "execute_result"
    }
   ],
   "source": [
    "# удаляем аномальные данные.\n",
    "\n",
    "real_estate =  real_estate[ ( (real_estate['kitchen_area'] + real_estate['living_area']) <=  real_estate['total_area']*0.99) | (real_estate['kitchen_area'] < 99 ) | (real_estate['kitchen_area'].isna())]\n",
    "\n",
    "# проверяем наличие редких значений\n",
    "\n",
    "real_estate[(real_estate['kitchen_area'] + real_estate['living_area']) >=  real_estate['total_area']*0.99]"
   ]
  },
  {
   "cell_type": "code",
   "execution_count": null,
   "metadata": {},
   "outputs": [],
   "source": [
    "# проверим сколько записей удалили\n",
    "\n",
    "real_estate.shape"
   ]
  },
  {
   "cell_type": "markdown",
   "metadata": {},
   "source": [
    "Пропусков в данном столбце достаточно много (порядка 10% от общего числа данных). Строки с пропущенными значениями нельзя отнести к одной конкретной категории (разные даты заявлений, разные цены и расположения квартир и тд).\n",
    "Данные могли не внести составители заявления или значения могли быть утеряны в результате сбоя при загрузке данных в базу. Удалили аномальные суммы площадей."
   ]
  },
  {
   "cell_type": "markdown",
   "metadata": {},
   "source": [
    "Рассмотрим колличество балконов в столбце balcony"
   ]
  },
  {
   "cell_type": "code",
   "execution_count": null,
   "metadata": {},
   "outputs": [],
   "source": [
    "display(real_estate.loc[real_estate['balcony'].isna()].head(10))"
   ]
  },
  {
   "cell_type": "markdown",
   "metadata": {},
   "source": [
    "Пропусков в данном столбце достаточно много (около 50% от общего числа данных). Строки с пропущенными значениями нельзя отнести к одной конкретной категории (разные даты заявлений, разные цены и расположения квартир и тд).\n",
    "Пропуски скорее всего связаны с отсутствием балкона в квартире. Заменим пропуски на 0.\n",
    "Также заменим тип данных в этом столбце с float64 на int64, так как колличество балконов - величина целая."
   ]
  },
  {
   "cell_type": "code",
   "execution_count": null,
   "metadata": {},
   "outputs": [],
   "source": [
    "# заменим пропущенные в столбце `balcony` данные на 0 с помощью метода `fillna`. \n",
    "# параметр inplace=True для замены данных в существующей таблице на месте.\n",
    "real_estate['balcony'].fillna(0, inplace=True)\n",
    "\n",
    "# заменим тип данных в столбце `balcony` методом astype()\n",
    "real_estate['balcony'] = real_estate['balcony'].astype('int64')"
   ]
  },
  {
   "cell_type": "markdown",
   "metadata": {},
   "source": [
    "Рассмотрим название населённого пункта в столбце locality_name"
   ]
  },
  {
   "cell_type": "code",
   "execution_count": null,
   "metadata": {},
   "outputs": [],
   "source": [
    "print('Колличество пропущенных значений в locality_name:', len(real_estate.loc[real_estate['locality_name'].isna()]))\n",
    "display(real_estate.loc[real_estate['locality_name'].isna()].head(10))"
   ]
  },
  {
   "cell_type": "markdown",
   "metadata": {},
   "source": [
    "Пропусков в данном столбце немного (48 записей). Строки с пропущенными значениями нельзя отнести к одной конкретной категории (разные даты заявлений, разные цены, удаленность от аэропортов и тд).\n",
    "Данные могли не внести составители заявления или значения могли быть утеряны в результате сбоя при загрузке данных в базу. Информацию можно восстановить при наличии адреса дома, или при обращении к владельцам данных.\n",
    "Данные невозможно восстановить на основе имеющейся информации. Заменим пропуски на значение Неизвестно"
   ]
  },
  {
   "cell_type": "code",
   "execution_count": null,
   "metadata": {},
   "outputs": [],
   "source": [
    "real_estate['locality_name'].fillna('Неизвестно', inplace=True)"
   ]
  },
  {
   "cell_type": "markdown",
   "metadata": {},
   "source": [
    "Рассмотрим расстояние до ближайшего аэропорта в столбце airports_nearest"
   ]
  },
  {
   "cell_type": "code",
   "execution_count": null,
   "metadata": {},
   "outputs": [],
   "source": [
    "print('Колличество пропущенных значений в airports_nearest:', len(real_estate.loc[real_estate['airports_nearest'].isna()]))\n",
    "display(real_estate.loc[real_estate['airports_nearest'].isna()].head(10))"
   ]
  },
  {
   "cell_type": "markdown",
   "metadata": {},
   "source": [
    "Пропусков в данном столбце достаточно много (порядка 23% от общего числа данных). Строки с пропущенными значениями нельзя отнести к одной конкретной категории (разные даты заявлений, разные цены и расположения квартир и тд).\n",
    "Данные могли не внести составители заявления или значения могли быть утеряны в результате сбоя при загрузке данных в базу. Информацию можно восстановить по геопозиции районов или при обращении к владельцам данных.\n",
    "Данные невозможно восстановить на основе имеющейся информации. На данном этапе оставим пропуски как есть."
   ]
  },
  {
   "cell_type": "code",
   "execution_count": null,
   "metadata": {},
   "outputs": [],
   "source": [
    "(real_estate[real_estate['airports_nearest'].isnull()]\n",
    "     .value_counts('locality_name')).head(15).to_frame().rename(columns = {0:'count'})"
   ]
  },
  {
   "cell_type": "markdown",
   "metadata": {},
   "source": [
    "Рассмотрим расстояние до центра в столбце cityCenters_nearest"
   ]
  },
  {
   "cell_type": "code",
   "execution_count": null,
   "metadata": {},
   "outputs": [],
   "source": [
    "print('Колличество пропущенных значений в cityCenters_nearest:', len(real_estate.loc[real_estate['cityCenters_nearest'].isna()]))\n",
    "display(real_estate.loc[real_estate['cityCenters_nearest'].isna()].head(10))"
   ]
  },
  {
   "cell_type": "code",
   "execution_count": null,
   "metadata": {},
   "outputs": [],
   "source": [
    "print('Колличество пропущенных значений в cityCenters_nearest:', len(real_estate.loc[real_estate['cityCenters_nearest'].isna()]))\n",
    "display(real_estate.loc[real_estate['cityCenters_nearest'].isna()].head(10))"
   ]
  },
  {
   "cell_type": "markdown",
   "metadata": {},
   "source": [
    "Посотрим колличество пропусков в расстоянии до центра города."
   ]
  },
  {
   "cell_type": "code",
   "execution_count": null,
   "metadata": {},
   "outputs": [],
   "source": [
    "(real_estate[real_estate['cityCenters_nearest'].isnull()]\n",
    "     .value_counts('locality_name')).head(15).to_frame().rename(columns = {0:'count'})"
   ]
  },
  {
   "cell_type": "markdown",
   "metadata": {},
   "source": [
    "Пропусков в данном столбце достаточно много (порядка 23% от общего числа данных). Строки с пропущенными значениями нельзя отнести к одной конкретной категории (разные даты заявлений, разные цены и расположения квартир. Данные пропущены как для квартир в городах, так и для деревень).\n",
    "Данные могли не внести составители заявления или значения могли быть утеряны в результате сбоя при загрузке данных в базу. "
   ]
  },
  {
   "cell_type": "markdown",
   "metadata": {},
   "source": [
    "Рассмотрим число парков в радиусе 3 км в столбце parks_around3000"
   ]
  },
  {
   "cell_type": "code",
   "execution_count": null,
   "metadata": {},
   "outputs": [],
   "source": [
    "print('Колличество пропущенных значений в parks_around3000:', len(real_estate.loc[real_estate['parks_around3000'].isna()]))\n",
    "display(real_estate.loc[real_estate['parks_around3000'].isna()].head(10))"
   ]
  },
  {
   "cell_type": "markdown",
   "metadata": {},
   "source": [
    "Пропусков в данном столбце достаточно много (порядка 23% от общего числа данных). Строки с пропущенными значениями нельзя отнести к одной конкретной категории (разные даты заявлений, разные цены и расположения квартир. Данные пропущены как для квартир в городах, так и для деревень).\n",
    "Данные могли не внести составители заявления или значения могли быть утеряны в результате сбоя при загрузке данных в базу. Информацию можно восстановить по геопозиции районов или при обращении к владельцам данных.\n",
    "На данном этапе оставим пропуски как есть, так как их слишком много."
   ]
  },
  {
   "cell_type": "markdown",
   "metadata": {},
   "source": [
    "Рассмотрим расстояние до ближайшего парка в столбце parks_nearest"
   ]
  },
  {
   "cell_type": "code",
   "execution_count": null,
   "metadata": {},
   "outputs": [],
   "source": [
    "print('Колличество пропущенных значений в parks_nearest:', len(real_estate.loc[real_estate['parks_nearest'].isna()]))\n",
    "display(real_estate.loc[real_estate['parks_nearest'].isna()].head(10))"
   ]
  },
  {
   "cell_type": "markdown",
   "metadata": {},
   "source": [
    "Пропусков в данном столбце достаточно много (порядка 65% от общего числа данных). Строки с пропущенными значениями нельзя отнести к одной конкретной категории (разные даты заявлений, разные цены и расположения квартир. Данные пропущены как для квартир в городах, так и для деревень).\n",
    "Данные могли не внести составители заявления (по причине отсутствия парков вблизи квартиры) или значения могли быть утеряны в результате сбоя при загрузке данных в базу. Информацию можно восстановить по геопозиции районов или при обращении к владельцам данных.\n",
    "Данные невозможно восстановить на основе имеющейся информации. На данном этапе оставим пропуски как есть."
   ]
  },
  {
   "cell_type": "markdown",
   "metadata": {},
   "source": [
    "Рассмотрим число водоёмов в радиусе 3 км в столбце ponds_around3000"
   ]
  },
  {
   "cell_type": "code",
   "execution_count": null,
   "metadata": {},
   "outputs": [],
   "source": [
    "print('Колличество пропущенных значений в ponds_around3000:', len(real_estate.loc[real_estate['ponds_around3000'].isna()]))\n",
    "display(real_estate.loc[real_estate['ponds_around3000'].isna()].head(10))"
   ]
  },
  {
   "cell_type": "markdown",
   "metadata": {},
   "source": [
    "Пропусков в данном столбце достаточно много (порядка 23% от общего числа данных). Строки с пропущенными значениями нельзя отнести к одной конкретной категории (разные даты заявлений, разные цены и расположения квартир. Данные пропущены как для квартир в городах, так и для деревень).\n",
    "Данные могли не внести составители заявления или значения могли быть утеряны в результате сбоя при загрузке данных в базу. Информацию можно восстановить по геопозиции районов или при обращении к владельцам данных.\n",
    "На данном этапе предположим, что пропуски остались по причине отсутствия водоёмов в радиусе 3 км и заменим их на 0.\n",
    "На данном этапе оставим пропуски как есть, так как их слишком много."
   ]
  },
  {
   "cell_type": "markdown",
   "metadata": {},
   "source": [
    "Рассмотрим расстояние до ближайшего водоёма в столбце ponds_nearest."
   ]
  },
  {
   "cell_type": "code",
   "execution_count": null,
   "metadata": {},
   "outputs": [],
   "source": [
    "print('Колличество пропущенных значений в parks_nearest:', len(real_estate.loc[real_estate['parks_nearest'].isna()]))\n",
    "display(real_estate.loc[real_estate['parks_nearest'].isna()].head(10))"
   ]
  },
  {
   "cell_type": "markdown",
   "metadata": {},
   "source": [
    "Пропусков в данном столбце достаточно много (около 60% от общего числа данных). Строки с пропущенными значениями нельзя отнести к одной конкретной категории (разные даты заявлений, разные цены и расположения квартир. Данные пропущены как для квартир в городах, так и для деревень).\n",
    "Данные могли не внести составители заявления (по причине отсутствия парков вблизи квартиры) или значения могли быть утеряны в результате сбоя при загрузке данных в базу. Информацию можно восстановить по геопозиции районов или при обращении к владельцам данных.\n",
    "Данные невозможно восстановить на основе имеющейся информации. На данном этапе оставим пропуски как есть."
   ]
  },
  {
   "cell_type": "markdown",
   "metadata": {},
   "source": [
    "Рассмотрим колличество дней, которое объявление было размещено. Столбец days_exposition"
   ]
  },
  {
   "cell_type": "code",
   "execution_count": null,
   "metadata": {},
   "outputs": [],
   "source": [
    "print('Колличество пропущенных значений в days_exposition:', len(real_estate.loc[real_estate['days_exposition'].isna()]))\n",
    "display(real_estate.loc[real_estate['days_exposition'].isna()].head(10))"
   ]
  },
  {
   "cell_type": "markdown",
   "metadata": {},
   "source": [
    "Пропусков в данном столбце достаточно много (порядка 13% от общего числа данных). Строки с пропущенными значениями нельзя отнести к одной конкретной категории (разные даты заявлений, разные цены и расположения квартир и тд.).\n",
    "Данные могли быть утеряны в результате сбоя системы при выгрузке базы.\n",
    "Также возможно информация не была внесена системой, так как объявление не было снято в момент выгрузки данных.\n",
    "Информацию можно восстановить при обращении к владельцам данных.\n",
    "На данном этапе предположим, что объявления с пропусками не были сняты и оставим их как есть.\n",
    "\n",
    "Отобразим конечный результат после предобработки."
   ]
  },
  {
   "cell_type": "code",
   "execution_count": null,
   "metadata": {},
   "outputs": [],
   "source": [
    "real_estate.info()"
   ]
  },
  {
   "cell_type": "markdown",
   "metadata": {},
   "source": [
    "Выводы:\n",
    "\n",
    "Данные в таблице содержат больщое колличество пропусков (до 65% в столбце).\n",
    "Пропуски были проанализированы и по возможности заполнены (например пропущенные значения в колличестве балконов заменены на 0).\n",
    "Возможные причины пропусков приведены для каждой переменной. Основными причинами являются отсутствие информации при заполнении объявления и сбои в работе системы при загрузке/выгрузке базы данных.\n",
    "Дополнительно был проанализирован столбец rooms. Нулевые значения были заменены на 1 (1-комнатная квартира) при общей площади квартиры total_area < 40 м²\n",
    "Типы данных были преобразованы в соответствии с описанием таблицы и смыслом хранимой информации."
   ]
  },
  {
   "cell_type": "code",
   "execution_count": null,
   "metadata": {},
   "outputs": [],
   "source": [
    "real_estate.info()"
   ]
  },
  {
   "cell_type": "markdown",
   "metadata": {},
   "source": [
    "## Расчёты и добавление результатов в таблицу"
   ]
  },
  {
   "cell_type": "markdown",
   "metadata": {},
   "source": [
    "1) Посчитаем цену квадратного метра квартиры.\n",
    "Для этого разделим цену квартиры last_price на общую площадь квартиры total_area. Округлим полученное значение до одного знака после запятой. Результат запишем в столбец meter_price"
   ]
  },
  {
   "cell_type": "code",
   "execution_count": null,
   "metadata": {},
   "outputs": [],
   "source": [
    "# округление произведём с помощью метода round()\n",
    "real_estate['meter_price'] = round(real_estate['last_price'] / real_estate['total_area'], 1)"
   ]
  },
  {
   "cell_type": "markdown",
   "metadata": {},
   "source": [
    "2) Посчитаем день недели, месяц и год публикации объявления.\n",
    "Для этого воспользуемся методом .dt.weekday, .dt.month и .dt.year соответственно.\n",
    "Дату публикации возьмём из столбца first_day_exposition.\n",
    "Полученные данные сохраним в столбцах publish_weekday, publish_month, publish_year"
   ]
  },
  {
   "cell_type": "code",
   "execution_count": null,
   "metadata": {},
   "outputs": [],
   "source": [
    "real_estate['publish_weekday'] = real_estate['first_day_exposition'].dt.weekday\n",
    "real_estate['publish_month'] = real_estate['first_day_exposition'].dt.month\n",
    "real_estate['publish_year'] = real_estate['first_day_exposition'].dt.year"
   ]
  },
  {
   "cell_type": "markdown",
   "metadata": {},
   "source": [
    "3) Создадим категорию для этажа квартиры.\n",
    "Данные возьмём из столбцов floor для этажа квартиры и floors_total колличества этажей в доме.\n",
    "Результат сохраним в столбце floor_cat.\n",
    "Для определения категории создадим функцию floor_category(). На вход функции поступает строка с данными, внутри сравнивается этаж квартиры с колличеством этажей в доме, и на выход поступает название категории. Далее с помощью метода apply применяем созданную функцию ко всем строкам таблицы."
   ]
  },
  {
   "cell_type": "code",
   "execution_count": null,
   "metadata": {},
   "outputs": [],
   "source": [
    "#  создадим функцию `floor_category(row)` для нахождения категории этажа квартиры\n",
    "def floor_category(row):\n",
    "    \"\"\"\n",
    "    input: row - строка, содержит информацию о квартире\n",
    "    output: (object) - категория этажа квартиры\n",
    "    Функция принимает на вход строку с данными, \n",
    "    сравнивает этаж квартиры `floor` с колличеством этажей в доме `floors_total`\n",
    "    и возвращает категорию:\n",
    "    \n",
    "    Категория:          Описание:\n",
    "    первый              первый этаж в доме\n",
    "    последний           последний этаж в доме\n",
    "    другой              все остальные этажи\n",
    "    \"\"\"\n",
    "    floor = row['floor']\n",
    "    floors_total = row['floors_total']\n",
    "    if floor == 1:\n",
    "        return 'первый'\n",
    "    elif floor == floors_total:\n",
    "        return 'последний'\n",
    "    else:\n",
    "        return 'другой'\n",
    "\n",
    "# с помощью метода apply применяем функцию floor_category ко всем строкам таблицы 'real_estate'\n",
    "real_estate['floor_cat'] = real_estate.apply(floor_category, axis=1)"
   ]
  },
  {
   "cell_type": "markdown",
   "metadata": {},
   "source": [
    "4) Определим соотношение жилой и общей площади квартиры, а также отношение площади кухни к общей.\n",
    "Данные возьмём из столбцов living_area, total_area и kitchen_area.\n",
    "Результаты вычислений сохраним в столбцах living_to_total и kitchen_to_total соответственно.\n",
    "Результаты округлим до 2 знаков после запятой."
   ]
  },
  {
   "cell_type": "code",
   "execution_count": null,
   "metadata": {},
   "outputs": [],
   "source": [
    "real_estate['living_to_total'] = round(real_estate['living_area'] / real_estate['total_area'], 2)\n",
    "real_estate['kitchen_to_total'] = round(real_estate['kitchen_area'] / real_estate['total_area'], 2)"
   ]
  },
  {
   "cell_type": "code",
   "execution_count": null,
   "metadata": {},
   "outputs": [],
   "source": [
    "# Конечный вид таблицы:\n",
    "display(real_estate.head(10))"
   ]
  },
  {
   "cell_type": "markdown",
   "metadata": {},
   "source": [
    "Выводы:\n",
    "\n",
    "Метрики были успешно посчитаны, исходя из условия задания, и добавлены в основную таблицу.\n",
    "Названия для новых столбцов выбраны, исходя из информации, которая в них хранится.\n",
    "В новых столбцах есть пропущенные значения в тех записях, где были пропуски исходных данных."
   ]
  },
  {
   "cell_type": "markdown",
   "metadata": {},
   "source": [
    "## Исследовательский анализ данных"
   ]
  },
  {
   "cell_type": "markdown",
   "metadata": {},
   "source": [
    "4.1 Изучение параметров: площадь, цена, число комнат, высота потолков"
   ]
  },
  {
   "cell_type": "markdown",
   "metadata": {},
   "source": [
    "1) Рассмотрим площадь квартир в столбце total_area. Построим гистограмму для данного параметра."
   ]
  },
  {
   "cell_type": "code",
   "execution_count": null,
   "metadata": {},
   "outputs": [],
   "source": [
    "# выведем информацию о распределении значений в параметре total_area методом describe()\n",
    "display(real_estate['total_area'].describe())\n",
    "# найдём .99-й квантиль значений total_area с помощью метода .quantile(.99)\n",
    "print('99-й персентиль значений total_area:', round(real_estate['total_area'].quantile(0.99), 1))\n",
    "# построим гистаграмму распределения 'total_area' методом hist().\n",
    "# разделим гистограмму на 20 участков (параметр bins=20), ограничимся значением 'total_area' < 200 (м²)\n",
    "real_estate.hist('total_area', bins=20, range = (0, 200))\n",
    "plt.show()"
   ]
  },
  {
   "cell_type": "markdown",
   "metadata": {},
   "source": [
    "Минимальная площадь 12 м², вполне правдоподобное значение, возможно продаётся комната.\n",
    "Максимальное значение - 900 м². Достаточно высокое, но также правдоподобно.\n",
    "99% значений укладывается в отрезке 12 - 200 м². Остальные случаи можно считать выбросами.\n",
    "Медианное значение (52.0) меньше среднего (60.3), следовательно, данные немного смещены влево. Это нормально: колличество небольших квартир больше, но очень большие по площади вносят вклад в смещение данных."
   ]
  },
  {
   "cell_type": "markdown",
   "metadata": {},
   "source": [
    "2) Рассмотрим цену квартир в столбце last_price. Построим гистограмму для данного параметра."
   ]
  },
  {
   "cell_type": "code",
   "execution_count": null,
   "metadata": {},
   "outputs": [],
   "source": [
    "# выведем информацию о распределении значений в параметре last_price методом describe()\n",
    "display(real_estate['last_price'].describe())\n",
    "# найдём 99-й персентиль значений last_price с помощью метода .quantile(.99)\n",
    "print('99-й персентиль значений last_price:', round(real_estate['last_price'].quantile(0.99), 1))\n",
    "# построим гистаграмму распределения 'last_price' методом hist().\n",
    "# разделим гистограмму на 30 участков (параметр bins=30), ограничим значения 'last_price' < 3.6*10**7 (.99-й квантиль)\n",
    "real_estate.hist('last_price', bins=30, range = (0, 3.6*10**7))\n",
    "plt.show()"
   ]
  },
  {
   "cell_type": "markdown",
   "metadata": {},
   "source": [
    "Минимальная площадь 12190, достаточно маленькое, но возможное значение.\n",
    "Максимальное значение - 7.6*10^8. Достаточно высокое, но также правдоподобно.\n",
    "99% значений меньше 3.6*10^7. Остальные случаи можно считать выбросами.\n",
    "Медианное значение 4.7*10^6 меньше среднего 6.5*10^6, следовательно, данные смещены влево. Это нормально: колличество дешёвых квартир больше, но очень дорогая недвижимость вносит вклад в смещение данных."
   ]
  },
  {
   "cell_type": "markdown",
   "metadata": {},
   "source": [
    "3) Рассмотрим число комнат в столбце rooms. Построим гистограмму для данного параметра."
   ]
  },
  {
   "cell_type": "code",
   "execution_count": null,
   "metadata": {},
   "outputs": [],
   "source": [
    "# выведем информацию о распределении значений в параметре rooms методом describe()\n",
    "display(real_estate['rooms'].describe())\n",
    "# найдём 99-й персентиль значений rooms с помощью метода .quantile(.99)\n",
    "print('99-й персентиль значений rooms:', round(real_estate['rooms'].quantile(0.99), 1))\n",
    "# построим гистаграмму распределения 'rooms' методом hist().\n",
    "# разделим гистограмму на 20 участков (параметр bins=20)\n",
    "real_estate.hist('rooms', bins=40) # больше корзин больше возиожностей для наглядности\n",
    "plt.show()"
   ]
  },
  {
   "cell_type": "markdown",
   "metadata": {},
   "source": [
    "Аномальные нулевые значения были преобразованы в разделе 2. Осталось 9 нулевых значений, они не внесут большого отклонения распределение, можно считать их выбросами.\n",
    "Максимальное значение - 19. Достаточно высокое, но правдоподобно.\n",
    "99% значений меньше 6. Остальные случаи можно считать выбросами.\n",
    "Медианное и среднее значения равны 2, данные практически не смещены, так как абсолютное большинство квартир имеют 1, 2, 3 и 4 комнаты. Разброс значений очень мал."
   ]
  },
  {
   "cell_type": "markdown",
   "metadata": {},
   "source": [
    "4) Рассмотрим высоту потолков в столбце ceiling_height. Построим гистограмму для данного параметра."
   ]
  },
  {
   "cell_type": "code",
   "execution_count": null,
   "metadata": {},
   "outputs": [],
   "source": [
    "# выведем информацию о распределении значений в параметре ceiling_height методом describe()\n",
    "display(real_estate['ceiling_height'].describe())\n",
    "# найдём 99.5-й персентиль значений ceiling_height с помощью метода .quantile(.995)\n",
    "print('99.5-й персентиль значений ceiling_height:', round(real_estate['ceiling_height'].quantile(0.995), 1))\n",
    "# найдём 0.5-й персентиль значений ceiling_height с помощью метода .quantile(.05)\n",
    "print('0.5-й персентиль значений ceiling_height:', round(real_estate['ceiling_height'].quantile(0.005), 1))\n",
    "# построим гистаграмму распределения 'ceiling_height' методом hist().\n",
    "# разделим гистограмму на 18 участков (параметр bins=18), \n",
    "# ограничим значения 'ceiling_height' (2.4, 4.2), отбросим 1% аномально высоких и низких значений\n",
    "real_estate.hist('ceiling_height', bins=18, range = (2.4, 4.2))\n",
    "plt.show()"
   ]
  },
  {
   "cell_type": "markdown",
   "metadata": {},
   "source": [
    "Есть небольшое аномальное поведение значении 3 м. Это может быть объяснено особенностью заполнения данных (округляли высоту до 3 м, когда реальная высота 2.9 или 3.1 м).\n",
    "Максимальное значение - 100 м, ошибочное, но таких значений мало: 99% значений меньше 4 м. Остальные случаи можно считать выбросами, они не внесут отклонение в распределение.\n",
    "Минимальное значение - 1 м, скорее всего ошибочное, но таких значений мало: 99% значений больше 2.5 м. Остальные случаи можно считать выбросами, они не внесут большое отклонение в распределение.\n",
    "Медианное и среднее значения равны 2.65 и 2.77 соответственно. Данные практически не смещены, так как абсолютное большинство квартир имеют высоту потолков 2.5 - 3.5 м. Разброс значений небольшой. Отсюда могут быть и небольшие аномалии в распределении Пуассона."
   ]
  },
  {
   "cell_type": "code",
   "execution_count": null,
   "metadata": {},
   "outputs": [],
   "source": [
    "# построим график значений для столбца с высотой потолков\n",
    "(\n",
    "    real_estate['ceiling_height']\n",
    "        .sort_values()\n",
    "        .plot(y='ceiling_height', kind='hist', bins=300, range=(1.5,4.5), grid=True, title='Высота потолков', figsize=(18,4))        \n",
    ")\n",
    "plt.show()\n",
    "(\n",
    "    real_estate['ceiling_height']\n",
    "        .sort_values()\n",
    "        .plot(y='ceiling_height', kind='hist', bins=300, range=(1.5,4.5), grid=True, title='Высота потолков', figsize=(18,4))\n",
    "        .set(ylim = (0, 200))\n",
    ")\n",
    "plt.show()"
   ]
  },
  {
   "cell_type": "markdown",
   "metadata": {},
   "source": [
    "4.2 Изучение времени продажи квартиры"
   ]
  },
  {
   "cell_type": "markdown",
   "metadata": {},
   "source": [
    "Время продажи квартиры находится в параметре days_exposition.\n",
    "Для начала определим 1-й и 99-й персентили распределения, чтобы не включать редкие значения в гистограмму."
   ]
  },
  {
   "cell_type": "code",
   "execution_count": null,
   "metadata": {},
   "outputs": [],
   "source": [
    "# найдём 99-й персентиль значений rooms с помощью метода .quantile(.99)\n",
    "print('99-й персентиль значений days_exposition:', round(real_estate['days_exposition'].quantile(0.99), 1))\n",
    "# найдём 1-й персентиль значений rooms с помощью метода .quantile(.01)\n",
    "print('1-й персентиль значений days_exposition:', round(real_estate['days_exposition'].quantile(0.01), 1))"
   ]
  },
  {
   "cell_type": "code",
   "execution_count": null,
   "metadata": {},
   "outputs": [],
   "source": [
    "# построим гистаграмму распределения 'days_exposition' методом hist().\n",
    "# разделим гистограмму на 40 участков (параметр bins=40),\n",
    "# ограничим гистограмму значениями 0 - 1067\n",
    "real_estate.hist('days_exposition', bins=40, range=(0,1067))\n",
    "plt.show()"
   ]
  },
  {
   "cell_type": "markdown",
   "metadata": {},
   "source": [
    "Теперь рассчитаем среднее, медианное значения, а также посмотрим на распределение значений с помощью метода describe()"
   ]
  },
  {
   "cell_type": "code",
   "execution_count": null,
   "metadata": {},
   "outputs": [],
   "source": [
    "print('Среднее значение времени продажи:', round(real_estate['days_exposition'].mean(),0))\n",
    "print('Медианное значение времени продажи:', round(real_estate['days_exposition'].median(),0))\n",
    "real_estate['days_exposition'].describe()"
   ]
  },
  {
   "cell_type": "markdown",
   "metadata": {},
   "source": [
    "Среднее значение в 2 раза больше медианного. Данные сильно смещены влево.\n",
    "Это означает, что большинство квартир проданы за сравнительно небольшой срок (45 - 232 дней), но есть очень долгие объявления, вносящие смещение в данные.\n",
    "1% объявлений были сняты за 4 и меньше дней. Можно считать, что это необычно короткий срок."
   ]
  },
  {
   "cell_type": "markdown",
   "metadata": {},
   "source": [
    "Теперь определим, какие сроки можно считать очень долгими. Для начала построим ящик с усами boxplot()."
   ]
  },
  {
   "cell_type": "code",
   "execution_count": null,
   "metadata": {},
   "outputs": [],
   "source": [
    "real_estate.boxplot('days_exposition');"
   ]
  },
  {
   "cell_type": "markdown",
   "metadata": {},
   "source": [
    "Можно оценить, что верхняя граница, после которой данные можно считать выбросами, находится в районе 500 дней. Но выбросы очень большие (до 1600 дней), поэтому график не очень информативен. Рассчитаем верхнюю границу вручную.\n",
    "75%Q + 1.5 * МКР = 232 + 1.5*(232 - 45) = 512\n",
    "Время продажи квартиры больше 512 дней можно считать необычно долгим."
   ]
  },
  {
   "cell_type": "markdown",
   "metadata": {},
   "source": [
    "4.3 Поиск редких и выбивающихся значений"
   ]
  },
  {
   "cell_type": "markdown",
   "metadata": {},
   "source": [
    "Ранее было рассмотрено колличество комнат (столбец rooms). Нулевые значения при общей площади < 40 м² были заменены на 1. Осталось 9 нулевых значений. Их можно удалить без ущерба для распределения выборки."
   ]
  },
  {
   "cell_type": "code",
   "execution_count": null,
   "metadata": {},
   "outputs": [],
   "source": [
    "real_estate = real_estate.loc[real_estate['rooms'] != 0]"
   ]
  },
  {
   "cell_type": "code",
   "execution_count": null,
   "metadata": {
    "scrolled": true
   },
   "outputs": [],
   "source": [
    "real_estate.shape"
   ]
  },
  {
   "cell_type": "markdown",
   "metadata": {},
   "source": [
    "Рассмотрим высоту потолков (столбец ceiling_height). Значения < 2.5 м и > 4.1 м скорее всего ошибочны. Таких даннных мало (около 1%). Следовательно, их можно удалить без ущерба распределению."
   ]
  },
  {
   "cell_type": "code",
   "execution_count": null,
   "metadata": {},
   "outputs": [],
   "source": [
    "real_estate = real_estate.loc[(real_estate['ceiling_height'].isna()) | ((real_estate['ceiling_height'] >= 2.5) \\\n",
    "                              & (real_estate['ceiling_height'] <= 4.1))]"
   ]
  },
  {
   "cell_type": "code",
   "execution_count": null,
   "metadata": {
    "scrolled": true
   },
   "outputs": [],
   "source": [
    "real_estate.shape"
   ]
  },
  {
   "cell_type": "markdown",
   "metadata": {},
   "source": [
    "Уберём квартиры с 19 комнатами.\n"
   ]
  },
  {
   "cell_type": "code",
   "execution_count": null,
   "metadata": {},
   "outputs": [],
   "source": [
    "real_estate = real_estate.loc[real_estate['rooms'] != 19]"
   ]
  },
  {
   "cell_type": "markdown",
   "metadata": {},
   "source": [
    "Уберём редкие значения в столбце общей цены и за кв. метр (миним.)"
   ]
  },
  {
   "cell_type": "code",
   "execution_count": null,
   "metadata": {},
   "outputs": [],
   "source": [
    "real_estate = real_estate.loc[real_estate['meter_price'] != 111.8]\n",
    "real_estate = real_estate.loc[real_estate['last_price'] != 763000000]"
   ]
  },
  {
   "cell_type": "markdown",
   "metadata": {},
   "source": [
    "Обновим индексы в таблице после удаления строк методом reset_index()"
   ]
  },
  {
   "cell_type": "code",
   "execution_count": null,
   "metadata": {},
   "outputs": [],
   "source": [
    "real_estate = real_estate.reset_index(drop=True)"
   ]
  },
  {
   "cell_type": "code",
   "execution_count": null,
   "metadata": {},
   "outputs": [],
   "source": [
    "pd.options.display.float_format = '{:,.2f}'.format"
   ]
  },
  {
   "cell_type": "markdown",
   "metadata": {},
   "source": [
    "4.4 Поиск факторов влияющих на стоимость квартиры"
   ]
  },
  {
   "cell_type": "markdown",
   "metadata": {},
   "source": [
    "Рассмотрим влияние на стоимость last_price: площади квартиры total_area, числа комнат rooms, удалённости от центра cityCenters_nearest, этажа квартиры floor_cat, даты размещения: дня недели, месяца и года (параметры publish_weekday, publish_month и publish_year соответственно).\n",
    "Построим графики зависимостей данных параметров (scatterplot), с помощью метода plot()\n",
    "Стоимость квартиры ограничим значением 3.6 * 10^7 (99% всех значений). Остальные значения будем считать выбросами.\n",
    "Также определим коэффициент корреляции Пирсона для каждой пары параметров."
   ]
  },
  {
   "cell_type": "markdown",
   "metadata": {},
   "source": [
    "Создадим вспомогательную функцию для построения графиков scatterplot."
   ]
  },
  {
   "cell_type": "code",
   "execution_count": null,
   "metadata": {},
   "outputs": [],
   "source": [
    "def last_price_scatter(column, xrange, need_median=False):\n",
    "    \"\"\"\n",
    "    input: column (str) - название столбца для оси X графика\n",
    "           xrange (tuple) - пределы значений в столбце column для построения графика\n",
    "           need_median (bool) - флаг для построения кривой медиан (для каегориальных данных по оси X)\n",
    "    output: None\n",
    "    Функция строит scatteplot зависимости цены за квартиру 'last_price' от параметра column. \n",
    "    Дополнительно при need_median=True функция считает медианное значение 'last_price' для каждого значения column\n",
    "    и строит кривую median в тех же осях координат.\n",
    "    \"\"\"\n",
    "    ax = real_estate.plot(x = column,\n",
    "                          y = 'last_price',\n",
    "                          kind = 'scatter',         # тип графика\n",
    "                          style = 'o',              # отображение данных точками\n",
    "                          alpha = 0.3,              # прозрачность (для визуализации плотности данных)\n",
    "                          figsize = (8, 4),         # размер графика\n",
    "                          xlim = xrange,            # пределы по оси x\n",
    "                          ylim = (0, 3.6*10**7),    # пределы по оси y\n",
    "                          grid = True               # отобразить сетку\n",
    "                         )\n",
    "    if need_median:\n",
    "        # сгруппируем объявления по column и найдём медианные значения стоимости квартир для каждой группы\n",
    "        (real_estate\n",
    "         .groupby(column)['last_price']\n",
    "         .agg(['median'])\n",
    "         # отобразим медианы стоимости квартир для разных групп\n",
    "         .plot(ax = ax,\n",
    "               y = 'median',\n",
    "               style = '-or',\n",
    "               legend = True,          # отобразить подпись графика\n",
    "               label = 'median',    # название кривой\n",
    "               grid = True              # отобразить сетку\n",
    "              )\n",
    "        )      \n",
    "        \n",
    "    plt.show()"
   ]
  },
  {
   "cell_type": "markdown",
   "metadata": {},
   "source": [
    "1) Зависимость last_price от total_area.\n",
    "Ограничим площадь квартиры значением 198 (99% всех значений), чтобы отбросить редкие выбросы для наглядности."
   ]
  },
  {
   "cell_type": "code",
   "execution_count": null,
   "metadata": {},
   "outputs": [],
   "source": [
    "# построим график функцией last_price_scatter()\n",
    "last_price_scatter('total_area', xrange=(0, 198))\n",
    "\n",
    "# Определим коэффициент корреляции Пирсона методом corr()\n",
    "print('Коэффициент корреляции Пирсона между last_price и total_area:', \\\n",
    "      round(real_estate['last_price'].corr(real_estate['total_area']), 3))"
   ]
  },
  {
   "cell_type": "markdown",
   "metadata": {},
   "source": [
    "По графику видно, что в среднем стоимость квартиры растёт с увеличением общей площади.\n",
    "Коэффициент корреляции Пирсона 0.646 также подтверждает положительную зависимость. Значение коэффициента не очень высокое, зависимость между параметрами достаточно слабая."
   ]
  },
  {
   "cell_type": "markdown",
   "metadata": {},
   "source": [
    "2) Зависимость last_price от rooms.\n",
    "Ограничим колличество комнат значением 7 (99% всех значений), чтобы отбросить редкие выбросы для наглядности."
   ]
  },
  {
   "cell_type": "code",
   "execution_count": null,
   "metadata": {},
   "outputs": [],
   "source": [
    "# построим график функцией last_price_scatter()\n",
    "last_price_scatter('rooms', xrange=(0.5, 7.2), need_median=True)\n",
    "\n",
    "# Определим коэффициент корреляции Пирсона методом corr()\n",
    "print('Коэффициент корреляции Пирсона между last_price и rooms:', \\\n",
    "      round(real_estate['last_price'].corr(real_estate['rooms']), 3))"
   ]
  },
  {
   "cell_type": "markdown",
   "metadata": {},
   "source": [
    "По графику видно, что в среднем стоимость квартиры растёт с увеличением колличества комнат.\n",
    "Коэффициент корреляции Пирсона 0.361 также подтверждает положительную зависимость. Значение коэффициента низкое, зависимость между параметрами достаточно слабая."
   ]
  },
  {
   "cell_type": "markdown",
   "metadata": {},
   "source": [
    "3) Зависимость last_price от cityCenters_nearest"
   ]
  },
  {
   "cell_type": "markdown",
   "metadata": {},
   "source": [
    "Ограничим колличество комнат значением 0.50067 (99% персентиль), чтобы отбросить редкие выбросы для наглядности."
   ]
  },
  {
   "cell_type": "code",
   "execution_count": null,
   "metadata": {},
   "outputs": [],
   "source": [
    "# построим график функцией last_price_scatter()\n",
    "last_price_scatter('cityCenters_nearest', xrange=(0, 50067))\n",
    "\n",
    "# Определим коэффициент корреляции Пирсона методом corr()\n",
    "print('Коэффициент корреляции Пирсона между last_price и cityCenters_nearest:', \\\n",
    "      round(real_estate['last_price'].corr(real_estate['cityCenters_nearest']), 3))"
   ]
  },
  {
   "cell_type": "markdown",
   "metadata": {},
   "source": [
    "По графику видно, что в среднем стоимость квартиры падает с увеличением расстояния до центра.\n",
    "Коэффициент корреляции Пирсона -0.205 также подтверждает отрицательную зависимость. Значение коэффициента низкое, зависимость между параметрами достаточно слабая."
   ]
  },
  {
   "cell_type": "markdown",
   "metadata": {},
   "source": [
    "4) Зависимость last_price от floor_cat."
   ]
  },
  {
   "cell_type": "code",
   "execution_count": null,
   "metadata": {},
   "outputs": [],
   "source": [
    "# построим график функцией last_price_scatter()\n",
    "last_price_scatter('floor_cat', xrange=(-0.1, 2.1), need_median=True)"
   ]
  },
  {
   "cell_type": "markdown",
   "metadata": {},
   "source": [
    "По графику видно, что в среднем стоимость квартиры практически не зависит от этажа. На первом этаже стоимость квартир немного ниже, но разница незначительна."
   ]
  },
  {
   "cell_type": "markdown",
   "metadata": {},
   "source": [
    "5) Зависимость last_price от publish_weekday."
   ]
  },
  {
   "cell_type": "code",
   "execution_count": null,
   "metadata": {},
   "outputs": [],
   "source": [
    "# построим график функцией last_price_scatter()\n",
    "last_price_scatter('publish_weekday', xrange=(-0.1, 6.1), need_median=True)"
   ]
  },
  {
   "cell_type": "markdown",
   "metadata": {},
   "source": [
    "По графику видно, что в среднем стоимость квартиры никак не зависит от дня недели размещения объявления."
   ]
  },
  {
   "cell_type": "markdown",
   "metadata": {},
   "source": [
    "6) Зависимость last_price от publish_month."
   ]
  },
  {
   "cell_type": "code",
   "execution_count": null,
   "metadata": {},
   "outputs": [],
   "source": [
    "# построим график функцией last_price_scatter()\n",
    "last_price_scatter('publish_month', xrange=(0.8, 12.2), need_median=True)"
   ]
  },
  {
   "cell_type": "markdown",
   "metadata": {},
   "source": [
    "По графику видно, что в среднем стоимость квартиры никак не зависит от месяца размещения объявления."
   ]
  },
  {
   "cell_type": "markdown",
   "metadata": {},
   "source": [
    "7) Зависимость last_price от publish_year."
   ]
  },
  {
   "cell_type": "code",
   "execution_count": null,
   "metadata": {},
   "outputs": [],
   "source": [
    "# построим график функцией last_price_scatter()\n",
    "last_price_scatter('publish_year', xrange=(2013.8, 2019.2), need_median=True)"
   ]
  },
  {
   "cell_type": "markdown",
   "metadata": {},
   "source": [
    "На графике видно, что с 2014 по 2016 год наблюдалось снижение стоимости квартир. С 2017 по 2019 год наблюдается незначительное повышение стоимости."
   ]
  },
  {
   "cell_type": "markdown",
   "metadata": {},
   "source": [
    "4.5 Исследование стоимости квадратного метра в различных районах"
   ]
  },
  {
   "cell_type": "markdown",
   "metadata": {},
   "source": [
    "Сгруппируем объявления по названию населённого пункта, посчитаем колличество записей в каждой группе, а также медианное значение стоимости квадратного метра. После этого отсортируем результат по убыванию колличества записей и выберем первые 10 групп. Результат запишем в переменную localities."
   ]
  },
  {
   "cell_type": "code",
   "execution_count": null,
   "metadata": {},
   "outputs": [],
   "source": [
    "localities = (real_estate\n",
    "              .groupby('locality_name')['meter_price']\n",
    "              .agg(['count', 'mean'])\n",
    "              .sort_values(by='count', ascending=False)\n",
    "              .head(10)\n",
    "             )\n",
    "display(localities)"
   ]
  },
  {
   "cell_type": "markdown",
   "metadata": {},
   "source": [
    "Посчитаем 99-й персентиль стоимости квадратного метра. Далее будем использовать полученное значение как верхнюю границу графика (отбросим 1% редких значений, чтобы сделать график нагляднее)."
   ]
  },
  {
   "cell_type": "code",
   "execution_count": null,
   "metadata": {},
   "outputs": [],
   "source": [
    "print('99-й персентиль значений meter_price:', round(real_estate['meter_price'].quantile(0.99), 1))"
   ]
  },
  {
   "cell_type": "code",
   "execution_count": null,
   "metadata": {},
   "outputs": [],
   "source": [
    "# построим график scatterplot зависимости meter_price от locality_name\n",
    "ax = (real_estate\n",
    " .query('locality_name in @localities.index')   # срез данных из основной таблицы, \n",
    "                                                # где locality_name совпадает с индексами из таблицы localities\n",
    " .plot(x = 'locality_name',\n",
    "       y = 'meter_price',\n",
    "       kind = 'scatter',         # тип графика\n",
    "       style = 'o',              # отображение данных точками\n",
    "       alpha = 0.3,              # прозрачность (для визуализации плотности данных)\n",
    "       figsize = (8, 4),         # размер графика\n",
    "       ylim = (0, 2.7*10**5),    # пределы по оси y\n",
    "       )\n",
    "     )\n",
    "\n",
    "# сохраним в переменной `locals_list` список районов в таком же порядке, как на графике\n",
    "locals_list = real_estate.query('locality_name in @localities.index')['locality_name'].unique()\n",
    "# изменим порядок индексов в localities для корректного отображения медиан на графике.\n",
    "localities = localities.reindex(locals_list)\n",
    "# отобразим медианы стоимости квадратного метра на графике с данными\n",
    "localities.plot(ax=ax,           # копируем оси с предыдущего графика\n",
    "                y = 'mean',    # медианы стоимости квадратного метра по оси y\n",
    "                style = '-or',   # стиль кривой - красная линия с точками в местах расчётов\n",
    "                grid = True      # отобразить сетку на графике\n",
    "               )\n",
    "\n",
    "# повернём названия районов на 45 градусов против часовой стрелки\n",
    "plt.xticks(rotation=45, ha='right')\n",
    "plt.show()"
   ]
  },
  {
   "cell_type": "markdown",
   "metadata": {},
   "source": [
    "Самая высокая средняя стоимость жилья в Санкт-Петербурге: 114694.6 за квадратный метр\n",
    "Самая низкая средняя стоимость жилья в Выборге: 58190.1 за квадратный метр"
   ]
  },
  {
   "cell_type": "markdown",
   "metadata": {},
   "source": [
    "4.6 Определение границы центрального района в Санкт-Петербурге"
   ]
  },
  {
   "cell_type": "markdown",
   "metadata": {},
   "source": [
    "Задача — выяснить, какая область входит в центр.\n",
    "Выделим квартиры в Санкт-Петербурге (locality_name) методом loc и сохраним их в переменной real_estate_peter.\n",
    "Создадим столбец dist_center с расстоянием до центра в километрах, округлим до целых значений.\n",
    "Посчитаем среднюю цену для каждого километра. Построим график зависимости цены от удалённости от центра.\n",
    "Определим границу, где график сильно меняется — это и будет центральная зона."
   ]
  },
  {
   "cell_type": "code",
   "execution_count": null,
   "metadata": {},
   "outputs": [],
   "source": [
    "# методом query получим срез данных, результат запишем в таблицу real_estate_peter\n",
    "# сбросим индексы методом reset_index(drop=True)\n",
    "real_estate_peter = (real_estate\n",
    "                     .query('locality_name == \"Санкт-Петербург\"')\n",
    "                     .reset_index(drop=True)\n",
    "                    )\n",
    "\n",
    "# в dist_center запишем расстояние до центра в километрах, округлим значение методом round()\n",
    "real_estate_peter['dist_center'] = round(real_estate_peter['cityCenters_nearest'] / 1000, 0)"
   ]
  },
  {
   "cell_type": "markdown",
   "metadata": {},
   "source": [
    "Создадим вспомогательную функцию для отображения графиков scatterplot для квартир в центре Санкт-Петербурга"
   ]
  },
  {
   "cell_type": "code",
   "execution_count": null,
   "metadata": {},
   "outputs": [],
   "source": [
    "def peter_last_price_scatter(column, xrange, need_median=False, center_data=False):\n",
    "    \"\"\"\n",
    "    input: column (str) - название столбца для оси X графика\n",
    "           xrange (tuple) - пределы значений в столбце column для построения графика\n",
    "           need_median (bool) - флаг для построения кривой медиан (для каегориальных данных по оси X)\n",
    "           center_data (bool) - флаг для построения данных для квартир в централлььном районе\n",
    "    output: None\n",
    "    Функция строит scatteplot зависимости цены за квадратный метр 'meter_price' от параметра column. \n",
    "    Дополнительно при need_median=True функция считает медианное значение 'meter_price' для каждого значения column\n",
    "    и строит кривую median в тех же осях координат.\n",
    "    При center_data=True, функия сторит такие же графики в тех же осях для квартир в центре города\n",
    "    Данные берутся из таблицы для квартир Санкт-Петербурга `real_estate_peter` \n",
    "    Данные для центра Санкт-Петербурга берутся из таблицы `real_estate_center`\n",
    "    \"\"\"\n",
    "    # построим график scatter зависимости цены за квадратный метр от расстояния до центра\n",
    "    ax = real_estate_peter.plot(x = column,\n",
    "                    y = 'last_price',\n",
    "                    kind = 'scatter',         # тип графика\n",
    "                    style = 'o',              # отображение данных точками\n",
    "                    alpha = 0.3,              # прозрачность (для визуализации плотности данных)\n",
    "                    figsize = (8, 4),         # размер графика\n",
    "                    ylim = (0, 3.6*10**7),    # пределы по оси y\n",
    "                    xlim = xrange,\n",
    "                    grid = True\n",
    "                    )\n",
    "    if need_median:\n",
    "        # сгруппируем данные по расстоянию до центра, посчитаем медианное значение цены за квадратный метр\n",
    "        (real_estate_peter\n",
    "         .groupby(column)['last_price']\n",
    "         .agg(['median'])\n",
    "         # на тех же осях отобразим кривую изменения медианного значения цены за квадратный метр от расстояния до центра.\n",
    "         .plot(ax=ax,                   # копируем оси с предыдущего графика\n",
    "               y = 'median',            # медианы стоимости квадратного метра по оси y\n",
    "               style = '-or',           # стиль кривой - красная линия с точками в местах расчётов\n",
    "               legend = True,              # отобразить подпись графика\n",
    "               label = 'median peter',    # название кривой               \n",
    "               grid = True              # отобразить сетку на графике\n",
    "              )\n",
    "        )\n",
    "    \n",
    "    # при необходимости построить данные из другой таблицы на тех же осях\n",
    "    if center_data:\n",
    "        real_estate_center.plot(ax=ax,\n",
    "                              x = column,\n",
    "                              y = 'last_price',\n",
    "                              kind = 'scatter',         # тип графика\n",
    "                              style = 'o',              # отображение данных точками\n",
    "                              color = 'green',\n",
    "                              alpha = 0.3,              # прозрачность (для визуализации плотности данных)\n",
    "                              figsize = (8, 4),         # размер графика\n",
    "                              xlim = xrange,            # пределы по оси x\n",
    "                              ylim = (0, 3.6*10**7),    # пределы по оси y\n",
    "                              grid = True               # отобразить сетку\n",
    "                              )\n",
    "        if need_median:\n",
    "            # сгруппируем объявления по column и найдём медианные значения стоимости квартир для каждой группы\n",
    "            (real_estate_center\n",
    "             .groupby(column)['last_price']\n",
    "             .agg(['median'])\n",
    "             # отобразим медианы стоимости квартир для разных групп\n",
    "             .plot(ax = ax,\n",
    "                   y = 'median',\n",
    "                   style = '-oy',\n",
    "                   legend = True,              # отобразить подпись графика\n",
    "                   label = 'median center',    # название кривой\n",
    "                   grid = True                 # отобразить сетку\n",
    "                  )\n",
    "            )\n",
    "        \n",
    "    plt.show()"
   ]
  },
  {
   "cell_type": "code",
   "execution_count": null,
   "metadata": {},
   "outputs": [],
   "source": [
    "peter_last_price_scatter('dist_center', xrange=(-1,30), need_median=True)"
   ]
  },
  {
   "cell_type": "markdown",
   "metadata": {},
   "source": [
    "Цена квартиры начинает быстро расти при расстоянии до центра <= 3 км. Будем считать границу центрадьного района за 3км"
   ]
  },
  {
   "cell_type": "markdown",
   "metadata": {},
   "source": [
    "4.7 Исследование квартир в центральном районе Санкт-Петербурга"
   ]
  },
  {
   "cell_type": "markdown",
   "metadata": {},
   "source": [
    "1) Сохраним в таблице real_estate_center объявления о квартирах в центре Санкт-петербурга"
   ]
  },
  {
   "cell_type": "code",
   "execution_count": null,
   "metadata": {},
   "outputs": [],
   "source": [
    "# Сделаем срез данных из таблицы `real_estate_peter`, где расстояние до центра до 3 метров.\n",
    "# результат запишем в таблицу `real_estate_center`\n",
    "real_estate_center = (real_estate_peter\n",
    "                      .query('dist_center <= 3')\n",
    "                      .reset_index(drop=True)\n",
    "                     )"
   ]
  },
  {
   "cell_type": "markdown",
   "metadata": {},
   "source": [
    "2) Проанализируем эту территорию и изучим следующие параметры: площадь, цена, число комнат, высота потолков."
   ]
  },
  {
   "cell_type": "markdown",
   "metadata": {},
   "source": [
    "Создадим вспомогательную функцию для построения двух гистограмм (для всех объявлений и квартир в центре Санкт-Петербурга) в одной системе координат для наглядного сравнения различных параметров."
   ]
  },
  {
   "cell_type": "code",
   "execution_count": null,
   "metadata": {},
   "outputs": [],
   "source": [
    "def show_histograms(column, bins, lims):\n",
    "    \"\"\"\n",
    "    input: column (str) - название столбца для построения гистограммы\n",
    "           bins (int)   - колличество ячеек для гистограмм\n",
    "           lims (tuple) - пределы значений в столбце column для построения гистограмм\n",
    "    output: None\n",
    "    Функция строит две гистограммы из таблиц real_estate и real_estate_center для столбца column\n",
    "    в одной системе координат. Гистограммы отображают плотности распределения значений для наглядности.\n",
    "    \"\"\"\n",
    "    ax = real_estate_peter.plot(kind = 'hist',\n",
    "                          y = column,\n",
    "                          histtype = 'step',       # данный тип удобен для сравнения двух гистограмм\n",
    "                          bins = bins,\n",
    "                          range = lims,\n",
    "                          alpha = 0.5,\n",
    "                          linewidth = 2,           # ширина графика\n",
    "                          grid = True,\n",
    "                          density = True,          # отобразить плотность распределения данных\n",
    "                          legend = True,           # отобразить пояснение для графиков\n",
    "                          label = column + ' all'  # строка подписи для графиков\n",
    "                         )\n",
    "    real_estate_center.plot(kind = 'hist',\n",
    "                            y = column,\n",
    "                            histtype = 'step',\n",
    "                            ax = ax,               # отобразить график в осях предыдущей гистограммы\n",
    "                            bins = bins,\n",
    "                            range = lims,\n",
    "                            alpha = 0.5,\n",
    "                            linewidth = 2,\n",
    "                            grid = True,\n",
    "                            density = True,\n",
    "                            legend = True,\n",
    "                            label = column + ' center'\n",
    "                           )\n",
    "    # density=True - необходимо для отображения двух гистограмм в одной системе координат.\n",
    "    plt.show()"
   ]
  },
  {
   "cell_type": "code",
   "execution_count": null,
   "metadata": {},
   "outputs": [],
   "source": [
    "# методом describe посмотрим на численное распределение площади 'total_area' для квартир в центре Санкт-Петербурга\n",
    "display(real_estate_center['total_area'].describe())\n",
    "\n",
    "# построим гистаграмму распределения 'total_area' методом hist().\n",
    "# разделим гистограмму на 25 участков, ограничимся значением 'total_area' < 300 (м²) (99% всех данных)\n",
    "show_histograms('total_area', bins=25, lims=(0, 300))"
   ]
  },
  {
   "cell_type": "markdown",
   "metadata": {},
   "source": [
    "Среднее и медианное значения total_area для квартир в центре равны соответственно 98.7 и 85.0.\n",
    "Среднее и медианное значения total_area для всех квартир в городе более низкие и равны соответственно 64.5 и 55.0.\n",
    "На гистограммах также хорошо видно смещение в сторону больших значений для квартир в центре (с обоих сторон от пиков гистограмм)."
   ]
  },
  {
   "cell_type": "code",
   "execution_count": null,
   "metadata": {},
   "outputs": [],
   "source": [
    "# посмотрим на численное распределение цены за квадратный метр 'meter_price' для квартир в центре Санкт-Петербурга\n",
    "display(real_estate_center['meter_price'].describe())\n",
    "\n",
    "# построим гистаграмму распределения 'meter_price' методом hist().\n",
    "# разделим гистограмму на 25 участков, ограничимся значением 'meter_price' (0, 2.7*10**5) (99% всех данных)\n",
    "show_histograms('meter_price', bins=25, lims=(0, 2.7*10**5))\n"
   ]
  },
  {
   "cell_type": "markdown",
   "metadata": {},
   "source": [
    "Среднее и медианное значения meter_price для квартир в центре равны соответственно 1.25 и 1.17 (*10^5).\n",
    "Среднее и медианное значения meter_price для всех квартир более низкие и равны соответственно 1.15 и 1.05 (*10^5).\n",
    "На гистограммах также видно небольшое смещение в сторону больших значений для квартир в центре (с обоих сторон от пиков гистограмм)."
   ]
  },
  {
   "cell_type": "code",
   "execution_count": null,
   "metadata": {},
   "outputs": [],
   "source": [
    "# посмотрим на численное распределение колличества комнат 'rooms' для квартир в центре Санкт-Петербурга\n",
    "display(real_estate_center['rooms'].describe())\n",
    "\n",
    "# построим гистаграмму распределения 'rooms' методом hist().\n",
    "# разделим гистограмму на 10 участков, ограничимся значением 'rooms' (0, 10) (99% всех данных)\n",
    "show_histograms('rooms', bins=10, lims=(0, 10))"
   ]
  },
  {
   "cell_type": "markdown",
   "metadata": {},
   "source": [
    "Среднее и медианное значения rooms для квартир в центре равны 3.\n",
    "Среднее и медианное значения rooms для всех квартир более низкие и равны 2.\n",
    "На гистограммах также хорошо видно смещение в сторону больших значений для квартир в центре (с обоих сторон от пиков гистограмм)."
   ]
  },
  {
   "cell_type": "code",
   "execution_count": null,
   "metadata": {},
   "outputs": [],
   "source": [
    "# посмотрим на численное распределение высоты потолков 'ceiling_height' для квартир в центре Санкт-Петербурга\n",
    "display(real_estate_center['ceiling_height'].describe())\n",
    "\n",
    "# построим гистаграмму распределения 'ceiling_height' методом hist().\n",
    "# разделим гистограмму на 9 участков, ограничимся значением 'ceiling_height' (2.4, 4.2) (99% всех данных)\n",
    "show_histograms('ceiling_height', bins=9, lims=(2.4, 4.2))"
   ]
  },
  {
   "cell_type": "markdown",
   "metadata": {},
   "source": [
    "Среднее и медианное значения ceiling_height для квартир в центре равны соответственно 3.19 и 3.2.\n",
    "Среднее и медианное значения ceiling_height для всех квартир более низкие и равны соответственно 2.76 и 2.7.\n",
    "На гистограммах также хорошо видно смещение в сторону больших значений для квартир в центре (с обоих сторон от пиков гистограмм)."
   ]
  },
  {
   "cell_type": "markdown",
   "metadata": {},
   "source": [
    "3) Выделим факторы, влияющие на стоимость квартиры (число комнат, этаж, удалённость от центра, дата размещения объявления)."
   ]
  },
  {
   "cell_type": "markdown",
   "metadata": {},
   "source": [
    "Рассмотрим зависимость цены квартиры last_price от колличества комнат rooms для всех объявлений и для квартир в центре."
   ]
  },
  {
   "cell_type": "code",
   "execution_count": null,
   "metadata": {},
   "outputs": [],
   "source": [
    "# построим график зависимости функцией last_price_scatter()\n",
    "peter_last_price_scatter('rooms', xrange=(0, 7.2), need_median=True, center_data=True)\n",
    "\n",
    "# Определим коэффициент корреляции Пирсона методом corr()\n",
    "print('Коэффициент корреляции Пирсона между last_price и rooms по всему городу:', \\\n",
    "      round(real_estate_peter['last_price'].corr(real_estate_peter['rooms']), 3))\n",
    "print('Коэффициент корреляции Пирсона между last_price и rooms в центре города:', \\\n",
    "      round(real_estate_center['last_price'].corr(real_estate_center['rooms']), 3))"
   ]
  },
  {
   "cell_type": "markdown",
   "metadata": {},
   "source": [
    "На рафике видно, что при небольшом колличестве комнат, медианное значение last_price немного выше для квартир в центре. При росте числа комнат (6 и выше) разница в цене практически отсутствует. Возможно, данных недостаточно для более точной оценки и информация для большого числа комнат недостоверна.\n",
    "Коэффициент корреляции Пирсона для квартир в центре 0.237, меньше, чем для всего города (0.369). Это может быть обусловлено общей повышенной стоимостью квартир в центре города."
   ]
  },
  {
   "cell_type": "markdown",
   "metadata": {},
   "source": [
    "Рассмотрим зависимость цены квартиры last_price от этажа floor_cat для всех объявлений и для квартир в центре."
   ]
  },
  {
   "cell_type": "code",
   "execution_count": null,
   "metadata": {},
   "outputs": [],
   "source": [
    "# построим график зависимости функцией last_price_scatter()\n",
    "peter_last_price_scatter('floor_cat', xrange=(-0.1, 2.2), need_median=True, center_data=True)"
   ]
  },
  {
   "cell_type": "markdown",
   "metadata": {},
   "source": [
    "На рафике видно, что медианное значение last_price немного выше для квартир в центре для всех вариантов floor_cat. Это обусловлено общей повышенной стоимостью квартир в центральном районе."
   ]
  },
  {
   "cell_type": "markdown",
   "metadata": {},
   "source": [
    "Рассмотрим зависимость цены квартиры last_price от удалённости от центра cityCenters_nearest для всех объявлений и для квартир в центре."
   ]
  },
  {
   "cell_type": "code",
   "execution_count": null,
   "metadata": {},
   "outputs": [],
   "source": [
    "# построим график зависимости функцией last_price_scatter()\n",
    "peter_last_price_scatter('cityCenters_nearest', xrange=(0, 3000), center_data=True)\n",
    "\n",
    "# Определим коэффициент корреляции Пирсона методом corr()\n",
    "print('Коэффициент корреляции Пирсона между last_price и cityCenters_nearest для квартир в центре:', \\\n",
    "      round(real_estate_peter['last_price'].corr(real_estate_peter['cityCenters_nearest']), 3))\n",
    "print('Коэффициент корреляции Пирсона между last_price и cityCenters_nearest для всех квартир:', \\\n",
    "      round(real_estate_center['last_price'].corr(real_estate_center['cityCenters_nearest']), 3))"
   ]
  },
  {
   "cell_type": "markdown",
   "metadata": {},
   "source": [
    "Коэффициент корреляции Пирсона для квартир в центре -0.163, немного меньше по абсолютному значению, чем для квартир по всему городу (-0.257). Зависимость между удалённостью от центра ценой за квартиру немного выше у квартир по всему городу. Но для квартир в центре данных не очень много, информация может быть недостоверной."
   ]
  },
  {
   "cell_type": "markdown",
   "metadata": {},
   "source": [
    "Рассмотрим зависимость цены квартиры last_price от года publish_year для всех объявлений и для квартир в центре."
   ]
  },
  {
   "cell_type": "code",
   "execution_count": null,
   "metadata": {},
   "outputs": [],
   "source": [
    "# построим график зависимости функцией last_price_scatter()\n",
    "peter_last_price_scatter('publish_year', xrange=(2013.8, 2019.2), need_median=True, center_data=True)"
   ]
  },
  {
   "cell_type": "markdown",
   "metadata": {},
   "source": [
    "На рафике видно, что медианное значение last_price почти в 2 раза выше для квартир в центре для объявлений после 2015 года publish_year. Это обусловлено общей повышенной стоимостью квартир в центральном районе.\n",
    "С 2014 по 2015 год для квартир в центральном районе наблюдается более резкий спад в цене, чем для объявлений по всему городу."
   ]
  },
  {
   "cell_type": "markdown",
   "metadata": {},
   "source": [
    "Выводы:\n",
    "\n",
    "Изучены параметры квартир: площадь, цена, число комнат, высота потолков. Распределения данных близки к распределению Пуассона\n",
    "Аномальные данные (нулевые значения колличества комнат и тд) выявлены, по возможности исправлены, небольшие неправдоподобные выбросы удалены.\n",
    "Изучено время продажи квартир. Распределение близко к Распределению Пуассона. Аномальных пиков в гистограмме не выявлено. Данные сильно смещены влево (среднее значение в 2 раза больше медианного). Бльшинство квартир продаётся за 45-232 дней. Время продажи меньше 4 дней и больше 512 дней можно считать необычными выбросами.\n",
    "Проанализированы факторы, влияющие на стоимость квартиры. Наибольшую корреляцию показали: общая площадь total_area, колличество комнат rooms, удалённость от центра города cityCenters_nearest. Также выявлена зависимость цены от года размещения объявления publish_year. Это может быть обусловлено колебаниями рынка недвижимости.\n",
    "Проанализирована стоимость квадратного метра в различных районах. Самым дорогим оказался Санкт-Петербург (114694.6), самая дешёвая стоимость квадратного метра в Выборге (58190.1).\n",
    "Проанализирована зависимость цены за квадратный метр от расстояния до центра города в Санкт-Петербурге. Граница центрального района около 3 км.\n",
    "Рассмотрены факторы, влияющие на стоимость квартиры в Санкт-Петербурге и его центре. Отмечена общая повышенная стоимость квартир в центральном районе. В остальном корреляции не сильно отличаются. Замечен резкий спад в цене за квартиру в центральном районе в период с 2014-2015 гг (примерно в 3.5 раза)."
   ]
  },
  {
   "cell_type": "markdown",
   "metadata": {},
   "source": [
    "## Общий вывод"
   ]
  },
  {
   "cell_type": "markdown",
   "metadata": {},
   "source": [
    "1) Данные в таблице real_estate_data.csv о продаже квартир содержат много пропущенной информации (от 5 до 65 % пропусков в различных столбцах). Часть информации могла быть утеряна в результате сбоев системы при загрузке/выгрузке данных. Часть информации могла отсутствовать изначально (объявления не были заполнены на 100%). Информация была восстановлена по существующим данным из других параметров, или оставлениа как есть.\n",
    "\n",
    "2) Аномальные/неправдоподобные данные были частично исправлены, исходя из данных таблицы. Небольшие выбросы (до 1%), не влияющие на общее распределение данных, были удалены. Также типы данных были исправлены, логики хранящейся информации.\n",
    "\n",
    "3) Дополнитеьные параметры (цена квадратного метра, год публикации, категории этажа квартиры и тд) были рассчитаны добавлены в исходную таблицу для дальнейших исследований.\n",
    "\n",
    "4) Аномальных пиков после преобразования данных не замечено.\n",
    "\n",
    "5) Время продажи квартир имеет достаточно большой разброс: 45-232 дней. Выбросами можно считать время меньше 4 дней или больше 512. Это может говорить о нестабильности рынка недвижимости.\n",
    "\n",
    "6) На стоимость квартиры больше всего влияют параметры: общая площадь, колличество комнат, удалённость от центра. Также замечен спад цен на недвижимость в 2014-2015 гг (особенно для квартир в центральном районе Санкт-Петербурга).\n",
    "\n",
    "7) Проанализирована стоимость квадратного метра в различных районах. Самым дорогим оказался Санкт-Петербург (114694.6), самая дешёвая стоимость квадратного метра в Выборге (58190.1).\n",
    "\n",
    "8) Судя по изменению стоимости квартир за квадратный метр, граница центрального района Санкт-петербурга около 3 км.\n",
    "\n",
    "9) Факторы, влияющие на стоимость квартир в Санкт-Петербурге, выражены сильнее для города в целом, чем для его центрального района (коэффициенты корреляции меньше для центрального района). Но отличия невелики (разница в коэффициентах корреляции Пирсона 0.1-0.15). Это может быть обусловлено общей повышенной стоимостью квартир в центральном районе"
   ]
  },
  {
   "cell_type": "markdown",
   "metadata": {},
   "source": [
    "## Чек-лист готовности проекта\n",
    "\n",
    "Поставьте 'x' в выполненных пунктах. Далее нажмите Shift+Enter."
   ]
  },
  {
   "cell_type": "markdown",
   "metadata": {},
   "source": [
    "- [x]  открыт файл\n",
    "- [x]  файлы изучены (выведены первые строки, метод `info()`)\n",
    "- [x]  определены пропущенные значения\n",
    "- [x]  заполнены пропущенные значения\n",
    "- [x]  есть пояснение, какие пропущенные значения обнаружены\n",
    "- [x]  изменены типы данных\n",
    "- [x]  есть пояснение, в каких столбцах изменены типы и почему\n",
    "- [x]  посчитано и добавлено в таблицу: цена квадратного метра\n",
    "- [x]  посчитано и добавлено в таблицу: день недели, месяц и год публикации объявления\n",
    "- [x]  посчитано и добавлено в таблицу: этаж квартиры; варианты — первый, последний, другой\n",
    "- [x]  посчитано и добавлено в таблицу: соотношение жилой и общей площади, а также отношение площади кухни к общей\n",
    "- [x]  изучены следующие параметры: площадь, цена, число комнат, высота потолков\n",
    "- [x]  построены гистограммы для каждого параметра\n",
    "- [x]  выполнено задание: «Изучите время продажи квартиры. Постройте гистограмму. Посчитайте среднее и медиану. Опишите, сколько обычно занимает продажа. Когда можно считать, что продажи прошли очень быстро, а когда необычно долго?»\n",
    "- [x]  выполнено задание: «Уберите редкие и выбивающиеся значения. Опишите, какие особенности обнаружили».\n",
    "- [x]  выполнено задание: «Какие факторы больше всего влияют на стоимость квартиры? Изучите, зависит ли цена от квадратного метра, числа комнат, этажа (первого или последнего), удалённости от центра. Также изучите зависимость от даты размещения: дня недели, месяца и года». \n",
    "- [x]  выполнено задание: «Выберите 10 населённых пунктов с наибольшим числом объявлений. Посчитайте среднюю цену квадратного метра в этих населённых пунктах. Выделите населённые пункты с самой высокой и низкой стоимостью жилья. Эти данные можно найти по имени в столбце `locality_name`».\n",
    "- [x]  выполнено задание: «Изучите предложения квартир: для каждой квартиры есть информация о расстоянии до центра. Выделите квартиры в Санкт-Петербурге (`locality_name`). Ваша задача — выяснить, какая область входит в центр. Создайте столбец с расстоянием до центра в километрах: округлите до целых значений. После этого посчитайте среднюю цену для каждого километра. Постройте график: он должен показывать, как цена зависит от удалённости от центра. Определите границу, где график сильно меняется — это и будет центральная зона».\n",
    "- [x]  выполнено задание: «Выделите сегмент квартир в центре. Проанализируйте эту территорию и изучите следующие параметры: площадь, цена, число комнат, высота потолков. Также выделите факторы, которые влияют на стоимость квартиры (число комнат, этаж, удалённость от центра, дата размещения объявления). Сделайте выводы. Отличаются ли они от общих выводов по всей базе?»\n",
    "- [x]  в каждом этапе есть выводы\n",
    "- [x]  есть общий вывод"
   ]
  },
  {
   "cell_type": "code",
   "execution_count": null,
   "metadata": {},
   "outputs": [],
   "source": [
    "real_estate.info()"
   ]
  },
  {
   "cell_type": "code",
   "execution_count": null,
   "metadata": {},
   "outputs": [],
   "source": [
    "real_estate.columns"
   ]
  }
 ],
 "metadata": {
  "ExecuteTimeLog": [
   {
    "duration": 872,
    "start_time": "2022-03-30T09:43:45.714Z"
   },
   {
    "duration": 153,
    "start_time": "2022-03-30T09:44:23.247Z"
   },
   {
    "duration": 3,
    "start_time": "2022-03-30T09:44:26.494Z"
   },
   {
    "duration": 73,
    "start_time": "2022-03-30T09:44:28.607Z"
   },
   {
    "duration": 15,
    "start_time": "2022-03-30T09:45:25.754Z"
   },
   {
    "duration": 119,
    "start_time": "2022-03-30T09:45:45.415Z"
   },
   {
    "duration": 17,
    "start_time": "2022-03-30T09:48:27.202Z"
   },
   {
    "duration": 6,
    "start_time": "2022-03-30T09:56:22.038Z"
   },
   {
    "duration": 164,
    "start_time": "2022-03-30T09:58:05.314Z"
   },
   {
    "duration": 7,
    "start_time": "2022-03-30T09:59:53.682Z"
   },
   {
    "duration": 6,
    "start_time": "2022-03-30T10:02:18.986Z"
   },
   {
    "duration": 11,
    "start_time": "2022-03-30T10:03:57.738Z"
   },
   {
    "duration": 7,
    "start_time": "2022-03-30T10:04:36.747Z"
   },
   {
    "duration": 32,
    "start_time": "2022-03-30T10:07:19.566Z"
   },
   {
    "duration": 9,
    "start_time": "2022-03-30T10:11:28.014Z"
   },
   {
    "duration": 7,
    "start_time": "2022-03-30T10:12:16.614Z"
   },
   {
    "duration": 33,
    "start_time": "2022-03-30T10:12:58.687Z"
   },
   {
    "duration": 8,
    "start_time": "2022-03-30T10:14:07.958Z"
   },
   {
    "duration": 4,
    "start_time": "2022-03-30T10:14:59.147Z"
   },
   {
    "duration": 33,
    "start_time": "2022-03-30T10:15:45.266Z"
   },
   {
    "duration": 29,
    "start_time": "2022-03-30T10:20:22.602Z"
   },
   {
    "duration": 6,
    "start_time": "2022-03-30T10:28:49.468Z"
   },
   {
    "duration": 36,
    "start_time": "2022-03-30T10:29:29.815Z"
   },
   {
    "duration": 5,
    "start_time": "2022-03-30T10:30:03.063Z"
   },
   {
    "duration": 31,
    "start_time": "2022-03-30T10:31:41.446Z"
   },
   {
    "duration": 29,
    "start_time": "2022-03-30T10:32:25.834Z"
   },
   {
    "duration": 30,
    "start_time": "2022-03-30T11:10:56.215Z"
   },
   {
    "duration": 34,
    "start_time": "2022-03-30T11:11:52.059Z"
   },
   {
    "duration": 30,
    "start_time": "2022-03-30T11:13:44.081Z"
   },
   {
    "duration": 31,
    "start_time": "2022-03-30T11:14:37.961Z"
   },
   {
    "duration": 33,
    "start_time": "2022-03-30T11:15:22.742Z"
   },
   {
    "duration": 13,
    "start_time": "2022-03-30T11:15:59.080Z"
   },
   {
    "duration": 5,
    "start_time": "2022-03-30T11:24:47.520Z"
   },
   {
    "duration": 14,
    "start_time": "2022-03-30T11:25:27.809Z"
   },
   {
    "duration": 298,
    "start_time": "2022-03-30T11:26:19.550Z"
   },
   {
    "duration": 7,
    "start_time": "2022-03-30T11:27:40.300Z"
   },
   {
    "duration": 27,
    "start_time": "2022-03-30T11:27:52.920Z"
   },
   {
    "duration": 71,
    "start_time": "2022-03-30T13:11:58.670Z"
   },
   {
    "duration": 1131,
    "start_time": "2022-03-30T13:12:06.124Z"
   },
   {
    "duration": 157,
    "start_time": "2022-03-30T13:12:07.257Z"
   },
   {
    "duration": 23,
    "start_time": "2022-03-30T13:12:07.416Z"
   },
   {
    "duration": 7,
    "start_time": "2022-03-30T13:12:07.441Z"
   },
   {
    "duration": 289,
    "start_time": "2022-03-30T13:12:07.451Z"
   },
   {
    "duration": 10,
    "start_time": "2022-03-30T13:12:07.742Z"
   },
   {
    "duration": 30,
    "start_time": "2022-03-30T13:12:07.754Z"
   },
   {
    "duration": 13,
    "start_time": "2022-03-30T13:12:07.786Z"
   },
   {
    "duration": 11,
    "start_time": "2022-03-30T13:12:07.801Z"
   },
   {
    "duration": 69,
    "start_time": "2022-03-30T13:12:07.815Z"
   },
   {
    "duration": 13,
    "start_time": "2022-03-30T13:12:07.886Z"
   },
   {
    "duration": 9,
    "start_time": "2022-03-30T13:12:07.902Z"
   },
   {
    "duration": 85,
    "start_time": "2022-03-30T13:12:07.913Z"
   },
   {
    "duration": 12,
    "start_time": "2022-03-30T13:12:08.003Z"
   },
   {
    "duration": 13,
    "start_time": "2022-03-30T13:12:08.018Z"
   },
   {
    "duration": 76,
    "start_time": "2022-03-30T13:12:08.033Z"
   },
   {
    "duration": 45,
    "start_time": "2022-03-30T13:12:08.111Z"
   },
   {
    "duration": 27,
    "start_time": "2022-03-30T13:12:08.159Z"
   },
   {
    "duration": 53,
    "start_time": "2022-03-30T13:12:08.189Z"
   },
   {
    "duration": 6,
    "start_time": "2022-03-30T13:12:08.244Z"
   },
   {
    "duration": 69,
    "start_time": "2022-03-30T13:12:08.253Z"
   },
   {
    "duration": 60,
    "start_time": "2022-03-30T13:12:08.325Z"
   },
   {
    "duration": 45,
    "start_time": "2022-03-30T13:12:08.388Z"
   },
   {
    "duration": 76,
    "start_time": "2022-03-30T13:12:08.435Z"
   },
   {
    "duration": 122,
    "start_time": "2022-03-30T13:12:08.514Z"
   },
   {
    "duration": 0,
    "start_time": "2022-03-30T13:12:08.639Z"
   },
   {
    "duration": 0,
    "start_time": "2022-03-30T13:12:08.641Z"
   },
   {
    "duration": 0,
    "start_time": "2022-03-30T13:12:08.642Z"
   },
   {
    "duration": 0,
    "start_time": "2022-03-30T13:12:08.644Z"
   },
   {
    "duration": 0,
    "start_time": "2022-03-30T13:12:08.645Z"
   },
   {
    "duration": 0,
    "start_time": "2022-03-30T13:12:08.647Z"
   },
   {
    "duration": 0,
    "start_time": "2022-03-30T13:12:08.649Z"
   },
   {
    "duration": 0,
    "start_time": "2022-03-30T13:12:08.650Z"
   },
   {
    "duration": 0,
    "start_time": "2022-03-30T13:12:08.652Z"
   },
   {
    "duration": 1,
    "start_time": "2022-03-30T13:12:08.653Z"
   },
   {
    "duration": 257,
    "start_time": "2022-03-30T13:12:13.709Z"
   },
   {
    "duration": 248,
    "start_time": "2022-03-30T13:16:17.956Z"
   },
   {
    "duration": 269,
    "start_time": "2022-03-30T13:18:00.588Z"
   },
   {
    "duration": 331,
    "start_time": "2022-03-30T13:20:01.738Z"
   },
   {
    "duration": 369,
    "start_time": "2022-03-30T13:21:20.961Z"
   },
   {
    "duration": 257,
    "start_time": "2022-03-30T13:21:33.648Z"
   },
   {
    "duration": 256,
    "start_time": "2022-03-30T13:23:03.382Z"
   },
   {
    "duration": 368,
    "start_time": "2022-03-30T13:23:09.841Z"
   },
   {
    "duration": 11,
    "start_time": "2022-03-30T13:24:57.631Z"
   },
   {
    "duration": 404,
    "start_time": "2022-03-30T13:25:16.069Z"
   },
   {
    "duration": 18,
    "start_time": "2022-03-30T13:25:50.159Z"
   },
   {
    "duration": 294,
    "start_time": "2022-03-30T13:26:35.361Z"
   },
   {
    "duration": 10,
    "start_time": "2022-03-30T13:28:23.612Z"
   },
   {
    "duration": 8,
    "start_time": "2022-03-30T13:28:28.120Z"
   },
   {
    "duration": 11,
    "start_time": "2022-03-30T13:28:55.008Z"
   },
   {
    "duration": 6,
    "start_time": "2022-03-30T13:29:21.032Z"
   },
   {
    "duration": 11,
    "start_time": "2022-03-30T13:31:00.010Z"
   },
   {
    "duration": 334,
    "start_time": "2022-03-30T13:35:08.760Z"
   },
   {
    "duration": 536,
    "start_time": "2022-03-30T13:36:09.284Z"
   },
   {
    "duration": 419,
    "start_time": "2022-03-30T13:37:15.399Z"
   },
   {
    "duration": 2463,
    "start_time": "2022-03-30T13:37:58.149Z"
   },
   {
    "duration": 851,
    "start_time": "2022-03-30T13:38:33.699Z"
   },
   {
    "duration": 152,
    "start_time": "2022-03-30T13:38:34.552Z"
   },
   {
    "duration": 21,
    "start_time": "2022-03-30T13:38:34.706Z"
   },
   {
    "duration": 8,
    "start_time": "2022-03-30T13:38:34.729Z"
   },
   {
    "duration": 285,
    "start_time": "2022-03-30T13:38:34.740Z"
   },
   {
    "duration": 9,
    "start_time": "2022-03-30T13:38:35.028Z"
   },
   {
    "duration": 14,
    "start_time": "2022-03-30T13:38:35.040Z"
   },
   {
    "duration": 32,
    "start_time": "2022-03-30T13:38:35.056Z"
   },
   {
    "duration": 11,
    "start_time": "2022-03-30T13:38:35.090Z"
   },
   {
    "duration": 85,
    "start_time": "2022-03-30T13:38:35.103Z"
   },
   {
    "duration": 13,
    "start_time": "2022-03-30T13:38:35.191Z"
   },
   {
    "duration": 8,
    "start_time": "2022-03-30T13:38:35.207Z"
   },
   {
    "duration": 83,
    "start_time": "2022-03-30T13:38:35.217Z"
   },
   {
    "duration": 12,
    "start_time": "2022-03-30T13:38:35.304Z"
   },
   {
    "duration": 5,
    "start_time": "2022-03-30T13:38:35.319Z"
   },
   {
    "duration": 85,
    "start_time": "2022-03-30T13:38:35.327Z"
   },
   {
    "duration": 45,
    "start_time": "2022-03-30T13:38:35.415Z"
   },
   {
    "duration": 8,
    "start_time": "2022-03-30T13:38:35.483Z"
   },
   {
    "duration": 50,
    "start_time": "2022-03-30T13:38:35.493Z"
   },
   {
    "duration": 6,
    "start_time": "2022-03-30T13:38:35.545Z"
   },
   {
    "duration": 70,
    "start_time": "2022-03-30T13:38:35.554Z"
   },
   {
    "duration": 72,
    "start_time": "2022-03-30T13:38:35.626Z"
   },
   {
    "duration": 44,
    "start_time": "2022-03-30T13:38:35.700Z"
   },
   {
    "duration": 81,
    "start_time": "2022-03-30T13:38:35.746Z"
   },
   {
    "duration": 110,
    "start_time": "2022-03-30T13:38:35.829Z"
   },
   {
    "duration": 0,
    "start_time": "2022-03-30T13:38:35.942Z"
   },
   {
    "duration": 0,
    "start_time": "2022-03-30T13:38:35.943Z"
   },
   {
    "duration": 0,
    "start_time": "2022-03-30T13:38:35.944Z"
   },
   {
    "duration": 0,
    "start_time": "2022-03-30T13:38:35.946Z"
   },
   {
    "duration": 0,
    "start_time": "2022-03-30T13:38:35.947Z"
   },
   {
    "duration": 0,
    "start_time": "2022-03-30T13:38:35.948Z"
   },
   {
    "duration": 0,
    "start_time": "2022-03-30T13:38:35.951Z"
   },
   {
    "duration": 0,
    "start_time": "2022-03-30T13:38:35.952Z"
   },
   {
    "duration": 0,
    "start_time": "2022-03-30T13:38:35.954Z"
   },
   {
    "duration": 0,
    "start_time": "2022-03-30T13:38:35.955Z"
   },
   {
    "duration": 0,
    "start_time": "2022-03-30T13:38:35.957Z"
   },
   {
    "duration": 0,
    "start_time": "2022-03-30T13:38:35.958Z"
   },
   {
    "duration": 0,
    "start_time": "2022-03-30T13:38:35.961Z"
   },
   {
    "duration": 0,
    "start_time": "2022-03-30T13:38:35.964Z"
   },
   {
    "duration": 0,
    "start_time": "2022-03-30T13:38:35.965Z"
   },
   {
    "duration": 0,
    "start_time": "2022-03-30T13:38:35.967Z"
   },
   {
    "duration": 0,
    "start_time": "2022-03-30T13:38:35.968Z"
   },
   {
    "duration": 0,
    "start_time": "2022-03-30T13:38:35.970Z"
   },
   {
    "duration": 0,
    "start_time": "2022-03-30T13:38:35.973Z"
   },
   {
    "duration": 0,
    "start_time": "2022-03-30T13:38:35.975Z"
   },
   {
    "duration": 0,
    "start_time": "2022-03-30T13:38:35.977Z"
   },
   {
    "duration": 0,
    "start_time": "2022-03-30T13:38:35.979Z"
   },
   {
    "duration": 0,
    "start_time": "2022-03-30T13:38:35.984Z"
   },
   {
    "duration": 0,
    "start_time": "2022-03-30T13:38:35.985Z"
   },
   {
    "duration": 0,
    "start_time": "2022-03-30T13:38:35.987Z"
   },
   {
    "duration": 112,
    "start_time": "2022-03-30T13:38:38.498Z"
   },
   {
    "duration": 11,
    "start_time": "2022-03-30T13:39:27.218Z"
   },
   {
    "duration": 11,
    "start_time": "2022-03-30T13:39:42.628Z"
   },
   {
    "duration": 1124,
    "start_time": "2022-03-30T13:39:50.819Z"
   },
   {
    "duration": 153,
    "start_time": "2022-03-30T13:39:51.947Z"
   },
   {
    "duration": 22,
    "start_time": "2022-03-30T13:39:52.103Z"
   },
   {
    "duration": 8,
    "start_time": "2022-03-30T13:39:52.128Z"
   },
   {
    "duration": 323,
    "start_time": "2022-03-30T13:39:52.139Z"
   },
   {
    "duration": 10,
    "start_time": "2022-03-30T13:39:52.464Z"
   },
   {
    "duration": 9,
    "start_time": "2022-03-30T13:39:52.486Z"
   },
   {
    "duration": 25,
    "start_time": "2022-03-30T13:39:52.499Z"
   },
   {
    "duration": 15,
    "start_time": "2022-03-30T13:39:52.527Z"
   },
   {
    "duration": 79,
    "start_time": "2022-03-30T13:39:52.544Z"
   },
   {
    "duration": 14,
    "start_time": "2022-03-30T13:39:52.626Z"
   },
   {
    "duration": 9,
    "start_time": "2022-03-30T13:39:52.643Z"
   },
   {
    "duration": 73,
    "start_time": "2022-03-30T13:39:52.701Z"
   },
   {
    "duration": 15,
    "start_time": "2022-03-30T13:39:52.785Z"
   },
   {
    "duration": 13,
    "start_time": "2022-03-30T13:39:52.802Z"
   },
   {
    "duration": 75,
    "start_time": "2022-03-30T13:39:52.817Z"
   },
   {
    "duration": 46,
    "start_time": "2022-03-30T13:39:52.895Z"
   },
   {
    "duration": 7,
    "start_time": "2022-03-30T13:39:52.948Z"
   },
   {
    "duration": 81,
    "start_time": "2022-03-30T13:39:52.957Z"
   },
   {
    "duration": 5,
    "start_time": "2022-03-30T13:39:53.041Z"
   },
   {
    "duration": 73,
    "start_time": "2022-03-30T13:39:53.049Z"
   },
   {
    "duration": 77,
    "start_time": "2022-03-30T13:39:53.125Z"
   },
   {
    "duration": 44,
    "start_time": "2022-03-30T13:39:53.205Z"
   },
   {
    "duration": 77,
    "start_time": "2022-03-30T13:39:53.252Z"
   },
   {
    "duration": 109,
    "start_time": "2022-03-30T13:39:53.332Z"
   },
   {
    "duration": 0,
    "start_time": "2022-03-30T13:39:53.445Z"
   },
   {
    "duration": 0,
    "start_time": "2022-03-30T13:39:53.447Z"
   },
   {
    "duration": 0,
    "start_time": "2022-03-30T13:39:53.449Z"
   },
   {
    "duration": 0,
    "start_time": "2022-03-30T13:39:53.452Z"
   },
   {
    "duration": 0,
    "start_time": "2022-03-30T13:39:53.455Z"
   },
   {
    "duration": 0,
    "start_time": "2022-03-30T13:39:53.457Z"
   },
   {
    "duration": 0,
    "start_time": "2022-03-30T13:39:53.459Z"
   },
   {
    "duration": 0,
    "start_time": "2022-03-30T13:39:53.462Z"
   },
   {
    "duration": 0,
    "start_time": "2022-03-30T13:39:53.465Z"
   },
   {
    "duration": 0,
    "start_time": "2022-03-30T13:39:53.467Z"
   },
   {
    "duration": 0,
    "start_time": "2022-03-30T13:39:53.469Z"
   },
   {
    "duration": 0,
    "start_time": "2022-03-30T13:39:53.471Z"
   },
   {
    "duration": 0,
    "start_time": "2022-03-30T13:39:53.474Z"
   },
   {
    "duration": 0,
    "start_time": "2022-03-30T13:39:53.476Z"
   },
   {
    "duration": 0,
    "start_time": "2022-03-30T13:39:53.479Z"
   },
   {
    "duration": 0,
    "start_time": "2022-03-30T13:39:53.481Z"
   },
   {
    "duration": 0,
    "start_time": "2022-03-30T13:39:53.483Z"
   },
   {
    "duration": 0,
    "start_time": "2022-03-30T13:39:53.485Z"
   },
   {
    "duration": 0,
    "start_time": "2022-03-30T13:39:53.486Z"
   },
   {
    "duration": 0,
    "start_time": "2022-03-30T13:39:53.488Z"
   },
   {
    "duration": 0,
    "start_time": "2022-03-30T13:39:53.489Z"
   },
   {
    "duration": 0,
    "start_time": "2022-03-30T13:39:53.490Z"
   },
   {
    "duration": 0,
    "start_time": "2022-03-30T13:39:53.492Z"
   },
   {
    "duration": 0,
    "start_time": "2022-03-30T13:39:53.494Z"
   },
   {
    "duration": 0,
    "start_time": "2022-03-30T13:39:53.495Z"
   },
   {
    "duration": 9,
    "start_time": "2022-03-30T13:40:04.981Z"
   },
   {
    "duration": 322,
    "start_time": "2022-03-30T13:40:07.719Z"
   },
   {
    "duration": 540,
    "start_time": "2022-03-30T13:40:12.126Z"
   },
   {
    "duration": 2626,
    "start_time": "2022-03-30T13:40:17.834Z"
   },
   {
    "duration": 346,
    "start_time": "2022-03-30T13:41:21.219Z"
   },
   {
    "duration": 2077,
    "start_time": "2022-03-30T13:41:39.779Z"
   },
   {
    "duration": 2166,
    "start_time": "2022-03-30T13:42:13.987Z"
   },
   {
    "duration": 875,
    "start_time": "2022-03-30T14:59:59.557Z"
   },
   {
    "duration": 141,
    "start_time": "2022-03-30T15:00:00.435Z"
   },
   {
    "duration": 17,
    "start_time": "2022-03-30T15:00:00.577Z"
   },
   {
    "duration": 22,
    "start_time": "2022-03-30T15:00:00.596Z"
   },
   {
    "duration": 180,
    "start_time": "2022-03-30T15:00:00.620Z"
   },
   {
    "duration": 7,
    "start_time": "2022-03-30T15:00:00.802Z"
   },
   {
    "duration": 27,
    "start_time": "2022-03-30T15:00:00.810Z"
   },
   {
    "duration": 16,
    "start_time": "2022-03-30T15:00:00.839Z"
   },
   {
    "duration": 41,
    "start_time": "2022-03-30T15:00:00.857Z"
   },
   {
    "duration": 52,
    "start_time": "2022-03-30T15:00:00.900Z"
   },
   {
    "duration": 16,
    "start_time": "2022-03-30T15:00:00.955Z"
   },
   {
    "duration": 41,
    "start_time": "2022-03-30T15:00:00.973Z"
   },
   {
    "duration": 48,
    "start_time": "2022-03-30T15:00:01.016Z"
   },
   {
    "duration": 9,
    "start_time": "2022-03-30T15:00:01.068Z"
   },
   {
    "duration": 52,
    "start_time": "2022-03-30T15:00:01.079Z"
   },
   {
    "duration": 67,
    "start_time": "2022-03-30T15:00:01.133Z"
   },
   {
    "duration": 34,
    "start_time": "2022-03-30T15:00:01.202Z"
   },
   {
    "duration": 6,
    "start_time": "2022-03-30T15:00:01.239Z"
   },
   {
    "duration": 74,
    "start_time": "2022-03-30T15:00:01.247Z"
   },
   {
    "duration": 5,
    "start_time": "2022-03-30T15:00:01.324Z"
   },
   {
    "duration": 43,
    "start_time": "2022-03-30T15:00:01.331Z"
   },
   {
    "duration": 69,
    "start_time": "2022-03-30T15:00:01.376Z"
   },
   {
    "duration": 77,
    "start_time": "2022-03-30T15:00:01.447Z"
   },
   {
    "duration": 60,
    "start_time": "2022-03-30T15:00:01.526Z"
   },
   {
    "duration": 193,
    "start_time": "2022-03-30T15:00:01.589Z"
   },
   {
    "duration": 0,
    "start_time": "2022-03-30T15:00:01.784Z"
   },
   {
    "duration": 0,
    "start_time": "2022-03-30T15:00:01.786Z"
   },
   {
    "duration": 0,
    "start_time": "2022-03-30T15:00:01.787Z"
   },
   {
    "duration": 0,
    "start_time": "2022-03-30T15:00:01.789Z"
   },
   {
    "duration": 0,
    "start_time": "2022-03-30T15:00:01.790Z"
   },
   {
    "duration": 0,
    "start_time": "2022-03-30T15:00:01.792Z"
   },
   {
    "duration": 0,
    "start_time": "2022-03-30T15:00:01.793Z"
   },
   {
    "duration": 0,
    "start_time": "2022-03-30T15:00:01.795Z"
   },
   {
    "duration": 0,
    "start_time": "2022-03-30T15:00:01.796Z"
   },
   {
    "duration": 0,
    "start_time": "2022-03-30T15:00:01.798Z"
   },
   {
    "duration": 0,
    "start_time": "2022-03-30T15:00:01.800Z"
   },
   {
    "duration": 0,
    "start_time": "2022-03-30T15:00:01.801Z"
   },
   {
    "duration": 0,
    "start_time": "2022-03-30T15:00:01.802Z"
   },
   {
    "duration": 0,
    "start_time": "2022-03-30T15:00:01.804Z"
   },
   {
    "duration": 0,
    "start_time": "2022-03-30T15:00:01.805Z"
   },
   {
    "duration": 1,
    "start_time": "2022-03-30T15:00:01.806Z"
   },
   {
    "duration": 0,
    "start_time": "2022-03-30T15:00:01.808Z"
   },
   {
    "duration": 0,
    "start_time": "2022-03-30T15:00:01.809Z"
   },
   {
    "duration": 0,
    "start_time": "2022-03-30T15:00:01.811Z"
   },
   {
    "duration": 0,
    "start_time": "2022-03-30T15:00:01.812Z"
   },
   {
    "duration": 0,
    "start_time": "2022-03-30T15:00:01.813Z"
   },
   {
    "duration": 0,
    "start_time": "2022-03-30T15:00:01.814Z"
   },
   {
    "duration": 0,
    "start_time": "2022-03-30T15:00:01.815Z"
   },
   {
    "duration": 0,
    "start_time": "2022-03-30T15:00:01.816Z"
   },
   {
    "duration": 0,
    "start_time": "2022-03-30T15:00:01.817Z"
   },
   {
    "duration": 3,
    "start_time": "2022-03-30T15:00:15.537Z"
   },
   {
    "duration": 6,
    "start_time": "2022-03-30T15:00:26.193Z"
   },
   {
    "duration": 236,
    "start_time": "2022-03-30T15:00:29.277Z"
   },
   {
    "duration": 385,
    "start_time": "2022-03-30T15:00:33.456Z"
   },
   {
    "duration": 212,
    "start_time": "2022-03-30T15:00:49.685Z"
   },
   {
    "duration": 2982,
    "start_time": "2022-03-30T15:00:54.420Z"
   },
   {
    "duration": 172,
    "start_time": "2022-03-30T15:02:40.444Z"
   },
   {
    "duration": 202,
    "start_time": "2022-03-30T15:02:47.867Z"
   },
   {
    "duration": 180,
    "start_time": "2022-03-30T15:02:54.697Z"
   },
   {
    "duration": 8,
    "start_time": "2022-03-30T15:03:08.329Z"
   },
   {
    "duration": 188,
    "start_time": "2022-03-30T15:03:10.844Z"
   },
   {
    "duration": 13,
    "start_time": "2022-03-30T15:03:19.089Z"
   },
   {
    "duration": 135,
    "start_time": "2022-03-30T15:03:22.209Z"
   },
   {
    "duration": 5,
    "start_time": "2022-03-30T15:03:29.830Z"
   },
   {
    "duration": 8,
    "start_time": "2022-03-30T15:03:32.698Z"
   },
   {
    "duration": 4,
    "start_time": "2022-03-30T15:03:36.848Z"
   },
   {
    "duration": 2854,
    "start_time": "2022-03-30T15:06:54.570Z"
   },
   {
    "duration": 2900,
    "start_time": "2022-03-30T15:07:36.918Z"
   },
   {
    "duration": 15,
    "start_time": "2022-03-30T15:09:32.497Z"
   },
   {
    "duration": 7,
    "start_time": "2022-03-30T15:11:47.208Z"
   },
   {
    "duration": 31,
    "start_time": "2022-03-30T15:11:50.917Z"
   },
   {
    "duration": 14,
    "start_time": "2022-03-30T15:12:42.377Z"
   },
   {
    "duration": 18,
    "start_time": "2022-03-30T15:13:50.769Z"
   },
   {
    "duration": 298,
    "start_time": "2022-03-30T15:14:38.357Z"
   },
   {
    "duration": 10,
    "start_time": "2022-03-30T15:14:46.670Z"
   },
   {
    "duration": 901,
    "start_time": "2022-03-30T15:16:54.817Z"
   },
   {
    "duration": 860,
    "start_time": "2022-03-30T15:17:51.009Z"
   },
   {
    "duration": 332,
    "start_time": "2022-03-30T15:18:07.549Z"
   },
   {
    "duration": 933,
    "start_time": "2022-03-30T15:18:43.389Z"
   },
   {
    "duration": 698,
    "start_time": "2022-03-30T15:19:33.049Z"
   },
   {
    "duration": 10,
    "start_time": "2022-03-30T15:20:30.650Z"
   },
   {
    "duration": 6,
    "start_time": "2022-03-30T15:21:16.129Z"
   },
   {
    "duration": 19,
    "start_time": "2022-03-30T15:21:24.190Z"
   },
   {
    "duration": 5,
    "start_time": "2022-03-30T15:22:00.218Z"
   },
   {
    "duration": 326,
    "start_time": "2022-03-30T15:22:17.160Z"
   },
   {
    "duration": 12,
    "start_time": "2022-03-30T15:23:45.686Z"
   },
   {
    "duration": 11,
    "start_time": "2022-03-30T15:23:48.191Z"
   },
   {
    "duration": 8,
    "start_time": "2022-03-30T15:24:57.828Z"
   },
   {
    "duration": 272,
    "start_time": "2022-03-30T15:25:14.001Z"
   },
   {
    "duration": 12,
    "start_time": "2022-03-30T15:26:27.159Z"
   },
   {
    "duration": 6,
    "start_time": "2022-03-30T15:27:20.448Z"
   },
   {
    "duration": 176,
    "start_time": "2022-03-30T15:27:34.210Z"
   },
   {
    "duration": 192,
    "start_time": "2022-03-30T15:28:01.570Z"
   },
   {
    "duration": 169,
    "start_time": "2022-03-30T15:28:31.738Z"
   },
   {
    "duration": 213,
    "start_time": "2022-03-30T15:29:00.310Z"
   },
   {
    "duration": 380,
    "start_time": "2022-03-30T15:30:01.971Z"
   },
   {
    "duration": 786,
    "start_time": "2022-03-30T15:30:49.871Z"
   },
   {
    "duration": 183,
    "start_time": "2022-03-30T15:31:35.898Z"
   },
   {
    "duration": 722,
    "start_time": "2022-03-30T15:32:15.170Z"
   },
   {
    "duration": 100,
    "start_time": "2022-04-10T18:39:15.479Z"
   },
   {
    "duration": 89,
    "start_time": "2022-04-10T18:41:12.872Z"
   },
   {
    "duration": 66,
    "start_time": "2022-04-10T18:52:36.635Z"
   },
   {
    "duration": 1127,
    "start_time": "2022-04-10T18:52:42.339Z"
   },
   {
    "duration": 150,
    "start_time": "2022-04-10T18:52:43.469Z"
   },
   {
    "duration": 22,
    "start_time": "2022-04-10T18:52:43.621Z"
   },
   {
    "duration": 28,
    "start_time": "2022-04-10T18:52:43.645Z"
   },
   {
    "duration": 405,
    "start_time": "2022-04-10T18:52:43.677Z"
   },
   {
    "duration": 8,
    "start_time": "2022-04-10T18:52:44.084Z"
   },
   {
    "duration": 253,
    "start_time": "2022-04-10T18:52:44.095Z"
   },
   {
    "duration": 22,
    "start_time": "2022-04-10T18:52:44.351Z"
   },
   {
    "duration": 8,
    "start_time": "2022-04-10T18:52:44.376Z"
   },
   {
    "duration": 11,
    "start_time": "2022-04-10T18:52:44.386Z"
   },
   {
    "duration": 8,
    "start_time": "2022-04-10T18:52:44.399Z"
   },
   {
    "duration": 81,
    "start_time": "2022-04-10T18:52:44.410Z"
   },
   {
    "duration": 10,
    "start_time": "2022-04-10T18:52:44.494Z"
   },
   {
    "duration": 6,
    "start_time": "2022-04-10T18:52:44.509Z"
   },
   {
    "duration": 79,
    "start_time": "2022-04-10T18:52:44.517Z"
   },
   {
    "duration": 11,
    "start_time": "2022-04-10T18:52:44.599Z"
   },
   {
    "duration": 6,
    "start_time": "2022-04-10T18:52:44.612Z"
   },
   {
    "duration": 80,
    "start_time": "2022-04-10T18:52:44.620Z"
   },
   {
    "duration": 42,
    "start_time": "2022-04-10T18:52:44.702Z"
   },
   {
    "duration": 7,
    "start_time": "2022-04-10T18:52:44.746Z"
   },
   {
    "duration": 48,
    "start_time": "2022-04-10T18:52:44.773Z"
   },
   {
    "duration": 6,
    "start_time": "2022-04-10T18:52:44.823Z"
   },
   {
    "duration": 71,
    "start_time": "2022-04-10T18:52:44.832Z"
   },
   {
    "duration": 16,
    "start_time": "2022-04-10T18:52:44.906Z"
   },
   {
    "duration": 77,
    "start_time": "2022-04-10T18:52:44.924Z"
   },
   {
    "duration": 44,
    "start_time": "2022-04-10T18:52:45.003Z"
   },
   {
    "duration": 68,
    "start_time": "2022-04-10T18:52:45.049Z"
   },
   {
    "duration": 92,
    "start_time": "2022-04-10T18:52:45.119Z"
   },
   {
    "duration": 0,
    "start_time": "2022-04-10T18:52:45.215Z"
   },
   {
    "duration": 0,
    "start_time": "2022-04-10T18:52:45.216Z"
   },
   {
    "duration": 0,
    "start_time": "2022-04-10T18:52:45.217Z"
   },
   {
    "duration": 0,
    "start_time": "2022-04-10T18:52:45.219Z"
   },
   {
    "duration": 0,
    "start_time": "2022-04-10T18:52:45.220Z"
   },
   {
    "duration": 0,
    "start_time": "2022-04-10T18:52:45.222Z"
   },
   {
    "duration": 0,
    "start_time": "2022-04-10T18:52:45.223Z"
   },
   {
    "duration": 0,
    "start_time": "2022-04-10T18:52:45.225Z"
   },
   {
    "duration": 0,
    "start_time": "2022-04-10T18:52:45.226Z"
   },
   {
    "duration": 1,
    "start_time": "2022-04-10T18:52:45.227Z"
   },
   {
    "duration": 0,
    "start_time": "2022-04-10T18:52:45.229Z"
   },
   {
    "duration": 0,
    "start_time": "2022-04-10T18:52:45.230Z"
   },
   {
    "duration": 0,
    "start_time": "2022-04-10T18:52:45.232Z"
   },
   {
    "duration": 0,
    "start_time": "2022-04-10T18:52:45.233Z"
   },
   {
    "duration": 0,
    "start_time": "2022-04-10T18:52:45.234Z"
   },
   {
    "duration": 0,
    "start_time": "2022-04-10T18:52:45.236Z"
   },
   {
    "duration": 0,
    "start_time": "2022-04-10T18:52:45.237Z"
   },
   {
    "duration": 0,
    "start_time": "2022-04-10T18:52:45.239Z"
   },
   {
    "duration": 0,
    "start_time": "2022-04-10T18:52:45.241Z"
   },
   {
    "duration": 0,
    "start_time": "2022-04-10T18:52:45.242Z"
   },
   {
    "duration": 0,
    "start_time": "2022-04-10T18:52:45.244Z"
   },
   {
    "duration": 0,
    "start_time": "2022-04-10T18:52:45.245Z"
   },
   {
    "duration": 0,
    "start_time": "2022-04-10T18:52:45.246Z"
   },
   {
    "duration": 0,
    "start_time": "2022-04-10T18:52:45.248Z"
   },
   {
    "duration": 0,
    "start_time": "2022-04-10T18:52:45.249Z"
   },
   {
    "duration": 0,
    "start_time": "2022-04-10T18:52:45.274Z"
   },
   {
    "duration": 0,
    "start_time": "2022-04-10T18:52:45.276Z"
   },
   {
    "duration": 0,
    "start_time": "2022-04-10T18:52:45.277Z"
   },
   {
    "duration": 0,
    "start_time": "2022-04-10T18:52:45.279Z"
   },
   {
    "duration": 0,
    "start_time": "2022-04-10T18:52:45.281Z"
   },
   {
    "duration": 0,
    "start_time": "2022-04-10T18:52:45.283Z"
   },
   {
    "duration": 0,
    "start_time": "2022-04-10T18:52:45.285Z"
   },
   {
    "duration": 0,
    "start_time": "2022-04-10T18:52:45.287Z"
   },
   {
    "duration": 0,
    "start_time": "2022-04-10T18:52:45.289Z"
   },
   {
    "duration": 0,
    "start_time": "2022-04-10T18:52:45.291Z"
   },
   {
    "duration": 0,
    "start_time": "2022-04-10T18:52:45.293Z"
   },
   {
    "duration": 0,
    "start_time": "2022-04-10T18:52:45.294Z"
   },
   {
    "duration": 0,
    "start_time": "2022-04-10T18:52:45.295Z"
   },
   {
    "duration": 0,
    "start_time": "2022-04-10T18:52:45.297Z"
   },
   {
    "duration": 0,
    "start_time": "2022-04-10T18:52:45.298Z"
   },
   {
    "duration": 0,
    "start_time": "2022-04-10T18:52:45.300Z"
   },
   {
    "duration": 0,
    "start_time": "2022-04-10T18:52:45.301Z"
   },
   {
    "duration": 0,
    "start_time": "2022-04-10T18:52:45.303Z"
   },
   {
    "duration": 0,
    "start_time": "2022-04-10T18:52:45.304Z"
   },
   {
    "duration": 16,
    "start_time": "2022-04-10T18:53:43.360Z"
   },
   {
    "duration": 16,
    "start_time": "2022-04-10T18:53:54.983Z"
   },
   {
    "duration": 42,
    "start_time": "2022-04-10T18:55:23.299Z"
   },
   {
    "duration": 48,
    "start_time": "2022-04-10T18:56:22.526Z"
   },
   {
    "duration": 45,
    "start_time": "2022-04-10T18:56:27.117Z"
   },
   {
    "duration": 18,
    "start_time": "2022-04-10T18:56:49.454Z"
   },
   {
    "duration": 62,
    "start_time": "2022-04-10T18:58:27.168Z"
   },
   {
    "duration": 54,
    "start_time": "2022-04-10T18:58:34.458Z"
   },
   {
    "duration": 56,
    "start_time": "2022-04-10T18:58:42.506Z"
   },
   {
    "duration": 18,
    "start_time": "2022-04-10T18:59:48.772Z"
   },
   {
    "duration": 19,
    "start_time": "2022-04-10T18:59:55.195Z"
   },
   {
    "duration": 21,
    "start_time": "2022-04-10T19:02:37.690Z"
   },
   {
    "duration": 5,
    "start_time": "2022-04-10T19:08:19.319Z"
   },
   {
    "duration": 17,
    "start_time": "2022-04-10T19:08:20.591Z"
   },
   {
    "duration": 506,
    "start_time": "2022-04-10T19:08:23.120Z"
   },
   {
    "duration": 91,
    "start_time": "2022-04-10T19:11:21.599Z"
   },
   {
    "duration": 109,
    "start_time": "2022-04-10T19:11:31.413Z"
   },
   {
    "duration": 527,
    "start_time": "2022-04-10T19:11:35.775Z"
   },
   {
    "duration": 6,
    "start_time": "2022-04-10T19:12:39.352Z"
   },
   {
    "duration": 5,
    "start_time": "2022-04-10T19:12:48.688Z"
   },
   {
    "duration": 87,
    "start_time": "2022-04-10T19:14:04.075Z"
   },
   {
    "duration": 7,
    "start_time": "2022-04-10T19:14:31.420Z"
   },
   {
    "duration": 39,
    "start_time": "2022-04-10T19:14:32.254Z"
   },
   {
    "duration": 232,
    "start_time": "2022-04-10T19:14:49.254Z"
   },
   {
    "duration": 251,
    "start_time": "2022-04-10T19:15:39.065Z"
   },
   {
    "duration": 89,
    "start_time": "2022-04-10T19:16:55.953Z"
   },
   {
    "duration": 252,
    "start_time": "2022-04-10T19:17:30.205Z"
   },
   {
    "duration": 290,
    "start_time": "2022-04-10T19:19:08.991Z"
   },
   {
    "duration": 95,
    "start_time": "2022-04-10T19:22:25.717Z"
   },
   {
    "duration": 120,
    "start_time": "2022-04-10T19:29:16.684Z"
   },
   {
    "duration": 235,
    "start_time": "2022-04-10T19:29:34.759Z"
   },
   {
    "duration": 88,
    "start_time": "2022-04-10T19:31:09.241Z"
   },
   {
    "duration": 1719,
    "start_time": "2022-04-10T19:32:14.700Z"
   },
   {
    "duration": 1768,
    "start_time": "2022-04-10T19:32:43.460Z"
   },
   {
    "duration": 1594,
    "start_time": "2022-04-10T19:32:48.700Z"
   },
   {
    "duration": 13,
    "start_time": "2022-04-10T19:33:47.014Z"
   },
   {
    "duration": 518,
    "start_time": "2022-04-10T19:33:49.543Z"
   },
   {
    "duration": 23,
    "start_time": "2022-04-10T19:33:59.552Z"
   },
   {
    "duration": 206,
    "start_time": "2022-04-10T19:34:36.312Z"
   },
   {
    "duration": 4,
    "start_time": "2022-04-10T19:35:02.072Z"
   },
   {
    "duration": 224,
    "start_time": "2022-04-10T19:35:36.019Z"
   },
   {
    "duration": 199,
    "start_time": "2022-04-10T19:35:43.556Z"
   },
   {
    "duration": 189,
    "start_time": "2022-04-10T19:35:47.252Z"
   },
   {
    "duration": 12,
    "start_time": "2022-04-10T19:38:44.004Z"
   },
   {
    "duration": 10,
    "start_time": "2022-04-10T19:38:54.859Z"
   },
   {
    "duration": 6,
    "start_time": "2022-04-10T19:38:57.585Z"
   },
   {
    "duration": 129,
    "start_time": "2022-04-10T19:39:22.701Z"
   },
   {
    "duration": 6,
    "start_time": "2022-04-10T19:39:41.709Z"
   },
   {
    "duration": 83,
    "start_time": "2022-04-10T19:40:57.160Z"
   },
   {
    "duration": 69,
    "start_time": "2022-04-10T19:41:05.601Z"
   },
   {
    "duration": 101,
    "start_time": "2022-04-10T19:41:37.473Z"
   },
   {
    "duration": 7,
    "start_time": "2022-04-10T19:45:10.754Z"
   },
   {
    "duration": 366,
    "start_time": "2022-04-10T19:46:01.770Z"
   },
   {
    "duration": 518,
    "start_time": "2022-04-10T19:47:55.857Z"
   },
   {
    "duration": 296,
    "start_time": "2022-04-10T19:48:38.906Z"
   },
   {
    "duration": 134,
    "start_time": "2022-04-10T19:49:03.113Z"
   },
   {
    "duration": 1168,
    "start_time": "2022-04-10T19:49:32.556Z"
   },
   {
    "duration": 126,
    "start_time": "2022-04-10T19:50:38.117Z"
   },
   {
    "duration": 10,
    "start_time": "2022-04-10T19:50:49.478Z"
   },
   {
    "duration": 2216,
    "start_time": "2022-04-10T19:50:55.029Z"
   },
   {
    "duration": 8,
    "start_time": "2022-04-10T19:51:04.221Z"
   },
   {
    "duration": 323,
    "start_time": "2022-04-10T19:51:09.494Z"
   },
   {
    "duration": 596,
    "start_time": "2022-04-10T19:51:13.550Z"
   },
   {
    "duration": 1123,
    "start_time": "2022-04-10T19:51:57.040Z"
   },
   {
    "duration": 7,
    "start_time": "2022-04-10T19:56:02.768Z"
   },
   {
    "duration": 547,
    "start_time": "2022-04-10T19:56:05.488Z"
   },
   {
    "duration": 1116,
    "start_time": "2022-04-10T19:56:09.224Z"
   },
   {
    "duration": 1229,
    "start_time": "2022-04-10T19:57:01.233Z"
   },
   {
    "duration": 1119,
    "start_time": "2022-04-10T19:57:09.428Z"
   },
   {
    "duration": 1007,
    "start_time": "2022-04-10T19:57:14.909Z"
   },
   {
    "duration": 19,
    "start_time": "2022-04-10T19:58:19.862Z"
   },
   {
    "duration": 19,
    "start_time": "2022-04-10T19:58:44.264Z"
   },
   {
    "duration": 7,
    "start_time": "2022-04-10T19:59:24.978Z"
   },
   {
    "duration": 459,
    "start_time": "2022-04-10T19:59:27.314Z"
   },
   {
    "duration": 16,
    "start_time": "2022-04-10T20:01:24.788Z"
   },
   {
    "duration": 11,
    "start_time": "2022-04-10T20:01:33.623Z"
   },
   {
    "duration": 445,
    "start_time": "2022-04-10T20:01:52.799Z"
   },
   {
    "duration": 89,
    "start_time": "2022-04-10T20:03:17.841Z"
   },
   {
    "duration": 13,
    "start_time": "2022-04-10T20:03:40.967Z"
   },
   {
    "duration": 7,
    "start_time": "2022-04-10T20:03:54.315Z"
   },
   {
    "duration": 232,
    "start_time": "2022-04-10T20:03:56.612Z"
   },
   {
    "duration": 331,
    "start_time": "2022-04-10T20:04:12.029Z"
   },
   {
    "duration": 320,
    "start_time": "2022-04-10T20:04:49.285Z"
   },
   {
    "duration": 232,
    "start_time": "2022-04-10T20:05:06.518Z"
   },
   {
    "duration": 263,
    "start_time": "2022-04-10T20:05:18.694Z"
   },
   {
    "duration": 493,
    "start_time": "2022-04-10T20:05:46.990Z"
   },
   {
    "duration": 889,
    "start_time": "2022-04-10T20:06:02.425Z"
   },
   {
    "duration": 96,
    "start_time": "2022-04-10T20:06:40.376Z"
   },
   {
    "duration": 260,
    "start_time": "2022-04-10T20:06:56.266Z"
   },
   {
    "duration": 898,
    "start_time": "2022-04-10T20:07:17.529Z"
   },
   {
    "duration": 97,
    "start_time": "2022-04-10T20:08:48.493Z"
   },
   {
    "duration": 102,
    "start_time": "2022-04-10T20:10:47.584Z"
   },
   {
    "duration": 6,
    "start_time": "2022-04-10T20:16:16.276Z"
   },
   {
    "duration": 344,
    "start_time": "2022-04-10T20:16:18.514Z"
   },
   {
    "duration": 19,
    "start_time": "2022-04-10T20:16:33.876Z"
   },
   {
    "duration": 27,
    "start_time": "2022-04-10T20:17:25.752Z"
   },
   {
    "duration": 24,
    "start_time": "2022-04-10T20:17:49.256Z"
   },
   {
    "duration": 16,
    "start_time": "2022-04-10T20:18:35.890Z"
   },
   {
    "duration": 32,
    "start_time": "2022-04-10T20:18:39.570Z"
   },
   {
    "duration": 37,
    "start_time": "2022-04-10T20:18:57.114Z"
   },
   {
    "duration": 35,
    "start_time": "2022-04-10T20:21:27.384Z"
   },
   {
    "duration": 30,
    "start_time": "2022-04-10T20:21:42.265Z"
   },
   {
    "duration": 32,
    "start_time": "2022-04-10T20:21:48.136Z"
   },
   {
    "duration": 31,
    "start_time": "2022-04-10T20:21:58.339Z"
   },
   {
    "duration": 38,
    "start_time": "2022-04-10T20:22:02.513Z"
   },
   {
    "duration": 8,
    "start_time": "2022-04-10T20:22:24.570Z"
   },
   {
    "duration": 29,
    "start_time": "2022-04-10T20:22:45.803Z"
   },
   {
    "duration": 34,
    "start_time": "2022-04-10T20:22:51.578Z"
   },
   {
    "duration": 29,
    "start_time": "2022-04-10T20:22:54.955Z"
   },
   {
    "duration": 113,
    "start_time": "2022-04-10T20:25:32.825Z"
   },
   {
    "duration": 1254,
    "start_time": "2022-04-11T09:27:38.699Z"
   },
   {
    "duration": 166,
    "start_time": "2022-04-11T09:27:39.956Z"
   },
   {
    "duration": 30,
    "start_time": "2022-04-11T09:27:40.124Z"
   },
   {
    "duration": 7,
    "start_time": "2022-04-11T09:27:40.156Z"
   },
   {
    "duration": 409,
    "start_time": "2022-04-11T09:27:40.166Z"
   },
   {
    "duration": 8,
    "start_time": "2022-04-11T09:27:40.577Z"
   },
   {
    "duration": 261,
    "start_time": "2022-04-11T09:27:40.587Z"
   },
   {
    "duration": 12,
    "start_time": "2022-04-11T09:27:40.851Z"
   },
   {
    "duration": 14,
    "start_time": "2022-04-11T09:27:40.865Z"
   },
   {
    "duration": 11,
    "start_time": "2022-04-11T09:27:40.881Z"
   },
   {
    "duration": 12,
    "start_time": "2022-04-11T09:27:40.895Z"
   },
   {
    "duration": 76,
    "start_time": "2022-04-11T09:27:40.910Z"
   },
   {
    "duration": 12,
    "start_time": "2022-04-11T09:27:40.989Z"
   },
   {
    "duration": 36,
    "start_time": "2022-04-11T09:27:41.007Z"
   },
   {
    "duration": 52,
    "start_time": "2022-04-11T09:27:41.045Z"
   },
   {
    "duration": 12,
    "start_time": "2022-04-11T09:27:41.100Z"
   },
   {
    "duration": 33,
    "start_time": "2022-04-11T09:27:41.115Z"
   },
   {
    "duration": 52,
    "start_time": "2022-04-11T09:27:41.152Z"
   },
   {
    "duration": 65,
    "start_time": "2022-04-11T09:27:41.206Z"
   },
   {
    "duration": 6,
    "start_time": "2022-04-11T09:27:41.273Z"
   },
   {
    "duration": 65,
    "start_time": "2022-04-11T09:27:41.282Z"
   },
   {
    "duration": 9,
    "start_time": "2022-04-11T09:27:41.350Z"
   },
   {
    "duration": 51,
    "start_time": "2022-04-11T09:27:41.361Z"
   },
   {
    "duration": 38,
    "start_time": "2022-04-11T09:27:41.414Z"
   },
   {
    "duration": 42,
    "start_time": "2022-04-11T09:27:41.455Z"
   },
   {
    "duration": 76,
    "start_time": "2022-04-11T09:27:41.499Z"
   },
   {
    "duration": 69,
    "start_time": "2022-04-11T09:27:41.578Z"
   },
   {
    "duration": 44,
    "start_time": "2022-04-11T09:27:41.655Z"
   },
   {
    "duration": 92,
    "start_time": "2022-04-11T09:27:41.702Z"
   },
   {
    "duration": 91,
    "start_time": "2022-04-11T09:27:41.796Z"
   },
   {
    "duration": 28,
    "start_time": "2022-04-11T09:27:41.889Z"
   },
   {
    "duration": 30,
    "start_time": "2022-04-11T09:27:41.919Z"
   },
   {
    "duration": 27,
    "start_time": "2022-04-11T09:27:41.952Z"
   },
   {
    "duration": 521,
    "start_time": "2022-04-11T09:27:41.981Z"
   },
   {
    "duration": 4,
    "start_time": "2022-04-11T09:27:42.504Z"
   },
   {
    "duration": 10,
    "start_time": "2022-04-11T09:27:42.510Z"
   },
   {
    "duration": 56,
    "start_time": "2022-04-11T09:27:42.522Z"
   },
   {
    "duration": 266,
    "start_time": "2022-04-11T09:27:42.580Z"
   },
   {
    "duration": 274,
    "start_time": "2022-04-11T09:27:42.849Z"
   },
   {
    "duration": 349,
    "start_time": "2022-04-11T09:27:43.125Z"
   },
   {
    "duration": 266,
    "start_time": "2022-04-11T09:27:43.482Z"
   },
   {
    "duration": 1813,
    "start_time": "2022-04-11T09:27:43.750Z"
   },
   {
    "duration": 10,
    "start_time": "2022-04-11T09:27:45.565Z"
   },
   {
    "duration": 291,
    "start_time": "2022-04-11T09:27:45.577Z"
   },
   {
    "duration": 16,
    "start_time": "2022-04-11T09:27:45.870Z"
   },
   {
    "duration": 219,
    "start_time": "2022-04-11T09:27:45.888Z"
   },
   {
    "duration": 203,
    "start_time": "2022-04-11T09:27:46.109Z"
   },
   {
    "duration": 11,
    "start_time": "2022-04-11T09:27:46.314Z"
   },
   {
    "duration": 23,
    "start_time": "2022-04-11T09:27:46.328Z"
   },
   {
    "duration": 18,
    "start_time": "2022-04-11T09:27:46.354Z"
   },
   {
    "duration": 77,
    "start_time": "2022-04-11T09:27:46.374Z"
   },
   {
    "duration": 9,
    "start_time": "2022-04-11T09:27:46.454Z"
   },
   {
    "duration": 351,
    "start_time": "2022-04-11T09:27:46.465Z"
   },
   {
    "duration": 548,
    "start_time": "2022-04-11T09:27:46.818Z"
   },
   {
    "duration": 317,
    "start_time": "2022-04-11T09:27:47.369Z"
   },
   {
    "duration": 1149,
    "start_time": "2022-04-11T09:27:47.688Z"
   },
   {
    "duration": 1163,
    "start_time": "2022-04-11T09:27:48.843Z"
   },
   {
    "duration": 1183,
    "start_time": "2022-04-11T09:27:50.008Z"
   },
   {
    "duration": 1610,
    "start_time": "2022-04-11T09:27:51.193Z"
   },
   {
    "duration": 37,
    "start_time": "2022-04-11T09:27:52.806Z"
   },
   {
    "duration": 6,
    "start_time": "2022-04-11T09:27:52.846Z"
   },
   {
    "duration": 500,
    "start_time": "2022-04-11T09:27:52.855Z"
   },
   {
    "duration": 16,
    "start_time": "2022-04-11T09:27:53.357Z"
   },
   {
    "duration": 12,
    "start_time": "2022-04-11T09:27:53.376Z"
   },
   {
    "duration": 439,
    "start_time": "2022-04-11T09:27:53.391Z"
   },
   {
    "duration": 21,
    "start_time": "2022-04-11T09:27:53.833Z"
   },
   {
    "duration": 38,
    "start_time": "2022-04-11T09:27:53.857Z"
   },
   {
    "duration": 343,
    "start_time": "2022-04-11T09:27:53.897Z"
   },
   {
    "duration": 300,
    "start_time": "2022-04-11T09:27:54.243Z"
   },
   {
    "duration": 326,
    "start_time": "2022-04-11T09:27:54.545Z"
   },
   {
    "duration": 287,
    "start_time": "2022-04-11T09:27:54.874Z"
   },
   {
    "duration": 539,
    "start_time": "2022-04-11T09:27:55.163Z"
   },
   {
    "duration": 945,
    "start_time": "2022-04-11T09:27:55.704Z"
   },
   {
    "duration": 285,
    "start_time": "2022-04-11T09:27:56.652Z"
   },
   {
    "duration": 974,
    "start_time": "2022-04-11T09:27:56.939Z"
   },
   {
    "duration": 58,
    "start_time": "2022-04-11T09:27:57.915Z"
   },
   {
    "duration": 20,
    "start_time": "2022-04-11T09:27:57.975Z"
   },
   {
    "duration": 5,
    "start_time": "2022-04-11T09:27:57.997Z"
   },
   {
    "duration": 5,
    "start_time": "2022-04-11T09:28:31.773Z"
   },
   {
    "duration": 4,
    "start_time": "2022-04-11T09:28:33.039Z"
   },
   {
    "duration": 1575,
    "start_time": "2022-04-12T10:56:06.381Z"
   },
   {
    "duration": 216,
    "start_time": "2022-04-12T10:56:07.960Z"
   },
   {
    "duration": 31,
    "start_time": "2022-04-12T10:56:08.179Z"
   },
   {
    "duration": 8,
    "start_time": "2022-04-12T10:56:08.212Z"
   },
   {
    "duration": 419,
    "start_time": "2022-04-12T10:56:08.224Z"
   },
   {
    "duration": 9,
    "start_time": "2022-04-12T10:56:08.646Z"
   },
   {
    "duration": 377,
    "start_time": "2022-04-12T10:56:08.657Z"
   },
   {
    "duration": 12,
    "start_time": "2022-04-12T10:56:09.038Z"
   },
   {
    "duration": 32,
    "start_time": "2022-04-12T10:56:09.052Z"
   },
   {
    "duration": 12,
    "start_time": "2022-04-12T10:56:09.086Z"
   },
   {
    "duration": 11,
    "start_time": "2022-04-12T10:56:09.101Z"
   },
   {
    "duration": 76,
    "start_time": "2022-04-12T10:56:09.115Z"
   },
   {
    "duration": 11,
    "start_time": "2022-04-12T10:56:09.193Z"
   },
   {
    "duration": 9,
    "start_time": "2022-04-12T10:56:09.210Z"
   },
   {
    "duration": 108,
    "start_time": "2022-04-12T10:56:09.221Z"
   },
   {
    "duration": 15,
    "start_time": "2022-04-12T10:56:09.332Z"
   },
   {
    "duration": 8,
    "start_time": "2022-04-12T10:56:09.350Z"
   },
   {
    "duration": 47,
    "start_time": "2022-04-12T10:56:09.385Z"
   },
   {
    "duration": 69,
    "start_time": "2022-04-12T10:56:09.435Z"
   },
   {
    "duration": 6,
    "start_time": "2022-04-12T10:56:09.506Z"
   },
   {
    "duration": 72,
    "start_time": "2022-04-12T10:56:09.515Z"
   },
   {
    "duration": 6,
    "start_time": "2022-04-12T10:56:09.590Z"
   },
   {
    "duration": 47,
    "start_time": "2022-04-12T10:56:09.598Z"
   },
   {
    "duration": 40,
    "start_time": "2022-04-12T10:56:09.648Z"
   },
   {
    "duration": 46,
    "start_time": "2022-04-12T10:56:09.691Z"
   },
   {
    "duration": 75,
    "start_time": "2022-04-12T10:56:09.740Z"
   },
   {
    "duration": 66,
    "start_time": "2022-04-12T10:56:09.818Z"
   },
   {
    "duration": 43,
    "start_time": "2022-04-12T10:56:09.886Z"
   },
   {
    "duration": 96,
    "start_time": "2022-04-12T10:56:09.931Z"
   },
   {
    "duration": 81,
    "start_time": "2022-04-12T10:56:10.029Z"
   },
   {
    "duration": 24,
    "start_time": "2022-04-12T10:56:10.114Z"
   },
   {
    "duration": 7,
    "start_time": "2022-04-12T10:56:10.141Z"
   },
   {
    "duration": 53,
    "start_time": "2022-04-12T10:56:10.151Z"
   },
   {
    "duration": 940,
    "start_time": "2022-04-12T10:56:10.207Z"
   },
   {
    "duration": 5,
    "start_time": "2022-04-12T10:56:11.150Z"
   },
   {
    "duration": 27,
    "start_time": "2022-04-12T10:56:11.157Z"
   },
   {
    "duration": 43,
    "start_time": "2022-04-12T10:56:11.187Z"
   },
   {
    "duration": 286,
    "start_time": "2022-04-12T10:56:11.233Z"
   },
   {
    "duration": 297,
    "start_time": "2022-04-12T10:56:11.521Z"
   },
   {
    "duration": 352,
    "start_time": "2022-04-12T10:56:11.820Z"
   },
   {
    "duration": 264,
    "start_time": "2022-04-12T10:56:12.184Z"
   },
   {
    "duration": 1732,
    "start_time": "2022-04-12T10:56:12.451Z"
   },
   {
    "duration": 12,
    "start_time": "2022-04-12T10:56:14.186Z"
   },
   {
    "duration": 293,
    "start_time": "2022-04-12T10:56:14.200Z"
   },
   {
    "duration": 17,
    "start_time": "2022-04-12T10:56:14.496Z"
   },
   {
    "duration": 274,
    "start_time": "2022-04-12T10:56:14.516Z"
   },
   {
    "duration": 266,
    "start_time": "2022-04-12T10:56:14.793Z"
   },
   {
    "duration": 30,
    "start_time": "2022-04-12T10:56:15.061Z"
   },
   {
    "duration": 13,
    "start_time": "2022-04-12T10:56:15.094Z"
   },
   {
    "duration": 7,
    "start_time": "2022-04-12T10:56:15.110Z"
   },
   {
    "duration": 93,
    "start_time": "2022-04-12T10:56:15.120Z"
   },
   {
    "duration": 7,
    "start_time": "2022-04-12T10:56:15.216Z"
   },
   {
    "duration": 372,
    "start_time": "2022-04-12T10:56:15.226Z"
   },
   {
    "duration": 537,
    "start_time": "2022-04-12T10:56:15.600Z"
   },
   {
    "duration": 309,
    "start_time": "2022-04-12T10:56:16.140Z"
   },
   {
    "duration": 1134,
    "start_time": "2022-04-12T10:56:16.452Z"
   },
   {
    "duration": 1370,
    "start_time": "2022-04-12T10:56:17.589Z"
   },
   {
    "duration": 1173,
    "start_time": "2022-04-12T10:56:18.961Z"
   },
   {
    "duration": 1141,
    "start_time": "2022-04-12T10:56:20.137Z"
   },
   {
    "duration": 18,
    "start_time": "2022-04-12T10:56:21.283Z"
   },
   {
    "duration": 7,
    "start_time": "2022-04-12T10:56:21.303Z"
   },
   {
    "duration": 775,
    "start_time": "2022-04-12T10:56:21.313Z"
   },
   {
    "duration": 16,
    "start_time": "2022-04-12T10:56:22.091Z"
   },
   {
    "duration": 12,
    "start_time": "2022-04-12T10:56:22.109Z"
   },
   {
    "duration": 636,
    "start_time": "2022-04-12T10:56:22.123Z"
   },
   {
    "duration": 22,
    "start_time": "2022-04-12T10:56:22.762Z"
   },
   {
    "duration": 7,
    "start_time": "2022-04-12T10:56:22.787Z"
   },
   {
    "duration": 265,
    "start_time": "2022-04-12T10:56:22.797Z"
   },
   {
    "duration": 274,
    "start_time": "2022-04-12T10:56:23.064Z"
   },
   {
    "duration": 253,
    "start_time": "2022-04-12T10:56:23.340Z"
   },
   {
    "duration": 281,
    "start_time": "2022-04-12T10:56:23.595Z"
   },
   {
    "duration": 524,
    "start_time": "2022-04-12T10:56:23.878Z"
   },
   {
    "duration": 936,
    "start_time": "2022-04-12T10:56:24.405Z"
   },
   {
    "duration": 427,
    "start_time": "2022-04-12T10:56:25.344Z"
   },
   {
    "duration": 1668,
    "start_time": "2022-04-12T10:56:25.783Z"
   },
   {
    "duration": 71,
    "start_time": "2022-04-12T10:56:27.454Z"
   },
   {
    "duration": 21,
    "start_time": "2022-04-12T10:56:27.528Z"
   },
   {
    "duration": 6,
    "start_time": "2022-04-12T10:56:27.552Z"
   },
   {
    "duration": 946,
    "start_time": "2022-04-12T11:05:53.302Z"
   },
   {
    "duration": 1122,
    "start_time": "2022-04-12T11:05:57.528Z"
   },
   {
    "duration": 354,
    "start_time": "2022-04-12T12:09:27.591Z"
   },
   {
    "duration": 19,
    "start_time": "2022-04-12T12:16:57.044Z"
   },
   {
    "duration": 8,
    "start_time": "2022-04-12T12:17:02.784Z"
   },
   {
    "duration": 64,
    "start_time": "2022-04-12T12:17:05.103Z"
   },
   {
    "duration": 5,
    "start_time": "2022-04-12T12:18:11.879Z"
   },
   {
    "duration": 4,
    "start_time": "2022-04-12T12:18:14.544Z"
   },
   {
    "duration": 5,
    "start_time": "2022-04-12T12:18:21.129Z"
   },
   {
    "duration": 56,
    "start_time": "2022-04-12T12:18:23.332Z"
   },
   {
    "duration": 6,
    "start_time": "2022-04-12T12:19:04.944Z"
   },
   {
    "duration": 57,
    "start_time": "2022-04-12T12:19:07.911Z"
   },
   {
    "duration": 5,
    "start_time": "2022-04-12T12:19:11.883Z"
   },
   {
    "duration": 4,
    "start_time": "2022-04-12T12:19:13.784Z"
   },
   {
    "duration": 44,
    "start_time": "2022-04-12T12:19:16.503Z"
   },
   {
    "duration": 46,
    "start_time": "2022-04-12T13:48:19.492Z"
   },
   {
    "duration": 722,
    "start_time": "2022-04-12T13:48:32.146Z"
   },
   {
    "duration": 98,
    "start_time": "2022-04-12T13:48:32.870Z"
   },
   {
    "duration": 15,
    "start_time": "2022-04-12T13:48:32.972Z"
   },
   {
    "duration": 4,
    "start_time": "2022-04-12T13:48:32.989Z"
   },
   {
    "duration": 244,
    "start_time": "2022-04-12T13:48:32.995Z"
   },
   {
    "duration": 6,
    "start_time": "2022-04-12T13:48:33.240Z"
   },
   {
    "duration": 162,
    "start_time": "2022-04-12T13:48:33.247Z"
   },
   {
    "duration": 7,
    "start_time": "2022-04-12T13:48:33.410Z"
   },
   {
    "duration": 11,
    "start_time": "2022-04-12T13:48:33.418Z"
   },
   {
    "duration": 8,
    "start_time": "2022-04-12T13:48:33.430Z"
   },
   {
    "duration": 8,
    "start_time": "2022-04-12T13:48:33.439Z"
   },
   {
    "duration": 31,
    "start_time": "2022-04-12T13:48:33.473Z"
   },
   {
    "duration": 7,
    "start_time": "2022-04-12T13:48:33.506Z"
   },
   {
    "duration": 5,
    "start_time": "2022-04-12T13:48:33.517Z"
   },
   {
    "duration": 63,
    "start_time": "2022-04-12T13:48:33.523Z"
   },
   {
    "duration": 8,
    "start_time": "2022-04-12T13:48:33.588Z"
   },
   {
    "duration": 5,
    "start_time": "2022-04-12T13:48:33.597Z"
   },
   {
    "duration": 33,
    "start_time": "2022-04-12T13:48:33.604Z"
   },
   {
    "duration": 55,
    "start_time": "2022-04-12T13:48:33.639Z"
   },
   {
    "duration": 5,
    "start_time": "2022-04-12T13:48:33.696Z"
   },
   {
    "duration": 35,
    "start_time": "2022-04-12T13:48:33.702Z"
   },
   {
    "duration": 35,
    "start_time": "2022-04-12T13:48:33.738Z"
   },
   {
    "duration": 35,
    "start_time": "2022-04-12T13:48:33.775Z"
   },
   {
    "duration": 10,
    "start_time": "2022-04-12T13:48:33.811Z"
   },
   {
    "duration": 51,
    "start_time": "2022-04-12T13:48:33.823Z"
   },
   {
    "duration": 26,
    "start_time": "2022-04-12T13:48:33.876Z"
   },
   {
    "duration": 29,
    "start_time": "2022-04-12T13:48:33.904Z"
   },
   {
    "duration": 62,
    "start_time": "2022-04-12T13:48:33.935Z"
   },
   {
    "duration": 30,
    "start_time": "2022-04-12T13:48:33.998Z"
   },
   {
    "duration": 59,
    "start_time": "2022-04-12T13:48:34.029Z"
   },
   {
    "duration": 12,
    "start_time": "2022-04-12T13:48:34.089Z"
   },
   {
    "duration": 94,
    "start_time": "2022-04-12T13:48:34.103Z"
   },
   {
    "duration": 0,
    "start_time": "2022-04-12T13:48:34.199Z"
   },
   {
    "duration": 0,
    "start_time": "2022-04-12T13:48:34.200Z"
   },
   {
    "duration": 0,
    "start_time": "2022-04-12T13:48:34.201Z"
   },
   {
    "duration": 0,
    "start_time": "2022-04-12T13:48:34.202Z"
   },
   {
    "duration": 0,
    "start_time": "2022-04-12T13:48:34.203Z"
   },
   {
    "duration": 0,
    "start_time": "2022-04-12T13:48:34.204Z"
   },
   {
    "duration": 0,
    "start_time": "2022-04-12T13:48:34.205Z"
   },
   {
    "duration": 1,
    "start_time": "2022-04-12T13:48:34.205Z"
   },
   {
    "duration": 0,
    "start_time": "2022-04-12T13:48:34.206Z"
   },
   {
    "duration": 0,
    "start_time": "2022-04-12T13:48:34.207Z"
   },
   {
    "duration": 0,
    "start_time": "2022-04-12T13:48:34.208Z"
   },
   {
    "duration": 0,
    "start_time": "2022-04-12T13:48:34.209Z"
   },
   {
    "duration": 0,
    "start_time": "2022-04-12T13:48:34.210Z"
   },
   {
    "duration": 0,
    "start_time": "2022-04-12T13:48:34.211Z"
   },
   {
    "duration": 0,
    "start_time": "2022-04-12T13:48:34.212Z"
   },
   {
    "duration": 0,
    "start_time": "2022-04-12T13:48:34.213Z"
   },
   {
    "duration": 0,
    "start_time": "2022-04-12T13:48:34.213Z"
   },
   {
    "duration": 0,
    "start_time": "2022-04-12T13:48:34.214Z"
   },
   {
    "duration": 0,
    "start_time": "2022-04-12T13:48:34.215Z"
   },
   {
    "duration": 0,
    "start_time": "2022-04-12T13:48:34.216Z"
   },
   {
    "duration": 0,
    "start_time": "2022-04-12T13:48:34.217Z"
   },
   {
    "duration": 0,
    "start_time": "2022-04-12T13:48:34.218Z"
   },
   {
    "duration": 0,
    "start_time": "2022-04-12T13:48:34.219Z"
   },
   {
    "duration": 0,
    "start_time": "2022-04-12T13:48:34.220Z"
   },
   {
    "duration": 0,
    "start_time": "2022-04-12T13:48:34.220Z"
   },
   {
    "duration": 0,
    "start_time": "2022-04-12T13:48:34.221Z"
   },
   {
    "duration": 0,
    "start_time": "2022-04-12T13:48:34.222Z"
   },
   {
    "duration": 0,
    "start_time": "2022-04-12T13:48:34.223Z"
   },
   {
    "duration": 0,
    "start_time": "2022-04-12T13:48:34.224Z"
   },
   {
    "duration": 0,
    "start_time": "2022-04-12T13:48:34.225Z"
   },
   {
    "duration": 0,
    "start_time": "2022-04-12T13:48:34.226Z"
   },
   {
    "duration": 0,
    "start_time": "2022-04-12T13:48:34.273Z"
   },
   {
    "duration": 0,
    "start_time": "2022-04-12T13:48:34.274Z"
   },
   {
    "duration": 0,
    "start_time": "2022-04-12T13:48:34.275Z"
   },
   {
    "duration": 0,
    "start_time": "2022-04-12T13:48:34.276Z"
   },
   {
    "duration": 0,
    "start_time": "2022-04-12T13:48:34.277Z"
   },
   {
    "duration": 0,
    "start_time": "2022-04-12T13:48:34.278Z"
   },
   {
    "duration": 0,
    "start_time": "2022-04-12T13:48:34.279Z"
   },
   {
    "duration": 0,
    "start_time": "2022-04-12T13:48:34.280Z"
   },
   {
    "duration": 0,
    "start_time": "2022-04-12T13:48:34.281Z"
   },
   {
    "duration": 0,
    "start_time": "2022-04-12T13:48:34.282Z"
   },
   {
    "duration": 0,
    "start_time": "2022-04-12T13:48:34.284Z"
   },
   {
    "duration": 0,
    "start_time": "2022-04-12T13:48:34.285Z"
   },
   {
    "duration": 0,
    "start_time": "2022-04-12T13:48:34.285Z"
   },
   {
    "duration": 0,
    "start_time": "2022-04-12T13:48:34.286Z"
   },
   {
    "duration": 0,
    "start_time": "2022-04-12T13:48:34.287Z"
   },
   {
    "duration": 0,
    "start_time": "2022-04-12T13:48:34.288Z"
   },
   {
    "duration": 0,
    "start_time": "2022-04-12T13:48:34.289Z"
   },
   {
    "duration": 12,
    "start_time": "2022-04-12T13:49:02.373Z"
   },
   {
    "duration": 109,
    "start_time": "2022-04-12T14:05:59.768Z"
   },
   {
    "duration": 732,
    "start_time": "2022-04-12T14:07:13.364Z"
   },
   {
    "duration": 109,
    "start_time": "2022-04-12T14:07:14.098Z"
   },
   {
    "duration": 14,
    "start_time": "2022-04-12T14:07:14.209Z"
   },
   {
    "duration": 4,
    "start_time": "2022-04-12T14:07:14.225Z"
   },
   {
    "duration": 233,
    "start_time": "2022-04-12T14:07:14.231Z"
   },
   {
    "duration": 10,
    "start_time": "2022-04-12T14:07:14.465Z"
   },
   {
    "duration": 158,
    "start_time": "2022-04-12T14:07:14.477Z"
   },
   {
    "duration": 7,
    "start_time": "2022-04-12T14:07:14.637Z"
   },
   {
    "duration": 9,
    "start_time": "2022-04-12T14:07:14.645Z"
   },
   {
    "duration": 24,
    "start_time": "2022-04-12T14:07:14.656Z"
   },
   {
    "duration": 12,
    "start_time": "2022-04-12T14:07:14.682Z"
   },
   {
    "duration": 30,
    "start_time": "2022-04-12T14:07:14.696Z"
   },
   {
    "duration": 8,
    "start_time": "2022-04-12T14:07:14.728Z"
   },
   {
    "duration": 37,
    "start_time": "2022-04-12T14:07:14.738Z"
   },
   {
    "duration": 41,
    "start_time": "2022-04-12T14:07:14.776Z"
   },
   {
    "duration": 7,
    "start_time": "2022-04-12T14:07:14.819Z"
   },
   {
    "duration": 5,
    "start_time": "2022-04-12T14:07:14.828Z"
   },
   {
    "duration": 54,
    "start_time": "2022-04-12T14:07:14.835Z"
   },
   {
    "duration": 28,
    "start_time": "2022-04-12T14:07:14.890Z"
   },
   {
    "duration": 5,
    "start_time": "2022-04-12T14:07:14.919Z"
   },
   {
    "duration": 63,
    "start_time": "2022-04-12T14:07:14.926Z"
   },
   {
    "duration": 5,
    "start_time": "2022-04-12T14:07:14.990Z"
   },
   {
    "duration": 52,
    "start_time": "2022-04-12T14:07:14.996Z"
   },
   {
    "duration": 11,
    "start_time": "2022-04-12T14:07:15.050Z"
   },
   {
    "duration": 29,
    "start_time": "2022-04-12T14:07:15.074Z"
   },
   {
    "duration": 28,
    "start_time": "2022-04-12T14:07:15.105Z"
   },
   {
    "duration": 62,
    "start_time": "2022-04-12T14:07:15.134Z"
   },
   {
    "duration": 28,
    "start_time": "2022-04-12T14:07:15.198Z"
   },
   {
    "duration": 61,
    "start_time": "2022-04-12T14:07:15.227Z"
   },
   {
    "duration": 30,
    "start_time": "2022-04-12T14:07:15.289Z"
   },
   {
    "duration": 12,
    "start_time": "2022-04-12T14:07:15.320Z"
   },
   {
    "duration": 40,
    "start_time": "2022-04-12T14:07:15.334Z"
   },
   {
    "duration": 4,
    "start_time": "2022-04-12T14:07:15.376Z"
   },
   {
    "duration": 15,
    "start_time": "2022-04-12T14:07:15.381Z"
   },
   {
    "duration": 341,
    "start_time": "2022-04-12T14:07:15.398Z"
   },
   {
    "duration": 2,
    "start_time": "2022-04-12T14:07:15.741Z"
   },
   {
    "duration": 8,
    "start_time": "2022-04-12T14:07:15.745Z"
   },
   {
    "duration": 40,
    "start_time": "2022-04-12T14:07:15.754Z"
   },
   {
    "duration": 161,
    "start_time": "2022-04-12T14:07:15.795Z"
   },
   {
    "duration": 185,
    "start_time": "2022-04-12T14:07:15.958Z"
   },
   {
    "duration": 191,
    "start_time": "2022-04-12T14:07:16.147Z"
   },
   {
    "duration": 163,
    "start_time": "2022-04-12T14:07:16.340Z"
   },
   {
    "duration": 1032,
    "start_time": "2022-04-12T14:07:16.505Z"
   },
   {
    "duration": 7,
    "start_time": "2022-04-12T14:07:17.539Z"
   },
   {
    "duration": 174,
    "start_time": "2022-04-12T14:07:17.548Z"
   },
   {
    "duration": 12,
    "start_time": "2022-04-12T14:07:17.723Z"
   },
   {
    "duration": 133,
    "start_time": "2022-04-12T14:07:17.736Z"
   },
   {
    "duration": 116,
    "start_time": "2022-04-12T14:07:17.872Z"
   },
   {
    "duration": 8,
    "start_time": "2022-04-12T14:07:17.990Z"
   },
   {
    "duration": 6,
    "start_time": "2022-04-12T14:07:18.000Z"
   },
   {
    "duration": 6,
    "start_time": "2022-04-12T14:07:18.007Z"
   },
   {
    "duration": 4,
    "start_time": "2022-04-12T14:07:18.015Z"
   },
   {
    "duration": 76,
    "start_time": "2022-04-12T14:07:18.021Z"
   },
   {
    "duration": 5,
    "start_time": "2022-04-12T14:07:18.099Z"
   },
   {
    "duration": 232,
    "start_time": "2022-04-12T14:07:18.105Z"
   },
   {
    "duration": 358,
    "start_time": "2022-04-12T14:07:18.339Z"
   },
   {
    "duration": 200,
    "start_time": "2022-04-12T14:07:18.698Z"
   },
   {
    "duration": 696,
    "start_time": "2022-04-12T14:07:18.900Z"
   },
   {
    "duration": 720,
    "start_time": "2022-04-12T14:07:19.598Z"
   },
   {
    "duration": 787,
    "start_time": "2022-04-12T14:07:20.319Z"
   },
   {
    "duration": 758,
    "start_time": "2022-04-12T14:07:21.108Z"
   },
   {
    "duration": 14,
    "start_time": "2022-04-12T14:07:21.867Z"
   },
   {
    "duration": 5,
    "start_time": "2022-04-12T14:07:21.883Z"
   },
   {
    "duration": 346,
    "start_time": "2022-04-12T14:07:21.890Z"
   },
   {
    "duration": 11,
    "start_time": "2022-04-12T14:07:22.238Z"
   },
   {
    "duration": 22,
    "start_time": "2022-04-12T14:07:22.251Z"
   },
   {
    "duration": 279,
    "start_time": "2022-04-12T14:07:22.275Z"
   },
   {
    "duration": 22,
    "start_time": "2022-04-12T14:07:22.556Z"
   },
   {
    "duration": 15,
    "start_time": "2022-04-12T14:07:22.580Z"
   },
   {
    "duration": 163,
    "start_time": "2022-04-12T14:07:22.597Z"
   },
   {
    "duration": 177,
    "start_time": "2022-04-12T14:07:22.762Z"
   },
   {
    "duration": 168,
    "start_time": "2022-04-12T14:07:22.941Z"
   },
   {
    "duration": 186,
    "start_time": "2022-04-12T14:07:23.111Z"
   },
   {
    "duration": 347,
    "start_time": "2022-04-12T14:07:23.299Z"
   },
   {
    "duration": 598,
    "start_time": "2022-04-12T14:07:23.648Z"
   },
   {
    "duration": 178,
    "start_time": "2022-04-12T14:07:24.248Z"
   },
   {
    "duration": 627,
    "start_time": "2022-04-12T14:07:24.428Z"
   },
   {
    "duration": 33,
    "start_time": "2022-04-12T14:07:25.057Z"
   },
   {
    "duration": 14,
    "start_time": "2022-04-12T14:07:25.091Z"
   },
   {
    "duration": 4,
    "start_time": "2022-04-12T14:07:25.107Z"
   },
   {
    "duration": 112,
    "start_time": "2022-04-12T14:08:58.663Z"
   },
   {
    "duration": 118,
    "start_time": "2022-04-12T14:11:04.251Z"
   },
   {
    "duration": 679,
    "start_time": "2022-04-12T14:14:47.471Z"
   },
   {
    "duration": 104,
    "start_time": "2022-04-12T14:14:48.152Z"
   },
   {
    "duration": 18,
    "start_time": "2022-04-12T14:14:48.258Z"
   },
   {
    "duration": 4,
    "start_time": "2022-04-12T14:14:48.278Z"
   },
   {
    "duration": 228,
    "start_time": "2022-04-12T14:14:48.284Z"
   },
   {
    "duration": 6,
    "start_time": "2022-04-12T14:14:48.513Z"
   },
   {
    "duration": 163,
    "start_time": "2022-04-12T14:14:48.520Z"
   },
   {
    "duration": 8,
    "start_time": "2022-04-12T14:14:48.684Z"
   },
   {
    "duration": 10,
    "start_time": "2022-04-12T14:14:48.693Z"
   },
   {
    "duration": 8,
    "start_time": "2022-04-12T14:14:48.706Z"
   },
   {
    "duration": 9,
    "start_time": "2022-04-12T14:14:48.715Z"
   },
   {
    "duration": 56,
    "start_time": "2022-04-12T14:14:48.726Z"
   },
   {
    "duration": 9,
    "start_time": "2022-04-12T14:14:48.783Z"
   },
   {
    "duration": 6,
    "start_time": "2022-04-12T14:14:48.793Z"
   },
   {
    "duration": 31,
    "start_time": "2022-04-12T14:14:48.801Z"
   },
   {
    "duration": 9,
    "start_time": "2022-04-12T14:14:48.834Z"
   },
   {
    "duration": 5,
    "start_time": "2022-04-12T14:14:48.873Z"
   },
   {
    "duration": 32,
    "start_time": "2022-04-12T14:14:48.880Z"
   },
   {
    "duration": 30,
    "start_time": "2022-04-12T14:14:48.915Z"
   },
   {
    "duration": 31,
    "start_time": "2022-04-12T14:14:48.947Z"
   },
   {
    "duration": 33,
    "start_time": "2022-04-12T14:14:48.980Z"
   },
   {
    "duration": 5,
    "start_time": "2022-04-12T14:14:49.015Z"
   },
   {
    "duration": 61,
    "start_time": "2022-04-12T14:14:49.022Z"
   },
   {
    "duration": 11,
    "start_time": "2022-04-12T14:14:49.084Z"
   },
   {
    "duration": 27,
    "start_time": "2022-04-12T14:14:49.096Z"
   },
   {
    "duration": 53,
    "start_time": "2022-04-12T14:14:49.124Z"
   },
   {
    "duration": 31,
    "start_time": "2022-04-12T14:14:49.178Z"
   },
   {
    "duration": 28,
    "start_time": "2022-04-12T14:14:49.213Z"
   },
   {
    "duration": 54,
    "start_time": "2022-04-12T14:14:49.243Z"
   },
   {
    "duration": 28,
    "start_time": "2022-04-12T14:14:49.299Z"
   },
   {
    "duration": 11,
    "start_time": "2022-04-12T14:14:49.329Z"
   },
   {
    "duration": 36,
    "start_time": "2022-04-12T14:14:49.342Z"
   },
   {
    "duration": 5,
    "start_time": "2022-04-12T14:14:49.379Z"
   },
   {
    "duration": 21,
    "start_time": "2022-04-12T14:14:49.385Z"
   },
   {
    "duration": 321,
    "start_time": "2022-04-12T14:14:49.408Z"
   },
   {
    "duration": 3,
    "start_time": "2022-04-12T14:14:49.731Z"
   },
   {
    "duration": 11,
    "start_time": "2022-04-12T14:14:49.735Z"
   },
   {
    "duration": 38,
    "start_time": "2022-04-12T14:14:49.747Z"
   },
   {
    "duration": 155,
    "start_time": "2022-04-12T14:14:49.786Z"
   },
   {
    "duration": 179,
    "start_time": "2022-04-12T14:14:49.942Z"
   },
   {
    "duration": 192,
    "start_time": "2022-04-12T14:14:50.123Z"
   },
   {
    "duration": 160,
    "start_time": "2022-04-12T14:14:50.316Z"
   },
   {
    "duration": 1046,
    "start_time": "2022-04-12T14:14:50.478Z"
   },
   {
    "duration": 8,
    "start_time": "2022-04-12T14:14:51.526Z"
   },
   {
    "duration": 180,
    "start_time": "2022-04-12T14:14:51.536Z"
   },
   {
    "duration": 13,
    "start_time": "2022-04-12T14:14:51.717Z"
   },
   {
    "duration": 130,
    "start_time": "2022-04-12T14:14:51.731Z"
   },
   {
    "duration": 126,
    "start_time": "2022-04-12T14:14:51.863Z"
   },
   {
    "duration": 8,
    "start_time": "2022-04-12T14:14:51.991Z"
   },
   {
    "duration": 7,
    "start_time": "2022-04-12T14:14:52.001Z"
   },
   {
    "duration": 6,
    "start_time": "2022-04-12T14:14:52.010Z"
   },
   {
    "duration": 9,
    "start_time": "2022-04-12T14:14:52.017Z"
   },
   {
    "duration": 68,
    "start_time": "2022-04-12T14:14:52.027Z"
   },
   {
    "duration": 5,
    "start_time": "2022-04-12T14:14:52.097Z"
   },
   {
    "duration": 211,
    "start_time": "2022-04-12T14:14:52.104Z"
   },
   {
    "duration": 356,
    "start_time": "2022-04-12T14:14:52.317Z"
   },
   {
    "duration": 199,
    "start_time": "2022-04-12T14:14:52.675Z"
   },
   {
    "duration": 701,
    "start_time": "2022-04-12T14:14:52.876Z"
   },
   {
    "duration": 709,
    "start_time": "2022-04-12T14:14:53.579Z"
   },
   {
    "duration": 695,
    "start_time": "2022-04-12T14:14:54.290Z"
   },
   {
    "duration": 722,
    "start_time": "2022-04-12T14:14:54.987Z"
   },
   {
    "duration": 12,
    "start_time": "2022-04-12T14:14:55.711Z"
   },
   {
    "duration": 5,
    "start_time": "2022-04-12T14:14:55.725Z"
   },
   {
    "duration": 324,
    "start_time": "2022-04-12T14:14:55.731Z"
   },
   {
    "duration": 22,
    "start_time": "2022-04-12T14:14:56.057Z"
   },
   {
    "duration": 7,
    "start_time": "2022-04-12T14:14:56.081Z"
   },
   {
    "duration": 252,
    "start_time": "2022-04-12T14:14:56.090Z"
   },
   {
    "duration": 9,
    "start_time": "2022-04-12T14:14:56.344Z"
   },
   {
    "duration": 23,
    "start_time": "2022-04-12T14:14:56.355Z"
   },
   {
    "duration": 150,
    "start_time": "2022-04-12T14:14:56.379Z"
   },
   {
    "duration": 168,
    "start_time": "2022-04-12T14:14:56.531Z"
   },
   {
    "duration": 153,
    "start_time": "2022-04-12T14:14:56.700Z"
   },
   {
    "duration": 170,
    "start_time": "2022-04-12T14:14:56.854Z"
   },
   {
    "duration": 320,
    "start_time": "2022-04-12T14:14:57.025Z"
   },
   {
    "duration": 556,
    "start_time": "2022-04-12T14:14:57.347Z"
   },
   {
    "duration": 172,
    "start_time": "2022-04-12T14:14:57.905Z"
   },
   {
    "duration": 576,
    "start_time": "2022-04-12T14:14:58.078Z"
   },
   {
    "duration": 36,
    "start_time": "2022-04-12T14:14:58.655Z"
   },
   {
    "duration": 13,
    "start_time": "2022-04-12T14:14:58.692Z"
   },
   {
    "duration": 4,
    "start_time": "2022-04-12T14:14:58.706Z"
   },
   {
    "duration": 1241,
    "start_time": "2022-04-12T14:59:25.161Z"
   },
   {
    "duration": 155,
    "start_time": "2022-04-12T14:59:26.406Z"
   },
   {
    "duration": 41,
    "start_time": "2022-04-12T14:59:26.563Z"
   },
   {
    "duration": 5,
    "start_time": "2022-04-12T14:59:26.607Z"
   },
   {
    "duration": 423,
    "start_time": "2022-04-12T14:59:26.615Z"
   },
   {
    "duration": 8,
    "start_time": "2022-04-12T14:59:27.040Z"
   },
   {
    "duration": 264,
    "start_time": "2022-04-12T14:59:27.050Z"
   },
   {
    "duration": 9,
    "start_time": "2022-04-12T14:59:27.316Z"
   },
   {
    "duration": 11,
    "start_time": "2022-04-12T14:59:27.327Z"
   },
   {
    "duration": 12,
    "start_time": "2022-04-12T14:59:27.340Z"
   },
   {
    "duration": 34,
    "start_time": "2022-04-12T14:59:27.354Z"
   },
   {
    "duration": 52,
    "start_time": "2022-04-12T14:59:27.392Z"
   },
   {
    "duration": 12,
    "start_time": "2022-04-12T14:59:27.447Z"
   },
   {
    "duration": 8,
    "start_time": "2022-04-12T14:59:27.492Z"
   },
   {
    "duration": 47,
    "start_time": "2022-04-12T14:59:27.502Z"
   },
   {
    "duration": 37,
    "start_time": "2022-04-12T14:59:27.551Z"
   },
   {
    "duration": 7,
    "start_time": "2022-04-12T14:59:27.591Z"
   },
   {
    "duration": 50,
    "start_time": "2022-04-12T14:59:27.603Z"
   },
   {
    "duration": 72,
    "start_time": "2022-04-12T14:59:27.656Z"
   },
   {
    "duration": 6,
    "start_time": "2022-04-12T14:59:27.730Z"
   },
   {
    "duration": 74,
    "start_time": "2022-04-12T14:59:27.738Z"
   },
   {
    "duration": 6,
    "start_time": "2022-04-12T14:59:27.814Z"
   },
   {
    "duration": 63,
    "start_time": "2022-04-12T14:59:27.823Z"
   },
   {
    "duration": 19,
    "start_time": "2022-04-12T14:59:27.889Z"
   },
   {
    "duration": 40,
    "start_time": "2022-04-12T14:59:27.910Z"
   },
   {
    "duration": 72,
    "start_time": "2022-04-12T14:59:27.952Z"
   },
   {
    "duration": 75,
    "start_time": "2022-04-12T14:59:28.027Z"
   },
   {
    "duration": 43,
    "start_time": "2022-04-12T14:59:28.105Z"
   },
   {
    "duration": 76,
    "start_time": "2022-04-12T14:59:28.150Z"
   },
   {
    "duration": 64,
    "start_time": "2022-04-12T14:59:28.229Z"
   },
   {
    "duration": 19,
    "start_time": "2022-04-12T14:59:28.296Z"
   },
   {
    "duration": 16,
    "start_time": "2022-04-12T14:59:28.318Z"
   },
   {
    "duration": 6,
    "start_time": "2022-04-12T14:59:28.337Z"
   },
   {
    "duration": 52,
    "start_time": "2022-04-12T14:59:28.345Z"
   },
   {
    "duration": 560,
    "start_time": "2022-04-12T14:59:28.400Z"
   },
   {
    "duration": 5,
    "start_time": "2022-04-12T14:59:28.962Z"
   },
   {
    "duration": 18,
    "start_time": "2022-04-12T14:59:28.969Z"
   },
   {
    "duration": 40,
    "start_time": "2022-04-12T14:59:28.992Z"
   },
   {
    "duration": 365,
    "start_time": "2022-04-12T14:59:29.035Z"
   },
   {
    "duration": 283,
    "start_time": "2022-04-12T14:59:29.403Z"
   },
   {
    "duration": 345,
    "start_time": "2022-04-12T14:59:29.694Z"
   },
   {
    "duration": 288,
    "start_time": "2022-04-12T14:59:30.042Z"
   },
   {
    "duration": 2730,
    "start_time": "2022-04-12T14:59:30.333Z"
   },
   {
    "duration": 22,
    "start_time": "2022-04-12T14:59:33.065Z"
   },
   {
    "duration": 302,
    "start_time": "2022-04-12T14:59:33.090Z"
   },
   {
    "duration": 19,
    "start_time": "2022-04-12T14:59:33.395Z"
   },
   {
    "duration": 218,
    "start_time": "2022-04-12T14:59:33.416Z"
   },
   {
    "duration": 220,
    "start_time": "2022-04-12T14:59:33.636Z"
   },
   {
    "duration": 25,
    "start_time": "2022-04-12T14:59:33.859Z"
   },
   {
    "duration": 14,
    "start_time": "2022-04-12T14:59:33.887Z"
   },
   {
    "duration": 12,
    "start_time": "2022-04-12T14:59:33.905Z"
   },
   {
    "duration": 5,
    "start_time": "2022-04-12T14:59:33.920Z"
   },
   {
    "duration": 103,
    "start_time": "2022-04-12T14:59:33.928Z"
   },
   {
    "duration": 8,
    "start_time": "2022-04-12T14:59:34.035Z"
   },
   {
    "duration": 371,
    "start_time": "2022-04-12T14:59:34.046Z"
   },
   {
    "duration": 568,
    "start_time": "2022-04-12T14:59:34.420Z"
   },
   {
    "duration": 324,
    "start_time": "2022-04-12T14:59:34.991Z"
   },
   {
    "duration": 1166,
    "start_time": "2022-04-12T14:59:35.318Z"
   },
   {
    "duration": 1175,
    "start_time": "2022-04-12T14:59:36.487Z"
   },
   {
    "duration": 1150,
    "start_time": "2022-04-12T14:59:37.664Z"
   },
   {
    "duration": 1111,
    "start_time": "2022-04-12T14:59:38.817Z"
   },
   {
    "duration": 19,
    "start_time": "2022-04-12T14:59:39.931Z"
   },
   {
    "duration": 30,
    "start_time": "2022-04-12T14:59:39.952Z"
   },
   {
    "duration": 499,
    "start_time": "2022-04-12T14:59:39.985Z"
   },
   {
    "duration": 19,
    "start_time": "2022-04-12T14:59:40.487Z"
   },
   {
    "duration": 12,
    "start_time": "2022-04-12T14:59:40.509Z"
   },
   {
    "duration": 453,
    "start_time": "2022-04-12T14:59:40.524Z"
   },
   {
    "duration": 16,
    "start_time": "2022-04-12T14:59:40.982Z"
   },
   {
    "duration": 11,
    "start_time": "2022-04-12T14:59:41.000Z"
   },
   {
    "duration": 272,
    "start_time": "2022-04-12T14:59:41.014Z"
   },
   {
    "duration": 273,
    "start_time": "2022-04-12T14:59:41.288Z"
   },
   {
    "duration": 261,
    "start_time": "2022-04-12T14:59:41.563Z"
   },
   {
    "duration": 297,
    "start_time": "2022-04-12T14:59:41.827Z"
   },
   {
    "duration": 555,
    "start_time": "2022-04-12T14:59:42.127Z"
   },
   {
    "duration": 936,
    "start_time": "2022-04-12T14:59:42.684Z"
   },
   {
    "duration": 300,
    "start_time": "2022-04-12T14:59:43.622Z"
   },
   {
    "duration": 1010,
    "start_time": "2022-04-12T14:59:43.924Z"
   },
   {
    "duration": 58,
    "start_time": "2022-04-12T14:59:44.937Z"
   },
   {
    "duration": 28,
    "start_time": "2022-04-12T14:59:45.001Z"
   },
   {
    "duration": 12,
    "start_time": "2022-04-12T14:59:45.043Z"
   },
   {
    "duration": 9,
    "start_time": "2022-04-12T15:05:18.940Z"
   },
   {
    "duration": 25,
    "start_time": "2022-04-12T15:05:47.652Z"
   },
   {
    "duration": 16,
    "start_time": "2022-04-12T15:08:49.753Z"
   },
   {
    "duration": 23,
    "start_time": "2022-04-12T15:08:53.131Z"
   },
   {
    "duration": 22,
    "start_time": "2022-04-12T15:09:01.432Z"
   },
   {
    "duration": 24,
    "start_time": "2022-04-12T15:09:11.723Z"
   },
   {
    "duration": 24,
    "start_time": "2022-04-12T15:09:27.532Z"
   },
   {
    "duration": 13,
    "start_time": "2022-04-12T15:10:07.244Z"
   },
   {
    "duration": 22,
    "start_time": "2022-04-12T15:10:09.832Z"
   },
   {
    "duration": 15,
    "start_time": "2022-04-12T15:10:51.995Z"
   },
   {
    "duration": 87,
    "start_time": "2022-04-12T15:10:54.853Z"
   },
   {
    "duration": 20,
    "start_time": "2022-04-12T15:11:06.311Z"
   },
   {
    "duration": 878,
    "start_time": "2022-04-12T15:12:39.124Z"
   },
   {
    "duration": 150,
    "start_time": "2022-04-12T15:12:40.004Z"
   },
   {
    "duration": 39,
    "start_time": "2022-04-12T15:12:40.156Z"
   },
   {
    "duration": 6,
    "start_time": "2022-04-12T15:12:40.198Z"
   },
   {
    "duration": 416,
    "start_time": "2022-04-12T15:12:40.210Z"
   },
   {
    "duration": 9,
    "start_time": "2022-04-12T15:12:40.628Z"
   },
   {
    "duration": 268,
    "start_time": "2022-04-12T15:12:40.640Z"
   },
   {
    "duration": 10,
    "start_time": "2022-04-12T15:12:40.910Z"
   },
   {
    "duration": 12,
    "start_time": "2022-04-12T15:12:40.923Z"
   },
   {
    "duration": 44,
    "start_time": "2022-04-12T15:12:40.937Z"
   },
   {
    "duration": 12,
    "start_time": "2022-04-12T15:12:40.987Z"
   },
   {
    "duration": 46,
    "start_time": "2022-04-12T15:12:41.001Z"
   },
   {
    "duration": 37,
    "start_time": "2022-04-12T15:12:41.049Z"
   },
   {
    "duration": 17,
    "start_time": "2022-04-12T15:12:41.092Z"
   },
   {
    "duration": 48,
    "start_time": "2022-04-12T15:12:41.111Z"
   },
   {
    "duration": 15,
    "start_time": "2022-04-12T15:12:41.183Z"
   },
   {
    "duration": 8,
    "start_time": "2022-04-12T15:12:41.201Z"
   },
   {
    "duration": 99,
    "start_time": "2022-04-12T15:12:41.211Z"
   },
   {
    "duration": 14,
    "start_time": "2022-04-12T15:12:41.312Z"
   },
   {
    "duration": 79,
    "start_time": "2022-04-12T15:12:41.328Z"
   },
   {
    "duration": 9,
    "start_time": "2022-04-12T15:12:41.410Z"
   },
   {
    "duration": 73,
    "start_time": "2022-04-12T15:12:41.421Z"
   },
   {
    "duration": 10,
    "start_time": "2022-04-12T15:12:41.497Z"
   },
   {
    "duration": 46,
    "start_time": "2022-04-12T15:12:41.511Z"
   },
   {
    "duration": 38,
    "start_time": "2022-04-12T15:12:41.560Z"
   },
   {
    "duration": 43,
    "start_time": "2022-04-12T15:12:41.601Z"
   },
   {
    "duration": 78,
    "start_time": "2022-04-12T15:12:41.646Z"
   },
   {
    "duration": 72,
    "start_time": "2022-04-12T15:12:41.726Z"
   },
   {
    "duration": 46,
    "start_time": "2022-04-12T15:12:41.801Z"
   },
   {
    "duration": 76,
    "start_time": "2022-04-12T15:12:41.849Z"
   },
   {
    "duration": 69,
    "start_time": "2022-04-12T15:12:41.928Z"
   },
   {
    "duration": 21,
    "start_time": "2022-04-12T15:12:42.000Z"
   },
   {
    "duration": 16,
    "start_time": "2022-04-12T15:12:42.023Z"
   },
   {
    "duration": 6,
    "start_time": "2022-04-12T15:12:42.041Z"
   },
   {
    "duration": 19,
    "start_time": "2022-04-12T15:12:42.082Z"
   },
   {
    "duration": 548,
    "start_time": "2022-04-12T15:12:42.104Z"
   },
   {
    "duration": 5,
    "start_time": "2022-04-12T15:12:42.655Z"
   },
   {
    "duration": 28,
    "start_time": "2022-04-12T15:12:42.663Z"
   },
   {
    "duration": 41,
    "start_time": "2022-04-12T15:12:42.693Z"
   },
   {
    "duration": 280,
    "start_time": "2022-04-12T15:12:42.737Z"
   },
   {
    "duration": 296,
    "start_time": "2022-04-12T15:12:43.026Z"
   },
   {
    "duration": 329,
    "start_time": "2022-04-12T15:12:43.324Z"
   },
   {
    "duration": 268,
    "start_time": "2022-04-12T15:12:43.656Z"
   },
   {
    "duration": 1805,
    "start_time": "2022-04-12T15:12:43.926Z"
   },
   {
    "duration": 9,
    "start_time": "2022-04-12T15:12:45.733Z"
   },
   {
    "duration": 307,
    "start_time": "2022-04-12T15:12:45.745Z"
   },
   {
    "duration": 29,
    "start_time": "2022-04-12T15:12:46.054Z"
   },
   {
    "duration": 204,
    "start_time": "2022-04-12T15:12:46.085Z"
   },
   {
    "duration": 211,
    "start_time": "2022-04-12T15:12:46.292Z"
   },
   {
    "duration": 13,
    "start_time": "2022-04-12T15:12:46.505Z"
   },
   {
    "duration": 11,
    "start_time": "2022-04-12T15:12:46.520Z"
   },
   {
    "duration": 10,
    "start_time": "2022-04-12T15:12:46.534Z"
   },
   {
    "duration": 47,
    "start_time": "2022-04-12T15:12:46.546Z"
   },
   {
    "duration": 77,
    "start_time": "2022-04-12T15:12:46.596Z"
   },
   {
    "duration": 17,
    "start_time": "2022-04-12T15:12:46.676Z"
   },
   {
    "duration": 396,
    "start_time": "2022-04-12T15:12:46.700Z"
   },
   {
    "duration": 741,
    "start_time": "2022-04-12T15:12:47.099Z"
   },
   {
    "duration": 331,
    "start_time": "2022-04-12T15:12:47.843Z"
   },
   {
    "duration": 1145,
    "start_time": "2022-04-12T15:12:48.184Z"
   },
   {
    "duration": 1174,
    "start_time": "2022-04-12T15:12:49.331Z"
   },
   {
    "duration": 1148,
    "start_time": "2022-04-12T15:12:50.508Z"
   },
   {
    "duration": 1174,
    "start_time": "2022-04-12T15:12:51.659Z"
   },
   {
    "duration": 19,
    "start_time": "2022-04-12T15:12:52.835Z"
   },
   {
    "duration": 34,
    "start_time": "2022-04-12T15:12:52.857Z"
   },
   {
    "duration": 473,
    "start_time": "2022-04-12T15:12:52.893Z"
   },
   {
    "duration": 27,
    "start_time": "2022-04-12T15:12:53.369Z"
   },
   {
    "duration": 15,
    "start_time": "2022-04-12T15:12:53.401Z"
   },
   {
    "duration": 619,
    "start_time": "2022-04-12T15:12:53.419Z"
   },
   {
    "duration": 16,
    "start_time": "2022-04-12T15:12:54.041Z"
   },
   {
    "duration": 34,
    "start_time": "2022-04-12T15:12:54.060Z"
   },
   {
    "duration": 249,
    "start_time": "2022-04-12T15:12:54.095Z"
   },
   {
    "duration": 273,
    "start_time": "2022-04-12T15:12:54.346Z"
   },
   {
    "duration": 271,
    "start_time": "2022-04-12T15:12:54.621Z"
   },
   {
    "duration": 287,
    "start_time": "2022-04-12T15:12:54.894Z"
   },
   {
    "duration": 538,
    "start_time": "2022-04-12T15:12:55.184Z"
   },
   {
    "duration": 1228,
    "start_time": "2022-04-12T15:12:55.725Z"
   },
   {
    "duration": 293,
    "start_time": "2022-04-12T15:12:56.956Z"
   },
   {
    "duration": 925,
    "start_time": "2022-04-12T15:12:57.252Z"
   },
   {
    "duration": 41,
    "start_time": "2022-04-12T15:12:58.182Z"
   },
   {
    "duration": 19,
    "start_time": "2022-04-12T15:12:58.225Z"
   },
   {
    "duration": 37,
    "start_time": "2022-04-12T15:12:58.247Z"
   },
   {
    "duration": 11,
    "start_time": "2022-04-12T15:19:11.618Z"
   },
   {
    "duration": 39,
    "start_time": "2022-04-12T15:19:25.346Z"
   },
   {
    "duration": 25,
    "start_time": "2022-04-12T15:27:28.306Z"
   },
   {
    "duration": 12,
    "start_time": "2022-04-12T15:39:32.146Z"
   },
   {
    "duration": 119,
    "start_time": "2022-04-12T15:39:35.866Z"
   },
   {
    "duration": 95,
    "start_time": "2022-04-12T15:40:29.706Z"
   },
   {
    "duration": 14,
    "start_time": "2022-04-12T15:41:41.745Z"
   },
   {
    "duration": 54,
    "start_time": "2022-04-12T15:41:44.547Z"
   },
   {
    "duration": 5,
    "start_time": "2022-04-12T15:41:48.686Z"
   },
   {
    "duration": 57,
    "start_time": "2022-04-12T15:41:51.287Z"
   },
   {
    "duration": 13,
    "start_time": "2022-04-12T15:42:08.987Z"
   },
   {
    "duration": 5,
    "start_time": "2022-04-12T15:42:15.146Z"
   },
   {
    "duration": 60,
    "start_time": "2022-04-12T15:42:17.103Z"
   },
   {
    "duration": 59,
    "start_time": "2022-04-12T15:43:35.754Z"
   },
   {
    "duration": 5,
    "start_time": "2022-04-12T15:43:38.666Z"
   },
   {
    "duration": 5,
    "start_time": "2022-04-12T15:43:41.194Z"
   },
   {
    "duration": 57,
    "start_time": "2022-04-12T15:43:43.246Z"
   },
   {
    "duration": 13,
    "start_time": "2022-04-12T15:44:08.900Z"
   },
   {
    "duration": 56,
    "start_time": "2022-04-12T15:44:10.806Z"
   },
   {
    "duration": 641,
    "start_time": "2022-04-13T02:32:35.403Z"
   },
   {
    "duration": 96,
    "start_time": "2022-04-13T02:32:36.046Z"
   },
   {
    "duration": 12,
    "start_time": "2022-04-13T02:32:36.144Z"
   },
   {
    "duration": 3,
    "start_time": "2022-04-13T02:32:36.157Z"
   },
   {
    "duration": 201,
    "start_time": "2022-04-13T02:32:36.162Z"
   },
   {
    "duration": 5,
    "start_time": "2022-04-13T02:32:36.365Z"
   },
   {
    "duration": 133,
    "start_time": "2022-04-13T02:32:36.372Z"
   },
   {
    "duration": 6,
    "start_time": "2022-04-13T02:32:36.507Z"
   },
   {
    "duration": 6,
    "start_time": "2022-04-13T02:32:36.523Z"
   },
   {
    "duration": 7,
    "start_time": "2022-04-13T02:32:36.530Z"
   },
   {
    "duration": 7,
    "start_time": "2022-04-13T02:32:36.538Z"
   },
   {
    "duration": 27,
    "start_time": "2022-04-13T02:32:36.546Z"
   },
   {
    "duration": 7,
    "start_time": "2022-04-13T02:32:36.575Z"
   },
   {
    "duration": 5,
    "start_time": "2022-04-13T02:32:36.584Z"
   },
   {
    "duration": 61,
    "start_time": "2022-04-13T02:32:36.590Z"
   },
   {
    "duration": 6,
    "start_time": "2022-04-13T02:32:36.653Z"
   },
   {
    "duration": 7,
    "start_time": "2022-04-13T02:32:36.660Z"
   },
   {
    "duration": 4,
    "start_time": "2022-04-13T02:32:36.669Z"
   },
   {
    "duration": 52,
    "start_time": "2022-04-13T02:32:36.674Z"
   },
   {
    "duration": 7,
    "start_time": "2022-04-13T02:32:36.728Z"
   },
   {
    "duration": 24,
    "start_time": "2022-04-13T02:32:36.737Z"
   },
   {
    "duration": 4,
    "start_time": "2022-04-13T02:32:36.763Z"
   },
   {
    "duration": 27,
    "start_time": "2022-04-13T02:32:36.768Z"
   },
   {
    "duration": 4,
    "start_time": "2022-04-13T02:32:36.824Z"
   },
   {
    "duration": 26,
    "start_time": "2022-04-13T02:32:36.829Z"
   },
   {
    "duration": 10,
    "start_time": "2022-04-13T02:32:36.856Z"
   },
   {
    "duration": 23,
    "start_time": "2022-04-13T02:32:36.867Z"
   },
   {
    "duration": 48,
    "start_time": "2022-04-13T02:32:36.891Z"
   },
   {
    "duration": 10,
    "start_time": "2022-04-13T02:32:36.940Z"
   },
   {
    "duration": 24,
    "start_time": "2022-04-13T02:32:36.951Z"
   },
   {
    "duration": 55,
    "start_time": "2022-04-13T02:32:36.977Z"
   },
   {
    "duration": 25,
    "start_time": "2022-04-13T02:32:37.033Z"
   },
   {
    "duration": 26,
    "start_time": "2022-04-13T02:32:37.059Z"
   },
   {
    "duration": 45,
    "start_time": "2022-04-13T02:32:37.087Z"
   },
   {
    "duration": 10,
    "start_time": "2022-04-13T02:32:37.134Z"
   },
   {
    "duration": 10,
    "start_time": "2022-04-13T02:32:37.146Z"
   },
   {
    "duration": 4,
    "start_time": "2022-04-13T02:32:37.157Z"
   },
   {
    "duration": 11,
    "start_time": "2022-04-13T02:32:37.162Z"
   },
   {
    "duration": 301,
    "start_time": "2022-04-13T02:32:37.174Z"
   },
   {
    "duration": 3,
    "start_time": "2022-04-13T02:32:37.476Z"
   },
   {
    "duration": 5,
    "start_time": "2022-04-13T02:32:37.483Z"
   },
   {
    "duration": 39,
    "start_time": "2022-04-13T02:32:37.490Z"
   },
   {
    "duration": 22,
    "start_time": "2022-04-13T02:32:37.531Z"
   },
   {
    "duration": 144,
    "start_time": "2022-04-13T02:32:37.555Z"
   },
   {
    "duration": 150,
    "start_time": "2022-04-13T02:32:37.701Z"
   },
   {
    "duration": 158,
    "start_time": "2022-04-13T02:32:37.852Z"
   },
   {
    "duration": 143,
    "start_time": "2022-04-13T02:32:38.012Z"
   },
   {
    "duration": 923,
    "start_time": "2022-04-13T02:32:38.156Z"
   },
   {
    "duration": 7,
    "start_time": "2022-04-13T02:32:39.080Z"
   },
   {
    "duration": 137,
    "start_time": "2022-04-13T02:32:39.088Z"
   },
   {
    "duration": 10,
    "start_time": "2022-04-13T02:32:39.227Z"
   },
   {
    "duration": 100,
    "start_time": "2022-04-13T02:32:39.238Z"
   },
   {
    "duration": 146,
    "start_time": "2022-04-13T02:32:39.339Z"
   },
   {
    "duration": 37,
    "start_time": "2022-04-13T02:32:39.487Z"
   },
   {
    "duration": 7,
    "start_time": "2022-04-13T02:32:39.525Z"
   },
   {
    "duration": 6,
    "start_time": "2022-04-13T02:32:39.533Z"
   },
   {
    "duration": 7,
    "start_time": "2022-04-13T02:32:39.540Z"
   },
   {
    "duration": 3,
    "start_time": "2022-04-13T02:32:39.549Z"
   },
   {
    "duration": 74,
    "start_time": "2022-04-13T02:32:39.553Z"
   },
   {
    "duration": 4,
    "start_time": "2022-04-13T02:32:39.629Z"
   },
   {
    "duration": 218,
    "start_time": "2022-04-13T02:32:39.635Z"
   },
   {
    "duration": 288,
    "start_time": "2022-04-13T02:32:39.855Z"
   },
   {
    "duration": 169,
    "start_time": "2022-04-13T02:32:40.145Z"
   },
   {
    "duration": 583,
    "start_time": "2022-04-13T02:32:40.323Z"
   },
   {
    "duration": 619,
    "start_time": "2022-04-13T02:32:40.907Z"
   },
   {
    "duration": 619,
    "start_time": "2022-04-13T02:32:41.527Z"
   },
   {
    "duration": 624,
    "start_time": "2022-04-13T02:32:42.149Z"
   },
   {
    "duration": 12,
    "start_time": "2022-04-13T02:32:42.775Z"
   },
   {
    "duration": 5,
    "start_time": "2022-04-13T02:32:42.789Z"
   },
   {
    "duration": 277,
    "start_time": "2022-04-13T02:32:42.796Z"
   },
   {
    "duration": 10,
    "start_time": "2022-04-13T02:32:43.075Z"
   },
   {
    "duration": 8,
    "start_time": "2022-04-13T02:32:43.087Z"
   },
   {
    "duration": 237,
    "start_time": "2022-04-13T02:32:43.096Z"
   },
   {
    "duration": 10,
    "start_time": "2022-04-13T02:32:43.335Z"
   },
   {
    "duration": 6,
    "start_time": "2022-04-13T02:32:43.347Z"
   },
   {
    "duration": 148,
    "start_time": "2022-04-13T02:32:43.355Z"
   },
   {
    "duration": 148,
    "start_time": "2022-04-13T02:32:43.505Z"
   },
   {
    "duration": 141,
    "start_time": "2022-04-13T02:32:43.654Z"
   },
   {
    "duration": 149,
    "start_time": "2022-04-13T02:32:43.797Z"
   },
   {
    "duration": 283,
    "start_time": "2022-04-13T02:32:43.948Z"
   },
   {
    "duration": 497,
    "start_time": "2022-04-13T02:32:44.233Z"
   },
   {
    "duration": 159,
    "start_time": "2022-04-13T02:32:44.732Z"
   },
   {
    "duration": 533,
    "start_time": "2022-04-13T02:32:44.893Z"
   },
   {
    "duration": 24,
    "start_time": "2022-04-13T02:32:45.427Z"
   },
   {
    "duration": 12,
    "start_time": "2022-04-13T02:32:45.452Z"
   },
   {
    "duration": 4,
    "start_time": "2022-04-13T02:32:45.466Z"
   },
   {
    "duration": 609,
    "start_time": "2022-04-13T02:34:34.078Z"
   },
   {
    "duration": 91,
    "start_time": "2022-04-13T02:34:34.688Z"
   },
   {
    "duration": 13,
    "start_time": "2022-04-13T02:34:34.781Z"
   },
   {
    "duration": 4,
    "start_time": "2022-04-13T02:34:34.796Z"
   },
   {
    "duration": 207,
    "start_time": "2022-04-13T02:34:34.802Z"
   },
   {
    "duration": 13,
    "start_time": "2022-04-13T02:34:35.011Z"
   },
   {
    "duration": 128,
    "start_time": "2022-04-13T02:34:35.026Z"
   },
   {
    "duration": 6,
    "start_time": "2022-04-13T02:34:35.156Z"
   },
   {
    "duration": 6,
    "start_time": "2022-04-13T02:34:35.163Z"
   },
   {
    "duration": 6,
    "start_time": "2022-04-13T02:34:35.171Z"
   },
   {
    "duration": 9,
    "start_time": "2022-04-13T02:34:35.179Z"
   },
   {
    "duration": 47,
    "start_time": "2022-04-13T02:34:35.189Z"
   },
   {
    "duration": 7,
    "start_time": "2022-04-13T02:34:35.237Z"
   },
   {
    "duration": 5,
    "start_time": "2022-04-13T02:34:35.247Z"
   },
   {
    "duration": 26,
    "start_time": "2022-04-13T02:34:35.254Z"
   },
   {
    "duration": 6,
    "start_time": "2022-04-13T02:34:35.282Z"
   },
   {
    "duration": 45,
    "start_time": "2022-04-13T02:34:35.289Z"
   },
   {
    "duration": 6,
    "start_time": "2022-04-13T02:34:35.336Z"
   },
   {
    "duration": 4,
    "start_time": "2022-04-13T02:34:35.343Z"
   },
   {
    "duration": 38,
    "start_time": "2022-04-13T02:34:35.349Z"
   },
   {
    "duration": 7,
    "start_time": "2022-04-13T02:34:35.389Z"
   },
   {
    "duration": 36,
    "start_time": "2022-04-13T02:34:35.398Z"
   },
   {
    "duration": 6,
    "start_time": "2022-04-13T02:34:35.435Z"
   },
   {
    "duration": 32,
    "start_time": "2022-04-13T02:34:35.443Z"
   },
   {
    "duration": 5,
    "start_time": "2022-04-13T02:34:35.477Z"
   },
   {
    "duration": 47,
    "start_time": "2022-04-13T02:34:35.484Z"
   },
   {
    "duration": 11,
    "start_time": "2022-04-13T02:34:35.533Z"
   },
   {
    "duration": 25,
    "start_time": "2022-04-13T02:34:35.546Z"
   },
   {
    "duration": 51,
    "start_time": "2022-04-13T02:34:35.573Z"
   },
   {
    "duration": 12,
    "start_time": "2022-04-13T02:34:35.625Z"
   },
   {
    "duration": 24,
    "start_time": "2022-04-13T02:34:35.639Z"
   },
   {
    "duration": 26,
    "start_time": "2022-04-13T02:34:35.665Z"
   },
   {
    "duration": 54,
    "start_time": "2022-04-13T02:34:35.693Z"
   },
   {
    "duration": 26,
    "start_time": "2022-04-13T02:34:35.748Z"
   },
   {
    "duration": 49,
    "start_time": "2022-04-13T02:34:35.775Z"
   },
   {
    "duration": 11,
    "start_time": "2022-04-13T02:34:35.826Z"
   },
   {
    "duration": 9,
    "start_time": "2022-04-13T02:34:35.839Z"
   },
   {
    "duration": 3,
    "start_time": "2022-04-13T02:34:35.849Z"
   },
   {
    "duration": 12,
    "start_time": "2022-04-13T02:34:35.854Z"
   },
   {
    "duration": 300,
    "start_time": "2022-04-13T02:34:35.867Z"
   },
   {
    "duration": 3,
    "start_time": "2022-04-13T02:34:36.171Z"
   },
   {
    "duration": 7,
    "start_time": "2022-04-13T02:34:36.175Z"
   },
   {
    "duration": 42,
    "start_time": "2022-04-13T02:34:36.183Z"
   },
   {
    "duration": 23,
    "start_time": "2022-04-13T02:34:36.227Z"
   },
   {
    "duration": 144,
    "start_time": "2022-04-13T02:34:36.252Z"
   },
   {
    "duration": 154,
    "start_time": "2022-04-13T02:34:36.398Z"
   },
   {
    "duration": 169,
    "start_time": "2022-04-13T02:34:36.554Z"
   },
   {
    "duration": 153,
    "start_time": "2022-04-13T02:34:36.725Z"
   },
   {
    "duration": 906,
    "start_time": "2022-04-13T02:34:36.880Z"
   },
   {
    "duration": 7,
    "start_time": "2022-04-13T02:34:37.787Z"
   },
   {
    "duration": 186,
    "start_time": "2022-04-13T02:34:37.795Z"
   },
   {
    "duration": 11,
    "start_time": "2022-04-13T02:34:37.982Z"
   },
   {
    "duration": 102,
    "start_time": "2022-04-13T02:34:37.995Z"
   },
   {
    "duration": 103,
    "start_time": "2022-04-13T02:34:38.099Z"
   },
   {
    "duration": 7,
    "start_time": "2022-04-13T02:34:38.204Z"
   },
   {
    "duration": 9,
    "start_time": "2022-04-13T02:34:38.212Z"
   },
   {
    "duration": 5,
    "start_time": "2022-04-13T02:34:38.223Z"
   },
   {
    "duration": 7,
    "start_time": "2022-04-13T02:34:38.229Z"
   },
   {
    "duration": 7,
    "start_time": "2022-04-13T02:34:38.238Z"
   },
   {
    "duration": 46,
    "start_time": "2022-04-13T02:34:38.246Z"
   },
   {
    "duration": 4,
    "start_time": "2022-04-13T02:34:38.294Z"
   },
   {
    "duration": 174,
    "start_time": "2022-04-13T02:34:38.300Z"
   },
   {
    "duration": 373,
    "start_time": "2022-04-13T02:34:38.475Z"
   },
   {
    "duration": 255,
    "start_time": "2022-04-13T02:34:38.850Z"
   },
   {
    "duration": 588,
    "start_time": "2022-04-13T02:34:39.106Z"
   },
   {
    "duration": 595,
    "start_time": "2022-04-13T02:34:39.695Z"
   },
   {
    "duration": 598,
    "start_time": "2022-04-13T02:34:40.291Z"
   },
   {
    "duration": 607,
    "start_time": "2022-04-13T02:34:40.891Z"
   },
   {
    "duration": 12,
    "start_time": "2022-04-13T02:34:41.500Z"
   },
   {
    "duration": 4,
    "start_time": "2022-04-13T02:34:41.523Z"
   },
   {
    "duration": 260,
    "start_time": "2022-04-13T02:34:41.529Z"
   },
   {
    "duration": 9,
    "start_time": "2022-04-13T02:34:41.791Z"
   },
   {
    "duration": 7,
    "start_time": "2022-04-13T02:34:41.802Z"
   },
   {
    "duration": 228,
    "start_time": "2022-04-13T02:34:41.810Z"
   },
   {
    "duration": 10,
    "start_time": "2022-04-13T02:34:42.039Z"
   },
   {
    "duration": 5,
    "start_time": "2022-04-13T02:34:42.051Z"
   },
   {
    "duration": 148,
    "start_time": "2022-04-13T02:34:42.058Z"
   },
   {
    "duration": 144,
    "start_time": "2022-04-13T02:34:42.208Z"
   },
   {
    "duration": 141,
    "start_time": "2022-04-13T02:34:42.354Z"
   },
   {
    "duration": 152,
    "start_time": "2022-04-13T02:34:42.497Z"
   },
   {
    "duration": 284,
    "start_time": "2022-04-13T02:34:42.651Z"
   },
   {
    "duration": 495,
    "start_time": "2022-04-13T02:34:42.937Z"
   },
   {
    "duration": 148,
    "start_time": "2022-04-13T02:34:43.434Z"
   },
   {
    "duration": 511,
    "start_time": "2022-04-13T02:34:43.584Z"
   },
   {
    "duration": 32,
    "start_time": "2022-04-13T02:34:44.097Z"
   },
   {
    "duration": 13,
    "start_time": "2022-04-13T02:34:44.131Z"
   },
   {
    "duration": 4,
    "start_time": "2022-04-13T02:34:44.146Z"
   },
   {
    "duration": 13,
    "start_time": "2022-04-13T02:39:35.369Z"
   },
   {
    "duration": 12,
    "start_time": "2022-04-13T02:39:40.851Z"
   },
   {
    "duration": 665,
    "start_time": "2022-04-13T02:40:40.622Z"
   },
   {
    "duration": 98,
    "start_time": "2022-04-13T02:40:41.289Z"
   },
   {
    "duration": 15,
    "start_time": "2022-04-13T02:40:41.389Z"
   },
   {
    "duration": 4,
    "start_time": "2022-04-13T02:40:41.406Z"
   },
   {
    "duration": 212,
    "start_time": "2022-04-13T02:40:41.425Z"
   },
   {
    "duration": 6,
    "start_time": "2022-04-13T02:40:41.639Z"
   },
   {
    "duration": 140,
    "start_time": "2022-04-13T02:40:41.647Z"
   },
   {
    "duration": 7,
    "start_time": "2022-04-13T02:40:41.789Z"
   },
   {
    "duration": 6,
    "start_time": "2022-04-13T02:40:41.798Z"
   },
   {
    "duration": 21,
    "start_time": "2022-04-13T02:40:41.806Z"
   },
   {
    "duration": 7,
    "start_time": "2022-04-13T02:40:41.829Z"
   },
   {
    "duration": 26,
    "start_time": "2022-04-13T02:40:41.838Z"
   },
   {
    "duration": 7,
    "start_time": "2022-04-13T02:40:41.866Z"
   },
   {
    "duration": 5,
    "start_time": "2022-04-13T02:40:41.876Z"
   },
   {
    "duration": 61,
    "start_time": "2022-04-13T02:40:41.882Z"
   },
   {
    "duration": 6,
    "start_time": "2022-04-13T02:40:41.944Z"
   },
   {
    "duration": 6,
    "start_time": "2022-04-13T02:40:41.952Z"
   },
   {
    "duration": 4,
    "start_time": "2022-04-13T02:40:41.960Z"
   },
   {
    "duration": 29,
    "start_time": "2022-04-13T02:40:41.965Z"
   },
   {
    "duration": 28,
    "start_time": "2022-04-13T02:40:41.996Z"
   },
   {
    "duration": 26,
    "start_time": "2022-04-13T02:40:42.025Z"
   },
   {
    "duration": 5,
    "start_time": "2022-04-13T02:40:42.052Z"
   },
   {
    "duration": 30,
    "start_time": "2022-04-13T02:40:42.058Z"
   },
   {
    "duration": 4,
    "start_time": "2022-04-13T02:40:42.089Z"
   },
   {
    "duration": 27,
    "start_time": "2022-04-13T02:40:42.124Z"
   },
   {
    "duration": 11,
    "start_time": "2022-04-13T02:40:42.152Z"
   },
   {
    "duration": 25,
    "start_time": "2022-04-13T02:40:42.164Z"
   },
   {
    "duration": 53,
    "start_time": "2022-04-13T02:40:42.191Z"
   },
   {
    "duration": 9,
    "start_time": "2022-04-13T02:40:42.246Z"
   },
   {
    "duration": 23,
    "start_time": "2022-04-13T02:40:42.257Z"
   },
   {
    "duration": 47,
    "start_time": "2022-04-13T02:40:42.282Z"
   },
   {
    "duration": 25,
    "start_time": "2022-04-13T02:40:42.330Z"
   },
   {
    "duration": 27,
    "start_time": "2022-04-13T02:40:42.356Z"
   },
   {
    "duration": 51,
    "start_time": "2022-04-13T02:40:42.384Z"
   },
   {
    "duration": 11,
    "start_time": "2022-04-13T02:40:42.436Z"
   },
   {
    "duration": 9,
    "start_time": "2022-04-13T02:40:42.449Z"
   },
   {
    "duration": 13,
    "start_time": "2022-04-13T02:40:42.459Z"
   },
   {
    "duration": 90,
    "start_time": "2022-04-13T02:40:42.473Z"
   },
   {
    "duration": 0,
    "start_time": "2022-04-13T02:40:42.566Z"
   },
   {
    "duration": 0,
    "start_time": "2022-04-13T02:40:42.568Z"
   },
   {
    "duration": 0,
    "start_time": "2022-04-13T02:40:42.568Z"
   },
   {
    "duration": 0,
    "start_time": "2022-04-13T02:40:42.570Z"
   },
   {
    "duration": 0,
    "start_time": "2022-04-13T02:40:42.571Z"
   },
   {
    "duration": 0,
    "start_time": "2022-04-13T02:40:42.573Z"
   },
   {
    "duration": 0,
    "start_time": "2022-04-13T02:40:42.574Z"
   },
   {
    "duration": 0,
    "start_time": "2022-04-13T02:40:42.575Z"
   },
   {
    "duration": 0,
    "start_time": "2022-04-13T02:40:42.576Z"
   },
   {
    "duration": 0,
    "start_time": "2022-04-13T02:40:42.578Z"
   },
   {
    "duration": 0,
    "start_time": "2022-04-13T02:40:42.579Z"
   },
   {
    "duration": 0,
    "start_time": "2022-04-13T02:40:42.581Z"
   },
   {
    "duration": 0,
    "start_time": "2022-04-13T02:40:42.582Z"
   },
   {
    "duration": 0,
    "start_time": "2022-04-13T02:40:42.583Z"
   },
   {
    "duration": 0,
    "start_time": "2022-04-13T02:40:42.584Z"
   },
   {
    "duration": 0,
    "start_time": "2022-04-13T02:40:42.586Z"
   },
   {
    "duration": 0,
    "start_time": "2022-04-13T02:40:42.587Z"
   },
   {
    "duration": 0,
    "start_time": "2022-04-13T02:40:42.624Z"
   },
   {
    "duration": 0,
    "start_time": "2022-04-13T02:40:42.625Z"
   },
   {
    "duration": 0,
    "start_time": "2022-04-13T02:40:42.627Z"
   },
   {
    "duration": 0,
    "start_time": "2022-04-13T02:40:42.627Z"
   },
   {
    "duration": 0,
    "start_time": "2022-04-13T02:40:42.628Z"
   },
   {
    "duration": 0,
    "start_time": "2022-04-13T02:40:42.629Z"
   },
   {
    "duration": 0,
    "start_time": "2022-04-13T02:40:42.630Z"
   },
   {
    "duration": 0,
    "start_time": "2022-04-13T02:40:42.631Z"
   },
   {
    "duration": 0,
    "start_time": "2022-04-13T02:40:42.632Z"
   },
   {
    "duration": 0,
    "start_time": "2022-04-13T02:40:42.633Z"
   },
   {
    "duration": 0,
    "start_time": "2022-04-13T02:40:42.634Z"
   },
   {
    "duration": 0,
    "start_time": "2022-04-13T02:40:42.635Z"
   },
   {
    "duration": 0,
    "start_time": "2022-04-13T02:40:42.635Z"
   },
   {
    "duration": 0,
    "start_time": "2022-04-13T02:40:42.636Z"
   },
   {
    "duration": 0,
    "start_time": "2022-04-13T02:40:42.637Z"
   },
   {
    "duration": 0,
    "start_time": "2022-04-13T02:40:42.638Z"
   },
   {
    "duration": 0,
    "start_time": "2022-04-13T02:40:42.639Z"
   },
   {
    "duration": 0,
    "start_time": "2022-04-13T02:40:42.640Z"
   },
   {
    "duration": 0,
    "start_time": "2022-04-13T02:40:42.641Z"
   },
   {
    "duration": 0,
    "start_time": "2022-04-13T02:40:42.642Z"
   },
   {
    "duration": 0,
    "start_time": "2022-04-13T02:40:42.643Z"
   },
   {
    "duration": 0,
    "start_time": "2022-04-13T02:40:42.643Z"
   },
   {
    "duration": 0,
    "start_time": "2022-04-13T02:40:42.644Z"
   },
   {
    "duration": 0,
    "start_time": "2022-04-13T02:40:42.645Z"
   },
   {
    "duration": 0,
    "start_time": "2022-04-13T02:40:42.646Z"
   },
   {
    "duration": 0,
    "start_time": "2022-04-13T02:40:42.647Z"
   },
   {
    "duration": 0,
    "start_time": "2022-04-13T02:40:42.648Z"
   },
   {
    "duration": 0,
    "start_time": "2022-04-13T02:40:42.649Z"
   },
   {
    "duration": 0,
    "start_time": "2022-04-13T02:40:42.650Z"
   },
   {
    "duration": 0,
    "start_time": "2022-04-13T02:40:42.651Z"
   },
   {
    "duration": 0,
    "start_time": "2022-04-13T02:40:42.652Z"
   },
   {
    "duration": 0,
    "start_time": "2022-04-13T02:40:42.652Z"
   },
   {
    "duration": 0,
    "start_time": "2022-04-13T02:40:42.653Z"
   },
   {
    "duration": 0,
    "start_time": "2022-04-13T02:40:42.654Z"
   },
   {
    "duration": 19,
    "start_time": "2022-04-13T02:41:03.456Z"
   },
   {
    "duration": 20,
    "start_time": "2022-04-13T02:41:38.114Z"
   },
   {
    "duration": 15,
    "start_time": "2022-04-13T02:42:18.906Z"
   },
   {
    "duration": 134,
    "start_time": "2022-04-13T02:45:39.573Z"
   },
   {
    "duration": 599,
    "start_time": "2022-04-13T02:47:10.665Z"
   },
   {
    "duration": 95,
    "start_time": "2022-04-13T02:47:11.266Z"
   },
   {
    "duration": 14,
    "start_time": "2022-04-13T02:47:11.363Z"
   },
   {
    "duration": 4,
    "start_time": "2022-04-13T02:47:11.379Z"
   },
   {
    "duration": 206,
    "start_time": "2022-04-13T02:47:11.385Z"
   },
   {
    "duration": 6,
    "start_time": "2022-04-13T02:47:11.593Z"
   },
   {
    "duration": 135,
    "start_time": "2022-04-13T02:47:11.601Z"
   },
   {
    "duration": 6,
    "start_time": "2022-04-13T02:47:11.738Z"
   },
   {
    "duration": 6,
    "start_time": "2022-04-13T02:47:11.746Z"
   },
   {
    "duration": 6,
    "start_time": "2022-04-13T02:47:11.755Z"
   },
   {
    "duration": 8,
    "start_time": "2022-04-13T02:47:11.763Z"
   },
   {
    "duration": 52,
    "start_time": "2022-04-13T02:47:11.772Z"
   },
   {
    "duration": 8,
    "start_time": "2022-04-13T02:47:11.826Z"
   },
   {
    "duration": 6,
    "start_time": "2022-04-13T02:47:11.835Z"
   },
   {
    "duration": 25,
    "start_time": "2022-04-13T02:47:11.842Z"
   },
   {
    "duration": 6,
    "start_time": "2022-04-13T02:47:11.869Z"
   },
   {
    "duration": 7,
    "start_time": "2022-04-13T02:47:11.876Z"
   },
   {
    "duration": 4,
    "start_time": "2022-04-13T02:47:11.884Z"
   },
   {
    "duration": 25,
    "start_time": "2022-04-13T02:47:11.924Z"
   },
   {
    "duration": 7,
    "start_time": "2022-04-13T02:47:11.951Z"
   },
   {
    "duration": 24,
    "start_time": "2022-04-13T02:47:11.959Z"
   },
   {
    "duration": 5,
    "start_time": "2022-04-13T02:47:11.984Z"
   },
   {
    "duration": 58,
    "start_time": "2022-04-13T02:47:11.990Z"
   },
   {
    "duration": 4,
    "start_time": "2022-04-13T02:47:12.049Z"
   },
   {
    "duration": 25,
    "start_time": "2022-04-13T02:47:12.054Z"
   },
   {
    "duration": 9,
    "start_time": "2022-04-13T02:47:12.081Z"
   },
   {
    "duration": 48,
    "start_time": "2022-04-13T02:47:12.092Z"
   },
   {
    "duration": 24,
    "start_time": "2022-04-13T02:47:12.143Z"
   },
   {
    "duration": 10,
    "start_time": "2022-04-13T02:47:12.168Z"
   },
   {
    "duration": 45,
    "start_time": "2022-04-13T02:47:12.179Z"
   },
   {
    "duration": 29,
    "start_time": "2022-04-13T02:47:12.226Z"
   },
   {
    "duration": 24,
    "start_time": "2022-04-13T02:47:12.257Z"
   },
   {
    "duration": 51,
    "start_time": "2022-04-13T02:47:12.282Z"
   },
   {
    "duration": 26,
    "start_time": "2022-04-13T02:47:12.335Z"
   },
   {
    "duration": 12,
    "start_time": "2022-04-13T02:47:12.362Z"
   },
   {
    "duration": 9,
    "start_time": "2022-04-13T02:47:12.375Z"
   },
   {
    "duration": 48,
    "start_time": "2022-04-13T02:47:12.385Z"
   },
   {
    "duration": 20,
    "start_time": "2022-04-13T02:47:12.434Z"
   },
   {
    "duration": 15,
    "start_time": "2022-04-13T02:47:12.455Z"
   },
   {
    "duration": 10,
    "start_time": "2022-04-13T02:47:12.471Z"
   },
   {
    "duration": 3,
    "start_time": "2022-04-13T02:47:12.483Z"
   },
   {
    "duration": 38,
    "start_time": "2022-04-13T02:47:12.488Z"
   },
   {
    "duration": 209,
    "start_time": "2022-04-13T02:47:12.527Z"
   },
   {
    "duration": 4,
    "start_time": "2022-04-13T02:47:12.737Z"
   },
   {
    "duration": 9,
    "start_time": "2022-04-13T02:47:12.743Z"
   },
   {
    "duration": 43,
    "start_time": "2022-04-13T02:47:12.753Z"
   },
   {
    "duration": 39,
    "start_time": "2022-04-13T02:47:12.798Z"
   },
   {
    "duration": 143,
    "start_time": "2022-04-13T02:47:12.839Z"
   },
   {
    "duration": 157,
    "start_time": "2022-04-13T02:47:12.984Z"
   },
   {
    "duration": 158,
    "start_time": "2022-04-13T02:47:13.142Z"
   },
   {
    "duration": 143,
    "start_time": "2022-04-13T02:47:13.302Z"
   },
   {
    "duration": 907,
    "start_time": "2022-04-13T02:47:13.447Z"
   },
   {
    "duration": 7,
    "start_time": "2022-04-13T02:47:14.356Z"
   },
   {
    "duration": 156,
    "start_time": "2022-04-13T02:47:14.365Z"
   },
   {
    "duration": 11,
    "start_time": "2022-04-13T02:47:14.524Z"
   },
   {
    "duration": 116,
    "start_time": "2022-04-13T02:47:14.537Z"
   },
   {
    "duration": 104,
    "start_time": "2022-04-13T02:47:14.655Z"
   },
   {
    "duration": 7,
    "start_time": "2022-04-13T02:47:14.761Z"
   },
   {
    "duration": 7,
    "start_time": "2022-04-13T02:47:14.769Z"
   },
   {
    "duration": 6,
    "start_time": "2022-04-13T02:47:14.777Z"
   },
   {
    "duration": 8,
    "start_time": "2022-04-13T02:47:14.784Z"
   },
   {
    "duration": 32,
    "start_time": "2022-04-13T02:47:14.794Z"
   },
   {
    "duration": 36,
    "start_time": "2022-04-13T02:47:14.828Z"
   },
   {
    "duration": 4,
    "start_time": "2022-04-13T02:47:14.867Z"
   },
   {
    "duration": 179,
    "start_time": "2022-04-13T02:47:14.873Z"
   },
   {
    "duration": 371,
    "start_time": "2022-04-13T02:47:15.054Z"
   },
   {
    "duration": 308,
    "start_time": "2022-04-13T02:47:15.427Z"
   },
   {
    "duration": 895,
    "start_time": "2022-04-13T02:47:15.737Z"
   },
   {
    "duration": 505,
    "start_time": "2022-04-13T02:47:16.633Z"
   },
   {
    "duration": 418,
    "start_time": "2022-04-13T02:47:17.140Z"
   },
   {
    "duration": 236,
    "start_time": "2022-04-13T02:47:17.560Z"
   },
   {
    "duration": 10,
    "start_time": "2022-04-13T02:47:17.798Z"
   },
   {
    "duration": 16,
    "start_time": "2022-04-13T02:47:17.810Z"
   },
   {
    "duration": 296,
    "start_time": "2022-04-13T02:47:17.827Z"
   },
   {
    "duration": 8,
    "start_time": "2022-04-13T02:47:18.125Z"
   },
   {
    "duration": 7,
    "start_time": "2022-04-13T02:47:18.135Z"
   },
   {
    "duration": 204,
    "start_time": "2022-04-13T02:47:18.143Z"
   },
   {
    "duration": 8,
    "start_time": "2022-04-13T02:47:18.349Z"
   },
   {
    "duration": 6,
    "start_time": "2022-04-13T02:47:18.358Z"
   },
   {
    "duration": 156,
    "start_time": "2022-04-13T02:47:18.365Z"
   },
   {
    "duration": 143,
    "start_time": "2022-04-13T02:47:18.523Z"
   },
   {
    "duration": 134,
    "start_time": "2022-04-13T02:47:18.672Z"
   },
   {
    "duration": 149,
    "start_time": "2022-04-13T02:47:18.807Z"
   },
   {
    "duration": 251,
    "start_time": "2022-04-13T02:47:18.958Z"
   },
   {
    "duration": 380,
    "start_time": "2022-04-13T02:47:19.211Z"
   },
   {
    "duration": 151,
    "start_time": "2022-04-13T02:47:19.592Z"
   },
   {
    "duration": 496,
    "start_time": "2022-04-13T02:47:19.745Z"
   },
   {
    "duration": 21,
    "start_time": "2022-04-13T02:47:20.243Z"
   },
   {
    "duration": 11,
    "start_time": "2022-04-13T02:47:20.265Z"
   },
   {
    "duration": 4,
    "start_time": "2022-04-13T02:47:20.277Z"
   },
   {
    "duration": 2,
    "start_time": "2022-04-13T02:47:59.019Z"
   },
   {
    "duration": 35,
    "start_time": "2022-04-13T02:48:00.929Z"
   },
   {
    "duration": 8,
    "start_time": "2022-04-13T02:49:07.420Z"
   },
   {
    "duration": 8,
    "start_time": "2022-04-13T02:49:13.556Z"
   },
   {
    "duration": 10,
    "start_time": "2022-04-13T02:49:20.700Z"
   },
   {
    "duration": 11,
    "start_time": "2022-04-13T02:49:26.077Z"
   },
   {
    "duration": 7,
    "start_time": "2022-04-13T02:51:16.083Z"
   },
   {
    "duration": 4,
    "start_time": "2022-04-13T02:51:26.177Z"
   },
   {
    "duration": 17,
    "start_time": "2022-04-13T02:53:14.967Z"
   },
   {
    "duration": 632,
    "start_time": "2022-04-13T02:55:10.027Z"
   },
   {
    "duration": 90,
    "start_time": "2022-04-13T02:55:10.661Z"
   },
   {
    "duration": 13,
    "start_time": "2022-04-13T02:55:10.753Z"
   },
   {
    "duration": 4,
    "start_time": "2022-04-13T02:55:10.767Z"
   },
   {
    "duration": 199,
    "start_time": "2022-04-13T02:55:10.772Z"
   },
   {
    "duration": 5,
    "start_time": "2022-04-13T02:55:10.972Z"
   },
   {
    "duration": 130,
    "start_time": "2022-04-13T02:55:10.978Z"
   },
   {
    "duration": 6,
    "start_time": "2022-04-13T02:55:11.109Z"
   },
   {
    "duration": 5,
    "start_time": "2022-04-13T02:55:11.124Z"
   },
   {
    "duration": 7,
    "start_time": "2022-04-13T02:55:11.130Z"
   },
   {
    "duration": 6,
    "start_time": "2022-04-13T02:55:11.139Z"
   },
   {
    "duration": 29,
    "start_time": "2022-04-13T02:55:11.147Z"
   },
   {
    "duration": 7,
    "start_time": "2022-04-13T02:55:11.178Z"
   },
   {
    "duration": 5,
    "start_time": "2022-04-13T02:55:11.189Z"
   },
   {
    "duration": 53,
    "start_time": "2022-04-13T02:55:11.195Z"
   },
   {
    "duration": 6,
    "start_time": "2022-04-13T02:55:11.250Z"
   },
   {
    "duration": 8,
    "start_time": "2022-04-13T02:55:11.258Z"
   },
   {
    "duration": 5,
    "start_time": "2022-04-13T02:55:11.267Z"
   },
   {
    "duration": 27,
    "start_time": "2022-04-13T02:55:11.274Z"
   },
   {
    "duration": 7,
    "start_time": "2022-04-13T02:55:11.323Z"
   },
   {
    "duration": 24,
    "start_time": "2022-04-13T02:55:11.331Z"
   },
   {
    "duration": 4,
    "start_time": "2022-04-13T02:55:11.356Z"
   },
   {
    "duration": 27,
    "start_time": "2022-04-13T02:55:11.361Z"
   },
   {
    "duration": 3,
    "start_time": "2022-04-13T02:55:11.390Z"
   },
   {
    "duration": 47,
    "start_time": "2022-04-13T02:55:11.395Z"
   },
   {
    "duration": 9,
    "start_time": "2022-04-13T02:55:11.444Z"
   },
   {
    "duration": 23,
    "start_time": "2022-04-13T02:55:11.454Z"
   },
   {
    "duration": 47,
    "start_time": "2022-04-13T02:55:11.478Z"
   },
   {
    "duration": 9,
    "start_time": "2022-04-13T02:55:11.527Z"
   },
   {
    "duration": 24,
    "start_time": "2022-04-13T02:55:11.537Z"
   },
   {
    "duration": 26,
    "start_time": "2022-04-13T02:55:11.562Z"
   },
   {
    "duration": 52,
    "start_time": "2022-04-13T02:55:11.589Z"
   },
   {
    "duration": 26,
    "start_time": "2022-04-13T02:55:11.642Z"
   },
   {
    "duration": 25,
    "start_time": "2022-04-13T02:55:11.669Z"
   },
   {
    "duration": 30,
    "start_time": "2022-04-13T02:55:11.695Z"
   },
   {
    "duration": 9,
    "start_time": "2022-04-13T02:55:11.727Z"
   },
   {
    "duration": 18,
    "start_time": "2022-04-13T02:55:11.737Z"
   },
   {
    "duration": 19,
    "start_time": "2022-04-13T02:55:11.756Z"
   },
   {
    "duration": 120,
    "start_time": "2022-04-13T02:55:11.776Z"
   },
   {
    "duration": 0,
    "start_time": "2022-04-13T02:55:11.899Z"
   },
   {
    "duration": 0,
    "start_time": "2022-04-13T02:55:11.900Z"
   },
   {
    "duration": 0,
    "start_time": "2022-04-13T02:55:11.901Z"
   },
   {
    "duration": 0,
    "start_time": "2022-04-13T02:55:11.902Z"
   },
   {
    "duration": 0,
    "start_time": "2022-04-13T02:55:11.902Z"
   },
   {
    "duration": 0,
    "start_time": "2022-04-13T02:55:11.903Z"
   },
   {
    "duration": 0,
    "start_time": "2022-04-13T02:55:11.904Z"
   },
   {
    "duration": 0,
    "start_time": "2022-04-13T02:55:11.905Z"
   },
   {
    "duration": 0,
    "start_time": "2022-04-13T02:55:11.906Z"
   },
   {
    "duration": 0,
    "start_time": "2022-04-13T02:55:11.907Z"
   },
   {
    "duration": 0,
    "start_time": "2022-04-13T02:55:11.908Z"
   },
   {
    "duration": 0,
    "start_time": "2022-04-13T02:55:11.909Z"
   },
   {
    "duration": 0,
    "start_time": "2022-04-13T02:55:11.910Z"
   },
   {
    "duration": 0,
    "start_time": "2022-04-13T02:55:11.911Z"
   },
   {
    "duration": 1,
    "start_time": "2022-04-13T02:55:11.911Z"
   },
   {
    "duration": 0,
    "start_time": "2022-04-13T02:55:11.912Z"
   },
   {
    "duration": 0,
    "start_time": "2022-04-13T02:55:11.913Z"
   },
   {
    "duration": 0,
    "start_time": "2022-04-13T02:55:11.914Z"
   },
   {
    "duration": 0,
    "start_time": "2022-04-13T02:55:11.915Z"
   },
   {
    "duration": 0,
    "start_time": "2022-04-13T02:55:11.916Z"
   },
   {
    "duration": 0,
    "start_time": "2022-04-13T02:55:11.917Z"
   },
   {
    "duration": 0,
    "start_time": "2022-04-13T02:55:11.918Z"
   },
   {
    "duration": 0,
    "start_time": "2022-04-13T02:55:11.918Z"
   },
   {
    "duration": 1,
    "start_time": "2022-04-13T02:55:11.919Z"
   },
   {
    "duration": 0,
    "start_time": "2022-04-13T02:55:11.920Z"
   },
   {
    "duration": 0,
    "start_time": "2022-04-13T02:55:11.921Z"
   },
   {
    "duration": 0,
    "start_time": "2022-04-13T02:55:11.922Z"
   },
   {
    "duration": 0,
    "start_time": "2022-04-13T02:55:11.923Z"
   },
   {
    "duration": 0,
    "start_time": "2022-04-13T02:55:11.924Z"
   },
   {
    "duration": 0,
    "start_time": "2022-04-13T02:55:11.925Z"
   },
   {
    "duration": 0,
    "start_time": "2022-04-13T02:55:11.926Z"
   },
   {
    "duration": 0,
    "start_time": "2022-04-13T02:55:11.926Z"
   },
   {
    "duration": 0,
    "start_time": "2022-04-13T02:55:11.927Z"
   },
   {
    "duration": 0,
    "start_time": "2022-04-13T02:55:11.928Z"
   },
   {
    "duration": 0,
    "start_time": "2022-04-13T02:55:11.929Z"
   },
   {
    "duration": 0,
    "start_time": "2022-04-13T02:55:11.930Z"
   },
   {
    "duration": 0,
    "start_time": "2022-04-13T02:55:11.931Z"
   },
   {
    "duration": 0,
    "start_time": "2022-04-13T02:55:11.932Z"
   },
   {
    "duration": 0,
    "start_time": "2022-04-13T02:55:11.933Z"
   },
   {
    "duration": 0,
    "start_time": "2022-04-13T02:55:11.934Z"
   },
   {
    "duration": 1,
    "start_time": "2022-04-13T02:55:11.934Z"
   },
   {
    "duration": 0,
    "start_time": "2022-04-13T02:55:11.936Z"
   },
   {
    "duration": 0,
    "start_time": "2022-04-13T02:55:11.936Z"
   },
   {
    "duration": 0,
    "start_time": "2022-04-13T02:55:11.937Z"
   },
   {
    "duration": 0,
    "start_time": "2022-04-13T02:55:11.938Z"
   },
   {
    "duration": 0,
    "start_time": "2022-04-13T02:55:11.939Z"
   },
   {
    "duration": 0,
    "start_time": "2022-04-13T02:55:11.940Z"
   },
   {
    "duration": 0,
    "start_time": "2022-04-13T02:55:11.940Z"
   },
   {
    "duration": 0,
    "start_time": "2022-04-13T02:55:11.941Z"
   },
   {
    "duration": 0,
    "start_time": "2022-04-13T02:55:11.942Z"
   },
   {
    "duration": 0,
    "start_time": "2022-04-13T02:55:11.943Z"
   },
   {
    "duration": 0,
    "start_time": "2022-04-13T02:55:11.944Z"
   },
   {
    "duration": 0,
    "start_time": "2022-04-13T02:55:11.945Z"
   },
   {
    "duration": 0,
    "start_time": "2022-04-13T02:55:11.945Z"
   },
   {
    "duration": 0,
    "start_time": "2022-04-13T02:55:11.946Z"
   },
   {
    "duration": 3,
    "start_time": "2022-04-13T02:55:49.876Z"
   },
   {
    "duration": 15,
    "start_time": "2022-04-13T02:55:54.675Z"
   },
   {
    "duration": 644,
    "start_time": "2022-04-13T02:56:40.122Z"
   },
   {
    "duration": 93,
    "start_time": "2022-04-13T02:56:40.768Z"
   },
   {
    "duration": 13,
    "start_time": "2022-04-13T02:56:40.863Z"
   },
   {
    "duration": 4,
    "start_time": "2022-04-13T02:56:40.878Z"
   },
   {
    "duration": 201,
    "start_time": "2022-04-13T02:56:40.884Z"
   },
   {
    "duration": 6,
    "start_time": "2022-04-13T02:56:41.087Z"
   },
   {
    "duration": 142,
    "start_time": "2022-04-13T02:56:41.094Z"
   },
   {
    "duration": 7,
    "start_time": "2022-04-13T02:56:41.238Z"
   },
   {
    "duration": 6,
    "start_time": "2022-04-13T02:56:41.246Z"
   },
   {
    "duration": 7,
    "start_time": "2022-04-13T02:56:41.255Z"
   },
   {
    "duration": 8,
    "start_time": "2022-04-13T02:56:41.264Z"
   },
   {
    "duration": 55,
    "start_time": "2022-04-13T02:56:41.274Z"
   },
   {
    "duration": 8,
    "start_time": "2022-04-13T02:56:41.331Z"
   },
   {
    "duration": 5,
    "start_time": "2022-04-13T02:56:41.341Z"
   },
   {
    "duration": 27,
    "start_time": "2022-04-13T02:56:41.348Z"
   },
   {
    "duration": 6,
    "start_time": "2022-04-13T02:56:41.377Z"
   },
   {
    "duration": 42,
    "start_time": "2022-04-13T02:56:41.385Z"
   },
   {
    "duration": 4,
    "start_time": "2022-04-13T02:56:41.429Z"
   },
   {
    "duration": 28,
    "start_time": "2022-04-13T02:56:41.435Z"
   },
   {
    "duration": 8,
    "start_time": "2022-04-13T02:56:41.465Z"
   },
   {
    "duration": 54,
    "start_time": "2022-04-13T02:56:41.474Z"
   },
   {
    "duration": 5,
    "start_time": "2022-04-13T02:56:41.530Z"
   },
   {
    "duration": 30,
    "start_time": "2022-04-13T02:56:41.537Z"
   },
   {
    "duration": 4,
    "start_time": "2022-04-13T02:56:41.569Z"
   },
   {
    "duration": 26,
    "start_time": "2022-04-13T02:56:41.575Z"
   },
   {
    "duration": 12,
    "start_time": "2022-04-13T02:56:41.624Z"
   },
   {
    "duration": 23,
    "start_time": "2022-04-13T02:56:41.638Z"
   },
   {
    "duration": 24,
    "start_time": "2022-04-13T02:56:41.666Z"
   },
   {
    "duration": 10,
    "start_time": "2022-04-13T02:56:41.724Z"
   },
   {
    "duration": 27,
    "start_time": "2022-04-13T02:56:41.735Z"
   },
   {
    "duration": 26,
    "start_time": "2022-04-13T02:56:41.763Z"
   },
   {
    "duration": 52,
    "start_time": "2022-04-13T02:56:41.791Z"
   },
   {
    "duration": 26,
    "start_time": "2022-04-13T02:56:41.845Z"
   },
   {
    "duration": 25,
    "start_time": "2022-04-13T02:56:41.873Z"
   },
   {
    "duration": 33,
    "start_time": "2022-04-13T02:56:41.899Z"
   },
   {
    "duration": 12,
    "start_time": "2022-04-13T02:56:41.934Z"
   },
   {
    "duration": 28,
    "start_time": "2022-04-13T02:56:41.948Z"
   },
   {
    "duration": 19,
    "start_time": "2022-04-13T02:56:41.978Z"
   },
   {
    "duration": 3,
    "start_time": "2022-04-13T02:56:41.999Z"
   },
   {
    "duration": 15,
    "start_time": "2022-04-13T02:56:42.024Z"
   },
   {
    "duration": 4,
    "start_time": "2022-04-13T02:56:42.041Z"
   },
   {
    "duration": 14,
    "start_time": "2022-04-13T02:56:42.047Z"
   },
   {
    "duration": 6,
    "start_time": "2022-04-13T02:56:42.063Z"
   },
   {
    "duration": 15,
    "start_time": "2022-04-13T02:56:42.070Z"
   },
   {
    "duration": 293,
    "start_time": "2022-04-13T02:56:42.087Z"
   },
   {
    "duration": 3,
    "start_time": "2022-04-13T02:56:42.382Z"
   },
   {
    "duration": 6,
    "start_time": "2022-04-13T02:56:42.387Z"
   },
   {
    "duration": 39,
    "start_time": "2022-04-13T02:56:42.395Z"
   },
   {
    "duration": 22,
    "start_time": "2022-04-13T02:56:42.436Z"
   },
   {
    "duration": 143,
    "start_time": "2022-04-13T02:56:42.459Z"
   },
   {
    "duration": 152,
    "start_time": "2022-04-13T02:56:42.604Z"
   },
   {
    "duration": 161,
    "start_time": "2022-04-13T02:56:42.758Z"
   },
   {
    "duration": 133,
    "start_time": "2022-04-13T02:56:42.923Z"
   },
   {
    "duration": 868,
    "start_time": "2022-04-13T02:56:43.057Z"
   },
   {
    "duration": 7,
    "start_time": "2022-04-13T02:56:43.927Z"
   },
   {
    "duration": 147,
    "start_time": "2022-04-13T02:56:43.935Z"
   },
   {
    "duration": 11,
    "start_time": "2022-04-13T02:56:44.084Z"
   },
   {
    "duration": 113,
    "start_time": "2022-04-13T02:56:44.096Z"
   },
   {
    "duration": 102,
    "start_time": "2022-04-13T02:56:44.210Z"
   },
   {
    "duration": 11,
    "start_time": "2022-04-13T02:56:44.314Z"
   },
   {
    "duration": 6,
    "start_time": "2022-04-13T02:56:44.327Z"
   },
   {
    "duration": 8,
    "start_time": "2022-04-13T02:56:44.335Z"
   },
   {
    "duration": 4,
    "start_time": "2022-04-13T02:56:44.344Z"
   },
   {
    "duration": 7,
    "start_time": "2022-04-13T02:56:44.349Z"
   },
   {
    "duration": 8,
    "start_time": "2022-04-13T02:56:44.357Z"
   },
   {
    "duration": 4,
    "start_time": "2022-04-13T02:56:44.366Z"
   },
   {
    "duration": 4,
    "start_time": "2022-04-13T02:56:44.371Z"
   },
   {
    "duration": 62,
    "start_time": "2022-04-13T02:56:44.376Z"
   },
   {
    "duration": 10,
    "start_time": "2022-04-13T02:56:44.440Z"
   },
   {
    "duration": 4,
    "start_time": "2022-04-13T02:56:44.452Z"
   },
   {
    "duration": 188,
    "start_time": "2022-04-13T02:56:44.457Z"
   },
   {
    "duration": 302,
    "start_time": "2022-04-13T02:56:44.646Z"
   },
   {
    "duration": 171,
    "start_time": "2022-04-13T02:56:44.950Z"
   },
   {
    "duration": 602,
    "start_time": "2022-04-13T02:56:45.123Z"
   },
   {
    "duration": 599,
    "start_time": "2022-04-13T02:56:45.727Z"
   },
   {
    "duration": 600,
    "start_time": "2022-04-13T02:56:46.328Z"
   },
   {
    "duration": 633,
    "start_time": "2022-04-13T02:56:46.930Z"
   },
   {
    "duration": 10,
    "start_time": "2022-04-13T02:56:47.565Z"
   },
   {
    "duration": 4,
    "start_time": "2022-04-13T02:56:47.577Z"
   },
   {
    "duration": 268,
    "start_time": "2022-04-13T02:56:47.582Z"
   },
   {
    "duration": 9,
    "start_time": "2022-04-13T02:56:47.852Z"
   },
   {
    "duration": 6,
    "start_time": "2022-04-13T02:56:47.866Z"
   },
   {
    "duration": 227,
    "start_time": "2022-04-13T02:56:47.874Z"
   },
   {
    "duration": 8,
    "start_time": "2022-04-13T02:56:48.102Z"
   },
   {
    "duration": 13,
    "start_time": "2022-04-13T02:56:48.112Z"
   },
   {
    "duration": 131,
    "start_time": "2022-04-13T02:56:48.126Z"
   },
   {
    "duration": 141,
    "start_time": "2022-04-13T02:56:48.259Z"
   },
   {
    "duration": 134,
    "start_time": "2022-04-13T02:56:48.402Z"
   },
   {
    "duration": 149,
    "start_time": "2022-04-13T02:56:48.538Z"
   },
   {
    "duration": 277,
    "start_time": "2022-04-13T02:56:48.688Z"
   },
   {
    "duration": 490,
    "start_time": "2022-04-13T02:56:48.966Z"
   },
   {
    "duration": 151,
    "start_time": "2022-04-13T02:56:49.457Z"
   },
   {
    "duration": 513,
    "start_time": "2022-04-13T02:56:49.610Z"
   },
   {
    "duration": 23,
    "start_time": "2022-04-13T02:56:50.125Z"
   },
   {
    "duration": 12,
    "start_time": "2022-04-13T02:56:50.149Z"
   },
   {
    "duration": 4,
    "start_time": "2022-04-13T02:56:50.162Z"
   },
   {
    "duration": 649,
    "start_time": "2022-04-13T03:08:29.724Z"
   },
   {
    "duration": 97,
    "start_time": "2022-04-13T03:08:30.375Z"
   },
   {
    "duration": 12,
    "start_time": "2022-04-13T03:08:30.473Z"
   },
   {
    "duration": 10,
    "start_time": "2022-04-13T03:08:30.487Z"
   },
   {
    "duration": 205,
    "start_time": "2022-04-13T03:08:30.499Z"
   },
   {
    "duration": 5,
    "start_time": "2022-04-13T03:08:30.705Z"
   },
   {
    "duration": 131,
    "start_time": "2022-04-13T03:08:30.724Z"
   },
   {
    "duration": 7,
    "start_time": "2022-04-13T03:08:30.856Z"
   },
   {
    "duration": 11,
    "start_time": "2022-04-13T03:08:30.864Z"
   },
   {
    "duration": 11,
    "start_time": "2022-04-13T03:08:30.877Z"
   },
   {
    "duration": 13,
    "start_time": "2022-04-13T03:08:30.889Z"
   },
   {
    "duration": 36,
    "start_time": "2022-04-13T03:08:30.903Z"
   },
   {
    "duration": 7,
    "start_time": "2022-04-13T03:08:30.940Z"
   },
   {
    "duration": 22,
    "start_time": "2022-04-13T03:08:30.949Z"
   },
   {
    "duration": 54,
    "start_time": "2022-04-13T03:08:30.972Z"
   },
   {
    "duration": 6,
    "start_time": "2022-04-13T03:08:31.027Z"
   },
   {
    "duration": 14,
    "start_time": "2022-04-13T03:08:31.035Z"
   },
   {
    "duration": 10,
    "start_time": "2022-04-13T03:08:31.051Z"
   },
   {
    "duration": 35,
    "start_time": "2022-04-13T03:08:31.063Z"
   },
   {
    "duration": 6,
    "start_time": "2022-04-13T03:08:31.100Z"
   },
   {
    "duration": 37,
    "start_time": "2022-04-13T03:08:31.108Z"
   },
   {
    "duration": 5,
    "start_time": "2022-04-13T03:08:31.146Z"
   },
   {
    "duration": 45,
    "start_time": "2022-04-13T03:08:31.152Z"
   },
   {
    "duration": 4,
    "start_time": "2022-04-13T03:08:31.199Z"
   },
   {
    "duration": 30,
    "start_time": "2022-04-13T03:08:31.204Z"
   },
   {
    "duration": 10,
    "start_time": "2022-04-13T03:08:31.236Z"
   },
   {
    "duration": 30,
    "start_time": "2022-04-13T03:08:31.247Z"
   },
   {
    "duration": 46,
    "start_time": "2022-04-13T03:08:31.280Z"
   },
   {
    "duration": 12,
    "start_time": "2022-04-13T03:08:31.328Z"
   },
   {
    "duration": 26,
    "start_time": "2022-04-13T03:08:31.341Z"
   },
   {
    "duration": 60,
    "start_time": "2022-04-13T03:08:31.369Z"
   },
   {
    "duration": 26,
    "start_time": "2022-04-13T03:08:31.431Z"
   },
   {
    "duration": 28,
    "start_time": "2022-04-13T03:08:31.459Z"
   },
   {
    "duration": 54,
    "start_time": "2022-04-13T03:08:31.489Z"
   },
   {
    "duration": 12,
    "start_time": "2022-04-13T03:08:31.545Z"
   },
   {
    "duration": 11,
    "start_time": "2022-04-13T03:08:31.559Z"
   },
   {
    "duration": 19,
    "start_time": "2022-04-13T03:08:31.571Z"
   },
   {
    "duration": 49,
    "start_time": "2022-04-13T03:08:31.592Z"
   },
   {
    "duration": 4,
    "start_time": "2022-04-13T03:08:31.643Z"
   },
   {
    "duration": 19,
    "start_time": "2022-04-13T03:08:31.649Z"
   },
   {
    "duration": 4,
    "start_time": "2022-04-13T03:08:31.670Z"
   },
   {
    "duration": 31,
    "start_time": "2022-04-13T03:08:31.676Z"
   },
   {
    "duration": 17,
    "start_time": "2022-04-13T03:08:31.709Z"
   },
   {
    "duration": 11,
    "start_time": "2022-04-13T03:08:31.727Z"
   },
   {
    "duration": 284,
    "start_time": "2022-04-13T03:08:31.739Z"
   },
   {
    "duration": 3,
    "start_time": "2022-04-13T03:08:32.025Z"
   },
   {
    "duration": 8,
    "start_time": "2022-04-13T03:08:32.029Z"
   },
   {
    "duration": 24,
    "start_time": "2022-04-13T03:08:32.039Z"
   },
   {
    "duration": 21,
    "start_time": "2022-04-13T03:08:32.064Z"
   },
   {
    "duration": 147,
    "start_time": "2022-04-13T03:08:32.086Z"
   },
   {
    "duration": 150,
    "start_time": "2022-04-13T03:08:32.234Z"
   },
   {
    "duration": 165,
    "start_time": "2022-04-13T03:08:32.386Z"
   },
   {
    "duration": 145,
    "start_time": "2022-04-13T03:08:32.552Z"
   },
   {
    "duration": 1007,
    "start_time": "2022-04-13T03:08:32.698Z"
   },
   {
    "duration": 17,
    "start_time": "2022-04-13T03:08:33.707Z"
   },
   {
    "duration": 142,
    "start_time": "2022-04-13T03:08:33.726Z"
   },
   {
    "duration": 10,
    "start_time": "2022-04-13T03:08:33.870Z"
   },
   {
    "duration": 113,
    "start_time": "2022-04-13T03:08:33.881Z"
   },
   {
    "duration": 107,
    "start_time": "2022-04-13T03:08:33.995Z"
   },
   {
    "duration": 7,
    "start_time": "2022-04-13T03:08:34.103Z"
   },
   {
    "duration": 12,
    "start_time": "2022-04-13T03:08:34.112Z"
   },
   {
    "duration": 8,
    "start_time": "2022-04-13T03:08:34.125Z"
   },
   {
    "duration": 3,
    "start_time": "2022-04-13T03:08:34.135Z"
   },
   {
    "duration": 7,
    "start_time": "2022-04-13T03:08:34.140Z"
   },
   {
    "duration": 8,
    "start_time": "2022-04-13T03:08:34.148Z"
   },
   {
    "duration": 3,
    "start_time": "2022-04-13T03:08:34.157Z"
   },
   {
    "duration": 5,
    "start_time": "2022-04-13T03:08:34.161Z"
   },
   {
    "duration": 62,
    "start_time": "2022-04-13T03:08:34.167Z"
   },
   {
    "duration": 10,
    "start_time": "2022-04-13T03:08:34.231Z"
   },
   {
    "duration": 5,
    "start_time": "2022-04-13T03:08:34.243Z"
   },
   {
    "duration": 196,
    "start_time": "2022-04-13T03:08:34.250Z"
   },
   {
    "duration": 302,
    "start_time": "2022-04-13T03:08:34.448Z"
   },
   {
    "duration": 176,
    "start_time": "2022-04-13T03:08:34.751Z"
   },
   {
    "duration": 602,
    "start_time": "2022-04-13T03:08:34.928Z"
   },
   {
    "duration": 605,
    "start_time": "2022-04-13T03:08:35.531Z"
   },
   {
    "duration": 610,
    "start_time": "2022-04-13T03:08:36.137Z"
   },
   {
    "duration": 623,
    "start_time": "2022-04-13T03:08:36.748Z"
   },
   {
    "duration": 12,
    "start_time": "2022-04-13T03:08:37.372Z"
   },
   {
    "duration": 4,
    "start_time": "2022-04-13T03:08:37.385Z"
   },
   {
    "duration": 267,
    "start_time": "2022-04-13T03:08:37.391Z"
   },
   {
    "duration": 8,
    "start_time": "2022-04-13T03:08:37.660Z"
   },
   {
    "duration": 7,
    "start_time": "2022-04-13T03:08:37.673Z"
   },
   {
    "duration": 229,
    "start_time": "2022-04-13T03:08:37.681Z"
   },
   {
    "duration": 16,
    "start_time": "2022-04-13T03:08:37.912Z"
   },
   {
    "duration": 6,
    "start_time": "2022-04-13T03:08:37.929Z"
   },
   {
    "duration": 166,
    "start_time": "2022-04-13T03:08:37.936Z"
   },
   {
    "duration": 145,
    "start_time": "2022-04-13T03:08:38.103Z"
   },
   {
    "duration": 130,
    "start_time": "2022-04-13T03:08:38.249Z"
   },
   {
    "duration": 149,
    "start_time": "2022-04-13T03:08:38.381Z"
   },
   {
    "duration": 295,
    "start_time": "2022-04-13T03:08:38.531Z"
   },
   {
    "duration": 779,
    "start_time": "2022-04-13T03:08:38.828Z"
   },
   {
    "duration": 149,
    "start_time": "2022-04-13T03:08:39.608Z"
   },
   {
    "duration": 499,
    "start_time": "2022-04-13T03:08:39.758Z"
   },
   {
    "duration": 23,
    "start_time": "2022-04-13T03:08:40.258Z"
   },
   {
    "duration": 12,
    "start_time": "2022-04-13T03:08:40.282Z"
   },
   {
    "duration": 4,
    "start_time": "2022-04-13T03:08:40.295Z"
   },
   {
    "duration": 142,
    "start_time": "2022-04-13T03:10:03.518Z"
   },
   {
    "duration": 51,
    "start_time": "2022-04-13T03:48:09.609Z"
   },
   {
    "duration": 917,
    "start_time": "2022-04-13T03:48:32.650Z"
   },
   {
    "duration": 129,
    "start_time": "2022-04-13T03:48:33.569Z"
   },
   {
    "duration": 17,
    "start_time": "2022-04-13T03:48:33.700Z"
   },
   {
    "duration": 18,
    "start_time": "2022-04-13T03:48:33.719Z"
   },
   {
    "duration": 254,
    "start_time": "2022-04-13T03:48:33.739Z"
   },
   {
    "duration": 6,
    "start_time": "2022-04-13T03:48:33.995Z"
   },
   {
    "duration": 170,
    "start_time": "2022-04-13T03:48:34.003Z"
   },
   {
    "duration": 7,
    "start_time": "2022-04-13T03:48:34.175Z"
   },
   {
    "duration": 14,
    "start_time": "2022-04-13T03:48:34.183Z"
   },
   {
    "duration": 10,
    "start_time": "2022-04-13T03:48:34.199Z"
   },
   {
    "duration": 27,
    "start_time": "2022-04-13T03:48:34.210Z"
   },
   {
    "duration": 46,
    "start_time": "2022-04-13T03:48:34.239Z"
   },
   {
    "duration": 8,
    "start_time": "2022-04-13T03:48:34.287Z"
   },
   {
    "duration": 6,
    "start_time": "2022-04-13T03:48:34.298Z"
   },
   {
    "duration": 50,
    "start_time": "2022-04-13T03:48:34.305Z"
   },
   {
    "duration": 41,
    "start_time": "2022-04-13T03:48:34.357Z"
   },
   {
    "duration": 8,
    "start_time": "2022-04-13T03:48:34.400Z"
   },
   {
    "duration": 26,
    "start_time": "2022-04-13T03:48:34.410Z"
   },
   {
    "duration": 58,
    "start_time": "2022-04-13T03:48:34.438Z"
   },
   {
    "duration": 8,
    "start_time": "2022-04-13T03:48:34.497Z"
   },
   {
    "duration": 38,
    "start_time": "2022-04-13T03:48:34.507Z"
   },
   {
    "duration": 5,
    "start_time": "2022-04-13T03:48:34.547Z"
   },
   {
    "duration": 41,
    "start_time": "2022-04-13T03:48:34.554Z"
   },
   {
    "duration": 4,
    "start_time": "2022-04-13T03:48:34.597Z"
   },
   {
    "duration": 55,
    "start_time": "2022-04-13T03:48:34.603Z"
   },
   {
    "duration": 12,
    "start_time": "2022-04-13T03:48:34.659Z"
   },
   {
    "duration": 42,
    "start_time": "2022-04-13T03:48:34.673Z"
   },
   {
    "duration": 43,
    "start_time": "2022-04-13T03:48:34.717Z"
   },
   {
    "duration": 12,
    "start_time": "2022-04-13T03:48:34.761Z"
   },
   {
    "duration": 33,
    "start_time": "2022-04-13T03:48:34.775Z"
   },
   {
    "duration": 55,
    "start_time": "2022-04-13T03:48:34.810Z"
   },
   {
    "duration": 30,
    "start_time": "2022-04-13T03:48:34.866Z"
   },
   {
    "duration": 57,
    "start_time": "2022-04-13T03:48:34.898Z"
   },
   {
    "duration": 32,
    "start_time": "2022-04-13T03:48:34.957Z"
   },
   {
    "duration": 14,
    "start_time": "2022-04-13T03:48:34.990Z"
   },
   {
    "duration": 36,
    "start_time": "2022-04-13T03:48:35.006Z"
   },
   {
    "duration": 38,
    "start_time": "2022-04-13T03:48:35.044Z"
   },
   {
    "duration": 29,
    "start_time": "2022-04-13T03:48:35.084Z"
   },
   {
    "duration": 4,
    "start_time": "2022-04-13T03:48:35.115Z"
   },
   {
    "duration": 22,
    "start_time": "2022-04-13T03:48:35.134Z"
   },
   {
    "duration": 4,
    "start_time": "2022-04-13T03:48:35.161Z"
   },
   {
    "duration": 37,
    "start_time": "2022-04-13T03:48:35.166Z"
   },
   {
    "duration": 4,
    "start_time": "2022-04-13T03:48:35.205Z"
   },
   {
    "duration": 24,
    "start_time": "2022-04-13T03:48:35.211Z"
   },
   {
    "duration": 338,
    "start_time": "2022-04-13T03:48:35.237Z"
   },
   {
    "duration": 3,
    "start_time": "2022-04-13T03:48:35.577Z"
   },
   {
    "duration": 8,
    "start_time": "2022-04-13T03:48:35.582Z"
   },
   {
    "duration": 45,
    "start_time": "2022-04-13T03:48:35.592Z"
   },
   {
    "duration": 28,
    "start_time": "2022-04-13T03:48:35.639Z"
   },
   {
    "duration": 191,
    "start_time": "2022-04-13T03:48:35.669Z"
   },
   {
    "duration": 197,
    "start_time": "2022-04-13T03:48:35.862Z"
   },
   {
    "duration": 213,
    "start_time": "2022-04-13T03:48:36.060Z"
   },
   {
    "duration": 181,
    "start_time": "2022-04-13T03:48:36.274Z"
   },
   {
    "duration": 1139,
    "start_time": "2022-04-13T03:48:36.457Z"
   },
   {
    "duration": 8,
    "start_time": "2022-04-13T03:48:37.597Z"
   },
   {
    "duration": 192,
    "start_time": "2022-04-13T03:48:37.606Z"
   },
   {
    "duration": 13,
    "start_time": "2022-04-13T03:48:37.800Z"
   },
   {
    "duration": 146,
    "start_time": "2022-04-13T03:48:37.815Z"
   },
   {
    "duration": 138,
    "start_time": "2022-04-13T03:48:37.963Z"
   },
   {
    "duration": 8,
    "start_time": "2022-04-13T03:48:38.103Z"
   },
   {
    "duration": 20,
    "start_time": "2022-04-13T03:48:38.113Z"
   },
   {
    "duration": 8,
    "start_time": "2022-04-13T03:48:38.135Z"
   },
   {
    "duration": 4,
    "start_time": "2022-04-13T03:48:38.145Z"
   },
   {
    "duration": 8,
    "start_time": "2022-04-13T03:48:38.150Z"
   },
   {
    "duration": 10,
    "start_time": "2022-04-13T03:48:38.159Z"
   },
   {
    "duration": 4,
    "start_time": "2022-04-13T03:48:38.171Z"
   },
   {
    "duration": 4,
    "start_time": "2022-04-13T03:48:38.177Z"
   },
   {
    "duration": 78,
    "start_time": "2022-04-13T03:48:38.183Z"
   },
   {
    "duration": 13,
    "start_time": "2022-04-13T03:48:38.263Z"
   },
   {
    "duration": 5,
    "start_time": "2022-04-13T03:48:38.278Z"
   },
   {
    "duration": 249,
    "start_time": "2022-04-13T03:48:38.285Z"
   },
   {
    "duration": 378,
    "start_time": "2022-04-13T03:48:38.536Z"
   },
   {
    "duration": 213,
    "start_time": "2022-04-13T03:48:38.915Z"
   },
   {
    "duration": 769,
    "start_time": "2022-04-13T03:48:39.133Z"
   },
   {
    "duration": 780,
    "start_time": "2022-04-13T03:48:39.903Z"
   },
   {
    "duration": 764,
    "start_time": "2022-04-13T03:48:40.685Z"
   },
   {
    "duration": 805,
    "start_time": "2022-04-13T03:48:41.450Z"
   },
   {
    "duration": 13,
    "start_time": "2022-04-13T03:48:42.257Z"
   },
   {
    "duration": 5,
    "start_time": "2022-04-13T03:48:42.272Z"
   },
   {
    "duration": 347,
    "start_time": "2022-04-13T03:48:42.279Z"
   },
   {
    "duration": 11,
    "start_time": "2022-04-13T03:48:42.628Z"
   },
   {
    "duration": 8,
    "start_time": "2022-04-13T03:48:42.641Z"
   },
   {
    "duration": 296,
    "start_time": "2022-04-13T03:48:42.651Z"
   },
   {
    "duration": 10,
    "start_time": "2022-04-13T03:48:42.949Z"
   },
   {
    "duration": 6,
    "start_time": "2022-04-13T03:48:42.962Z"
   },
   {
    "duration": 191,
    "start_time": "2022-04-13T03:48:42.970Z"
   },
   {
    "duration": 186,
    "start_time": "2022-04-13T03:48:43.163Z"
   },
   {
    "duration": 174,
    "start_time": "2022-04-13T03:48:43.351Z"
   },
   {
    "duration": 192,
    "start_time": "2022-04-13T03:48:43.527Z"
   },
   {
    "duration": 359,
    "start_time": "2022-04-13T03:48:43.722Z"
   },
   {
    "duration": 635,
    "start_time": "2022-04-13T03:48:44.083Z"
   },
   {
    "duration": 187,
    "start_time": "2022-04-13T03:48:44.720Z"
   },
   {
    "duration": 664,
    "start_time": "2022-04-13T03:48:44.909Z"
   },
   {
    "duration": 29,
    "start_time": "2022-04-13T03:48:45.575Z"
   },
   {
    "duration": 32,
    "start_time": "2022-04-13T03:48:45.606Z"
   },
   {
    "duration": 4,
    "start_time": "2022-04-13T03:48:45.640Z"
   },
   {
    "duration": 4,
    "start_time": "2022-04-13T03:53:57.059Z"
   },
   {
    "duration": 19,
    "start_time": "2022-04-13T03:57:24.714Z"
   },
   {
    "duration": 5,
    "start_time": "2022-04-13T03:58:59.467Z"
   },
   {
    "duration": 21,
    "start_time": "2022-04-13T04:04:42.883Z"
   },
   {
    "duration": 4,
    "start_time": "2022-04-13T04:04:57.774Z"
   },
   {
    "duration": 18,
    "start_time": "2022-04-13T04:05:59.770Z"
   },
   {
    "duration": 4,
    "start_time": "2022-04-13T04:06:42.142Z"
   },
   {
    "duration": 10,
    "start_time": "2022-04-13T04:13:18.888Z"
   },
   {
    "duration": 689,
    "start_time": "2022-04-13T04:13:28.280Z"
   },
   {
    "duration": 121,
    "start_time": "2022-04-13T04:13:28.971Z"
   },
   {
    "duration": 17,
    "start_time": "2022-04-13T04:13:29.094Z"
   },
   {
    "duration": 20,
    "start_time": "2022-04-13T04:13:29.113Z"
   },
   {
    "duration": 245,
    "start_time": "2022-04-13T04:13:29.136Z"
   },
   {
    "duration": 7,
    "start_time": "2022-04-13T04:13:29.383Z"
   },
   {
    "duration": 178,
    "start_time": "2022-04-13T04:13:29.392Z"
   },
   {
    "duration": 8,
    "start_time": "2022-04-13T04:13:29.572Z"
   },
   {
    "duration": 7,
    "start_time": "2022-04-13T04:13:29.582Z"
   },
   {
    "duration": 9,
    "start_time": "2022-04-13T04:13:29.591Z"
   },
   {
    "duration": 34,
    "start_time": "2022-04-13T04:13:29.601Z"
   },
   {
    "duration": 34,
    "start_time": "2022-04-13T04:13:29.637Z"
   },
   {
    "duration": 9,
    "start_time": "2022-04-13T04:13:29.674Z"
   },
   {
    "duration": 7,
    "start_time": "2022-04-13T04:13:29.687Z"
   },
   {
    "duration": 71,
    "start_time": "2022-04-13T04:13:29.695Z"
   },
   {
    "duration": 41,
    "start_time": "2022-04-13T04:13:29.768Z"
   },
   {
    "duration": 4,
    "start_time": "2022-04-13T04:13:29.834Z"
   },
   {
    "duration": 31,
    "start_time": "2022-04-13T04:13:29.840Z"
   },
   {
    "duration": 5,
    "start_time": "2022-04-13T04:13:29.873Z"
   },
   {
    "duration": 10,
    "start_time": "2022-04-13T04:13:29.879Z"
   },
   {
    "duration": 6,
    "start_time": "2022-04-13T04:13:29.890Z"
   },
   {
    "duration": 65,
    "start_time": "2022-04-13T04:13:29.898Z"
   },
   {
    "duration": 24,
    "start_time": "2022-04-13T04:13:29.965Z"
   },
   {
    "duration": 3,
    "start_time": "2022-04-13T04:13:29.990Z"
   },
   {
    "duration": 46,
    "start_time": "2022-04-13T04:13:29.995Z"
   },
   {
    "duration": 4,
    "start_time": "2022-04-13T04:13:30.043Z"
   },
   {
    "duration": 42,
    "start_time": "2022-04-13T04:13:30.048Z"
   },
   {
    "duration": 6,
    "start_time": "2022-04-13T04:13:30.092Z"
   },
   {
    "duration": 55,
    "start_time": "2022-04-13T04:13:30.100Z"
   },
   {
    "duration": 5,
    "start_time": "2022-04-13T04:13:30.157Z"
   },
   {
    "duration": 33,
    "start_time": "2022-04-13T04:13:30.164Z"
   },
   {
    "duration": 11,
    "start_time": "2022-04-13T04:13:30.199Z"
   },
   {
    "duration": 31,
    "start_time": "2022-04-13T04:13:30.233Z"
   },
   {
    "duration": 30,
    "start_time": "2022-04-13T04:13:30.265Z"
   },
   {
    "duration": 37,
    "start_time": "2022-04-13T04:13:30.297Z"
   },
   {
    "duration": 30,
    "start_time": "2022-04-13T04:13:30.336Z"
   },
   {
    "duration": 34,
    "start_time": "2022-04-13T04:13:30.367Z"
   },
   {
    "duration": 56,
    "start_time": "2022-04-13T04:13:30.403Z"
   },
   {
    "duration": 33,
    "start_time": "2022-04-13T04:13:30.461Z"
   },
   {
    "duration": 58,
    "start_time": "2022-04-13T04:13:30.496Z"
   },
   {
    "duration": 14,
    "start_time": "2022-04-13T04:13:30.559Z"
   },
   {
    "duration": 12,
    "start_time": "2022-04-13T04:13:30.574Z"
   },
   {
    "duration": 48,
    "start_time": "2022-04-13T04:13:30.587Z"
   },
   {
    "duration": 24,
    "start_time": "2022-04-13T04:13:30.637Z"
   },
   {
    "duration": 3,
    "start_time": "2022-04-13T04:13:30.663Z"
   },
   {
    "duration": 23,
    "start_time": "2022-04-13T04:13:30.668Z"
   },
   {
    "duration": 4,
    "start_time": "2022-04-13T04:13:30.693Z"
   },
   {
    "duration": 39,
    "start_time": "2022-04-13T04:13:30.699Z"
   },
   {
    "duration": 4,
    "start_time": "2022-04-13T04:13:30.740Z"
   },
   {
    "duration": 18,
    "start_time": "2022-04-13T04:13:30.746Z"
   },
   {
    "duration": 346,
    "start_time": "2022-04-13T04:13:30.765Z"
   },
   {
    "duration": 3,
    "start_time": "2022-04-13T04:13:31.112Z"
   },
   {
    "duration": 16,
    "start_time": "2022-04-13T04:13:31.117Z"
   },
   {
    "duration": 31,
    "start_time": "2022-04-13T04:13:31.135Z"
   },
   {
    "duration": 29,
    "start_time": "2022-04-13T04:13:31.168Z"
   },
   {
    "duration": 192,
    "start_time": "2022-04-13T04:13:31.198Z"
   },
   {
    "duration": 209,
    "start_time": "2022-04-13T04:13:31.392Z"
   },
   {
    "duration": 198,
    "start_time": "2022-04-13T04:13:31.603Z"
   },
   {
    "duration": 182,
    "start_time": "2022-04-13T04:13:31.803Z"
   },
   {
    "duration": 1161,
    "start_time": "2022-04-13T04:13:31.986Z"
   },
   {
    "duration": 8,
    "start_time": "2022-04-13T04:13:33.149Z"
   },
   {
    "duration": 194,
    "start_time": "2022-04-13T04:13:33.159Z"
   },
   {
    "duration": 15,
    "start_time": "2022-04-13T04:13:33.354Z"
   },
   {
    "duration": 147,
    "start_time": "2022-04-13T04:13:33.370Z"
   },
   {
    "duration": 134,
    "start_time": "2022-04-13T04:13:33.519Z"
   },
   {
    "duration": 9,
    "start_time": "2022-04-13T04:13:33.654Z"
   },
   {
    "duration": 6,
    "start_time": "2022-04-13T04:13:33.665Z"
   },
   {
    "duration": 9,
    "start_time": "2022-04-13T04:13:33.673Z"
   },
   {
    "duration": 4,
    "start_time": "2022-04-13T04:13:33.683Z"
   },
   {
    "duration": 9,
    "start_time": "2022-04-13T04:13:33.689Z"
   },
   {
    "duration": 39,
    "start_time": "2022-04-13T04:13:33.699Z"
   },
   {
    "duration": 4,
    "start_time": "2022-04-13T04:13:33.740Z"
   },
   {
    "duration": 9,
    "start_time": "2022-04-13T04:13:33.745Z"
   },
   {
    "duration": 49,
    "start_time": "2022-04-13T04:13:33.755Z"
   },
   {
    "duration": 30,
    "start_time": "2022-04-13T04:13:33.805Z"
   },
   {
    "duration": 5,
    "start_time": "2022-04-13T04:13:33.837Z"
   },
   {
    "duration": 239,
    "start_time": "2022-04-13T04:13:33.843Z"
   },
   {
    "duration": 364,
    "start_time": "2022-04-13T04:13:34.084Z"
   },
   {
    "duration": 209,
    "start_time": "2022-04-13T04:13:34.450Z"
   },
   {
    "duration": 752,
    "start_time": "2022-04-13T04:13:34.661Z"
   },
   {
    "duration": 368,
    "start_time": "2022-04-13T04:13:35.415Z"
   },
   {
    "duration": 781,
    "start_time": "2022-04-13T04:13:35.785Z"
   },
   {
    "duration": 795,
    "start_time": "2022-04-13T04:13:36.568Z"
   },
   {
    "duration": 14,
    "start_time": "2022-04-13T04:13:37.365Z"
   },
   {
    "duration": 5,
    "start_time": "2022-04-13T04:13:37.381Z"
   },
   {
    "duration": 340,
    "start_time": "2022-04-13T04:13:37.388Z"
   },
   {
    "duration": 12,
    "start_time": "2022-04-13T04:13:37.729Z"
   },
   {
    "duration": 8,
    "start_time": "2022-04-13T04:13:37.743Z"
   },
   {
    "duration": 295,
    "start_time": "2022-04-13T04:13:37.753Z"
   },
   {
    "duration": 9,
    "start_time": "2022-04-13T04:13:38.050Z"
   },
   {
    "duration": 19,
    "start_time": "2022-04-13T04:13:38.061Z"
   },
   {
    "duration": 173,
    "start_time": "2022-04-13T04:13:38.082Z"
   },
   {
    "duration": 180,
    "start_time": "2022-04-13T04:13:38.257Z"
   },
   {
    "duration": 170,
    "start_time": "2022-04-13T04:13:38.439Z"
   },
   {
    "duration": 189,
    "start_time": "2022-04-13T04:13:38.611Z"
   },
   {
    "duration": 355,
    "start_time": "2022-04-13T04:13:38.802Z"
   },
   {
    "duration": 614,
    "start_time": "2022-04-13T04:13:39.159Z"
   },
   {
    "duration": 194,
    "start_time": "2022-04-13T04:13:39.775Z"
   },
   {
    "duration": 648,
    "start_time": "2022-04-13T04:13:39.971Z"
   },
   {
    "duration": 34,
    "start_time": "2022-04-13T04:13:40.621Z"
   },
   {
    "duration": 14,
    "start_time": "2022-04-13T04:13:40.657Z"
   },
   {
    "duration": 4,
    "start_time": "2022-04-13T04:13:40.673Z"
   },
   {
    "duration": 692,
    "start_time": "2022-04-14T01:51:39.612Z"
   },
   {
    "duration": 104,
    "start_time": "2022-04-14T01:51:40.306Z"
   },
   {
    "duration": 13,
    "start_time": "2022-04-14T01:51:40.411Z"
   },
   {
    "duration": 4,
    "start_time": "2022-04-14T01:51:40.426Z"
   },
   {
    "duration": 205,
    "start_time": "2022-04-14T01:51:40.432Z"
   },
   {
    "duration": 5,
    "start_time": "2022-04-14T01:51:40.639Z"
   },
   {
    "duration": 133,
    "start_time": "2022-04-14T01:51:40.646Z"
   },
   {
    "duration": 7,
    "start_time": "2022-04-14T01:51:40.780Z"
   },
   {
    "duration": 6,
    "start_time": "2022-04-14T01:51:40.800Z"
   },
   {
    "duration": 8,
    "start_time": "2022-04-14T01:51:40.808Z"
   },
   {
    "duration": 7,
    "start_time": "2022-04-14T01:51:40.817Z"
   },
   {
    "duration": 27,
    "start_time": "2022-04-14T01:51:40.825Z"
   },
   {
    "duration": 8,
    "start_time": "2022-04-14T01:51:40.854Z"
   },
   {
    "duration": 37,
    "start_time": "2022-04-14T01:51:40.865Z"
   },
   {
    "duration": 27,
    "start_time": "2022-04-14T01:51:40.903Z"
   },
   {
    "duration": 31,
    "start_time": "2022-04-14T01:51:40.931Z"
   },
   {
    "duration": 3,
    "start_time": "2022-04-14T01:51:40.964Z"
   },
   {
    "duration": 48,
    "start_time": "2022-04-14T01:51:40.968Z"
   },
   {
    "duration": 3,
    "start_time": "2022-04-14T01:51:41.018Z"
   },
   {
    "duration": 7,
    "start_time": "2022-04-14T01:51:41.023Z"
   },
   {
    "duration": 4,
    "start_time": "2022-04-14T01:51:41.031Z"
   },
   {
    "duration": 27,
    "start_time": "2022-04-14T01:51:41.036Z"
   },
   {
    "duration": 41,
    "start_time": "2022-04-14T01:51:41.065Z"
   },
   {
    "duration": 5,
    "start_time": "2022-04-14T01:51:41.108Z"
   },
   {
    "duration": 16,
    "start_time": "2022-04-14T01:51:41.114Z"
   },
   {
    "duration": 3,
    "start_time": "2022-04-14T01:51:41.131Z"
   },
   {
    "duration": 24,
    "start_time": "2022-04-14T01:51:41.136Z"
   },
   {
    "duration": 4,
    "start_time": "2022-04-14T01:51:41.161Z"
   },
   {
    "duration": 51,
    "start_time": "2022-04-14T01:51:41.166Z"
   },
   {
    "duration": 4,
    "start_time": "2022-04-14T01:51:41.218Z"
   },
   {
    "duration": 25,
    "start_time": "2022-04-14T01:51:41.223Z"
   },
   {
    "duration": 9,
    "start_time": "2022-04-14T01:51:41.249Z"
   },
   {
    "duration": 48,
    "start_time": "2022-04-14T01:51:41.260Z"
   },
   {
    "duration": 23,
    "start_time": "2022-04-14T01:51:41.310Z"
   },
   {
    "duration": 9,
    "start_time": "2022-04-14T01:51:41.335Z"
   },
   {
    "duration": 23,
    "start_time": "2022-04-14T01:51:41.346Z"
   },
   {
    "duration": 53,
    "start_time": "2022-04-14T01:51:41.370Z"
   },
   {
    "duration": 24,
    "start_time": "2022-04-14T01:51:41.424Z"
   },
   {
    "duration": 26,
    "start_time": "2022-04-14T01:51:41.450Z"
   },
   {
    "duration": 25,
    "start_time": "2022-04-14T01:51:41.501Z"
   },
   {
    "duration": 10,
    "start_time": "2022-04-14T01:51:41.531Z"
   },
   {
    "duration": 9,
    "start_time": "2022-04-14T01:51:41.543Z"
   },
   {
    "duration": 18,
    "start_time": "2022-04-14T01:51:41.553Z"
   },
   {
    "duration": 44,
    "start_time": "2022-04-14T01:51:41.572Z"
   },
   {
    "duration": 3,
    "start_time": "2022-04-14T01:51:41.617Z"
   },
   {
    "duration": 15,
    "start_time": "2022-04-14T01:51:41.622Z"
   },
   {
    "duration": 3,
    "start_time": "2022-04-14T01:51:41.639Z"
   },
   {
    "duration": 12,
    "start_time": "2022-04-14T01:51:41.644Z"
   },
   {
    "duration": 43,
    "start_time": "2022-04-14T01:51:41.658Z"
   },
   {
    "duration": 5,
    "start_time": "2022-04-14T01:51:41.703Z"
   },
   {
    "duration": 15,
    "start_time": "2022-04-14T01:51:41.709Z"
   },
   {
    "duration": 314,
    "start_time": "2022-04-14T01:51:41.725Z"
   },
   {
    "duration": 3,
    "start_time": "2022-04-14T01:51:42.041Z"
   },
   {
    "duration": 7,
    "start_time": "2022-04-14T01:51:42.045Z"
   },
   {
    "duration": 24,
    "start_time": "2022-04-14T01:51:42.053Z"
   },
   {
    "duration": 33,
    "start_time": "2022-04-14T01:51:42.078Z"
   },
   {
    "duration": 141,
    "start_time": "2022-04-14T01:51:42.112Z"
   },
   {
    "duration": 149,
    "start_time": "2022-04-14T01:51:42.254Z"
   },
   {
    "duration": 155,
    "start_time": "2022-04-14T01:51:42.404Z"
   },
   {
    "duration": 141,
    "start_time": "2022-04-14T01:51:42.561Z"
   },
   {
    "duration": 905,
    "start_time": "2022-04-14T01:51:42.703Z"
   },
   {
    "duration": 6,
    "start_time": "2022-04-14T01:51:43.609Z"
   },
   {
    "duration": 154,
    "start_time": "2022-04-14T01:51:43.617Z"
   },
   {
    "duration": 10,
    "start_time": "2022-04-14T01:51:43.773Z"
   },
   {
    "duration": 116,
    "start_time": "2022-04-14T01:51:43.784Z"
   },
   {
    "duration": 111,
    "start_time": "2022-04-14T01:51:43.901Z"
   },
   {
    "duration": 7,
    "start_time": "2022-04-14T01:51:44.014Z"
   },
   {
    "duration": 4,
    "start_time": "2022-04-14T01:51:44.022Z"
   },
   {
    "duration": 7,
    "start_time": "2022-04-14T01:51:44.027Z"
   },
   {
    "duration": 3,
    "start_time": "2022-04-14T01:51:44.035Z"
   },
   {
    "duration": 5,
    "start_time": "2022-04-14T01:51:44.040Z"
   },
   {
    "duration": 8,
    "start_time": "2022-04-14T01:51:44.046Z"
   },
   {
    "duration": 3,
    "start_time": "2022-04-14T01:51:44.056Z"
   },
   {
    "duration": 4,
    "start_time": "2022-04-14T01:51:44.060Z"
   },
   {
    "duration": 37,
    "start_time": "2022-04-14T01:51:44.100Z"
   },
   {
    "duration": 11,
    "start_time": "2022-04-14T01:51:44.138Z"
   },
   {
    "duration": 5,
    "start_time": "2022-04-14T01:51:44.150Z"
   },
   {
    "duration": 209,
    "start_time": "2022-04-14T01:51:44.156Z"
   },
   {
    "duration": 297,
    "start_time": "2022-04-14T01:51:44.367Z"
   },
   {
    "duration": 178,
    "start_time": "2022-04-14T01:51:44.666Z"
   },
   {
    "duration": 642,
    "start_time": "2022-04-14T01:51:44.846Z"
   },
   {
    "duration": 310,
    "start_time": "2022-04-14T01:51:45.490Z"
   },
   {
    "duration": 661,
    "start_time": "2022-04-14T01:51:45.802Z"
   },
   {
    "duration": 658,
    "start_time": "2022-04-14T01:51:46.465Z"
   },
   {
    "duration": 11,
    "start_time": "2022-04-14T01:51:47.125Z"
   },
   {
    "duration": 5,
    "start_time": "2022-04-14T01:51:47.138Z"
   },
   {
    "duration": 290,
    "start_time": "2022-04-14T01:51:47.145Z"
   },
   {
    "duration": 12,
    "start_time": "2022-04-14T01:51:47.437Z"
   },
   {
    "duration": 8,
    "start_time": "2022-04-14T01:51:47.451Z"
   },
   {
    "duration": 242,
    "start_time": "2022-04-14T01:51:47.461Z"
   },
   {
    "duration": 10,
    "start_time": "2022-04-14T01:51:47.706Z"
   },
   {
    "duration": 6,
    "start_time": "2022-04-14T01:51:47.718Z"
   },
   {
    "duration": 152,
    "start_time": "2022-04-14T01:51:47.726Z"
   },
   {
    "duration": 150,
    "start_time": "2022-04-14T01:51:47.880Z"
   },
   {
    "duration": 134,
    "start_time": "2022-04-14T01:51:48.031Z"
   },
   {
    "duration": 148,
    "start_time": "2022-04-14T01:51:48.166Z"
   },
   {
    "duration": 286,
    "start_time": "2022-04-14T01:51:48.316Z"
   },
   {
    "duration": 510,
    "start_time": "2022-04-14T01:51:48.603Z"
   },
   {
    "duration": 153,
    "start_time": "2022-04-14T01:51:49.115Z"
   },
   {
    "duration": 533,
    "start_time": "2022-04-14T01:51:49.269Z"
   },
   {
    "duration": 23,
    "start_time": "2022-04-14T01:51:49.804Z"
   },
   {
    "duration": 12,
    "start_time": "2022-04-14T01:51:49.828Z"
   },
   {
    "duration": 3,
    "start_time": "2022-04-14T01:51:49.842Z"
   },
   {
    "duration": 11,
    "start_time": "2022-04-14T01:52:07.551Z"
   },
   {
    "duration": 185,
    "start_time": "2022-04-14T01:58:15.332Z"
   },
   {
    "duration": 18,
    "start_time": "2022-04-14T02:01:08.643Z"
   },
   {
    "duration": 33,
    "start_time": "2022-04-14T02:01:13.170Z"
   },
   {
    "duration": 694,
    "start_time": "2022-04-14T02:06:26.328Z"
   },
   {
    "duration": 112,
    "start_time": "2022-04-14T02:06:27.024Z"
   },
   {
    "duration": 15,
    "start_time": "2022-04-14T02:06:27.137Z"
   },
   {
    "duration": 4,
    "start_time": "2022-04-14T02:06:27.154Z"
   },
   {
    "duration": 202,
    "start_time": "2022-04-14T02:06:27.159Z"
   },
   {
    "duration": 6,
    "start_time": "2022-04-14T02:06:27.362Z"
   },
   {
    "duration": 136,
    "start_time": "2022-04-14T02:06:27.369Z"
   },
   {
    "duration": 7,
    "start_time": "2022-04-14T02:06:27.507Z"
   },
   {
    "duration": 7,
    "start_time": "2022-04-14T02:06:27.515Z"
   },
   {
    "duration": 6,
    "start_time": "2022-04-14T02:06:27.525Z"
   },
   {
    "duration": 12,
    "start_time": "2022-04-14T02:06:27.532Z"
   },
   {
    "duration": 27,
    "start_time": "2022-04-14T02:06:27.546Z"
   },
   {
    "duration": 32,
    "start_time": "2022-04-14T02:06:27.575Z"
   },
   {
    "duration": 5,
    "start_time": "2022-04-14T02:06:27.609Z"
   },
   {
    "duration": 28,
    "start_time": "2022-04-14T02:06:27.615Z"
   },
   {
    "duration": 32,
    "start_time": "2022-04-14T02:06:27.644Z"
   },
   {
    "duration": 4,
    "start_time": "2022-04-14T02:06:27.700Z"
   },
   {
    "duration": 30,
    "start_time": "2022-04-14T02:06:27.706Z"
   },
   {
    "duration": 3,
    "start_time": "2022-04-14T02:06:27.738Z"
   },
   {
    "duration": 10,
    "start_time": "2022-04-14T02:06:27.743Z"
   },
   {
    "duration": 6,
    "start_time": "2022-04-14T02:06:27.754Z"
   },
   {
    "duration": 49,
    "start_time": "2022-04-14T02:06:27.762Z"
   },
   {
    "duration": 18,
    "start_time": "2022-04-14T02:06:27.812Z"
   },
   {
    "duration": 6,
    "start_time": "2022-04-14T02:06:27.832Z"
   },
   {
    "duration": 17,
    "start_time": "2022-04-14T02:06:27.840Z"
   },
   {
    "duration": 7,
    "start_time": "2022-04-14T02:06:27.858Z"
   },
   {
    "duration": 50,
    "start_time": "2022-04-14T02:06:27.867Z"
   },
   {
    "duration": 4,
    "start_time": "2022-04-14T02:06:27.921Z"
   },
   {
    "duration": 30,
    "start_time": "2022-04-14T02:06:27.927Z"
   },
   {
    "duration": 4,
    "start_time": "2022-04-14T02:06:27.959Z"
   },
   {
    "duration": 42,
    "start_time": "2022-04-14T02:06:27.964Z"
   },
   {
    "duration": 10,
    "start_time": "2022-04-14T02:06:28.008Z"
   },
   {
    "duration": 23,
    "start_time": "2022-04-14T02:06:28.019Z"
   },
   {
    "duration": 23,
    "start_time": "2022-04-14T02:06:28.043Z"
   },
   {
    "duration": 38,
    "start_time": "2022-04-14T02:06:28.067Z"
   },
   {
    "duration": 22,
    "start_time": "2022-04-14T02:06:28.107Z"
   },
   {
    "duration": 26,
    "start_time": "2022-04-14T02:06:28.131Z"
   },
   {
    "duration": 43,
    "start_time": "2022-04-14T02:06:28.158Z"
   },
   {
    "duration": 24,
    "start_time": "2022-04-14T02:06:28.203Z"
   },
   {
    "duration": 25,
    "start_time": "2022-04-14T02:06:28.228Z"
   },
   {
    "duration": 11,
    "start_time": "2022-04-14T02:06:28.255Z"
   },
   {
    "duration": 38,
    "start_time": "2022-04-14T02:06:28.268Z"
   },
   {
    "duration": 19,
    "start_time": "2022-04-14T02:06:28.308Z"
   },
   {
    "duration": 20,
    "start_time": "2022-04-14T02:06:28.329Z"
   },
   {
    "duration": 3,
    "start_time": "2022-04-14T02:06:28.351Z"
   },
   {
    "duration": 44,
    "start_time": "2022-04-14T02:06:28.356Z"
   },
   {
    "duration": 4,
    "start_time": "2022-04-14T02:06:28.401Z"
   },
   {
    "duration": 13,
    "start_time": "2022-04-14T02:06:28.406Z"
   },
   {
    "duration": 4,
    "start_time": "2022-04-14T02:06:28.420Z"
   },
   {
    "duration": 12,
    "start_time": "2022-04-14T02:06:28.425Z"
   },
   {
    "duration": 307,
    "start_time": "2022-04-14T02:06:28.439Z"
   },
   {
    "duration": 2,
    "start_time": "2022-04-14T02:06:28.748Z"
   },
   {
    "duration": 8,
    "start_time": "2022-04-14T02:06:28.751Z"
   },
   {
    "duration": 22,
    "start_time": "2022-04-14T02:06:28.760Z"
   },
   {
    "duration": 35,
    "start_time": "2022-04-14T02:06:28.783Z"
   },
   {
    "duration": 138,
    "start_time": "2022-04-14T02:06:28.820Z"
   },
   {
    "duration": 148,
    "start_time": "2022-04-14T02:06:28.960Z"
   },
   {
    "duration": 151,
    "start_time": "2022-04-14T02:06:29.110Z"
   },
   {
    "duration": 139,
    "start_time": "2022-04-14T02:06:29.263Z"
   },
   {
    "duration": 912,
    "start_time": "2022-04-14T02:06:29.403Z"
   },
   {
    "duration": 8,
    "start_time": "2022-04-14T02:06:30.317Z"
   },
   {
    "duration": 156,
    "start_time": "2022-04-14T02:06:30.327Z"
   },
   {
    "duration": 20,
    "start_time": "2022-04-14T02:06:30.485Z"
   },
   {
    "duration": 114,
    "start_time": "2022-04-14T02:06:30.507Z"
   },
   {
    "duration": 109,
    "start_time": "2022-04-14T02:06:30.623Z"
   },
   {
    "duration": 7,
    "start_time": "2022-04-14T02:06:30.734Z"
   },
   {
    "duration": 70,
    "start_time": "2022-04-14T02:06:30.743Z"
   },
   {
    "duration": 70,
    "start_time": "2022-04-14T02:06:30.815Z"
   },
   {
    "duration": 10,
    "start_time": "2022-04-14T02:06:30.886Z"
   },
   {
    "duration": 9,
    "start_time": "2022-04-14T02:06:30.897Z"
   },
   {
    "duration": 20,
    "start_time": "2022-04-14T02:06:30.907Z"
   },
   {
    "duration": 8,
    "start_time": "2022-04-14T02:06:30.929Z"
   },
   {
    "duration": 11,
    "start_time": "2022-04-14T02:06:30.938Z"
   },
   {
    "duration": 56,
    "start_time": "2022-04-14T02:06:30.950Z"
   },
   {
    "duration": 12,
    "start_time": "2022-04-14T02:06:31.008Z"
   },
   {
    "duration": 7,
    "start_time": "2022-04-14T02:06:31.021Z"
   },
   {
    "duration": 213,
    "start_time": "2022-04-14T02:06:31.029Z"
   },
   {
    "duration": 296,
    "start_time": "2022-04-14T02:06:31.243Z"
   },
   {
    "duration": 173,
    "start_time": "2022-04-14T02:06:31.541Z"
   },
   {
    "duration": 639,
    "start_time": "2022-04-14T02:06:31.716Z"
   },
   {
    "duration": 304,
    "start_time": "2022-04-14T02:06:32.356Z"
   },
   {
    "duration": 943,
    "start_time": "2022-04-14T02:06:32.666Z"
   },
   {
    "duration": 642,
    "start_time": "2022-04-14T02:06:33.611Z"
   },
   {
    "duration": 10,
    "start_time": "2022-04-14T02:06:34.254Z"
   },
   {
    "duration": 5,
    "start_time": "2022-04-14T02:06:34.266Z"
   },
   {
    "duration": 280,
    "start_time": "2022-04-14T02:06:34.273Z"
   },
   {
    "duration": 11,
    "start_time": "2022-04-14T02:06:34.555Z"
   },
   {
    "duration": 7,
    "start_time": "2022-04-14T02:06:34.568Z"
   },
   {
    "duration": 232,
    "start_time": "2022-04-14T02:06:34.577Z"
   },
   {
    "duration": 10,
    "start_time": "2022-04-14T02:06:34.811Z"
   },
   {
    "duration": 4,
    "start_time": "2022-04-14T02:06:34.823Z"
   },
   {
    "duration": 139,
    "start_time": "2022-04-14T02:06:34.829Z"
   },
   {
    "duration": 144,
    "start_time": "2022-04-14T02:06:34.970Z"
   },
   {
    "duration": 134,
    "start_time": "2022-04-14T02:06:35.116Z"
   },
   {
    "duration": 145,
    "start_time": "2022-04-14T02:06:35.252Z"
   },
   {
    "duration": 383,
    "start_time": "2022-04-14T02:06:35.400Z"
   },
   {
    "duration": 624,
    "start_time": "2022-04-14T02:06:35.784Z"
   },
   {
    "duration": 151,
    "start_time": "2022-04-14T02:06:36.409Z"
   },
   {
    "duration": 528,
    "start_time": "2022-04-14T02:06:36.561Z"
   },
   {
    "duration": 28,
    "start_time": "2022-04-14T02:06:37.091Z"
   },
   {
    "duration": 13,
    "start_time": "2022-04-14T02:06:37.120Z"
   },
   {
    "duration": 4,
    "start_time": "2022-04-14T02:06:37.134Z"
   },
   {
    "duration": 1204,
    "start_time": "2022-04-14T03:23:32.616Z"
   },
   {
    "duration": 153,
    "start_time": "2022-04-14T03:23:33.822Z"
   },
   {
    "duration": 30,
    "start_time": "2022-04-14T03:23:33.977Z"
   },
   {
    "duration": 6,
    "start_time": "2022-04-14T03:23:34.009Z"
   },
   {
    "duration": 406,
    "start_time": "2022-04-14T03:23:34.018Z"
   },
   {
    "duration": 7,
    "start_time": "2022-04-14T03:23:34.426Z"
   },
   {
    "duration": 262,
    "start_time": "2022-04-14T03:23:34.435Z"
   },
   {
    "duration": 10,
    "start_time": "2022-04-14T03:23:34.699Z"
   },
   {
    "duration": 27,
    "start_time": "2022-04-14T03:23:34.712Z"
   },
   {
    "duration": 21,
    "start_time": "2022-04-14T03:23:34.742Z"
   },
   {
    "duration": 28,
    "start_time": "2022-04-14T03:23:34.766Z"
   },
   {
    "duration": 67,
    "start_time": "2022-04-14T03:23:34.797Z"
   },
   {
    "duration": 36,
    "start_time": "2022-04-14T03:23:34.867Z"
   },
   {
    "duration": 9,
    "start_time": "2022-04-14T03:23:34.910Z"
   },
   {
    "duration": 48,
    "start_time": "2022-04-14T03:23:34.921Z"
   },
   {
    "duration": 59,
    "start_time": "2022-04-14T03:23:34.994Z"
   },
   {
    "duration": 6,
    "start_time": "2022-04-14T03:23:35.056Z"
   },
   {
    "duration": 63,
    "start_time": "2022-04-14T03:23:35.064Z"
   },
   {
    "duration": 6,
    "start_time": "2022-04-14T03:23:35.130Z"
   },
   {
    "duration": 14,
    "start_time": "2022-04-14T03:23:35.139Z"
   },
   {
    "duration": 38,
    "start_time": "2022-04-14T03:23:35.156Z"
   },
   {
    "duration": 70,
    "start_time": "2022-04-14T03:23:35.197Z"
   },
   {
    "duration": 62,
    "start_time": "2022-04-14T03:23:35.269Z"
   },
   {
    "duration": 6,
    "start_time": "2022-04-14T03:23:35.334Z"
   },
   {
    "duration": 61,
    "start_time": "2022-04-14T03:23:35.343Z"
   },
   {
    "duration": 6,
    "start_time": "2022-04-14T03:23:35.407Z"
   },
   {
    "duration": 85,
    "start_time": "2022-04-14T03:23:35.415Z"
   },
   {
    "duration": 8,
    "start_time": "2022-04-14T03:23:35.503Z"
   },
   {
    "duration": 85,
    "start_time": "2022-04-14T03:23:35.514Z"
   },
   {
    "duration": 8,
    "start_time": "2022-04-14T03:23:35.601Z"
   },
   {
    "duration": 81,
    "start_time": "2022-04-14T03:23:35.612Z"
   },
   {
    "duration": 22,
    "start_time": "2022-04-14T03:23:35.696Z"
   },
   {
    "duration": 82,
    "start_time": "2022-04-14T03:23:35.721Z"
   },
   {
    "duration": 60,
    "start_time": "2022-04-14T03:23:35.806Z"
   },
   {
    "duration": 41,
    "start_time": "2022-04-14T03:23:35.869Z"
   },
   {
    "duration": 82,
    "start_time": "2022-04-14T03:23:35.913Z"
   },
   {
    "duration": 53,
    "start_time": "2022-04-14T03:23:35.998Z"
   },
   {
    "duration": 71,
    "start_time": "2022-04-14T03:23:36.054Z"
   },
   {
    "duration": 48,
    "start_time": "2022-04-14T03:23:36.127Z"
   },
   {
    "duration": 46,
    "start_time": "2022-04-14T03:23:36.193Z"
   },
   {
    "duration": 45,
    "start_time": "2022-04-14T03:23:36.248Z"
   },
   {
    "duration": 18,
    "start_time": "2022-04-14T03:23:36.295Z"
   },
   {
    "duration": 34,
    "start_time": "2022-04-14T03:23:36.315Z"
   },
   {
    "duration": 67,
    "start_time": "2022-04-14T03:23:36.352Z"
   },
   {
    "duration": 7,
    "start_time": "2022-04-14T03:23:36.421Z"
   },
   {
    "duration": 28,
    "start_time": "2022-04-14T03:23:36.431Z"
   },
   {
    "duration": 6,
    "start_time": "2022-04-14T03:23:36.493Z"
   },
   {
    "duration": 24,
    "start_time": "2022-04-14T03:23:36.502Z"
   },
   {
    "duration": 7,
    "start_time": "2022-04-14T03:23:36.529Z"
   },
   {
    "duration": 58,
    "start_time": "2022-04-14T03:23:36.539Z"
   },
   {
    "duration": 520,
    "start_time": "2022-04-14T03:23:36.600Z"
   },
   {
    "duration": 5,
    "start_time": "2022-04-14T03:23:37.123Z"
   },
   {
    "duration": 11,
    "start_time": "2022-04-14T03:23:37.131Z"
   },
   {
    "duration": 72,
    "start_time": "2022-04-14T03:23:37.145Z"
   },
   {
    "duration": 39,
    "start_time": "2022-04-14T03:23:37.219Z"
   },
   {
    "duration": 265,
    "start_time": "2022-04-14T03:23:37.260Z"
   },
   {
    "duration": 276,
    "start_time": "2022-04-14T03:23:37.527Z"
   },
   {
    "duration": 290,
    "start_time": "2022-04-14T03:23:37.806Z"
   },
   {
    "duration": 252,
    "start_time": "2022-04-14T03:23:38.098Z"
   },
   {
    "duration": 1714,
    "start_time": "2022-04-14T03:23:38.352Z"
   },
   {
    "duration": 25,
    "start_time": "2022-04-14T03:23:40.069Z"
   },
   {
    "duration": 298,
    "start_time": "2022-04-14T03:23:40.096Z"
   },
   {
    "duration": 18,
    "start_time": "2022-04-14T03:23:40.396Z"
   },
   {
    "duration": 208,
    "start_time": "2022-04-14T03:23:40.416Z"
   },
   {
    "duration": 201,
    "start_time": "2022-04-14T03:23:40.627Z"
   },
   {
    "duration": 11,
    "start_time": "2022-04-14T03:23:40.831Z"
   },
   {
    "duration": 8,
    "start_time": "2022-04-14T03:23:40.845Z"
   },
   {
    "duration": 38,
    "start_time": "2022-04-14T03:23:40.855Z"
   },
   {
    "duration": 5,
    "start_time": "2022-04-14T03:23:40.895Z"
   },
   {
    "duration": 10,
    "start_time": "2022-04-14T03:23:40.902Z"
   },
   {
    "duration": 15,
    "start_time": "2022-04-14T03:23:40.914Z"
   },
   {
    "duration": 5,
    "start_time": "2022-04-14T03:23:40.931Z"
   },
   {
    "duration": 6,
    "start_time": "2022-04-14T03:23:40.938Z"
   },
   {
    "duration": 101,
    "start_time": "2022-04-14T03:23:40.946Z"
   },
   {
    "duration": 18,
    "start_time": "2022-04-14T03:23:41.049Z"
   },
   {
    "duration": 24,
    "start_time": "2022-04-14T03:23:41.070Z"
   },
   {
    "duration": 470,
    "start_time": "2022-04-14T03:23:41.097Z"
   },
   {
    "duration": 813,
    "start_time": "2022-04-14T03:23:41.569Z"
   },
   {
    "duration": 432,
    "start_time": "2022-04-14T03:23:42.385Z"
   },
   {
    "duration": 1387,
    "start_time": "2022-04-14T03:23:42.819Z"
   },
   {
    "duration": 550,
    "start_time": "2022-04-14T03:23:44.208Z"
   },
   {
    "duration": 1176,
    "start_time": "2022-04-14T03:23:44.760Z"
   },
   {
    "duration": 1184,
    "start_time": "2022-04-14T03:23:45.938Z"
   },
   {
    "duration": 18,
    "start_time": "2022-04-14T03:23:47.124Z"
   },
   {
    "duration": 8,
    "start_time": "2022-04-14T03:23:47.143Z"
   },
   {
    "duration": 503,
    "start_time": "2022-04-14T03:23:47.153Z"
   },
   {
    "duration": 15,
    "start_time": "2022-04-14T03:23:47.658Z"
   },
   {
    "duration": 26,
    "start_time": "2022-04-14T03:23:47.676Z"
   },
   {
    "duration": 407,
    "start_time": "2022-04-14T03:23:47.705Z"
   },
   {
    "duration": 12,
    "start_time": "2022-04-14T03:23:48.114Z"
   },
   {
    "duration": 9,
    "start_time": "2022-04-14T03:23:48.128Z"
   },
   {
    "duration": 259,
    "start_time": "2022-04-14T03:23:48.140Z"
   },
   {
    "duration": 264,
    "start_time": "2022-04-14T03:23:48.401Z"
   },
   {
    "duration": 246,
    "start_time": "2022-04-14T03:23:48.667Z"
   },
   {
    "duration": 269,
    "start_time": "2022-04-14T03:23:48.915Z"
   },
   {
    "duration": 718,
    "start_time": "2022-04-14T03:23:49.192Z"
   },
   {
    "duration": 935,
    "start_time": "2022-04-14T03:23:49.912Z"
   },
   {
    "duration": 274,
    "start_time": "2022-04-14T03:23:50.850Z"
   },
   {
    "duration": 974,
    "start_time": "2022-04-14T03:23:51.126Z"
   },
   {
    "duration": 38,
    "start_time": "2022-04-14T03:23:52.102Z"
   },
   {
    "duration": 19,
    "start_time": "2022-04-14T03:23:52.142Z"
   },
   {
    "duration": 32,
    "start_time": "2022-04-14T03:23:52.163Z"
   },
   {
    "duration": 912,
    "start_time": "2022-04-14T03:33:34.827Z"
   },
   {
    "duration": 155,
    "start_time": "2022-04-14T03:33:35.742Z"
   },
   {
    "duration": 23,
    "start_time": "2022-04-14T03:33:35.899Z"
   },
   {
    "duration": 5,
    "start_time": "2022-04-14T03:33:35.925Z"
   },
   {
    "duration": 391,
    "start_time": "2022-04-14T03:33:35.933Z"
   },
   {
    "duration": 8,
    "start_time": "2022-04-14T03:33:36.326Z"
   },
   {
    "duration": 244,
    "start_time": "2022-04-14T03:33:36.336Z"
   },
   {
    "duration": 24,
    "start_time": "2022-04-14T03:33:36.582Z"
   },
   {
    "duration": 13,
    "start_time": "2022-04-14T03:33:36.608Z"
   },
   {
    "duration": 10,
    "start_time": "2022-04-14T03:33:36.623Z"
   },
   {
    "duration": 11,
    "start_time": "2022-04-14T03:33:36.636Z"
   },
   {
    "duration": 71,
    "start_time": "2022-04-14T03:33:36.649Z"
   },
   {
    "duration": 11,
    "start_time": "2022-04-14T03:33:36.722Z"
   },
   {
    "duration": 6,
    "start_time": "2022-04-14T03:33:36.737Z"
   },
   {
    "duration": 77,
    "start_time": "2022-04-14T03:33:36.745Z"
   },
   {
    "duration": 78,
    "start_time": "2022-04-14T03:33:36.825Z"
   },
   {
    "duration": 59,
    "start_time": "2022-04-14T03:33:36.910Z"
   },
   {
    "duration": 26,
    "start_time": "2022-04-14T03:33:36.971Z"
   },
   {
    "duration": 30,
    "start_time": "2022-04-14T03:33:36.999Z"
   },
   {
    "duration": 5,
    "start_time": "2022-04-14T03:33:37.032Z"
   },
   {
    "duration": 10,
    "start_time": "2022-04-14T03:33:37.039Z"
   },
   {
    "duration": 5,
    "start_time": "2022-04-14T03:33:37.052Z"
   },
   {
    "duration": 50,
    "start_time": "2022-04-14T03:33:37.094Z"
   },
   {
    "duration": 62,
    "start_time": "2022-04-14T03:33:37.146Z"
   },
   {
    "duration": 34,
    "start_time": "2022-04-14T03:33:37.211Z"
   },
   {
    "duration": 7,
    "start_time": "2022-04-14T03:33:37.247Z"
   },
   {
    "duration": 60,
    "start_time": "2022-04-14T03:33:37.256Z"
   },
   {
    "duration": 6,
    "start_time": "2022-04-14T03:33:37.319Z"
   },
   {
    "duration": 74,
    "start_time": "2022-04-14T03:33:37.328Z"
   },
   {
    "duration": 7,
    "start_time": "2022-04-14T03:33:37.404Z"
   },
   {
    "duration": 49,
    "start_time": "2022-04-14T03:33:37.413Z"
   },
   {
    "duration": 6,
    "start_time": "2022-04-14T03:33:37.465Z"
   },
   {
    "duration": 49,
    "start_time": "2022-04-14T03:33:37.495Z"
   },
   {
    "duration": 16,
    "start_time": "2022-04-14T03:33:37.546Z"
   },
   {
    "duration": 74,
    "start_time": "2022-04-14T03:33:37.564Z"
   },
   {
    "duration": 40,
    "start_time": "2022-04-14T03:33:37.640Z"
   },
   {
    "duration": 22,
    "start_time": "2022-04-14T03:33:37.694Z"
   },
   {
    "duration": 43,
    "start_time": "2022-04-14T03:33:37.718Z"
   },
   {
    "duration": 76,
    "start_time": "2022-04-14T03:33:37.763Z"
   },
   {
    "duration": 70,
    "start_time": "2022-04-14T03:33:37.841Z"
   },
   {
    "duration": 45,
    "start_time": "2022-04-14T03:33:37.919Z"
   },
   {
    "duration": 68,
    "start_time": "2022-04-14T03:33:37.966Z"
   },
   {
    "duration": 18,
    "start_time": "2022-04-14T03:33:38.037Z"
   },
   {
    "duration": 43,
    "start_time": "2022-04-14T03:33:38.057Z"
   },
   {
    "duration": 30,
    "start_time": "2022-04-14T03:33:38.103Z"
   },
   {
    "duration": 33,
    "start_time": "2022-04-14T03:33:38.135Z"
   },
   {
    "duration": 26,
    "start_time": "2022-04-14T03:33:38.170Z"
   },
   {
    "duration": 33,
    "start_time": "2022-04-14T03:33:38.198Z"
   },
   {
    "duration": 4,
    "start_time": "2022-04-14T03:33:38.234Z"
   },
   {
    "duration": 20,
    "start_time": "2022-04-14T03:33:38.240Z"
   },
   {
    "duration": 33,
    "start_time": "2022-04-14T03:33:38.262Z"
   },
   {
    "duration": 18,
    "start_time": "2022-04-14T03:33:38.300Z"
   },
   {
    "duration": 519,
    "start_time": "2022-04-14T03:33:38.321Z"
   },
   {
    "duration": 5,
    "start_time": "2022-04-14T03:33:38.842Z"
   },
   {
    "duration": 9,
    "start_time": "2022-04-14T03:33:38.849Z"
   },
   {
    "duration": 59,
    "start_time": "2022-04-14T03:33:38.860Z"
   },
   {
    "duration": 36,
    "start_time": "2022-04-14T03:33:38.921Z"
   },
   {
    "duration": 264,
    "start_time": "2022-04-14T03:33:38.959Z"
   },
   {
    "duration": 271,
    "start_time": "2022-04-14T03:33:39.225Z"
   },
   {
    "duration": 279,
    "start_time": "2022-04-14T03:33:39.499Z"
   },
   {
    "duration": 251,
    "start_time": "2022-04-14T03:33:39.780Z"
   },
   {
    "duration": 1627,
    "start_time": "2022-04-14T03:33:40.033Z"
   },
   {
    "duration": 10,
    "start_time": "2022-04-14T03:33:41.663Z"
   },
   {
    "duration": 287,
    "start_time": "2022-04-14T03:33:41.675Z"
   },
   {
    "duration": 45,
    "start_time": "2022-04-14T03:33:41.965Z"
   },
   {
    "duration": 181,
    "start_time": "2022-04-14T03:33:42.012Z"
   },
   {
    "duration": 183,
    "start_time": "2022-04-14T03:33:42.198Z"
   },
   {
    "duration": 22,
    "start_time": "2022-04-14T03:33:42.383Z"
   },
   {
    "duration": 11,
    "start_time": "2022-04-14T03:33:42.407Z"
   },
   {
    "duration": 11,
    "start_time": "2022-04-14T03:33:42.420Z"
   },
   {
    "duration": 6,
    "start_time": "2022-04-14T03:33:42.433Z"
   },
   {
    "duration": 13,
    "start_time": "2022-04-14T03:33:42.441Z"
   },
   {
    "duration": 45,
    "start_time": "2022-04-14T03:33:42.457Z"
   },
   {
    "duration": 5,
    "start_time": "2022-04-14T03:33:42.505Z"
   },
   {
    "duration": 4,
    "start_time": "2022-04-14T03:33:42.513Z"
   },
   {
    "duration": 82,
    "start_time": "2022-04-14T03:33:42.520Z"
   },
   {
    "duration": 18,
    "start_time": "2022-04-14T03:33:42.605Z"
   },
   {
    "duration": 7,
    "start_time": "2022-04-14T03:33:42.625Z"
   },
   {
    "duration": 343,
    "start_time": "2022-04-14T03:33:42.635Z"
   },
   {
    "duration": 517,
    "start_time": "2022-04-14T03:33:42.980Z"
   },
   {
    "duration": 291,
    "start_time": "2022-04-14T03:33:43.504Z"
   },
   {
    "duration": 1134,
    "start_time": "2022-04-14T03:33:43.800Z"
   },
   {
    "duration": 553,
    "start_time": "2022-04-14T03:33:44.936Z"
   },
   {
    "duration": 1182,
    "start_time": "2022-04-14T03:33:45.494Z"
   },
   {
    "duration": 967,
    "start_time": "2022-04-14T03:33:46.678Z"
   },
   {
    "duration": 18,
    "start_time": "2022-04-14T03:33:47.647Z"
   },
   {
    "duration": 27,
    "start_time": "2022-04-14T03:33:47.667Z"
   },
   {
    "duration": 453,
    "start_time": "2022-04-14T03:33:47.697Z"
   },
   {
    "duration": 15,
    "start_time": "2022-04-14T03:33:48.152Z"
   },
   {
    "duration": 35,
    "start_time": "2022-04-14T03:33:48.169Z"
   },
   {
    "duration": 412,
    "start_time": "2022-04-14T03:33:48.206Z"
   },
   {
    "duration": 12,
    "start_time": "2022-04-14T03:33:48.620Z"
   },
   {
    "duration": 8,
    "start_time": "2022-04-14T03:33:48.635Z"
   },
   {
    "duration": 250,
    "start_time": "2022-04-14T03:33:48.646Z"
   },
   {
    "duration": 265,
    "start_time": "2022-04-14T03:33:48.898Z"
   },
   {
    "duration": 350,
    "start_time": "2022-04-14T03:33:49.166Z"
   },
   {
    "duration": 261,
    "start_time": "2022-04-14T03:33:49.519Z"
   },
   {
    "duration": 490,
    "start_time": "2022-04-14T03:33:49.783Z"
   },
   {
    "duration": 861,
    "start_time": "2022-04-14T03:33:50.275Z"
   },
   {
    "duration": 273,
    "start_time": "2022-04-14T03:33:51.139Z"
   },
   {
    "duration": 994,
    "start_time": "2022-04-14T03:33:51.414Z"
   },
   {
    "duration": 36,
    "start_time": "2022-04-14T03:33:52.410Z"
   },
   {
    "duration": 20,
    "start_time": "2022-04-14T03:33:52.448Z"
   },
   {
    "duration": 32,
    "start_time": "2022-04-14T03:33:52.470Z"
   },
   {
    "duration": 1149,
    "start_time": "2022-04-15T01:42:34.684Z"
   },
   {
    "duration": 153,
    "start_time": "2022-04-15T01:42:35.836Z"
   },
   {
    "duration": 25,
    "start_time": "2022-04-15T01:42:35.991Z"
   },
   {
    "duration": 6,
    "start_time": "2022-04-15T01:42:36.019Z"
   },
   {
    "duration": 388,
    "start_time": "2022-04-15T01:42:36.053Z"
   },
   {
    "duration": 14,
    "start_time": "2022-04-15T01:42:36.443Z"
   },
   {
    "duration": 236,
    "start_time": "2022-04-15T01:42:36.459Z"
   },
   {
    "duration": 9,
    "start_time": "2022-04-15T01:42:36.697Z"
   },
   {
    "duration": 16,
    "start_time": "2022-04-15T01:42:36.708Z"
   },
   {
    "duration": 29,
    "start_time": "2022-04-15T01:42:36.726Z"
   },
   {
    "duration": 8,
    "start_time": "2022-04-15T01:42:36.758Z"
   },
   {
    "duration": 44,
    "start_time": "2022-04-15T01:42:36.768Z"
   },
   {
    "duration": 38,
    "start_time": "2022-04-15T01:42:36.814Z"
   },
   {
    "duration": 7,
    "start_time": "2022-04-15T01:42:36.856Z"
   },
   {
    "duration": 49,
    "start_time": "2022-04-15T01:42:36.865Z"
   },
   {
    "duration": 84,
    "start_time": "2022-04-15T01:42:36.916Z"
   },
   {
    "duration": 67,
    "start_time": "2022-04-15T01:42:37.002Z"
   },
   {
    "duration": 5,
    "start_time": "2022-04-15T01:42:37.071Z"
   },
   {
    "duration": 34,
    "start_time": "2022-04-15T01:42:37.078Z"
   },
   {
    "duration": 4,
    "start_time": "2022-04-15T01:42:37.114Z"
   },
   {
    "duration": 39,
    "start_time": "2022-04-15T01:42:37.120Z"
   },
   {
    "duration": 11,
    "start_time": "2022-04-15T01:42:37.161Z"
   },
   {
    "duration": 50,
    "start_time": "2022-04-15T01:42:37.174Z"
   },
   {
    "duration": 48,
    "start_time": "2022-04-15T01:42:37.226Z"
   },
   {
    "duration": 37,
    "start_time": "2022-04-15T01:42:37.276Z"
   },
   {
    "duration": 5,
    "start_time": "2022-04-15T01:42:37.314Z"
   },
   {
    "duration": 52,
    "start_time": "2022-04-15T01:42:37.321Z"
   },
   {
    "duration": 5,
    "start_time": "2022-04-15T01:42:37.375Z"
   },
   {
    "duration": 45,
    "start_time": "2022-04-15T01:42:37.381Z"
   },
   {
    "duration": 6,
    "start_time": "2022-04-15T01:42:37.451Z"
   },
   {
    "duration": 54,
    "start_time": "2022-04-15T01:42:37.459Z"
   },
   {
    "duration": 5,
    "start_time": "2022-04-15T01:42:37.515Z"
   },
   {
    "duration": 62,
    "start_time": "2022-04-15T01:42:37.522Z"
   },
   {
    "duration": 16,
    "start_time": "2022-04-15T01:42:37.586Z"
   },
   {
    "duration": 66,
    "start_time": "2022-04-15T01:42:37.603Z"
   },
   {
    "duration": 40,
    "start_time": "2022-04-15T01:42:37.671Z"
   },
   {
    "duration": 40,
    "start_time": "2022-04-15T01:42:37.713Z"
   },
   {
    "duration": 41,
    "start_time": "2022-04-15T01:42:37.755Z"
   },
   {
    "duration": 68,
    "start_time": "2022-04-15T01:42:37.797Z"
   },
   {
    "duration": 42,
    "start_time": "2022-04-15T01:42:37.867Z"
   },
   {
    "duration": 71,
    "start_time": "2022-04-15T01:42:37.916Z"
   },
   {
    "duration": 45,
    "start_time": "2022-04-15T01:42:37.989Z"
   },
   {
    "duration": 19,
    "start_time": "2022-04-15T01:42:38.052Z"
   },
   {
    "duration": 14,
    "start_time": "2022-04-15T01:42:38.073Z"
   },
   {
    "duration": 64,
    "start_time": "2022-04-15T01:42:38.089Z"
   },
   {
    "duration": 34,
    "start_time": "2022-04-15T01:42:38.155Z"
   },
   {
    "duration": 4,
    "start_time": "2022-04-15T01:42:38.191Z"
   },
   {
    "duration": 55,
    "start_time": "2022-04-15T01:42:38.197Z"
   },
   {
    "duration": 5,
    "start_time": "2022-04-15T01:42:38.254Z"
   },
   {
    "duration": 19,
    "start_time": "2022-04-15T01:42:38.261Z"
   },
   {
    "duration": 5,
    "start_time": "2022-04-15T01:42:38.282Z"
   },
   {
    "duration": 18,
    "start_time": "2022-04-15T01:42:38.289Z"
   },
   {
    "duration": 530,
    "start_time": "2022-04-15T01:42:38.309Z"
   },
   {
    "duration": 12,
    "start_time": "2022-04-15T01:42:38.841Z"
   },
   {
    "duration": 12,
    "start_time": "2022-04-15T01:42:38.855Z"
   },
   {
    "duration": 34,
    "start_time": "2022-04-15T01:42:38.869Z"
   },
   {
    "duration": 62,
    "start_time": "2022-04-15T01:42:38.905Z"
   },
   {
    "duration": 254,
    "start_time": "2022-04-15T01:42:38.969Z"
   },
   {
    "duration": 261,
    "start_time": "2022-04-15T01:42:39.225Z"
   },
   {
    "duration": 285,
    "start_time": "2022-04-15T01:42:39.488Z"
   },
   {
    "duration": 240,
    "start_time": "2022-04-15T01:42:39.775Z"
   },
   {
    "duration": 1634,
    "start_time": "2022-04-15T01:42:40.017Z"
   },
   {
    "duration": 10,
    "start_time": "2022-04-15T01:42:41.653Z"
   },
   {
    "duration": 289,
    "start_time": "2022-04-15T01:42:41.665Z"
   },
   {
    "duration": 16,
    "start_time": "2022-04-15T01:42:41.956Z"
   },
   {
    "duration": 205,
    "start_time": "2022-04-15T01:42:41.974Z"
   },
   {
    "duration": 200,
    "start_time": "2022-04-15T01:42:42.181Z"
   },
   {
    "duration": 11,
    "start_time": "2022-04-15T01:42:42.384Z"
   },
   {
    "duration": 5,
    "start_time": "2022-04-15T01:42:42.397Z"
   },
   {
    "duration": 10,
    "start_time": "2022-04-15T01:42:42.404Z"
   },
   {
    "duration": 38,
    "start_time": "2022-04-15T01:42:42.416Z"
   },
   {
    "duration": 17,
    "start_time": "2022-04-15T01:42:42.456Z"
   },
   {
    "duration": 17,
    "start_time": "2022-04-15T01:42:42.475Z"
   },
   {
    "duration": 5,
    "start_time": "2022-04-15T01:42:42.494Z"
   },
   {
    "duration": 16,
    "start_time": "2022-04-15T01:42:42.501Z"
   },
   {
    "duration": 82,
    "start_time": "2022-04-15T01:42:42.519Z"
   },
   {
    "duration": 17,
    "start_time": "2022-04-15T01:42:42.603Z"
   },
   {
    "duration": 8,
    "start_time": "2022-04-15T01:42:42.622Z"
   },
   {
    "duration": 346,
    "start_time": "2022-04-15T01:42:42.651Z"
   },
   {
    "duration": 516,
    "start_time": "2022-04-15T01:42:42.999Z"
   },
   {
    "duration": 402,
    "start_time": "2022-04-15T01:42:43.518Z"
   },
   {
    "duration": 1052,
    "start_time": "2022-04-15T01:42:43.922Z"
   },
   {
    "duration": 546,
    "start_time": "2022-04-15T01:42:44.976Z"
   },
   {
    "duration": 1178,
    "start_time": "2022-04-15T01:42:45.524Z"
   },
   {
    "duration": 1083,
    "start_time": "2022-04-15T01:42:46.704Z"
   },
   {
    "duration": 67,
    "start_time": "2022-04-15T01:42:47.789Z"
   },
   {
    "duration": 6,
    "start_time": "2022-04-15T01:42:47.858Z"
   },
   {
    "duration": 916,
    "start_time": "2022-04-15T01:42:47.866Z"
   },
   {
    "duration": 14,
    "start_time": "2022-04-15T01:42:48.784Z"
   },
   {
    "duration": 11,
    "start_time": "2022-04-15T01:42:48.853Z"
   },
   {
    "duration": 792,
    "start_time": "2022-04-15T01:42:48.867Z"
   },
   {
    "duration": 11,
    "start_time": "2022-04-15T01:42:49.661Z"
   },
   {
    "duration": 9,
    "start_time": "2022-04-15T01:42:49.674Z"
   },
   {
    "duration": 488,
    "start_time": "2022-04-15T01:42:49.685Z"
   },
   {
    "duration": 302,
    "start_time": "2022-04-15T01:42:50.175Z"
   },
   {
    "duration": 247,
    "start_time": "2022-04-15T01:42:50.479Z"
   },
   {
    "duration": 263,
    "start_time": "2022-04-15T01:42:50.728Z"
   },
   {
    "duration": 496,
    "start_time": "2022-04-15T01:42:50.993Z"
   },
   {
    "duration": 864,
    "start_time": "2022-04-15T01:42:51.491Z"
   },
   {
    "duration": 277,
    "start_time": "2022-04-15T01:42:52.357Z"
   },
   {
    "duration": 978,
    "start_time": "2022-04-15T01:42:52.636Z"
   },
   {
    "duration": 48,
    "start_time": "2022-04-15T01:42:53.616Z"
   },
   {
    "duration": 18,
    "start_time": "2022-04-15T01:42:53.666Z"
   },
   {
    "duration": 5,
    "start_time": "2022-04-15T01:42:53.686Z"
   },
   {
    "duration": 37,
    "start_time": "2022-04-15T01:43:41.094Z"
   },
   {
    "duration": 31,
    "start_time": "2022-04-15T01:43:54.754Z"
   },
   {
    "duration": 864,
    "start_time": "2022-04-15T01:49:27.577Z"
   },
   {
    "duration": 146,
    "start_time": "2022-04-15T01:49:28.444Z"
   },
   {
    "duration": 21,
    "start_time": "2022-04-15T01:49:28.592Z"
   },
   {
    "duration": 6,
    "start_time": "2022-04-15T01:49:28.615Z"
   },
   {
    "duration": 405,
    "start_time": "2022-04-15T01:49:28.624Z"
   },
   {
    "duration": 7,
    "start_time": "2022-04-15T01:49:29.031Z"
   },
   {
    "duration": 242,
    "start_time": "2022-04-15T01:49:29.052Z"
   },
   {
    "duration": 8,
    "start_time": "2022-04-15T01:49:29.297Z"
   },
   {
    "duration": 7,
    "start_time": "2022-04-15T01:49:29.308Z"
   },
   {
    "duration": 36,
    "start_time": "2022-04-15T01:49:29.317Z"
   },
   {
    "duration": 9,
    "start_time": "2022-04-15T01:49:29.355Z"
   },
   {
    "duration": 46,
    "start_time": "2022-04-15T01:49:29.365Z"
   },
   {
    "duration": 40,
    "start_time": "2022-04-15T01:49:29.413Z"
   },
   {
    "duration": 7,
    "start_time": "2022-04-15T01:49:29.457Z"
   },
   {
    "duration": 44,
    "start_time": "2022-04-15T01:49:29.466Z"
   },
   {
    "duration": 88,
    "start_time": "2022-04-15T01:49:29.512Z"
   },
   {
    "duration": 73,
    "start_time": "2022-04-15T01:49:29.602Z"
   },
   {
    "duration": 5,
    "start_time": "2022-04-15T01:49:29.677Z"
   },
   {
    "duration": 32,
    "start_time": "2022-04-15T01:49:29.684Z"
   },
   {
    "duration": 5,
    "start_time": "2022-04-15T01:49:29.718Z"
   },
   {
    "duration": 9,
    "start_time": "2022-04-15T01:49:29.753Z"
   },
   {
    "duration": 7,
    "start_time": "2022-04-15T01:49:29.764Z"
   },
   {
    "duration": 49,
    "start_time": "2022-04-15T01:49:29.773Z"
   },
   {
    "duration": 34,
    "start_time": "2022-04-15T01:49:29.851Z"
   },
   {
    "duration": 33,
    "start_time": "2022-04-15T01:49:29.887Z"
   },
   {
    "duration": 31,
    "start_time": "2022-04-15T01:49:29.922Z"
   },
   {
    "duration": 28,
    "start_time": "2022-04-15T01:49:29.955Z"
   },
   {
    "duration": 5,
    "start_time": "2022-04-15T01:49:29.985Z"
   },
   {
    "duration": 67,
    "start_time": "2022-04-15T01:49:29.992Z"
   },
   {
    "duration": 5,
    "start_time": "2022-04-15T01:49:30.062Z"
   },
   {
    "duration": 54,
    "start_time": "2022-04-15T01:49:30.069Z"
   },
   {
    "duration": 5,
    "start_time": "2022-04-15T01:49:30.125Z"
   },
   {
    "duration": 41,
    "start_time": "2022-04-15T01:49:30.152Z"
   },
   {
    "duration": 15,
    "start_time": "2022-04-15T01:49:30.195Z"
   },
   {
    "duration": 76,
    "start_time": "2022-04-15T01:49:30.212Z"
   },
   {
    "duration": 42,
    "start_time": "2022-04-15T01:49:30.290Z"
   },
   {
    "duration": 15,
    "start_time": "2022-04-15T01:49:30.352Z"
   },
   {
    "duration": 53,
    "start_time": "2022-04-15T01:49:30.369Z"
   },
   {
    "duration": 63,
    "start_time": "2022-04-15T01:49:30.424Z"
   },
   {
    "duration": 74,
    "start_time": "2022-04-15T01:49:30.489Z"
   },
   {
    "duration": 49,
    "start_time": "2022-04-15T01:49:30.573Z"
   },
   {
    "duration": 71,
    "start_time": "2022-04-15T01:49:30.624Z"
   },
   {
    "duration": 19,
    "start_time": "2022-04-15T01:49:30.697Z"
   },
   {
    "duration": 43,
    "start_time": "2022-04-15T01:49:30.718Z"
   },
   {
    "duration": 41,
    "start_time": "2022-04-15T01:49:30.763Z"
   },
   {
    "duration": 51,
    "start_time": "2022-04-15T01:49:30.806Z"
   },
   {
    "duration": 36,
    "start_time": "2022-04-15T01:49:30.859Z"
   },
   {
    "duration": 58,
    "start_time": "2022-04-15T01:49:30.897Z"
   },
   {
    "duration": 6,
    "start_time": "2022-04-15T01:49:30.957Z"
   },
   {
    "duration": 30,
    "start_time": "2022-04-15T01:49:30.964Z"
   },
   {
    "duration": 5,
    "start_time": "2022-04-15T01:49:30.996Z"
   },
   {
    "duration": 39,
    "start_time": "2022-04-15T01:49:31.003Z"
   },
   {
    "duration": 505,
    "start_time": "2022-04-15T01:49:31.044Z"
   },
   {
    "duration": 4,
    "start_time": "2022-04-15T01:49:31.551Z"
   },
   {
    "duration": 16,
    "start_time": "2022-04-15T01:49:31.557Z"
   },
   {
    "duration": 49,
    "start_time": "2022-04-15T01:49:31.575Z"
   },
   {
    "duration": 46,
    "start_time": "2022-04-15T01:49:31.626Z"
   },
   {
    "duration": 266,
    "start_time": "2022-04-15T01:49:31.675Z"
   },
   {
    "duration": 272,
    "start_time": "2022-04-15T01:49:31.943Z"
   },
   {
    "duration": 281,
    "start_time": "2022-04-15T01:49:32.217Z"
   },
   {
    "duration": 263,
    "start_time": "2022-04-15T01:49:32.500Z"
   },
   {
    "duration": 1663,
    "start_time": "2022-04-15T01:49:32.766Z"
   },
   {
    "duration": 20,
    "start_time": "2022-04-15T01:49:34.432Z"
   },
   {
    "duration": 274,
    "start_time": "2022-04-15T01:49:34.454Z"
   },
   {
    "duration": 29,
    "start_time": "2022-04-15T01:49:34.730Z"
   },
   {
    "duration": 192,
    "start_time": "2022-04-15T01:49:34.762Z"
   },
   {
    "duration": 199,
    "start_time": "2022-04-15T01:49:34.957Z"
   },
   {
    "duration": 10,
    "start_time": "2022-04-15T01:49:35.158Z"
   },
   {
    "duration": 8,
    "start_time": "2022-04-15T01:49:35.171Z"
   },
   {
    "duration": 16,
    "start_time": "2022-04-15T01:49:35.181Z"
   },
   {
    "duration": 5,
    "start_time": "2022-04-15T01:49:35.200Z"
   },
   {
    "duration": 45,
    "start_time": "2022-04-15T01:49:35.207Z"
   },
   {
    "duration": 14,
    "start_time": "2022-04-15T01:49:35.255Z"
   },
   {
    "duration": 6,
    "start_time": "2022-04-15T01:49:35.271Z"
   },
   {
    "duration": 9,
    "start_time": "2022-04-15T01:49:35.279Z"
   },
   {
    "duration": 82,
    "start_time": "2022-04-15T01:49:35.290Z"
   },
   {
    "duration": 18,
    "start_time": "2022-04-15T01:49:35.374Z"
   },
   {
    "duration": 7,
    "start_time": "2022-04-15T01:49:35.394Z"
   },
   {
    "duration": 470,
    "start_time": "2022-04-15T01:49:35.403Z"
   },
   {
    "duration": 517,
    "start_time": "2022-04-15T01:49:35.876Z"
   },
   {
    "duration": 307,
    "start_time": "2022-04-15T01:49:36.395Z"
   },
   {
    "duration": 1071,
    "start_time": "2022-04-15T01:49:36.704Z"
   },
   {
    "duration": 535,
    "start_time": "2022-04-15T01:49:37.777Z"
   },
   {
    "duration": 1195,
    "start_time": "2022-04-15T01:49:38.314Z"
   },
   {
    "duration": 962,
    "start_time": "2022-04-15T01:49:39.511Z"
   },
   {
    "duration": 19,
    "start_time": "2022-04-15T01:49:40.475Z"
   },
   {
    "duration": 6,
    "start_time": "2022-04-15T01:49:40.496Z"
   },
   {
    "duration": 487,
    "start_time": "2022-04-15T01:49:40.504Z"
   },
   {
    "duration": 18,
    "start_time": "2022-04-15T01:49:40.993Z"
   },
   {
    "duration": 11,
    "start_time": "2022-04-15T01:49:41.014Z"
   },
   {
    "duration": 408,
    "start_time": "2022-04-15T01:49:41.027Z"
   },
   {
    "duration": 20,
    "start_time": "2022-04-15T01:49:41.437Z"
   },
   {
    "duration": 15,
    "start_time": "2022-04-15T01:49:41.459Z"
   },
   {
    "duration": 244,
    "start_time": "2022-04-15T01:49:41.476Z"
   },
   {
    "duration": 262,
    "start_time": "2022-04-15T01:49:41.722Z"
   },
   {
    "duration": 269,
    "start_time": "2022-04-15T01:49:41.986Z"
   },
   {
    "duration": 282,
    "start_time": "2022-04-15T01:49:42.258Z"
   },
   {
    "duration": 527,
    "start_time": "2022-04-15T01:49:42.543Z"
   },
   {
    "duration": 902,
    "start_time": "2022-04-15T01:49:43.073Z"
   },
   {
    "duration": 287,
    "start_time": "2022-04-15T01:49:43.978Z"
   },
   {
    "duration": 996,
    "start_time": "2022-04-15T01:49:44.268Z"
   },
   {
    "duration": 39,
    "start_time": "2022-04-15T01:49:45.267Z"
   },
   {
    "duration": 61,
    "start_time": "2022-04-15T01:49:45.309Z"
   },
   {
    "duration": 20,
    "start_time": "2022-04-15T01:49:45.373Z"
   },
   {
    "duration": 6,
    "start_time": "2022-04-15T01:49:45.395Z"
   },
   {
    "duration": 797,
    "start_time": "2022-04-15T03:15:58.136Z"
   },
   {
    "duration": 99,
    "start_time": "2022-04-15T03:15:58.935Z"
   },
   {
    "duration": 13,
    "start_time": "2022-04-15T03:15:59.036Z"
   },
   {
    "duration": 4,
    "start_time": "2022-04-15T03:15:59.050Z"
   },
   {
    "duration": 205,
    "start_time": "2022-04-15T03:15:59.056Z"
   },
   {
    "duration": 6,
    "start_time": "2022-04-15T03:15:59.262Z"
   },
   {
    "duration": 134,
    "start_time": "2022-04-15T03:15:59.269Z"
   },
   {
    "duration": 7,
    "start_time": "2022-04-15T03:15:59.404Z"
   },
   {
    "duration": 14,
    "start_time": "2022-04-15T03:15:59.412Z"
   },
   {
    "duration": 7,
    "start_time": "2022-04-15T03:15:59.428Z"
   },
   {
    "duration": 7,
    "start_time": "2022-04-15T03:15:59.436Z"
   },
   {
    "duration": 24,
    "start_time": "2022-04-15T03:15:59.445Z"
   },
   {
    "duration": 7,
    "start_time": "2022-04-15T03:15:59.470Z"
   },
   {
    "duration": 5,
    "start_time": "2022-04-15T03:15:59.480Z"
   },
   {
    "duration": 57,
    "start_time": "2022-04-15T03:15:59.486Z"
   },
   {
    "duration": 31,
    "start_time": "2022-04-15T03:15:59.545Z"
   },
   {
    "duration": 47,
    "start_time": "2022-04-15T03:15:59.578Z"
   },
   {
    "duration": 4,
    "start_time": "2022-04-15T03:15:59.627Z"
   },
   {
    "duration": 18,
    "start_time": "2022-04-15T03:15:59.632Z"
   },
   {
    "duration": 4,
    "start_time": "2022-04-15T03:15:59.651Z"
   },
   {
    "duration": 7,
    "start_time": "2022-04-15T03:15:59.656Z"
   },
   {
    "duration": 4,
    "start_time": "2022-04-15T03:15:59.665Z"
   },
   {
    "duration": 61,
    "start_time": "2022-04-15T03:15:59.670Z"
   },
   {
    "duration": 18,
    "start_time": "2022-04-15T03:15:59.732Z"
   },
   {
    "duration": 20,
    "start_time": "2022-04-15T03:15:59.751Z"
   },
   {
    "duration": 3,
    "start_time": "2022-04-15T03:15:59.772Z"
   },
   {
    "duration": 657,
    "start_time": "2022-04-15T03:32:46.503Z"
   },
   {
    "duration": 101,
    "start_time": "2022-04-15T03:32:47.162Z"
   },
   {
    "duration": 12,
    "start_time": "2022-04-15T03:32:47.265Z"
   },
   {
    "duration": 3,
    "start_time": "2022-04-15T03:32:47.279Z"
   },
   {
    "duration": 218,
    "start_time": "2022-04-15T03:32:47.284Z"
   },
   {
    "duration": 6,
    "start_time": "2022-04-15T03:32:47.504Z"
   },
   {
    "duration": 147,
    "start_time": "2022-04-15T03:32:47.523Z"
   },
   {
    "duration": 7,
    "start_time": "2022-04-15T03:32:47.671Z"
   },
   {
    "duration": 9,
    "start_time": "2022-04-15T03:32:47.680Z"
   },
   {
    "duration": 7,
    "start_time": "2022-04-15T03:32:47.690Z"
   },
   {
    "duration": 25,
    "start_time": "2022-04-15T03:32:47.699Z"
   },
   {
    "duration": 26,
    "start_time": "2022-04-15T03:32:47.725Z"
   },
   {
    "duration": 8,
    "start_time": "2022-04-15T03:32:47.753Z"
   },
   {
    "duration": 4,
    "start_time": "2022-04-15T03:32:47.764Z"
   },
   {
    "duration": 26,
    "start_time": "2022-04-15T03:32:47.770Z"
   },
   {
    "duration": 59,
    "start_time": "2022-04-15T03:32:47.797Z"
   },
   {
    "duration": 31,
    "start_time": "2022-04-15T03:32:47.857Z"
   },
   {
    "duration": 3,
    "start_time": "2022-04-15T03:32:47.889Z"
   },
   {
    "duration": 42,
    "start_time": "2022-04-15T03:32:47.893Z"
   },
   {
    "duration": 3,
    "start_time": "2022-04-15T03:32:47.937Z"
   },
   {
    "duration": 8,
    "start_time": "2022-04-15T03:32:47.941Z"
   },
   {
    "duration": 4,
    "start_time": "2022-04-15T03:32:47.950Z"
   },
   {
    "duration": 29,
    "start_time": "2022-04-15T03:32:47.955Z"
   },
   {
    "duration": 47,
    "start_time": "2022-04-15T03:32:47.986Z"
   },
   {
    "duration": 20,
    "start_time": "2022-04-15T03:32:48.034Z"
   },
   {
    "duration": 3,
    "start_time": "2022-04-15T03:32:48.056Z"
   },
   {
    "duration": 43,
    "start_time": "2022-04-15T03:44:46.966Z"
   },
   {
    "duration": 5,
    "start_time": "2022-04-15T03:45:53.315Z"
   },
   {
    "duration": 667,
    "start_time": "2022-04-15T03:48:12.387Z"
   },
   {
    "duration": 98,
    "start_time": "2022-04-15T03:48:13.056Z"
   },
   {
    "duration": 13,
    "start_time": "2022-04-15T03:48:13.156Z"
   },
   {
    "duration": 4,
    "start_time": "2022-04-15T03:48:13.170Z"
   },
   {
    "duration": 204,
    "start_time": "2022-04-15T03:48:13.175Z"
   },
   {
    "duration": 4,
    "start_time": "2022-04-15T03:48:13.381Z"
   },
   {
    "duration": 137,
    "start_time": "2022-04-15T03:48:13.387Z"
   },
   {
    "duration": 7,
    "start_time": "2022-04-15T03:48:13.526Z"
   },
   {
    "duration": 9,
    "start_time": "2022-04-15T03:48:13.535Z"
   },
   {
    "duration": 10,
    "start_time": "2022-04-15T03:48:13.546Z"
   },
   {
    "duration": 6,
    "start_time": "2022-04-15T03:48:13.558Z"
   },
   {
    "duration": 26,
    "start_time": "2022-04-15T03:48:13.566Z"
   },
   {
    "duration": 37,
    "start_time": "2022-04-15T03:48:13.593Z"
   },
   {
    "duration": 5,
    "start_time": "2022-04-15T03:48:13.632Z"
   },
   {
    "duration": 25,
    "start_time": "2022-04-15T03:48:13.639Z"
   },
   {
    "duration": 31,
    "start_time": "2022-04-15T03:48:13.666Z"
   },
   {
    "duration": 54,
    "start_time": "2022-04-15T03:48:13.698Z"
   },
   {
    "duration": 3,
    "start_time": "2022-04-15T03:48:13.754Z"
   },
   {
    "duration": 19,
    "start_time": "2022-04-15T03:48:13.759Z"
   },
   {
    "duration": 3,
    "start_time": "2022-04-15T03:48:13.779Z"
   },
   {
    "duration": 9,
    "start_time": "2022-04-15T03:48:13.784Z"
   },
   {
    "duration": 29,
    "start_time": "2022-04-15T03:48:13.795Z"
   },
   {
    "duration": 37,
    "start_time": "2022-04-15T03:48:13.826Z"
   },
   {
    "duration": 35,
    "start_time": "2022-04-15T03:48:13.865Z"
   },
   {
    "duration": 24,
    "start_time": "2022-04-15T03:48:13.901Z"
   },
   {
    "duration": 839,
    "start_time": "2022-04-15T08:30:02.341Z"
   },
   {
    "duration": 105,
    "start_time": "2022-04-15T08:30:03.182Z"
   },
   {
    "duration": 13,
    "start_time": "2022-04-15T08:30:03.289Z"
   },
   {
    "duration": 4,
    "start_time": "2022-04-15T08:30:03.304Z"
   },
   {
    "duration": 219,
    "start_time": "2022-04-15T08:30:03.309Z"
   },
   {
    "duration": 5,
    "start_time": "2022-04-15T08:30:03.529Z"
   },
   {
    "duration": 142,
    "start_time": "2022-04-15T08:30:03.535Z"
   },
   {
    "duration": 6,
    "start_time": "2022-04-15T08:30:03.679Z"
   },
   {
    "duration": 7,
    "start_time": "2022-04-15T08:30:03.687Z"
   },
   {
    "duration": 8,
    "start_time": "2022-04-15T08:30:03.697Z"
   },
   {
    "duration": 7,
    "start_time": "2022-04-15T08:30:03.707Z"
   },
   {
    "duration": 52,
    "start_time": "2022-04-15T08:30:03.716Z"
   },
   {
    "duration": 9,
    "start_time": "2022-04-15T08:30:03.770Z"
   },
   {
    "duration": 5,
    "start_time": "2022-04-15T08:30:03.780Z"
   },
   {
    "duration": 27,
    "start_time": "2022-04-15T08:30:03.787Z"
   },
   {
    "duration": 58,
    "start_time": "2022-04-15T08:30:03.816Z"
   },
   {
    "duration": 31,
    "start_time": "2022-04-15T08:30:03.876Z"
   },
   {
    "duration": 4,
    "start_time": "2022-04-15T08:30:03.908Z"
   },
   {
    "duration": 39,
    "start_time": "2022-04-15T08:30:03.913Z"
   },
   {
    "duration": 4,
    "start_time": "2022-04-15T08:30:03.954Z"
   },
   {
    "duration": 11,
    "start_time": "2022-04-15T08:30:03.959Z"
   },
   {
    "duration": 4,
    "start_time": "2022-04-15T08:30:03.972Z"
   },
   {
    "duration": 28,
    "start_time": "2022-04-15T08:30:03.977Z"
   },
   {
    "duration": 66,
    "start_time": "2022-04-15T08:30:04.007Z"
   },
   {
    "duration": 4,
    "start_time": "2022-04-15T08:30:04.074Z"
   },
   {
    "duration": 47,
    "start_time": "2022-04-15T08:33:56.562Z"
   },
   {
    "duration": 6,
    "start_time": "2022-04-15T08:34:08.509Z"
   },
   {
    "duration": 666,
    "start_time": "2022-04-15T08:34:32.149Z"
   },
   {
    "duration": 100,
    "start_time": "2022-04-15T08:34:32.817Z"
   },
   {
    "duration": 14,
    "start_time": "2022-04-15T08:34:32.919Z"
   },
   {
    "duration": 4,
    "start_time": "2022-04-15T08:34:32.947Z"
   },
   {
    "duration": 201,
    "start_time": "2022-04-15T08:34:32.952Z"
   },
   {
    "duration": 5,
    "start_time": "2022-04-15T08:34:33.154Z"
   },
   {
    "duration": 139,
    "start_time": "2022-04-15T08:34:33.160Z"
   },
   {
    "duration": 6,
    "start_time": "2022-04-15T08:34:33.301Z"
   },
   {
    "duration": 10,
    "start_time": "2022-04-15T08:34:33.308Z"
   },
   {
    "duration": 9,
    "start_time": "2022-04-15T08:34:33.319Z"
   },
   {
    "duration": 17,
    "start_time": "2022-04-15T08:34:33.330Z"
   },
   {
    "duration": 26,
    "start_time": "2022-04-15T08:34:33.349Z"
   },
   {
    "duration": 7,
    "start_time": "2022-04-15T08:34:33.376Z"
   },
   {
    "duration": 7,
    "start_time": "2022-04-15T08:34:33.385Z"
   },
   {
    "duration": 26,
    "start_time": "2022-04-15T08:34:33.393Z"
   },
   {
    "duration": 32,
    "start_time": "2022-04-15T08:34:33.448Z"
   },
   {
    "duration": 31,
    "start_time": "2022-04-15T08:34:33.481Z"
   },
   {
    "duration": 3,
    "start_time": "2022-04-15T08:34:33.514Z"
   },
   {
    "duration": 43,
    "start_time": "2022-04-15T08:34:33.518Z"
   },
   {
    "duration": 3,
    "start_time": "2022-04-15T08:34:33.563Z"
   },
   {
    "duration": 7,
    "start_time": "2022-04-15T08:34:33.567Z"
   },
   {
    "duration": 4,
    "start_time": "2022-04-15T08:34:33.575Z"
   },
   {
    "duration": 28,
    "start_time": "2022-04-15T08:34:33.580Z"
   },
   {
    "duration": 65,
    "start_time": "2022-04-15T08:34:33.609Z"
   },
   {
    "duration": 4,
    "start_time": "2022-04-15T08:34:33.675Z"
   },
   {
    "duration": 16,
    "start_time": "2022-04-15T08:34:33.680Z"
   },
   {
    "duration": 3,
    "start_time": "2022-04-15T08:34:33.698Z"
   },
   {
    "duration": 46,
    "start_time": "2022-04-15T08:34:33.702Z"
   },
   {
    "duration": 4,
    "start_time": "2022-04-15T08:34:33.750Z"
   },
   {
    "duration": 32,
    "start_time": "2022-04-15T08:34:33.756Z"
   },
   {
    "duration": 4,
    "start_time": "2022-04-15T08:34:33.790Z"
   },
   {
    "duration": 26,
    "start_time": "2022-04-15T08:34:33.795Z"
   },
   {
    "duration": 31,
    "start_time": "2022-04-15T08:34:33.822Z"
   },
   {
    "duration": 24,
    "start_time": "2022-04-15T08:34:33.855Z"
   },
   {
    "duration": 24,
    "start_time": "2022-04-15T08:34:33.880Z"
   },
   {
    "duration": 9,
    "start_time": "2022-04-15T08:34:33.906Z"
   },
   {
    "duration": 53,
    "start_time": "2022-04-15T08:34:33.916Z"
   },
   {
    "duration": 26,
    "start_time": "2022-04-15T08:34:33.971Z"
   },
   {
    "duration": 23,
    "start_time": "2022-04-15T08:34:33.998Z"
   },
   {
    "duration": 51,
    "start_time": "2022-04-15T08:34:34.022Z"
   },
   {
    "duration": 25,
    "start_time": "2022-04-15T08:34:34.077Z"
   },
   {
    "duration": 10,
    "start_time": "2022-04-15T08:34:34.104Z"
   },
   {
    "duration": 34,
    "start_time": "2022-04-15T08:34:34.116Z"
   },
   {
    "duration": 19,
    "start_time": "2022-04-15T08:34:34.151Z"
   },
   {
    "duration": 19,
    "start_time": "2022-04-15T08:34:34.171Z"
   },
   {
    "duration": 3,
    "start_time": "2022-04-15T08:34:34.192Z"
   },
   {
    "duration": 18,
    "start_time": "2022-04-15T08:34:34.196Z"
   },
   {
    "duration": 31,
    "start_time": "2022-04-15T08:34:34.216Z"
   },
   {
    "duration": 12,
    "start_time": "2022-04-15T08:34:34.249Z"
   },
   {
    "duration": 3,
    "start_time": "2022-04-15T08:34:34.263Z"
   },
   {
    "duration": 12,
    "start_time": "2022-04-15T08:34:34.267Z"
   },
   {
    "duration": 312,
    "start_time": "2022-04-15T08:34:34.281Z"
   },
   {
    "duration": 4,
    "start_time": "2022-04-15T08:34:34.594Z"
   },
   {
    "duration": 8,
    "start_time": "2022-04-15T08:34:34.599Z"
   },
   {
    "duration": 24,
    "start_time": "2022-04-15T08:34:34.608Z"
   },
   {
    "duration": 35,
    "start_time": "2022-04-15T08:34:34.634Z"
   },
   {
    "duration": 147,
    "start_time": "2022-04-15T08:34:34.670Z"
   },
   {
    "duration": 151,
    "start_time": "2022-04-15T08:34:34.819Z"
   },
   {
    "duration": 157,
    "start_time": "2022-04-15T08:34:34.972Z"
   },
   {
    "duration": 146,
    "start_time": "2022-04-15T08:34:35.131Z"
   },
   {
    "duration": 896,
    "start_time": "2022-04-15T08:34:35.279Z"
   },
   {
    "duration": 7,
    "start_time": "2022-04-15T08:34:36.176Z"
   },
   {
    "duration": 165,
    "start_time": "2022-04-15T08:34:36.184Z"
   },
   {
    "duration": 12,
    "start_time": "2022-04-15T08:34:36.351Z"
   },
   {
    "duration": 118,
    "start_time": "2022-04-15T08:34:36.364Z"
   },
   {
    "duration": 113,
    "start_time": "2022-04-15T08:34:36.484Z"
   },
   {
    "duration": 8,
    "start_time": "2022-04-15T08:34:36.599Z"
   },
   {
    "duration": 4,
    "start_time": "2022-04-15T08:34:36.609Z"
   },
   {
    "duration": 7,
    "start_time": "2022-04-15T08:34:36.615Z"
   },
   {
    "duration": 24,
    "start_time": "2022-04-15T08:34:36.623Z"
   },
   {
    "duration": 8,
    "start_time": "2022-04-15T08:34:36.649Z"
   },
   {
    "duration": 7,
    "start_time": "2022-04-15T08:34:36.659Z"
   },
   {
    "duration": 3,
    "start_time": "2022-04-15T08:34:36.668Z"
   },
   {
    "duration": 3,
    "start_time": "2022-04-15T08:34:36.672Z"
   },
   {
    "duration": 40,
    "start_time": "2022-04-15T08:34:36.677Z"
   },
   {
    "duration": 38,
    "start_time": "2022-04-15T08:34:36.719Z"
   },
   {
    "duration": 5,
    "start_time": "2022-04-15T08:34:36.759Z"
   },
   {
    "duration": 228,
    "start_time": "2022-04-15T08:34:36.765Z"
   },
   {
    "duration": 314,
    "start_time": "2022-04-15T08:34:36.995Z"
   },
   {
    "duration": 186,
    "start_time": "2022-04-15T08:34:37.311Z"
   },
   {
    "duration": 666,
    "start_time": "2022-04-15T08:34:37.498Z"
   },
   {
    "duration": 319,
    "start_time": "2022-04-15T08:34:38.166Z"
   },
   {
    "duration": 668,
    "start_time": "2022-04-15T08:34:38.487Z"
   },
   {
    "duration": 682,
    "start_time": "2022-04-15T08:34:39.157Z"
   },
   {
    "duration": 16,
    "start_time": "2022-04-15T08:34:39.841Z"
   },
   {
    "duration": 4,
    "start_time": "2022-04-15T08:34:39.858Z"
   },
   {
    "duration": 289,
    "start_time": "2022-04-15T08:34:39.864Z"
   },
   {
    "duration": 9,
    "start_time": "2022-04-15T08:34:40.155Z"
   },
   {
    "duration": 7,
    "start_time": "2022-04-15T08:34:40.166Z"
   },
   {
    "duration": 239,
    "start_time": "2022-04-15T08:34:40.175Z"
   },
   {
    "duration": 8,
    "start_time": "2022-04-15T08:34:40.416Z"
   },
   {
    "duration": 6,
    "start_time": "2022-04-15T08:34:40.425Z"
   },
   {
    "duration": 132,
    "start_time": "2022-04-15T08:34:40.447Z"
   },
   {
    "duration": 151,
    "start_time": "2022-04-15T08:34:40.580Z"
   },
   {
    "duration": 140,
    "start_time": "2022-04-15T08:34:40.733Z"
   },
   {
    "duration": 150,
    "start_time": "2022-04-15T08:34:40.875Z"
   },
   {
    "duration": 295,
    "start_time": "2022-04-15T08:34:41.026Z"
   },
   {
    "duration": 518,
    "start_time": "2022-04-15T08:34:41.323Z"
   },
   {
    "duration": 157,
    "start_time": "2022-04-15T08:34:41.843Z"
   },
   {
    "duration": 523,
    "start_time": "2022-04-15T08:34:42.002Z"
   },
   {
    "duration": 33,
    "start_time": "2022-04-15T08:34:42.527Z"
   },
   {
    "duration": 18,
    "start_time": "2022-04-15T08:34:42.561Z"
   },
   {
    "duration": 12,
    "start_time": "2022-04-15T08:34:42.580Z"
   },
   {
    "duration": 3,
    "start_time": "2022-04-15T08:34:42.594Z"
   },
   {
    "duration": 36,
    "start_time": "2022-04-15T08:35:55.386Z"
   },
   {
    "duration": 4,
    "start_time": "2022-04-15T08:36:58.501Z"
   },
   {
    "duration": 896,
    "start_time": "2022-04-15T08:38:47.981Z"
   },
   {
    "duration": 103,
    "start_time": "2022-04-15T08:39:11.121Z"
   },
   {
    "duration": 37,
    "start_time": "2022-04-15T08:40:03.560Z"
   },
   {
    "duration": 3,
    "start_time": "2022-04-15T08:40:20.361Z"
   },
   {
    "duration": 108,
    "start_time": "2022-04-15T08:42:46.481Z"
   },
   {
    "duration": 600,
    "start_time": "2022-04-15T08:43:08.906Z"
   },
   {
    "duration": 105,
    "start_time": "2022-04-15T08:43:09.508Z"
   },
   {
    "duration": 14,
    "start_time": "2022-04-15T08:43:09.615Z"
   },
   {
    "duration": 17,
    "start_time": "2022-04-15T08:43:09.631Z"
   },
   {
    "duration": 202,
    "start_time": "2022-04-15T08:43:09.651Z"
   },
   {
    "duration": 6,
    "start_time": "2022-04-15T08:43:09.855Z"
   },
   {
    "duration": 144,
    "start_time": "2022-04-15T08:43:09.862Z"
   },
   {
    "duration": 7,
    "start_time": "2022-04-15T08:43:10.008Z"
   },
   {
    "duration": 8,
    "start_time": "2022-04-15T08:43:10.017Z"
   },
   {
    "duration": 25,
    "start_time": "2022-04-15T08:43:10.027Z"
   },
   {
    "duration": 7,
    "start_time": "2022-04-15T08:43:10.053Z"
   },
   {
    "duration": 27,
    "start_time": "2022-04-15T08:43:10.062Z"
   },
   {
    "duration": 8,
    "start_time": "2022-04-15T08:43:10.091Z"
   },
   {
    "duration": 5,
    "start_time": "2022-04-15T08:43:10.103Z"
   },
   {
    "duration": 65,
    "start_time": "2022-04-15T08:43:10.109Z"
   },
   {
    "duration": 106,
    "start_time": "2022-04-15T08:43:10.176Z"
   },
   {
    "duration": 0,
    "start_time": "2022-04-15T08:43:10.285Z"
   },
   {
    "duration": 0,
    "start_time": "2022-04-15T08:43:10.287Z"
   },
   {
    "duration": 0,
    "start_time": "2022-04-15T08:43:10.288Z"
   },
   {
    "duration": 0,
    "start_time": "2022-04-15T08:43:10.289Z"
   },
   {
    "duration": 0,
    "start_time": "2022-04-15T08:43:10.291Z"
   },
   {
    "duration": 0,
    "start_time": "2022-04-15T08:43:10.292Z"
   },
   {
    "duration": 0,
    "start_time": "2022-04-15T08:43:10.294Z"
   },
   {
    "duration": 0,
    "start_time": "2022-04-15T08:43:10.295Z"
   },
   {
    "duration": 0,
    "start_time": "2022-04-15T08:43:10.296Z"
   },
   {
    "duration": 0,
    "start_time": "2022-04-15T08:43:10.297Z"
   },
   {
    "duration": 0,
    "start_time": "2022-04-15T08:43:10.299Z"
   },
   {
    "duration": 0,
    "start_time": "2022-04-15T08:43:10.300Z"
   },
   {
    "duration": 0,
    "start_time": "2022-04-15T08:43:10.301Z"
   },
   {
    "duration": 0,
    "start_time": "2022-04-15T08:43:10.302Z"
   },
   {
    "duration": 0,
    "start_time": "2022-04-15T08:43:10.303Z"
   },
   {
    "duration": 0,
    "start_time": "2022-04-15T08:43:10.305Z"
   },
   {
    "duration": 0,
    "start_time": "2022-04-15T08:43:10.306Z"
   },
   {
    "duration": 0,
    "start_time": "2022-04-15T08:43:10.307Z"
   },
   {
    "duration": 0,
    "start_time": "2022-04-15T08:43:10.308Z"
   },
   {
    "duration": 0,
    "start_time": "2022-04-15T08:43:10.310Z"
   },
   {
    "duration": 0,
    "start_time": "2022-04-15T08:43:10.311Z"
   },
   {
    "duration": 0,
    "start_time": "2022-04-15T08:43:10.312Z"
   },
   {
    "duration": 0,
    "start_time": "2022-04-15T08:43:10.314Z"
   },
   {
    "duration": 0,
    "start_time": "2022-04-15T08:43:10.315Z"
   },
   {
    "duration": 0,
    "start_time": "2022-04-15T08:43:10.316Z"
   },
   {
    "duration": 0,
    "start_time": "2022-04-15T08:43:10.318Z"
   },
   {
    "duration": 0,
    "start_time": "2022-04-15T08:43:10.319Z"
   },
   {
    "duration": 0,
    "start_time": "2022-04-15T08:43:10.320Z"
   },
   {
    "duration": 0,
    "start_time": "2022-04-15T08:43:10.322Z"
   },
   {
    "duration": 0,
    "start_time": "2022-04-15T08:43:10.323Z"
   },
   {
    "duration": 0,
    "start_time": "2022-04-15T08:43:10.348Z"
   },
   {
    "duration": 0,
    "start_time": "2022-04-15T08:43:10.349Z"
   },
   {
    "duration": 0,
    "start_time": "2022-04-15T08:43:10.350Z"
   },
   {
    "duration": 0,
    "start_time": "2022-04-15T08:43:10.351Z"
   },
   {
    "duration": 0,
    "start_time": "2022-04-15T08:43:10.353Z"
   },
   {
    "duration": 0,
    "start_time": "2022-04-15T08:43:10.354Z"
   },
   {
    "duration": 0,
    "start_time": "2022-04-15T08:43:10.355Z"
   },
   {
    "duration": 0,
    "start_time": "2022-04-15T08:43:10.357Z"
   },
   {
    "duration": 0,
    "start_time": "2022-04-15T08:43:10.360Z"
   },
   {
    "duration": 0,
    "start_time": "2022-04-15T08:43:10.362Z"
   },
   {
    "duration": 0,
    "start_time": "2022-04-15T08:43:10.363Z"
   },
   {
    "duration": 0,
    "start_time": "2022-04-15T08:43:10.364Z"
   },
   {
    "duration": 0,
    "start_time": "2022-04-15T08:43:10.365Z"
   },
   {
    "duration": 0,
    "start_time": "2022-04-15T08:43:10.367Z"
   },
   {
    "duration": 0,
    "start_time": "2022-04-15T08:43:10.368Z"
   },
   {
    "duration": 0,
    "start_time": "2022-04-15T08:43:10.369Z"
   },
   {
    "duration": 0,
    "start_time": "2022-04-15T08:43:10.371Z"
   },
   {
    "duration": 0,
    "start_time": "2022-04-15T08:43:10.372Z"
   },
   {
    "duration": 0,
    "start_time": "2022-04-15T08:43:10.374Z"
   },
   {
    "duration": 0,
    "start_time": "2022-04-15T08:43:10.375Z"
   },
   {
    "duration": 0,
    "start_time": "2022-04-15T08:43:10.376Z"
   },
   {
    "duration": 0,
    "start_time": "2022-04-15T08:43:10.377Z"
   },
   {
    "duration": 0,
    "start_time": "2022-04-15T08:43:10.379Z"
   },
   {
    "duration": 0,
    "start_time": "2022-04-15T08:43:10.380Z"
   },
   {
    "duration": 0,
    "start_time": "2022-04-15T08:43:10.381Z"
   },
   {
    "duration": 0,
    "start_time": "2022-04-15T08:43:10.447Z"
   },
   {
    "duration": 0,
    "start_time": "2022-04-15T08:43:10.449Z"
   },
   {
    "duration": 0,
    "start_time": "2022-04-15T08:43:10.450Z"
   },
   {
    "duration": 0,
    "start_time": "2022-04-15T08:43:10.452Z"
   },
   {
    "duration": 0,
    "start_time": "2022-04-15T08:43:10.453Z"
   },
   {
    "duration": 0,
    "start_time": "2022-04-15T08:43:10.454Z"
   },
   {
    "duration": 0,
    "start_time": "2022-04-15T08:43:10.456Z"
   },
   {
    "duration": 0,
    "start_time": "2022-04-15T08:43:10.457Z"
   },
   {
    "duration": 0,
    "start_time": "2022-04-15T08:43:10.458Z"
   },
   {
    "duration": 0,
    "start_time": "2022-04-15T08:43:10.459Z"
   },
   {
    "duration": 0,
    "start_time": "2022-04-15T08:43:10.461Z"
   },
   {
    "duration": 0,
    "start_time": "2022-04-15T08:43:10.462Z"
   },
   {
    "duration": 0,
    "start_time": "2022-04-15T08:43:10.464Z"
   },
   {
    "duration": 0,
    "start_time": "2022-04-15T08:43:10.465Z"
   },
   {
    "duration": 0,
    "start_time": "2022-04-15T08:43:10.467Z"
   },
   {
    "duration": 0,
    "start_time": "2022-04-15T08:43:10.468Z"
   },
   {
    "duration": 0,
    "start_time": "2022-04-15T08:43:10.469Z"
   },
   {
    "duration": 0,
    "start_time": "2022-04-15T08:43:10.470Z"
   },
   {
    "duration": 1,
    "start_time": "2022-04-15T08:43:10.471Z"
   },
   {
    "duration": 0,
    "start_time": "2022-04-15T08:43:10.473Z"
   },
   {
    "duration": 0,
    "start_time": "2022-04-15T08:43:10.474Z"
   },
   {
    "duration": 0,
    "start_time": "2022-04-15T08:43:10.476Z"
   },
   {
    "duration": 0,
    "start_time": "2022-04-15T08:43:10.477Z"
   },
   {
    "duration": 0,
    "start_time": "2022-04-15T08:43:10.478Z"
   },
   {
    "duration": 0,
    "start_time": "2022-04-15T08:43:10.480Z"
   },
   {
    "duration": 0,
    "start_time": "2022-04-15T08:43:10.481Z"
   },
   {
    "duration": 0,
    "start_time": "2022-04-15T08:43:10.483Z"
   },
   {
    "duration": 0,
    "start_time": "2022-04-15T08:43:10.484Z"
   },
   {
    "duration": 0,
    "start_time": "2022-04-15T08:43:10.486Z"
   },
   {
    "duration": 0,
    "start_time": "2022-04-15T08:43:10.487Z"
   },
   {
    "duration": 0,
    "start_time": "2022-04-15T08:43:10.488Z"
   },
   {
    "duration": 1,
    "start_time": "2022-04-15T08:43:10.548Z"
   },
   {
    "duration": 128,
    "start_time": "2022-04-15T08:44:09.398Z"
   },
   {
    "duration": 39,
    "start_time": "2022-04-15T08:44:24.148Z"
   },
   {
    "duration": 110,
    "start_time": "2022-04-15T08:44:37.670Z"
   },
   {
    "duration": 41,
    "start_time": "2022-04-15T08:45:23.198Z"
   },
   {
    "duration": 4,
    "start_time": "2022-04-15T08:46:21.118Z"
   },
   {
    "duration": 47,
    "start_time": "2022-04-15T08:46:47.138Z"
   },
   {
    "duration": 4,
    "start_time": "2022-04-15T08:47:30.586Z"
   },
   {
    "duration": 682,
    "start_time": "2022-04-15T08:51:14.227Z"
   },
   {
    "duration": 147,
    "start_time": "2022-04-15T08:51:14.911Z"
   },
   {
    "duration": 17,
    "start_time": "2022-04-15T08:51:15.060Z"
   },
   {
    "duration": 4,
    "start_time": "2022-04-15T08:51:15.079Z"
   },
   {
    "duration": 235,
    "start_time": "2022-04-15T08:51:15.085Z"
   },
   {
    "duration": 5,
    "start_time": "2022-04-15T08:51:15.321Z"
   },
   {
    "duration": 141,
    "start_time": "2022-04-15T08:51:15.328Z"
   },
   {
    "duration": 6,
    "start_time": "2022-04-15T08:51:15.471Z"
   },
   {
    "duration": 9,
    "start_time": "2022-04-15T08:51:15.479Z"
   },
   {
    "duration": 7,
    "start_time": "2022-04-15T08:51:15.490Z"
   },
   {
    "duration": 7,
    "start_time": "2022-04-15T08:51:15.498Z"
   },
   {
    "duration": 51,
    "start_time": "2022-04-15T08:51:15.507Z"
   },
   {
    "duration": 7,
    "start_time": "2022-04-15T08:51:15.560Z"
   },
   {
    "duration": 6,
    "start_time": "2022-04-15T08:51:15.571Z"
   },
   {
    "duration": 42,
    "start_time": "2022-04-15T08:51:15.579Z"
   },
   {
    "duration": 10,
    "start_time": "2022-04-15T08:51:15.647Z"
   },
   {
    "duration": 5,
    "start_time": "2022-04-15T08:51:15.659Z"
   },
   {
    "duration": 40,
    "start_time": "2022-04-15T08:51:15.665Z"
   },
   {
    "duration": 57,
    "start_time": "2022-04-15T08:51:15.707Z"
   },
   {
    "duration": 3,
    "start_time": "2022-04-15T08:51:15.766Z"
   },
   {
    "duration": 42,
    "start_time": "2022-04-15T08:51:15.771Z"
   },
   {
    "duration": 3,
    "start_time": "2022-04-15T08:51:15.815Z"
   },
   {
    "duration": 49,
    "start_time": "2022-04-15T08:51:15.820Z"
   },
   {
    "duration": 5,
    "start_time": "2022-04-15T08:51:15.871Z"
   },
   {
    "duration": 30,
    "start_time": "2022-04-15T08:51:15.877Z"
   },
   {
    "duration": 4,
    "start_time": "2022-04-15T08:51:15.909Z"
   },
   {
    "duration": 53,
    "start_time": "2022-04-15T08:51:15.915Z"
   },
   {
    "duration": 11,
    "start_time": "2022-04-15T08:51:15.970Z"
   },
   {
    "duration": 26,
    "start_time": "2022-04-15T08:51:15.982Z"
   },
   {
    "duration": 56,
    "start_time": "2022-04-15T08:51:16.010Z"
   },
   {
    "duration": 12,
    "start_time": "2022-04-15T08:51:16.068Z"
   },
   {
    "duration": 27,
    "start_time": "2022-04-15T08:51:16.081Z"
   },
   {
    "duration": 59,
    "start_time": "2022-04-15T08:51:16.110Z"
   },
   {
    "duration": 25,
    "start_time": "2022-04-15T08:51:16.170Z"
   },
   {
    "duration": 50,
    "start_time": "2022-04-15T08:51:16.197Z"
   },
   {
    "duration": 28,
    "start_time": "2022-04-15T08:51:16.249Z"
   },
   {
    "duration": 12,
    "start_time": "2022-04-15T08:51:16.278Z"
   },
   {
    "duration": 11,
    "start_time": "2022-04-15T08:51:16.291Z"
   },
   {
    "duration": 48,
    "start_time": "2022-04-15T08:51:16.303Z"
   },
   {
    "duration": 20,
    "start_time": "2022-04-15T08:51:16.353Z"
   },
   {
    "duration": 3,
    "start_time": "2022-04-15T08:51:16.378Z"
   },
   {
    "duration": 18,
    "start_time": "2022-04-15T08:51:16.383Z"
   },
   {
    "duration": 3,
    "start_time": "2022-04-15T08:51:16.403Z"
   },
   {
    "duration": 43,
    "start_time": "2022-04-15T08:51:16.408Z"
   },
   {
    "duration": 3,
    "start_time": "2022-04-15T08:51:16.453Z"
   },
   {
    "duration": 14,
    "start_time": "2022-04-15T08:51:16.458Z"
   },
   {
    "duration": 340,
    "start_time": "2022-04-15T08:51:16.473Z"
   },
   {
    "duration": 4,
    "start_time": "2022-04-15T08:51:16.814Z"
   },
   {
    "duration": 12,
    "start_time": "2022-04-15T08:51:16.819Z"
   },
   {
    "duration": 34,
    "start_time": "2022-04-15T08:51:16.832Z"
   },
   {
    "duration": 23,
    "start_time": "2022-04-15T08:51:16.868Z"
   },
   {
    "duration": 164,
    "start_time": "2022-04-15T08:51:16.893Z"
   },
   {
    "duration": 166,
    "start_time": "2022-04-15T08:51:17.059Z"
   },
   {
    "duration": 176,
    "start_time": "2022-04-15T08:51:17.226Z"
   },
   {
    "duration": 145,
    "start_time": "2022-04-15T08:51:17.404Z"
   },
   {
    "duration": 899,
    "start_time": "2022-04-15T08:51:17.551Z"
   },
   {
    "duration": 7,
    "start_time": "2022-04-15T08:51:18.452Z"
   },
   {
    "duration": 158,
    "start_time": "2022-04-15T08:51:18.461Z"
   },
   {
    "duration": 12,
    "start_time": "2022-04-15T08:51:18.621Z"
   },
   {
    "duration": 111,
    "start_time": "2022-04-15T08:51:18.648Z"
   },
   {
    "duration": 114,
    "start_time": "2022-04-15T08:51:18.761Z"
   },
   {
    "duration": 8,
    "start_time": "2022-04-15T08:51:18.877Z"
   },
   {
    "duration": 3,
    "start_time": "2022-04-15T08:51:18.887Z"
   },
   {
    "duration": 8,
    "start_time": "2022-04-15T08:51:18.892Z"
   },
   {
    "duration": 4,
    "start_time": "2022-04-15T08:51:18.901Z"
   },
   {
    "duration": 6,
    "start_time": "2022-04-15T08:51:18.907Z"
   },
   {
    "duration": 41,
    "start_time": "2022-04-15T08:51:18.914Z"
   },
   {
    "duration": 4,
    "start_time": "2022-04-15T08:51:18.957Z"
   },
   {
    "duration": 3,
    "start_time": "2022-04-15T08:51:18.963Z"
   },
   {
    "duration": 38,
    "start_time": "2022-04-15T08:51:18.967Z"
   },
   {
    "duration": 10,
    "start_time": "2022-04-15T08:51:19.007Z"
   },
   {
    "duration": 29,
    "start_time": "2022-04-15T08:51:19.019Z"
   },
   {
    "duration": 215,
    "start_time": "2022-04-15T08:51:19.050Z"
   },
   {
    "duration": 309,
    "start_time": "2022-04-15T08:51:19.266Z"
   },
   {
    "duration": 178,
    "start_time": "2022-04-15T08:51:19.577Z"
   },
   {
    "duration": 646,
    "start_time": "2022-04-15T08:51:19.757Z"
   },
   {
    "duration": 650,
    "start_time": "2022-04-15T08:51:20.404Z"
   },
   {
    "duration": 657,
    "start_time": "2022-04-15T08:51:21.056Z"
   },
   {
    "duration": 675,
    "start_time": "2022-04-15T08:51:21.715Z"
   },
   {
    "duration": 11,
    "start_time": "2022-04-15T08:51:22.391Z"
   },
   {
    "duration": 4,
    "start_time": "2022-04-15T08:51:22.403Z"
   },
   {
    "duration": 292,
    "start_time": "2022-04-15T08:51:22.409Z"
   },
   {
    "duration": 10,
    "start_time": "2022-04-15T08:51:22.703Z"
   },
   {
    "duration": 8,
    "start_time": "2022-04-15T08:51:22.715Z"
   },
   {
    "duration": 258,
    "start_time": "2022-04-15T08:51:22.724Z"
   },
   {
    "duration": 8,
    "start_time": "2022-04-15T08:51:22.984Z"
   },
   {
    "duration": 5,
    "start_time": "2022-04-15T08:51:22.993Z"
   },
   {
    "duration": 148,
    "start_time": "2022-04-15T08:51:22.999Z"
   },
   {
    "duration": 146,
    "start_time": "2022-04-15T08:51:23.149Z"
   },
   {
    "duration": 136,
    "start_time": "2022-04-15T08:51:23.296Z"
   },
   {
    "duration": 157,
    "start_time": "2022-04-15T08:51:23.433Z"
   },
   {
    "duration": 303,
    "start_time": "2022-04-15T08:51:23.592Z"
   },
   {
    "duration": 531,
    "start_time": "2022-04-15T08:51:23.897Z"
   },
   {
    "duration": 160,
    "start_time": "2022-04-15T08:51:24.430Z"
   },
   {
    "duration": 548,
    "start_time": "2022-04-15T08:51:24.591Z"
   },
   {
    "duration": 29,
    "start_time": "2022-04-15T08:51:25.140Z"
   },
   {
    "duration": 17,
    "start_time": "2022-04-15T08:51:25.171Z"
   },
   {
    "duration": 12,
    "start_time": "2022-04-15T08:51:25.189Z"
   },
   {
    "duration": 3,
    "start_time": "2022-04-15T08:51:25.203Z"
   },
   {
    "duration": 1175,
    "start_time": "2022-04-15T12:08:37.678Z"
   },
   {
    "duration": 148,
    "start_time": "2022-04-15T12:08:38.856Z"
   },
   {
    "duration": 36,
    "start_time": "2022-04-15T12:08:39.007Z"
   },
   {
    "duration": 6,
    "start_time": "2022-04-15T12:08:39.045Z"
   },
   {
    "duration": 399,
    "start_time": "2022-04-15T12:08:39.054Z"
   },
   {
    "duration": 10,
    "start_time": "2022-04-15T12:08:39.456Z"
   },
   {
    "duration": 265,
    "start_time": "2022-04-15T12:08:39.468Z"
   },
   {
    "duration": 8,
    "start_time": "2022-04-15T12:08:39.736Z"
   },
   {
    "duration": 13,
    "start_time": "2022-04-15T12:08:39.747Z"
   },
   {
    "duration": 11,
    "start_time": "2022-04-15T12:08:39.783Z"
   },
   {
    "duration": 12,
    "start_time": "2022-04-15T12:08:39.797Z"
   },
   {
    "duration": 82,
    "start_time": "2022-04-15T12:08:39.813Z"
   },
   {
    "duration": 16,
    "start_time": "2022-04-15T12:08:39.898Z"
   },
   {
    "duration": 11,
    "start_time": "2022-04-15T12:08:39.921Z"
   },
   {
    "duration": 104,
    "start_time": "2022-04-15T12:08:39.935Z"
   },
   {
    "duration": 13,
    "start_time": "2022-04-15T12:08:40.042Z"
   },
   {
    "duration": 8,
    "start_time": "2022-04-15T12:08:40.081Z"
   },
   {
    "duration": 92,
    "start_time": "2022-04-15T12:08:40.093Z"
   },
   {
    "duration": 104,
    "start_time": "2022-04-15T12:08:40.187Z"
   },
   {
    "duration": 6,
    "start_time": "2022-04-15T12:08:40.294Z"
   },
   {
    "duration": 133,
    "start_time": "2022-04-15T12:08:40.302Z"
   },
   {
    "duration": 6,
    "start_time": "2022-04-15T12:08:40.438Z"
   },
   {
    "duration": 87,
    "start_time": "2022-04-15T12:08:40.447Z"
   },
   {
    "duration": 8,
    "start_time": "2022-04-15T12:08:40.537Z"
   },
   {
    "duration": 73,
    "start_time": "2022-04-15T12:08:40.547Z"
   },
   {
    "duration": 6,
    "start_time": "2022-04-15T12:08:40.623Z"
   },
   {
    "duration": 70,
    "start_time": "2022-04-15T12:08:40.631Z"
   },
   {
    "duration": 16,
    "start_time": "2022-04-15T12:08:40.704Z"
   },
   {
    "duration": 66,
    "start_time": "2022-04-15T12:08:40.723Z"
   },
   {
    "duration": 42,
    "start_time": "2022-04-15T12:08:40.791Z"
   },
   {
    "duration": 61,
    "start_time": "2022-04-15T12:08:40.835Z"
   },
   {
    "duration": 44,
    "start_time": "2022-04-15T12:08:40.899Z"
   },
   {
    "duration": 94,
    "start_time": "2022-04-15T12:08:40.945Z"
   },
   {
    "duration": 55,
    "start_time": "2022-04-15T12:08:41.042Z"
   },
   {
    "duration": 48,
    "start_time": "2022-04-15T12:08:41.100Z"
   },
   {
    "duration": 102,
    "start_time": "2022-04-15T12:08:41.151Z"
   },
   {
    "duration": 37,
    "start_time": "2022-04-15T12:08:41.256Z"
   },
   {
    "duration": 21,
    "start_time": "2022-04-15T12:08:41.296Z"
   },
   {
    "duration": 69,
    "start_time": "2022-04-15T12:08:41.320Z"
   },
   {
    "duration": 51,
    "start_time": "2022-04-15T12:08:41.393Z"
   },
   {
    "duration": 8,
    "start_time": "2022-04-15T12:08:41.481Z"
   },
   {
    "duration": 60,
    "start_time": "2022-04-15T12:08:41.492Z"
   },
   {
    "duration": 6,
    "start_time": "2022-04-15T12:08:41.556Z"
   },
   {
    "duration": 46,
    "start_time": "2022-04-15T12:08:41.565Z"
   },
   {
    "duration": 7,
    "start_time": "2022-04-15T12:08:41.614Z"
   },
   {
    "duration": 20,
    "start_time": "2022-04-15T12:08:41.625Z"
   },
   {
    "duration": 905,
    "start_time": "2022-04-15T12:08:41.647Z"
   },
   {
    "duration": 5,
    "start_time": "2022-04-15T12:08:42.555Z"
   },
   {
    "duration": 25,
    "start_time": "2022-04-15T12:08:42.564Z"
   },
   {
    "duration": 40,
    "start_time": "2022-04-15T12:08:42.591Z"
   },
   {
    "duration": 86,
    "start_time": "2022-04-15T12:08:42.634Z"
   },
   {
    "duration": 263,
    "start_time": "2022-04-15T12:08:42.723Z"
   },
   {
    "duration": 310,
    "start_time": "2022-04-15T12:08:42.988Z"
   },
   {
    "duration": 306,
    "start_time": "2022-04-15T12:08:43.301Z"
   },
   {
    "duration": 257,
    "start_time": "2022-04-15T12:08:43.610Z"
   },
   {
    "duration": 2095,
    "start_time": "2022-04-15T12:08:43.869Z"
   },
   {
    "duration": 26,
    "start_time": "2022-04-15T12:08:45.967Z"
   },
   {
    "duration": 316,
    "start_time": "2022-04-15T12:08:45.996Z"
   },
   {
    "duration": 17,
    "start_time": "2022-04-15T12:08:46.315Z"
   },
   {
    "duration": 317,
    "start_time": "2022-04-15T12:08:46.335Z"
   },
   {
    "duration": 411,
    "start_time": "2022-04-15T12:08:46.655Z"
   },
   {
    "duration": 20,
    "start_time": "2022-04-15T12:08:47.069Z"
   },
   {
    "duration": 6,
    "start_time": "2022-04-15T12:08:47.091Z"
   },
   {
    "duration": 11,
    "start_time": "2022-04-15T12:08:47.101Z"
   },
   {
    "duration": 7,
    "start_time": "2022-04-15T12:08:47.115Z"
   },
   {
    "duration": 59,
    "start_time": "2022-04-15T12:08:47.125Z"
   },
   {
    "duration": 16,
    "start_time": "2022-04-15T12:08:47.187Z"
   },
   {
    "duration": 5,
    "start_time": "2022-04-15T12:08:47.206Z"
   },
   {
    "duration": 6,
    "start_time": "2022-04-15T12:08:47.214Z"
   },
   {
    "duration": 100,
    "start_time": "2022-04-15T12:08:47.223Z"
   },
   {
    "duration": 19,
    "start_time": "2022-04-15T12:08:47.325Z"
   },
   {
    "duration": 7,
    "start_time": "2022-04-15T12:08:47.347Z"
   },
   {
    "duration": 358,
    "start_time": "2022-04-15T12:08:47.357Z"
   },
   {
    "duration": 845,
    "start_time": "2022-04-15T12:08:47.719Z"
   },
   {
    "duration": 428,
    "start_time": "2022-04-15T12:08:48.566Z"
   },
   {
    "duration": 2202,
    "start_time": "2022-04-15T12:08:48.997Z"
   },
   {
    "duration": 2122,
    "start_time": "2022-04-15T12:08:51.202Z"
   },
   {
    "duration": 1861,
    "start_time": "2022-04-15T12:08:53.326Z"
   },
   {
    "duration": 1067,
    "start_time": "2022-04-15T12:08:55.189Z"
   },
   {
    "duration": 36,
    "start_time": "2022-04-15T12:08:56.259Z"
   },
   {
    "duration": 8,
    "start_time": "2022-04-15T12:08:56.299Z"
   },
   {
    "duration": 488,
    "start_time": "2022-04-15T12:08:56.310Z"
   },
   {
    "duration": 14,
    "start_time": "2022-04-15T12:08:56.801Z"
   },
   {
    "duration": 13,
    "start_time": "2022-04-15T12:08:56.818Z"
   },
   {
    "duration": 469,
    "start_time": "2022-04-15T12:08:56.833Z"
   },
   {
    "duration": 17,
    "start_time": "2022-04-15T12:08:57.305Z"
   },
   {
    "duration": 10,
    "start_time": "2022-04-15T12:08:57.325Z"
   },
   {
    "duration": 410,
    "start_time": "2022-04-15T12:08:57.338Z"
   },
   {
    "duration": 416,
    "start_time": "2022-04-15T12:08:57.751Z"
   },
   {
    "duration": 403,
    "start_time": "2022-04-15T12:08:58.170Z"
   },
   {
    "duration": 1000,
    "start_time": "2022-04-15T12:08:58.575Z"
   },
   {
    "duration": 855,
    "start_time": "2022-04-15T12:08:59.582Z"
   },
   {
    "duration": 1105,
    "start_time": "2022-04-15T12:09:00.440Z"
   },
   {
    "duration": 309,
    "start_time": "2022-04-15T12:09:01.548Z"
   },
   {
    "duration": 913,
    "start_time": "2022-04-15T12:09:01.859Z"
   },
   {
    "duration": 60,
    "start_time": "2022-04-15T12:09:02.782Z"
   },
   {
    "duration": 55,
    "start_time": "2022-04-15T12:09:02.846Z"
   },
   {
    "duration": 20,
    "start_time": "2022-04-15T12:09:02.903Z"
   },
   {
    "duration": 7,
    "start_time": "2022-04-15T12:09:02.926Z"
   },
   {
    "duration": 53,
    "start_time": "2022-04-15T12:12:09.456Z"
   },
   {
    "duration": 31,
    "start_time": "2022-04-15T12:13:21.733Z"
   },
   {
    "duration": 135,
    "start_time": "2022-04-15T12:13:52.571Z"
   },
   {
    "duration": 865,
    "start_time": "2022-04-15T12:35:24.706Z"
   },
   {
    "duration": 222,
    "start_time": "2022-04-15T12:35:25.581Z"
   },
   {
    "duration": 20,
    "start_time": "2022-04-15T12:35:25.805Z"
   },
   {
    "duration": 6,
    "start_time": "2022-04-15T12:35:25.828Z"
   },
   {
    "duration": 407,
    "start_time": "2022-04-15T12:35:25.836Z"
   },
   {
    "duration": 8,
    "start_time": "2022-04-15T12:35:26.245Z"
   },
   {
    "duration": 265,
    "start_time": "2022-04-15T12:35:26.255Z"
   },
   {
    "duration": 9,
    "start_time": "2022-04-15T12:35:26.522Z"
   },
   {
    "duration": 9,
    "start_time": "2022-04-15T12:35:26.533Z"
   },
   {
    "duration": 11,
    "start_time": "2022-04-15T12:35:26.546Z"
   },
   {
    "duration": 29,
    "start_time": "2022-04-15T12:35:26.558Z"
   },
   {
    "duration": 47,
    "start_time": "2022-04-15T12:35:26.590Z"
   },
   {
    "duration": 49,
    "start_time": "2022-04-15T12:35:26.639Z"
   },
   {
    "duration": 8,
    "start_time": "2022-04-15T12:35:26.691Z"
   },
   {
    "duration": 81,
    "start_time": "2022-04-15T12:35:26.701Z"
   },
   {
    "duration": 13,
    "start_time": "2022-04-15T12:35:26.784Z"
   },
   {
    "duration": 7,
    "start_time": "2022-04-15T12:35:26.799Z"
   },
   {
    "duration": 76,
    "start_time": "2022-04-15T12:35:26.809Z"
   },
   {
    "duration": 65,
    "start_time": "2022-04-15T12:35:26.888Z"
   },
   {
    "duration": 26,
    "start_time": "2022-04-15T12:35:26.956Z"
   },
   {
    "duration": 74,
    "start_time": "2022-04-15T12:35:26.985Z"
   },
   {
    "duration": 6,
    "start_time": "2022-04-15T12:35:27.083Z"
   },
   {
    "duration": 45,
    "start_time": "2022-04-15T12:35:27.092Z"
   },
   {
    "duration": 7,
    "start_time": "2022-04-15T12:35:27.139Z"
   },
   {
    "duration": 81,
    "start_time": "2022-04-15T12:35:27.148Z"
   },
   {
    "duration": 7,
    "start_time": "2022-04-15T12:35:27.232Z"
   },
   {
    "duration": 68,
    "start_time": "2022-04-15T12:35:27.242Z"
   },
   {
    "duration": 15,
    "start_time": "2022-04-15T12:35:27.316Z"
   },
   {
    "duration": 75,
    "start_time": "2022-04-15T12:35:27.333Z"
   },
   {
    "duration": 44,
    "start_time": "2022-04-15T12:35:27.411Z"
   },
   {
    "duration": 35,
    "start_time": "2022-04-15T12:35:27.458Z"
   },
   {
    "duration": 43,
    "start_time": "2022-04-15T12:35:27.495Z"
   },
   {
    "duration": 76,
    "start_time": "2022-04-15T12:35:27.540Z"
   },
   {
    "duration": 43,
    "start_time": "2022-04-15T12:35:27.618Z"
   },
   {
    "duration": 51,
    "start_time": "2022-04-15T12:35:27.682Z"
   },
   {
    "duration": 72,
    "start_time": "2022-04-15T12:35:27.735Z"
   },
   {
    "duration": 18,
    "start_time": "2022-04-15T12:35:27.809Z"
   },
   {
    "duration": 15,
    "start_time": "2022-04-15T12:35:27.829Z"
   },
   {
    "duration": 58,
    "start_time": "2022-04-15T12:35:27.846Z"
   },
   {
    "duration": 33,
    "start_time": "2022-04-15T12:35:27.906Z"
   },
   {
    "duration": 5,
    "start_time": "2022-04-15T12:35:27.942Z"
   },
   {
    "duration": 56,
    "start_time": "2022-04-15T12:35:27.949Z"
   },
   {
    "duration": 5,
    "start_time": "2022-04-15T12:35:28.007Z"
   },
   {
    "duration": 22,
    "start_time": "2022-04-15T12:35:28.014Z"
   },
   {
    "duration": 5,
    "start_time": "2022-04-15T12:35:28.038Z"
   },
   {
    "duration": 51,
    "start_time": "2022-04-15T12:35:28.045Z"
   },
   {
    "duration": 533,
    "start_time": "2022-04-15T12:35:28.098Z"
   },
   {
    "duration": 4,
    "start_time": "2022-04-15T12:35:28.633Z"
   },
   {
    "duration": 11,
    "start_time": "2022-04-15T12:35:28.639Z"
   },
   {
    "duration": 53,
    "start_time": "2022-04-15T12:35:28.652Z"
   },
   {
    "duration": 39,
    "start_time": "2022-04-15T12:35:28.707Z"
   },
   {
    "duration": 275,
    "start_time": "2022-04-15T12:35:28.749Z"
   },
   {
    "duration": 273,
    "start_time": "2022-04-15T12:35:29.026Z"
   },
   {
    "duration": 314,
    "start_time": "2022-04-15T12:35:29.301Z"
   },
   {
    "duration": 273,
    "start_time": "2022-04-15T12:35:29.618Z"
   },
   {
    "duration": 2036,
    "start_time": "2022-04-15T12:35:29.893Z"
   },
   {
    "duration": 10,
    "start_time": "2022-04-15T12:35:31.931Z"
   },
   {
    "duration": 282,
    "start_time": "2022-04-15T12:35:31.943Z"
   },
   {
    "duration": 15,
    "start_time": "2022-04-15T12:35:32.227Z"
   },
   {
    "duration": 213,
    "start_time": "2022-04-15T12:35:32.244Z"
   },
   {
    "duration": 201,
    "start_time": "2022-04-15T12:35:32.460Z"
   },
   {
    "duration": 18,
    "start_time": "2022-04-15T12:35:32.664Z"
   },
   {
    "duration": 5,
    "start_time": "2022-04-15T12:35:32.684Z"
   },
   {
    "duration": 11,
    "start_time": "2022-04-15T12:35:32.692Z"
   },
   {
    "duration": 5,
    "start_time": "2022-04-15T12:35:32.706Z"
   },
   {
    "duration": 12,
    "start_time": "2022-04-15T12:35:32.713Z"
   },
   {
    "duration": 14,
    "start_time": "2022-04-15T12:35:32.728Z"
   },
   {
    "duration": 43,
    "start_time": "2022-04-15T12:35:32.744Z"
   },
   {
    "duration": 5,
    "start_time": "2022-04-15T12:35:32.789Z"
   },
   {
    "duration": 60,
    "start_time": "2022-04-15T12:35:32.797Z"
   },
   {
    "duration": 39,
    "start_time": "2022-04-15T12:35:32.859Z"
   },
   {
    "duration": 10,
    "start_time": "2022-04-15T12:35:32.901Z"
   },
   {
    "duration": 373,
    "start_time": "2022-04-15T12:35:32.914Z"
   },
   {
    "duration": 533,
    "start_time": "2022-04-15T12:35:33.290Z"
   },
   {
    "duration": 302,
    "start_time": "2022-04-15T12:35:33.825Z"
   },
   {
    "duration": 1080,
    "start_time": "2022-04-15T12:35:34.129Z"
   },
   {
    "duration": 1108,
    "start_time": "2022-04-15T12:35:35.211Z"
   },
   {
    "duration": 1225,
    "start_time": "2022-04-15T12:35:36.321Z"
   },
   {
    "duration": 982,
    "start_time": "2022-04-15T12:35:37.549Z"
   },
   {
    "duration": 17,
    "start_time": "2022-04-15T12:35:38.533Z"
   },
   {
    "duration": 7,
    "start_time": "2022-04-15T12:35:38.552Z"
   },
   {
    "duration": 474,
    "start_time": "2022-04-15T12:35:38.588Z"
   },
   {
    "duration": 17,
    "start_time": "2022-04-15T12:35:39.064Z"
   },
   {
    "duration": 11,
    "start_time": "2022-04-15T12:35:39.084Z"
   },
   {
    "duration": 408,
    "start_time": "2022-04-15T12:35:39.097Z"
   },
   {
    "duration": 10,
    "start_time": "2022-04-15T12:35:39.507Z"
   },
   {
    "duration": 8,
    "start_time": "2022-04-15T12:35:39.520Z"
   },
   {
    "duration": 258,
    "start_time": "2022-04-15T12:35:39.530Z"
   },
   {
    "duration": 268,
    "start_time": "2022-04-15T12:35:39.791Z"
   },
   {
    "duration": 249,
    "start_time": "2022-04-15T12:35:40.062Z"
   },
   {
    "duration": 281,
    "start_time": "2022-04-15T12:35:40.314Z"
   },
   {
    "duration": 512,
    "start_time": "2022-04-15T12:35:40.598Z"
   },
   {
    "duration": 897,
    "start_time": "2022-04-15T12:35:41.112Z"
   },
   {
    "duration": 280,
    "start_time": "2022-04-15T12:35:42.012Z"
   },
   {
    "duration": 1010,
    "start_time": "2022-04-15T12:35:42.294Z"
   },
   {
    "duration": 36,
    "start_time": "2022-04-15T12:35:43.306Z"
   },
   {
    "duration": 53,
    "start_time": "2022-04-15T12:35:43.343Z"
   },
   {
    "duration": 18,
    "start_time": "2022-04-15T12:35:43.398Z"
   },
   {
    "duration": 6,
    "start_time": "2022-04-15T12:35:43.418Z"
   },
   {
    "duration": 137,
    "start_time": "2022-04-15T13:14:36.268Z"
   },
   {
    "duration": 1004,
    "start_time": "2022-04-15T13:14:43.424Z"
   },
   {
    "duration": 190,
    "start_time": "2022-04-15T13:14:44.432Z"
   },
   {
    "duration": 26,
    "start_time": "2022-04-15T13:14:44.625Z"
   },
   {
    "duration": 5,
    "start_time": "2022-04-15T13:14:44.653Z"
   },
   {
    "duration": 287,
    "start_time": "2022-04-15T13:14:44.662Z"
   },
   {
    "duration": 8,
    "start_time": "2022-04-15T13:14:44.952Z"
   },
   {
    "duration": 195,
    "start_time": "2022-04-15T13:14:44.962Z"
   },
   {
    "duration": 8,
    "start_time": "2022-04-15T13:14:45.160Z"
   },
   {
    "duration": 14,
    "start_time": "2022-04-15T13:14:45.171Z"
   },
   {
    "duration": 40,
    "start_time": "2022-04-15T13:14:45.187Z"
   },
   {
    "duration": 21,
    "start_time": "2022-04-15T13:14:45.231Z"
   },
   {
    "duration": 39,
    "start_time": "2022-04-15T13:14:45.254Z"
   },
   {
    "duration": 10,
    "start_time": "2022-04-15T13:14:45.295Z"
   },
   {
    "duration": 9,
    "start_time": "2022-04-15T13:14:45.331Z"
   },
   {
    "duration": 53,
    "start_time": "2022-04-15T13:14:45.344Z"
   },
   {
    "duration": 31,
    "start_time": "2022-04-15T13:14:45.400Z"
   },
   {
    "duration": 9,
    "start_time": "2022-04-15T13:14:45.437Z"
   },
   {
    "duration": 58,
    "start_time": "2022-04-15T13:14:45.448Z"
   },
   {
    "duration": 72,
    "start_time": "2022-04-15T13:14:45.518Z"
   },
   {
    "duration": 6,
    "start_time": "2022-04-15T13:14:45.592Z"
   },
   {
    "duration": 176,
    "start_time": "2022-04-15T13:14:45.600Z"
   },
   {
    "duration": 0,
    "start_time": "2022-04-15T13:14:45.780Z"
   },
   {
    "duration": 0,
    "start_time": "2022-04-15T13:14:45.781Z"
   },
   {
    "duration": 0,
    "start_time": "2022-04-15T13:14:45.783Z"
   },
   {
    "duration": 0,
    "start_time": "2022-04-15T13:14:45.784Z"
   },
   {
    "duration": 0,
    "start_time": "2022-04-15T13:14:45.785Z"
   },
   {
    "duration": 0,
    "start_time": "2022-04-15T13:14:45.786Z"
   },
   {
    "duration": 0,
    "start_time": "2022-04-15T13:14:45.787Z"
   },
   {
    "duration": 0,
    "start_time": "2022-04-15T13:14:45.788Z"
   },
   {
    "duration": 0,
    "start_time": "2022-04-15T13:14:45.789Z"
   },
   {
    "duration": 0,
    "start_time": "2022-04-15T13:14:45.790Z"
   },
   {
    "duration": 0,
    "start_time": "2022-04-15T13:14:45.792Z"
   },
   {
    "duration": 0,
    "start_time": "2022-04-15T13:14:45.792Z"
   },
   {
    "duration": 0,
    "start_time": "2022-04-15T13:14:45.793Z"
   },
   {
    "duration": 0,
    "start_time": "2022-04-15T13:14:45.794Z"
   },
   {
    "duration": 0,
    "start_time": "2022-04-15T13:14:45.796Z"
   },
   {
    "duration": 0,
    "start_time": "2022-04-15T13:14:45.796Z"
   },
   {
    "duration": 0,
    "start_time": "2022-04-15T13:14:45.798Z"
   },
   {
    "duration": 0,
    "start_time": "2022-04-15T13:14:45.799Z"
   },
   {
    "duration": 0,
    "start_time": "2022-04-15T13:14:45.800Z"
   },
   {
    "duration": 0,
    "start_time": "2022-04-15T13:14:45.801Z"
   },
   {
    "duration": 0,
    "start_time": "2022-04-15T13:14:45.802Z"
   },
   {
    "duration": 0,
    "start_time": "2022-04-15T13:14:45.803Z"
   },
   {
    "duration": 0,
    "start_time": "2022-04-15T13:14:45.805Z"
   },
   {
    "duration": 0,
    "start_time": "2022-04-15T13:14:45.806Z"
   },
   {
    "duration": 0,
    "start_time": "2022-04-15T13:14:45.807Z"
   },
   {
    "duration": 0,
    "start_time": "2022-04-15T13:14:45.808Z"
   },
   {
    "duration": 0,
    "start_time": "2022-04-15T13:14:45.809Z"
   },
   {
    "duration": 0,
    "start_time": "2022-04-15T13:14:45.810Z"
   },
   {
    "duration": 0,
    "start_time": "2022-04-15T13:14:45.811Z"
   },
   {
    "duration": 0,
    "start_time": "2022-04-15T13:14:45.813Z"
   },
   {
    "duration": 0,
    "start_time": "2022-04-15T13:14:45.814Z"
   },
   {
    "duration": 0,
    "start_time": "2022-04-15T13:14:45.815Z"
   },
   {
    "duration": 0,
    "start_time": "2022-04-15T13:14:45.816Z"
   },
   {
    "duration": 0,
    "start_time": "2022-04-15T13:14:45.817Z"
   },
   {
    "duration": 0,
    "start_time": "2022-04-15T13:14:45.818Z"
   },
   {
    "duration": 0,
    "start_time": "2022-04-15T13:14:45.819Z"
   },
   {
    "duration": 0,
    "start_time": "2022-04-15T13:14:45.819Z"
   },
   {
    "duration": 0,
    "start_time": "2022-04-15T13:14:45.820Z"
   },
   {
    "duration": 0,
    "start_time": "2022-04-15T13:14:45.824Z"
   },
   {
    "duration": 0,
    "start_time": "2022-04-15T13:14:45.825Z"
   },
   {
    "duration": 0,
    "start_time": "2022-04-15T13:14:45.827Z"
   },
   {
    "duration": 0,
    "start_time": "2022-04-15T13:14:45.828Z"
   },
   {
    "duration": 0,
    "start_time": "2022-04-15T13:14:45.829Z"
   },
   {
    "duration": 0,
    "start_time": "2022-04-15T13:14:45.830Z"
   },
   {
    "duration": 0,
    "start_time": "2022-04-15T13:14:45.830Z"
   },
   {
    "duration": 0,
    "start_time": "2022-04-15T13:14:45.831Z"
   },
   {
    "duration": 0,
    "start_time": "2022-04-15T13:14:45.832Z"
   },
   {
    "duration": 0,
    "start_time": "2022-04-15T13:14:45.837Z"
   },
   {
    "duration": 0,
    "start_time": "2022-04-15T13:14:45.840Z"
   },
   {
    "duration": 0,
    "start_time": "2022-04-15T13:14:45.843Z"
   },
   {
    "duration": 0,
    "start_time": "2022-04-15T13:14:45.847Z"
   },
   {
    "duration": 0,
    "start_time": "2022-04-15T13:14:45.849Z"
   },
   {
    "duration": 0,
    "start_time": "2022-04-15T13:14:45.850Z"
   },
   {
    "duration": 0,
    "start_time": "2022-04-15T13:14:45.852Z"
   },
   {
    "duration": 0,
    "start_time": "2022-04-15T13:14:45.853Z"
   },
   {
    "duration": 0,
    "start_time": "2022-04-15T13:14:45.854Z"
   },
   {
    "duration": 0,
    "start_time": "2022-04-15T13:14:45.855Z"
   },
   {
    "duration": 0,
    "start_time": "2022-04-15T13:14:45.856Z"
   },
   {
    "duration": 0,
    "start_time": "2022-04-15T13:14:45.857Z"
   },
   {
    "duration": 0,
    "start_time": "2022-04-15T13:14:45.858Z"
   },
   {
    "duration": 0,
    "start_time": "2022-04-15T13:14:45.859Z"
   },
   {
    "duration": 0,
    "start_time": "2022-04-15T13:14:45.861Z"
   },
   {
    "duration": 0,
    "start_time": "2022-04-15T13:14:45.862Z"
   },
   {
    "duration": 0,
    "start_time": "2022-04-15T13:14:45.863Z"
   },
   {
    "duration": 0,
    "start_time": "2022-04-15T13:14:45.864Z"
   },
   {
    "duration": 0,
    "start_time": "2022-04-15T13:14:45.921Z"
   },
   {
    "duration": 0,
    "start_time": "2022-04-15T13:14:45.924Z"
   },
   {
    "duration": 0,
    "start_time": "2022-04-15T13:14:45.929Z"
   },
   {
    "duration": 0,
    "start_time": "2022-04-15T13:14:45.931Z"
   },
   {
    "duration": 0,
    "start_time": "2022-04-15T13:14:45.934Z"
   },
   {
    "duration": 0,
    "start_time": "2022-04-15T13:14:45.935Z"
   },
   {
    "duration": 0,
    "start_time": "2022-04-15T13:14:45.936Z"
   },
   {
    "duration": 0,
    "start_time": "2022-04-15T13:14:45.938Z"
   },
   {
    "duration": 0,
    "start_time": "2022-04-15T13:14:45.941Z"
   },
   {
    "duration": 0,
    "start_time": "2022-04-15T13:14:45.943Z"
   },
   {
    "duration": 0,
    "start_time": "2022-04-15T13:14:45.944Z"
   },
   {
    "duration": 0,
    "start_time": "2022-04-15T13:14:45.946Z"
   },
   {
    "duration": 0,
    "start_time": "2022-04-15T13:14:45.947Z"
   },
   {
    "duration": 49,
    "start_time": "2022-04-15T13:15:25.697Z"
   }
  ],
  "kernelspec": {
   "display_name": "Python 3 (ipykernel)",
   "language": "python",
   "name": "python3"
  },
  "language_info": {
   "codemirror_mode": {
    "name": "ipython",
    "version": 3
   },
   "file_extension": ".py",
   "mimetype": "text/x-python",
   "name": "python",
   "nbconvert_exporter": "python",
   "pygments_lexer": "ipython3",
   "version": "3.9.5"
  },
  "toc": {
   "base_numbering": 1,
   "nav_menu": {},
   "number_sections": true,
   "sideBar": true,
   "skip_h1_title": true,
   "title_cell": "Содержание",
   "title_sidebar": "Contents",
   "toc_cell": true,
   "toc_position": {},
   "toc_section_display": true,
   "toc_window_display": true
  }
 },
 "nbformat": 4,
 "nbformat_minor": 4
}
