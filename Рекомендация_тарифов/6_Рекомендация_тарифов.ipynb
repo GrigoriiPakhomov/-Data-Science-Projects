{
 "cells": [
  {
   "cell_type": "markdown",
   "metadata": {},
   "source": [
    "# Рекомендация тарифов"
   ]
  },
  {
   "cell_type": "markdown",
   "metadata": {},
   "source": [
    "В вашем распоряжении данные о поведении клиентов, которые уже перешли на эти тарифы (из проекта курса «Статистический анализ данных»). Нужно построить модель для задачи классификации, которая выберет подходящий тариф. Предобработка данных не понадобится — вы её уже сделали.\n",
    "\n",
    "Постройте модель с максимально большим значением *accuracy*. Чтобы сдать проект успешно, нужно довести долю правильных ответов по крайней мере до 0.75. Проверьте *accuracy* на тестовой выборке самостоятельно."
   ]
  },
  {
   "cell_type": "markdown",
   "metadata": {},
   "source": [
    "## Откройте и изучите файл"
   ]
  },
  {
   "cell_type": "markdown",
   "metadata": {},
   "source": [
    "Подключаем библиотеки:"
   ]
  },
  {
   "cell_type": "code",
   "execution_count": 1,
   "metadata": {},
   "outputs": [],
   "source": [
    "import pandas as pd\n",
    "import numpy as np\n",
    "import matplotlib.pyplot as plt\n",
    "import seaborn as sns\n",
    "from IPython.display import display\n",
    "from sklearn.model_selection import train_test_split\n",
    "from sklearn.tree import DecisionTreeClassifier\n",
    "from sklearn.linear_model import LogisticRegression\n",
    "from sklearn.ensemble import RandomForestClassifier\n",
    "from sklearn.metrics import accuracy_score\n",
    "import warnings\n",
    "warnings.filterwarnings(\"ignore\")"
   ]
  },
  {
   "cell_type": "markdown",
   "metadata": {},
   "source": [
    "Загрузим данные из файла users_behavior.csv, выведем первые 10 строк таблицы для первого взгляда на данные.\n",
    "Также с помощью метода info() изучим структуру таблицы: типы данных, количество строк, столбцов, пропущенных данных."
   ]
  },
  {
   "cell_type": "code",
   "execution_count": 2,
   "metadata": {
    "scrolled": true
   },
   "outputs": [
    {
     "data": {
      "text/html": [
       "<div>\n",
       "<style scoped>\n",
       "    .dataframe tbody tr th:only-of-type {\n",
       "        vertical-align: middle;\n",
       "    }\n",
       "\n",
       "    .dataframe tbody tr th {\n",
       "        vertical-align: top;\n",
       "    }\n",
       "\n",
       "    .dataframe thead th {\n",
       "        text-align: right;\n",
       "    }\n",
       "</style>\n",
       "<table border=\"1\" class=\"dataframe\">\n",
       "  <thead>\n",
       "    <tr style=\"text-align: right;\">\n",
       "      <th></th>\n",
       "      <th>calls</th>\n",
       "      <th>minutes</th>\n",
       "      <th>messages</th>\n",
       "      <th>mb_used</th>\n",
       "      <th>is_ultra</th>\n",
       "    </tr>\n",
       "  </thead>\n",
       "  <tbody>\n",
       "    <tr>\n",
       "      <th>0</th>\n",
       "      <td>40.0</td>\n",
       "      <td>311.90</td>\n",
       "      <td>83.0</td>\n",
       "      <td>19915.42</td>\n",
       "      <td>0</td>\n",
       "    </tr>\n",
       "    <tr>\n",
       "      <th>1</th>\n",
       "      <td>85.0</td>\n",
       "      <td>516.75</td>\n",
       "      <td>56.0</td>\n",
       "      <td>22696.96</td>\n",
       "      <td>0</td>\n",
       "    </tr>\n",
       "    <tr>\n",
       "      <th>2</th>\n",
       "      <td>77.0</td>\n",
       "      <td>467.66</td>\n",
       "      <td>86.0</td>\n",
       "      <td>21060.45</td>\n",
       "      <td>0</td>\n",
       "    </tr>\n",
       "    <tr>\n",
       "      <th>3</th>\n",
       "      <td>106.0</td>\n",
       "      <td>745.53</td>\n",
       "      <td>81.0</td>\n",
       "      <td>8437.39</td>\n",
       "      <td>1</td>\n",
       "    </tr>\n",
       "    <tr>\n",
       "      <th>4</th>\n",
       "      <td>66.0</td>\n",
       "      <td>418.74</td>\n",
       "      <td>1.0</td>\n",
       "      <td>14502.75</td>\n",
       "      <td>0</td>\n",
       "    </tr>\n",
       "    <tr>\n",
       "      <th>5</th>\n",
       "      <td>58.0</td>\n",
       "      <td>344.56</td>\n",
       "      <td>21.0</td>\n",
       "      <td>15823.37</td>\n",
       "      <td>0</td>\n",
       "    </tr>\n",
       "    <tr>\n",
       "      <th>6</th>\n",
       "      <td>57.0</td>\n",
       "      <td>431.64</td>\n",
       "      <td>20.0</td>\n",
       "      <td>3738.90</td>\n",
       "      <td>1</td>\n",
       "    </tr>\n",
       "    <tr>\n",
       "      <th>7</th>\n",
       "      <td>15.0</td>\n",
       "      <td>132.40</td>\n",
       "      <td>6.0</td>\n",
       "      <td>21911.60</td>\n",
       "      <td>0</td>\n",
       "    </tr>\n",
       "    <tr>\n",
       "      <th>8</th>\n",
       "      <td>7.0</td>\n",
       "      <td>43.39</td>\n",
       "      <td>3.0</td>\n",
       "      <td>2538.67</td>\n",
       "      <td>1</td>\n",
       "    </tr>\n",
       "    <tr>\n",
       "      <th>9</th>\n",
       "      <td>90.0</td>\n",
       "      <td>665.41</td>\n",
       "      <td>38.0</td>\n",
       "      <td>17358.61</td>\n",
       "      <td>0</td>\n",
       "    </tr>\n",
       "  </tbody>\n",
       "</table>\n",
       "</div>"
      ],
      "text/plain": [
       "   calls  minutes  messages   mb_used  is_ultra\n",
       "0   40.0   311.90      83.0  19915.42         0\n",
       "1   85.0   516.75      56.0  22696.96         0\n",
       "2   77.0   467.66      86.0  21060.45         0\n",
       "3  106.0   745.53      81.0   8437.39         1\n",
       "4   66.0   418.74       1.0  14502.75         0\n",
       "5   58.0   344.56      21.0  15823.37         0\n",
       "6   57.0   431.64      20.0   3738.90         1\n",
       "7   15.0   132.40       6.0  21911.60         0\n",
       "8    7.0    43.39       3.0   2538.67         1\n",
       "9   90.0   665.41      38.0  17358.61         0"
      ]
     },
     "metadata": {},
     "output_type": "display_data"
    },
    {
     "name": "stdout",
     "output_type": "stream",
     "text": [
      "<class 'pandas.core.frame.DataFrame'>\n",
      "RangeIndex: 3214 entries, 0 to 3213\n",
      "Data columns (total 5 columns):\n",
      " #   Column    Non-Null Count  Dtype  \n",
      "---  ------    --------------  -----  \n",
      " 0   calls     3214 non-null   float64\n",
      " 1   minutes   3214 non-null   float64\n",
      " 2   messages  3214 non-null   float64\n",
      " 3   mb_used   3214 non-null   float64\n",
      " 4   is_ultra  3214 non-null   int64  \n",
      "dtypes: float64(4), int64(1)\n",
      "memory usage: 125.7 KB\n"
     ]
    }
   ],
   "source": [
    "# читаем данные из .csv файла с помощью метода read_csv()\n",
    "users = pd.read_csv('/datasets/users_behavior.csv')\n",
    "# выведем первые 10 строк таблицы с помощью метода head()\n",
    "display(users.head(10))\n",
    "# с помощью метода info() изучим структуры таблицы: типы данных, количество строк, столбцов, пропущенных данных.\n",
    "users.info()"
   ]
  },
  {
   "cell_type": "markdown",
   "metadata": {},
   "source": [
    "В таблице данных 3214 объектов. Пропусков нет.\n",
    "В столбцах calls и messages содержится целочисленная информация. Заменим тип данных в них на int64 для уменьшения занимаемого места."
   ]
  },
  {
   "cell_type": "code",
   "execution_count": 3,
   "metadata": {},
   "outputs": [],
   "source": [
    "users['calls'] = users['calls'].astype('int16')\n",
    "users['messages'] = users['messages'].astype('int16')"
   ]
  },
  {
   "cell_type": "markdown",
   "metadata": {},
   "source": [
    "Рассмотрим численные распределения данных в столбцах с помощью метода describe()."
   ]
  },
  {
   "cell_type": "code",
   "execution_count": 4,
   "metadata": {},
   "outputs": [
    {
     "data": {
      "text/html": [
       "<div>\n",
       "<style scoped>\n",
       "    .dataframe tbody tr th:only-of-type {\n",
       "        vertical-align: middle;\n",
       "    }\n",
       "\n",
       "    .dataframe tbody tr th {\n",
       "        vertical-align: top;\n",
       "    }\n",
       "\n",
       "    .dataframe thead th {\n",
       "        text-align: right;\n",
       "    }\n",
       "</style>\n",
       "<table border=\"1\" class=\"dataframe\">\n",
       "  <thead>\n",
       "    <tr style=\"text-align: right;\">\n",
       "      <th></th>\n",
       "      <th>calls</th>\n",
       "      <th>minutes</th>\n",
       "      <th>messages</th>\n",
       "      <th>mb_used</th>\n",
       "      <th>is_ultra</th>\n",
       "    </tr>\n",
       "  </thead>\n",
       "  <tbody>\n",
       "    <tr>\n",
       "      <th>count</th>\n",
       "      <td>3214.000000</td>\n",
       "      <td>3214.000000</td>\n",
       "      <td>3214.000000</td>\n",
       "      <td>3214.000000</td>\n",
       "      <td>3214.000000</td>\n",
       "    </tr>\n",
       "    <tr>\n",
       "      <th>mean</th>\n",
       "      <td>63.038892</td>\n",
       "      <td>438.208787</td>\n",
       "      <td>38.281269</td>\n",
       "      <td>17207.673836</td>\n",
       "      <td>0.306472</td>\n",
       "    </tr>\n",
       "    <tr>\n",
       "      <th>std</th>\n",
       "      <td>33.236368</td>\n",
       "      <td>234.569872</td>\n",
       "      <td>36.148326</td>\n",
       "      <td>7570.968246</td>\n",
       "      <td>0.461100</td>\n",
       "    </tr>\n",
       "    <tr>\n",
       "      <th>min</th>\n",
       "      <td>0.000000</td>\n",
       "      <td>0.000000</td>\n",
       "      <td>0.000000</td>\n",
       "      <td>0.000000</td>\n",
       "      <td>0.000000</td>\n",
       "    </tr>\n",
       "    <tr>\n",
       "      <th>25%</th>\n",
       "      <td>40.000000</td>\n",
       "      <td>274.575000</td>\n",
       "      <td>9.000000</td>\n",
       "      <td>12491.902500</td>\n",
       "      <td>0.000000</td>\n",
       "    </tr>\n",
       "    <tr>\n",
       "      <th>50%</th>\n",
       "      <td>62.000000</td>\n",
       "      <td>430.600000</td>\n",
       "      <td>30.000000</td>\n",
       "      <td>16943.235000</td>\n",
       "      <td>0.000000</td>\n",
       "    </tr>\n",
       "    <tr>\n",
       "      <th>75%</th>\n",
       "      <td>82.000000</td>\n",
       "      <td>571.927500</td>\n",
       "      <td>57.000000</td>\n",
       "      <td>21424.700000</td>\n",
       "      <td>1.000000</td>\n",
       "    </tr>\n",
       "    <tr>\n",
       "      <th>max</th>\n",
       "      <td>244.000000</td>\n",
       "      <td>1632.060000</td>\n",
       "      <td>224.000000</td>\n",
       "      <td>49745.730000</td>\n",
       "      <td>1.000000</td>\n",
       "    </tr>\n",
       "  </tbody>\n",
       "</table>\n",
       "</div>"
      ],
      "text/plain": [
       "             calls      minutes     messages       mb_used     is_ultra\n",
       "count  3214.000000  3214.000000  3214.000000   3214.000000  3214.000000\n",
       "mean     63.038892   438.208787    38.281269  17207.673836     0.306472\n",
       "std      33.236368   234.569872    36.148326   7570.968246     0.461100\n",
       "min       0.000000     0.000000     0.000000      0.000000     0.000000\n",
       "25%      40.000000   274.575000     9.000000  12491.902500     0.000000\n",
       "50%      62.000000   430.600000    30.000000  16943.235000     0.000000\n",
       "75%      82.000000   571.927500    57.000000  21424.700000     1.000000\n",
       "max     244.000000  1632.060000   224.000000  49745.730000     1.000000"
      ]
     },
     "execution_count": 4,
     "metadata": {},
     "output_type": "execute_result"
    }
   ],
   "source": [
    "users.describe()"
   ]
  },
  {
   "cell_type": "markdown",
   "metadata": {},
   "source": [
    "По всем признакам медиана и среднее значение не сильно отличаются друг от друга. Перекоса в данных почти не наблюдается.\n",
    "Построим графики распределений признаков (гистограммы и boxplot)"
   ]
  },
  {
   "cell_type": "code",
   "execution_count": 5,
   "metadata": {},
   "outputs": [],
   "source": [
    "def show_hists(data, data_label, num_bins, rug=False, log_scale=False):\n",
    "    \"\"\"\n",
    "    input: data - данные для построения гистограммы\n",
    "           data_label - описание данных\n",
    "           num_bins - количество ячеек\n",
    "    output: None\n",
    "    description: Функция строит гистограмму и boxplot для выбранного параметра:\n",
    "                - Плотность распределения (методом distplot() библиотеки seaborn)\n",
    "                - Boxplot (метод boxplot() библиотеки seaborn)\n",
    "    \"\"\"\n",
    "    sns.set()\n",
    "    f, axes = plt.subplots(1, 2, figsize=(16, 4))\n",
    "    axes[0].set_title(data_label + \". Плотность распределения\", fontsize=18)\n",
    "    axes[0].set_ylabel('плотность', fontsize=15)\n",
    "    sns.distplot(data, bins=num_bins, rug=rug, ax=axes[0])\n",
    "    axes[1].set_title(data_label + \". Boxplot\", fontsize=18)\n",
    "    sns.boxplot(data=users, x=data_label, ax=axes[1])\n",
    "    plt.show()"
   ]
  },
  {
   "cell_type": "code",
   "execution_count": 6,
   "metadata": {},
   "outputs": [
    {
     "data": {
      "image/png": "[encoded data removed]",
      "text/plain": [
       "<Figure size 1152x288 with 2 Axes>"
      ]
     },
     "metadata": {},
     "output_type": "display_data"
    },
    {
     "data": {
      "image/png": "[encoded data removed]",
      "text/plain": [
       "<Figure size 1152x288 with 2 Axes>"
      ]
     },
     "metadata": {},
     "output_type": "display_data"
    },
    {
     "data": {
      "image/png": "[encoded data removed]",
      "text/plain": [
       "<Figure size 1152x288 with 2 Axes>"
      ]
     },
     "metadata": {},
     "output_type": "display_data"
    },
    {
     "data": {
      "image/png": "[encoded data removed]",
      "text/plain": [
       "<Figure size 1152x288 with 2 Axes>"
      ]
     },
     "metadata": {},
     "output_type": "display_data"
    }
   ],
   "source": [
    "for column in users.drop('is_ultra', axis=1).columns:\n",
    "    show_hists(users[column], column, num_bins=30)"
   ]
  },
  {
   "cell_type": "markdown",
   "metadata": {},
   "source": [
    "Стоит отметить, что признак messages для многих объектов = 0. Это вносит небольшой скос данных влево."
   ]
  },
  {
   "cell_type": "code",
   "execution_count": 7,
   "metadata": {},
   "outputs": [
    {
     "name": "stdout",
     "output_type": "stream",
     "text": [
      "Доля пользователей, не отправляющих сообщения: 15.46 %\n"
     ]
    }
   ],
   "source": [
    "zero_mes_rate = round(len(users.loc[users['messages'] == 0]) / len(users) * 100, 2)\n",
    "print('Доля пользователей, не отправляющих сообщения: {} %'.format(zero_mes_rate))"
   ]
  },
  {
   "cell_type": "markdown",
   "metadata": {},
   "source": [
    "Определим доли выбросов по всем параметрам."
   ]
  },
  {
   "cell_type": "code",
   "execution_count": 8,
   "metadata": {},
   "outputs": [],
   "source": [
    "def outliers_rate(data, column):\n",
    "    \"\"\"\n",
    "    input: data - таблица данных\n",
    "           column - признак для подсчета доли выбросов\n",
    "    output: None\n",
    "    description: Функция считает и выводит долю выбросов по выбранному признаку в %.\n",
    "                 функция возвращает значение границы выбросов.\n",
    "    \"\"\"\n",
    "    # квантили считаются методом quantile()\n",
    "    # граница выбросов считается по формуле  [ q.75 + (q.75 - q.25)*1.5 ]\n",
    "    max_val = (data[column].quantile(0.75) - data[column].quantile(0.25))*1.5 + data[column].quantile(0.75)\n",
    "    rate = round(len(data.loc[data[column] > max_val]) / len(data) * 100, 2)\n",
    "    print('Доля выбросов в параметре {}: {} %'.format(column, rate))\n",
    "    return max_val"
   ]
  },
  {
   "cell_type": "code",
   "execution_count": 9,
   "metadata": {},
   "outputs": [
    {
     "name": "stdout",
     "output_type": "stream",
     "text": [
      "Доля выбросов в параметре calls: 1.93 %\n",
      "Доля выбросов в параметре minutes: 1.9 %\n",
      "Доля выбросов в параметре messages: 2.83 %\n",
      "Доля выбросов в параметре mb_used: 2.4 %\n",
      "Общая доля выбросов: 6.47 %\n"
     ]
    }
   ],
   "source": [
    "# в переменной max_vals будем хранить границы выбросов по признакам\n",
    "max_vals = []\n",
    "# считаем границы выбросов по всем признакам и выводим доли выбросов по отдельным признакам\n",
    "for column in users.drop('is_ultra', axis=1).columns:\n",
    "    max_vals.append(outliers_rate(users, column))\n",
    "\n",
    "# считаем общую долю выбросов по всем признакам.\n",
    "whole_rate = len(users.loc[(users['calls'] > max_vals[0]) | \n",
    "                (users['minutes'] > max_vals[1]) | \n",
    "                (users['messages'] > max_vals[2]) | \n",
    "                (users['mb_used'] > max_vals[3]) \n",
    "                          ]) / len(users)\n",
    "print('Общая доля выбросов: {} %'.format(round(whole_rate*100, 2)))"
   ]
  },
  {
   "cell_type": "markdown",
   "metadata": {},
   "source": [
    "Выбросов достаточно много (около 6.5%). Не будем их удалять."
   ]
  },
  {
   "cell_type": "markdown",
   "metadata": {},
   "source": [
    "Вывод: Данные успешно загружены и проанализированы. Таблица данных содержит 3214 объектов, пропусков нет.\n",
    "Типы данных признаков calls и messages заменены на целочисленный int64.\n",
    "Сильного перекоса в распределениях признаков не наблюдается.\n",
    "Общая доля выбросов составляет 6.5%. Выбросы не удалены."
   ]
  },
  {
   "cell_type": "markdown",
   "metadata": {},
   "source": [
    "## Разбейте данные на выборки"
   ]
  },
  {
   "cell_type": "markdown",
   "metadata": {},
   "source": [
    "Для начала выделим в исходных данных:\n",
    "\n",
    "признаки: calls, minutes, messages, mb_used\n",
    "\n",
    "целевой признак: is_ultra"
   ]
  },
  {
   "cell_type": "code",
   "execution_count": 10,
   "metadata": {},
   "outputs": [],
   "source": [
    "features = users.drop('is_ultra', axis=1)\n",
    "target = users['is_ultra']"
   ]
  },
  {
   "cell_type": "markdown",
   "metadata": {},
   "source": [
    "Разделим данные на обучающую, валидационную и тестовую выборки в пропорции 3:1:1 соответственно (60% на обучающию и по 20% данных на валидационную и тестовую выборки)."
   ]
  },
  {
   "cell_type": "code",
   "execution_count": 11,
   "metadata": {},
   "outputs": [],
   "source": [
    "# разделение проведём с помощью функции train_test_split библиотеки sklearn\n",
    "X, X_test, y, y_test = train_test_split(features, target, test_size=0.2, random_state=123)\n",
    "X_train, X_valid, y_train, y_valid = train_test_split(X, y, test_size=0.25, random_state=123)"
   ]
  },
  {
   "cell_type": "markdown",
   "metadata": {},
   "source": [
    "## Исследуйте модели"
   ]
  },
  {
   "cell_type": "markdown",
   "metadata": {},
   "source": [
    "3.1. Решающее дерево"
   ]
  },
  {
   "cell_type": "markdown",
   "metadata": {},
   "source": [
    "Инициируем модель решающего дерева DecisionTreeClassifier\n",
    "\n",
    "Выделим гиперпараметры для настройки модели:\n",
    "\n",
    "max_depth - максимальная глубина древа\n",
    "\n",
    "min_samples_split - минимальное количество объектов в узле\n",
    "\n",
    "min_samples_leaf - минимальное количество объектов в листе\n",
    "\n",
    "criterion (\"gini\" или \"entropy\") - функция измерения качества разделения\n",
    "\n",
    "Критерием проверки качества модели будет точность accuracy"
   ]
  },
  {
   "cell_type": "code",
   "execution_count": 12,
   "metadata": {},
   "outputs": [],
   "source": [
    "# в параметрах best_params и best_accuracy будем хранить наилучшие параметры для модели и наивысшую точность соответственно\n",
    "best_params = []\n",
    "best_accuracy = 0\n",
    "# проходим в циклах по всем выбранным гиперпараметрам\n",
    "for max_depth in range(2,10):\n",
    "    for min_samples_split in range(2,6):\n",
    "        for min_samples_leaf in range(1,10):\n",
    "            for criterion in ['gini', 'entropy']:\n",
    "                # инициация модели с текущими гиперпараметрами\n",
    "                model_dt_clf = DecisionTreeClassifier(random_state=123,\n",
    "                                                      max_depth=max_depth,\n",
    "                                                      min_samples_split=min_samples_split,\n",
    "                                                      min_samples_leaf=min_samples_leaf,\n",
    "                                                      criterion=criterion)\n",
    "                # обучение модели на тренировочной выборке\n",
    "                model_dt_clf.fit(X_train, y_train)\n",
    "                # поиск предсказаний модели на валидационной выбоке\n",
    "                predictions = model_dt_clf.predict(X_valid)\n",
    "                # вычисление точности модели методом accuracy_score\n",
    "                accuracy = accuracy_score(y_valid, predictions)\n",
    "                # если текущее значение точности выше предыдущего лучшего значения, \n",
    "                # сохраняем параметры модели и текущую точность\n",
    "                if accuracy > best_accuracy:\n",
    "                    best_params = [max_depth, min_samples_split, min_samples_leaf, criterion]\n",
    "                    best_accuracy = accuracy"
   ]
  },
  {
   "cell_type": "code",
   "execution_count": 13,
   "metadata": {
    "scrolled": true
   },
   "outputs": [
    {
     "name": "stdout",
     "output_type": "stream",
     "text": [
      "Наилучшая точность: 0.79\n",
      "Парамтеры модели:\n",
      "   max_depth = 6\n",
      "   min_samples_split = 2\n",
      "   min_samples_leaf = 5\n",
      "   criterion = entropy \n"
     ]
    }
   ],
   "source": [
    "# вывод наилучшей точности и параметров модели.\n",
    "print('''Наилучшая точность: {}\n",
    "Парамтеры модели:\n",
    "   max_depth = {}\n",
    "   min_samples_split = {}\n",
    "   min_samples_leaf = {}\n",
    "   criterion = {} '''.format(round(best_accuracy, 2),\n",
    "                             best_params[0],\n",
    "                             best_params[1],\n",
    "                             best_params[2],\n",
    "                             best_params[3]\n",
    "                            ))"
   ]
  },
  {
   "cell_type": "markdown",
   "metadata": {},
   "source": [
    "Данная модель уже удовлетворяет условиям технического задания. Попробуем улучшить результат с другими моделями."
   ]
  },
  {
   "cell_type": "markdown",
   "metadata": {},
   "source": [
    "3.2. Случайный лес"
   ]
  },
  {
   "cell_type": "markdown",
   "metadata": {},
   "source": [
    "Инициируем модель случайного леса RandomForestClassifier\n",
    "\n",
    "Выделим гиперпараметры для настройки модели:\n",
    "    \n",
    "n_estimators - количество деревьев\n",
    "\n",
    "max_depth - максимальная глубина древа\n",
    "\n",
    "min_samples_split - минимальное количество объектов в узле\n",
    "\n",
    "min_samples_leaf - минимальное количество объектов в листе\n",
    "\n",
    "criterion (\"gini\" или \"entropy\") - функция измерения качества разделения\n",
    "\n",
    "Критерием проверки качества модели будет точность accuracy."
   ]
  },
  {
   "cell_type": "code",
   "execution_count": 22,
   "metadata": {},
   "outputs": [],
   "source": [
    "# в параметрах best_params и best_accuracy будем хранить наилучшие параметры для модели и наивысшую точность соответственно\n",
    "best_params = []\n",
    "best_accuracy = 0\n",
    "# проходим в циклах по всем выбранным гиперпараметрам\n",
    "for n_estimators in (1,10):\n",
    "    for max_depth in range(2,10):\n",
    "        for min_samples_split in range(2,10):\n",
    "            for min_samples_leaf in range(1,8):\n",
    "                for criterion in ['gini', 'entropy']:\n",
    "                    # инициация модели с текущими гиперпараметрами\n",
    "                    model_rf_clf = RandomForestClassifier(random_state=123,\n",
    "                                                          n_estimators=n_estimators,\n",
    "                                                          max_depth=max_depth,\n",
    "                                                          min_samples_split=min_samples_split,\n",
    "                                                          min_samples_leaf=min_samples_leaf,\n",
    "                                                          criterion=criterion)\n",
    "                    # обучение модели на тренировочной выборке\n",
    "                    model_rf_clf.fit(X_train, y_train)\n",
    "                    # поиск предсказаний модели на валидационной выбоке\n",
    "                    predictions = model_rf_clf.predict(X_valid)\n",
    "                    # вычисление точности модели методом accuracy_score\n",
    "                    accuracy = accuracy_score(y_valid, predictions)\n",
    "                    # если текущее значение точности выше предыдущего лучшего значения, \n",
    "                    # сохраняем параметры модели и текущую точность\n",
    "                    if accuracy > best_accuracy:\n",
    "                        best_params = [n_estimators, max_depth, min_samples_split, min_samples_leaf, criterion]\n",
    "                        best_accuracy = accuracy"
   ]
  },
  {
   "cell_type": "code",
   "execution_count": 23,
   "metadata": {},
   "outputs": [
    {
     "name": "stdout",
     "output_type": "stream",
     "text": [
      "Наилучшая точность: 0.81\n",
      "Парамтеры модели:\n",
      "   n_estimators = 10\n",
      "   max_depth = 9\n",
      "   min_samples_split = 6\n",
      "   min_samples_leaf = 2\n",
      "   criterion = gini \n"
     ]
    }
   ],
   "source": [
    "# вывод наилучшей точности и параметров модели.\n",
    "print('''Наилучшая точность: {}\n",
    "Парамтеры модели:\n",
    "   n_estimators = {}\n",
    "   max_depth = {}\n",
    "   min_samples_split = {}\n",
    "   min_samples_leaf = {}\n",
    "   criterion = {} '''.format(round(best_accuracy, 2),\n",
    "                             best_params[0],\n",
    "                             best_params[1],\n",
    "                             best_params[2],\n",
    "                             best_params[3],\n",
    "                             best_params[4]\n",
    "                            ))"
   ]
  },
  {
   "cell_type": "markdown",
   "metadata": {},
   "source": [
    "Точность в модели случайного леса удалось увеличить на 2% по сравнению с решающим деревом."
   ]
  },
  {
   "cell_type": "markdown",
   "metadata": {},
   "source": [
    "3.3. Логистическая регрессия"
   ]
  },
  {
   "cell_type": "markdown",
   "metadata": {},
   "source": [
    "Инициируем модель логистической регрессии LogisticRegression\n",
    "\n",
    "Выделим гиперпараметры для настройки модели:\n",
    "\n",
    "С - инверсия силы регуляризации\n",
    "\n",
    "Критерием проверки качества модели будет точность accuracy."
   ]
  },
  {
   "cell_type": "code",
   "execution_count": 24,
   "metadata": {},
   "outputs": [],
   "source": [
    "# в параметрах best_params и best_accuracy будем хранить наилучшие параметры для модели и наивысшую точность соответственно\n",
    "best_params = []\n",
    "best_accuracy = 0\n",
    "\n",
    "cs = np.linspace(0.01, 10, 1000, endpoint=True)\n",
    "# проходим в циклах по всем выбранным гиперпараметрам\n",
    "for C in cs:\n",
    "    # инициация модели с текущими гиперпараметрами\n",
    "    model_lr_clf = LogisticRegression(random_state=123,\n",
    "                                      C=C,\n",
    "                                      max_iter=1000)\n",
    "    # обучение модели на тренировочной выборке\n",
    "    model_lr_clf.fit(X_train, y_train)\n",
    "    # поиск предсказаний модели на валидационной выбоке\n",
    "    predictions = model_lr_clf.predict(X_valid)\n",
    "    # вычисление точности модели методом accuracy_score\n",
    "    accuracy = accuracy_score(y_valid, predictions)\n",
    "    # если текущее значение точности выше предыдущего лучшего значения, \n",
    "    # сохраняем параметры модели и текущую точность\n",
    "    if accuracy > best_accuracy:\n",
    "        best_params = [C]\n",
    "        best_accuracy = accuracy"
   ]
  },
  {
   "cell_type": "code",
   "execution_count": 25,
   "metadata": {
    "scrolled": true
   },
   "outputs": [
    {
     "name": "stdout",
     "output_type": "stream",
     "text": [
      "Наилучшая точность: 0.73\n",
      "Парамтеры модели:\n",
      "   C = 0.01 \n"
     ]
    }
   ],
   "source": [
    "# вывод наилучшей точности и параметров модели.\n",
    "print('''Наилучшая точность: {}\n",
    "Парамтеры модели:\n",
    "   C = {} '''.format(round(best_accuracy, 2),\n",
    "                             best_params[0]\n",
    "                            ))"
   ]
  },
  {
   "cell_type": "markdown",
   "metadata": {},
   "source": [
    "Логистическая регрессия даёт более низкую точность, чем решающее дерево и случайный лес."
   ]
  },
  {
   "cell_type": "markdown",
   "metadata": {},
   "source": [
    "## Проверьте модель на тестовой выборке"
   ]
  },
  {
   "cell_type": "markdown",
   "metadata": {},
   "source": [
    "По критерию accuracy наилучшей точности удалось достичь с моделью Случайного леса\n",
    "\n",
    "Наилучшая точность: 0.81\n",
    "\n",
    "Парамтеры модели: n_estimators = 10\n",
    "\n",
    "max_depth = 9\n",
    "\n",
    "min_samples_split = 6\n",
    "\n",
    "min_samples_leaf = 2\n",
    "\n",
    "criterion = gini\n",
    "\n",
    "Проведём обучение данной модели на всех доступных данных (обучающие + валидационные) и вычислим точность на тестовой выборке."
   ]
  },
  {
   "cell_type": "code",
   "execution_count": 26,
   "metadata": {},
   "outputs": [
    {
     "name": "stdout",
     "output_type": "stream",
     "text": [
      "Точность модели на тестовой выборке: 0.81\n"
     ]
    }
   ],
   "source": [
    "model_rf_clf = RandomForestClassifier(random_state=123,\n",
    "                                      n_estimators=10,\n",
    "                                      max_depth=9,\n",
    "                                      min_samples_split=6,\n",
    "                                      min_samples_leaf=2,\n",
    "                                      criterion='gini')\n",
    "model_rf_clf.fit(X, y)\n",
    "predictions = model_rf_clf.predict(X_test)\n",
    "accuracy = accuracy_score(y_test, predictions)\n",
    "print('Точность модели на тестовой выборке: {}'.format(round(accuracy, 2)))"
   ]
  },
  {
   "cell_type": "markdown",
   "metadata": {},
   "source": [
    "Вывод: Были проанализированы различные классификационные модели: Решающее дерево, Случайный лес, Логистическая регрессия, \n",
    "Каждая модель была обучена для различных сочетаний гиперпараметров; выведены наилучшие варианты для каждой модели.\n",
    "Наилучшая точность (accuracy) была достигнута для модели Случайного леса:\n",
    "Accuracy на валидационной выборке: 0.81\n",
    "Accuracy на тестовой выборке: 0.81"
   ]
  },
  {
   "cell_type": "markdown",
   "metadata": {},
   "source": [
    "## (бонус) Проверьте модели на адекватность"
   ]
  },
  {
   "cell_type": "markdown",
   "metadata": {},
   "source": [
    "Для модели случайного леса посмотрим подробнее на зависимость точности от числа деревьев и максимальной глубины дерева."
   ]
  },
  {
   "cell_type": "code",
   "execution_count": 27,
   "metadata": {},
   "outputs": [],
   "source": [
    "accuracy_df = pd.DataFrame(columns=['n_estimators', 'max_depth', 'accuracy'])\n",
    "for n_est in range(2, 31):\n",
    "    for m_depth in range(2, 11):\n",
    "        model_rf_clf = RandomForestClassifier(random_state=123,\n",
    "                                      n_estimators=n_est,\n",
    "                                      max_depth=m_depth)\n",
    "        model_rf_clf.fit(X, y)\n",
    "        predictions = model_rf_clf.predict(X_test)\n",
    "        accuracy = accuracy_score(y_test, predictions)\n",
    "        accuracy_df = accuracy_df.append({'n_estimators': n_est,\n",
    "                                          'max_depth': m_depth,\n",
    "                                          'accuracy': accuracy}, ignore_index=True)"
   ]
  },
  {
   "cell_type": "code",
   "execution_count": 28,
   "metadata": {},
   "outputs": [
    {
     "data": {
      "text/html": [
       "<div>\n",
       "<style scoped>\n",
       "    .dataframe tbody tr th:only-of-type {\n",
       "        vertical-align: middle;\n",
       "    }\n",
       "\n",
       "    .dataframe tbody tr th {\n",
       "        vertical-align: top;\n",
       "    }\n",
       "\n",
       "    .dataframe thead th {\n",
       "        text-align: right;\n",
       "    }\n",
       "</style>\n",
       "<table border=\"1\" class=\"dataframe\">\n",
       "  <thead>\n",
       "    <tr style=\"text-align: right;\">\n",
       "      <th></th>\n",
       "      <th>n_estimators</th>\n",
       "      <th>max_depth</th>\n",
       "      <th>accuracy</th>\n",
       "    </tr>\n",
       "  </thead>\n",
       "  <tbody>\n",
       "    <tr>\n",
       "      <th>0</th>\n",
       "      <td>2.0</td>\n",
       "      <td>2.0</td>\n",
       "      <td>0.748056</td>\n",
       "    </tr>\n",
       "    <tr>\n",
       "      <th>1</th>\n",
       "      <td>2.0</td>\n",
       "      <td>3.0</td>\n",
       "      <td>0.769829</td>\n",
       "    </tr>\n",
       "    <tr>\n",
       "      <th>2</th>\n",
       "      <td>2.0</td>\n",
       "      <td>4.0</td>\n",
       "      <td>0.797823</td>\n",
       "    </tr>\n",
       "    <tr>\n",
       "      <th>3</th>\n",
       "      <td>2.0</td>\n",
       "      <td>5.0</td>\n",
       "      <td>0.794712</td>\n",
       "    </tr>\n",
       "    <tr>\n",
       "      <th>4</th>\n",
       "      <td>2.0</td>\n",
       "      <td>6.0</td>\n",
       "      <td>0.811820</td>\n",
       "    </tr>\n",
       "    <tr>\n",
       "      <th>5</th>\n",
       "      <td>2.0</td>\n",
       "      <td>7.0</td>\n",
       "      <td>0.788491</td>\n",
       "    </tr>\n",
       "    <tr>\n",
       "      <th>6</th>\n",
       "      <td>2.0</td>\n",
       "      <td>8.0</td>\n",
       "      <td>0.780715</td>\n",
       "    </tr>\n",
       "    <tr>\n",
       "      <th>7</th>\n",
       "      <td>2.0</td>\n",
       "      <td>9.0</td>\n",
       "      <td>0.776050</td>\n",
       "    </tr>\n",
       "    <tr>\n",
       "      <th>8</th>\n",
       "      <td>2.0</td>\n",
       "      <td>10.0</td>\n",
       "      <td>0.776050</td>\n",
       "    </tr>\n",
       "    <tr>\n",
       "      <th>9</th>\n",
       "      <td>3.0</td>\n",
       "      <td>2.0</td>\n",
       "      <td>0.755832</td>\n",
       "    </tr>\n",
       "  </tbody>\n",
       "</table>\n",
       "</div>"
      ],
      "text/plain": [
       "   n_estimators  max_depth  accuracy\n",
       "0           2.0        2.0  0.748056\n",
       "1           2.0        3.0  0.769829\n",
       "2           2.0        4.0  0.797823\n",
       "3           2.0        5.0  0.794712\n",
       "4           2.0        6.0  0.811820\n",
       "5           2.0        7.0  0.788491\n",
       "6           2.0        8.0  0.780715\n",
       "7           2.0        9.0  0.776050\n",
       "8           2.0       10.0  0.776050\n",
       "9           3.0        2.0  0.755832"
      ]
     },
     "metadata": {},
     "output_type": "display_data"
    }
   ],
   "source": [
    "display(accuracy_df.head(10))"
   ]
  },
  {
   "cell_type": "markdown",
   "metadata": {},
   "source": [
    "Представим данные таблицы accuracy_df в виде сводной таблицы и построим heatma"
   ]
  },
  {
   "cell_type": "code",
   "execution_count": 29,
   "metadata": {},
   "outputs": [
    {
     "data": {
      "image/png": "[encoded data removed]",
      "text/plain": [
       "<Figure size 1224x432 with 2 Axes>"
      ]
     },
     "metadata": {},
     "output_type": "display_data"
    }
   ],
   "source": [
    "accuracy_pivot = accuracy_df.pivot(\"max_depth\", \"n_estimators\", \"accuracy\")\n",
    "f, ax = plt.subplots(figsize=(17, 6))\n",
    "sns.heatmap(accuracy_pivot, annot=True, fmt=\".2f\", linewidths=.5, ax=ax)\n",
    "ax.set_title(\"Точность модели 'Случайный Лес'\", fontsize=18)\n",
    "plt.show()"
   ]
  },
  {
   "cell_type": "markdown",
   "metadata": {},
   "source": [
    "По данному графику видно, что одно из максимальных значений точности (accuracy=0.82) модель достигает при max_depth=6 и n_estimators=7. Нет смысла далее увеличивать значения этих параметров."
   ]
  },
  {
   "cell_type": "markdown",
   "metadata": {},
   "source": [
    "## Общий вывод"
   ]
  },
  {
   "cell_type": "markdown",
   "metadata": {},
   "source": [
    "1) Данные успешно загружены и проанализированы.\n",
    "Пропусков не обнаружено, типы данных преобразованы в соответствии с хранимой информацией.\n",
    "Сильного перекоса в распределениях признаков не наблюдается.\n",
    "Общая доля выбросов составляет 6.5%. Выбросы не удалены.\n",
    "\n",
    "2) Были проанализированы различные классификационные модели: Решающее дерево, Случайный лес, Логистическая регрессия. Модели обучены на различных сочетаниях гиперпараметров.\n",
    "\n",
    "Наилучшая точность (accuracy) была достигнута для модели Случайного леса:\n",
    "Accuracy на тестовой выборке: 0.81\n",
    "\n",
    "3) Изменение точности Модели 'Случайный лес' было проанализировано при изменении числа деревьев и максимальной глубины дерева.\n",
    "\n",
    "Максимального значения точности (accuracy=0.82) модель достигает при max_depth=6 и n_estimators=7. Нет смысла далее увеличивать значения этих параметров."
   ]
  },
  {
   "cell_type": "markdown",
   "metadata": {},
   "source": [
    "## Чек-лист готовности проекта"
   ]
  },
  {
   "cell_type": "markdown",
   "metadata": {},
   "source": [
    "Поставьте 'x' в выполненных пунктах. Далее нажмите Shift+Enter."
   ]
  },
  {
   "cell_type": "markdown",
   "metadata": {},
   "source": [
    "- [x] Jupyter Notebook открыт\n",
    "- [x] Весь код исполняется без ошибок\n",
    "- [x] Ячейки с кодом расположены в порядке исполнения\n",
    "- [x] Выполнено задание 1: данные загружены и изучены\n",
    "- [x] Выполнено задание 2: данные разбиты на три выборки\n",
    "- [x] Выполнено задание 3: проведено исследование моделей\n",
    "    - [x] Рассмотрено больше одной модели\n",
    "    - [x] Рассмотрено хотя бы 3 значения гипепараметров для какой-нибудь модели\n",
    "    - [x] Написаны выводы по результатам исследования\n",
    "- [x] Выполнено задание 3: Проведено тестирование\n",
    "- [x] Удалось достичь accuracy не меньше 0.75\n"
   ]
  }
 ],
 "metadata": {
  "ExecuteTimeLog": [
   {
    "duration": 2338,
    "start_time": "2022-05-13T16:50:51.199Z"
   },
   {
    "duration": 5,
    "start_time": "2022-05-13T16:54:59.743Z"
   },
   {
    "duration": 42,
    "start_time": "2022-05-13T16:55:21.961Z"
   },
   {
    "duration": 5,
    "start_time": "2022-05-13T16:56:10.259Z"
   },
   {
    "duration": 205,
    "start_time": "2022-05-13T16:56:52.379Z"
   },
   {
    "duration": 34,
    "start_time": "2022-05-13T16:57:17.971Z"
   },
   {
    "duration": 471,
    "start_time": "2022-05-13T16:57:29.893Z"
   },
   {
    "duration": 6,
    "start_time": "2022-05-13T16:57:51.841Z"
   },
   {
    "duration": 1421,
    "start_time": "2022-05-13T16:58:08.688Z"
   },
   {
    "duration": 5,
    "start_time": "2022-05-13T16:59:33.363Z"
   },
   {
    "duration": 1423,
    "start_time": "2022-05-13T16:59:40.331Z"
   },
   {
    "duration": 5,
    "start_time": "2022-05-13T17:00:42.892Z"
   },
   {
    "duration": 4,
    "start_time": "2022-05-13T17:01:12.932Z"
   },
   {
    "duration": 195,
    "start_time": "2022-05-13T17:01:28.392Z"
   },
   {
    "duration": 23,
    "start_time": "2022-05-13T17:01:49.874Z"
   },
   {
    "duration": 5,
    "start_time": "2022-05-13T17:07:15.491Z"
   },
   {
    "duration": 8,
    "start_time": "2022-05-13T17:07:43.663Z"
   },
   {
    "duration": 5626,
    "start_time": "2022-05-13T17:11:02.091Z"
   },
   {
    "duration": 5,
    "start_time": "2022-05-13T17:11:18.144Z"
   },
   {
    "duration": 2039,
    "start_time": "2022-05-13T17:13:39.810Z"
   },
   {
    "duration": 41,
    "start_time": "2022-05-13T17:13:41.851Z"
   },
   {
    "duration": 5,
    "start_time": "2022-05-13T17:13:41.894Z"
   },
   {
    "duration": 33,
    "start_time": "2022-05-13T17:13:41.900Z"
   },
   {
    "duration": 16,
    "start_time": "2022-05-13T17:13:41.936Z"
   },
   {
    "duration": 1346,
    "start_time": "2022-05-13T17:13:41.954Z"
   },
   {
    "duration": 5,
    "start_time": "2022-05-13T17:13:43.302Z"
   },
   {
    "duration": 27,
    "start_time": "2022-05-13T17:13:43.309Z"
   },
   {
    "duration": 45,
    "start_time": "2022-05-13T17:13:43.337Z"
   },
   {
    "duration": 4,
    "start_time": "2022-05-13T17:13:43.384Z"
   },
   {
    "duration": 19,
    "start_time": "2022-05-13T17:13:43.390Z"
   },
   {
    "duration": 4116,
    "start_time": "2022-05-13T17:13:43.411Z"
   },
   {
    "duration": 5,
    "start_time": "2022-05-13T17:13:47.529Z"
   },
   {
    "duration": 31434,
    "start_time": "2022-05-13T17:16:28.225Z"
   },
   {
    "duration": 5,
    "start_time": "2022-05-13T17:16:59.661Z"
   },
   {
    "duration": 31024,
    "start_time": "2022-05-13T17:16:59.669Z"
   },
   {
    "duration": 4,
    "start_time": "2022-05-13T17:17:34.453Z"
   },
   {
    "duration": 60,
    "start_time": "2022-05-13T17:21:44.573Z"
   },
   {
    "duration": 19669,
    "start_time": "2022-05-13T17:23:09.201Z"
   },
   {
    "duration": 13,
    "start_time": "2022-05-13T17:23:32.283Z"
   },
   {
    "duration": 2508,
    "start_time": "2022-05-13T17:23:58.323Z"
   }
  ],
  "kernelspec": {
   "display_name": "Python 3 (ipykernel)",
   "language": "python",
   "name": "python3"
  },
  "language_info": {
   "codemirror_mode": {
    "name": "ipython",
    "version": 3
   },
   "file_extension": ".py",
   "mimetype": "text/x-python",
   "name": "python",
   "nbconvert_exporter": "python",
   "pygments_lexer": "ipython3",
   "version": "3.9.5"
  },
  "toc": {
   "base_numbering": 1,
   "nav_menu": {},
   "number_sections": true,
   "sideBar": true,
   "skip_h1_title": true,
   "title_cell": "Table of Contents",
   "title_sidebar": "Contents",
   "toc_cell": false,
   "toc_position": {},
   "toc_section_display": true,
   "toc_window_display": false
  }
 },
 "nbformat": 4,
 "nbformat_minor": 2
}
