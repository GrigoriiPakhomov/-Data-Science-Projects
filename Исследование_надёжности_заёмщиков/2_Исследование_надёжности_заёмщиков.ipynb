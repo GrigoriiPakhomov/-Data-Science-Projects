{
 "cells": [
  {
   "cell_type": "markdown",
   "id": "bf3bad9e",
   "metadata": {},
   "source": [
    "# Исследование надежности заемщиков."
   ]
  },
  {
   "cell_type": "markdown",
   "id": "9379554a",
   "metadata": {},
   "source": [
    "### Шаг 1. Обзор данных"
   ]
  },
  {
   "cell_type": "code",
   "execution_count": 1,
   "id": "a23bc0bf",
   "metadata": {},
   "outputs": [
    {
     "data": {
      "text/html": [
       "<div>\n",
       "<style scoped>\n",
       "    .dataframe tbody tr th:only-of-type {\n",
       "        vertical-align: middle;\n",
       "    }\n",
       "\n",
       "    .dataframe tbody tr th {\n",
       "        vertical-align: top;\n",
       "    }\n",
       "\n",
       "    .dataframe thead th {\n",
       "        text-align: right;\n",
       "    }\n",
       "</style>\n",
       "<table border=\"1\" class=\"dataframe\">\n",
       "  <thead>\n",
       "    <tr style=\"text-align: right;\">\n",
       "      <th></th>\n",
       "      <th>children</th>\n",
       "      <th>days_employed</th>\n",
       "      <th>dob_years</th>\n",
       "      <th>education</th>\n",
       "      <th>education_id</th>\n",
       "      <th>family_status</th>\n",
       "      <th>family_status_id</th>\n",
       "      <th>gender</th>\n",
       "      <th>income_type</th>\n",
       "      <th>debt</th>\n",
       "      <th>total_income</th>\n",
       "      <th>purpose</th>\n",
       "    </tr>\n",
       "  </thead>\n",
       "  <tbody>\n",
       "    <tr>\n",
       "      <th>0</th>\n",
       "      <td>1</td>\n",
       "      <td>-8437.673028</td>\n",
       "      <td>42</td>\n",
       "      <td>высшее</td>\n",
       "      <td>0</td>\n",
       "      <td>женат / замужем</td>\n",
       "      <td>0</td>\n",
       "      <td>F</td>\n",
       "      <td>сотрудник</td>\n",
       "      <td>0</td>\n",
       "      <td>253875.639453</td>\n",
       "      <td>покупка жилья</td>\n",
       "    </tr>\n",
       "    <tr>\n",
       "      <th>1</th>\n",
       "      <td>1</td>\n",
       "      <td>-4024.803754</td>\n",
       "      <td>36</td>\n",
       "      <td>среднее</td>\n",
       "      <td>1</td>\n",
       "      <td>женат / замужем</td>\n",
       "      <td>0</td>\n",
       "      <td>F</td>\n",
       "      <td>сотрудник</td>\n",
       "      <td>0</td>\n",
       "      <td>112080.014102</td>\n",
       "      <td>приобретение автомобиля</td>\n",
       "    </tr>\n",
       "    <tr>\n",
       "      <th>2</th>\n",
       "      <td>0</td>\n",
       "      <td>-5623.422610</td>\n",
       "      <td>33</td>\n",
       "      <td>Среднее</td>\n",
       "      <td>1</td>\n",
       "      <td>женат / замужем</td>\n",
       "      <td>0</td>\n",
       "      <td>M</td>\n",
       "      <td>сотрудник</td>\n",
       "      <td>0</td>\n",
       "      <td>145885.952297</td>\n",
       "      <td>покупка жилья</td>\n",
       "    </tr>\n",
       "    <tr>\n",
       "      <th>3</th>\n",
       "      <td>3</td>\n",
       "      <td>-4124.747207</td>\n",
       "      <td>32</td>\n",
       "      <td>среднее</td>\n",
       "      <td>1</td>\n",
       "      <td>женат / замужем</td>\n",
       "      <td>0</td>\n",
       "      <td>M</td>\n",
       "      <td>сотрудник</td>\n",
       "      <td>0</td>\n",
       "      <td>267628.550329</td>\n",
       "      <td>дополнительное образование</td>\n",
       "    </tr>\n",
       "    <tr>\n",
       "      <th>4</th>\n",
       "      <td>0</td>\n",
       "      <td>340266.072047</td>\n",
       "      <td>53</td>\n",
       "      <td>среднее</td>\n",
       "      <td>1</td>\n",
       "      <td>гражданский брак</td>\n",
       "      <td>1</td>\n",
       "      <td>F</td>\n",
       "      <td>пенсионер</td>\n",
       "      <td>0</td>\n",
       "      <td>158616.077870</td>\n",
       "      <td>сыграть свадьбу</td>\n",
       "    </tr>\n",
       "    <tr>\n",
       "      <th>5</th>\n",
       "      <td>0</td>\n",
       "      <td>-926.185831</td>\n",
       "      <td>27</td>\n",
       "      <td>высшее</td>\n",
       "      <td>0</td>\n",
       "      <td>гражданский брак</td>\n",
       "      <td>1</td>\n",
       "      <td>M</td>\n",
       "      <td>компаньон</td>\n",
       "      <td>0</td>\n",
       "      <td>255763.565419</td>\n",
       "      <td>покупка жилья</td>\n",
       "    </tr>\n",
       "    <tr>\n",
       "      <th>6</th>\n",
       "      <td>0</td>\n",
       "      <td>-2879.202052</td>\n",
       "      <td>43</td>\n",
       "      <td>высшее</td>\n",
       "      <td>0</td>\n",
       "      <td>женат / замужем</td>\n",
       "      <td>0</td>\n",
       "      <td>F</td>\n",
       "      <td>компаньон</td>\n",
       "      <td>0</td>\n",
       "      <td>240525.971920</td>\n",
       "      <td>операции с жильем</td>\n",
       "    </tr>\n",
       "    <tr>\n",
       "      <th>7</th>\n",
       "      <td>0</td>\n",
       "      <td>-152.779569</td>\n",
       "      <td>50</td>\n",
       "      <td>СРЕДНЕЕ</td>\n",
       "      <td>1</td>\n",
       "      <td>женат / замужем</td>\n",
       "      <td>0</td>\n",
       "      <td>M</td>\n",
       "      <td>сотрудник</td>\n",
       "      <td>0</td>\n",
       "      <td>135823.934197</td>\n",
       "      <td>образование</td>\n",
       "    </tr>\n",
       "    <tr>\n",
       "      <th>8</th>\n",
       "      <td>2</td>\n",
       "      <td>-6929.865299</td>\n",
       "      <td>35</td>\n",
       "      <td>ВЫСШЕЕ</td>\n",
       "      <td>0</td>\n",
       "      <td>гражданский брак</td>\n",
       "      <td>1</td>\n",
       "      <td>F</td>\n",
       "      <td>сотрудник</td>\n",
       "      <td>0</td>\n",
       "      <td>95856.832424</td>\n",
       "      <td>на проведение свадьбы</td>\n",
       "    </tr>\n",
       "    <tr>\n",
       "      <th>9</th>\n",
       "      <td>0</td>\n",
       "      <td>-2188.756445</td>\n",
       "      <td>41</td>\n",
       "      <td>среднее</td>\n",
       "      <td>1</td>\n",
       "      <td>женат / замужем</td>\n",
       "      <td>0</td>\n",
       "      <td>M</td>\n",
       "      <td>сотрудник</td>\n",
       "      <td>0</td>\n",
       "      <td>144425.938277</td>\n",
       "      <td>покупка жилья для семьи</td>\n",
       "    </tr>\n",
       "  </tbody>\n",
       "</table>\n",
       "</div>"
      ],
      "text/plain": [
       "   children  days_employed  dob_years education  education_id  \\\n",
       "0         1   -8437.673028         42    высшее             0   \n",
       "1         1   -4024.803754         36   среднее             1   \n",
       "2         0   -5623.422610         33   Среднее             1   \n",
       "3         3   -4124.747207         32   среднее             1   \n",
       "4         0  340266.072047         53   среднее             1   \n",
       "5         0    -926.185831         27    высшее             0   \n",
       "6         0   -2879.202052         43    высшее             0   \n",
       "7         0    -152.779569         50   СРЕДНЕЕ             1   \n",
       "8         2   -6929.865299         35    ВЫСШЕЕ             0   \n",
       "9         0   -2188.756445         41   среднее             1   \n",
       "\n",
       "      family_status  family_status_id gender income_type  debt   total_income  \\\n",
       "0   женат / замужем                 0      F   сотрудник     0  253875.639453   \n",
       "1   женат / замужем                 0      F   сотрудник     0  112080.014102   \n",
       "2   женат / замужем                 0      M   сотрудник     0  145885.952297   \n",
       "3   женат / замужем                 0      M   сотрудник     0  267628.550329   \n",
       "4  гражданский брак                 1      F   пенсионер     0  158616.077870   \n",
       "5  гражданский брак                 1      M   компаньон     0  255763.565419   \n",
       "6   женат / замужем                 0      F   компаньон     0  240525.971920   \n",
       "7   женат / замужем                 0      M   сотрудник     0  135823.934197   \n",
       "8  гражданский брак                 1      F   сотрудник     0   95856.832424   \n",
       "9   женат / замужем                 0      M   сотрудник     0  144425.938277   \n",
       "\n",
       "                      purpose  \n",
       "0               покупка жилья  \n",
       "1     приобретение автомобиля  \n",
       "2               покупка жилья  \n",
       "3  дополнительное образование  \n",
       "4             сыграть свадьбу  \n",
       "5               покупка жилья  \n",
       "6           операции с жильем  \n",
       "7                 образование  \n",
       "8       на проведение свадьбы  \n",
       "9     покупка жилья для семьи  "
      ]
     },
     "metadata": {},
     "output_type": "display_data"
    }
   ],
   "source": [
    "# подключаем библиотеку pandas для работы с таблицами\n",
    "import pandas as pd\n",
    "from IPython.display import display\n",
    "# читаем данные из файла .csv с помощью метода read_csv() \n",
    "df = pd.read_csv('/datasets/data.csv')\n",
    "# выводим первые 5 строк таблицы с помощью метода head() \n",
    "display(df.head(10))"
   ]
  },
  {
   "cell_type": "code",
   "execution_count": 2,
   "id": "83683095",
   "metadata": {},
   "outputs": [
    {
     "name": "stdout",
     "output_type": "stream",
     "text": [
      "<class 'pandas.core.frame.DataFrame'>\n",
      "RangeIndex: 21525 entries, 0 to 21524\n",
      "Data columns (total 12 columns):\n",
      " #   Column            Non-Null Count  Dtype  \n",
      "---  ------            --------------  -----  \n",
      " 0   children          21525 non-null  int64  \n",
      " 1   days_employed     19351 non-null  float64\n",
      " 2   dob_years         21525 non-null  int64  \n",
      " 3   education         21525 non-null  object \n",
      " 4   education_id      21525 non-null  int64  \n",
      " 5   family_status     21525 non-null  object \n",
      " 6   family_status_id  21525 non-null  int64  \n",
      " 7   gender            21525 non-null  object \n",
      " 8   income_type       21525 non-null  object \n",
      " 9   debt              21525 non-null  int64  \n",
      " 10  total_income      19351 non-null  float64\n",
      " 11  purpose           21525 non-null  object \n",
      "dtypes: float64(2), int64(5), object(5)\n",
      "memory usage: 2.0+ MB\n"
     ]
    }
   ],
   "source": [
    "# с помощью метода info() изучим структуру таблицы: Типы данных, колличество строк, столбцов, пропущенных данных.\n",
    " \n",
    "df.info()"
   ]
  },
  {
   "cell_type": "markdown",
   "id": "0d4218ba",
   "metadata": {},
   "source": [
    "### Шаг 2.1 Заполнение пропусков"
   ]
  },
  {
   "cell_type": "markdown",
   "id": "f37a6eac",
   "metadata": {},
   "source": [
    "Таблица данных состоит из 21525 строк и 12 столбцов. Данные пропущены в столбцах days_employed(общий трудовой стаж в днях) и total_income(ежемесячный доход). Причём колличество пропущенных данных одинаково"
   ]
  },
  {
   "cell_type": "code",
   "execution_count": 3,
   "id": "9d3b478b",
   "metadata": {},
   "outputs": [
    {
     "name": "stdout",
     "output_type": "stream",
     "text": [
      "Колличество строк с пропущенным трудовым стажем: 2174\n"
     ]
    },
    {
     "data": {
      "text/html": [
       "<div>\n",
       "<style scoped>\n",
       "    .dataframe tbody tr th:only-of-type {\n",
       "        vertical-align: middle;\n",
       "    }\n",
       "\n",
       "    .dataframe tbody tr th {\n",
       "        vertical-align: top;\n",
       "    }\n",
       "\n",
       "    .dataframe thead th {\n",
       "        text-align: right;\n",
       "    }\n",
       "</style>\n",
       "<table border=\"1\" class=\"dataframe\">\n",
       "  <thead>\n",
       "    <tr style=\"text-align: right;\">\n",
       "      <th></th>\n",
       "      <th>children</th>\n",
       "      <th>days_employed</th>\n",
       "      <th>dob_years</th>\n",
       "      <th>education</th>\n",
       "      <th>education_id</th>\n",
       "      <th>family_status</th>\n",
       "      <th>family_status_id</th>\n",
       "      <th>gender</th>\n",
       "      <th>income_type</th>\n",
       "      <th>debt</th>\n",
       "      <th>total_income</th>\n",
       "      <th>purpose</th>\n",
       "    </tr>\n",
       "  </thead>\n",
       "  <tbody>\n",
       "  </tbody>\n",
       "</table>\n",
       "</div>"
      ],
      "text/plain": [
       "Empty DataFrame\n",
       "Columns: [children, days_employed, dob_years, education, education_id, family_status, family_status_id, gender, income_type, debt, total_income, purpose]\n",
       "Index: []"
      ]
     },
     "metadata": {},
     "output_type": "display_data"
    }
   ],
   "source": [
    "# сохраним в переменной missed_days_employed все строки с пропущенным значением 'days_employed'\n",
    "missed_days_employed = df.loc[df['days_employed'].isnull()]\n",
    "print('Колличество строк с пропущенным трудовым стажем:', len(missed_days_employed))\n",
    "# проверим, что для всех этих строк значения в 'total_income' также пропущены\n",
    "display(missed_days_employed.loc[missed_days_employed['total_income'].isnull() == False])"
   ]
  },
  {
   "cell_type": "markdown",
   "id": "ef685ffb",
   "metadata": {},
   "source": [
    "Около 10% - такую долю составляют пропущенные значения в каждом из столбцов с пропусками.\n",
    "Причиной возникновения пропусков неизвестны, но возможно это человеческий фактор при выгрузке или записи данных."
   ]
  },
  {
   "cell_type": "code",
   "execution_count": 4,
   "id": "9c80c4a5",
   "metadata": {},
   "outputs": [],
   "source": [
    "#найдем  медиану дохода и стажа соотв.\n",
    "total_income_median = df['total_income'].median()\n",
    "days_employed_median = df['days_employed'].median()\n",
    "\n",
    "#заменим отрицательные числа на положительные в стаже\n",
    "def test(value):\n",
    "    if value < 0:\n",
    "        value *= -1\n",
    "        return value\n",
    "    else:\n",
    "        return value\n",
    "df['days_employed'] = df['days_employed'].apply(test)\n",
    "df['days_employed'] = df['days_employed'].fillna(days_employed_median)\n",
    "df['total_income'] = df['total_income'].fillna(total_income_median)"
   ]
  },
  {
   "cell_type": "markdown",
   "id": "9c954062",
   "metadata": {},
   "source": [
    "### Шаг 2.2 Проверка данных на аномалии и исправления."
   ]
  },
  {
   "cell_type": "code",
   "execution_count": 5,
   "id": "481a5e7d",
   "metadata": {},
   "outputs": [
    {
     "name": "stdout",
     "output_type": "stream",
     "text": [
      "Колличество строк с неверным трудовым стажем: 3445\n",
      "Колличество строк с отрицательным трудовым стажем: 3445\n"
     ]
    }
   ],
   "source": [
    "# с помощью метода loc[] и логической операции отберем записи с 'days_employed' > 30000 и выведем колличество записей с помощью функции len()\n",
    "wrong_days_employed = len(df.loc[df['days_employed'] > 30000])\n",
    "print('Колличество строк с неверным трудовым стажем:', wrong_days_employed)\n",
    "# аналогично найдем колличество строк с отрицательным тррудовым стажем.\n",
    "neg_days_employed = len(df.loc[df['days_employed'] < 0])\n",
    "print('Колличество строк с отрицательным трудовым стажем:', wrong_days_employed)"
   ]
  },
  {
   "cell_type": "markdown",
   "id": "a873fd3c",
   "metadata": {},
   "source": [
    "Колличество трудовых дней может быть только целым числом.\n",
    "Преобразуем типы данных в столбцt days_employed c float64 на целочисленный int64.\n",
    "Преобразование проведем методом astype(). Он произведет изменение типа для вещественных чисел и выдаст ошибку, если данные изначально были введены некорректно (например, если встретятся данные в виде строк вместо вещественных чисел)"
   ]
  },
  {
   "cell_type": "code",
   "execution_count": 6,
   "id": "6a499b64",
   "metadata": {},
   "outputs": [],
   "source": [
    "# типы данных преобразуем методом .astype(), с помощью try-except отслеживаем некорректные типы данных\n",
    "try:\n",
    "    df['days_employed'] = df['days_employed'].astype('int64')\n",
    "except:\n",
    "    print('Некорректный тип данных. Пожалуйста, убедитесь, что данные хранятся в виде вещественных чисел')"
   ]
  },
  {
   "cell_type": "markdown",
   "id": "5d5b1ae4",
   "metadata": {},
   "source": [
    "### Шаг 2.3. Изменение типов данных."
   ]
  },
  {
   "cell_type": "code",
   "execution_count": 7,
   "id": "1a6d96e3",
   "metadata": {},
   "outputs": [],
   "source": [
    "#Замените вещественный тип данных в столбце total_income на целочисленный\n",
    "df['total_income'] = df['total_income'].astype('int64')"
   ]
  },
  {
   "cell_type": "markdown",
   "id": "137c3e03",
   "metadata": {},
   "source": [
    "### Шаг 2.4. Удаление дубликатов."
   ]
  },
  {
   "cell_type": "markdown",
   "id": "6067e30f",
   "metadata": {},
   "source": [
    "Для поиска дубликатов сперва преобразуем все строковые типы данных к нижнему регистру.\n",
    "Затем посчитаем колличество дублированных строк и выведем их для анализа."
   ]
  },
  {
   "cell_type": "code",
   "execution_count": 8,
   "id": "9b4cc795",
   "metadata": {},
   "outputs": [
    {
     "name": "stdout",
     "output_type": "stream",
     "text": [
      "Колличество дублированных данных:  71\n"
     ]
    }
   ],
   "source": [
    "# для преобразования к нижнему регистру используем метод str.lower() затем запишем преобразованные данные в таблицу\n",
    "df['education'] = df['education'].str.lower()\n",
    "df['family_status'] = df['family_status'].str.lower()\n",
    "print('Колличество дублированных данных: ', df.duplicated().sum())"
   ]
  },
  {
   "cell_type": "code",
   "execution_count": 9,
   "id": "66b040b1",
   "metadata": {},
   "outputs": [
    {
     "data": {
      "text/html": [
       "<div>\n",
       "<style scoped>\n",
       "    .dataframe tbody tr th:only-of-type {\n",
       "        vertical-align: middle;\n",
       "    }\n",
       "\n",
       "    .dataframe tbody tr th {\n",
       "        vertical-align: top;\n",
       "    }\n",
       "\n",
       "    .dataframe thead th {\n",
       "        text-align: right;\n",
       "    }\n",
       "</style>\n",
       "<table border=\"1\" class=\"dataframe\">\n",
       "  <thead>\n",
       "    <tr style=\"text-align: right;\">\n",
       "      <th></th>\n",
       "      <th>children</th>\n",
       "      <th>days_employed</th>\n",
       "      <th>dob_years</th>\n",
       "      <th>education</th>\n",
       "      <th>education_id</th>\n",
       "      <th>family_status</th>\n",
       "      <th>family_status_id</th>\n",
       "      <th>gender</th>\n",
       "      <th>income_type</th>\n",
       "      <th>debt</th>\n",
       "      <th>total_income</th>\n",
       "      <th>purpose</th>\n",
       "    </tr>\n",
       "  </thead>\n",
       "  <tbody>\n",
       "    <tr>\n",
       "      <th>2849</th>\n",
       "      <td>0</td>\n",
       "      <td>-1203</td>\n",
       "      <td>41</td>\n",
       "      <td>среднее</td>\n",
       "      <td>1</td>\n",
       "      <td>женат / замужем</td>\n",
       "      <td>0</td>\n",
       "      <td>F</td>\n",
       "      <td>сотрудник</td>\n",
       "      <td>0</td>\n",
       "      <td>145017</td>\n",
       "      <td>покупка жилья для семьи</td>\n",
       "    </tr>\n",
       "    <tr>\n",
       "      <th>3290</th>\n",
       "      <td>0</td>\n",
       "      <td>-1203</td>\n",
       "      <td>58</td>\n",
       "      <td>среднее</td>\n",
       "      <td>1</td>\n",
       "      <td>гражданский брак</td>\n",
       "      <td>1</td>\n",
       "      <td>F</td>\n",
       "      <td>пенсионер</td>\n",
       "      <td>0</td>\n",
       "      <td>145017</td>\n",
       "      <td>сыграть свадьбу</td>\n",
       "    </tr>\n",
       "    <tr>\n",
       "      <th>4182</th>\n",
       "      <td>1</td>\n",
       "      <td>-1203</td>\n",
       "      <td>34</td>\n",
       "      <td>высшее</td>\n",
       "      <td>0</td>\n",
       "      <td>гражданский брак</td>\n",
       "      <td>1</td>\n",
       "      <td>F</td>\n",
       "      <td>сотрудник</td>\n",
       "      <td>0</td>\n",
       "      <td>145017</td>\n",
       "      <td>свадьба</td>\n",
       "    </tr>\n",
       "    <tr>\n",
       "      <th>4851</th>\n",
       "      <td>0</td>\n",
       "      <td>-1203</td>\n",
       "      <td>60</td>\n",
       "      <td>среднее</td>\n",
       "      <td>1</td>\n",
       "      <td>гражданский брак</td>\n",
       "      <td>1</td>\n",
       "      <td>F</td>\n",
       "      <td>пенсионер</td>\n",
       "      <td>0</td>\n",
       "      <td>145017</td>\n",
       "      <td>свадьба</td>\n",
       "    </tr>\n",
       "    <tr>\n",
       "      <th>5557</th>\n",
       "      <td>0</td>\n",
       "      <td>-1203</td>\n",
       "      <td>58</td>\n",
       "      <td>среднее</td>\n",
       "      <td>1</td>\n",
       "      <td>гражданский брак</td>\n",
       "      <td>1</td>\n",
       "      <td>F</td>\n",
       "      <td>пенсионер</td>\n",
       "      <td>0</td>\n",
       "      <td>145017</td>\n",
       "      <td>сыграть свадьбу</td>\n",
       "    </tr>\n",
       "    <tr>\n",
       "      <th>6312</th>\n",
       "      <td>0</td>\n",
       "      <td>-1203</td>\n",
       "      <td>30</td>\n",
       "      <td>среднее</td>\n",
       "      <td>1</td>\n",
       "      <td>женат / замужем</td>\n",
       "      <td>0</td>\n",
       "      <td>M</td>\n",
       "      <td>сотрудник</td>\n",
       "      <td>0</td>\n",
       "      <td>145017</td>\n",
       "      <td>строительство жилой недвижимости</td>\n",
       "    </tr>\n",
       "    <tr>\n",
       "      <th>7808</th>\n",
       "      <td>0</td>\n",
       "      <td>-1203</td>\n",
       "      <td>57</td>\n",
       "      <td>среднее</td>\n",
       "      <td>1</td>\n",
       "      <td>гражданский брак</td>\n",
       "      <td>1</td>\n",
       "      <td>F</td>\n",
       "      <td>пенсионер</td>\n",
       "      <td>0</td>\n",
       "      <td>145017</td>\n",
       "      <td>на проведение свадьбы</td>\n",
       "    </tr>\n",
       "    <tr>\n",
       "      <th>7921</th>\n",
       "      <td>0</td>\n",
       "      <td>-1203</td>\n",
       "      <td>64</td>\n",
       "      <td>высшее</td>\n",
       "      <td>0</td>\n",
       "      <td>гражданский брак</td>\n",
       "      <td>1</td>\n",
       "      <td>F</td>\n",
       "      <td>пенсионер</td>\n",
       "      <td>0</td>\n",
       "      <td>145017</td>\n",
       "      <td>на проведение свадьбы</td>\n",
       "    </tr>\n",
       "    <tr>\n",
       "      <th>7938</th>\n",
       "      <td>0</td>\n",
       "      <td>-1203</td>\n",
       "      <td>71</td>\n",
       "      <td>среднее</td>\n",
       "      <td>1</td>\n",
       "      <td>гражданский брак</td>\n",
       "      <td>1</td>\n",
       "      <td>F</td>\n",
       "      <td>пенсионер</td>\n",
       "      <td>0</td>\n",
       "      <td>145017</td>\n",
       "      <td>на проведение свадьбы</td>\n",
       "    </tr>\n",
       "    <tr>\n",
       "      <th>8583</th>\n",
       "      <td>0</td>\n",
       "      <td>-1203</td>\n",
       "      <td>58</td>\n",
       "      <td>высшее</td>\n",
       "      <td>0</td>\n",
       "      <td>не женат / не замужем</td>\n",
       "      <td>4</td>\n",
       "      <td>F</td>\n",
       "      <td>пенсионер</td>\n",
       "      <td>0</td>\n",
       "      <td>145017</td>\n",
       "      <td>дополнительное образование</td>\n",
       "    </tr>\n",
       "  </tbody>\n",
       "</table>\n",
       "</div>"
      ],
      "text/plain": [
       "      children  days_employed  dob_years education  education_id  \\\n",
       "2849         0          -1203         41   среднее             1   \n",
       "3290         0          -1203         58   среднее             1   \n",
       "4182         1          -1203         34    высшее             0   \n",
       "4851         0          -1203         60   среднее             1   \n",
       "5557         0          -1203         58   среднее             1   \n",
       "6312         0          -1203         30   среднее             1   \n",
       "7808         0          -1203         57   среднее             1   \n",
       "7921         0          -1203         64    высшее             0   \n",
       "7938         0          -1203         71   среднее             1   \n",
       "8583         0          -1203         58    высшее             0   \n",
       "\n",
       "              family_status  family_status_id gender income_type  debt  \\\n",
       "2849        женат / замужем                 0      F   сотрудник     0   \n",
       "3290       гражданский брак                 1      F   пенсионер     0   \n",
       "4182       гражданский брак                 1      F   сотрудник     0   \n",
       "4851       гражданский брак                 1      F   пенсионер     0   \n",
       "5557       гражданский брак                 1      F   пенсионер     0   \n",
       "6312        женат / замужем                 0      M   сотрудник     0   \n",
       "7808       гражданский брак                 1      F   пенсионер     0   \n",
       "7921       гражданский брак                 1      F   пенсионер     0   \n",
       "7938       гражданский брак                 1      F   пенсионер     0   \n",
       "8583  не женат / не замужем                 4      F   пенсионер     0   \n",
       "\n",
       "      total_income                           purpose  \n",
       "2849        145017           покупка жилья для семьи  \n",
       "3290        145017                   сыграть свадьбу  \n",
       "4182        145017                           свадьба  \n",
       "4851        145017                           свадьба  \n",
       "5557        145017                   сыграть свадьбу  \n",
       "6312        145017  строительство жилой недвижимости  \n",
       "7808        145017             на проведение свадьбы  \n",
       "7921        145017             на проведение свадьбы  \n",
       "7938        145017             на проведение свадьбы  \n",
       "8583        145017        дополнительное образование  "
      ]
     },
     "metadata": {},
     "output_type": "display_data"
    }
   ],
   "source": [
    "display(df.loc[df.duplicated()].head(10))"
   ]
  },
  {
   "cell_type": "markdown",
   "id": "8dfcce07",
   "metadata": {},
   "source": [
    "Все дублированные данные являются строками, в которых ранее были обработаны пропущенные значения. Поскольку в таблице нет уникальных идентификаторов клиентов, невозможно точно отверждать: данные дублированы или информация по разным клиентам совпала случайным образом.\n",
    "Возможные причины появления дубликатов: повторное заполнение или сохранение данных о клиенте в базе данных, сбой в системе при копировании/выгрузке базы данных."
   ]
  },
  {
   "cell_type": "code",
   "execution_count": 10,
   "id": "aa1c3f19",
   "metadata": {},
   "outputs": [
    {
     "name": "stdout",
     "output_type": "stream",
     "text": [
      "Колличество строк после удаления дубликатов: 21454\n"
     ]
    }
   ],
   "source": [
    "#Удалим дублированные строки в учебных целях. Для этого используем метод drop_duplicates() и восстановим индексы после удаления строк методом reset_index()\n",
    "df = df.drop_duplicates().reset_index(drop = True)\n",
    "print('Колличество строк после удаления дубликатов:', len(df))"
   ]
  },
  {
   "cell_type": "markdown",
   "id": "14f71fcf",
   "metadata": {},
   "source": [
    "### Шаг 2.5. Формирование дополнительных датафреймов словарей, декомпозиция исходного датафрейма."
   ]
  },
  {
   "cell_type": "code",
   "execution_count": 11,
   "id": "3dfdd509",
   "metadata": {},
   "outputs": [
    {
     "data": {
      "text/html": [
       "<div>\n",
       "<style scoped>\n",
       "    .dataframe tbody tr th:only-of-type {\n",
       "        vertical-align: middle;\n",
       "    }\n",
       "\n",
       "    .dataframe tbody tr th {\n",
       "        vertical-align: top;\n",
       "    }\n",
       "\n",
       "    .dataframe thead th {\n",
       "        text-align: right;\n",
       "    }\n",
       "</style>\n",
       "<table border=\"1\" class=\"dataframe\">\n",
       "  <thead>\n",
       "    <tr style=\"text-align: right;\">\n",
       "      <th></th>\n",
       "      <th>family_status</th>\n",
       "      <th>family_status_id</th>\n",
       "    </tr>\n",
       "  </thead>\n",
       "  <tbody>\n",
       "    <tr>\n",
       "      <th>0</th>\n",
       "      <td>женат / замужем</td>\n",
       "      <td>0</td>\n",
       "    </tr>\n",
       "    <tr>\n",
       "      <th>1</th>\n",
       "      <td>гражданский брак</td>\n",
       "      <td>1</td>\n",
       "    </tr>\n",
       "    <tr>\n",
       "      <th>2</th>\n",
       "      <td>вдовец / вдова</td>\n",
       "      <td>2</td>\n",
       "    </tr>\n",
       "    <tr>\n",
       "      <th>3</th>\n",
       "      <td>в разводе</td>\n",
       "      <td>3</td>\n",
       "    </tr>\n",
       "    <tr>\n",
       "      <th>4</th>\n",
       "      <td>не женат / не замужем</td>\n",
       "      <td>4</td>\n",
       "    </tr>\n",
       "  </tbody>\n",
       "</table>\n",
       "</div>"
      ],
      "text/plain": [
       "           family_status  family_status_id\n",
       "0        женат / замужем                 0\n",
       "1       гражданский брак                 1\n",
       "2         вдовец / вдова                 2\n",
       "3              в разводе                 3\n",
       "4  не женат / не замужем                 4"
      ]
     },
     "metadata": {},
     "output_type": "display_data"
    },
    {
     "data": {
      "text/html": [
       "<div>\n",
       "<style scoped>\n",
       "    .dataframe tbody tr th:only-of-type {\n",
       "        vertical-align: middle;\n",
       "    }\n",
       "\n",
       "    .dataframe tbody tr th {\n",
       "        vertical-align: top;\n",
       "    }\n",
       "\n",
       "    .dataframe thead th {\n",
       "        text-align: right;\n",
       "    }\n",
       "</style>\n",
       "<table border=\"1\" class=\"dataframe\">\n",
       "  <thead>\n",
       "    <tr style=\"text-align: right;\">\n",
       "      <th></th>\n",
       "      <th>education</th>\n",
       "      <th>education_id</th>\n",
       "    </tr>\n",
       "  </thead>\n",
       "  <tbody>\n",
       "    <tr>\n",
       "      <th>0</th>\n",
       "      <td>высшее</td>\n",
       "      <td>0</td>\n",
       "    </tr>\n",
       "    <tr>\n",
       "      <th>1</th>\n",
       "      <td>среднее</td>\n",
       "      <td>1</td>\n",
       "    </tr>\n",
       "    <tr>\n",
       "      <th>2</th>\n",
       "      <td>неоконченное высшее</td>\n",
       "      <td>2</td>\n",
       "    </tr>\n",
       "    <tr>\n",
       "      <th>3</th>\n",
       "      <td>начальное</td>\n",
       "      <td>3</td>\n",
       "    </tr>\n",
       "    <tr>\n",
       "      <th>4</th>\n",
       "      <td>ученая степень</td>\n",
       "      <td>4</td>\n",
       "    </tr>\n",
       "  </tbody>\n",
       "</table>\n",
       "</div>"
      ],
      "text/plain": [
       "             education  education_id\n",
       "0               высшее             0\n",
       "1              среднее             1\n",
       "2  неоконченное высшее             2\n",
       "3            начальное             3\n",
       "4       ученая степень             4"
      ]
     },
     "metadata": {},
     "output_type": "display_data"
    }
   ],
   "source": [
    "#создаём новые датафреймы\n",
    "family_status_dict = df[['family_status', 'family_status_id']].drop_duplicates().reset_index(drop=True)\n",
    "display(family_status_dict)\n",
    "education_id_df = df[['education', 'education_id']].drop_duplicates().reset_index(drop=True)\n",
    "display(education_id_df)\n",
    "\n",
    "\n"
   ]
  },
  {
   "cell_type": "code",
   "execution_count": 12,
   "id": "91b6f5cd",
   "metadata": {},
   "outputs": [
    {
     "data": {
      "text/html": [
       "<div>\n",
       "<style scoped>\n",
       "    .dataframe tbody tr th:only-of-type {\n",
       "        vertical-align: middle;\n",
       "    }\n",
       "\n",
       "    .dataframe tbody tr th {\n",
       "        vertical-align: top;\n",
       "    }\n",
       "\n",
       "    .dataframe thead th {\n",
       "        text-align: right;\n",
       "    }\n",
       "</style>\n",
       "<table border=\"1\" class=\"dataframe\">\n",
       "  <thead>\n",
       "    <tr style=\"text-align: right;\">\n",
       "      <th></th>\n",
       "      <th>children</th>\n",
       "      <th>days_employed</th>\n",
       "      <th>dob_years</th>\n",
       "      <th>education_id</th>\n",
       "      <th>family_status_id</th>\n",
       "      <th>gender</th>\n",
       "      <th>income_type</th>\n",
       "      <th>debt</th>\n",
       "      <th>total_income</th>\n",
       "      <th>purpose</th>\n",
       "    </tr>\n",
       "  </thead>\n",
       "  <tbody>\n",
       "    <tr>\n",
       "      <th>0</th>\n",
       "      <td>1</td>\n",
       "      <td>8437</td>\n",
       "      <td>42</td>\n",
       "      <td>0</td>\n",
       "      <td>0</td>\n",
       "      <td>F</td>\n",
       "      <td>сотрудник</td>\n",
       "      <td>0</td>\n",
       "      <td>253875</td>\n",
       "      <td>покупка жилья</td>\n",
       "    </tr>\n",
       "    <tr>\n",
       "      <th>1</th>\n",
       "      <td>1</td>\n",
       "      <td>4024</td>\n",
       "      <td>36</td>\n",
       "      <td>1</td>\n",
       "      <td>0</td>\n",
       "      <td>F</td>\n",
       "      <td>сотрудник</td>\n",
       "      <td>0</td>\n",
       "      <td>112080</td>\n",
       "      <td>приобретение автомобиля</td>\n",
       "    </tr>\n",
       "    <tr>\n",
       "      <th>2</th>\n",
       "      <td>0</td>\n",
       "      <td>5623</td>\n",
       "      <td>33</td>\n",
       "      <td>1</td>\n",
       "      <td>0</td>\n",
       "      <td>M</td>\n",
       "      <td>сотрудник</td>\n",
       "      <td>0</td>\n",
       "      <td>145885</td>\n",
       "      <td>покупка жилья</td>\n",
       "    </tr>\n",
       "    <tr>\n",
       "      <th>3</th>\n",
       "      <td>3</td>\n",
       "      <td>4124</td>\n",
       "      <td>32</td>\n",
       "      <td>1</td>\n",
       "      <td>0</td>\n",
       "      <td>M</td>\n",
       "      <td>сотрудник</td>\n",
       "      <td>0</td>\n",
       "      <td>267628</td>\n",
       "      <td>дополнительное образование</td>\n",
       "    </tr>\n",
       "    <tr>\n",
       "      <th>4</th>\n",
       "      <td>0</td>\n",
       "      <td>340266</td>\n",
       "      <td>53</td>\n",
       "      <td>1</td>\n",
       "      <td>1</td>\n",
       "      <td>F</td>\n",
       "      <td>пенсионер</td>\n",
       "      <td>0</td>\n",
       "      <td>158616</td>\n",
       "      <td>сыграть свадьбу</td>\n",
       "    </tr>\n",
       "    <tr>\n",
       "      <th>5</th>\n",
       "      <td>0</td>\n",
       "      <td>926</td>\n",
       "      <td>27</td>\n",
       "      <td>0</td>\n",
       "      <td>1</td>\n",
       "      <td>M</td>\n",
       "      <td>компаньон</td>\n",
       "      <td>0</td>\n",
       "      <td>255763</td>\n",
       "      <td>покупка жилья</td>\n",
       "    </tr>\n",
       "    <tr>\n",
       "      <th>6</th>\n",
       "      <td>0</td>\n",
       "      <td>2879</td>\n",
       "      <td>43</td>\n",
       "      <td>0</td>\n",
       "      <td>0</td>\n",
       "      <td>F</td>\n",
       "      <td>компаньон</td>\n",
       "      <td>0</td>\n",
       "      <td>240525</td>\n",
       "      <td>операции с жильем</td>\n",
       "    </tr>\n",
       "    <tr>\n",
       "      <th>7</th>\n",
       "      <td>0</td>\n",
       "      <td>152</td>\n",
       "      <td>50</td>\n",
       "      <td>1</td>\n",
       "      <td>0</td>\n",
       "      <td>M</td>\n",
       "      <td>сотрудник</td>\n",
       "      <td>0</td>\n",
       "      <td>135823</td>\n",
       "      <td>образование</td>\n",
       "    </tr>\n",
       "    <tr>\n",
       "      <th>8</th>\n",
       "      <td>2</td>\n",
       "      <td>6929</td>\n",
       "      <td>35</td>\n",
       "      <td>0</td>\n",
       "      <td>1</td>\n",
       "      <td>F</td>\n",
       "      <td>сотрудник</td>\n",
       "      <td>0</td>\n",
       "      <td>95856</td>\n",
       "      <td>на проведение свадьбы</td>\n",
       "    </tr>\n",
       "    <tr>\n",
       "      <th>9</th>\n",
       "      <td>0</td>\n",
       "      <td>2188</td>\n",
       "      <td>41</td>\n",
       "      <td>1</td>\n",
       "      <td>0</td>\n",
       "      <td>M</td>\n",
       "      <td>сотрудник</td>\n",
       "      <td>0</td>\n",
       "      <td>144425</td>\n",
       "      <td>покупка жилья для семьи</td>\n",
       "    </tr>\n",
       "  </tbody>\n",
       "</table>\n",
       "</div>"
      ],
      "text/plain": [
       "   children  days_employed  dob_years  education_id  family_status_id gender  \\\n",
       "0         1           8437         42             0                 0      F   \n",
       "1         1           4024         36             1                 0      F   \n",
       "2         0           5623         33             1                 0      M   \n",
       "3         3           4124         32             1                 0      M   \n",
       "4         0         340266         53             1                 1      F   \n",
       "5         0            926         27             0                 1      M   \n",
       "6         0           2879         43             0                 0      F   \n",
       "7         0            152         50             1                 0      M   \n",
       "8         2           6929         35             0                 1      F   \n",
       "9         0           2188         41             1                 0      M   \n",
       "\n",
       "  income_type  debt  total_income                     purpose  \n",
       "0   сотрудник     0        253875               покупка жилья  \n",
       "1   сотрудник     0        112080     приобретение автомобиля  \n",
       "2   сотрудник     0        145885               покупка жилья  \n",
       "3   сотрудник     0        267628  дополнительное образование  \n",
       "4   пенсионер     0        158616             сыграть свадьбу  \n",
       "5   компаньон     0        255763               покупка жилья  \n",
       "6   компаньон     0        240525           операции с жильем  \n",
       "7   сотрудник     0        135823                 образование  \n",
       "8   сотрудник     0         95856       на проведение свадьбы  \n",
       "9   сотрудник     0        144425     покупка жилья для семьи  "
      ]
     },
     "metadata": {},
     "output_type": "display_data"
    }
   ],
   "source": [
    "# из основного датафрейма удаляем поля family_status и education\n",
    "df = df.drop(['family_status', 'education'], axis = 1)\n",
    "display(df.head(10))\n",
    "\n"
   ]
  },
  {
   "cell_type": "markdown",
   "id": "23c598a3",
   "metadata": {},
   "source": [
    "### Шаг 2.6. Категоризация дохода."
   ]
  },
  {
   "cell_type": "code",
   "execution_count": 13,
   "id": "1bae385b",
   "metadata": {},
   "outputs": [
    {
     "data": {
      "text/html": [
       "<div>\n",
       "<style scoped>\n",
       "    .dataframe tbody tr th:only-of-type {\n",
       "        vertical-align: middle;\n",
       "    }\n",
       "\n",
       "    .dataframe tbody tr th {\n",
       "        vertical-align: top;\n",
       "    }\n",
       "\n",
       "    .dataframe thead th {\n",
       "        text-align: right;\n",
       "    }\n",
       "</style>\n",
       "<table border=\"1\" class=\"dataframe\">\n",
       "  <thead>\n",
       "    <tr style=\"text-align: right;\">\n",
       "      <th></th>\n",
       "      <th>children</th>\n",
       "      <th>days_employed</th>\n",
       "      <th>dob_years</th>\n",
       "      <th>education_id</th>\n",
       "      <th>family_status_id</th>\n",
       "      <th>gender</th>\n",
       "      <th>income_type</th>\n",
       "      <th>debt</th>\n",
       "      <th>total_income</th>\n",
       "      <th>purpose</th>\n",
       "      <th>total_income_category</th>\n",
       "    </tr>\n",
       "  </thead>\n",
       "  <tbody>\n",
       "    <tr>\n",
       "      <th>0</th>\n",
       "      <td>1</td>\n",
       "      <td>8437</td>\n",
       "      <td>42</td>\n",
       "      <td>0</td>\n",
       "      <td>0</td>\n",
       "      <td>F</td>\n",
       "      <td>сотрудник</td>\n",
       "      <td>0</td>\n",
       "      <td>253875</td>\n",
       "      <td>покупка жилья</td>\n",
       "      <td>B</td>\n",
       "    </tr>\n",
       "    <tr>\n",
       "      <th>1</th>\n",
       "      <td>1</td>\n",
       "      <td>4024</td>\n",
       "      <td>36</td>\n",
       "      <td>1</td>\n",
       "      <td>0</td>\n",
       "      <td>F</td>\n",
       "      <td>сотрудник</td>\n",
       "      <td>0</td>\n",
       "      <td>112080</td>\n",
       "      <td>приобретение автомобиля</td>\n",
       "      <td>C</td>\n",
       "    </tr>\n",
       "    <tr>\n",
       "      <th>2</th>\n",
       "      <td>0</td>\n",
       "      <td>5623</td>\n",
       "      <td>33</td>\n",
       "      <td>1</td>\n",
       "      <td>0</td>\n",
       "      <td>M</td>\n",
       "      <td>сотрудник</td>\n",
       "      <td>0</td>\n",
       "      <td>145885</td>\n",
       "      <td>покупка жилья</td>\n",
       "      <td>C</td>\n",
       "    </tr>\n",
       "    <tr>\n",
       "      <th>3</th>\n",
       "      <td>3</td>\n",
       "      <td>4124</td>\n",
       "      <td>32</td>\n",
       "      <td>1</td>\n",
       "      <td>0</td>\n",
       "      <td>M</td>\n",
       "      <td>сотрудник</td>\n",
       "      <td>0</td>\n",
       "      <td>267628</td>\n",
       "      <td>дополнительное образование</td>\n",
       "      <td>B</td>\n",
       "    </tr>\n",
       "    <tr>\n",
       "      <th>4</th>\n",
       "      <td>0</td>\n",
       "      <td>340266</td>\n",
       "      <td>53</td>\n",
       "      <td>1</td>\n",
       "      <td>1</td>\n",
       "      <td>F</td>\n",
       "      <td>пенсионер</td>\n",
       "      <td>0</td>\n",
       "      <td>158616</td>\n",
       "      <td>сыграть свадьбу</td>\n",
       "      <td>C</td>\n",
       "    </tr>\n",
       "    <tr>\n",
       "      <th>5</th>\n",
       "      <td>0</td>\n",
       "      <td>926</td>\n",
       "      <td>27</td>\n",
       "      <td>0</td>\n",
       "      <td>1</td>\n",
       "      <td>M</td>\n",
       "      <td>компаньон</td>\n",
       "      <td>0</td>\n",
       "      <td>255763</td>\n",
       "      <td>покупка жилья</td>\n",
       "      <td>B</td>\n",
       "    </tr>\n",
       "    <tr>\n",
       "      <th>6</th>\n",
       "      <td>0</td>\n",
       "      <td>2879</td>\n",
       "      <td>43</td>\n",
       "      <td>0</td>\n",
       "      <td>0</td>\n",
       "      <td>F</td>\n",
       "      <td>компаньон</td>\n",
       "      <td>0</td>\n",
       "      <td>240525</td>\n",
       "      <td>операции с жильем</td>\n",
       "      <td>B</td>\n",
       "    </tr>\n",
       "    <tr>\n",
       "      <th>7</th>\n",
       "      <td>0</td>\n",
       "      <td>152</td>\n",
       "      <td>50</td>\n",
       "      <td>1</td>\n",
       "      <td>0</td>\n",
       "      <td>M</td>\n",
       "      <td>сотрудник</td>\n",
       "      <td>0</td>\n",
       "      <td>135823</td>\n",
       "      <td>образование</td>\n",
       "      <td>C</td>\n",
       "    </tr>\n",
       "    <tr>\n",
       "      <th>8</th>\n",
       "      <td>2</td>\n",
       "      <td>6929</td>\n",
       "      <td>35</td>\n",
       "      <td>0</td>\n",
       "      <td>1</td>\n",
       "      <td>F</td>\n",
       "      <td>сотрудник</td>\n",
       "      <td>0</td>\n",
       "      <td>95856</td>\n",
       "      <td>на проведение свадьбы</td>\n",
       "      <td>C</td>\n",
       "    </tr>\n",
       "    <tr>\n",
       "      <th>9</th>\n",
       "      <td>0</td>\n",
       "      <td>2188</td>\n",
       "      <td>41</td>\n",
       "      <td>1</td>\n",
       "      <td>0</td>\n",
       "      <td>M</td>\n",
       "      <td>сотрудник</td>\n",
       "      <td>0</td>\n",
       "      <td>144425</td>\n",
       "      <td>покупка жилья для семьи</td>\n",
       "      <td>C</td>\n",
       "    </tr>\n",
       "  </tbody>\n",
       "</table>\n",
       "</div>"
      ],
      "text/plain": [
       "   children  days_employed  dob_years  education_id  family_status_id gender  \\\n",
       "0         1           8437         42             0                 0      F   \n",
       "1         1           4024         36             1                 0      F   \n",
       "2         0           5623         33             1                 0      M   \n",
       "3         3           4124         32             1                 0      M   \n",
       "4         0         340266         53             1                 1      F   \n",
       "5         0            926         27             0                 1      M   \n",
       "6         0           2879         43             0                 0      F   \n",
       "7         0            152         50             1                 0      M   \n",
       "8         2           6929         35             0                 1      F   \n",
       "9         0           2188         41             1                 0      M   \n",
       "\n",
       "  income_type  debt  total_income                     purpose  \\\n",
       "0   сотрудник     0        253875               покупка жилья   \n",
       "1   сотрудник     0        112080     приобретение автомобиля   \n",
       "2   сотрудник     0        145885               покупка жилья   \n",
       "3   сотрудник     0        267628  дополнительное образование   \n",
       "4   пенсионер     0        158616             сыграть свадьбу   \n",
       "5   компаньон     0        255763               покупка жилья   \n",
       "6   компаньон     0        240525           операции с жильем   \n",
       "7   сотрудник     0        135823                 образование   \n",
       "8   сотрудник     0         95856       на проведение свадьбы   \n",
       "9   сотрудник     0        144425     покупка жилья для семьи   \n",
       "\n",
       "  total_income_category  \n",
       "0                     B  \n",
       "1                     C  \n",
       "2                     C  \n",
       "3                     B  \n",
       "4                     C  \n",
       "5                     B  \n",
       "6                     B  \n",
       "7                     C  \n",
       "8                     C  \n",
       "9                     C  "
      ]
     },
     "metadata": {},
     "output_type": "display_data"
    }
   ],
   "source": [
    "#создаём столбец total_income_category\n",
    "def income_level_func(row):\n",
    "    \n",
    "    inc = row['total_income']\n",
    "    \n",
    "    if inc <= 30000:\n",
    "        return 'E'\n",
    "    elif inc <= 50000:\n",
    "        return 'D'\n",
    "    elif inc <= 200000:\n",
    "        return 'C'\n",
    "    elif inc <= 1000000:\n",
    "        return 'B'\n",
    "    else:\n",
    "        return 'A'\n",
    "\n",
    "df['total_income_category'] = df.apply(income_level_func, axis=1)\n",
    "display(df.head(10))\n"
   ]
  },
  {
   "cell_type": "markdown",
   "id": "8fcfae92",
   "metadata": {},
   "source": [
    "### Шаг 2.7. Категоризация целей кредита."
   ]
  },
  {
   "cell_type": "code",
   "execution_count": 14,
   "id": "2bd77bb1",
   "metadata": {},
   "outputs": [],
   "source": [
    "#создаём функцию, которая на основании данных из столбца pupose сормирует новый столбец purpose_category\n",
    "def set_purpose_cat(purpose_category):\n",
    "    if 'свад' in purpose_category:\n",
    "        return 'свадьба'\n",
    "    elif 'ремонт' in purpose_category:\n",
    "        return 'ремонт'\n",
    "    elif 'авто' in purpose_category:\n",
    "        return 'автомобиль'\n",
    "    elif 'образ' in purpose_category:\n",
    "        return 'образование'\n",
    "    elif 'жиль' in purpose_category or 'недвиж' in purpose_category:\n",
    "        return 'недвижимость'\n",
    "    else:\n",
    "        return 'другое'\n",
    "    \n",
    "#Применим функцию:\n",
    "\n",
    "df['purpose_catagory'] = df['purpose'].apply(set_purpose_cat)\n"
   ]
  },
  {
   "cell_type": "markdown",
   "id": "000dc8f9",
   "metadata": {},
   "source": [
    "### Ответы на вопросы."
   ]
  },
  {
   "cell_type": "markdown",
   "id": "7066afc4",
   "metadata": {},
   "source": [
    "#Вопрос 1: Есть ли зависимость между количеством детей и возвратом кредита в срок."
   ]
  },
  {
   "cell_type": "code",
   "execution_count": 15,
   "id": "01603526",
   "metadata": {},
   "outputs": [
    {
     "data": {
      "text/html": [
       "<div>\n",
       "<style scoped>\n",
       "    .dataframe tbody tr th:only-of-type {\n",
       "        vertical-align: middle;\n",
       "    }\n",
       "\n",
       "    .dataframe tbody tr th {\n",
       "        vertical-align: top;\n",
       "    }\n",
       "\n",
       "    .dataframe thead th {\n",
       "        text-align: right;\n",
       "    }\n",
       "</style>\n",
       "<table border=\"1\" class=\"dataframe\">\n",
       "  <thead>\n",
       "    <tr style=\"text-align: right;\">\n",
       "      <th></th>\n",
       "      <th>children_cat_id</th>\n",
       "      <th>children_cat_name</th>\n",
       "    </tr>\n",
       "  </thead>\n",
       "  <tbody>\n",
       "    <tr>\n",
       "      <th>0</th>\n",
       "      <td>0</td>\n",
       "      <td>Нет детей</td>\n",
       "    </tr>\n",
       "    <tr>\n",
       "      <th>1</th>\n",
       "      <td>1</td>\n",
       "      <td>Один ребенок</td>\n",
       "    </tr>\n",
       "    <tr>\n",
       "      <th>2</th>\n",
       "      <td>2</td>\n",
       "      <td>Двое детей</td>\n",
       "    </tr>\n",
       "    <tr>\n",
       "      <th>3</th>\n",
       "      <td>3</td>\n",
       "      <td>Многодетная семья</td>\n",
       "    </tr>\n",
       "    <tr>\n",
       "      <th>4</th>\n",
       "      <td>4</td>\n",
       "      <td>Статус неизвестен</td>\n",
       "    </tr>\n",
       "  </tbody>\n",
       "</table>\n",
       "</div>"
      ],
      "text/plain": [
       "   children_cat_id  children_cat_name\n",
       "0                0          Нет детей\n",
       "1                1       Один ребенок\n",
       "2                2         Двое детей\n",
       "3                3  Многодетная семья\n",
       "4                4  Статус неизвестен"
      ]
     },
     "metadata": {},
     "output_type": "display_data"
    }
   ],
   "source": [
    "# Категоризируем колличество детей в семье.\n",
    "# создадим словарь для категорий колличества детей в семье children_dict\n",
    "children_data = {'children_cat_id': [0, 1, 2, 3, 4],\n",
    "                 'children_cat_name': ['Нет детей', 'Один ребенок', 'Двое детей', \n",
    "                                       'Многодетная семья', 'Статус неизвестен']}\n",
    "children_columns = ['children_cat_id', 'children_cat_name']\n",
    "children_dict = pd.DataFrame(data = children_data, columns = children_columns)\n",
    "display(children_dict)"
   ]
  },
  {
   "cell_type": "code",
   "execution_count": 16,
   "id": "231c84a2",
   "metadata": {},
   "outputs": [
    {
     "data": {
      "text/html": [
       "<div>\n",
       "<style scoped>\n",
       "    .dataframe tbody tr th:only-of-type {\n",
       "        vertical-align: middle;\n",
       "    }\n",
       "\n",
       "    .dataframe tbody tr th {\n",
       "        vertical-align: top;\n",
       "    }\n",
       "\n",
       "    .dataframe thead th {\n",
       "        text-align: right;\n",
       "    }\n",
       "</style>\n",
       "<table border=\"1\" class=\"dataframe\">\n",
       "  <thead>\n",
       "    <tr style=\"text-align: right;\">\n",
       "      <th></th>\n",
       "      <th>children</th>\n",
       "      <th>days_employed</th>\n",
       "      <th>dob_years</th>\n",
       "      <th>education_id</th>\n",
       "      <th>family_status_id</th>\n",
       "      <th>gender</th>\n",
       "      <th>income_type</th>\n",
       "      <th>debt</th>\n",
       "      <th>total_income</th>\n",
       "      <th>purpose</th>\n",
       "      <th>total_income_category</th>\n",
       "      <th>purpose_catagory</th>\n",
       "      <th>children_cat_id</th>\n",
       "    </tr>\n",
       "  </thead>\n",
       "  <tbody>\n",
       "    <tr>\n",
       "      <th>0</th>\n",
       "      <td>1</td>\n",
       "      <td>8437</td>\n",
       "      <td>42</td>\n",
       "      <td>0</td>\n",
       "      <td>0</td>\n",
       "      <td>F</td>\n",
       "      <td>сотрудник</td>\n",
       "      <td>0</td>\n",
       "      <td>253875</td>\n",
       "      <td>покупка жилья</td>\n",
       "      <td>B</td>\n",
       "      <td>недвижимость</td>\n",
       "      <td>1</td>\n",
       "    </tr>\n",
       "    <tr>\n",
       "      <th>1</th>\n",
       "      <td>1</td>\n",
       "      <td>4024</td>\n",
       "      <td>36</td>\n",
       "      <td>1</td>\n",
       "      <td>0</td>\n",
       "      <td>F</td>\n",
       "      <td>сотрудник</td>\n",
       "      <td>0</td>\n",
       "      <td>112080</td>\n",
       "      <td>приобретение автомобиля</td>\n",
       "      <td>C</td>\n",
       "      <td>автомобиль</td>\n",
       "      <td>1</td>\n",
       "    </tr>\n",
       "    <tr>\n",
       "      <th>2</th>\n",
       "      <td>0</td>\n",
       "      <td>5623</td>\n",
       "      <td>33</td>\n",
       "      <td>1</td>\n",
       "      <td>0</td>\n",
       "      <td>M</td>\n",
       "      <td>сотрудник</td>\n",
       "      <td>0</td>\n",
       "      <td>145885</td>\n",
       "      <td>покупка жилья</td>\n",
       "      <td>C</td>\n",
       "      <td>недвижимость</td>\n",
       "      <td>0</td>\n",
       "    </tr>\n",
       "    <tr>\n",
       "      <th>3</th>\n",
       "      <td>3</td>\n",
       "      <td>4124</td>\n",
       "      <td>32</td>\n",
       "      <td>1</td>\n",
       "      <td>0</td>\n",
       "      <td>M</td>\n",
       "      <td>сотрудник</td>\n",
       "      <td>0</td>\n",
       "      <td>267628</td>\n",
       "      <td>дополнительное образование</td>\n",
       "      <td>B</td>\n",
       "      <td>образование</td>\n",
       "      <td>3</td>\n",
       "    </tr>\n",
       "    <tr>\n",
       "      <th>4</th>\n",
       "      <td>0</td>\n",
       "      <td>340266</td>\n",
       "      <td>53</td>\n",
       "      <td>1</td>\n",
       "      <td>1</td>\n",
       "      <td>F</td>\n",
       "      <td>пенсионер</td>\n",
       "      <td>0</td>\n",
       "      <td>158616</td>\n",
       "      <td>сыграть свадьбу</td>\n",
       "      <td>C</td>\n",
       "      <td>свадьба</td>\n",
       "      <td>0</td>\n",
       "    </tr>\n",
       "    <tr>\n",
       "      <th>5</th>\n",
       "      <td>0</td>\n",
       "      <td>926</td>\n",
       "      <td>27</td>\n",
       "      <td>0</td>\n",
       "      <td>1</td>\n",
       "      <td>M</td>\n",
       "      <td>компаньон</td>\n",
       "      <td>0</td>\n",
       "      <td>255763</td>\n",
       "      <td>покупка жилья</td>\n",
       "      <td>B</td>\n",
       "      <td>недвижимость</td>\n",
       "      <td>0</td>\n",
       "    </tr>\n",
       "    <tr>\n",
       "      <th>6</th>\n",
       "      <td>0</td>\n",
       "      <td>2879</td>\n",
       "      <td>43</td>\n",
       "      <td>0</td>\n",
       "      <td>0</td>\n",
       "      <td>F</td>\n",
       "      <td>компаньон</td>\n",
       "      <td>0</td>\n",
       "      <td>240525</td>\n",
       "      <td>операции с жильем</td>\n",
       "      <td>B</td>\n",
       "      <td>недвижимость</td>\n",
       "      <td>0</td>\n",
       "    </tr>\n",
       "    <tr>\n",
       "      <th>7</th>\n",
       "      <td>0</td>\n",
       "      <td>152</td>\n",
       "      <td>50</td>\n",
       "      <td>1</td>\n",
       "      <td>0</td>\n",
       "      <td>M</td>\n",
       "      <td>сотрудник</td>\n",
       "      <td>0</td>\n",
       "      <td>135823</td>\n",
       "      <td>образование</td>\n",
       "      <td>C</td>\n",
       "      <td>образование</td>\n",
       "      <td>0</td>\n",
       "    </tr>\n",
       "    <tr>\n",
       "      <th>8</th>\n",
       "      <td>2</td>\n",
       "      <td>6929</td>\n",
       "      <td>35</td>\n",
       "      <td>0</td>\n",
       "      <td>1</td>\n",
       "      <td>F</td>\n",
       "      <td>сотрудник</td>\n",
       "      <td>0</td>\n",
       "      <td>95856</td>\n",
       "      <td>на проведение свадьбы</td>\n",
       "      <td>C</td>\n",
       "      <td>свадьба</td>\n",
       "      <td>2</td>\n",
       "    </tr>\n",
       "    <tr>\n",
       "      <th>9</th>\n",
       "      <td>0</td>\n",
       "      <td>2188</td>\n",
       "      <td>41</td>\n",
       "      <td>1</td>\n",
       "      <td>0</td>\n",
       "      <td>M</td>\n",
       "      <td>сотрудник</td>\n",
       "      <td>0</td>\n",
       "      <td>144425</td>\n",
       "      <td>покупка жилья для семьи</td>\n",
       "      <td>C</td>\n",
       "      <td>недвижимость</td>\n",
       "      <td>0</td>\n",
       "    </tr>\n",
       "  </tbody>\n",
       "</table>\n",
       "</div>"
      ],
      "text/plain": [
       "   children  days_employed  dob_years  education_id  family_status_id gender  \\\n",
       "0         1           8437         42             0                 0      F   \n",
       "1         1           4024         36             1                 0      F   \n",
       "2         0           5623         33             1                 0      M   \n",
       "3         3           4124         32             1                 0      M   \n",
       "4         0         340266         53             1                 1      F   \n",
       "5         0            926         27             0                 1      M   \n",
       "6         0           2879         43             0                 0      F   \n",
       "7         0            152         50             1                 0      M   \n",
       "8         2           6929         35             0                 1      F   \n",
       "9         0           2188         41             1                 0      M   \n",
       "\n",
       "  income_type  debt  total_income                     purpose  \\\n",
       "0   сотрудник     0        253875               покупка жилья   \n",
       "1   сотрудник     0        112080     приобретение автомобиля   \n",
       "2   сотрудник     0        145885               покупка жилья   \n",
       "3   сотрудник     0        267628  дополнительное образование   \n",
       "4   пенсионер     0        158616             сыграть свадьбу   \n",
       "5   компаньон     0        255763               покупка жилья   \n",
       "6   компаньон     0        240525           операции с жильем   \n",
       "7   сотрудник     0        135823                 образование   \n",
       "8   сотрудник     0         95856       на проведение свадьбы   \n",
       "9   сотрудник     0        144425     покупка жилья для семьи   \n",
       "\n",
       "  total_income_category purpose_catagory  children_cat_id  \n",
       "0                     B     недвижимость                1  \n",
       "1                     C       автомобиль                1  \n",
       "2                     C     недвижимость                0  \n",
       "3                     B      образование                3  \n",
       "4                     C          свадьба                0  \n",
       "5                     B     недвижимость                0  \n",
       "6                     B     недвижимость                0  \n",
       "7                     C      образование                0  \n",
       "8                     C          свадьба                2  \n",
       "9                     C     недвижимость                0  "
      ]
     },
     "metadata": {},
     "output_type": "display_data"
    }
   ],
   "source": [
    "def set_children_cat_id(children):\n",
    "    \"\"\"\n",
    "    input: children (int64) - целое число, описывает колличество детей в семье\n",
    "    output: (int64) - целое число, идентификатор категории колличества детей в семье\n",
    "    Функция сопоставляет колличеству детей в семье одну из категорий:\n",
    "    \n",
    "    Children:  ID:   Категория:\n",
    "    0          0     Нет детей\n",
    "    1          1     Один ребенок\n",
    "    2          2     Двое детей\n",
    "    >2         3     Многодетная семья\n",
    "    <0         4     Статус неизвестен (значение -1 в столбце 'children')\n",
    "    \"\"\"\n",
    "    \n",
    "    if children == 0:\n",
    "        return 0\n",
    "    elif children == 1:\n",
    "        return 1\n",
    "    elif children == 2:\n",
    "        return 2\n",
    "    elif children > 2:\n",
    "        return 3\n",
    "    else:\n",
    "        return 4\n",
    "\n",
    "# с помощью метода apply применяем функцию set_children_cat_id ко всем 'children' \n",
    "# в таблице 'df'\n",
    "df['children_cat_id'] = df['children'].apply(set_children_cat_id)\n",
    "display(df.head(10))"
   ]
  },
  {
   "cell_type": "markdown",
   "id": "1adb4fee",
   "metadata": {},
   "source": [
    "Для ответа на вопрос составим новую таблицу children_debt с данными о задолженностях по кредиту debt из таблицы df и информацией о колличестве детей children_cat_id, children_cat_name из словаря children_dict. Далее для наглядности результаты выведем в сводную таблицу.\n",
    "Также рассчитаем отношение колличества клиентов с задолженностями к общему колличеству клиентов по каждой группе."
   ]
  },
  {
   "cell_type": "code",
   "execution_count": 17,
   "id": "9d8f6b8a",
   "metadata": {},
   "outputs": [
    {
     "data": {
      "text/html": [
       "<div>\n",
       "<style scoped>\n",
       "    .dataframe tbody tr th:only-of-type {\n",
       "        vertical-align: middle;\n",
       "    }\n",
       "\n",
       "    .dataframe tbody tr th {\n",
       "        vertical-align: top;\n",
       "    }\n",
       "\n",
       "    .dataframe thead th {\n",
       "        text-align: right;\n",
       "    }\n",
       "</style>\n",
       "<table border=\"1\" class=\"dataframe\">\n",
       "  <thead>\n",
       "    <tr style=\"text-align: right;\">\n",
       "      <th>debt</th>\n",
       "      <th>0</th>\n",
       "      <th>1</th>\n",
       "      <th>rate</th>\n",
       "    </tr>\n",
       "    <tr>\n",
       "      <th>children_cat_name</th>\n",
       "      <th></th>\n",
       "      <th></th>\n",
       "      <th></th>\n",
       "    </tr>\n",
       "  </thead>\n",
       "  <tbody>\n",
       "    <tr>\n",
       "      <th>Двое детей</th>\n",
       "      <td>1858</td>\n",
       "      <td>194</td>\n",
       "      <td>0.094542</td>\n",
       "    </tr>\n",
       "    <tr>\n",
       "      <th>Многодетная семья</th>\n",
       "      <td>417</td>\n",
       "      <td>39</td>\n",
       "      <td>0.085526</td>\n",
       "    </tr>\n",
       "    <tr>\n",
       "      <th>Нет детей</th>\n",
       "      <td>13028</td>\n",
       "      <td>1063</td>\n",
       "      <td>0.075438</td>\n",
       "    </tr>\n",
       "    <tr>\n",
       "      <th>Один ребенок</th>\n",
       "      <td>4364</td>\n",
       "      <td>444</td>\n",
       "      <td>0.092346</td>\n",
       "    </tr>\n",
       "    <tr>\n",
       "      <th>Статус неизвестен</th>\n",
       "      <td>46</td>\n",
       "      <td>1</td>\n",
       "      <td>0.021277</td>\n",
       "    </tr>\n",
       "  </tbody>\n",
       "</table>\n",
       "</div>"
      ],
      "text/plain": [
       "debt                   0     1      rate\n",
       "children_cat_name                       \n",
       "Двое детей          1858   194  0.094542\n",
       "Многодетная семья    417    39  0.085526\n",
       "Нет детей          13028  1063  0.075438\n",
       "Один ребенок        4364   444  0.092346\n",
       "Статус неизвестен     46     1  0.021277"
      ]
     },
     "metadata": {},
     "output_type": "display_data"
    }
   ],
   "source": [
    "children_debt = df.merge(children_dict, on='children_cat_id', how='left')[['children_cat_id', \n",
    "                                                                             'children_cat_name', \n",
    "                                                                             'debt']]\n",
    "# сводную таблицу получим методом pivot_table(). \n",
    "children_debt_pivot = children_debt.pivot_table(index = 'children_cat_name', columns = 'debt', \n",
    "                                                values = 'children_cat_id', aggfunc = 'count')\n",
    "# найдем в каждой группе долю клиентов с задоленностями относительно \n",
    "# общего числа клиентов в данной группе\n",
    "children_debt_pivot['rate'] = children_debt_pivot[1] / (children_debt_pivot[0] + children_debt_pivot[1])\n",
    "display(children_debt_pivot)"
   ]
  },
  {
   "cell_type": "markdown",
   "id": "73916559",
   "metadata": {},
   "source": [
    "Вывод:\n",
    "\n",
    "Минимальная доля клиентов с задолженностями среди группы без детей (7.5%).\n",
    "Среди клиентов с одним и двумя детьми данные мало отличаются, примерно 9.5% клиентов имеют задолженности.\n",
    "Среди многодетных семей доля клиентов с задолженностями составляет около 8.5%. Но в данной группе сравнительно небольшая выборка и необходимо дальнейшее иследование относительно достоверности результатов.\n",
    "В целом доля задолженностей по кредитам среди клиентов не сильно меняется от колличества детей в семье (в пределах 1-2%)."
   ]
  },
  {
   "cell_type": "code",
   "execution_count": 18,
   "id": "1dd60d8d",
   "metadata": {},
   "outputs": [],
   "source": [
    "#Вопрос2: Есть ли зависимость межлу семейным положением и возвратом кредита."
   ]
  },
  {
   "cell_type": "markdown",
   "id": "2dc8c9c3",
   "metadata": {},
   "source": [
    "Для ответа на вопрос составим новую таблицу family_status_debt с данными о задолженностях по кредиту debt из таблицы df и информацией о семейном статусе family_status_id, family_status из словаря family_status_dict.\n",
    "Далее для наглядности результаты выведем в сводную таблицу.\n",
    "Также рассчитаем отношение колличества клиентов с задолженностями к общему колличеству клиентов по каждой группе."
   ]
  },
  {
   "cell_type": "code",
   "execution_count": 19,
   "id": "ebb0bdd9",
   "metadata": {},
   "outputs": [
    {
     "data": {
      "text/html": [
       "<div>\n",
       "<style scoped>\n",
       "    .dataframe tbody tr th:only-of-type {\n",
       "        vertical-align: middle;\n",
       "    }\n",
       "\n",
       "    .dataframe tbody tr th {\n",
       "        vertical-align: top;\n",
       "    }\n",
       "\n",
       "    .dataframe thead th {\n",
       "        text-align: right;\n",
       "    }\n",
       "</style>\n",
       "<table border=\"1\" class=\"dataframe\">\n",
       "  <thead>\n",
       "    <tr style=\"text-align: right;\">\n",
       "      <th>debt</th>\n",
       "      <th>0</th>\n",
       "      <th>1</th>\n",
       "      <th>rate</th>\n",
       "    </tr>\n",
       "    <tr>\n",
       "      <th>family_status</th>\n",
       "      <th></th>\n",
       "      <th></th>\n",
       "      <th></th>\n",
       "    </tr>\n",
       "  </thead>\n",
       "  <tbody>\n",
       "    <tr>\n",
       "      <th>в разводе</th>\n",
       "      <td>1110</td>\n",
       "      <td>85</td>\n",
       "      <td>0.071130</td>\n",
       "    </tr>\n",
       "    <tr>\n",
       "      <th>вдовец / вдова</th>\n",
       "      <td>896</td>\n",
       "      <td>63</td>\n",
       "      <td>0.065693</td>\n",
       "    </tr>\n",
       "    <tr>\n",
       "      <th>гражданский брак</th>\n",
       "      <td>3763</td>\n",
       "      <td>388</td>\n",
       "      <td>0.093471</td>\n",
       "    </tr>\n",
       "    <tr>\n",
       "      <th>женат / замужем</th>\n",
       "      <td>11408</td>\n",
       "      <td>931</td>\n",
       "      <td>0.075452</td>\n",
       "    </tr>\n",
       "    <tr>\n",
       "      <th>не женат / не замужем</th>\n",
       "      <td>2536</td>\n",
       "      <td>274</td>\n",
       "      <td>0.097509</td>\n",
       "    </tr>\n",
       "  </tbody>\n",
       "</table>\n",
       "</div>"
      ],
      "text/plain": [
       "debt                       0    1      rate\n",
       "family_status                              \n",
       "в разводе               1110   85  0.071130\n",
       "вдовец / вдова           896   63  0.065693\n",
       "гражданский брак        3763  388  0.093471\n",
       "женат / замужем        11408  931  0.075452\n",
       "не женат / не замужем   2536  274  0.097509"
      ]
     },
     "metadata": {},
     "output_type": "display_data"
    }
   ],
   "source": [
    "family_status_debt = df.merge(family_status_dict, \n",
    "                                on='family_status_id', how='left')[['family_status_id',\n",
    "                                                                   'family_status',\n",
    "                                                                   'debt']]\n",
    "# сводную таблицу получим методом pivot_table(). \n",
    "family_status_pivot = family_status_debt.pivot_table(index = 'family_status', columns = 'debt',\n",
    "                                                     values = 'family_status_id', aggfunc = 'count')\n",
    "# найдем в каждой группе долю клиентов с задоленностями относительно \n",
    "# общего числа клиентов в данной группе\n",
    "family_status_pivot['rate'] = family_status_pivot[1] / (family_status_pivot[0] + family_status_pivot[1])\n",
    "display(family_status_pivot)"
   ]
  },
  {
   "cell_type": "markdown",
   "id": "c068fe89",
   "metadata": {},
   "source": [
    "Вывод:\n",
    "\n",
    "Минимальная доля клиентов с задолженностями среди группы вдовец / вдова (6.5%).\n",
    "Среди клиентов групп не женат / не замужем и гражданский брак данные мало отличаются, примерно 9.5% клиентов имеют задолженности. Это максимальные показатели среди всех групп\n",
    "Среди клиентов группы вдовец / вдова доля задолженностей минимальна и составляет около 6.5%. Но в данной группе сравнительно небольшая выборка и необходимо дальнейшее иследование относительно достоверности результатов.\n",
    "Среди клиентов в категориях женат / замужем и в разводе доля задолженностей примерно одинакова и составляет 7-7.5%. Но выборка клиентов в разводе сравнительно неболшая, и данные могут быть недостоверны.\n",
    "Судя по полученным данным, семейные клиенты имеют меньше задолженностей по кредитам, чем неженатые/незамужние клиенты или в гражданском браке. Возможно, семейные пары более тщательно планируют свой бюджет и серьезнее относятся к своим обязательствам.\n",
    "В целом доля задолженностей по кредитам среди клиентов не сильно меняется от семейного положения (в пределах 3%)."
   ]
  },
  {
   "cell_type": "code",
   "execution_count": 20,
   "id": "19c0e4d3",
   "metadata": {},
   "outputs": [],
   "source": [
    "#Вопрос3: Если зависимость между уровнем дохода и возвратом кредита в срок."
   ]
  },
  {
   "cell_type": "code",
   "execution_count": 21,
   "id": "b8928381",
   "metadata": {},
   "outputs": [
    {
     "data": {
      "text/html": [
       "<div>\n",
       "<style scoped>\n",
       "    .dataframe tbody tr th:only-of-type {\n",
       "        vertical-align: middle;\n",
       "    }\n",
       "\n",
       "    .dataframe tbody tr th {\n",
       "        vertical-align: top;\n",
       "    }\n",
       "\n",
       "    .dataframe thead tr th {\n",
       "        text-align: left;\n",
       "    }\n",
       "\n",
       "    .dataframe thead tr:last-of-type th {\n",
       "        text-align: right;\n",
       "    }\n",
       "</style>\n",
       "<table border=\"1\" class=\"dataframe\">\n",
       "  <thead>\n",
       "    <tr>\n",
       "      <th></th>\n",
       "      <th>mean</th>\n",
       "    </tr>\n",
       "    <tr>\n",
       "      <th></th>\n",
       "      <th>debt</th>\n",
       "    </tr>\n",
       "    <tr>\n",
       "      <th>total_income_category</th>\n",
       "      <th></th>\n",
       "    </tr>\n",
       "  </thead>\n",
       "  <tbody>\n",
       "    <tr>\n",
       "      <th>A</th>\n",
       "      <td>0.080000</td>\n",
       "    </tr>\n",
       "    <tr>\n",
       "      <th>B</th>\n",
       "      <td>0.070621</td>\n",
       "    </tr>\n",
       "    <tr>\n",
       "      <th>C</th>\n",
       "      <td>0.084915</td>\n",
       "    </tr>\n",
       "    <tr>\n",
       "      <th>D</th>\n",
       "      <td>0.060000</td>\n",
       "    </tr>\n",
       "    <tr>\n",
       "      <th>E</th>\n",
       "      <td>0.090909</td>\n",
       "    </tr>\n",
       "  </tbody>\n",
       "</table>\n",
       "</div>"
      ],
      "text/plain": [
       "                           mean\n",
       "                           debt\n",
       "total_income_category          \n",
       "A                      0.080000\n",
       "B                      0.070621\n",
       "C                      0.084915\n",
       "D                      0.060000\n",
       "E                      0.090909"
      ]
     },
     "metadata": {},
     "output_type": "display_data"
    }
   ],
   "source": [
    "total_pivot = df.pivot_table(index='total_income_category', values='debt', aggfunc=['mean'])\n",
    "display(total_pivot)"
   ]
  },
  {
   "cell_type": "markdown",
   "id": "1bb2a2f2",
   "metadata": {},
   "source": [
    "Вывод:\n",
    "\n",
    "Клиенты с высоким уровнем доходов (> 230к) в целом отдают кредиты в срок чаще (7% клиентов с задолженностями).\n",
    "Клиенты с более низкими доходами (до 90к), а также с доходами в 175к-230к в среднем имеют задолженности в 8% случаев. Это может быть связано с нехваткой финансов или проблемами с планированием бюджета.\n",
    "Клиенты со средними доходами (90к - 175к) имеют задолженности в 8-9% случаев. Это может быть связано с проблемами в планировании бюджета (большие сумммы кредитов и маленькие сроки могут приводить к высоким ежемесячным выплатам, с которыми клиенты не всегда справляются).\n",
    "В целом данные не сильно отличаются с изменением уровня доходов (в пределах 2%)."
   ]
  },
  {
   "cell_type": "code",
   "execution_count": 22,
   "id": "62b016da",
   "metadata": {},
   "outputs": [],
   "source": [
    "#Вопрос4: Как разные цели кредита влияют на его возврат в срок."
   ]
  },
  {
   "cell_type": "code",
   "execution_count": 23,
   "id": "e19b52eb",
   "metadata": {},
   "outputs": [
    {
     "data": {
      "text/html": [
       "<div>\n",
       "<style scoped>\n",
       "    .dataframe tbody tr th:only-of-type {\n",
       "        vertical-align: middle;\n",
       "    }\n",
       "\n",
       "    .dataframe tbody tr th {\n",
       "        vertical-align: top;\n",
       "    }\n",
       "\n",
       "    .dataframe thead tr th {\n",
       "        text-align: left;\n",
       "    }\n",
       "\n",
       "    .dataframe thead tr:last-of-type th {\n",
       "        text-align: right;\n",
       "    }\n",
       "</style>\n",
       "<table border=\"1\" class=\"dataframe\">\n",
       "  <thead>\n",
       "    <tr>\n",
       "      <th></th>\n",
       "      <th>mean</th>\n",
       "    </tr>\n",
       "    <tr>\n",
       "      <th></th>\n",
       "      <th>debt</th>\n",
       "    </tr>\n",
       "    <tr>\n",
       "      <th>purpose_catagory</th>\n",
       "      <th></th>\n",
       "    </tr>\n",
       "  </thead>\n",
       "  <tbody>\n",
       "    <tr>\n",
       "      <th>автомобиль</th>\n",
       "      <td>0.093590</td>\n",
       "    </tr>\n",
       "    <tr>\n",
       "      <th>недвижимость</th>\n",
       "      <td>0.073207</td>\n",
       "    </tr>\n",
       "    <tr>\n",
       "      <th>образование</th>\n",
       "      <td>0.092200</td>\n",
       "    </tr>\n",
       "    <tr>\n",
       "      <th>ремонт</th>\n",
       "      <td>0.057661</td>\n",
       "    </tr>\n",
       "    <tr>\n",
       "      <th>свадьба</th>\n",
       "      <td>0.080034</td>\n",
       "    </tr>\n",
       "  </tbody>\n",
       "</table>\n",
       "</div>"
      ],
      "text/plain": [
       "                      mean\n",
       "                      debt\n",
       "purpose_catagory          \n",
       "автомобиль        0.093590\n",
       "недвижимость      0.073207\n",
       "образование       0.092200\n",
       "ремонт            0.057661\n",
       "свадьба           0.080034"
      ]
     },
     "metadata": {},
     "output_type": "display_data"
    }
   ],
   "source": [
    "df_pivot = df.pivot_table(index='purpose_catagory', values='debt', aggfunc=['mean'])\n",
    "display(df_pivot)\n"
   ]
  },
  {
   "cell_type": "markdown",
   "id": "e8ae3baf",
   "metadata": {},
   "source": [
    "Вывод:\n",
    "\n",
    "Кредиты на ремонт квартиры в среднем задерживают в 5.7% случаев. Но выборка в этой категории относительно мала, сложно судить о достоверности результатов.\n",
    "Больше всего кредитов берут на покупку и другие операции с недвижимостью. Задолженности возникают у 7.3% клиентов.\n",
    "Кредиты на образование и покупку автомобиля задерживают в 9.2-9.3% случаев (на 2% больше чем кредиты, связанные с недвижимостью). На данном этапе сложно определить причины такой разницы.\n",
    "В целом данные по задолженностям не сильно меняются от целей, на котоые взяты кредиты (в пределах 3 - 3.5%)."
   ]
  },
  {
   "cell_type": "markdown",
   "id": "286116e5",
   "metadata": {},
   "source": [
    "## Общий вывод:"
   ]
  },
  {
   "cell_type": "markdown",
   "id": "8a3018c4",
   "metadata": {},
   "source": [
    "В Работе были проанализированы данные о статистике платежеспособности клиентов.  Среди целей на получение кредита было выделено 5 основных групп: свадьба, ремонт, автомобиль, образование, недвижимость.Были проанализированы задолженности клиентов по кредитам в зависимости от количества детей в семье, семейного положения, уровня месячного дохода и цели кредита.\n",
    "Данные выведены в сводные таблицы. Дополнительно рассчитаны доли клиентов с задолженностями для каждой категории.\n",
    "В некоторых категориях выборки оказались сравнительно малы, что не позволяет делать однозначные выводы о результатах исследований. Возможные пути решения проблемы - наращивать базу данных.\n",
    "По всем категориям доли клиентов с задолженностями не превышала 10%, а различия значений между отдельными группами разделения не превышали 3.5%."
   ]
  }
 ],
 "metadata": {
  "ExecuteTimeLog": [
   {
    "duration": 15572,
    "start_time": "2022-03-11T16:01:55.006Z"
   },
   {
    "duration": 1934,
    "start_time": "2022-03-11T16:02:37.496Z"
   },
   {
    "duration": 48,
    "start_time": "2022-03-11T16:03:17.945Z"
   },
   {
    "duration": 55,
    "start_time": "2022-03-11T16:04:57.354Z"
   },
   {
    "duration": 10,
    "start_time": "2022-03-11T16:06:41.282Z"
   },
   {
    "duration": 50,
    "start_time": "2022-03-11T16:08:10.325Z"
   },
   {
    "duration": 562,
    "start_time": "2022-03-11T16:16:24.125Z"
   },
   {
    "duration": 183,
    "start_time": "2022-03-11T16:21:20.468Z"
   },
   {
    "duration": 168,
    "start_time": "2022-03-11T16:24:20.782Z"
   },
   {
    "duration": 192,
    "start_time": "2022-03-11T16:24:39.412Z"
   },
   {
    "duration": 58,
    "start_time": "2022-03-11T16:25:33.097Z"
   },
   {
    "duration": 194,
    "start_time": "2022-03-11T16:27:00.387Z"
   },
   {
    "duration": 178,
    "start_time": "2022-03-11T16:36:47.536Z"
   },
   {
    "duration": 11,
    "start_time": "2022-03-11T16:37:24.075Z"
   },
   {
    "duration": 11,
    "start_time": "2022-03-11T16:43:09.976Z"
   },
   {
    "duration": 14,
    "start_time": "2022-03-11T16:52:13.454Z"
   },
   {
    "duration": 14,
    "start_time": "2022-03-11T16:52:42.514Z"
   },
   {
    "duration": 195,
    "start_time": "2022-03-11T16:52:58.023Z"
   },
   {
    "duration": 16,
    "start_time": "2022-03-11T16:53:09.314Z"
   },
   {
    "duration": 15,
    "start_time": "2022-03-11T16:53:33.054Z"
   },
   {
    "duration": 15,
    "start_time": "2022-03-11T16:53:43.082Z"
   },
   {
    "duration": 172,
    "start_time": "2022-03-11T16:54:06.142Z"
   },
   {
    "duration": 265,
    "start_time": "2022-03-12T13:28:45.752Z"
   },
   {
    "duration": 742,
    "start_time": "2022-03-12T13:28:56.649Z"
   },
   {
    "duration": 12,
    "start_time": "2022-03-12T13:28:57.393Z"
   },
   {
    "duration": 12,
    "start_time": "2022-03-12T13:28:57.407Z"
   },
   {
    "duration": 68,
    "start_time": "2022-03-12T13:28:57.421Z"
   },
   {
    "duration": -527,
    "start_time": "2022-03-12T13:28:58.017Z"
   },
   {
    "duration": 387,
    "start_time": "2022-03-12T13:29:13.178Z"
   },
   {
    "duration": 55,
    "start_time": "2022-03-12T13:42:12.379Z"
   },
   {
    "duration": 57,
    "start_time": "2022-03-12T13:42:27.998Z"
   },
   {
    "duration": 14,
    "start_time": "2022-03-12T13:42:38.357Z"
   },
   {
    "duration": 14,
    "start_time": "2022-03-12T13:42:50.058Z"
   },
   {
    "duration": 228,
    "start_time": "2022-03-12T13:46:32.119Z"
   },
   {
    "duration": 13,
    "start_time": "2022-03-12T13:46:56.425Z"
   },
   {
    "duration": 4,
    "start_time": "2022-03-12T13:49:05.446Z"
   },
   {
    "duration": 5,
    "start_time": "2022-03-12T13:49:37.678Z"
   },
   {
    "duration": 5,
    "start_time": "2022-03-12T13:54:58.905Z"
   },
   {
    "duration": 74,
    "start_time": "2022-03-12T13:55:28.349Z"
   },
   {
    "duration": 4,
    "start_time": "2022-03-12T13:55:38.158Z"
   },
   {
    "duration": 10,
    "start_time": "2022-03-12T14:00:55.267Z"
   },
   {
    "duration": 8,
    "start_time": "2022-03-12T14:03:03.578Z"
   },
   {
    "duration": 23,
    "start_time": "2022-03-12T14:07:53.726Z"
   },
   {
    "duration": 43,
    "start_time": "2022-03-12T14:08:26.398Z"
   },
   {
    "duration": 30,
    "start_time": "2022-03-12T14:08:54.285Z"
   },
   {
    "duration": 26,
    "start_time": "2022-03-12T14:09:05.085Z"
   },
   {
    "duration": 31,
    "start_time": "2022-03-12T14:10:49.457Z"
   },
   {
    "duration": 246,
    "start_time": "2022-03-12T14:33:58.517Z"
   },
   {
    "duration": 6,
    "start_time": "2022-03-12T14:51:06.234Z"
   },
   {
    "duration": 1067,
    "start_time": "2022-03-12T14:52:10.226Z"
   },
   {
    "duration": 236,
    "start_time": "2022-03-12T15:03:33.137Z"
   },
   {
    "duration": 612,
    "start_time": "2022-03-21T16:00:53.640Z"
   },
   {
    "duration": 28,
    "start_time": "2022-03-21T16:00:54.255Z"
   },
   {
    "duration": 112,
    "start_time": "2022-03-21T16:00:54.285Z"
   },
   {
    "duration": 0,
    "start_time": "2022-03-21T16:00:54.400Z"
   },
   {
    "duration": 0,
    "start_time": "2022-03-21T16:00:54.402Z"
   },
   {
    "duration": 0,
    "start_time": "2022-03-21T16:00:54.404Z"
   },
   {
    "duration": 0,
    "start_time": "2022-03-21T16:00:54.406Z"
   },
   {
    "duration": 0,
    "start_time": "2022-03-21T16:00:54.408Z"
   },
   {
    "duration": 0,
    "start_time": "2022-03-21T16:00:54.410Z"
   },
   {
    "duration": 0,
    "start_time": "2022-03-21T16:00:54.412Z"
   },
   {
    "duration": 0,
    "start_time": "2022-03-21T16:00:54.413Z"
   },
   {
    "duration": 0,
    "start_time": "2022-03-21T16:00:54.415Z"
   },
   {
    "duration": 0,
    "start_time": "2022-03-21T16:00:54.416Z"
   },
   {
    "duration": 606,
    "start_time": "2022-03-22T02:55:20.472Z"
   },
   {
    "duration": 24,
    "start_time": "2022-03-22T02:55:21.082Z"
   },
   {
    "duration": 109,
    "start_time": "2022-03-22T02:55:21.108Z"
   },
   {
    "duration": 0,
    "start_time": "2022-03-22T02:55:21.220Z"
   },
   {
    "duration": 0,
    "start_time": "2022-03-22T02:55:21.223Z"
   },
   {
    "duration": 0,
    "start_time": "2022-03-22T02:55:21.225Z"
   },
   {
    "duration": 0,
    "start_time": "2022-03-22T02:55:21.227Z"
   },
   {
    "duration": 0,
    "start_time": "2022-03-22T02:55:21.229Z"
   },
   {
    "duration": 0,
    "start_time": "2022-03-22T02:55:21.231Z"
   },
   {
    "duration": 0,
    "start_time": "2022-03-22T02:55:21.233Z"
   },
   {
    "duration": 0,
    "start_time": "2022-03-22T02:55:21.235Z"
   },
   {
    "duration": 0,
    "start_time": "2022-03-22T02:55:21.237Z"
   },
   {
    "duration": 0,
    "start_time": "2022-03-22T02:55:21.238Z"
   },
   {
    "duration": 28,
    "start_time": "2022-03-22T02:55:46.041Z"
   },
   {
    "duration": 20,
    "start_time": "2022-03-22T02:55:56.919Z"
   },
   {
    "duration": 551,
    "start_time": "2022-03-22T02:56:42.712Z"
   },
   {
    "duration": 25,
    "start_time": "2022-03-22T02:56:43.266Z"
   },
   {
    "duration": 17,
    "start_time": "2022-03-22T02:56:43.294Z"
   },
   {
    "duration": 21,
    "start_time": "2022-03-22T02:56:43.312Z"
   },
   {
    "duration": 46,
    "start_time": "2022-03-22T02:56:43.338Z"
   },
   {
    "duration": 6,
    "start_time": "2022-03-22T02:56:43.386Z"
   },
   {
    "duration": 5,
    "start_time": "2022-03-22T02:56:43.394Z"
   },
   {
    "duration": 103,
    "start_time": "2022-03-22T02:56:43.402Z"
   },
   {
    "duration": 51,
    "start_time": "2022-03-22T02:56:43.507Z"
   },
   {
    "duration": 44,
    "start_time": "2022-03-22T02:56:43.561Z"
   },
   {
    "duration": 112,
    "start_time": "2022-03-22T02:56:43.608Z"
   },
   {
    "duration": 0,
    "start_time": "2022-03-22T02:56:43.723Z"
   },
   {
    "duration": 0,
    "start_time": "2022-03-22T02:56:43.724Z"
   },
   {
    "duration": 439,
    "start_time": "2022-03-22T08:55:30.386Z"
   },
   {
    "duration": 16,
    "start_time": "2022-03-22T08:55:30.827Z"
   },
   {
    "duration": 13,
    "start_time": "2022-03-22T08:55:30.845Z"
   },
   {
    "duration": 24,
    "start_time": "2022-03-22T08:55:30.859Z"
   },
   {
    "duration": 7,
    "start_time": "2022-03-22T08:55:30.886Z"
   },
   {
    "duration": 7,
    "start_time": "2022-03-22T08:55:30.894Z"
   },
   {
    "duration": 7,
    "start_time": "2022-03-22T08:55:30.902Z"
   },
   {
    "duration": 57,
    "start_time": "2022-03-22T08:55:30.910Z"
   },
   {
    "duration": 24,
    "start_time": "2022-03-22T08:55:30.969Z"
   },
   {
    "duration": 42,
    "start_time": "2022-03-22T08:55:30.995Z"
   },
   {
    "duration": 66,
    "start_time": "2022-03-22T08:55:31.038Z"
   },
   {
    "duration": 0,
    "start_time": "2022-03-22T08:55:31.106Z"
   },
   {
    "duration": 0,
    "start_time": "2022-03-22T08:55:31.107Z"
   },
   {
    "duration": 209,
    "start_time": "2022-03-22T09:05:08.605Z"
   },
   {
    "duration": 70,
    "start_time": "2022-03-23T09:06:15.728Z"
   },
   {
    "duration": 9,
    "start_time": "2022-03-23T09:06:43.439Z"
   },
   {
    "duration": 602,
    "start_time": "2022-03-23T09:06:50.372Z"
   },
   {
    "duration": 31,
    "start_time": "2022-03-23T09:06:50.995Z"
   },
   {
    "duration": 16,
    "start_time": "2022-03-23T09:06:51.028Z"
   },
   {
    "duration": 31,
    "start_time": "2022-03-23T09:06:51.046Z"
   },
   {
    "duration": 9,
    "start_time": "2022-03-23T09:06:51.080Z"
   },
   {
    "duration": 10,
    "start_time": "2022-03-23T09:06:51.091Z"
   },
   {
    "duration": 6,
    "start_time": "2022-03-23T09:06:51.103Z"
   },
   {
    "duration": 82,
    "start_time": "2022-03-23T09:06:51.111Z"
   },
   {
    "duration": 39,
    "start_time": "2022-03-23T09:06:51.195Z"
   },
   {
    "duration": 54,
    "start_time": "2022-03-23T09:06:51.236Z"
   },
   {
    "duration": 1509,
    "start_time": "2022-03-23T09:06:51.292Z"
   },
   {
    "duration": 0,
    "start_time": "2022-03-23T09:06:52.804Z"
   },
   {
    "duration": 0,
    "start_time": "2022-03-23T09:06:52.806Z"
   },
   {
    "duration": 1674,
    "start_time": "2022-03-23T09:07:40.792Z"
   },
   {
    "duration": 1031,
    "start_time": "2022-03-23T12:59:56.907Z"
   },
   {
    "duration": 16,
    "start_time": "2022-03-23T12:59:57.940Z"
   },
   {
    "duration": 15,
    "start_time": "2022-03-23T12:59:57.957Z"
   },
   {
    "duration": 15,
    "start_time": "2022-03-23T12:59:57.974Z"
   },
   {
    "duration": 7,
    "start_time": "2022-03-23T12:59:57.991Z"
   },
   {
    "duration": 34,
    "start_time": "2022-03-23T12:59:58.000Z"
   },
   {
    "duration": 9,
    "start_time": "2022-03-23T12:59:58.035Z"
   },
   {
    "duration": 46,
    "start_time": "2022-03-23T12:59:58.046Z"
   },
   {
    "duration": 45,
    "start_time": "2022-03-23T12:59:58.094Z"
   },
   {
    "duration": 24,
    "start_time": "2022-03-23T12:59:58.141Z"
   },
   {
    "duration": 3045,
    "start_time": "2022-03-23T12:59:58.167Z"
   },
   {
    "duration": 0,
    "start_time": "2022-03-23T13:00:01.214Z"
   },
   {
    "duration": 0,
    "start_time": "2022-03-23T13:00:01.216Z"
   },
   {
    "duration": 2813,
    "start_time": "2022-03-23T13:09:11.305Z"
   },
   {
    "duration": 2699,
    "start_time": "2022-03-23T13:09:25.886Z"
   },
   {
    "duration": 2592,
    "start_time": "2022-03-23T13:12:56.826Z"
   },
   {
    "duration": 878,
    "start_time": "2022-03-24T14:28:54.469Z"
   },
   {
    "duration": 39,
    "start_time": "2022-03-24T14:28:55.351Z"
   },
   {
    "duration": 23,
    "start_time": "2022-03-24T14:28:55.393Z"
   },
   {
    "duration": 19,
    "start_time": "2022-03-24T14:28:55.420Z"
   },
   {
    "duration": 47,
    "start_time": "2022-03-24T14:28:55.442Z"
   },
   {
    "duration": 26,
    "start_time": "2022-03-24T14:28:55.491Z"
   },
   {
    "duration": 24,
    "start_time": "2022-03-24T14:28:55.520Z"
   },
   {
    "duration": 85,
    "start_time": "2022-03-24T14:28:55.546Z"
   },
   {
    "duration": 70,
    "start_time": "2022-03-24T14:28:55.633Z"
   },
   {
    "duration": 45,
    "start_time": "2022-03-24T14:28:55.708Z"
   },
   {
    "duration": 1944,
    "start_time": "2022-03-24T14:28:55.755Z"
   },
   {
    "duration": 0,
    "start_time": "2022-03-24T14:28:57.702Z"
   },
   {
    "duration": 0,
    "start_time": "2022-03-24T14:28:57.704Z"
   },
   {
    "duration": 661,
    "start_time": "2022-03-24T14:38:42.968Z"
   },
   {
    "duration": 23,
    "start_time": "2022-03-24T14:38:43.632Z"
   },
   {
    "duration": 42,
    "start_time": "2022-03-24T14:38:43.658Z"
   },
   {
    "duration": 19,
    "start_time": "2022-03-24T14:38:43.703Z"
   },
   {
    "duration": 35,
    "start_time": "2022-03-24T14:38:43.725Z"
   },
   {
    "duration": 9,
    "start_time": "2022-03-24T14:38:43.763Z"
   },
   {
    "duration": 18,
    "start_time": "2022-03-24T14:38:43.775Z"
   },
   {
    "duration": 73,
    "start_time": "2022-03-24T14:38:43.796Z"
   },
   {
    "duration": 41,
    "start_time": "2022-03-24T14:38:43.872Z"
   },
   {
    "duration": 70,
    "start_time": "2022-03-24T14:38:43.915Z"
   },
   {
    "duration": 2032,
    "start_time": "2022-03-24T14:38:43.988Z"
   },
   {
    "duration": 0,
    "start_time": "2022-03-24T14:38:46.023Z"
   },
   {
    "duration": 0,
    "start_time": "2022-03-24T14:38:46.024Z"
   },
   {
    "duration": 441,
    "start_time": "2022-03-24T18:43:58.969Z"
   },
   {
    "duration": 14,
    "start_time": "2022-03-24T18:43:59.411Z"
   },
   {
    "duration": 11,
    "start_time": "2022-03-24T18:43:59.426Z"
   },
   {
    "duration": 11,
    "start_time": "2022-03-24T18:43:59.439Z"
   },
   {
    "duration": 6,
    "start_time": "2022-03-24T18:43:59.452Z"
   },
   {
    "duration": 15,
    "start_time": "2022-03-24T18:43:59.459Z"
   },
   {
    "duration": 10,
    "start_time": "2022-03-24T18:43:59.476Z"
   },
   {
    "duration": 46,
    "start_time": "2022-03-24T18:43:59.488Z"
   },
   {
    "duration": 24,
    "start_time": "2022-03-24T18:43:59.536Z"
   },
   {
    "duration": 20,
    "start_time": "2022-03-24T18:43:59.562Z"
   },
   {
    "duration": 1893,
    "start_time": "2022-03-24T18:43:59.584Z"
   },
   {
    "duration": 0,
    "start_time": "2022-03-24T18:44:01.478Z"
   },
   {
    "duration": 0,
    "start_time": "2022-03-24T18:44:01.479Z"
   },
   {
    "duration": 113,
    "start_time": "2022-03-24T18:45:34.977Z"
   },
   {
    "duration": 66,
    "start_time": "2022-03-24T18:46:56.960Z"
   },
   {
    "duration": 14,
    "start_time": "2022-03-24T18:46:57.028Z"
   },
   {
    "duration": 11,
    "start_time": "2022-03-24T18:46:57.043Z"
   },
   {
    "duration": 15,
    "start_time": "2022-03-24T18:46:57.056Z"
   },
   {
    "duration": 7,
    "start_time": "2022-03-24T18:46:57.073Z"
   },
   {
    "duration": 8,
    "start_time": "2022-03-24T18:46:57.081Z"
   },
   {
    "duration": 15,
    "start_time": "2022-03-24T18:46:57.090Z"
   },
   {
    "duration": 55,
    "start_time": "2022-03-24T18:46:57.107Z"
   },
   {
    "duration": 26,
    "start_time": "2022-03-24T18:46:57.163Z"
   },
   {
    "duration": 20,
    "start_time": "2022-03-24T18:46:59.660Z"
   },
   {
    "duration": 4,
    "start_time": "2022-03-24T18:51:24.760Z"
   },
   {
    "duration": 46,
    "start_time": "2022-03-28T11:45:07.847Z"
   },
   {
    "duration": 480,
    "start_time": "2022-03-28T11:45:15.953Z"
   },
   {
    "duration": 12,
    "start_time": "2022-03-28T11:45:16.435Z"
   },
   {
    "duration": 24,
    "start_time": "2022-03-28T11:45:16.449Z"
   },
   {
    "duration": 17,
    "start_time": "2022-03-28T11:45:16.474Z"
   },
   {
    "duration": 25,
    "start_time": "2022-03-28T11:45:16.492Z"
   },
   {
    "duration": 24,
    "start_time": "2022-03-28T11:45:16.518Z"
   },
   {
    "duration": 17,
    "start_time": "2022-03-28T11:45:16.543Z"
   },
   {
    "duration": 52,
    "start_time": "2022-03-28T11:45:16.562Z"
   },
   {
    "duration": 29,
    "start_time": "2022-03-28T11:45:16.616Z"
   },
   {
    "duration": 17,
    "start_time": "2022-03-28T11:45:16.647Z"
   },
   {
    "duration": 18,
    "start_time": "2022-03-28T11:45:16.666Z"
   },
   {
    "duration": 22,
    "start_time": "2022-03-28T11:45:16.685Z"
   },
   {
    "duration": 87,
    "start_time": "2022-03-28T11:45:16.708Z"
   },
   {
    "duration": 0,
    "start_time": "2022-03-28T11:45:16.797Z"
   },
   {
    "duration": 190,
    "start_time": "2022-03-28T11:48:24.703Z"
   },
   {
    "duration": 191,
    "start_time": "2022-03-28T11:48:32.083Z"
   },
   {
    "duration": 11,
    "start_time": "2022-03-28T11:50:15.383Z"
   },
   {
    "duration": 11,
    "start_time": "2022-03-28T11:50:18.544Z"
   },
   {
    "duration": 5,
    "start_time": "2022-03-28T11:50:35.403Z"
   },
   {
    "duration": 6,
    "start_time": "2022-03-28T11:50:38.672Z"
   },
   {
    "duration": 48,
    "start_time": "2022-03-28T13:33:33.066Z"
   },
   {
    "duration": 501,
    "start_time": "2022-03-28T13:33:40.882Z"
   },
   {
    "duration": 15,
    "start_time": "2022-03-28T13:33:41.385Z"
   },
   {
    "duration": 16,
    "start_time": "2022-03-28T13:33:41.402Z"
   },
   {
    "duration": 22,
    "start_time": "2022-03-28T13:33:41.420Z"
   },
   {
    "duration": 9,
    "start_time": "2022-03-28T13:33:41.446Z"
   },
   {
    "duration": 6,
    "start_time": "2022-03-28T13:33:41.457Z"
   },
   {
    "duration": 36,
    "start_time": "2022-03-28T13:33:41.465Z"
   },
   {
    "duration": 43,
    "start_time": "2022-03-28T13:33:41.503Z"
   },
   {
    "duration": 24,
    "start_time": "2022-03-28T13:33:41.548Z"
   },
   {
    "duration": 38,
    "start_time": "2022-03-28T13:33:41.574Z"
   },
   {
    "duration": 8,
    "start_time": "2022-03-28T13:33:41.614Z"
   },
   {
    "duration": 8,
    "start_time": "2022-03-28T13:33:41.624Z"
   },
   {
    "duration": 84,
    "start_time": "2022-03-28T13:33:41.634Z"
   },
   {
    "duration": 0,
    "start_time": "2022-03-28T13:33:41.720Z"
   },
   {
    "duration": 3388,
    "start_time": "2022-03-28T13:37:05.338Z"
   },
   {
    "duration": 9,
    "start_time": "2022-03-28T13:37:53.378Z"
   },
   {
    "duration": 8,
    "start_time": "2022-03-28T13:41:10.817Z"
   },
   {
    "duration": 5,
    "start_time": "2022-03-28T13:41:29.337Z"
   },
   {
    "duration": 19,
    "start_time": "2022-03-28T13:41:41.249Z"
   },
   {
    "duration": 11,
    "start_time": "2022-03-28T13:41:47.677Z"
   },
   {
    "duration": 10,
    "start_time": "2022-03-28T13:41:54.377Z"
   },
   {
    "duration": 479,
    "start_time": "2022-03-28T13:45:23.938Z"
   },
   {
    "duration": 19,
    "start_time": "2022-03-28T13:45:24.419Z"
   },
   {
    "duration": 34,
    "start_time": "2022-03-28T13:45:24.440Z"
   },
   {
    "duration": 23,
    "start_time": "2022-03-28T13:45:24.476Z"
   },
   {
    "duration": 27,
    "start_time": "2022-03-28T13:45:24.502Z"
   },
   {
    "duration": 16,
    "start_time": "2022-03-28T13:45:24.531Z"
   },
   {
    "duration": 37,
    "start_time": "2022-03-28T13:45:24.549Z"
   },
   {
    "duration": 66,
    "start_time": "2022-03-28T13:45:24.588Z"
   },
   {
    "duration": 39,
    "start_time": "2022-03-28T13:45:24.657Z"
   },
   {
    "duration": 32,
    "start_time": "2022-03-28T13:45:24.698Z"
   },
   {
    "duration": 10,
    "start_time": "2022-03-28T13:45:24.735Z"
   },
   {
    "duration": 36,
    "start_time": "2022-03-28T13:45:24.747Z"
   },
   {
    "duration": 94,
    "start_time": "2022-03-28T13:45:24.785Z"
   },
   {
    "duration": 0,
    "start_time": "2022-03-28T13:45:24.881Z"
   },
   {
    "duration": 10,
    "start_time": "2022-03-28T13:50:30.107Z"
   },
   {
    "duration": 14,
    "start_time": "2022-03-28T13:56:50.078Z"
   },
   {
    "duration": 10,
    "start_time": "2022-03-28T13:57:32.398Z"
   },
   {
    "duration": 3185,
    "start_time": "2022-03-28T13:59:21.546Z"
   },
   {
    "duration": 3503,
    "start_time": "2022-03-28T14:00:00.079Z"
   },
   {
    "duration": 13,
    "start_time": "2022-03-28T14:01:33.578Z"
   },
   {
    "duration": 11,
    "start_time": "2022-03-28T14:04:15.478Z"
   },
   {
    "duration": 196,
    "start_time": "2022-03-28T14:06:57.137Z"
   },
   {
    "duration": 13,
    "start_time": "2022-03-28T14:07:03.857Z"
   },
   {
    "duration": 9,
    "start_time": "2022-03-28T14:15:57.450Z"
   },
   {
    "duration": 20,
    "start_time": "2022-03-28T14:17:14.459Z"
   },
   {
    "duration": 34,
    "start_time": "2022-03-28T14:19:32.847Z"
   },
   {
    "duration": 12,
    "start_time": "2022-03-28T14:25:17.317Z"
   },
   {
    "duration": 10,
    "start_time": "2022-03-28T14:26:30.706Z"
   },
   {
    "duration": 8,
    "start_time": "2022-03-28T14:28:03.410Z"
   },
   {
    "duration": 10,
    "start_time": "2022-03-28T14:28:10.818Z"
   },
   {
    "duration": 4,
    "start_time": "2022-03-28T14:44:00.917Z"
   },
   {
    "duration": 49,
    "start_time": "2022-03-28T14:45:50.946Z"
   },
   {
    "duration": 591,
    "start_time": "2022-03-28T14:46:42.818Z"
   },
   {
    "duration": 496,
    "start_time": "2022-03-28T14:46:55.123Z"
   },
   {
    "duration": 14,
    "start_time": "2022-03-28T14:46:55.621Z"
   },
   {
    "duration": 13,
    "start_time": "2022-03-28T14:46:55.636Z"
   },
   {
    "duration": 33,
    "start_time": "2022-03-28T14:46:55.651Z"
   },
   {
    "duration": 7,
    "start_time": "2022-03-28T14:46:55.686Z"
   },
   {
    "duration": 9,
    "start_time": "2022-03-28T14:46:55.695Z"
   },
   {
    "duration": 6,
    "start_time": "2022-03-28T14:46:55.706Z"
   },
   {
    "duration": 39,
    "start_time": "2022-03-28T14:46:55.713Z"
   },
   {
    "duration": 46,
    "start_time": "2022-03-28T14:46:55.754Z"
   },
   {
    "duration": 21,
    "start_time": "2022-03-28T14:46:55.801Z"
   },
   {
    "duration": 21,
    "start_time": "2022-03-28T14:46:55.824Z"
   },
   {
    "duration": 43,
    "start_time": "2022-03-28T14:46:55.846Z"
   },
   {
    "duration": 68,
    "start_time": "2022-03-28T14:46:55.891Z"
   },
   {
    "duration": 0,
    "start_time": "2022-03-28T14:46:55.961Z"
   },
   {
    "duration": 0,
    "start_time": "2022-03-28T14:46:55.962Z"
   },
   {
    "duration": 0,
    "start_time": "2022-03-28T14:46:55.963Z"
   },
   {
    "duration": 0,
    "start_time": "2022-03-28T14:46:55.964Z"
   },
   {
    "duration": 0,
    "start_time": "2022-03-28T14:46:55.965Z"
   },
   {
    "duration": 0,
    "start_time": "2022-03-28T14:46:55.981Z"
   },
   {
    "duration": 0,
    "start_time": "2022-03-28T14:46:55.983Z"
   },
   {
    "duration": 0,
    "start_time": "2022-03-28T14:46:55.984Z"
   },
   {
    "duration": 19,
    "start_time": "2022-03-28T14:47:00.983Z"
   },
   {
    "duration": 26,
    "start_time": "2022-03-28T14:48:20.303Z"
   },
   {
    "duration": 30,
    "start_time": "2022-03-28T14:49:32.516Z"
   },
   {
    "duration": 31,
    "start_time": "2022-03-28T14:52:11.143Z"
   },
   {
    "duration": 2,
    "start_time": "2022-03-28T14:54:06.815Z"
   },
   {
    "duration": 8,
    "start_time": "2022-03-28T14:57:55.944Z"
   },
   {
    "duration": 9,
    "start_time": "2022-03-28T15:04:27.674Z"
   },
   {
    "duration": 9,
    "start_time": "2022-03-28T15:06:31.355Z"
   },
   {
    "duration": 12,
    "start_time": "2022-03-28T15:06:56.275Z"
   },
   {
    "duration": 11,
    "start_time": "2022-03-28T15:08:37.857Z"
   },
   {
    "duration": 13,
    "start_time": "2022-03-28T15:09:28.663Z"
   },
   {
    "duration": 8,
    "start_time": "2022-03-28T15:11:55.035Z"
   },
   {
    "duration": 13,
    "start_time": "2022-03-28T15:12:10.085Z"
   },
   {
    "duration": 17,
    "start_time": "2022-03-28T15:16:45.999Z"
   },
   {
    "duration": 12,
    "start_time": "2022-03-28T15:18:26.246Z"
   },
   {
    "duration": 12,
    "start_time": "2022-03-28T15:18:59.696Z"
   },
   {
    "duration": 598,
    "start_time": "2022-03-28T16:15:05.038Z"
   },
   {
    "duration": 22,
    "start_time": "2022-03-28T16:15:05.639Z"
   },
   {
    "duration": 19,
    "start_time": "2022-03-28T16:15:05.664Z"
   },
   {
    "duration": 30,
    "start_time": "2022-03-28T16:15:05.686Z"
   },
   {
    "duration": 30,
    "start_time": "2022-03-28T16:15:05.720Z"
   },
   {
    "duration": 12,
    "start_time": "2022-03-28T16:15:05.752Z"
   },
   {
    "duration": 28,
    "start_time": "2022-03-28T16:15:05.766Z"
   },
   {
    "duration": 62,
    "start_time": "2022-03-28T16:15:05.796Z"
   },
   {
    "duration": 39,
    "start_time": "2022-03-28T16:15:05.860Z"
   },
   {
    "duration": 51,
    "start_time": "2022-03-28T16:15:05.902Z"
   },
   {
    "duration": 28,
    "start_time": "2022-03-28T16:15:05.956Z"
   },
   {
    "duration": 21,
    "start_time": "2022-03-28T16:15:05.986Z"
   },
   {
    "duration": 142,
    "start_time": "2022-03-28T16:15:06.010Z"
   },
   {
    "duration": 0,
    "start_time": "2022-03-28T16:15:06.155Z"
   },
   {
    "duration": 0,
    "start_time": "2022-03-28T16:15:06.157Z"
   },
   {
    "duration": 0,
    "start_time": "2022-03-28T16:15:06.159Z"
   },
   {
    "duration": 0,
    "start_time": "2022-03-28T16:15:06.161Z"
   },
   {
    "duration": 0,
    "start_time": "2022-03-28T16:15:06.163Z"
   },
   {
    "duration": 0,
    "start_time": "2022-03-28T16:15:06.165Z"
   },
   {
    "duration": 0,
    "start_time": "2022-03-28T16:15:06.167Z"
   },
   {
    "duration": 0,
    "start_time": "2022-03-28T16:15:06.169Z"
   },
   {
    "duration": 0,
    "start_time": "2022-03-28T16:15:06.171Z"
   },
   {
    "duration": 0,
    "start_time": "2022-03-28T16:15:06.174Z"
   },
   {
    "duration": 0,
    "start_time": "2022-03-28T16:15:06.176Z"
   },
   {
    "duration": 0,
    "start_time": "2022-03-28T16:15:06.178Z"
   },
   {
    "duration": 0,
    "start_time": "2022-03-28T16:15:06.180Z"
   },
   {
    "duration": 0,
    "start_time": "2022-03-28T16:15:06.182Z"
   },
   {
    "duration": 236,
    "start_time": "2022-03-28T16:17:00.015Z"
   },
   {
    "duration": 17,
    "start_time": "2022-03-28T16:17:06.199Z"
   },
   {
    "duration": 209,
    "start_time": "2022-03-28T16:19:05.518Z"
   },
   {
    "duration": 616,
    "start_time": "2022-03-28T16:20:08.922Z"
   },
   {
    "duration": 262,
    "start_time": "2022-03-28T16:21:06.971Z"
   },
   {
    "duration": 635,
    "start_time": "2022-03-28T16:21:24.110Z"
   },
   {
    "duration": 20,
    "start_time": "2022-03-28T16:21:24.748Z"
   },
   {
    "duration": 17,
    "start_time": "2022-03-28T16:21:24.771Z"
   },
   {
    "duration": 20,
    "start_time": "2022-03-28T16:21:24.790Z"
   },
   {
    "duration": 9,
    "start_time": "2022-03-28T16:21:24.842Z"
   },
   {
    "duration": 5,
    "start_time": "2022-03-28T16:21:24.854Z"
   },
   {
    "duration": 5,
    "start_time": "2022-03-28T16:21:24.862Z"
   },
   {
    "duration": 88,
    "start_time": "2022-03-28T16:21:24.869Z"
   },
   {
    "duration": 36,
    "start_time": "2022-03-28T16:21:24.959Z"
   },
   {
    "duration": 55,
    "start_time": "2022-03-28T16:21:24.998Z"
   },
   {
    "duration": 28,
    "start_time": "2022-03-28T16:21:25.056Z"
   },
   {
    "duration": 18,
    "start_time": "2022-03-28T16:21:25.086Z"
   },
   {
    "duration": 300,
    "start_time": "2022-03-28T16:21:25.106Z"
   },
   {
    "duration": 17,
    "start_time": "2022-03-28T16:21:25.410Z"
   },
   {
    "duration": 28,
    "start_time": "2022-03-28T16:21:25.429Z"
   },
   {
    "duration": 164,
    "start_time": "2022-03-28T16:21:25.459Z"
   },
   {
    "duration": 0,
    "start_time": "2022-03-28T16:21:25.626Z"
   },
   {
    "duration": 0,
    "start_time": "2022-03-28T16:21:25.628Z"
   },
   {
    "duration": 0,
    "start_time": "2022-03-28T16:21:25.629Z"
   },
   {
    "duration": 0,
    "start_time": "2022-03-28T16:21:25.630Z"
   },
   {
    "duration": 0,
    "start_time": "2022-03-28T16:21:25.632Z"
   },
   {
    "duration": 0,
    "start_time": "2022-03-28T16:21:25.634Z"
   },
   {
    "duration": 0,
    "start_time": "2022-03-28T16:21:25.635Z"
   },
   {
    "duration": 0,
    "start_time": "2022-03-28T16:21:25.636Z"
   },
   {
    "duration": 0,
    "start_time": "2022-03-28T16:21:25.638Z"
   },
   {
    "duration": 0,
    "start_time": "2022-03-28T16:21:25.644Z"
   },
   {
    "duration": 0,
    "start_time": "2022-03-28T16:21:25.645Z"
   },
   {
    "duration": 19,
    "start_time": "2022-03-28T16:22:36.595Z"
   },
   {
    "duration": 17,
    "start_time": "2022-03-28T16:22:52.031Z"
   },
   {
    "duration": 17,
    "start_time": "2022-03-28T16:23:02.799Z"
   },
   {
    "duration": 214,
    "start_time": "2022-03-28T16:25:05.704Z"
   },
   {
    "duration": 423,
    "start_time": "2022-03-28T19:50:05.589Z"
   },
   {
    "duration": 18,
    "start_time": "2022-03-28T19:50:06.014Z"
   },
   {
    "duration": 11,
    "start_time": "2022-03-28T19:50:06.034Z"
   },
   {
    "duration": 12,
    "start_time": "2022-03-28T19:50:06.047Z"
   },
   {
    "duration": 8,
    "start_time": "2022-03-28T19:50:06.061Z"
   },
   {
    "duration": 8,
    "start_time": "2022-03-28T19:50:06.070Z"
   },
   {
    "duration": 15,
    "start_time": "2022-03-28T19:50:06.080Z"
   },
   {
    "duration": 56,
    "start_time": "2022-03-28T19:50:06.097Z"
   },
   {
    "duration": 25,
    "start_time": "2022-03-28T19:50:06.155Z"
   },
   {
    "duration": 21,
    "start_time": "2022-03-28T19:50:06.181Z"
   },
   {
    "duration": 41,
    "start_time": "2022-03-28T19:50:06.204Z"
   },
   {
    "duration": 13,
    "start_time": "2022-03-28T19:50:06.247Z"
   },
   {
    "duration": 151,
    "start_time": "2022-03-28T19:50:06.262Z"
   },
   {
    "duration": 17,
    "start_time": "2022-03-28T19:50:06.416Z"
   },
   {
    "duration": 11,
    "start_time": "2022-03-28T19:50:06.435Z"
   },
   {
    "duration": 71,
    "start_time": "2022-03-28T19:50:06.448Z"
   },
   {
    "duration": 0,
    "start_time": "2022-03-28T19:50:06.533Z"
   },
   {
    "duration": 0,
    "start_time": "2022-03-28T19:50:06.534Z"
   },
   {
    "duration": 0,
    "start_time": "2022-03-28T19:50:06.536Z"
   },
   {
    "duration": 0,
    "start_time": "2022-03-28T19:50:06.536Z"
   },
   {
    "duration": 0,
    "start_time": "2022-03-28T19:50:06.537Z"
   },
   {
    "duration": 0,
    "start_time": "2022-03-28T19:50:06.539Z"
   },
   {
    "duration": 0,
    "start_time": "2022-03-28T19:50:06.540Z"
   },
   {
    "duration": 0,
    "start_time": "2022-03-28T19:50:06.541Z"
   },
   {
    "duration": 0,
    "start_time": "2022-03-28T19:50:06.542Z"
   },
   {
    "duration": 0,
    "start_time": "2022-03-28T19:50:06.543Z"
   },
   {
    "duration": 0,
    "start_time": "2022-03-28T19:50:06.544Z"
   },
   {
    "duration": 113,
    "start_time": "2022-03-28T19:50:34.209Z"
   },
   {
    "duration": 7,
    "start_time": "2022-03-28T20:09:09.786Z"
   },
   {
    "duration": 15,
    "start_time": "2022-03-28T20:09:11.889Z"
   },
   {
    "duration": 145,
    "start_time": "2022-03-28T20:09:59.902Z"
   },
   {
    "duration": 25,
    "start_time": "2022-03-28T20:10:15.858Z"
   },
   {
    "duration": 14,
    "start_time": "2022-03-28T20:10:38.220Z"
   },
   {
    "duration": 8,
    "start_time": "2022-03-28T20:11:35.551Z"
   },
   {
    "duration": 21,
    "start_time": "2022-03-28T20:12:11.127Z"
   },
   {
    "duration": 35,
    "start_time": "2022-03-28T20:12:19.914Z"
   },
   {
    "duration": 31,
    "start_time": "2022-03-28T20:13:58.404Z"
   },
   {
    "duration": 18,
    "start_time": "2022-03-28T20:14:04.291Z"
   },
   {
    "duration": 27,
    "start_time": "2022-03-28T20:14:15.646Z"
   },
   {
    "duration": 32,
    "start_time": "2022-03-28T20:14:19.018Z"
   },
   {
    "duration": 16,
    "start_time": "2022-03-28T20:14:47.621Z"
   },
   {
    "duration": 16,
    "start_time": "2022-03-28T20:16:25.475Z"
   },
   {
    "duration": 440,
    "start_time": "2022-03-29T10:35:04.511Z"
   },
   {
    "duration": 13,
    "start_time": "2022-03-29T10:35:04.953Z"
   },
   {
    "duration": 13,
    "start_time": "2022-03-29T10:35:04.967Z"
   },
   {
    "duration": 14,
    "start_time": "2022-03-29T10:35:04.981Z"
   },
   {
    "duration": 8,
    "start_time": "2022-03-29T10:35:04.996Z"
   },
   {
    "duration": 6,
    "start_time": "2022-03-29T10:35:05.005Z"
   },
   {
    "duration": 5,
    "start_time": "2022-03-29T10:35:05.013Z"
   },
   {
    "duration": 39,
    "start_time": "2022-03-29T10:35:05.019Z"
   },
   {
    "duration": 40,
    "start_time": "2022-03-29T10:35:05.059Z"
   },
   {
    "duration": 20,
    "start_time": "2022-03-29T10:35:05.101Z"
   },
   {
    "duration": 19,
    "start_time": "2022-03-29T10:35:05.122Z"
   },
   {
    "duration": 12,
    "start_time": "2022-03-29T10:35:05.142Z"
   },
   {
    "duration": 136,
    "start_time": "2022-03-29T10:35:05.181Z"
   },
   {
    "duration": 479,
    "start_time": "2022-03-29T10:35:05.319Z"
   },
   {
    "duration": 0,
    "start_time": "2022-03-29T10:35:05.800Z"
   },
   {
    "duration": 0,
    "start_time": "2022-03-29T10:35:05.801Z"
   },
   {
    "duration": 0,
    "start_time": "2022-03-29T10:35:05.802Z"
   },
   {
    "duration": 0,
    "start_time": "2022-03-29T10:35:05.804Z"
   },
   {
    "duration": 0,
    "start_time": "2022-03-29T10:35:05.805Z"
   },
   {
    "duration": 0,
    "start_time": "2022-03-29T10:35:05.806Z"
   },
   {
    "duration": 0,
    "start_time": "2022-03-29T10:35:05.808Z"
   },
   {
    "duration": 0,
    "start_time": "2022-03-29T10:35:05.809Z"
   },
   {
    "duration": 0,
    "start_time": "2022-03-29T10:35:05.809Z"
   },
   {
    "duration": 0,
    "start_time": "2022-03-29T10:35:05.810Z"
   },
   {
    "duration": 0,
    "start_time": "2022-03-29T10:35:05.811Z"
   },
   {
    "duration": 0,
    "start_time": "2022-03-29T10:35:05.812Z"
   },
   {
    "duration": 0,
    "start_time": "2022-03-29T10:35:05.813Z"
   },
   {
    "duration": 12,
    "start_time": "2022-03-29T10:37:10.590Z"
   },
   {
    "duration": 65,
    "start_time": "2022-03-29T10:37:37.771Z"
   },
   {
    "duration": 15,
    "start_time": "2022-03-29T10:37:48.830Z"
   },
   {
    "duration": 14,
    "start_time": "2022-03-29T10:38:00.850Z"
   },
   {
    "duration": 11,
    "start_time": "2022-03-29T10:38:10.671Z"
   },
   {
    "duration": 9,
    "start_time": "2022-03-29T10:38:19.247Z"
   },
   {
    "duration": 8,
    "start_time": "2022-03-29T10:38:41.918Z"
   },
   {
    "duration": 17,
    "start_time": "2022-03-29T10:40:30.682Z"
   },
   {
    "duration": 21,
    "start_time": "2022-03-29T10:42:51.430Z"
   },
   {
    "duration": 16,
    "start_time": "2022-03-29T10:45:32.918Z"
   },
   {
    "duration": 14,
    "start_time": "2022-03-29T10:46:00.342Z"
   },
   {
    "duration": 12,
    "start_time": "2022-03-29T10:46:32.750Z"
   },
   {
    "duration": 14,
    "start_time": "2022-03-29T10:46:58.623Z"
   },
   {
    "duration": 421,
    "start_time": "2022-03-29T10:56:33.634Z"
   },
   {
    "duration": 12,
    "start_time": "2022-03-29T10:56:34.057Z"
   },
   {
    "duration": 10,
    "start_time": "2022-03-29T10:56:34.070Z"
   },
   {
    "duration": 13,
    "start_time": "2022-03-29T10:56:34.082Z"
   },
   {
    "duration": 6,
    "start_time": "2022-03-29T10:56:34.097Z"
   },
   {
    "duration": 5,
    "start_time": "2022-03-29T10:56:34.104Z"
   },
   {
    "duration": 5,
    "start_time": "2022-03-29T10:56:34.110Z"
   },
   {
    "duration": 34,
    "start_time": "2022-03-29T10:56:34.117Z"
   },
   {
    "duration": 42,
    "start_time": "2022-03-29T10:56:34.153Z"
   },
   {
    "duration": 18,
    "start_time": "2022-03-29T10:56:34.196Z"
   },
   {
    "duration": 17,
    "start_time": "2022-03-29T10:56:34.216Z"
   },
   {
    "duration": 11,
    "start_time": "2022-03-29T10:56:34.234Z"
   },
   {
    "duration": 150,
    "start_time": "2022-03-29T10:56:34.247Z"
   },
   {
    "duration": 9,
    "start_time": "2022-03-29T10:56:34.399Z"
   },
   {
    "duration": 14,
    "start_time": "2022-03-29T10:56:34.410Z"
   },
   {
    "duration": 20,
    "start_time": "2022-03-29T10:56:34.425Z"
   },
   {
    "duration": 44,
    "start_time": "2022-03-29T10:56:34.446Z"
   },
   {
    "duration": 2,
    "start_time": "2022-03-29T10:56:34.492Z"
   },
   {
    "duration": 40,
    "start_time": "2022-03-29T10:56:34.495Z"
   },
   {
    "duration": 2,
    "start_time": "2022-03-29T10:56:34.537Z"
   },
   {
    "duration": 19,
    "start_time": "2022-03-29T10:56:34.540Z"
   },
   {
    "duration": 25,
    "start_time": "2022-03-29T10:56:34.560Z"
   },
   {
    "duration": 27,
    "start_time": "2022-03-29T10:56:34.587Z"
   },
   {
    "duration": 2,
    "start_time": "2022-03-29T10:56:34.615Z"
   },
   {
    "duration": 16,
    "start_time": "2022-03-29T10:56:34.618Z"
   },
   {
    "duration": 760,
    "start_time": "2022-03-29T19:01:42.918Z"
   },
   {
    "duration": 21,
    "start_time": "2022-03-29T19:01:43.680Z"
   },
   {
    "duration": 40,
    "start_time": "2022-03-29T19:01:43.703Z"
   },
   {
    "duration": 20,
    "start_time": "2022-03-29T19:01:43.746Z"
   },
   {
    "duration": 11,
    "start_time": "2022-03-29T19:01:43.768Z"
   },
   {
    "duration": 16,
    "start_time": "2022-03-29T19:01:43.781Z"
   },
   {
    "duration": 11,
    "start_time": "2022-03-29T19:01:43.799Z"
   },
   {
    "duration": 80,
    "start_time": "2022-03-29T19:01:43.812Z"
   },
   {
    "duration": 59,
    "start_time": "2022-03-29T19:01:43.894Z"
   },
   {
    "duration": 33,
    "start_time": "2022-03-29T19:01:43.957Z"
   },
   {
    "duration": 52,
    "start_time": "2022-03-29T19:01:43.992Z"
   },
   {
    "duration": 21,
    "start_time": "2022-03-29T19:01:44.046Z"
   },
   {
    "duration": 279,
    "start_time": "2022-03-29T19:01:44.069Z"
   },
   {
    "duration": 16,
    "start_time": "2022-03-29T19:01:44.350Z"
   },
   {
    "duration": 20,
    "start_time": "2022-03-29T19:01:44.368Z"
   },
   {
    "duration": 54,
    "start_time": "2022-03-29T19:01:44.390Z"
   },
   {
    "duration": 48,
    "start_time": "2022-03-29T19:01:44.446Z"
   },
   {
    "duration": 3,
    "start_time": "2022-03-29T19:01:44.496Z"
   },
   {
    "duration": 84,
    "start_time": "2022-03-29T19:01:44.501Z"
   },
   {
    "duration": 3,
    "start_time": "2022-03-29T19:01:44.587Z"
   },
   {
    "duration": 46,
    "start_time": "2022-03-29T19:01:44.592Z"
   },
   {
    "duration": 39,
    "start_time": "2022-03-29T19:01:44.640Z"
   },
   {
    "duration": 75,
    "start_time": "2022-03-29T19:01:44.681Z"
   },
   {
    "duration": 3,
    "start_time": "2022-03-29T19:01:44.758Z"
   },
   {
    "duration": 31,
    "start_time": "2022-03-29T19:01:44.763Z"
   },
   {
    "duration": 495,
    "start_time": "2022-03-30T03:24:29.653Z"
   },
   {
    "duration": 14,
    "start_time": "2022-03-30T03:24:30.150Z"
   },
   {
    "duration": 15,
    "start_time": "2022-03-30T03:24:30.165Z"
   },
   {
    "duration": 12,
    "start_time": "2022-03-30T03:24:30.182Z"
   },
   {
    "duration": 7,
    "start_time": "2022-03-30T03:24:30.197Z"
   },
   {
    "duration": 8,
    "start_time": "2022-03-30T03:24:30.205Z"
   },
   {
    "duration": 6,
    "start_time": "2022-03-30T03:24:30.214Z"
   },
   {
    "duration": 64,
    "start_time": "2022-03-30T03:24:30.222Z"
   },
   {
    "duration": 25,
    "start_time": "2022-03-30T03:24:30.288Z"
   },
   {
    "duration": 21,
    "start_time": "2022-03-30T03:24:30.314Z"
   },
   {
    "duration": 36,
    "start_time": "2022-03-30T03:24:30.337Z"
   },
   {
    "duration": 13,
    "start_time": "2022-03-30T03:24:30.375Z"
   },
   {
    "duration": 149,
    "start_time": "2022-03-30T03:24:30.390Z"
   },
   {
    "duration": 10,
    "start_time": "2022-03-30T03:24:30.541Z"
   },
   {
    "duration": 11,
    "start_time": "2022-03-30T03:24:30.562Z"
   },
   {
    "duration": 26,
    "start_time": "2022-03-30T03:24:30.575Z"
   },
   {
    "duration": 30,
    "start_time": "2022-03-30T03:24:30.603Z"
   },
   {
    "duration": 3,
    "start_time": "2022-03-30T03:24:30.634Z"
   },
   {
    "duration": 48,
    "start_time": "2022-03-30T03:24:30.638Z"
   },
   {
    "duration": 2,
    "start_time": "2022-03-30T03:24:30.688Z"
   },
   {
    "duration": 70,
    "start_time": "2022-03-30T03:24:30.692Z"
   },
   {
    "duration": 0,
    "start_time": "2022-03-30T03:24:30.763Z"
   },
   {
    "duration": 0,
    "start_time": "2022-03-30T03:24:30.764Z"
   },
   {
    "duration": 18,
    "start_time": "2022-03-30T03:35:29.205Z"
   },
   {
    "duration": 16,
    "start_time": "2022-03-30T03:35:42.692Z"
   },
   {
    "duration": 559,
    "start_time": "2022-03-30T09:12:45.710Z"
   },
   {
    "duration": 20,
    "start_time": "2022-03-30T09:12:46.273Z"
   },
   {
    "duration": 48,
    "start_time": "2022-03-30T09:12:46.295Z"
   },
   {
    "duration": 55,
    "start_time": "2022-03-30T09:12:46.345Z"
   },
   {
    "duration": 42,
    "start_time": "2022-03-30T09:12:46.404Z"
   },
   {
    "duration": 66,
    "start_time": "2022-03-30T09:12:46.448Z"
   },
   {
    "duration": 64,
    "start_time": "2022-03-30T09:12:46.516Z"
   },
   {
    "duration": 114,
    "start_time": "2022-03-30T09:12:46.582Z"
   },
   {
    "duration": 36,
    "start_time": "2022-03-30T09:12:46.698Z"
   },
   {
    "duration": 56,
    "start_time": "2022-03-30T09:12:46.737Z"
   },
   {
    "duration": 35,
    "start_time": "2022-03-30T09:12:46.795Z"
   },
   {
    "duration": 54,
    "start_time": "2022-03-30T09:12:46.832Z"
   },
   {
    "duration": 316,
    "start_time": "2022-03-30T09:12:46.888Z"
   },
   {
    "duration": 14,
    "start_time": "2022-03-30T09:12:47.208Z"
   },
   {
    "duration": 74,
    "start_time": "2022-03-30T09:12:47.225Z"
   },
   {
    "duration": 103,
    "start_time": "2022-03-30T09:12:47.302Z"
   },
   {
    "duration": 115,
    "start_time": "2022-03-30T09:12:47.407Z"
   },
   {
    "duration": 38,
    "start_time": "2022-03-30T09:12:47.524Z"
   },
   {
    "duration": 93,
    "start_time": "2022-03-30T09:12:47.565Z"
   },
   {
    "duration": 21,
    "start_time": "2022-03-30T09:12:47.662Z"
   },
   {
    "duration": 98,
    "start_time": "2022-03-30T09:12:47.685Z"
   },
   {
    "duration": 36,
    "start_time": "2022-03-30T09:12:47.785Z"
   },
   {
    "duration": 65,
    "start_time": "2022-03-30T09:12:47.823Z"
   },
   {
    "duration": 747,
    "start_time": "2022-10-07T11:34:26.185Z"
   },
   {
    "duration": 15,
    "start_time": "2022-10-07T11:34:26.934Z"
   },
   {
    "duration": 12,
    "start_time": "2022-10-07T11:34:26.950Z"
   },
   {
    "duration": 13,
    "start_time": "2022-10-07T11:34:26.964Z"
   },
   {
    "duration": 6,
    "start_time": "2022-10-07T11:34:26.978Z"
   },
   {
    "duration": 25,
    "start_time": "2022-10-07T11:34:26.985Z"
   },
   {
    "duration": 3,
    "start_time": "2022-10-07T11:34:27.011Z"
   },
   {
    "duration": 37,
    "start_time": "2022-10-07T11:34:27.016Z"
   },
   {
    "duration": 23,
    "start_time": "2022-10-07T11:34:27.055Z"
   },
   {
    "duration": 43,
    "start_time": "2022-10-07T11:34:27.080Z"
   },
   {
    "duration": 18,
    "start_time": "2022-10-07T11:34:27.124Z"
   },
   {
    "duration": 11,
    "start_time": "2022-10-07T11:34:27.144Z"
   },
   {
    "duration": 164,
    "start_time": "2022-10-07T11:34:27.157Z"
   },
   {
    "duration": 9,
    "start_time": "2022-10-07T11:34:27.323Z"
   },
   {
    "duration": 11,
    "start_time": "2022-10-07T11:34:27.334Z"
   },
   {
    "duration": 18,
    "start_time": "2022-10-07T11:34:27.346Z"
   },
   {
    "duration": 46,
    "start_time": "2022-10-07T11:34:27.366Z"
   },
   {
    "duration": 2,
    "start_time": "2022-10-07T11:34:27.414Z"
   },
   {
    "duration": 34,
    "start_time": "2022-10-07T11:34:27.417Z"
   },
   {
    "duration": 2,
    "start_time": "2022-10-07T11:34:27.453Z"
   },
   {
    "duration": 23,
    "start_time": "2022-10-07T11:34:27.457Z"
   },
   {
    "duration": 2,
    "start_time": "2022-10-07T11:34:27.481Z"
   },
   {
    "duration": 41,
    "start_time": "2022-10-07T11:34:27.485Z"
   }
  ],
  "kernelspec": {
   "display_name": "Python 3 (ipykernel)",
   "language": "python",
   "name": "python3"
  },
  "language_info": {
   "codemirror_mode": {
    "name": "ipython",
    "version": 3
   },
   "file_extension": ".py",
   "mimetype": "text/x-python",
   "name": "python",
   "nbconvert_exporter": "python",
   "pygments_lexer": "ipython3",
   "version": "3.9.7"
  },
  "toc": {
   "base_numbering": 1,
   "nav_menu": {},
   "number_sections": true,
   "sideBar": true,
   "skip_h1_title": true,
   "title_cell": "Table of Contents",
   "title_sidebar": "Contents",
   "toc_cell": false,
   "toc_position": {},
   "toc_section_display": true,
   "toc_window_display": false
  }
 },
 "nbformat": 4,
 "nbformat_minor": 5
}
