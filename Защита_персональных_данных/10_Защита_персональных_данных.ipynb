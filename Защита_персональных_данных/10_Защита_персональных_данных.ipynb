{
 "cells": [
  {
   "cell_type": "markdown",
   "metadata": {},
   "source": [
    "<div style=\"border:solid Chocolate 2px; padding: 40px\">\n",
    "\n",
    "<b>Привет, Григорий!👋</b>\n",
    "\n",
    "Меня зовут Зуева Юлия, можно просто Юля 😏 Я буду ревьюером твоего проекта. Предлагаю обращаться на \"ты\", но если это неудобно, пожалуйста, скажи об этом!\n",
    "    \n",
    "Моя основная цель - помочь тебе стать компетентным Data Scientist'ом: вместе преодолеть трудности и еще больше развить твои сильные навыки 💪 В твоей работе я оставила комментарии, которые должны в этом помочь. Для твоего удобства комментарии раскрашены разными цветами: \n",
    "\n",
    "<br/>\n",
    "\n",
    "<div class=\"alert alert-success\">\n",
    "<h2> Комментарий ревьюера <a class=\"tocSkip\"> </h2>\n",
    "\n",
    "<b>Все отлично!👍:</b> В случае, если решение на отдельном шаге является полностью правильным, или если я посчитаю нужным тебя за что-то похвалить. На такие решения можно опираться в будущих проектах.\n",
    "</div>\n",
    "\n",
    "<br/>\n",
    "\n",
    "<div class=\"alert alert-warning\">\n",
    "    <h2> Комментарий ревьюера <a class=\"tocSkip\"> </h2>\n",
    "    \n",
    "<b>Некоторые замечания и рекомендации💡:</b> В случае, когда решение на отдельном шаге станет еще лучше, если внести небольшие коррективы. Ты можешь учесть эти комментарии при выполнении будущих заданий или доработать проект сейчас (однако это не обязательно).\n",
    "</div>\n",
    "\n",
    "\n",
    "<br/>\n",
    "<div class=\"alert alert-block alert-danger\">\n",
    "<h2> Комментарий ревьюера <a class=\"tocSkip\"></h2>\n",
    "\n",
    "    \n",
    "<b>На доработку🤔:</b>\n",
    " В случае, когда решение на отдельном шаге требует существенной переработки и внесения правок. Напоминаю, что проект не может быть принят с первого раза, если ревью содержит комментарии, рекомендующие доработать шаги.\n",
    "</div>\n",
    "    \n",
    "\n",
    "\n",
    "Чтобы наша с тобой работа была еще эффективнее, ты точно так же можешь оставлять комментарии и задавать мне вопросы. Для таких случаев, пожалуйста, выбери собственное оформление комментариев, которое будет отличаться от моего, чтобы не создавалась путаница. По этой же причине попрошу тебя не удалять и не изменять мои комментарии. Все это позволит лучше ориентироваться в нашем с тобой диалоге, а повторную проверку (в случае ее необходимости) выполнять оперативнее 🚀\n",
    "\n",
    "Не спеши расстраиваться, если что-то не удалось с первого раза. Вместе мы обязательно разберемся со всеми трудностями! 🤓"
   ]
  },
  {
   "cell_type": "markdown",
   "metadata": {
    "toc": true
   },
   "source": [
    "<h1>Содержание<span class=\"tocSkip\"></span></h1>\n",
    "<div class=\"toc\"><ul class=\"toc-item\"><li><span><a href=\"#Загрузка-данных\" data-toc-modified-id=\"Загрузка-данных-1\"><span class=\"toc-item-num\">1&nbsp;&nbsp;</span>Загрузка данных</a></span></li><li><span><a href=\"#Умножение-матриц\" data-toc-modified-id=\"Умножение-матриц-2\"><span class=\"toc-item-num\">2&nbsp;&nbsp;</span>Умножение матриц</a></span></li><li><span><a href=\"#Алгоритм-преобразования\" data-toc-modified-id=\"Алгоритм-преобразования-3\"><span class=\"toc-item-num\">3&nbsp;&nbsp;</span>Алгоритм преобразования</a></span></li><li><span><a href=\"#Проверка-алгоритма\" data-toc-modified-id=\"Проверка-алгоритма-4\"><span class=\"toc-item-num\">4&nbsp;&nbsp;</span>Проверка алгоритма</a></span></li><li><span><a href=\"#Чек-лист-проверки\" data-toc-modified-id=\"Чек-лист-проверки-5\"><span class=\"toc-item-num\">5&nbsp;&nbsp;</span>Чек-лист проверки</a></span></li></ul></div>"
   ]
  },
  {
   "cell_type": "markdown",
   "metadata": {},
   "source": [
    "# Защита персональных данных клиентов"
   ]
  },
  {
   "cell_type": "markdown",
   "metadata": {},
   "source": [
    "Вам нужно защитить данные клиентов страховой компании «Хоть потоп». Разработайте такой метод преобразования данных, чтобы по ним было сложно восстановить персональную информацию. Обоснуйте корректность его работы.\n",
    "\n",
    "Нужно защитить данные, чтобы при преобразовании качество моделей машинного обучения не ухудшилось. Подбирать наилучшую модель не требуется."
   ]
  },
  {
   "cell_type": "markdown",
   "metadata": {},
   "source": [
    "## Загрузка данных"
   ]
  },
  {
   "cell_type": "markdown",
   "metadata": {},
   "source": [
    "1.1. Импорт библиотек"
   ]
  },
  {
   "cell_type": "code",
   "execution_count": 1,
   "metadata": {},
   "outputs": [],
   "source": [
    "import matplotlib.pyplot as plt\n",
    "import numpy as np\n",
    "import pandas as pd\n",
    "import seaborn as sns\n",
    "\n",
    "sns.set_style('darkgrid')\n",
    "sns.set_palette('muted')\n",
    "\n",
    "from sklearn.datasets import make_spd_matrix\n",
    "from sklearn.linear_model import LinearRegression\n",
    "from sklearn.metrics import r2_score\n",
    "from sklearn.model_selection import train_test_split\n",
    "import warnings\n",
    "warnings.filterwarnings(\"ignore\")"
   ]
  },
  {
   "cell_type": "markdown",
   "metadata": {},
   "source": [
    "1.2. Чтение файла и изучение данных"
   ]
  },
  {
   "cell_type": "code",
   "execution_count": 2,
   "metadata": {},
   "outputs": [
    {
     "data": {
      "text/html": [
       "<div>\n",
       "<style scoped>\n",
       "    .dataframe tbody tr th:only-of-type {\n",
       "        vertical-align: middle;\n",
       "    }\n",
       "\n",
       "    .dataframe tbody tr th {\n",
       "        vertical-align: top;\n",
       "    }\n",
       "\n",
       "    .dataframe thead th {\n",
       "        text-align: right;\n",
       "    }\n",
       "</style>\n",
       "<table border=\"1\" class=\"dataframe\">\n",
       "  <thead>\n",
       "    <tr style=\"text-align: right;\">\n",
       "      <th></th>\n",
       "      <th>Пол</th>\n",
       "      <th>Возраст</th>\n",
       "      <th>Зарплата</th>\n",
       "      <th>Члены семьи</th>\n",
       "      <th>Страховые выплаты</th>\n",
       "    </tr>\n",
       "  </thead>\n",
       "  <tbody>\n",
       "    <tr>\n",
       "      <th>0</th>\n",
       "      <td>1</td>\n",
       "      <td>41.0</td>\n",
       "      <td>49600.0</td>\n",
       "      <td>1</td>\n",
       "      <td>0</td>\n",
       "    </tr>\n",
       "    <tr>\n",
       "      <th>1</th>\n",
       "      <td>0</td>\n",
       "      <td>46.0</td>\n",
       "      <td>38000.0</td>\n",
       "      <td>1</td>\n",
       "      <td>1</td>\n",
       "    </tr>\n",
       "    <tr>\n",
       "      <th>2</th>\n",
       "      <td>0</td>\n",
       "      <td>29.0</td>\n",
       "      <td>21000.0</td>\n",
       "      <td>0</td>\n",
       "      <td>0</td>\n",
       "    </tr>\n",
       "    <tr>\n",
       "      <th>3</th>\n",
       "      <td>0</td>\n",
       "      <td>21.0</td>\n",
       "      <td>41700.0</td>\n",
       "      <td>2</td>\n",
       "      <td>0</td>\n",
       "    </tr>\n",
       "    <tr>\n",
       "      <th>4</th>\n",
       "      <td>1</td>\n",
       "      <td>28.0</td>\n",
       "      <td>26100.0</td>\n",
       "      <td>0</td>\n",
       "      <td>0</td>\n",
       "    </tr>\n",
       "  </tbody>\n",
       "</table>\n",
       "</div>"
      ],
      "text/plain": [
       "   Пол  Возраст  Зарплата  Члены семьи  Страховые выплаты\n",
       "0    1     41.0   49600.0            1                  0\n",
       "1    0     46.0   38000.0            1                  1\n",
       "2    0     29.0   21000.0            0                  0\n",
       "3    0     21.0   41700.0            2                  0\n",
       "4    1     28.0   26100.0            0                  0"
      ]
     },
     "execution_count": 2,
     "metadata": {},
     "output_type": "execute_result"
    }
   ],
   "source": [
    "data = pd.read_csv(\"/datasets/insurance.csv\")\n",
    "data.head()"
   ]
  },
  {
   "cell_type": "code",
   "execution_count": 3,
   "metadata": {},
   "outputs": [
    {
     "data": {
      "text/html": [
       "<div>\n",
       "<style scoped>\n",
       "    .dataframe tbody tr th:only-of-type {\n",
       "        vertical-align: middle;\n",
       "    }\n",
       "\n",
       "    .dataframe tbody tr th {\n",
       "        vertical-align: top;\n",
       "    }\n",
       "\n",
       "    .dataframe thead th {\n",
       "        text-align: right;\n",
       "    }\n",
       "</style>\n",
       "<table border=\"1\" class=\"dataframe\">\n",
       "  <thead>\n",
       "    <tr style=\"text-align: right;\">\n",
       "      <th></th>\n",
       "      <th>Пол</th>\n",
       "      <th>Возраст</th>\n",
       "      <th>Зарплата</th>\n",
       "      <th>Члены семьи</th>\n",
       "      <th>Страховые выплаты</th>\n",
       "    </tr>\n",
       "  </thead>\n",
       "  <tbody>\n",
       "    <tr>\n",
       "      <th>4995</th>\n",
       "      <td>0</td>\n",
       "      <td>28.0</td>\n",
       "      <td>35700.0</td>\n",
       "      <td>2</td>\n",
       "      <td>0</td>\n",
       "    </tr>\n",
       "    <tr>\n",
       "      <th>4996</th>\n",
       "      <td>0</td>\n",
       "      <td>34.0</td>\n",
       "      <td>52400.0</td>\n",
       "      <td>1</td>\n",
       "      <td>0</td>\n",
       "    </tr>\n",
       "    <tr>\n",
       "      <th>4997</th>\n",
       "      <td>0</td>\n",
       "      <td>20.0</td>\n",
       "      <td>33900.0</td>\n",
       "      <td>2</td>\n",
       "      <td>0</td>\n",
       "    </tr>\n",
       "    <tr>\n",
       "      <th>4998</th>\n",
       "      <td>1</td>\n",
       "      <td>22.0</td>\n",
       "      <td>32700.0</td>\n",
       "      <td>3</td>\n",
       "      <td>0</td>\n",
       "    </tr>\n",
       "    <tr>\n",
       "      <th>4999</th>\n",
       "      <td>1</td>\n",
       "      <td>28.0</td>\n",
       "      <td>40600.0</td>\n",
       "      <td>1</td>\n",
       "      <td>0</td>\n",
       "    </tr>\n",
       "  </tbody>\n",
       "</table>\n",
       "</div>"
      ],
      "text/plain": [
       "      Пол  Возраст  Зарплата  Члены семьи  Страховые выплаты\n",
       "4995    0     28.0   35700.0            2                  0\n",
       "4996    0     34.0   52400.0            1                  0\n",
       "4997    0     20.0   33900.0            2                  0\n",
       "4998    1     22.0   32700.0            3                  0\n",
       "4999    1     28.0   40600.0            1                  0"
      ]
     },
     "execution_count": 3,
     "metadata": {},
     "output_type": "execute_result"
    }
   ],
   "source": [
    "data.tail()"
   ]
  },
  {
   "cell_type": "markdown",
   "metadata": {},
   "source": [
    "Методом info посмотрим общую информацию о датафрейме."
   ]
  },
  {
   "cell_type": "code",
   "execution_count": 4,
   "metadata": {},
   "outputs": [
    {
     "name": "stdout",
     "output_type": "stream",
     "text": [
      "<class 'pandas.core.frame.DataFrame'>\n",
      "RangeIndex: 5000 entries, 0 to 4999\n",
      "Data columns (total 5 columns):\n",
      " #   Column             Non-Null Count  Dtype  \n",
      "---  ------             --------------  -----  \n",
      " 0   Пол                5000 non-null   int64  \n",
      " 1   Возраст            5000 non-null   float64\n",
      " 2   Зарплата           5000 non-null   float64\n",
      " 3   Члены семьи        5000 non-null   int64  \n",
      " 4   Страховые выплаты  5000 non-null   int64  \n",
      "dtypes: float64(2), int64(3)\n",
      "memory usage: 195.4 KB\n"
     ]
    }
   ],
   "source": [
    "data.info()"
   ]
  },
  {
   "cell_type": "markdown",
   "metadata": {},
   "source": [
    "Можно отметить, что:\n",
    "\n",
    "датафрейм содержит 4 признака и 1 целевой признак (страховые выплаты клиенту за последние 5 лет)\n",
    "\n",
    "все признаки — количественные\n",
    "\n",
    "пропуски в данных отсутствуют."
   ]
  },
  {
   "cell_type": "markdown",
   "metadata": {},
   "source": [
    "На этом этапе проекта:\n",
    "\n",
    "для удобства переименуем столбцы\n",
    "\n",
    "для признаков age, family_members и insurance_benefits заменим тип данных на int\n",
    "\n",
    "проверим данные на дубликаты\n",
    "\n",
    "визуализируем признаки и посмотрим на корреляцию между признаками."
   ]
  },
  {
   "cell_type": "markdown",
   "metadata": {},
   "source": [
    "Переименуем столбцы:"
   ]
  },
  {
   "cell_type": "code",
   "execution_count": 5,
   "metadata": {},
   "outputs": [
    {
     "data": {
      "text/html": [
       "<div>\n",
       "<style scoped>\n",
       "    .dataframe tbody tr th:only-of-type {\n",
       "        vertical-align: middle;\n",
       "    }\n",
       "\n",
       "    .dataframe tbody tr th {\n",
       "        vertical-align: top;\n",
       "    }\n",
       "\n",
       "    .dataframe thead th {\n",
       "        text-align: right;\n",
       "    }\n",
       "</style>\n",
       "<table border=\"1\" class=\"dataframe\">\n",
       "  <thead>\n",
       "    <tr style=\"text-align: right;\">\n",
       "      <th></th>\n",
       "      <th>sex</th>\n",
       "      <th>age</th>\n",
       "      <th>salary</th>\n",
       "      <th>family_members</th>\n",
       "      <th>insurance_benefits</th>\n",
       "    </tr>\n",
       "  </thead>\n",
       "  <tbody>\n",
       "    <tr>\n",
       "      <th>1723</th>\n",
       "      <td>0</td>\n",
       "      <td>20.0</td>\n",
       "      <td>44400.0</td>\n",
       "      <td>0</td>\n",
       "      <td>0</td>\n",
       "    </tr>\n",
       "  </tbody>\n",
       "</table>\n",
       "</div>"
      ],
      "text/plain": [
       "      sex   age   salary  family_members  insurance_benefits\n",
       "1723    0  20.0  44400.0               0                   0"
      ]
     },
     "execution_count": 5,
     "metadata": {},
     "output_type": "execute_result"
    }
   ],
   "source": [
    "data.rename(columns={'Пол': 'sex', 'Возраст': 'age', 'Зарплата': 'salary', 'Члены семьи': 'family_members', \n",
    "                     'Страховые выплаты': 'insurance_benefits'}, inplace=True)\n",
    "data.sample()"
   ]
  },
  {
   "cell_type": "markdown",
   "metadata": {},
   "source": [
    "Заменим тип данных для признаков age, family_members и insurance_benefits."
   ]
  },
  {
   "cell_type": "code",
   "execution_count": 6,
   "metadata": {},
   "outputs": [],
   "source": [
    "to_int = ['age', 'family_members', 'insurance_benefits']\n",
    "data[to_int] = data[to_int].astype('int')"
   ]
  },
  {
   "cell_type": "code",
   "execution_count": 7,
   "metadata": {},
   "outputs": [
    {
     "data": {
      "text/plain": [
       "age                   int64\n",
       "family_members        int64\n",
       "insurance_benefits    int64\n",
       "dtype: object"
      ]
     },
     "execution_count": 7,
     "metadata": {},
     "output_type": "execute_result"
    }
   ],
   "source": [
    "data[to_int].dtypes"
   ]
  },
  {
   "cell_type": "markdown",
   "metadata": {},
   "source": [
    "Проверим данные на дубликаты."
   ]
  },
  {
   "cell_type": "code",
   "execution_count": 8,
   "metadata": {},
   "outputs": [
    {
     "data": {
      "text/plain": [
       "False    4847\n",
       "True      153\n",
       "dtype: int64"
      ]
     },
     "execution_count": 8,
     "metadata": {},
     "output_type": "execute_result"
    }
   ],
   "source": [
    "data.duplicated().value_counts()"
   ]
  },
  {
   "cell_type": "markdown",
   "metadata": {},
   "source": [
    "Датасет содержит дубликаты, удалим их."
   ]
  },
  {
   "cell_type": "code",
   "execution_count": 9,
   "metadata": {},
   "outputs": [],
   "source": [
    "data.drop_duplicates(inplace=True)\n",
    "data.reset_index(inplace=True, drop=True)"
   ]
  },
  {
   "cell_type": "markdown",
   "metadata": {},
   "source": [
    "Проверка результата."
   ]
  },
  {
   "cell_type": "code",
   "execution_count": 10,
   "metadata": {},
   "outputs": [
    {
     "name": "stdout",
     "output_type": "stream",
     "text": [
      "<class 'pandas.core.frame.DataFrame'>\n",
      "RangeIndex: 4847 entries, 0 to 4846\n",
      "Data columns (total 5 columns):\n",
      " #   Column              Non-Null Count  Dtype  \n",
      "---  ------              --------------  -----  \n",
      " 0   sex                 4847 non-null   int64  \n",
      " 1   age                 4847 non-null   int64  \n",
      " 2   salary              4847 non-null   float64\n",
      " 3   family_members      4847 non-null   int64  \n",
      " 4   insurance_benefits  4847 non-null   int64  \n",
      "dtypes: float64(1), int64(4)\n",
      "memory usage: 189.5 KB\n"
     ]
    }
   ],
   "source": [
    "data.info()"
   ]
  },
  {
   "cell_type": "markdown",
   "metadata": {},
   "source": [
    "Исследуем признаки более подробно:\n",
    "\n",
    "методом describe посмотрим общую статистическую информацию о каждом признаке\n",
    "\n",
    "визуализируем графики\n",
    "\n",
    "построим матрицу корреляций."
   ]
  },
  {
   "cell_type": "code",
   "execution_count": 11,
   "metadata": {},
   "outputs": [
    {
     "data": {
      "text/html": [
       "<div>\n",
       "<style scoped>\n",
       "    .dataframe tbody tr th:only-of-type {\n",
       "        vertical-align: middle;\n",
       "    }\n",
       "\n",
       "    .dataframe tbody tr th {\n",
       "        vertical-align: top;\n",
       "    }\n",
       "\n",
       "    .dataframe thead th {\n",
       "        text-align: right;\n",
       "    }\n",
       "</style>\n",
       "<table border=\"1\" class=\"dataframe\">\n",
       "  <thead>\n",
       "    <tr style=\"text-align: right;\">\n",
       "      <th></th>\n",
       "      <th>sex</th>\n",
       "      <th>age</th>\n",
       "      <th>salary</th>\n",
       "      <th>family_members</th>\n",
       "      <th>insurance_benefits</th>\n",
       "    </tr>\n",
       "  </thead>\n",
       "  <tbody>\n",
       "    <tr>\n",
       "      <th>count</th>\n",
       "      <td>4847.000000</td>\n",
       "      <td>4847.000000</td>\n",
       "      <td>4847.000000</td>\n",
       "      <td>4847.000000</td>\n",
       "      <td>4847.000000</td>\n",
       "    </tr>\n",
       "    <tr>\n",
       "      <th>mean</th>\n",
       "      <td>0.498453</td>\n",
       "      <td>31.023932</td>\n",
       "      <td>39895.811842</td>\n",
       "      <td>1.203425</td>\n",
       "      <td>0.152259</td>\n",
       "    </tr>\n",
       "    <tr>\n",
       "      <th>std</th>\n",
       "      <td>0.500049</td>\n",
       "      <td>8.487995</td>\n",
       "      <td>9972.953985</td>\n",
       "      <td>1.098664</td>\n",
       "      <td>0.468934</td>\n",
       "    </tr>\n",
       "    <tr>\n",
       "      <th>min</th>\n",
       "      <td>0.000000</td>\n",
       "      <td>18.000000</td>\n",
       "      <td>5300.000000</td>\n",
       "      <td>0.000000</td>\n",
       "      <td>0.000000</td>\n",
       "    </tr>\n",
       "    <tr>\n",
       "      <th>25%</th>\n",
       "      <td>0.000000</td>\n",
       "      <td>24.000000</td>\n",
       "      <td>33200.000000</td>\n",
       "      <td>0.000000</td>\n",
       "      <td>0.000000</td>\n",
       "    </tr>\n",
       "    <tr>\n",
       "      <th>50%</th>\n",
       "      <td>0.000000</td>\n",
       "      <td>30.000000</td>\n",
       "      <td>40200.000000</td>\n",
       "      <td>1.000000</td>\n",
       "      <td>0.000000</td>\n",
       "    </tr>\n",
       "    <tr>\n",
       "      <th>75%</th>\n",
       "      <td>1.000000</td>\n",
       "      <td>37.000000</td>\n",
       "      <td>46600.000000</td>\n",
       "      <td>2.000000</td>\n",
       "      <td>0.000000</td>\n",
       "    </tr>\n",
       "    <tr>\n",
       "      <th>max</th>\n",
       "      <td>1.000000</td>\n",
       "      <td>65.000000</td>\n",
       "      <td>79000.000000</td>\n",
       "      <td>6.000000</td>\n",
       "      <td>5.000000</td>\n",
       "    </tr>\n",
       "  </tbody>\n",
       "</table>\n",
       "</div>"
      ],
      "text/plain": [
       "               sex          age        salary  family_members  \\\n",
       "count  4847.000000  4847.000000   4847.000000     4847.000000   \n",
       "mean      0.498453    31.023932  39895.811842        1.203425   \n",
       "std       0.500049     8.487995   9972.953985        1.098664   \n",
       "min       0.000000    18.000000   5300.000000        0.000000   \n",
       "25%       0.000000    24.000000  33200.000000        0.000000   \n",
       "50%       0.000000    30.000000  40200.000000        1.000000   \n",
       "75%       1.000000    37.000000  46600.000000        2.000000   \n",
       "max       1.000000    65.000000  79000.000000        6.000000   \n",
       "\n",
       "       insurance_benefits  \n",
       "count         4847.000000  \n",
       "mean             0.152259  \n",
       "std              0.468934  \n",
       "min              0.000000  \n",
       "25%              0.000000  \n",
       "50%              0.000000  \n",
       "75%              0.000000  \n",
       "max              5.000000  "
      ]
     },
     "execution_count": 11,
     "metadata": {},
     "output_type": "execute_result"
    }
   ],
   "source": [
    "data.describe()"
   ]
  },
  {
   "cell_type": "code",
   "execution_count": 12,
   "metadata": {},
   "outputs": [
    {
     "data": {
      "image/png": "[encoded data removed]",
      "text/plain": [
       "<Figure size 720x432 with 1 Axes>"
      ]
     },
     "metadata": {},
     "output_type": "display_data"
    },
    {
     "data": {
      "image/png": "[encoded data removed]",
      "text/plain": [
       "<Figure size 720x432 with 1 Axes>"
      ]
     },
     "metadata": {},
     "output_type": "display_data"
    },
    {
     "data": {
      "image/png": "[encoded data removed]",
      "text/plain": [
       "<Figure size 720x432 with 1 Axes>"
      ]
     },
     "metadata": {},
     "output_type": "display_data"
    },
    {
     "data": {
      "image/png": "[encoded data removed]",
      "text/plain": [
       "<Figure size 720x432 with 1 Axes>"
      ]
     },
     "metadata": {},
     "output_type": "display_data"
    },
    {
     "data": {
      "image/png": "[encoded data removed]",
      "text/plain": [
       "<Figure size 720x432 with 1 Axes>"
      ]
     },
     "metadata": {},
     "output_type": "display_data"
    }
   ],
   "source": [
    "countplot = ['sex', 'age', 'family_members', 'insurance_benefits']\n",
    "displot = ['salary']\n",
    "\n",
    "for col in countplot:\n",
    "    values = data[col].value_counts()\n",
    "    plt.figure(figsize=(10,6))\n",
    "    values.plot(kind = 'bar')\n",
    "    plt.xticks(rotation=0)\n",
    "    plt.title(col)\n",
    "    \n",
    "for col in displot:\n",
    "    plt.figure(figsize=(10,6))\n",
    "    sns.distplot(data[col])\n",
    "    plt.title(col) "
   ]
  },
  {
   "cell_type": "markdown",
   "metadata": {},
   "source": [
    "количество женщин и мужчин среди клиентов почти одинаковое\n",
    "\n",
    "чаще всего в страховую компанию обращаются люди в возрасте от 18 до ~42 года\n",
    "\n",
    "чаще всего клиенты имеют 1 член семьи, реже - 3 и больше\n",
    "\n",
    "наибольшая часть клиентов (~88%) за последние 5 лет не получали страховые выплаты. ~8% клиентов получили выплату один раз\n",
    "\n",
    "из графика распределение зарплаты видим, что большинство значений приходится на диапазон от 35 до 45 тысяч руб. в месяц."
   ]
  },
  {
   "cell_type": "markdown",
   "metadata": {},
   "source": [
    "Посмотрим на корреляцию между признаками."
   ]
  },
  {
   "cell_type": "code",
   "execution_count": 13,
   "metadata": {},
   "outputs": [
    {
     "data": {
      "text/html": [
       "<div>\n",
       "<style scoped>\n",
       "    .dataframe tbody tr th:only-of-type {\n",
       "        vertical-align: middle;\n",
       "    }\n",
       "\n",
       "    .dataframe tbody tr th {\n",
       "        vertical-align: top;\n",
       "    }\n",
       "\n",
       "    .dataframe thead th {\n",
       "        text-align: right;\n",
       "    }\n",
       "</style>\n",
       "<table border=\"1\" class=\"dataframe\">\n",
       "  <thead>\n",
       "    <tr style=\"text-align: right;\">\n",
       "      <th></th>\n",
       "      <th>sex</th>\n",
       "      <th>age</th>\n",
       "      <th>salary</th>\n",
       "      <th>family_members</th>\n",
       "      <th>insurance_benefits</th>\n",
       "    </tr>\n",
       "  </thead>\n",
       "  <tbody>\n",
       "    <tr>\n",
       "      <th>sex</th>\n",
       "      <td>1.000000</td>\n",
       "      <td>0.001953</td>\n",
       "      <td>0.015456</td>\n",
       "      <td>-0.007315</td>\n",
       "      <td>0.011565</td>\n",
       "    </tr>\n",
       "    <tr>\n",
       "      <th>age</th>\n",
       "      <td>0.001953</td>\n",
       "      <td>1.000000</td>\n",
       "      <td>-0.017386</td>\n",
       "      <td>-0.009064</td>\n",
       "      <td>0.654964</td>\n",
       "    </tr>\n",
       "    <tr>\n",
       "      <th>salary</th>\n",
       "      <td>0.015456</td>\n",
       "      <td>-0.017386</td>\n",
       "      <td>1.000000</td>\n",
       "      <td>-0.031687</td>\n",
       "      <td>-0.013123</td>\n",
       "    </tr>\n",
       "    <tr>\n",
       "      <th>family_members</th>\n",
       "      <td>-0.007315</td>\n",
       "      <td>-0.009064</td>\n",
       "      <td>-0.031687</td>\n",
       "      <td>1.000000</td>\n",
       "      <td>-0.039303</td>\n",
       "    </tr>\n",
       "    <tr>\n",
       "      <th>insurance_benefits</th>\n",
       "      <td>0.011565</td>\n",
       "      <td>0.654964</td>\n",
       "      <td>-0.013123</td>\n",
       "      <td>-0.039303</td>\n",
       "      <td>1.000000</td>\n",
       "    </tr>\n",
       "  </tbody>\n",
       "</table>\n",
       "</div>"
      ],
      "text/plain": [
       "                         sex       age    salary  family_members  \\\n",
       "sex                 1.000000  0.001953  0.015456       -0.007315   \n",
       "age                 0.001953  1.000000 -0.017386       -0.009064   \n",
       "salary              0.015456 -0.017386  1.000000       -0.031687   \n",
       "family_members     -0.007315 -0.009064 -0.031687        1.000000   \n",
       "insurance_benefits  0.011565  0.654964 -0.013123       -0.039303   \n",
       "\n",
       "                    insurance_benefits  \n",
       "sex                           0.011565  \n",
       "age                           0.654964  \n",
       "salary                       -0.013123  \n",
       "family_members               -0.039303  \n",
       "insurance_benefits            1.000000  "
      ]
     },
     "execution_count": 13,
     "metadata": {},
     "output_type": "execute_result"
    }
   ],
   "source": [
    "correlation_map = data.corr()\n",
    "correlation_map"
   ]
  },
  {
   "cell_type": "code",
   "execution_count": 14,
   "metadata": {},
   "outputs": [
    {
     "data": {
      "text/plain": [
       "<AxesSubplot:title={'center':'Корреляция между признаками'}>"
      ]
     },
     "execution_count": 14,
     "metadata": {},
     "output_type": "execute_result"
    },
    {
     "data": {
      "image/png": "[encoded data removed]",
      "text/plain": [
       "<Figure size 432x432 with 2 Axes>"
      ]
     },
     "metadata": {},
     "output_type": "display_data"
    }
   ],
   "source": [
    "plt.figure(figsize = (6,6))\n",
    "plt.title('Корреляция между признаками', size=14)\n",
    "sns.heatmap(correlation_map, annot = True, square=True)"
   ]
  },
  {
   "cell_type": "markdown",
   "metadata": {},
   "source": [
    "Вывод: Можно сказать, что есть корреляция между признаком age и целевым признаком insurance_benefits (коэффициент корреляции = 0.65).На этом этапе проекта загрузили и изучили данные. Убедились, что данные не содержат пропуски.\n",
    "Обработали данные: заменили тип данных для признаков age, family_members и insurance_benefits, переименовали признаки.\n",
    "Подробно изучили каждый из признаков и выяснили, что количество женщин и мужчин среди клиентов страховой компании почти одинаковая.Чаще всего в страховую компанию обращаются люди в возрасте от 18 до ~42 года.Чаще всего клиенты имеют 1 член семьи, реже - 3 и больше.Чаще всего клиенты страховой компании зарабатывают от 35 до 45 тысяч руб. в месяц.\n",
    "88% клиентов за последние 5 лет не получали страховые выплаты."
   ]
  },
  {
   "cell_type": "markdown",
   "metadata": {},
   "source": [
    "<div class=\"alert alert-success\">\n",
    "<h2> Комментарий ревьюера <a class=\"tocSkip\"> </h2>\n",
    "\n",
    "<b>Отличная работа!👍:</b> \n",
    "\n",
    "Превосходное выполнение шага! Всегда нужно хорошо знать свои данные, чтобы понимать насколько адекватно работает модель :)"
   ]
  },
  {
   "cell_type": "markdown",
   "metadata": {},
   "source": [
    "## Умножение матриц"
   ]
  },
  {
   "cell_type": "markdown",
   "metadata": {},
   "source": [
    "В этом задании вы можете записывать формулы в *Jupyter Notebook.*\n",
    "\n",
    "Чтобы записать формулу внутри текста, окружите её символами доллара \\\\$; если снаружи —  двойными символами \\\\$\\\\$. Эти формулы записываются на языке вёрстки *LaTeX.* \n",
    "\n",
    "Для примера мы записали формулы линейной регрессии. Можете их скопировать и отредактировать, чтобы решить задачу.\n",
    "\n",
    "Работать в *LaTeX* необязательно."
   ]
  },
  {
   "cell_type": "markdown",
   "metadata": {},
   "source": [
    "Обозначения:\n",
    "\n",
    "- $X$ — матрица признаков (нулевой столбец состоит из единиц)\n",
    "\n",
    "- $y$ — вектор целевого признака\n",
    "\n",
    "- $P$ — матрица, на которую умножаются признаки\n",
    "\n",
    "- $w$ — вектор весов линейной регрессии (нулевой элемент равен сдвигу)"
   ]
  },
  {
   "cell_type": "markdown",
   "metadata": {},
   "source": [
    "Предсказания:\n",
    "\n",
    "$$\n",
    "a = Xw\n",
    "$$\n",
    "\n",
    "Задача обучения:\n",
    "\n",
    "$$\n",
    "w = \\arg\\min_w MSE(Xw, y)\n",
    "$$\n",
    "\n",
    "Формула обучения:\n",
    "\n",
    "$$\n",
    "w = (X^T X)^{-1} X^T y\n",
    "$$"
   ]
  },
  {
   "cell_type": "markdown",
   "metadata": {},
   "source": [
    "**Ответ:** нет, не изменится.\n",
    "\n",
    "**Обоснование:** ..."
   ]
  },
  {
   "cell_type": "markdown",
   "metadata": {},
   "source": [
    "Новая матрица признаков:\n",
    "\n",
    "$$\n",
    "𝑋'= 𝑋𝑃\n",
    "$$\n",
    "\n",
    "Таким образом новый вектор весов  можем расчитать следующим образом:\n",
    "\n",
    "$$\n",
    "w = ((𝑋𝑃)^T𝑋𝑃)^{-1}(𝑋𝑃)_y^T == (P^TX^TXP)^{-1}P^TX_y^T == P^{-1}(X^TX)^{-1}(P^T)^{-1}P^TX_y^T == P^{-1}w\n",
    "$$\n",
    "\n",
    "так как внутри формулы можно выделить формулу расчета w, а\n",
    "\n",
    "$$\n",
    "(P^T)^{-1}P^T = E = 1\n",
    "$$\n",
    "\n",
    "Таким образом:\n",
    "\n",
    "$$\n",
    "a' = X'w' = XPP^{-1}w = XEw = Xw = a\n",
    "$$\n",
    "\n",
    "Тут можно отметить, что, если любую матрицу Р умножить на единичную (или наоборот), получится эта же матрица Р. Т.е., матрицы будут одинаковыми, а качество линейной регрессии не изменится."
   ]
  },
  {
   "cell_type": "markdown",
   "metadata": {},
   "source": [
    "Вывод: Предсказания модели не изменились, значит, и качество осталось тем же."
   ]
  },
  {
   "cell_type": "markdown",
   "metadata": {},
   "source": [
    "<div class=\"alert alert-block alert-danger\">\n",
    "<h2> Комментарий ревьюера <a class=\"tocSkip\"></h2>\n",
    "\n",
    "<b>На доработку🤔:</b>\n",
    "    \n",
    "Пока нельзя сказать, что нам удалось доказать отсутствие изменения качества модели. Если у тебя на этом этапе возникли сложности, не переживай, сейчас со всем по порядку разберемся. Начало у тебя верное! Чтобы продвинуться дальше, предлагаю тебе вспомнить свойсва умножения матриц, а также особенности транспонирования и обращения для произведения матриц:\n",
    "    $$\n",
    "(AB)^T=B^T A^T\n",
    "$$\n",
    "$$\n",
    "(AB)^{-1} = B^{-1} A^{-1}\n",
    "$$\n",
    "$$\n",
    "A A^{-1} = A^{-1} A = E\n",
    "$$\n",
    "$$\n",
    "AE = EA = A\n",
    "$$\n",
    "Используя эти свойства, мы сможем значительно упростить новую формулу вектора коэффициеетов $w$. А после этого сможем сравнить, отличаются ли предсказания до и после линейного преобразования."
   ]
  },
  {
   "cell_type": "markdown",
   "metadata": {},
   "source": [
    "<div class=\"alert alert-block alert-info\">\n",
    "<b>Комментарий студента:</b> Данные удалились. Обожаю формулы на латехе переписывать) Поправил.\n",
    "</div>\n",
    "\n"
   ]
  },
  {
   "cell_type": "markdown",
   "metadata": {},
   "source": [
    "<div class=\"alert alert-success\">\n",
    "<h2> Комментарий ревьюера 2<a class=\"tocSkip\"> </h2>\n",
    "\n",
    "<b>Отличная работа!👍:</b> \n",
    "    \n",
    "Отлично! Теперь вижу, что линейная алгебра - это явно твое :)"
   ]
  },
  {
   "cell_type": "markdown",
   "metadata": {},
   "source": [
    "## Алгоритм преобразования"
   ]
  },
  {
   "cell_type": "markdown",
   "metadata": {},
   "source": [
    "**Алгоритм**\n",
    "\n",
    "1) методом make_spd_matrix создаем случайную матрицу A\n",
    "\n",
    "2) методом np.linalg.inv() проверяем матрицу А на обратимость и получаем А. Если матрица А провалила тест на обратимость (вероятность этого очень маленькая), необходимо создать новую случайную матрицу.\n",
    "\n",
    "Поскольку нам надо закодировать данные клиентов, матрица А будет ключом кодирования.\n",
    "\n",
    "3) умножаем матрицу признаков X на полученную матрицу А и получаем матрицу B с закодированными данными о клиентах:\n",
    "\n",
    "$$\n",
    "B = X@A\n",
    "$$\n",
    "\n",
    "После этого можно переходить к обучению модели линейной регрессии."
   ]
  },
  {
   "cell_type": "markdown",
   "metadata": {},
   "source": [
    "**Обоснование**\n",
    "\n",
    "Такой алгоритм позволит защитить персональную информацию клиентов и при этом не должен повлиять на работу модели (ранее уже отмечалось, что качество модели не изменится, если матрицу признаков умножать на обратимую модель)."
   ]
  },
  {
   "cell_type": "markdown",
   "metadata": {},
   "source": [
    "<div class=\"alert alert-success\">\n",
    "<h2> Комментарий ревьюера 2<a class=\"tocSkip\"> </h2>\n",
    "\n",
    "<b>Отличная работа!👍:</b> \n",
    "    \n",
    "Алгоритм верный! Можем переходить к реализации :)"
   ]
  },
  {
   "cell_type": "markdown",
   "metadata": {},
   "source": [
    "## Проверка алгоритма"
   ]
  },
  {
   "cell_type": "markdown",
   "metadata": {},
   "source": [
    "4.1. Преобразования данных"
   ]
  },
  {
   "cell_type": "markdown",
   "metadata": {},
   "source": [
    "Сохраним признаки и целевой признак в отдельные переменные."
   ]
  },
  {
   "cell_type": "code",
   "execution_count": 15,
   "metadata": {},
   "outputs": [
    {
     "name": "stdout",
     "output_type": "stream",
     "text": [
      "Признаки (4847, 4)\n",
      "Целевой признак (4847,)\n"
     ]
    }
   ],
   "source": [
    "features = data.drop('insurance_benefits', axis=1)\n",
    "target = data['insurance_benefits']\n",
    "\n",
    "print('Признаки', features.shape)\n",
    "print('Целевой признак', target.shape)"
   ]
  },
  {
   "cell_type": "markdown",
   "metadata": {},
   "source": [
    "Создадим матрицу признаков."
   ]
  },
  {
   "cell_type": "code",
   "execution_count": 16,
   "metadata": {},
   "outputs": [
    {
     "data": {
      "text/plain": [
       "array([[1.00e+00, 4.10e+01, 4.96e+04, 1.00e+00],\n",
       "       [0.00e+00, 4.60e+01, 3.80e+04, 1.00e+00],\n",
       "       [0.00e+00, 2.90e+01, 2.10e+04, 0.00e+00],\n",
       "       ...,\n",
       "       [0.00e+00, 2.00e+01, 3.39e+04, 2.00e+00],\n",
       "       [1.00e+00, 2.20e+01, 3.27e+04, 3.00e+00],\n",
       "       [1.00e+00, 2.80e+01, 4.06e+04, 1.00e+00]])"
      ]
     },
     "execution_count": 16,
     "metadata": {},
     "output_type": "execute_result"
    }
   ],
   "source": [
    "features_matrix = features.values\n",
    "features_matrix"
   ]
  },
  {
   "cell_type": "markdown",
   "metadata": {},
   "source": [
    "Методом make_spd_matrix создадим случайную матрицу."
   ]
  },
  {
   "cell_type": "code",
   "execution_count": 17,
   "metadata": {},
   "outputs": [
    {
     "data": {
      "text/plain": [
       "array([[ 0.47243659,  0.36201499,  0.23624413, -0.20756552],\n",
       "       [ 0.36201499,  3.26723888,  1.70966795, -0.39838002],\n",
       "       [ 0.23624413,  1.70966795,  1.32704651, -0.17893753],\n",
       "       [-0.20756552, -0.39838002, -0.17893753,  0.35460046]])"
      ]
     },
     "execution_count": 17,
     "metadata": {},
     "output_type": "execute_result"
    }
   ],
   "source": [
    "random_matrix = make_spd_matrix(n_dim=4, random_state=123)\n",
    "random_matrix"
   ]
  },
  {
   "cell_type": "markdown",
   "metadata": {},
   "source": [
    "Проверим случайную матрицу на обратимость."
   ]
  },
  {
   "cell_type": "code",
   "execution_count": 18,
   "metadata": {},
   "outputs": [
    {
     "data": {
      "text/plain": [
       "array([[ 2.97675307,  0.09601407, -0.43363796,  1.63149048],\n",
       "       [ 0.09601407,  1.02415391, -1.2595126 ,  0.57122764],\n",
       "       [-0.43363796, -1.2595126 ,  2.39108163, -0.46226306],\n",
       "       [ 1.63149048,  0.57122764, -0.46226306,  4.18355526]])"
      ]
     },
     "execution_count": 18,
     "metadata": {},
     "output_type": "execute_result"
    }
   ],
   "source": [
    "np.linalg.inv(random_matrix)"
   ]
  },
  {
   "cell_type": "markdown",
   "metadata": {},
   "source": [
    "Ошибки не возникло, значит матрица обратима."
   ]
  },
  {
   "cell_type": "markdown",
   "metadata": {},
   "source": [
    "Умножим матрицу признаков features_matrix на матрицу random_matrix. Результат сохраним в переменной encoded_matrix."
   ]
  },
  {
   "cell_type": "code",
   "execution_count": 19,
   "metadata": {},
   "outputs": [
    {
     "data": {
      "text/plain": [
       "array([[11732.81637505, 84933.45064883, 65891.66076973, -8891.48812605],\n",
       "       [ 8993.72209566, 65117.27663171, 50506.23330695, -6817.59709104],\n",
       "       [ 4971.62518218, 35997.77683511, 27917.55715724, -3769.24118958],\n",
       "       ...,\n",
       "       [ 8015.50120409, 58022.29145405, 45020.71229678, -6073.24072949],\n",
       "       [ 7732.99714812, 55977.18802921, 43431.73312289, -5859.16541635],\n",
       "       [ 9601.91300269, 69503.96501156, 53926.01646352, -7275.87139908]])"
      ]
     },
     "execution_count": 19,
     "metadata": {},
     "output_type": "execute_result"
    }
   ],
   "source": [
    "encoded_matrix = features_matrix @ random_matrix\n",
    "encoded_matrix"
   ]
  },
  {
   "cell_type": "code",
   "execution_count": 20,
   "metadata": {},
   "outputs": [
    {
     "data": {
      "text/plain": [
       "numpy.ndarray"
      ]
     },
     "execution_count": 20,
     "metadata": {},
     "output_type": "execute_result"
    }
   ],
   "source": [
    "type(encoded_matrix)"
   ]
  },
  {
   "cell_type": "markdown",
   "metadata": {},
   "source": [
    "Данные преобразовали. Можно приступить к обучению модели."
   ]
  },
  {
   "cell_type": "markdown",
   "metadata": {},
   "source": [
    "<div class=\"alert alert-warning\">\n",
    "    <h2> Комментарий ревьюера 2<a class=\"tocSkip\"> </h2>\n",
    "    \n",
    "<b>Некоторые замечания и рекомендации💡:</b> \n",
    "\n",
    "Здесь все круто! Но на будущее хочу предостеречь: в питоне есть несколько способов получить произведение двумерных матриц (numpy.dot(), numpy.multiply(), numpy.matmul(), через оператор @), но на матрицах большей размерности (трехмерные, четерехмерные и т.д.) результаты некоторых из них будут отличаться."
   ]
  },
  {
   "cell_type": "markdown",
   "metadata": {},
   "source": [
    "4.2. Обучение модели"
   ]
  },
  {
   "cell_type": "markdown",
   "metadata": {},
   "source": [
    "Исходные данные. Сначала обучим модель линейной регрессии на исходных данных."
   ]
  },
  {
   "cell_type": "markdown",
   "metadata": {},
   "source": [
    "Разделим исходные данные на 2 выборки: обучающую и валидационную."
   ]
  },
  {
   "cell_type": "code",
   "execution_count": 21,
   "metadata": {},
   "outputs": [],
   "source": [
    "features_train, features_valid, target_train, target_valid = train_test_split(features, \n",
    "                                                                              target, \n",
    "                                                                              train_size=0.75, \n",
    "                                                                              test_size=0.25, \n",
    "                                                                              random_state=123)"
   ]
  },
  {
   "cell_type": "markdown",
   "metadata": {},
   "source": [
    "<div class=\"alert alert-success\">\n",
    "<h2> Комментарий ревьюера 2<a class=\"tocSkip\"> </h2>\n",
    "\n",
    "<b>Отличная работа!👍:</b> \n",
    "    \n",
    "Круто, что продолжаешь следовать всем канонам машинного обучения и делишь выборку на тестовую и тренировочную! Уважаю :)"
   ]
  },
  {
   "cell_type": "markdown",
   "metadata": {},
   "source": [
    "Выведем на экран размер выборок."
   ]
  },
  {
   "cell_type": "code",
   "execution_count": 22,
   "metadata": {},
   "outputs": [
    {
     "name": "stdout",
     "output_type": "stream",
     "text": [
      "features_train: (3635, 4)\n",
      "target_train: (3635,)\n",
      "\n",
      "features_valid: (1212, 4)\n",
      "target_valid: (1212,)\n"
     ]
    }
   ],
   "source": [
    "print('features_train:', features_train.shape) \n",
    "print('target_train:', target_train.shape)\n",
    "\n",
    "print('')\n",
    "\n",
    "print('features_valid:', features_valid.shape)\n",
    "print('target_valid:', target_valid.shape)"
   ]
  },
  {
   "cell_type": "markdown",
   "metadata": {},
   "source": [
    "Обучим модель линейной регрессии и посчитаем метрику R2."
   ]
  },
  {
   "cell_type": "code",
   "execution_count": 23,
   "metadata": {},
   "outputs": [
    {
     "name": "stdout",
     "output_type": "stream",
     "text": [
      "Метрика R2 до преобразования данных: 0.4097895805366327\n"
     ]
    }
   ],
   "source": [
    "model_raw = LinearRegression()\n",
    "model_raw.fit(features_train, target_train)\n",
    "predictions_raw = model_raw.predict(features_valid)\n",
    "r2_raw = r2_score(target_valid, predictions_raw)\n",
    "\n",
    "print('Метрика R2 до преобразования данных:', r2_raw)"
   ]
  },
  {
   "cell_type": "markdown",
   "metadata": {},
   "source": [
    "Проверим метрику на преобразованных данных."
   ]
  },
  {
   "cell_type": "code",
   "execution_count": 24,
   "metadata": {},
   "outputs": [],
   "source": [
    "features_train_encoded, features_valid_encoded, target_train_encoded, target_valid_encoded = train_test_split(\n",
    "    encoded_matrix, target, train_size=0.75, test_size=0.25, random_state=123)"
   ]
  },
  {
   "cell_type": "markdown",
   "metadata": {},
   "source": [
    "Выведем на экран размер выборок."
   ]
  },
  {
   "cell_type": "code",
   "execution_count": 25,
   "metadata": {},
   "outputs": [
    {
     "name": "stdout",
     "output_type": "stream",
     "text": [
      "features_train_encoded: (3635, 4)\n",
      "target_train_encoded: (3635,)\n",
      "\n",
      "features_valid_encoded: (1212, 4)\n",
      "target_valid_encoded: (1212,)\n"
     ]
    }
   ],
   "source": [
    "print('features_train_encoded:', features_train_encoded.shape) \n",
    "print('target_train_encoded:', target_train_encoded.shape)\n",
    "\n",
    "print('')\n",
    "\n",
    "print('features_valid_encoded:', features_valid_encoded.shape)\n",
    "print('target_valid_encoded:', target_valid_encoded.shape)"
   ]
  },
  {
   "cell_type": "markdown",
   "metadata": {},
   "source": [
    "Обучим модель линейной регрессии."
   ]
  },
  {
   "cell_type": "code",
   "execution_count": 26,
   "metadata": {},
   "outputs": [
    {
     "name": "stdout",
     "output_type": "stream",
     "text": [
      "Метрика R2 после преобразования данных: 0.4097895805364178\n"
     ]
    }
   ],
   "source": [
    "model_encoded = LinearRegression()\n",
    "model_encoded.fit(features_train_encoded, target_train_encoded)\n",
    "predictions_encoded = model_encoded.predict(features_valid_encoded)\n",
    "\n",
    "r2_encoded = r2_score(target_valid_encoded, predictions_encoded)\n",
    "print('Метрика R2 после преобразования данных:', r2_encoded)"
   ]
  },
  {
   "cell_type": "markdown",
   "metadata": {},
   "source": [
    "Сравним результат метрики R2 до и после преобразования данных."
   ]
  },
  {
   "cell_type": "code",
   "execution_count": 27,
   "metadata": {},
   "outputs": [
    {
     "name": "stdout",
     "output_type": "stream",
     "text": [
      "Метрика R2 до преобразования данных: 0.4097895805366327\n",
      "Метрика R2 после преобразования данных: 0.4097895805364178\n"
     ]
    }
   ],
   "source": [
    "print('Метрика R2 до преобразования данных:', r2_raw)\n",
    "print('Метрика R2 после преобразования данных:', r2_encoded)"
   ]
  },
  {
   "cell_type": "markdown",
   "metadata": {},
   "source": [
    "Метрики почти идентичны, а это значит, что качество модели линейной регрессии после преобразования данных не изменилось. Но стотит отметить, что сам показатель метрики R2 достаточно низкий, значит, качество модели можно значительно улучшить, например, меняя гиперпараметри."
   ]
  },
  {
   "cell_type": "markdown",
   "metadata": {},
   "source": [
    "Вывод: Во время проекта выполнили следующие шаги:\n",
    "\n",
    "загрузили и изучили данные\n",
    "\n",
    "математически доказали, что качество линейной регрессии не изменится, если умножать признаки на обратимую матрицу\n",
    "\n",
    "предложили алгоритм преобразования данных и протестировали его работу. Удалось доказать, что качество модели линейной регрессии после преобразования данных не изменилось."
   ]
  },
  {
   "cell_type": "markdown",
   "metadata": {},
   "source": [
    "<div class=\"alert alert-success\">\n",
    "<h2> Комментарий ревьюера 2<a class=\"tocSkip\"> </h2>\n",
    "\n",
    "<b>Отличная работа!👍:</b> \n",
    "    \n",
    "Супер! Мы справились с задачей :)"
   ]
  },
  {
   "cell_type": "markdown",
   "metadata": {},
   "source": [
    "## Чек-лист проверки"
   ]
  },
  {
   "cell_type": "markdown",
   "metadata": {},
   "source": [
    "Поставьте 'x' в выполненных пунктах. Далее нажмите Shift+Enter."
   ]
  },
  {
   "cell_type": "markdown",
   "metadata": {},
   "source": [
    "- [x]  Jupyter Notebook открыт\n",
    "- [x]  Весь код выполняется без ошибок\n",
    "- [x]  Ячейки с кодом расположены в порядке исполнения\n",
    "- [x]  Выполнен шаг 1: данные загружены\n",
    "- [x]  Выполнен шаг 2: получен ответ на вопрос об умножении матриц\n",
    "    - [x]  Указан правильный вариант ответа\n",
    "    - [x]  Вариант обоснован\n",
    "- [x]  Выполнен шаг 3: предложен алгоритм преобразования\n",
    "    - [x]  Алгоритм описан\n",
    "    - [x]  Алгоритм обоснован\n",
    "- [x]  Выполнен шаг 4: алгоритм проверен\n",
    "    - [x]  Алгоритм реализован\n",
    "    - [x]  Проведено сравнение качества моделей до и после преобразования"
   ]
  },
  {
   "cell_type": "markdown",
   "metadata": {},
   "source": [
    "<div style=\"border:solid Chocolate 2px; padding: 40px\">\n",
    "\n",
    "**Общий вывод по проекту**\n",
    "\n",
    "Григорий, спасибо за твой проект! У тебя потрясающе, очнь подробно выполнен шаг с анализом данных! Но пока в работе отсутствует значительна часть шагов. Скажи, пожалуйста, они по какой-то причине не сохранились, или у тебя возникли сложности с выполнением? Попрошу тебя к следующей проверке попытаться доработать остальные шаги, или же задать вопросы, чтобы мы смогли продвинуться дальше :)\n",
    "\n",
    "**Желаю удачи и жду твой проект на повторное ревью!** 😉\n",
    "    \n",
    "<img src=\"https://c.tenor.com/D4geDkAW9jgAAAAj/cat-paw.gif\" width=\"100\" height=\"50\"/>"
   ]
  },
  {
   "cell_type": "markdown",
   "metadata": {},
   "source": [
    "<div class=\"alert alert-block alert-info\">\n",
    "<b>Комментарий студента:</b> Привет! Не знаю почему, но пол проета слетело и не сохранилось (я отправлял проект целиком законченный). Сейчас добавил.\n",
    "</div>\n",
    "\n"
   ]
  },
  {
   "cell_type": "markdown",
   "metadata": {},
   "source": [
    "<div style=\"border:solid Chocolate 2px; padding: 40px\">\n",
    "\n",
    "**Общий вывод по проекту 2**\n",
    "\n",
    "Григорий, надеюсь, тебя не сильно расстроил этот казус, теперь все выполнено на высшем уровне! Видно, что ты хорошо постарался :)\n",
    "\n",
    "**Желаю успехов в будущих проектах!** 🍀"
   ]
  },
  {
   "cell_type": "code",
   "execution_count": null,
   "metadata": {},
   "outputs": [],
   "source": []
  }
 ],
 "metadata": {
  "ExecuteTimeLog": [
   {
    "duration": 1431,
    "start_time": "2022-06-19T11:50:02.488Z"
   },
   {
    "duration": 36,
    "start_time": "2022-06-19T11:52:51.659Z"
   },
   {
    "duration": 155,
    "start_time": "2022-06-19T11:52:59.599Z"
   },
   {
    "duration": 13,
    "start_time": "2022-06-19T11:53:16.320Z"
   },
   {
    "duration": 10,
    "start_time": "2022-06-19T11:53:46.391Z"
   },
   {
    "duration": 15,
    "start_time": "2022-06-19T11:56:39.486Z"
   },
   {
    "duration": 6,
    "start_time": "2022-06-19T11:57:11.357Z"
   },
   {
    "duration": 7,
    "start_time": "2022-06-19T11:57:19.917Z"
   },
   {
    "duration": 38,
    "start_time": "2022-06-19T11:57:32.051Z"
   },
   {
    "duration": 18,
    "start_time": "2022-06-19T11:57:44.316Z"
   },
   {
    "duration": 6,
    "start_time": "2022-06-19T11:58:09.551Z"
   },
   {
    "duration": 15,
    "start_time": "2022-06-19T11:58:31.690Z"
   },
   {
    "duration": 30,
    "start_time": "2022-06-19T11:59:14.597Z"
   },
   {
    "duration": 1621,
    "start_time": "2022-06-19T11:59:50.959Z"
   },
   {
    "duration": 6,
    "start_time": "2022-06-19T12:01:07.564Z"
   },
   {
    "duration": 1305,
    "start_time": "2022-06-19T12:01:18.648Z"
   },
   {
    "duration": 36,
    "start_time": "2022-06-19T12:01:19.955Z"
   },
   {
    "duration": 9,
    "start_time": "2022-06-19T12:01:19.993Z"
   },
   {
    "duration": 27,
    "start_time": "2022-06-19T12:01:20.004Z"
   },
   {
    "duration": 40,
    "start_time": "2022-06-19T12:01:20.044Z"
   },
   {
    "duration": 18,
    "start_time": "2022-06-19T12:01:20.086Z"
   },
   {
    "duration": 16,
    "start_time": "2022-06-19T12:01:20.105Z"
   },
   {
    "duration": 43,
    "start_time": "2022-06-19T12:01:20.122Z"
   },
   {
    "duration": 6,
    "start_time": "2022-06-19T12:01:20.168Z"
   },
   {
    "duration": 13,
    "start_time": "2022-06-19T12:01:20.176Z"
   },
   {
    "duration": 22,
    "start_time": "2022-06-19T12:01:20.191Z"
   },
   {
    "duration": 1381,
    "start_time": "2022-06-19T12:01:20.215Z"
   },
   {
    "duration": 18,
    "start_time": "2022-06-19T12:05:05.340Z"
   },
   {
    "duration": 846,
    "start_time": "2022-06-19T12:05:18.385Z"
   },
   {
    "duration": 29,
    "start_time": "2022-06-19T15:37:38.091Z"
   },
   {
    "duration": 86,
    "start_time": "2022-06-19T15:44:46.975Z"
   },
   {
    "duration": 4,
    "start_time": "2022-06-19T16:01:58.099Z"
   },
   {
    "duration": 6,
    "start_time": "2022-06-19T16:02:16.898Z"
   },
   {
    "duration": 11,
    "start_time": "2022-06-19T16:04:15.354Z"
   },
   {
    "duration": 5,
    "start_time": "2022-06-19T16:04:40.700Z"
   },
   {
    "duration": 5,
    "start_time": "2022-06-19T16:05:17.507Z"
   },
   {
    "duration": 6,
    "start_time": "2022-06-19T16:05:26.573Z"
   },
   {
    "duration": 9,
    "start_time": "2022-06-19T16:07:00.752Z"
   },
   {
    "duration": 11,
    "start_time": "2022-06-19T16:07:32.162Z"
   },
   {
    "duration": 8,
    "start_time": "2022-06-19T16:07:53.416Z"
   },
   {
    "duration": 4,
    "start_time": "2022-06-19T16:09:07.310Z"
   },
   {
    "duration": 5,
    "start_time": "2022-06-19T16:09:30.004Z"
   },
   {
    "duration": 9,
    "start_time": "2022-06-19T16:09:49.195Z"
   },
   {
    "duration": 4,
    "start_time": "2022-06-19T16:10:12.196Z"
   },
   {
    "duration": 1664,
    "start_time": "2022-06-19T16:14:58.317Z"
   },
   {
    "duration": 39,
    "start_time": "2022-06-19T16:14:59.983Z"
   },
   {
    "duration": 20,
    "start_time": "2022-06-19T16:15:00.024Z"
   },
   {
    "duration": 30,
    "start_time": "2022-06-19T16:15:00.047Z"
   },
   {
    "duration": 11,
    "start_time": "2022-06-19T16:15:00.080Z"
   },
   {
    "duration": 10,
    "start_time": "2022-06-19T16:15:00.093Z"
   },
   {
    "duration": 18,
    "start_time": "2022-06-19T16:15:00.105Z"
   },
   {
    "duration": 41,
    "start_time": "2022-06-19T16:15:00.125Z"
   },
   {
    "duration": 15,
    "start_time": "2022-06-19T16:15:00.168Z"
   },
   {
    "duration": 16,
    "start_time": "2022-06-19T16:15:00.185Z"
   },
   {
    "duration": 28,
    "start_time": "2022-06-19T16:15:00.203Z"
   },
   {
    "duration": 1422,
    "start_time": "2022-06-19T16:15:00.233Z"
   },
   {
    "duration": 10,
    "start_time": "2022-06-19T16:15:01.658Z"
   },
   {
    "duration": 500,
    "start_time": "2022-06-19T16:15:01.670Z"
   },
   {
    "duration": 6,
    "start_time": "2022-06-19T16:15:02.171Z"
   },
   {
    "duration": 41,
    "start_time": "2022-06-19T16:15:02.178Z"
   },
   {
    "duration": 33,
    "start_time": "2022-06-19T16:15:02.220Z"
   },
   {
    "duration": 21,
    "start_time": "2022-06-19T16:15:02.257Z"
   },
   {
    "duration": 56,
    "start_time": "2022-06-19T16:15:02.280Z"
   },
   {
    "duration": 128,
    "start_time": "2022-06-19T16:15:02.338Z"
   },
   {
    "duration": 29,
    "start_time": "2022-06-19T16:15:02.468Z"
   },
   {
    "duration": 19,
    "start_time": "2022-06-19T16:15:02.499Z"
   },
   {
    "duration": 58,
    "start_time": "2022-06-19T16:15:02.520Z"
   },
   {
    "duration": 26,
    "start_time": "2022-06-19T16:15:02.580Z"
   },
   {
    "duration": 18,
    "start_time": "2022-06-19T16:15:02.608Z"
   },
   {
    "duration": 52,
    "start_time": "2022-06-19T16:15:02.631Z"
   },
   {
    "duration": 21,
    "start_time": "2022-06-19T16:15:02.685Z"
   }
  ],
  "kernelspec": {
   "display_name": "Python 3 (ipykernel)",
   "language": "python",
   "name": "python3"
  },
  "language_info": {
   "codemirror_mode": {
    "name": "ipython",
    "version": 3
   },
   "file_extension": ".py",
   "mimetype": "text/x-python",
   "name": "python",
   "nbconvert_exporter": "python",
   "pygments_lexer": "ipython3",
   "version": "3.9.5"
  },
  "toc": {
   "base_numbering": 1,
   "nav_menu": {},
   "number_sections": true,
   "sideBar": true,
   "skip_h1_title": true,
   "title_cell": "Содержание",
   "title_sidebar": "Contents",
   "toc_cell": true,
   "toc_position": {},
   "toc_section_display": true,
   "toc_window_display": true
  }
 },
 "nbformat": 4,
 "nbformat_minor": 2
}
