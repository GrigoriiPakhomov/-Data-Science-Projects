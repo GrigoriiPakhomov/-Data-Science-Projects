{
 "cells": [
  {
   "cell_type": "markdown",
   "metadata": {
    "toc": true
   },
   "source": [
    "<h1>Содержание<span class=\"tocSkip\"></span></h1>\n",
    "<div class=\"toc\"><ul class=\"toc-item\"><li><span><a href=\"#Подготовка\" data-toc-modified-id=\"Подготовка-1\"><span class=\"toc-item-num\">1&nbsp;&nbsp;</span>Подготовка</a></span></li><li><span><a href=\"#Обучение\" data-toc-modified-id=\"Обучение-2\"><span class=\"toc-item-num\">2&nbsp;&nbsp;</span>Обучение</a></span></li><li><span><a href=\"#Выводы\" data-toc-modified-id=\"Выводы-3\"><span class=\"toc-item-num\">3&nbsp;&nbsp;</span>Выводы</a></span></li><li><span><a href=\"#Чек-лист-проверки\" data-toc-modified-id=\"Чек-лист-проверки-4\"><span class=\"toc-item-num\">4&nbsp;&nbsp;</span>Чек-лист проверки</a></span></li></ul></div>"
   ]
  },
  {
   "cell_type": "markdown",
   "metadata": {},
   "source": [
    "# Проект для «Викишоп»"
   ]
  },
  {
   "cell_type": "markdown",
   "metadata": {},
   "source": [
    "Интернет-магазин «Викишоп» запускает новый сервис. Теперь пользователи могут редактировать и дополнять описания товаров, как в вики-сообществах. То есть клиенты предлагают свои правки и комментируют изменения других. Магазину нужен инструмент, который будет искать токсичные комментарии и отправлять их на модерацию. \n",
    "\n",
    "Обучите модель классифицировать комментарии на позитивные и негативные. В вашем распоряжении набор данных с разметкой о токсичности правок.\n",
    "\n",
    "Постройте модель со значением метрики качества *F1* не меньше 0.75. \n",
    "\n",
    "**Инструкция по выполнению проекта**\n",
    "\n",
    "1. Загрузите и подготовьте данные.\n",
    "2. Обучите разные модели. \n",
    "3. Сделайте выводы.\n",
    "\n",
    "Для выполнения проекта применять *BERT* необязательно, но вы можете попробовать.\n",
    "\n",
    "**Описание данных**\n",
    "\n",
    "Данные находятся в файле `toxic_comments.csv`. Столбец *text* в нём содержит текст комментария, а *toxic* — целевой признак."
   ]
  },
  {
   "cell_type": "markdown",
   "metadata": {},
   "source": [
    "## Подготовка"
   ]
  },
  {
   "cell_type": "markdown",
   "metadata": {},
   "source": [
    "Подключаем библиотеки:"
   ]
  },
  {
   "cell_type": "code",
   "execution_count": 1,
   "metadata": {},
   "outputs": [
    {
     "name": "stderr",
     "output_type": "stream",
     "text": [
      "[nltk_data] Downloading package wordnet to /home/jovyan/nltk_data...\n",
      "[nltk_data]   Package wordnet is already up-to-date!\n",
      "[nltk_data] Downloading package punkt to /home/jovyan/nltk_data...\n",
      "[nltk_data]   Unzipping tokenizers/punkt.zip.\n",
      "[nltk_data] Downloading package stopwords to /home/jovyan/nltk_data...\n",
      "[nltk_data]   Unzipping corpora/stopwords.zip.\n"
     ]
    }
   ],
   "source": [
    "import pandas as pd\n",
    "import numpy as np\n",
    "import re\n",
    "from sklearn.feature_extraction.text import TfidfVectorizer, CountVectorizer\n",
    "from sklearn.utils import shuffle\n",
    "import nltk\n",
    "from nltk.corpus import stopwords as nltk_stopwords\n",
    "from nltk.stem import WordNetLemmatizer\n",
    "nltk.download('wordnet')\n",
    "nltk.download('punkt')\n",
    "nltk.download('stopwords')\n",
    "from sklearn.model_selection import train_test_split, cross_val_score, GridSearchCV\n",
    "from sklearn.linear_model import LogisticRegression\n",
    "from sklearn.svm import LinearSVC\n",
    "from sklearn.metrics import f1_score, accuracy_score\n",
    "import torch\n",
    "import transformers\n",
    "from tqdm import notebook\n",
    "from nltk.corpus import wordnet\n",
    "from sklearn.linear_model import RidgeCV\n",
    "from sklearn.linear_model import LassoCV"
   ]
  },
  {
   "cell_type": "markdown",
   "metadata": {},
   "source": [
    "Загрузим данные из файла, выведем первые 10 строк таблиц для первого взгляда на данные."
   ]
  },
  {
   "cell_type": "code",
   "execution_count": 2,
   "metadata": {},
   "outputs": [
    {
     "data": {
      "text/html": [
       "<div>\n",
       "<style scoped>\n",
       "    .dataframe tbody tr th:only-of-type {\n",
       "        vertical-align: middle;\n",
       "    }\n",
       "\n",
       "    .dataframe tbody tr th {\n",
       "        vertical-align: top;\n",
       "    }\n",
       "\n",
       "    .dataframe thead th {\n",
       "        text-align: right;\n",
       "    }\n",
       "</style>\n",
       "<table border=\"1\" class=\"dataframe\">\n",
       "  <thead>\n",
       "    <tr style=\"text-align: right;\">\n",
       "      <th></th>\n",
       "      <th>text</th>\n",
       "      <th>toxic</th>\n",
       "    </tr>\n",
       "  </thead>\n",
       "  <tbody>\n",
       "    <tr>\n",
       "      <th>0</th>\n",
       "      <td>Explanation\\nWhy the edits made under my usern...</td>\n",
       "      <td>0</td>\n",
       "    </tr>\n",
       "    <tr>\n",
       "      <th>1</th>\n",
       "      <td>D'aww! He matches this background colour I'm s...</td>\n",
       "      <td>0</td>\n",
       "    </tr>\n",
       "    <tr>\n",
       "      <th>2</th>\n",
       "      <td>Hey man, I'm really not trying to edit war. It...</td>\n",
       "      <td>0</td>\n",
       "    </tr>\n",
       "    <tr>\n",
       "      <th>3</th>\n",
       "      <td>\"\\nMore\\nI can't make any real suggestions on ...</td>\n",
       "      <td>0</td>\n",
       "    </tr>\n",
       "    <tr>\n",
       "      <th>4</th>\n",
       "      <td>You, sir, are my hero. Any chance you remember...</td>\n",
       "      <td>0</td>\n",
       "    </tr>\n",
       "    <tr>\n",
       "      <th>5</th>\n",
       "      <td>\"\\n\\nCongratulations from me as well, use the ...</td>\n",
       "      <td>0</td>\n",
       "    </tr>\n",
       "    <tr>\n",
       "      <th>6</th>\n",
       "      <td>COCKSUCKER BEFORE YOU PISS AROUND ON MY WORK</td>\n",
       "      <td>1</td>\n",
       "    </tr>\n",
       "    <tr>\n",
       "      <th>7</th>\n",
       "      <td>Your vandalism to the Matt Shirvington article...</td>\n",
       "      <td>0</td>\n",
       "    </tr>\n",
       "    <tr>\n",
       "      <th>8</th>\n",
       "      <td>Sorry if the word 'nonsense' was offensive to ...</td>\n",
       "      <td>0</td>\n",
       "    </tr>\n",
       "    <tr>\n",
       "      <th>9</th>\n",
       "      <td>alignment on this subject and which are contra...</td>\n",
       "      <td>0</td>\n",
       "    </tr>\n",
       "  </tbody>\n",
       "</table>\n",
       "</div>"
      ],
      "text/plain": [
       "                                                text  toxic\n",
       "0  Explanation\\nWhy the edits made under my usern...      0\n",
       "1  D'aww! He matches this background colour I'm s...      0\n",
       "2  Hey man, I'm really not trying to edit war. It...      0\n",
       "3  \"\\nMore\\nI can't make any real suggestions on ...      0\n",
       "4  You, sir, are my hero. Any chance you remember...      0\n",
       "5  \"\\n\\nCongratulations from me as well, use the ...      0\n",
       "6       COCKSUCKER BEFORE YOU PISS AROUND ON MY WORK      1\n",
       "7  Your vandalism to the Matt Shirvington article...      0\n",
       "8  Sorry if the word 'nonsense' was offensive to ...      0\n",
       "9  alignment on this subject and which are contra...      0"
      ]
     },
     "execution_count": 2,
     "metadata": {},
     "output_type": "execute_result"
    }
   ],
   "source": [
    "comments = pd.read_csv('/datasets/toxic_comments.csv')\n",
    "comments.head(10)"
   ]
  },
  {
   "cell_type": "code",
   "execution_count": 3,
   "metadata": {},
   "outputs": [
    {
     "data": {
      "text/plain": [
       "(159571, 2)"
      ]
     },
     "execution_count": 3,
     "metadata": {},
     "output_type": "execute_result"
    }
   ],
   "source": [
    "comments.shape"
   ]
  },
  {
   "cell_type": "code",
   "execution_count": 4,
   "metadata": {},
   "outputs": [
    {
     "data": {
      "text/plain": [
       "0    143346\n",
       "1     16225\n",
       "Name: toxic, dtype: int64"
      ]
     },
     "execution_count": 4,
     "metadata": {},
     "output_type": "execute_result"
    }
   ],
   "source": [
    "comments['toxic'].value_counts()"
   ]
  },
  {
   "cell_type": "code",
   "execution_count": 5,
   "metadata": {},
   "outputs": [
    {
     "name": "stdout",
     "output_type": "stream",
     "text": [
      "Процент объектов класса 1 к общему объёму датасета: 10.17%\n"
     ]
    }
   ],
   "source": [
    "print(f\"Процент объектов класса 1 к общему объёму датасета: {(sum(comments['toxic']) / len(comments) * 100):.2f}%\")"
   ]
  },
  {
   "cell_type": "markdown",
   "metadata": {},
   "source": [
    "Вывод: датафрейм содержит 2 столбца и 159571 запись в каждом из них\n",
    "пропусков в данных нету. Для признака text необходимо провести предобработку, т.е., необходимо очистить комментарии от лишних слов и лемматизацию текста (приведение слова к начальной форме или лемме)."
   ]
  },
  {
   "cell_type": "markdown",
   "metadata": {},
   "source": [
    "Подготовим данные для векторизации:Проведём лемматизацию слов с помощью WordNetLemmatizer() из библиотеки nltk.\n",
    "Удалим пунктуацию и лишние пробелы.\n",
    "Удалим стоп-слова (пока загрузим список, удалять будем в процессе tf-idf векторизации)."
   ]
  },
  {
   "cell_type": "code",
   "execution_count": 6,
   "metadata": {},
   "outputs": [],
   "source": [
    "lemmatizer = WordNetLemmatizer()\n",
    "def lemmatize(text):\n",
    "    text = text.lower() \n",
    "    word_list = nltk.word_tokenize(text)\n",
    "    lemmatized_output = ' '.join([lemmatizer.lemmatize(w) for w in word_list])\n",
    "    return lemmatized_output"
   ]
  },
  {
   "cell_type": "code",
   "execution_count": 7,
   "metadata": {},
   "outputs": [],
   "source": [
    "def clear_text(text):\n",
    "    text = re.sub(r'[^a-zA-Z ]', ' ', text)\n",
    "    return \" \".join(text.split())"
   ]
  },
  {
   "cell_type": "code",
   "execution_count": 8,
   "metadata": {},
   "outputs": [],
   "source": [
    "corpus = comments['text']"
   ]
  },
  {
   "cell_type": "code",
   "execution_count": 9,
   "metadata": {},
   "outputs": [
    {
     "data": {
      "text/html": [
       "<div>\n",
       "<style scoped>\n",
       "    .dataframe tbody tr th:only-of-type {\n",
       "        vertical-align: middle;\n",
       "    }\n",
       "\n",
       "    .dataframe tbody tr th {\n",
       "        vertical-align: top;\n",
       "    }\n",
       "\n",
       "    .dataframe thead th {\n",
       "        text-align: right;\n",
       "    }\n",
       "</style>\n",
       "<table border=\"1\" class=\"dataframe\">\n",
       "  <thead>\n",
       "    <tr style=\"text-align: right;\">\n",
       "      <th></th>\n",
       "      <th>text</th>\n",
       "      <th>toxic</th>\n",
       "      <th>our_clear_text</th>\n",
       "    </tr>\n",
       "  </thead>\n",
       "  <tbody>\n",
       "    <tr>\n",
       "      <th>0</th>\n",
       "      <td>Explanation\\nWhy the edits made under my usern...</td>\n",
       "      <td>0</td>\n",
       "      <td>Explanation Why the edits made under my userna...</td>\n",
       "    </tr>\n",
       "    <tr>\n",
       "      <th>1</th>\n",
       "      <td>D'aww! He matches this background colour I'm s...</td>\n",
       "      <td>0</td>\n",
       "      <td>D aww He matches this background colour I m se...</td>\n",
       "    </tr>\n",
       "    <tr>\n",
       "      <th>2</th>\n",
       "      <td>Hey man, I'm really not trying to edit war. It...</td>\n",
       "      <td>0</td>\n",
       "      <td>Hey man I m really not trying to edit war It s...</td>\n",
       "    </tr>\n",
       "    <tr>\n",
       "      <th>3</th>\n",
       "      <td>\"\\nMore\\nI can't make any real suggestions on ...</td>\n",
       "      <td>0</td>\n",
       "      <td>More I can t make any real suggestions on impr...</td>\n",
       "    </tr>\n",
       "    <tr>\n",
       "      <th>4</th>\n",
       "      <td>You, sir, are my hero. Any chance you remember...</td>\n",
       "      <td>0</td>\n",
       "      <td>You sir are my hero Any chance you remember wh...</td>\n",
       "    </tr>\n",
       "  </tbody>\n",
       "</table>\n",
       "</div>"
      ],
      "text/plain": [
       "                                                text  toxic  \\\n",
       "0  Explanation\\nWhy the edits made under my usern...      0   \n",
       "1  D'aww! He matches this background colour I'm s...      0   \n",
       "2  Hey man, I'm really not trying to edit war. It...      0   \n",
       "3  \"\\nMore\\nI can't make any real suggestions on ...      0   \n",
       "4  You, sir, are my hero. Any chance you remember...      0   \n",
       "\n",
       "                                      our_clear_text  \n",
       "0  Explanation Why the edits made under my userna...  \n",
       "1  D aww He matches this background colour I m se...  \n",
       "2  Hey man I m really not trying to edit war It s...  \n",
       "3  More I can t make any real suggestions on impr...  \n",
       "4  You sir are my hero Any chance you remember wh...  "
      ]
     },
     "metadata": {},
     "output_type": "display_data"
    }
   ],
   "source": [
    "def clear_text(text):\n",
    "    text = re.sub(r'[^a-zA-Z ]', ' ', text)\n",
    "    return \" \".join(text.split())\n",
    "\n",
    "\n",
    "comments['our_clear_text'] = comments['text'].apply(clear_text)\n",
    "\n",
    "display(comments.head(5))"
   ]
  },
  {
   "cell_type": "code",
   "execution_count": 10,
   "metadata": {},
   "outputs": [
    {
     "data": {
      "text/html": [
       "<div>\n",
       "<style scoped>\n",
       "    .dataframe tbody tr th:only-of-type {\n",
       "        vertical-align: middle;\n",
       "    }\n",
       "\n",
       "    .dataframe tbody tr th {\n",
       "        vertical-align: top;\n",
       "    }\n",
       "\n",
       "    .dataframe thead th {\n",
       "        text-align: right;\n",
       "    }\n",
       "</style>\n",
       "<table border=\"1\" class=\"dataframe\">\n",
       "  <thead>\n",
       "    <tr style=\"text-align: right;\">\n",
       "      <th></th>\n",
       "      <th>text</th>\n",
       "      <th>toxic</th>\n",
       "      <th>our_clear_text</th>\n",
       "      <th>text_lemma</th>\n",
       "    </tr>\n",
       "  </thead>\n",
       "  <tbody>\n",
       "    <tr>\n",
       "      <th>159561</th>\n",
       "      <td>\"\\nNo he did not, read it again (I would have ...</td>\n",
       "      <td>0</td>\n",
       "      <td>No he did not read it again I would have thoug...</td>\n",
       "      <td>no he did not read it again i would have thoug...</td>\n",
       "    </tr>\n",
       "    <tr>\n",
       "      <th>159562</th>\n",
       "      <td>\"\\n Auto guides and the motoring press are not...</td>\n",
       "      <td>0</td>\n",
       "      <td>Auto guides and the motoring press are not goo...</td>\n",
       "      <td>auto guide and the motoring press are not good...</td>\n",
       "    </tr>\n",
       "    <tr>\n",
       "      <th>159563</th>\n",
       "      <td>\"\\nplease identify what part of BLP applies be...</td>\n",
       "      <td>0</td>\n",
       "      <td>please identify what part of BLP applies becau...</td>\n",
       "      <td>please identify what part of blp applies becau...</td>\n",
       "    </tr>\n",
       "    <tr>\n",
       "      <th>159564</th>\n",
       "      <td>Catalan independentism is the social movement ...</td>\n",
       "      <td>0</td>\n",
       "      <td>Catalan independentism is the social movement ...</td>\n",
       "      <td>catalan independentism is the social movement ...</td>\n",
       "    </tr>\n",
       "    <tr>\n",
       "      <th>159565</th>\n",
       "      <td>The numbers in parentheses are the additional ...</td>\n",
       "      <td>0</td>\n",
       "      <td>The numbers in parentheses are the additional ...</td>\n",
       "      <td>the number in parenthesis are the additional d...</td>\n",
       "    </tr>\n",
       "    <tr>\n",
       "      <th>159566</th>\n",
       "      <td>\":::::And for the second time of asking, when ...</td>\n",
       "      <td>0</td>\n",
       "      <td>And for the second time of asking when your vi...</td>\n",
       "      <td>and for the second time of asking when your vi...</td>\n",
       "    </tr>\n",
       "    <tr>\n",
       "      <th>159567</th>\n",
       "      <td>You should be ashamed of yourself \\n\\nThat is ...</td>\n",
       "      <td>0</td>\n",
       "      <td>You should be ashamed of yourself That is a ho...</td>\n",
       "      <td>you should be ashamed of yourself that is a ho...</td>\n",
       "    </tr>\n",
       "    <tr>\n",
       "      <th>159568</th>\n",
       "      <td>Spitzer \\n\\nUmm, theres no actual article for ...</td>\n",
       "      <td>0</td>\n",
       "      <td>Spitzer Umm theres no actual article for prost...</td>\n",
       "      <td>spitzer umm there no actual article for prosti...</td>\n",
       "    </tr>\n",
       "    <tr>\n",
       "      <th>159569</th>\n",
       "      <td>And it looks like it was actually you who put ...</td>\n",
       "      <td>0</td>\n",
       "      <td>And it looks like it was actually you who put ...</td>\n",
       "      <td>and it look like it wa actually you who put on...</td>\n",
       "    </tr>\n",
       "    <tr>\n",
       "      <th>159570</th>\n",
       "      <td>\"\\nAnd ... I really don't think you understand...</td>\n",
       "      <td>0</td>\n",
       "      <td>And I really don t think you understand I came...</td>\n",
       "      <td>and i really don t think you understand i came...</td>\n",
       "    </tr>\n",
       "  </tbody>\n",
       "</table>\n",
       "</div>"
      ],
      "text/plain": [
       "                                                     text  toxic  \\\n",
       "159561  \"\\nNo he did not, read it again (I would have ...      0   \n",
       "159562  \"\\n Auto guides and the motoring press are not...      0   \n",
       "159563  \"\\nplease identify what part of BLP applies be...      0   \n",
       "159564  Catalan independentism is the social movement ...      0   \n",
       "159565  The numbers in parentheses are the additional ...      0   \n",
       "159566  \":::::And for the second time of asking, when ...      0   \n",
       "159567  You should be ashamed of yourself \\n\\nThat is ...      0   \n",
       "159568  Spitzer \\n\\nUmm, theres no actual article for ...      0   \n",
       "159569  And it looks like it was actually you who put ...      0   \n",
       "159570  \"\\nAnd ... I really don't think you understand...      0   \n",
       "\n",
       "                                           our_clear_text  \\\n",
       "159561  No he did not read it again I would have thoug...   \n",
       "159562  Auto guides and the motoring press are not goo...   \n",
       "159563  please identify what part of BLP applies becau...   \n",
       "159564  Catalan independentism is the social movement ...   \n",
       "159565  The numbers in parentheses are the additional ...   \n",
       "159566  And for the second time of asking when your vi...   \n",
       "159567  You should be ashamed of yourself That is a ho...   \n",
       "159568  Spitzer Umm theres no actual article for prost...   \n",
       "159569  And it looks like it was actually you who put ...   \n",
       "159570  And I really don t think you understand I came...   \n",
       "\n",
       "                                               text_lemma  \n",
       "159561  no he did not read it again i would have thoug...  \n",
       "159562  auto guide and the motoring press are not good...  \n",
       "159563  please identify what part of blp applies becau...  \n",
       "159564  catalan independentism is the social movement ...  \n",
       "159565  the number in parenthesis are the additional d...  \n",
       "159566  and for the second time of asking when your vi...  \n",
       "159567  you should be ashamed of yourself that is a ho...  \n",
       "159568  spitzer umm there no actual article for prosti...  \n",
       "159569  and it look like it wa actually you who put on...  \n",
       "159570  and i really don t think you understand i came...  "
      ]
     },
     "metadata": {},
     "output_type": "display_data"
    }
   ],
   "source": [
    "lemmatizer = WordNetLemmatizer()\n",
    "def lemmatize(text):\n",
    "    text = text.lower() \n",
    "    word_list = nltk.word_tokenize(text)\n",
    "    lemmatized_output = ' '.join([lemmatizer.lemmatize(w) for w in word_list])\n",
    "    return lemmatized_output\n",
    "\n",
    "\n",
    "comments['text_lemma'] = comments['our_clear_text'].apply(lemmatize)\n",
    "\n",
    "\n",
    "display(comments.tail(10))\n"
   ]
  },
  {
   "cell_type": "code",
   "execution_count": 11,
   "metadata": {},
   "outputs": [
    {
     "name": "stderr",
     "output_type": "stream",
     "text": [
      "[nltk_data] Downloading package averaged_perceptron_tagger to\n",
      "[nltk_data]     /home/jovyan/nltk_data...\n"
     ]
    },
    {
     "name": "stdout",
     "output_type": "stream",
     "text": [
      "motor\n"
     ]
    },
    {
     "name": "stderr",
     "output_type": "stream",
     "text": [
      "[nltk_data]   Unzipping taggers/averaged_perceptron_tagger.zip.\n"
     ]
    }
   ],
   "source": [
    "nltk.download('averaged_perceptron_tagger')\n",
    "\n",
    "def get_wordnet_pos(word):\n",
    "    \"\"\"Map POS tag to first character lemmatize() accepts\"\"\"\n",
    "    tag = nltk.pos_tag([word])[0][1][0].upper()\n",
    "    tag_dict = {\"J\": wordnet.ADJ,\n",
    "                \"N\": wordnet.NOUN,\n",
    "                \"V\": wordnet.VERB,\n",
    "                \"R\": wordnet.ADV}\n",
    "    return tag_dict.get(tag, wordnet.NOUN)\n",
    "\n",
    "print(lemmatizer.lemmatize('motoring', get_wordnet_pos('motoring')))"
   ]
  },
  {
   "cell_type": "code",
   "execution_count": 12,
   "metadata": {},
   "outputs": [
    {
     "name": "stdout",
     "output_type": "stream",
     "text": [
      "auto guide and the motor press be not go\n"
     ]
    }
   ],
   "source": [
    "def lemmatize_pos(text):\n",
    "    text = text.lower() \n",
    "    word_list = nltk.word_tokenize(text)\n",
    "    lemmatized_output = ' '.join([lemmatizer.lemmatize(w,  get_wordnet_pos(w)) for w in word_list])\n",
    "    \n",
    "    return lemmatized_output\n",
    "\n",
    "print(lemmatize_pos('auto guide and the motoring press are not go'))"
   ]
  },
  {
   "cell_type": "code",
   "execution_count": 13,
   "metadata": {},
   "outputs": [
    {
     "data": {
      "text/html": [
       "<div>\n",
       "<style scoped>\n",
       "    .dataframe tbody tr th:only-of-type {\n",
       "        vertical-align: middle;\n",
       "    }\n",
       "\n",
       "    .dataframe tbody tr th {\n",
       "        vertical-align: top;\n",
       "    }\n",
       "\n",
       "    .dataframe thead th {\n",
       "        text-align: right;\n",
       "    }\n",
       "</style>\n",
       "<table border=\"1\" class=\"dataframe\">\n",
       "  <thead>\n",
       "    <tr style=\"text-align: right;\">\n",
       "      <th></th>\n",
       "      <th>text</th>\n",
       "      <th>toxic</th>\n",
       "      <th>our_clear_text</th>\n",
       "      <th>text_lemma</th>\n",
       "      <th>text_lemma_pos</th>\n",
       "    </tr>\n",
       "  </thead>\n",
       "  <tbody>\n",
       "    <tr>\n",
       "      <th>159561</th>\n",
       "      <td>\"\\nNo he did not, read it again (I would have ...</td>\n",
       "      <td>0</td>\n",
       "      <td>No he did not read it again I would have thoug...</td>\n",
       "      <td>no he did not read it again i would have thoug...</td>\n",
       "      <td>no he do not read it again i would have though...</td>\n",
       "    </tr>\n",
       "    <tr>\n",
       "      <th>159562</th>\n",
       "      <td>\"\\n Auto guides and the motoring press are not...</td>\n",
       "      <td>0</td>\n",
       "      <td>Auto guides and the motoring press are not goo...</td>\n",
       "      <td>auto guide and the motoring press are not good...</td>\n",
       "      <td>auto guide and the motor press be not good sou...</td>\n",
       "    </tr>\n",
       "    <tr>\n",
       "      <th>159563</th>\n",
       "      <td>\"\\nplease identify what part of BLP applies be...</td>\n",
       "      <td>0</td>\n",
       "      <td>please identify what part of BLP applies becau...</td>\n",
       "      <td>please identify what part of blp applies becau...</td>\n",
       "      <td>please identify what part of blp applies becau...</td>\n",
       "    </tr>\n",
       "    <tr>\n",
       "      <th>159564</th>\n",
       "      <td>Catalan independentism is the social movement ...</td>\n",
       "      <td>0</td>\n",
       "      <td>Catalan independentism is the social movement ...</td>\n",
       "      <td>catalan independentism is the social movement ...</td>\n",
       "      <td>catalan independentism be the social movement ...</td>\n",
       "    </tr>\n",
       "    <tr>\n",
       "      <th>159565</th>\n",
       "      <td>The numbers in parentheses are the additional ...</td>\n",
       "      <td>0</td>\n",
       "      <td>The numbers in parentheses are the additional ...</td>\n",
       "      <td>the number in parenthesis are the additional d...</td>\n",
       "      <td>the number in parenthesis be the additional de...</td>\n",
       "    </tr>\n",
       "    <tr>\n",
       "      <th>159566</th>\n",
       "      <td>\":::::And for the second time of asking, when ...</td>\n",
       "      <td>0</td>\n",
       "      <td>And for the second time of asking when your vi...</td>\n",
       "      <td>and for the second time of asking when your vi...</td>\n",
       "      <td>and for the second time of ask when your view ...</td>\n",
       "    </tr>\n",
       "    <tr>\n",
       "      <th>159567</th>\n",
       "      <td>You should be ashamed of yourself \\n\\nThat is ...</td>\n",
       "      <td>0</td>\n",
       "      <td>You should be ashamed of yourself That is a ho...</td>\n",
       "      <td>you should be ashamed of yourself that is a ho...</td>\n",
       "      <td>you should be ashamed of yourself that be a ho...</td>\n",
       "    </tr>\n",
       "    <tr>\n",
       "      <th>159568</th>\n",
       "      <td>Spitzer \\n\\nUmm, theres no actual article for ...</td>\n",
       "      <td>0</td>\n",
       "      <td>Spitzer Umm theres no actual article for prost...</td>\n",
       "      <td>spitzer umm there no actual article for prosti...</td>\n",
       "      <td>spitzer umm there no actual article for prosti...</td>\n",
       "    </tr>\n",
       "    <tr>\n",
       "      <th>159569</th>\n",
       "      <td>And it looks like it was actually you who put ...</td>\n",
       "      <td>0</td>\n",
       "      <td>And it looks like it was actually you who put ...</td>\n",
       "      <td>and it look like it wa actually you who put on...</td>\n",
       "      <td>and it look like it be actually you who put on...</td>\n",
       "    </tr>\n",
       "    <tr>\n",
       "      <th>159570</th>\n",
       "      <td>\"\\nAnd ... I really don't think you understand...</td>\n",
       "      <td>0</td>\n",
       "      <td>And I really don t think you understand I came...</td>\n",
       "      <td>and i really don t think you understand i came...</td>\n",
       "      <td>and i really don t think you understand i come...</td>\n",
       "    </tr>\n",
       "  </tbody>\n",
       "</table>\n",
       "</div>"
      ],
      "text/plain": [
       "                                                     text  toxic  \\\n",
       "159561  \"\\nNo he did not, read it again (I would have ...      0   \n",
       "159562  \"\\n Auto guides and the motoring press are not...      0   \n",
       "159563  \"\\nplease identify what part of BLP applies be...      0   \n",
       "159564  Catalan independentism is the social movement ...      0   \n",
       "159565  The numbers in parentheses are the additional ...      0   \n",
       "159566  \":::::And for the second time of asking, when ...      0   \n",
       "159567  You should be ashamed of yourself \\n\\nThat is ...      0   \n",
       "159568  Spitzer \\n\\nUmm, theres no actual article for ...      0   \n",
       "159569  And it looks like it was actually you who put ...      0   \n",
       "159570  \"\\nAnd ... I really don't think you understand...      0   \n",
       "\n",
       "                                           our_clear_text  \\\n",
       "159561  No he did not read it again I would have thoug...   \n",
       "159562  Auto guides and the motoring press are not goo...   \n",
       "159563  please identify what part of BLP applies becau...   \n",
       "159564  Catalan independentism is the social movement ...   \n",
       "159565  The numbers in parentheses are the additional ...   \n",
       "159566  And for the second time of asking when your vi...   \n",
       "159567  You should be ashamed of yourself That is a ho...   \n",
       "159568  Spitzer Umm theres no actual article for prost...   \n",
       "159569  And it looks like it was actually you who put ...   \n",
       "159570  And I really don t think you understand I came...   \n",
       "\n",
       "                                               text_lemma  \\\n",
       "159561  no he did not read it again i would have thoug...   \n",
       "159562  auto guide and the motoring press are not good...   \n",
       "159563  please identify what part of blp applies becau...   \n",
       "159564  catalan independentism is the social movement ...   \n",
       "159565  the number in parenthesis are the additional d...   \n",
       "159566  and for the second time of asking when your vi...   \n",
       "159567  you should be ashamed of yourself that is a ho...   \n",
       "159568  spitzer umm there no actual article for prosti...   \n",
       "159569  and it look like it wa actually you who put on...   \n",
       "159570  and i really don t think you understand i came...   \n",
       "\n",
       "                                           text_lemma_pos  \n",
       "159561  no he do not read it again i would have though...  \n",
       "159562  auto guide and the motor press be not good sou...  \n",
       "159563  please identify what part of blp applies becau...  \n",
       "159564  catalan independentism be the social movement ...  \n",
       "159565  the number in parenthesis be the additional de...  \n",
       "159566  and for the second time of ask when your view ...  \n",
       "159567  you should be ashamed of yourself that be a ho...  \n",
       "159568  spitzer umm there no actual article for prosti...  \n",
       "159569  and it look like it be actually you who put on...  \n",
       "159570  and i really don t think you understand i come...  "
      ]
     },
     "metadata": {},
     "output_type": "display_data"
    }
   ],
   "source": [
    "comments['text_lemma_pos'] = comments['our_clear_text'].apply(lemmatize_pos)\n",
    "display(comments.tail(10))"
   ]
  },
  {
   "cell_type": "code",
   "execution_count": 14,
   "metadata": {},
   "outputs": [],
   "source": [
    "corpus = comments['text_lemma_pos']\n",
    "corpus_lemm = [lemmatize(clear_text(corpus[i])) for i in range(len(corpus))]"
   ]
  },
  {
   "cell_type": "code",
   "execution_count": 15,
   "metadata": {},
   "outputs": [],
   "source": [
    "stopwords = set(nltk_stopwords.words('english'))"
   ]
  },
  {
   "cell_type": "markdown",
   "metadata": {},
   "source": [
    "Разделим данные на тренировочную и тестовую выборки."
   ]
  },
  {
   "cell_type": "code",
   "execution_count": 16,
   "metadata": {},
   "outputs": [],
   "source": [
    "X_train, X_test, y_train, y_test = train_test_split(corpus_lemm, comments['toxic'], \n",
    "                                                    test_size=0.2,\n",
    "                                                    random_state=42)"
   ]
  },
  {
   "cell_type": "code",
   "execution_count": 17,
   "metadata": {},
   "outputs": [
    {
     "name": "stdout",
     "output_type": "stream",
     "text": [
      "Размер тренировочного корпуса: 127656\n",
      "Размер тестового корпуса: 31915\n"
     ]
    }
   ],
   "source": [
    "print(f\"Размер тренировочного корпуса: {len(X_train)}\")\n",
    "print(f\"Размер тестового корпуса: {len(X_test)}\")"
   ]
  },
  {
   "cell_type": "markdown",
   "metadata": {},
   "source": [
    "Проведём векторизацию корпусов с помощью TfidfVectorizer, заодно удалим стоп-слова.\n",
    "Попробуем обучить модель без использования n-gramm"
   ]
  },
  {
   "cell_type": "code",
   "execution_count": 18,
   "metadata": {},
   "outputs": [],
   "source": [
    "tf_idf_vec = TfidfVectorizer(ngram_range=(1,1), stop_words=stopwords,\n",
    "               min_df=3, max_df=0.9, use_idf=1,\n",
    "               smooth_idf=1, sublinear_tf=1 )"
   ]
  },
  {
   "cell_type": "code",
   "execution_count": 19,
   "metadata": {},
   "outputs": [],
   "source": [
    "X_train_vec = tf_idf_vec.fit_transform(X_train)"
   ]
  },
  {
   "cell_type": "code",
   "execution_count": 20,
   "metadata": {},
   "outputs": [],
   "source": [
    "X_test_vec = tf_idf_vec.transform(X_test)"
   ]
  },
  {
   "cell_type": "code",
   "execution_count": 21,
   "metadata": {},
   "outputs": [
    {
     "name": "stdout",
     "output_type": "stream",
     "text": [
      "Размер тренировочного датасета: (127656, 36120)\n",
      "Размер тестового датасета: (31915, 36120)\n"
     ]
    }
   ],
   "source": [
    "print(f\"Размер тренировочного датасета: {X_train_vec.shape}\")\n",
    "print(f\"Размер тестового датасета: {X_test_vec.shape}\")"
   ]
  },
  {
   "cell_type": "markdown",
   "metadata": {},
   "source": [
    "## Обучение"
   ]
  },
  {
   "cell_type": "markdown",
   "metadata": {},
   "source": [
    "Найдём метрику accuracy для константной модели. Будем предсказывать все твиты нетоксичными ('toxic'=0)"
   ]
  },
  {
   "cell_type": "code",
   "execution_count": 22,
   "metadata": {},
   "outputs": [
    {
     "name": "stdout",
     "output_type": "stream",
     "text": [
      "Accuracy константной модели 0.898\n"
     ]
    }
   ],
   "source": [
    "base_predicts = pd.Series(data=np.zeros((len(y_test))), index=y_test.index, dtype='int16')\n",
    "base_accuacy = accuracy_score(y_test, base_predicts)\n",
    "print(f\"Accuracy константной модели {base_accuacy:.3f}\")"
   ]
  },
  {
   "cell_type": "markdown",
   "metadata": {},
   "source": [
    "Logistic Regression"
   ]
  },
  {
   "cell_type": "code",
   "execution_count": null,
   "metadata": {},
   "outputs": [
    {
     "name": "stdout",
     "output_type": "stream",
     "text": [
      "Fitting 5 folds for each of 11 candidates, totalling 55 fits\n",
      "[CV] END ..............................C=10.0, max_iter=1000; total time= 1.3min\n",
      "[CV] END ..............................C=10.0, max_iter=1000; total time= 1.4min\n",
      "[CV] END ..............................C=10.0, max_iter=1000; total time= 1.5min\n",
      "[CV] END ..............................C=10.0, max_iter=1000; total time= 1.3min\n",
      "[CV] END ..............................C=10.0, max_iter=1000; total time= 1.4min\n",
      "[CV] END ..............................C=11.0, max_iter=1000; total time= 1.7min\n",
      "[CV] END ..............................C=11.0, max_iter=1000; total time= 1.4min\n",
      "[CV] END ..............................C=11.0, max_iter=1000; total time= 1.4min\n",
      "[CV] END ..............................C=11.0, max_iter=1000; total time= 1.1min\n",
      "[CV] END ..............................C=11.0, max_iter=1000; total time= 1.4min\n",
      "[CV] END ..............................C=12.0, max_iter=1000; total time= 1.5min\n",
      "[CV] END ..............................C=12.0, max_iter=1000; total time= 1.2min\n",
      "[CV] END ..............................C=12.0, max_iter=1000; total time= 1.7min\n",
      "[CV] END ..............................C=12.0, max_iter=1000; total time= 1.3min\n",
      "[CV] END ..............................C=12.0, max_iter=1000; total time= 1.3min\n",
      "[CV] END ..............................C=13.0, max_iter=1000; total time= 1.6min\n",
      "[CV] END ..............................C=13.0, max_iter=1000; total time= 1.4min\n",
      "[CV] END ..............................C=13.0, max_iter=1000; total time= 1.6min\n",
      "[CV] END ..............................C=13.0, max_iter=1000; total time= 1.5min\n",
      "[CV] END ..............................C=13.0, max_iter=1000; total time= 1.5min\n",
      "[CV] END ..............................C=14.0, max_iter=1000; total time= 1.4min\n",
      "[CV] END ..............................C=14.0, max_iter=1000; total time= 1.3min\n",
      "[CV] END ..............................C=14.0, max_iter=1000; total time= 1.9min\n",
      "[CV] END ..............................C=14.0, max_iter=1000; total time= 1.6min\n",
      "[CV] END ..............................C=14.0, max_iter=1000; total time= 1.3min\n",
      "[CV] END ..............................C=15.0, max_iter=1000; total time= 1.3min\n",
      "[CV] END ..............................C=15.0, max_iter=1000; total time= 1.7min\n",
      "[CV] END ..............................C=15.0, max_iter=1000; total time= 1.5min\n",
      "[CV] END ..............................C=15.0, max_iter=1000; total time= 1.7min\n",
      "[CV] END ..............................C=15.0, max_iter=1000; total time= 1.5min\n",
      "[CV] END ..............................C=16.0, max_iter=1000; total time= 1.6min\n",
      "[CV] END ..............................C=16.0, max_iter=1000; total time= 1.5min\n",
      "[CV] END ..............................C=16.0, max_iter=1000; total time= 1.7min\n",
      "[CV] END ..............................C=16.0, max_iter=1000; total time= 1.8min\n",
      "[CV] END ..............................C=16.0, max_iter=1000; total time= 1.6min\n",
      "[CV] END ..............................C=17.0, max_iter=1000; total time= 1.8min\n",
      "[CV] END ..............................C=17.0, max_iter=1000; total time= 1.6min\n",
      "[CV] END ..............................C=17.0, max_iter=1000; total time= 1.9min\n",
      "[CV] END ..............................C=17.0, max_iter=1000; total time= 1.5min\n",
      "[CV] END ..............................C=17.0, max_iter=1000; total time= 1.7min\n",
      "[CV] END ..............................C=18.0, max_iter=1000; total time= 1.9min\n",
      "[CV] END ..............................C=18.0, max_iter=1000; total time= 1.6min\n",
      "[CV] END ..............................C=18.0, max_iter=1000; total time= 1.6min\n",
      "[CV] END ..............................C=18.0, max_iter=1000; total time=  57.8s\n",
      "[CV] END ..............................C=18.0, max_iter=1000; total time= 2.0min\n",
      "[CV] END ..............................C=19.0, max_iter=1000; total time= 1.4min\n"
     ]
    }
   ],
   "source": [
    "%%time\n",
    "#Для начала попробуем обучить модель логистической регрессии.\n",
    "#Обучение, подбор гиперпараметров, кросс-валидацию проведём с помощью GridSearchCV библиотеки sklearn\n",
    "#Подбирать будем гиперпараметр регуляризации С\n",
    "\n",
    "parameters = {'C': np.linspace(10, 20, num = 11, endpoint = True),\n",
    "             'max_iter': [1000]}\n",
    "lrm = LogisticRegression()\n",
    "clf = GridSearchCV(lrm, parameters,\n",
    "                  cv=5,\n",
    "                  scoring='f1',\n",
    "                  n_jobs=-1,\n",
    "                  verbose=2)\n",
    "clf.fit(X_train_vec, y_train)"
   ]
  },
  {
   "cell_type": "code",
   "execution_count": null,
   "metadata": {},
   "outputs": [],
   "source": [
    "GridSearchCV(cv=5, estimator=LogisticRegression(), n_jobs=-1,\n",
    "             param_grid={'C': np.array([10., 11., 12., 13., 14., 15., 16., 17., 18., 19., 20.]),\n",
    "                         'max_iter': [1000]},\n",
    "             scoring='f1', verbose=2)"
   ]
  },
  {
   "cell_type": "code",
   "execution_count": null,
   "metadata": {},
   "outputs": [],
   "source": [
    "print(f\"Наилучший показатель f1 на кросс-валидации : {clf.best_score_:.3f}\")\n",
    "print(f\"Параметр регуляризации для лучшей модели: {clf.best_params_}\")"
   ]
  },
  {
   "cell_type": "markdown",
   "metadata": {},
   "source": [
    "NB-SVM"
   ]
  },
  {
   "cell_type": "code",
   "execution_count": null,
   "metadata": {},
   "outputs": [],
   "source": [
    "def prob(x, y_i, y):\n",
    "    p = x[y==y_i].sum(axis=0)\n",
    "    return (p+1) / ((y==y_i).sum()+1)"
   ]
  },
  {
   "cell_type": "code",
   "execution_count": null,
   "metadata": {},
   "outputs": [],
   "source": [
    "r = np.log(prob(X_train_vec, 1, y_train.values) / prob(X_train_vec, 0, y_train.values))\n",
    "X_train_nb = X_train_vec.multiply(r)\n",
    "X_test_nb = X_test_vec.multiply(r)"
   ]
  },
  {
   "cell_type": "code",
   "execution_count": null,
   "metadata": {},
   "outputs": [],
   "source": [
    "parameters = {'C': np.linspace(1, 11, num = 11, endpoint = True)}\n",
    "nblrm = LogisticRegression(solver='liblinear', \n",
    "                           dual=True, \n",
    "                           max_iter = 1000)\n",
    "clf_nb = GridSearchCV(nblrm, parameters,\n",
    "                  cv=5,\n",
    "                  scoring='f1',\n",
    "                  n_jobs=-1,\n",
    "                  verbose=2)"
   ]
  },
  {
   "cell_type": "code",
   "execution_count": null,
   "metadata": {},
   "outputs": [],
   "source": [
    "%%time\n",
    "clf_nb.fit(X_train_nb, y_train)"
   ]
  },
  {
   "cell_type": "code",
   "execution_count": null,
   "metadata": {},
   "outputs": [],
   "source": [
    "GridSearchCV(cv=5,\n",
    "             estimator=LogisticRegression(dual=True, max_iter=1000,\n",
    "                                          solver='liblinear'),\n",
    "             n_jobs=-1,\n",
    "             param_grid={'C': np.array([ 1.,  2.,  3.,  4.,  5.,  6.,  7.,  8.,  9., 10., 11.])},\n",
    "             scoring='f1', verbose=2)"
   ]
  },
  {
   "cell_type": "code",
   "execution_count": null,
   "metadata": {},
   "outputs": [],
   "source": [
    "print(f\"Наилучший показатель f1 на кросс-валидации : {clf_nb.best_score_:.3f}\")\n",
    "print(f\"Параметр регуляризации для лучшей модели: {clf_nb.best_params_}\")"
   ]
  },
  {
   "cell_type": "markdown",
   "metadata": {},
   "source": [
    "LinearSVC"
   ]
  },
  {
   "cell_type": "code",
   "execution_count": null,
   "metadata": {},
   "outputs": [],
   "source": [
    "%%time\n",
    "parameters = {'C': np.linspace(1, 31, num = 7, endpoint = True)}\n",
    "lsvcm = LinearSVC(max_iter = 1000)\n",
    "clf_lsvc = GridSearchCV(nblrm, parameters,\n",
    "                  cv=5,\n",
    "                  scoring='f1',\n",
    "                  n_jobs=-1,\n",
    "                  verbose=2)"
   ]
  },
  {
   "cell_type": "code",
   "execution_count": null,
   "metadata": {},
   "outputs": [],
   "source": [
    "clf_lsvc.fit(X_train_vec, y_train)"
   ]
  },
  {
   "cell_type": "code",
   "execution_count": null,
   "metadata": {},
   "outputs": [],
   "source": [
    "GridSearchCV(cv=5,\n",
    "             estimator=LogisticRegression(C=3, dual=True, max_iter=1000,\n",
    "                                          solver='liblinear'),\n",
    "             n_jobs=-1,\n",
    "             param_grid={'C': np.array([ 1.,  6., 11., 16., 21., 26., 31.])},\n",
    "             scoring='f1', verbose=2)"
   ]
  },
  {
   "cell_type": "code",
   "execution_count": null,
   "metadata": {},
   "outputs": [],
   "source": [
    "print(f\"Наилучший показатель f1 на кросс-валидации : {clf_lsvc.best_score_:.3f}\")\n",
    "print(f\"Параметр регуляризации для лучшей модели: {clf_lsvc.best_params_}\")"
   ]
  },
  {
   "cell_type": "markdown",
   "metadata": {},
   "source": [
    "Проверяем лучшую модель на тесте."
   ]
  },
  {
   "cell_type": "code",
   "execution_count": null,
   "metadata": {},
   "outputs": [],
   "source": [
    "nblrm = LogisticRegression(C=3,\n",
    "                           solver='liblinear', \n",
    "                           dual=True,\n",
    "                           max_iter=1000)\n",
    "nblrm.fit(X_train_nb, y_train)\n",
    "predict = nblrm.predict(X_test_nb)\n",
    "f1_nblr = f1_score(y_test, predict)"
   ]
  },
  {
   "cell_type": "code",
   "execution_count": null,
   "metadata": {},
   "outputs": [],
   "source": [
    "print(f\"Показатель f1 на тестовой выборке: {f1_nblr:.3f}\")"
   ]
  },
  {
   "cell_type": "markdown",
   "metadata": {},
   "source": [
    "## Выводы"
   ]
  },
  {
   "cell_type": "markdown",
   "metadata": {},
   "source": [
    "Данные о токсичности твитов успешно загружены и обработаны:\n",
    "\n",
    "Лемматизация проведена с помощью WordNetLemmatizer библиотеки nltk\n",
    "\n",
    "Знаки пунктуации, а также лишние пробелы удалены\n",
    "\n",
    "Стоп слова удалены (список взят из библиотеки nltk)\n",
    "\n",
    "Корпус векторизован с помощью TfidfVectorizer\n",
    "\n",
    "На получившихся данных обучены модели: LogisticRegression, NB-SVM, LinearSVC.\n"
   ]
  }
 ],
 "metadata": {
  "ExecuteTimeLog": [
   {
    "duration": 70120,
    "start_time": "2022-07-26T09:00:54.440Z"
   },
   {
    "duration": 406,
    "start_time": "2022-07-26T09:02:56.153Z"
   },
   {
    "duration": 59,
    "start_time": "2022-07-26T09:03:51.099Z"
   },
   {
    "duration": 46,
    "start_time": "2022-07-26T09:04:39.377Z"
   },
   {
    "duration": 45,
    "start_time": "2022-07-26T09:04:55.444Z"
   },
   {
    "duration": 33,
    "start_time": "2022-07-26T09:05:35.200Z"
   },
   {
    "duration": 44,
    "start_time": "2022-07-26T09:05:35.277Z"
   },
   {
    "duration": 2245,
    "start_time": "2022-07-26T09:06:55.896Z"
   },
   {
    "duration": 4,
    "start_time": "2022-07-26T09:07:40.919Z"
   },
   {
    "duration": 6,
    "start_time": "2022-07-26T09:08:37.795Z"
   },
   {
    "duration": 13,
    "start_time": "2022-07-26T09:08:58.865Z"
   },
   {
    "duration": 3,
    "start_time": "2022-07-26T09:11:33.333Z"
   },
   {
    "duration": 3,
    "start_time": "2022-07-26T09:11:44.260Z"
   },
   {
    "duration": 1895,
    "start_time": "2022-07-26T09:11:56.577Z"
   },
   {
    "duration": 81393,
    "start_time": "2022-07-26T09:12:19.036Z"
   },
   {
    "duration": 4,
    "start_time": "2022-07-26T09:13:40.431Z"
   },
   {
    "duration": 53,
    "start_time": "2022-07-26T09:14:23.345Z"
   },
   {
    "duration": 3,
    "start_time": "2022-07-26T09:15:01.172Z"
   },
   {
    "duration": 3,
    "start_time": "2022-07-26T09:15:37.885Z"
   },
   {
    "duration": 5240,
    "start_time": "2022-07-26T09:15:45.983Z"
   },
   {
    "duration": 1227,
    "start_time": "2022-07-26T09:16:08.467Z"
   },
   {
    "duration": 3,
    "start_time": "2022-07-26T09:16:23.946Z"
   },
   {
    "duration": 7,
    "start_time": "2022-07-26T09:17:03.656Z"
   },
   {
    "duration": 96720,
    "start_time": "2022-07-26T10:28:37.520Z"
   },
   {
    "duration": 2968,
    "start_time": "2022-07-26T10:30:14.241Z"
   },
   {
    "duration": 4,
    "start_time": "2022-07-26T10:30:17.211Z"
   },
   {
    "duration": 15,
    "start_time": "2022-07-26T10:30:17.218Z"
   },
   {
    "duration": 21,
    "start_time": "2022-07-26T10:30:17.235Z"
   },
   {
    "duration": 14,
    "start_time": "2022-07-26T10:30:17.258Z"
   },
   {
    "duration": 9,
    "start_time": "2022-07-26T10:30:17.273Z"
   },
   {
    "duration": 20994,
    "start_time": "2022-07-26T10:30:17.283Z"
   },
   {
    "duration": 115422,
    "start_time": "2022-07-26T10:30:53.565Z"
   },
   {
    "duration": 2567,
    "start_time": "2022-07-26T10:32:48.990Z"
   },
   {
    "duration": 7,
    "start_time": "2022-07-26T10:32:51.559Z"
   },
   {
    "duration": 11,
    "start_time": "2022-07-26T10:32:51.568Z"
   },
   {
    "duration": 14,
    "start_time": "2022-07-26T10:32:51.581Z"
   },
   {
    "duration": 6,
    "start_time": "2022-07-26T10:32:51.597Z"
   },
   {
    "duration": 6,
    "start_time": "2022-07-26T10:32:51.604Z"
   },
   {
    "duration": 2640,
    "start_time": "2022-07-26T10:32:51.611Z"
   },
   {
    "duration": 100982,
    "start_time": "2022-07-26T10:33:31.097Z"
   },
   {
    "duration": 2257,
    "start_time": "2022-07-26T10:35:12.081Z"
   },
   {
    "duration": 4,
    "start_time": "2022-07-26T10:35:14.339Z"
   },
   {
    "duration": 17,
    "start_time": "2022-07-26T10:35:14.345Z"
   },
   {
    "duration": 23,
    "start_time": "2022-07-26T10:35:14.364Z"
   },
   {
    "duration": 15,
    "start_time": "2022-07-26T10:35:14.389Z"
   },
   {
    "duration": 26,
    "start_time": "2022-07-26T10:35:14.405Z"
   },
   {
    "duration": 2421,
    "start_time": "2022-07-26T10:35:14.433Z"
   },
   {
    "duration": 96211,
    "start_time": "2022-07-26T10:35:30.031Z"
   },
   {
    "duration": 2212,
    "start_time": "2022-07-26T10:37:06.243Z"
   },
   {
    "duration": 4,
    "start_time": "2022-07-26T10:37:08.457Z"
   },
   {
    "duration": 11,
    "start_time": "2022-07-26T10:37:08.463Z"
   },
   {
    "duration": 20,
    "start_time": "2022-07-26T10:37:08.476Z"
   },
   {
    "duration": 6,
    "start_time": "2022-07-26T10:37:08.498Z"
   },
   {
    "duration": 11,
    "start_time": "2022-07-26T10:37:08.505Z"
   },
   {
    "duration": 9,
    "start_time": "2022-07-26T10:37:08.518Z"
   },
   {
    "duration": 302,
    "start_time": "2022-07-26T10:37:08.529Z"
   },
   {
    "duration": 0,
    "start_time": "2022-07-26T10:37:08.837Z"
   },
   {
    "duration": 0,
    "start_time": "2022-07-26T10:37:08.839Z"
   },
   {
    "duration": 0,
    "start_time": "2022-07-26T10:37:08.840Z"
   },
   {
    "duration": 0,
    "start_time": "2022-07-26T10:37:08.841Z"
   },
   {
    "duration": 0,
    "start_time": "2022-07-26T10:37:08.843Z"
   },
   {
    "duration": 0,
    "start_time": "2022-07-26T10:37:08.844Z"
   },
   {
    "duration": 0,
    "start_time": "2022-07-26T10:37:08.846Z"
   },
   {
    "duration": 0,
    "start_time": "2022-07-26T10:37:08.847Z"
   },
   {
    "duration": 0,
    "start_time": "2022-07-26T10:37:08.849Z"
   },
   {
    "duration": 0,
    "start_time": "2022-07-26T10:37:08.850Z"
   },
   {
    "duration": 0,
    "start_time": "2022-07-26T10:37:08.852Z"
   },
   {
    "duration": 0,
    "start_time": "2022-07-26T10:37:08.853Z"
   },
   {
    "duration": 0,
    "start_time": "2022-07-26T10:37:08.855Z"
   },
   {
    "duration": 0,
    "start_time": "2022-07-26T10:37:08.856Z"
   },
   {
    "duration": 0,
    "start_time": "2022-07-26T10:37:08.857Z"
   },
   {
    "duration": 0,
    "start_time": "2022-07-26T10:37:08.858Z"
   },
   {
    "duration": 0,
    "start_time": "2022-07-26T10:37:08.859Z"
   },
   {
    "duration": 0,
    "start_time": "2022-07-26T10:37:08.861Z"
   },
   {
    "duration": 0,
    "start_time": "2022-07-26T10:37:08.863Z"
   },
   {
    "duration": 0,
    "start_time": "2022-07-26T10:37:08.864Z"
   },
   {
    "duration": 0,
    "start_time": "2022-07-26T10:37:08.865Z"
   },
   {
    "duration": 0,
    "start_time": "2022-07-26T10:37:08.867Z"
   },
   {
    "duration": 0,
    "start_time": "2022-07-26T10:37:08.869Z"
   },
   {
    "duration": 0,
    "start_time": "2022-07-26T10:37:08.871Z"
   },
   {
    "duration": 0,
    "start_time": "2022-07-26T10:37:08.872Z"
   },
   {
    "duration": 0,
    "start_time": "2022-07-26T10:37:08.874Z"
   },
   {
    "duration": 0,
    "start_time": "2022-07-26T10:37:08.876Z"
   },
   {
    "duration": 0,
    "start_time": "2022-07-26T10:37:08.878Z"
   },
   {
    "duration": 0,
    "start_time": "2022-07-26T10:37:08.879Z"
   },
   {
    "duration": 2,
    "start_time": "2022-07-26T10:37:13.259Z"
   },
   {
    "duration": 82054,
    "start_time": "2022-07-26T10:37:15.632Z"
   },
   {
    "duration": 6,
    "start_time": "2022-07-26T10:38:37.688Z"
   },
   {
    "duration": 59,
    "start_time": "2022-07-26T10:38:37.695Z"
   },
   {
    "duration": 4,
    "start_time": "2022-07-26T10:38:37.756Z"
   },
   {
    "duration": 85333,
    "start_time": "2022-07-26T10:38:47.063Z"
   },
   {
    "duration": 793,
    "start_time": "2022-07-26T10:40:12.398Z"
   },
   {
    "duration": 4,
    "start_time": "2022-07-26T10:40:13.193Z"
   },
   {
    "duration": 19,
    "start_time": "2022-07-26T10:40:13.199Z"
   },
   {
    "duration": 18,
    "start_time": "2022-07-26T10:40:13.219Z"
   },
   {
    "duration": 9,
    "start_time": "2022-07-26T10:40:13.239Z"
   },
   {
    "duration": 7,
    "start_time": "2022-07-26T10:40:13.250Z"
   },
   {
    "duration": 9,
    "start_time": "2022-07-26T10:40:13.259Z"
   },
   {
    "duration": 88434,
    "start_time": "2022-07-26T10:40:13.270Z"
   },
   {
    "duration": 4,
    "start_time": "2022-07-26T10:41:41.706Z"
   },
   {
    "duration": 69,
    "start_time": "2022-07-26T10:41:41.712Z"
   },
   {
    "duration": 4,
    "start_time": "2022-07-26T10:41:41.782Z"
   },
   {
    "duration": 12,
    "start_time": "2022-07-26T10:41:41.788Z"
   },
   {
    "duration": 5543,
    "start_time": "2022-07-26T10:41:41.802Z"
   },
   {
    "duration": 1280,
    "start_time": "2022-07-26T10:41:47.346Z"
   },
   {
    "duration": 5,
    "start_time": "2022-07-26T10:41:48.628Z"
   },
   {
    "duration": 21,
    "start_time": "2022-07-26T10:41:48.637Z"
   },
   {
    "duration": 4689877,
    "start_time": "2022-07-26T10:41:48.660Z"
   },
   {
    "duration": 388,
    "start_time": "2022-07-26T11:59:58.540Z"
   },
   {
    "duration": 0,
    "start_time": "2022-07-26T11:59:58.931Z"
   },
   {
    "duration": 0,
    "start_time": "2022-07-26T11:59:58.932Z"
   },
   {
    "duration": 0,
    "start_time": "2022-07-26T11:59:58.937Z"
   },
   {
    "duration": 0,
    "start_time": "2022-07-26T11:59:58.938Z"
   },
   {
    "duration": 0,
    "start_time": "2022-07-26T11:59:58.940Z"
   },
   {
    "duration": 0,
    "start_time": "2022-07-26T11:59:58.941Z"
   },
   {
    "duration": 0,
    "start_time": "2022-07-26T11:59:58.942Z"
   },
   {
    "duration": 0,
    "start_time": "2022-07-26T11:59:58.943Z"
   },
   {
    "duration": 0,
    "start_time": "2022-07-26T11:59:58.944Z"
   },
   {
    "duration": 0,
    "start_time": "2022-07-26T11:59:58.945Z"
   },
   {
    "duration": 0,
    "start_time": "2022-07-26T11:59:58.946Z"
   },
   {
    "duration": 0,
    "start_time": "2022-07-26T11:59:58.948Z"
   },
   {
    "duration": 0,
    "start_time": "2022-07-26T11:59:58.949Z"
   },
   {
    "duration": 0,
    "start_time": "2022-07-26T11:59:58.950Z"
   },
   {
    "duration": 0,
    "start_time": "2022-07-26T11:59:58.951Z"
   },
   {
    "duration": 0,
    "start_time": "2022-07-26T11:59:58.952Z"
   },
   {
    "duration": 0,
    "start_time": "2022-07-26T11:59:58.953Z"
   },
   {
    "duration": 0,
    "start_time": "2022-07-26T11:59:58.955Z"
   },
   {
    "duration": 0,
    "start_time": "2022-07-26T11:59:58.956Z"
   },
   {
    "duration": 17,
    "start_time": "2022-07-26T12:00:07.558Z"
   },
   {
    "duration": 3,
    "start_time": "2022-07-26T12:00:42.798Z"
   },
   {
    "duration": 3,
    "start_time": "2022-07-26T12:00:48.234Z"
   },
   {
    "duration": 94158,
    "start_time": "2022-07-26T12:00:50.688Z"
   },
   {
    "duration": 4,
    "start_time": "2022-07-26T12:08:28.307Z"
   },
   {
    "duration": 5,
    "start_time": "2022-07-26T12:08:30.428Z"
   },
   {
    "duration": 3,
    "start_time": "2022-07-26T12:09:02.448Z"
   },
   {
    "duration": 95,
    "start_time": "2022-07-26T12:09:02.730Z"
   },
   {
    "duration": 5,
    "start_time": "2022-07-26T12:09:03.663Z"
   },
   {
    "duration": 303410,
    "start_time": "2022-07-26T12:09:11.473Z"
   },
   {
    "duration": 18,
    "start_time": "2022-07-26T12:23:00.207Z"
   },
   {
    "duration": 3,
    "start_time": "2022-07-26T12:23:22.358Z"
   },
   {
    "duration": 4,
    "start_time": "2022-07-26T12:23:27.654Z"
   },
   {
    "duration": 3806,
    "start_time": "2022-07-26T12:23:30.110Z"
   },
   {
    "duration": 3,
    "start_time": "2022-07-26T12:23:40.702Z"
   },
   {
    "duration": 4,
    "start_time": "2022-07-26T12:23:47.917Z"
   },
   {
    "duration": 127784,
    "start_time": "2022-07-26T12:23:55.365Z"
   },
   {
    "duration": 3,
    "start_time": "2022-07-26T12:26:03.151Z"
   },
   {
    "duration": 89087,
    "start_time": "2022-07-26T12:26:03.156Z"
   },
   {
    "duration": 4,
    "start_time": "2022-07-26T12:27:32.246Z"
   },
   {
    "duration": 17,
    "start_time": "2022-07-26T12:37:04.447Z"
   },
   {
    "duration": 2,
    "start_time": "2022-07-26T12:37:07.713Z"
   },
   {
    "duration": 3,
    "start_time": "2022-07-26T12:37:12.047Z"
   },
   {
    "duration": 88526,
    "start_time": "2022-07-26T12:37:12.311Z"
   },
   {
    "duration": 3,
    "start_time": "2022-07-26T12:38:40.840Z"
   },
   {
    "duration": 27,
    "start_time": "2022-07-26T12:47:59.084Z"
   },
   {
    "duration": 16,
    "start_time": "2022-07-26T12:48:31.187Z"
   },
   {
    "duration": 28,
    "start_time": "2022-07-26T12:48:43.549Z"
   },
   {
    "duration": 59,
    "start_time": "2022-07-27T10:45:09.012Z"
   },
   {
    "duration": 78676,
    "start_time": "2022-07-27T10:45:34.592Z"
   },
   {
    "duration": 3282,
    "start_time": "2022-07-27T10:46:53.269Z"
   },
   {
    "duration": 4,
    "start_time": "2022-07-27T10:46:56.552Z"
   },
   {
    "duration": 16,
    "start_time": "2022-07-27T10:46:56.558Z"
   },
   {
    "duration": 25,
    "start_time": "2022-07-27T10:46:56.576Z"
   },
   {
    "duration": 14,
    "start_time": "2022-07-27T10:46:56.603Z"
   },
   {
    "duration": 11,
    "start_time": "2022-07-27T10:46:56.619Z"
   },
   {
    "duration": 23,
    "start_time": "2022-07-27T10:46:56.631Z"
   },
   {
    "duration": 90850,
    "start_time": "2022-07-27T10:46:56.656Z"
   },
   {
    "duration": 4,
    "start_time": "2022-07-27T10:48:27.510Z"
   },
   {
    "duration": 66,
    "start_time": "2022-07-27T10:48:27.515Z"
   },
   {
    "duration": 3,
    "start_time": "2022-07-27T10:48:27.583Z"
   },
   {
    "duration": 28,
    "start_time": "2022-07-27T10:48:27.588Z"
   },
   {
    "duration": 5684,
    "start_time": "2022-07-27T10:48:27.618Z"
   },
   {
    "duration": 1305,
    "start_time": "2022-07-27T10:48:33.304Z"
   },
   {
    "duration": 4,
    "start_time": "2022-07-27T10:48:34.611Z"
   },
   {
    "duration": 11,
    "start_time": "2022-07-27T10:48:34.616Z"
   },
   {
    "duration": 78164,
    "start_time": "2022-07-27T11:08:09.050Z"
   },
   {
    "duration": 816,
    "start_time": "2022-07-27T11:09:27.216Z"
   },
   {
    "duration": 4,
    "start_time": "2022-07-27T11:09:28.034Z"
   },
   {
    "duration": 19,
    "start_time": "2022-07-27T11:09:28.040Z"
   },
   {
    "duration": 16,
    "start_time": "2022-07-27T11:09:28.061Z"
   },
   {
    "duration": 9,
    "start_time": "2022-07-27T11:09:28.079Z"
   },
   {
    "duration": 9,
    "start_time": "2022-07-27T11:09:28.090Z"
   },
   {
    "duration": 3,
    "start_time": "2022-07-27T11:09:28.110Z"
   },
   {
    "duration": 89610,
    "start_time": "2022-07-27T11:09:28.115Z"
   },
   {
    "duration": 3,
    "start_time": "2022-07-27T11:10:57.728Z"
   },
   {
    "duration": 96,
    "start_time": "2022-07-27T11:10:57.733Z"
   },
   {
    "duration": 4,
    "start_time": "2022-07-27T11:10:57.832Z"
   },
   {
    "duration": 20,
    "start_time": "2022-07-27T11:10:57.838Z"
   },
   {
    "duration": 5749,
    "start_time": "2022-07-27T11:10:57.859Z"
   },
   {
    "duration": 1327,
    "start_time": "2022-07-27T11:11:03.610Z"
   },
   {
    "duration": 4,
    "start_time": "2022-07-27T11:11:04.938Z"
   },
   {
    "duration": 49,
    "start_time": "2022-07-27T11:11:04.943Z"
   },
   {
    "duration": 80,
    "start_time": "2022-07-27T11:11:04.994Z"
   },
   {
    "duration": 0,
    "start_time": "2022-07-27T11:11:05.076Z"
   },
   {
    "duration": 1,
    "start_time": "2022-07-27T11:11:05.077Z"
   },
   {
    "duration": 0,
    "start_time": "2022-07-27T11:11:05.079Z"
   },
   {
    "duration": 0,
    "start_time": "2022-07-27T11:11:05.080Z"
   },
   {
    "duration": 0,
    "start_time": "2022-07-27T11:11:05.080Z"
   },
   {
    "duration": 0,
    "start_time": "2022-07-27T11:11:05.081Z"
   },
   {
    "duration": 0,
    "start_time": "2022-07-27T11:11:05.082Z"
   },
   {
    "duration": 0,
    "start_time": "2022-07-27T11:11:05.084Z"
   },
   {
    "duration": 0,
    "start_time": "2022-07-27T11:11:05.085Z"
   },
   {
    "duration": 0,
    "start_time": "2022-07-27T11:11:05.085Z"
   },
   {
    "duration": 0,
    "start_time": "2022-07-27T11:11:05.086Z"
   },
   {
    "duration": 0,
    "start_time": "2022-07-27T11:11:05.087Z"
   },
   {
    "duration": 0,
    "start_time": "2022-07-27T11:11:05.089Z"
   },
   {
    "duration": 0,
    "start_time": "2022-07-27T11:11:05.090Z"
   },
   {
    "duration": 0,
    "start_time": "2022-07-27T11:11:05.092Z"
   },
   {
    "duration": 0,
    "start_time": "2022-07-27T11:11:05.093Z"
   },
   {
    "duration": 0,
    "start_time": "2022-07-27T11:11:05.093Z"
   },
   {
    "duration": 0,
    "start_time": "2022-07-27T11:11:05.095Z"
   },
   {
    "duration": 1,
    "start_time": "2022-07-27T11:11:05.096Z"
   },
   {
    "duration": 0,
    "start_time": "2022-07-27T11:11:05.098Z"
   },
   {
    "duration": 3,
    "start_time": "2022-07-27T11:11:24.652Z"
   },
   {
    "duration": 86725,
    "start_time": "2022-07-27T11:11:34.055Z"
   },
   {
    "duration": 852,
    "start_time": "2022-07-27T11:13:00.782Z"
   },
   {
    "duration": 4,
    "start_time": "2022-07-27T11:13:01.636Z"
   },
   {
    "duration": 16,
    "start_time": "2022-07-27T11:13:01.643Z"
   },
   {
    "duration": 26,
    "start_time": "2022-07-27T11:13:01.661Z"
   },
   {
    "duration": 7,
    "start_time": "2022-07-27T11:13:01.689Z"
   },
   {
    "duration": 12,
    "start_time": "2022-07-27T11:13:01.698Z"
   },
   {
    "duration": 5,
    "start_time": "2022-07-27T11:13:01.712Z"
   },
   {
    "duration": 92491,
    "start_time": "2022-07-27T11:13:01.718Z"
   },
   {
    "duration": 4,
    "start_time": "2022-07-27T11:14:34.212Z"
   },
   {
    "duration": 64,
    "start_time": "2022-07-27T11:14:34.217Z"
   },
   {
    "duration": 3,
    "start_time": "2022-07-27T11:14:34.283Z"
   },
   {
    "duration": 15,
    "start_time": "2022-07-27T11:14:34.287Z"
   },
   {
    "duration": 5863,
    "start_time": "2022-07-27T11:14:34.304Z"
   },
   {
    "duration": 1321,
    "start_time": "2022-07-27T11:14:40.169Z"
   },
   {
    "duration": 4,
    "start_time": "2022-07-27T11:14:41.491Z"
   },
   {
    "duration": 13,
    "start_time": "2022-07-27T11:14:41.497Z"
   },
   {
    "duration": 4,
    "start_time": "2022-07-27T11:14:41.512Z"
   },
   {
    "duration": 5,
    "start_time": "2022-07-27T11:14:41.518Z"
   },
   {
    "duration": 5,
    "start_time": "2022-07-27T11:14:41.525Z"
   },
   {
    "duration": 18,
    "start_time": "2022-07-27T11:14:41.532Z"
   },
   {
    "duration": 5,
    "start_time": "2022-07-27T11:14:41.552Z"
   },
   {
    "duration": 9,
    "start_time": "2022-07-27T11:14:41.559Z"
   },
   {
    "duration": 4,
    "start_time": "2022-07-27T11:14:41.570Z"
   },
   {
    "duration": 5,
    "start_time": "2022-07-27T11:14:41.576Z"
   },
   {
    "duration": 104,
    "start_time": "2022-07-27T11:14:41.583Z"
   },
   {
    "duration": 0,
    "start_time": "2022-07-27T11:14:41.689Z"
   },
   {
    "duration": 0,
    "start_time": "2022-07-27T11:14:41.690Z"
   },
   {
    "duration": 0,
    "start_time": "2022-07-27T11:14:41.691Z"
   },
   {
    "duration": 0,
    "start_time": "2022-07-27T11:14:41.692Z"
   },
   {
    "duration": 0,
    "start_time": "2022-07-27T11:14:41.693Z"
   },
   {
    "duration": 0,
    "start_time": "2022-07-27T11:14:41.694Z"
   },
   {
    "duration": 0,
    "start_time": "2022-07-27T11:14:41.695Z"
   },
   {
    "duration": 0,
    "start_time": "2022-07-27T11:14:41.696Z"
   },
   {
    "duration": 0,
    "start_time": "2022-07-27T11:14:41.697Z"
   },
   {
    "duration": 0,
    "start_time": "2022-07-27T11:14:41.699Z"
   },
   {
    "duration": 0,
    "start_time": "2022-07-27T11:14:41.700Z"
   },
   {
    "duration": 0,
    "start_time": "2022-07-27T11:14:41.701Z"
   },
   {
    "duration": 4,
    "start_time": "2022-07-27T11:16:30.913Z"
   },
   {
    "duration": 2,
    "start_time": "2022-07-27T11:16:33.156Z"
   },
   {
    "duration": 3,
    "start_time": "2022-07-27T11:16:34.793Z"
   },
   {
    "duration": 3,
    "start_time": "2022-07-27T11:16:38.340Z"
   },
   {
    "duration": 3,
    "start_time": "2022-07-27T11:16:39.768Z"
   },
   {
    "duration": 3,
    "start_time": "2022-07-27T11:16:41.650Z"
   },
   {
    "duration": 2,
    "start_time": "2022-07-27T11:16:43.704Z"
   },
   {
    "duration": 2,
    "start_time": "2022-07-27T11:16:45.644Z"
   },
   {
    "duration": 2,
    "start_time": "2022-07-27T11:16:47.141Z"
   },
   {
    "duration": 3,
    "start_time": "2022-07-27T11:16:49.972Z"
   },
   {
    "duration": 5,
    "start_time": "2022-07-27T11:16:51.588Z"
   },
   {
    "duration": 2,
    "start_time": "2022-07-27T11:16:53.841Z"
   },
   {
    "duration": 331,
    "start_time": "2022-07-27T11:16:57.777Z"
   },
   {
    "duration": 574,
    "start_time": "2022-07-27T11:17:40.268Z"
   },
   {
    "duration": 396,
    "start_time": "2022-07-27T11:17:47.428Z"
   },
   {
    "duration": 20,
    "start_time": "2022-07-27T11:27:34.908Z"
   },
   {
    "duration": 22502,
    "start_time": "2022-07-27T11:29:38.017Z"
   },
   {
    "duration": 20625,
    "start_time": "2022-07-27T11:31:13.522Z"
   },
   {
    "duration": 4,
    "start_time": "2022-07-27T11:48:15.860Z"
   },
   {
    "duration": 203,
    "start_time": "2022-07-27T11:50:30.236Z"
   },
   {
    "duration": 7,
    "start_time": "2022-07-27T11:51:38.278Z"
   },
   {
    "duration": 39,
    "start_time": "2022-07-27T11:51:45.339Z"
   },
   {
    "duration": 50,
    "start_time": "2022-07-27T11:54:37.282Z"
   },
   {
    "duration": 97005,
    "start_time": "2022-07-27T12:00:07.502Z"
   },
   {
    "duration": 961,
    "start_time": "2022-07-27T12:01:44.509Z"
   },
   {
    "duration": 5,
    "start_time": "2022-07-27T12:01:45.471Z"
   },
   {
    "duration": 76,
    "start_time": "2022-07-27T12:01:45.478Z"
   },
   {
    "duration": 25,
    "start_time": "2022-07-27T12:01:45.555Z"
   },
   {
    "duration": 14,
    "start_time": "2022-07-27T12:01:45.582Z"
   },
   {
    "duration": 43,
    "start_time": "2022-07-27T12:01:45.598Z"
   },
   {
    "duration": 13,
    "start_time": "2022-07-27T12:01:45.644Z"
   },
   {
    "duration": 104797,
    "start_time": "2022-07-27T12:01:45.660Z"
   },
   {
    "duration": 5,
    "start_time": "2022-07-27T12:03:30.461Z"
   },
   {
    "duration": 408,
    "start_time": "2022-07-27T12:03:30.468Z"
   },
   {
    "duration": 0,
    "start_time": "2022-07-27T12:03:30.878Z"
   },
   {
    "duration": 0,
    "start_time": "2022-07-27T12:03:30.880Z"
   },
   {
    "duration": 0,
    "start_time": "2022-07-27T12:03:30.881Z"
   },
   {
    "duration": 0,
    "start_time": "2022-07-27T12:03:30.883Z"
   },
   {
    "duration": 0,
    "start_time": "2022-07-27T12:03:30.885Z"
   },
   {
    "duration": 0,
    "start_time": "2022-07-27T12:03:30.885Z"
   },
   {
    "duration": 0,
    "start_time": "2022-07-27T12:03:30.886Z"
   },
   {
    "duration": 0,
    "start_time": "2022-07-27T12:03:30.888Z"
   },
   {
    "duration": 0,
    "start_time": "2022-07-27T12:03:30.910Z"
   },
   {
    "duration": 0,
    "start_time": "2022-07-27T12:03:30.913Z"
   },
   {
    "duration": 4,
    "start_time": "2022-07-27T12:04:10.492Z"
   },
   {
    "duration": 65,
    "start_time": "2022-07-27T12:04:12.717Z"
   },
   {
    "duration": 4,
    "start_time": "2022-07-27T12:04:14.649Z"
   },
   {
    "duration": 3,
    "start_time": "2022-07-27T12:04:32.339Z"
   },
   {
    "duration": 6729,
    "start_time": "2022-07-27T12:04:34.067Z"
   },
   {
    "duration": 1543,
    "start_time": "2022-07-27T12:04:40.798Z"
   },
   {
    "duration": 8,
    "start_time": "2022-07-27T12:05:10.905Z"
   },
   {
    "duration": 7,
    "start_time": "2022-07-27T12:05:12.864Z"
   },
   {
    "duration": 4,
    "start_time": "2022-07-27T12:05:27.672Z"
   },
   {
    "duration": 5,
    "start_time": "2022-07-27T12:05:40.458Z"
   },
   {
    "duration": 5,
    "start_time": "2022-07-27T12:06:01.594Z"
   },
   {
    "duration": 23,
    "start_time": "2022-07-27T12:06:39.839Z"
   },
   {
    "duration": 7,
    "start_time": "2022-07-27T12:07:57.666Z"
   },
   {
    "duration": 7,
    "start_time": "2022-07-27T12:08:08.688Z"
   },
   {
    "duration": 82352,
    "start_time": "2022-07-27T16:11:33.961Z"
   },
   {
    "duration": 2659,
    "start_time": "2022-07-27T16:12:56.316Z"
   },
   {
    "duration": 5,
    "start_time": "2022-07-27T16:12:58.977Z"
   },
   {
    "duration": 18,
    "start_time": "2022-07-27T16:12:58.985Z"
   },
   {
    "duration": 24,
    "start_time": "2022-07-27T16:12:59.005Z"
   },
   {
    "duration": 23,
    "start_time": "2022-07-27T16:12:59.031Z"
   },
   {
    "duration": 11,
    "start_time": "2022-07-27T16:12:59.056Z"
   },
   {
    "duration": 10,
    "start_time": "2022-07-27T16:12:59.069Z"
   },
   {
    "duration": 91919,
    "start_time": "2022-07-27T16:12:59.081Z"
   },
   {
    "duration": 4,
    "start_time": "2022-07-27T16:14:31.003Z"
   },
   {
    "duration": 360,
    "start_time": "2022-07-27T16:14:31.008Z"
   },
   {
    "duration": 0,
    "start_time": "2022-07-27T16:14:31.371Z"
   },
   {
    "duration": 0,
    "start_time": "2022-07-27T16:14:31.372Z"
   },
   {
    "duration": 0,
    "start_time": "2022-07-27T16:14:31.373Z"
   },
   {
    "duration": 0,
    "start_time": "2022-07-27T16:14:31.375Z"
   },
   {
    "duration": 0,
    "start_time": "2022-07-27T16:14:31.377Z"
   },
   {
    "duration": 0,
    "start_time": "2022-07-27T16:14:31.378Z"
   },
   {
    "duration": 0,
    "start_time": "2022-07-27T16:14:31.380Z"
   },
   {
    "duration": 0,
    "start_time": "2022-07-27T16:14:31.381Z"
   },
   {
    "duration": 0,
    "start_time": "2022-07-27T16:14:31.383Z"
   },
   {
    "duration": 0,
    "start_time": "2022-07-27T16:14:31.384Z"
   },
   {
    "duration": 0,
    "start_time": "2022-07-27T16:14:31.386Z"
   },
   {
    "duration": 0,
    "start_time": "2022-07-27T16:14:31.388Z"
   },
   {
    "duration": 49,
    "start_time": "2022-07-27T16:14:46.328Z"
   },
   {
    "duration": 6,
    "start_time": "2022-07-27T16:15:02.220Z"
   },
   {
    "duration": 6,
    "start_time": "2022-07-27T16:15:21.988Z"
   },
   {
    "duration": 5,
    "start_time": "2022-07-27T16:16:28.033Z"
   },
   {
    "duration": 34,
    "start_time": "2022-07-27T16:17:32.721Z"
   },
   {
    "duration": 4,
    "start_time": "2022-07-27T16:18:27.216Z"
   },
   {
    "duration": 3,
    "start_time": "2022-07-27T16:18:47.628Z"
   },
   {
    "duration": 30,
    "start_time": "2022-07-27T16:19:43.416Z"
   },
   {
    "duration": 32,
    "start_time": "2022-07-27T16:20:20.371Z"
   },
   {
    "duration": 77,
    "start_time": "2022-07-27T16:20:34.176Z"
   },
   {
    "duration": 4,
    "start_time": "2022-07-27T16:20:42.439Z"
   },
   {
    "duration": 32,
    "start_time": "2022-07-27T16:20:48.455Z"
   },
   {
    "duration": 4,
    "start_time": "2022-07-27T16:20:53.143Z"
   },
   {
    "duration": 36,
    "start_time": "2022-07-27T16:21:06.592Z"
   },
   {
    "duration": 5,
    "start_time": "2022-07-27T16:23:11.127Z"
   },
   {
    "duration": 3072,
    "start_time": "2022-07-27T16:23:21.552Z"
   },
   {
    "duration": 44,
    "start_time": "2022-07-27T16:23:29.783Z"
   },
   {
    "duration": 48,
    "start_time": "2022-07-27T16:25:46.366Z"
   },
   {
    "duration": 95,
    "start_time": "2022-07-27T16:26:06.166Z"
   },
   {
    "duration": 35,
    "start_time": "2022-07-27T16:28:00.070Z"
   },
   {
    "duration": 34,
    "start_time": "2022-07-27T16:29:37.320Z"
   },
   {
    "duration": 31,
    "start_time": "2022-07-27T16:30:26.837Z"
   },
   {
    "duration": 453,
    "start_time": "2022-07-27T16:30:55.069Z"
   },
   {
    "duration": 33,
    "start_time": "2022-07-27T16:31:04.113Z"
   },
   {
    "duration": 9,
    "start_time": "2022-07-27T16:31:14.837Z"
   },
   {
    "duration": 34,
    "start_time": "2022-07-27T16:31:33.381Z"
   },
   {
    "duration": 5,
    "start_time": "2022-07-27T16:32:09.712Z"
   },
   {
    "duration": 4,
    "start_time": "2022-07-27T16:32:16.409Z"
   },
   {
    "duration": 27,
    "start_time": "2022-07-27T16:32:23.261Z"
   },
   {
    "duration": 4,
    "start_time": "2022-07-27T16:32:38.286Z"
   },
   {
    "duration": 4,
    "start_time": "2022-07-27T16:35:10.004Z"
   },
   {
    "duration": 31,
    "start_time": "2022-07-27T16:35:42.229Z"
   },
   {
    "duration": 33,
    "start_time": "2022-07-27T16:35:53.606Z"
   },
   {
    "duration": 24,
    "start_time": "2022-07-27T16:36:07.933Z"
   },
   {
    "duration": 8,
    "start_time": "2022-07-27T16:36:47.409Z"
   },
   {
    "duration": 12,
    "start_time": "2022-07-27T16:37:02.364Z"
   },
   {
    "duration": 82677,
    "start_time": "2022-07-27T16:47:42.975Z"
   },
   {
    "duration": 769,
    "start_time": "2022-07-27T16:49:05.654Z"
   },
   {
    "duration": 4,
    "start_time": "2022-07-27T16:49:06.424Z"
   },
   {
    "duration": 9,
    "start_time": "2022-07-27T16:49:06.430Z"
   },
   {
    "duration": 12,
    "start_time": "2022-07-27T16:49:06.441Z"
   },
   {
    "duration": 5,
    "start_time": "2022-07-27T16:49:06.455Z"
   },
   {
    "duration": 7,
    "start_time": "2022-07-27T16:49:06.461Z"
   },
   {
    "duration": 7,
    "start_time": "2022-07-27T16:49:06.470Z"
   },
   {
    "duration": 87527,
    "start_time": "2022-07-27T16:49:06.478Z"
   },
   {
    "duration": 4,
    "start_time": "2022-07-27T16:50:34.008Z"
   },
   {
    "duration": 452,
    "start_time": "2022-07-27T16:50:34.023Z"
   },
   {
    "duration": 0,
    "start_time": "2022-07-27T16:50:34.477Z"
   },
   {
    "duration": 0,
    "start_time": "2022-07-27T16:50:34.478Z"
   },
   {
    "duration": 0,
    "start_time": "2022-07-27T16:50:34.479Z"
   },
   {
    "duration": 0,
    "start_time": "2022-07-27T16:50:34.480Z"
   },
   {
    "duration": 0,
    "start_time": "2022-07-27T16:50:34.481Z"
   },
   {
    "duration": 0,
    "start_time": "2022-07-27T16:50:34.482Z"
   },
   {
    "duration": 0,
    "start_time": "2022-07-27T16:50:34.483Z"
   },
   {
    "duration": 0,
    "start_time": "2022-07-27T16:50:34.485Z"
   },
   {
    "duration": 0,
    "start_time": "2022-07-27T16:50:34.486Z"
   },
   {
    "duration": 0,
    "start_time": "2022-07-27T16:50:34.486Z"
   },
   {
    "duration": 0,
    "start_time": "2022-07-27T16:50:34.487Z"
   },
   {
    "duration": 4,
    "start_time": "2022-07-27T16:50:53.603Z"
   },
   {
    "duration": 63,
    "start_time": "2022-07-27T16:50:54.184Z"
   },
   {
    "duration": 4,
    "start_time": "2022-07-27T16:50:54.517Z"
   },
   {
    "duration": 4,
    "start_time": "2022-07-27T16:50:58.575Z"
   },
   {
    "duration": 5927,
    "start_time": "2022-07-27T16:50:58.769Z"
   },
   {
    "duration": 1390,
    "start_time": "2022-07-27T16:51:04.698Z"
   },
   {
    "duration": 4,
    "start_time": "2022-07-27T16:51:06.090Z"
   },
   {
    "duration": 27,
    "start_time": "2022-07-27T16:51:06.097Z"
   },
   {
    "duration": 4,
    "start_time": "2022-07-27T16:51:12.520Z"
   },
   {
    "duration": 22339,
    "start_time": "2022-07-27T16:51:22.857Z"
   },
   {
    "duration": 4,
    "start_time": "2022-07-27T16:52:05.760Z"
   },
   {
    "duration": 23,
    "start_time": "2022-07-27T16:52:24.759Z"
   },
   {
    "duration": 20,
    "start_time": "2022-07-27T16:52:32.944Z"
   },
   {
    "duration": 4,
    "start_time": "2022-07-27T16:52:40.152Z"
   },
   {
    "duration": 22,
    "start_time": "2022-07-27T16:54:54.153Z"
   },
   {
    "duration": 7,
    "start_time": "2022-07-27T16:55:00.576Z"
   },
   {
    "duration": 7,
    "start_time": "2022-07-27T16:55:08.559Z"
   },
   {
    "duration": 6338,
    "start_time": "2022-07-27T16:55:29.657Z"
   },
   {
    "duration": 4,
    "start_time": "2022-07-27T16:55:46.975Z"
   },
   {
    "duration": 20,
    "start_time": "2022-07-27T16:56:36.842Z"
   },
   {
    "duration": 8,
    "start_time": "2022-07-27T16:56:43.308Z"
   },
   {
    "duration": 15,
    "start_time": "2022-07-27T16:56:49.944Z"
   },
   {
    "duration": 6185,
    "start_time": "2022-07-27T16:56:50.224Z"
   },
   {
    "duration": 1469,
    "start_time": "2022-07-27T16:56:56.411Z"
   },
   {
    "duration": 4,
    "start_time": "2022-07-27T16:57:00.713Z"
   },
   {
    "duration": 26037,
    "start_time": "2022-07-27T16:57:45.400Z"
   },
   {
    "duration": 22,
    "start_time": "2022-07-27T16:58:13.946Z"
   },
   {
    "duration": 26144,
    "start_time": "2022-07-27T16:58:22.996Z"
   },
   {
    "duration": 101,
    "start_time": "2022-07-27T16:58:59.408Z"
   },
   {
    "duration": 17,
    "start_time": "2022-07-27T16:59:14.240Z"
   },
   {
    "duration": 12,
    "start_time": "2022-07-28T12:43:44.184Z"
   },
   {
    "duration": 71414,
    "start_time": "2022-07-28T12:43:52.018Z"
   },
   {
    "duration": 2655,
    "start_time": "2022-07-28T12:45:03.434Z"
   },
   {
    "duration": 4,
    "start_time": "2022-07-28T12:45:06.091Z"
   },
   {
    "duration": 28,
    "start_time": "2022-07-28T12:45:06.097Z"
   },
   {
    "duration": 13,
    "start_time": "2022-07-28T12:45:06.127Z"
   },
   {
    "duration": 6,
    "start_time": "2022-07-28T12:45:06.141Z"
   },
   {
    "duration": 5,
    "start_time": "2022-07-28T12:45:06.149Z"
   },
   {
    "duration": 7,
    "start_time": "2022-07-28T12:45:06.155Z"
   },
   {
    "duration": 94474,
    "start_time": "2022-07-28T12:45:06.163Z"
   },
   {
    "duration": 4,
    "start_time": "2022-07-28T12:46:40.641Z"
   },
   {
    "duration": 377,
    "start_time": "2022-07-28T12:46:40.647Z"
   },
   {
    "duration": 0,
    "start_time": "2022-07-28T12:46:41.026Z"
   },
   {
    "duration": 0,
    "start_time": "2022-07-28T12:46:41.027Z"
   },
   {
    "duration": 0,
    "start_time": "2022-07-28T12:46:41.028Z"
   },
   {
    "duration": 0,
    "start_time": "2022-07-28T12:46:41.029Z"
   },
   {
    "duration": 0,
    "start_time": "2022-07-28T12:46:41.031Z"
   },
   {
    "duration": 0,
    "start_time": "2022-07-28T12:46:41.032Z"
   },
   {
    "duration": 0,
    "start_time": "2022-07-28T12:46:41.033Z"
   },
   {
    "duration": 0,
    "start_time": "2022-07-28T12:46:41.035Z"
   },
   {
    "duration": 0,
    "start_time": "2022-07-28T12:46:41.036Z"
   },
   {
    "duration": 0,
    "start_time": "2022-07-28T12:46:41.038Z"
   },
   {
    "duration": 0,
    "start_time": "2022-07-28T12:46:41.039Z"
   },
   {
    "duration": 81,
    "start_time": "2022-07-28T13:06:58.845Z"
   },
   {
    "duration": 82,
    "start_time": "2022-07-28T13:08:00.786Z"
   },
   {
    "duration": 16,
    "start_time": "2022-07-28T13:15:57.158Z"
   },
   {
    "duration": 26,
    "start_time": "2022-07-28T13:16:03.286Z"
   },
   {
    "duration": 4,
    "start_time": "2022-07-28T13:16:12.066Z"
   },
   {
    "duration": 66,
    "start_time": "2022-07-28T13:16:13.655Z"
   },
   {
    "duration": 4,
    "start_time": "2022-07-28T13:16:15.531Z"
   },
   {
    "duration": 3,
    "start_time": "2022-07-28T13:16:18.510Z"
   },
   {
    "duration": 5909,
    "start_time": "2022-07-28T13:16:20.874Z"
   },
   {
    "duration": 1370,
    "start_time": "2022-07-28T13:16:26.785Z"
   },
   {
    "duration": 3,
    "start_time": "2022-07-28T13:16:28.157Z"
   },
   {
    "duration": 15,
    "start_time": "2022-07-28T13:16:28.163Z"
   },
   {
    "duration": 59869,
    "start_time": "2022-07-28T13:27:27.300Z"
   },
   {
    "duration": 865,
    "start_time": "2022-07-28T13:28:27.170Z"
   },
   {
    "duration": 4,
    "start_time": "2022-07-28T13:28:28.037Z"
   },
   {
    "duration": 7,
    "start_time": "2022-07-28T13:28:28.043Z"
   },
   {
    "duration": 13,
    "start_time": "2022-07-28T13:28:28.052Z"
   },
   {
    "duration": 7,
    "start_time": "2022-07-28T13:28:28.067Z"
   },
   {
    "duration": 24,
    "start_time": "2022-07-28T13:28:28.075Z"
   },
   {
    "duration": 6,
    "start_time": "2022-07-28T13:28:28.101Z"
   },
   {
    "duration": 88793,
    "start_time": "2022-07-28T13:28:28.109Z"
   },
   {
    "duration": 4,
    "start_time": "2022-07-28T13:29:56.905Z"
   },
   {
    "duration": 418,
    "start_time": "2022-07-28T13:29:56.911Z"
   },
   {
    "duration": 0,
    "start_time": "2022-07-28T13:29:57.331Z"
   },
   {
    "duration": 0,
    "start_time": "2022-07-28T13:29:57.333Z"
   },
   {
    "duration": 0,
    "start_time": "2022-07-28T13:29:57.334Z"
   },
   {
    "duration": 0,
    "start_time": "2022-07-28T13:29:57.335Z"
   },
   {
    "duration": 0,
    "start_time": "2022-07-28T13:29:57.336Z"
   },
   {
    "duration": 0,
    "start_time": "2022-07-28T13:29:57.337Z"
   },
   {
    "duration": 0,
    "start_time": "2022-07-28T13:29:57.338Z"
   },
   {
    "duration": 0,
    "start_time": "2022-07-28T13:29:57.340Z"
   },
   {
    "duration": 0,
    "start_time": "2022-07-28T13:29:57.341Z"
   },
   {
    "duration": 0,
    "start_time": "2022-07-28T13:29:57.342Z"
   },
   {
    "duration": 0,
    "start_time": "2022-07-28T13:29:57.343Z"
   },
   {
    "duration": 0,
    "start_time": "2022-07-28T13:29:57.344Z"
   },
   {
    "duration": 0,
    "start_time": "2022-07-28T13:29:57.345Z"
   },
   {
    "duration": 0,
    "start_time": "2022-07-28T13:29:57.346Z"
   },
   {
    "duration": 0,
    "start_time": "2022-07-28T13:29:57.348Z"
   },
   {
    "duration": 0,
    "start_time": "2022-07-28T13:29:57.349Z"
   },
   {
    "duration": 0,
    "start_time": "2022-07-28T13:29:57.350Z"
   },
   {
    "duration": 0,
    "start_time": "2022-07-28T13:29:57.351Z"
   },
   {
    "duration": 0,
    "start_time": "2022-07-28T13:29:57.352Z"
   },
   {
    "duration": 0,
    "start_time": "2022-07-28T13:29:57.353Z"
   },
   {
    "duration": 0,
    "start_time": "2022-07-28T13:29:57.354Z"
   },
   {
    "duration": 0,
    "start_time": "2022-07-28T13:29:57.355Z"
   },
   {
    "duration": 3,
    "start_time": "2022-07-28T13:30:59.056Z"
   },
   {
    "duration": 60,
    "start_time": "2022-07-28T13:31:00.698Z"
   },
   {
    "duration": 4,
    "start_time": "2022-07-28T13:31:02.216Z"
   },
   {
    "duration": 3,
    "start_time": "2022-07-28T13:31:04.968Z"
   },
   {
    "duration": 5625,
    "start_time": "2022-07-28T13:31:11.913Z"
   },
   {
    "duration": 1270,
    "start_time": "2022-07-28T13:31:17.540Z"
   },
   {
    "duration": 4,
    "start_time": "2022-07-28T13:31:21.046Z"
   },
   {
    "duration": 8,
    "start_time": "2022-07-28T13:31:23.843Z"
   },
   {
    "duration": 5,
    "start_time": "2022-07-28T13:31:27.222Z"
   },
   {
    "duration": 18,
    "start_time": "2022-07-28T13:31:30.388Z"
   },
   {
    "duration": 4,
    "start_time": "2022-07-28T13:31:48.646Z"
   },
   {
    "duration": 74,
    "start_time": "2022-07-28T13:31:50.381Z"
   },
   {
    "duration": 4,
    "start_time": "2022-07-28T13:31:52.153Z"
   },
   {
    "duration": 110973,
    "start_time": "2022-07-28T15:55:17.880Z"
   },
   {
    "duration": 1149,
    "start_time": "2022-07-28T15:57:08.856Z"
   },
   {
    "duration": 5,
    "start_time": "2022-07-28T15:57:10.007Z"
   },
   {
    "duration": 16,
    "start_time": "2022-07-28T15:57:10.015Z"
   },
   {
    "duration": 18,
    "start_time": "2022-07-28T15:57:10.033Z"
   },
   {
    "duration": 11,
    "start_time": "2022-07-28T15:57:10.055Z"
   },
   {
    "duration": 15,
    "start_time": "2022-07-28T15:57:10.069Z"
   },
   {
    "duration": 10,
    "start_time": "2022-07-28T15:57:10.086Z"
   },
   {
    "duration": 97150,
    "start_time": "2022-07-28T15:57:10.105Z"
   },
   {
    "duration": 5,
    "start_time": "2022-07-28T15:58:47.260Z"
   },
   {
    "duration": 365,
    "start_time": "2022-07-28T15:58:47.268Z"
   },
   {
    "duration": 0,
    "start_time": "2022-07-28T15:58:47.636Z"
   },
   {
    "duration": 0,
    "start_time": "2022-07-28T15:58:47.638Z"
   },
   {
    "duration": 0,
    "start_time": "2022-07-28T15:58:47.640Z"
   },
   {
    "duration": 0,
    "start_time": "2022-07-28T15:58:47.642Z"
   },
   {
    "duration": 0,
    "start_time": "2022-07-28T15:58:47.644Z"
   },
   {
    "duration": 0,
    "start_time": "2022-07-28T15:58:47.646Z"
   },
   {
    "duration": 0,
    "start_time": "2022-07-28T15:58:47.648Z"
   },
   {
    "duration": 0,
    "start_time": "2022-07-28T15:58:47.650Z"
   },
   {
    "duration": 0,
    "start_time": "2022-07-28T15:58:47.652Z"
   },
   {
    "duration": 0,
    "start_time": "2022-07-28T15:58:47.654Z"
   },
   {
    "duration": 0,
    "start_time": "2022-07-28T15:58:47.656Z"
   },
   {
    "duration": 0,
    "start_time": "2022-07-28T15:58:47.658Z"
   },
   {
    "duration": 0,
    "start_time": "2022-07-28T15:58:47.660Z"
   },
   {
    "duration": 0,
    "start_time": "2022-07-28T15:58:47.662Z"
   },
   {
    "duration": 0,
    "start_time": "2022-07-28T15:58:47.704Z"
   },
   {
    "duration": 0,
    "start_time": "2022-07-28T15:58:47.706Z"
   },
   {
    "duration": 0,
    "start_time": "2022-07-28T15:58:47.707Z"
   },
   {
    "duration": 0,
    "start_time": "2022-07-28T15:58:47.708Z"
   },
   {
    "duration": 0,
    "start_time": "2022-07-28T15:58:47.709Z"
   },
   {
    "duration": 0,
    "start_time": "2022-07-28T15:58:47.710Z"
   },
   {
    "duration": 0,
    "start_time": "2022-07-28T15:58:47.711Z"
   },
   {
    "duration": 0,
    "start_time": "2022-07-28T15:58:47.713Z"
   },
   {
    "duration": 0,
    "start_time": "2022-07-28T15:58:47.714Z"
   },
   {
    "duration": 52,
    "start_time": "2022-07-28T17:37:03.191Z"
   },
   {
    "duration": 59520,
    "start_time": "2022-07-28T17:37:09.964Z"
   },
   {
    "duration": 2278,
    "start_time": "2022-07-28T17:38:09.486Z"
   },
   {
    "duration": 4,
    "start_time": "2022-07-28T17:38:11.765Z"
   },
   {
    "duration": 8,
    "start_time": "2022-07-28T17:38:11.771Z"
   },
   {
    "duration": 13,
    "start_time": "2022-07-28T17:38:11.781Z"
   },
   {
    "duration": 11,
    "start_time": "2022-07-28T17:38:11.798Z"
   },
   {
    "duration": 5,
    "start_time": "2022-07-28T17:38:11.810Z"
   },
   {
    "duration": 5,
    "start_time": "2022-07-28T17:38:11.817Z"
   },
   {
    "duration": 86739,
    "start_time": "2022-07-28T17:38:11.824Z"
   },
   {
    "duration": 4,
    "start_time": "2022-07-28T17:39:38.565Z"
   },
   {
    "duration": 1714,
    "start_time": "2022-07-28T17:39:38.571Z"
   },
   {
    "duration": 0,
    "start_time": "2022-07-28T17:39:40.287Z"
   },
   {
    "duration": 0,
    "start_time": "2022-07-28T17:39:40.288Z"
   },
   {
    "duration": 0,
    "start_time": "2022-07-28T17:39:40.289Z"
   },
   {
    "duration": 0,
    "start_time": "2022-07-28T17:39:40.290Z"
   },
   {
    "duration": 0,
    "start_time": "2022-07-28T17:39:40.291Z"
   },
   {
    "duration": 0,
    "start_time": "2022-07-28T17:39:40.292Z"
   },
   {
    "duration": 0,
    "start_time": "2022-07-28T17:39:40.293Z"
   },
   {
    "duration": 0,
    "start_time": "2022-07-28T17:39:40.295Z"
   },
   {
    "duration": 0,
    "start_time": "2022-07-28T17:39:40.296Z"
   },
   {
    "duration": 0,
    "start_time": "2022-07-28T17:39:40.297Z"
   },
   {
    "duration": 0,
    "start_time": "2022-07-28T17:39:40.298Z"
   },
   {
    "duration": 0,
    "start_time": "2022-07-28T17:39:40.299Z"
   },
   {
    "duration": 0,
    "start_time": "2022-07-28T17:39:40.300Z"
   },
   {
    "duration": 0,
    "start_time": "2022-07-28T17:39:40.301Z"
   },
   {
    "duration": 0,
    "start_time": "2022-07-28T17:39:40.302Z"
   },
   {
    "duration": 0,
    "start_time": "2022-07-28T17:39:40.303Z"
   },
   {
    "duration": 0,
    "start_time": "2022-07-28T17:39:40.304Z"
   },
   {
    "duration": 0,
    "start_time": "2022-07-28T17:39:40.306Z"
   },
   {
    "duration": 0,
    "start_time": "2022-07-28T17:39:40.307Z"
   },
   {
    "duration": 0,
    "start_time": "2022-07-28T17:39:40.308Z"
   },
   {
    "duration": 0,
    "start_time": "2022-07-28T17:39:40.309Z"
   },
   {
    "duration": 0,
    "start_time": "2022-07-28T17:39:40.309Z"
   },
   {
    "duration": 132340,
    "start_time": "2022-07-28T17:40:12.175Z"
   },
   {
    "duration": 5,
    "start_time": "2022-07-28T17:49:54.402Z"
   },
   {
    "duration": 55,
    "start_time": "2022-07-29T08:53:24.491Z"
   },
   {
    "duration": 78410,
    "start_time": "2022-07-29T08:53:39.125Z"
   },
   {
    "duration": 2817,
    "start_time": "2022-07-29T08:54:57.537Z"
   },
   {
    "duration": 4,
    "start_time": "2022-07-29T08:55:00.355Z"
   },
   {
    "duration": 8,
    "start_time": "2022-07-29T08:55:00.361Z"
   },
   {
    "duration": 14,
    "start_time": "2022-07-29T08:55:00.370Z"
   },
   {
    "duration": 6,
    "start_time": "2022-07-29T08:55:00.385Z"
   },
   {
    "duration": 4,
    "start_time": "2022-07-29T08:55:00.393Z"
   },
   {
    "duration": 4,
    "start_time": "2022-07-29T08:55:00.399Z"
   },
   {
    "duration": 71732,
    "start_time": "2022-07-29T08:55:00.405Z"
   },
   {
    "duration": 3,
    "start_time": "2022-07-29T08:56:12.140Z"
   },
   {
    "duration": 1471,
    "start_time": "2022-07-29T08:56:12.145Z"
   },
   {
    "duration": 0,
    "start_time": "2022-07-29T08:56:13.618Z"
   },
   {
    "duration": 0,
    "start_time": "2022-07-29T08:56:13.619Z"
   },
   {
    "duration": 0,
    "start_time": "2022-07-29T08:56:13.620Z"
   },
   {
    "duration": 0,
    "start_time": "2022-07-29T08:56:13.621Z"
   },
   {
    "duration": 0,
    "start_time": "2022-07-29T08:56:13.622Z"
   },
   {
    "duration": 0,
    "start_time": "2022-07-29T08:56:13.623Z"
   },
   {
    "duration": 0,
    "start_time": "2022-07-29T08:56:13.624Z"
   },
   {
    "duration": 0,
    "start_time": "2022-07-29T08:56:13.625Z"
   },
   {
    "duration": 0,
    "start_time": "2022-07-29T08:56:13.626Z"
   },
   {
    "duration": 0,
    "start_time": "2022-07-29T08:56:13.627Z"
   },
   {
    "duration": 0,
    "start_time": "2022-07-29T08:56:13.628Z"
   },
   {
    "duration": 0,
    "start_time": "2022-07-29T08:56:13.629Z"
   },
   {
    "duration": 0,
    "start_time": "2022-07-29T08:56:13.630Z"
   },
   {
    "duration": 0,
    "start_time": "2022-07-29T08:56:13.631Z"
   },
   {
    "duration": 0,
    "start_time": "2022-07-29T08:56:13.632Z"
   },
   {
    "duration": 0,
    "start_time": "2022-07-29T08:56:13.633Z"
   },
   {
    "duration": 0,
    "start_time": "2022-07-29T08:56:13.633Z"
   },
   {
    "duration": 0,
    "start_time": "2022-07-29T08:56:13.634Z"
   },
   {
    "duration": 0,
    "start_time": "2022-07-29T08:56:13.635Z"
   },
   {
    "duration": 111680,
    "start_time": "2022-07-29T08:58:41.559Z"
   },
   {
    "duration": 110195,
    "start_time": "2022-07-29T09:03:32.970Z"
   },
   {
    "duration": 19,
    "start_time": "2022-07-29T09:05:23.167Z"
   },
   {
    "duration": 42,
    "start_time": "2022-07-29T09:08:58.178Z"
   },
   {
    "duration": 24,
    "start_time": "2022-07-29T09:09:26.285Z"
   },
   {
    "duration": 84,
    "start_time": "2022-07-29T11:58:07.295Z"
   },
   {
    "duration": 94930,
    "start_time": "2022-07-29T11:58:18.554Z"
   },
   {
    "duration": 2893,
    "start_time": "2022-07-29T11:59:53.487Z"
   },
   {
    "duration": 5,
    "start_time": "2022-07-29T11:59:56.382Z"
   },
   {
    "duration": 15,
    "start_time": "2022-07-29T11:59:56.389Z"
   },
   {
    "duration": 19,
    "start_time": "2022-07-29T11:59:56.407Z"
   },
   {
    "duration": 32,
    "start_time": "2022-07-29T11:59:56.428Z"
   },
   {
    "duration": 8,
    "start_time": "2022-07-29T11:59:56.462Z"
   },
   {
    "duration": 6,
    "start_time": "2022-07-29T11:59:56.471Z"
   },
   {
    "duration": 374,
    "start_time": "2022-07-29T11:59:56.479Z"
   },
   {
    "duration": 0,
    "start_time": "2022-07-29T11:59:56.855Z"
   },
   {
    "duration": 0,
    "start_time": "2022-07-29T11:59:56.856Z"
   },
   {
    "duration": 0,
    "start_time": "2022-07-29T11:59:56.857Z"
   },
   {
    "duration": 0,
    "start_time": "2022-07-29T11:59:56.858Z"
   },
   {
    "duration": 0,
    "start_time": "2022-07-29T11:59:56.859Z"
   },
   {
    "duration": 0,
    "start_time": "2022-07-29T11:59:56.861Z"
   },
   {
    "duration": 0,
    "start_time": "2022-07-29T11:59:56.862Z"
   },
   {
    "duration": 0,
    "start_time": "2022-07-29T11:59:56.864Z"
   },
   {
    "duration": 0,
    "start_time": "2022-07-29T11:59:56.865Z"
   },
   {
    "duration": 0,
    "start_time": "2022-07-29T11:59:56.866Z"
   },
   {
    "duration": 0,
    "start_time": "2022-07-29T11:59:56.867Z"
   },
   {
    "duration": 1,
    "start_time": "2022-07-29T11:59:56.868Z"
   },
   {
    "duration": 0,
    "start_time": "2022-07-29T11:59:56.870Z"
   },
   {
    "duration": 0,
    "start_time": "2022-07-29T11:59:56.871Z"
   },
   {
    "duration": 0,
    "start_time": "2022-07-29T11:59:56.872Z"
   },
   {
    "duration": 1,
    "start_time": "2022-07-29T11:59:56.873Z"
   },
   {
    "duration": 0,
    "start_time": "2022-07-29T11:59:56.875Z"
   },
   {
    "duration": 0,
    "start_time": "2022-07-29T11:59:56.876Z"
   },
   {
    "duration": 1,
    "start_time": "2022-07-29T11:59:56.877Z"
   },
   {
    "duration": 0,
    "start_time": "2022-07-29T11:59:56.879Z"
   },
   {
    "duration": 0,
    "start_time": "2022-07-29T11:59:56.879Z"
   },
   {
    "duration": 0,
    "start_time": "2022-07-29T11:59:56.881Z"
   },
   {
    "duration": 0,
    "start_time": "2022-07-29T11:59:56.881Z"
   },
   {
    "duration": 0,
    "start_time": "2022-07-29T11:59:56.883Z"
   },
   {
    "duration": 2500,
    "start_time": "2022-07-29T12:02:35.358Z"
   },
   {
    "duration": 92105,
    "start_time": "2022-07-29T12:03:52.955Z"
   },
   {
    "duration": 12,
    "start_time": "2022-07-29T12:05:41.935Z"
   },
   {
    "duration": 30,
    "start_time": "2022-07-29T12:07:25.076Z"
   },
   {
    "duration": 51,
    "start_time": "2022-07-29T12:07:51.596Z"
   },
   {
    "duration": 41,
    "start_time": "2022-07-29T12:10:18.467Z"
   },
   {
    "duration": 33,
    "start_time": "2022-07-29T12:11:46.251Z"
   },
   {
    "duration": 535,
    "start_time": "2022-07-29T12:12:17.535Z"
   },
   {
    "duration": 15,
    "start_time": "2022-07-29T12:12:40.757Z"
   },
   {
    "duration": 9,
    "start_time": "2022-07-29T12:13:00.836Z"
   },
   {
    "duration": 5,
    "start_time": "2022-07-29T12:13:36.797Z"
   },
   {
    "duration": 4,
    "start_time": "2022-07-29T12:13:47.061Z"
   },
   {
    "duration": 6,
    "start_time": "2022-07-29T12:13:51.789Z"
   },
   {
    "duration": 4,
    "start_time": "2022-07-29T12:14:09.197Z"
   },
   {
    "duration": 6,
    "start_time": "2022-07-29T12:14:22.844Z"
   },
   {
    "duration": 12,
    "start_time": "2022-07-29T12:15:05.206Z"
   },
   {
    "duration": 9,
    "start_time": "2022-07-29T12:15:19.310Z"
   },
   {
    "duration": 5,
    "start_time": "2022-07-29T12:15:39.272Z"
   },
   {
    "duration": 5,
    "start_time": "2022-07-29T12:16:13.592Z"
   },
   {
    "duration": 7,
    "start_time": "2022-07-29T12:17:02.551Z"
   },
   {
    "duration": 9,
    "start_time": "2022-07-29T12:19:42.760Z"
   },
   {
    "duration": 6,
    "start_time": "2022-07-29T12:20:21.272Z"
   },
   {
    "duration": 23,
    "start_time": "2022-07-29T12:22:56.835Z"
   },
   {
    "duration": 7,
    "start_time": "2022-07-29T12:23:00.010Z"
   },
   {
    "duration": 8,
    "start_time": "2022-07-29T12:23:04.946Z"
   },
   {
    "duration": 1162754,
    "start_time": "2022-07-29T12:23:07.088Z"
   },
   {
    "duration": 49,
    "start_time": "2022-07-29T14:04:34.745Z"
   },
   {
    "duration": 76001,
    "start_time": "2022-07-29T14:04:44.663Z"
   },
   {
    "duration": 2818,
    "start_time": "2022-07-29T14:06:00.666Z"
   },
   {
    "duration": 5,
    "start_time": "2022-07-29T14:06:03.485Z"
   },
   {
    "duration": 8,
    "start_time": "2022-07-29T14:06:03.491Z"
   },
   {
    "duration": 12,
    "start_time": "2022-07-29T14:06:03.500Z"
   },
   {
    "duration": 6,
    "start_time": "2022-07-29T14:06:03.513Z"
   },
   {
    "duration": 11,
    "start_time": "2022-07-29T14:06:03.521Z"
   },
   {
    "duration": 5,
    "start_time": "2022-07-29T14:06:03.533Z"
   },
   {
    "duration": 1828,
    "start_time": "2022-07-29T14:06:03.539Z"
   },
   {
    "duration": 70975,
    "start_time": "2022-07-29T14:06:05.370Z"
   },
   {
    "duration": 390,
    "start_time": "2022-07-29T14:07:16.347Z"
   },
   {
    "duration": 6,
    "start_time": "2022-07-29T14:07:16.739Z"
   },
   {
    "duration": 77455,
    "start_time": "2022-07-29T14:14:28.468Z"
   },
   {
    "duration": 671,
    "start_time": "2022-07-29T14:15:45.925Z"
   },
   {
    "duration": 4,
    "start_time": "2022-07-29T14:15:46.597Z"
   },
   {
    "duration": 7,
    "start_time": "2022-07-29T14:15:46.603Z"
   },
   {
    "duration": 26,
    "start_time": "2022-07-29T14:15:46.611Z"
   },
   {
    "duration": 5,
    "start_time": "2022-07-29T14:15:46.639Z"
   },
   {
    "duration": 4,
    "start_time": "2022-07-29T14:15:46.645Z"
   },
   {
    "duration": 8,
    "start_time": "2022-07-29T14:15:46.651Z"
   },
   {
    "duration": 1851,
    "start_time": "2022-07-29T14:15:46.660Z"
   },
   {
    "duration": 71029,
    "start_time": "2022-07-29T14:15:48.514Z"
   },
   {
    "duration": 105,
    "start_time": "2022-07-29T14:16:59.545Z"
   },
   {
    "duration": 6,
    "start_time": "2022-07-29T14:16:59.651Z"
   },
   {
    "duration": 1062511,
    "start_time": "2022-07-29T14:16:59.658Z"
   },
   {
    "duration": 76517,
    "start_time": "2022-07-29T14:34:42.171Z"
   },
   {
    "duration": 3,
    "start_time": "2022-07-29T14:35:58.690Z"
   },
   {
    "duration": 64,
    "start_time": "2022-07-29T14:35:58.695Z"
   },
   {
    "duration": 4,
    "start_time": "2022-07-29T14:35:58.760Z"
   },
   {
    "duration": 5,
    "start_time": "2022-07-29T14:35:58.765Z"
   },
   {
    "duration": 4975,
    "start_time": "2022-07-29T14:35:58.771Z"
   },
   {
    "duration": 1157,
    "start_time": "2022-07-29T14:36:03.748Z"
   },
   {
    "duration": 3,
    "start_time": "2022-07-29T14:36:04.906Z"
   },
   {
    "duration": 9,
    "start_time": "2022-07-29T14:36:04.911Z"
   },
   {
    "duration": 83042,
    "start_time": "2022-07-29T15:37:59.704Z"
   },
   {
    "duration": 672,
    "start_time": "2022-07-29T15:39:22.748Z"
   },
   {
    "duration": 4,
    "start_time": "2022-07-29T15:39:23.421Z"
   },
   {
    "duration": 5,
    "start_time": "2022-07-29T15:39:23.432Z"
   },
   {
    "duration": 12,
    "start_time": "2022-07-29T15:39:23.438Z"
   },
   {
    "duration": 5,
    "start_time": "2022-07-29T15:39:23.451Z"
   },
   {
    "duration": 4,
    "start_time": "2022-07-29T15:39:23.457Z"
   },
   {
    "duration": 4,
    "start_time": "2022-07-29T15:39:23.463Z"
   },
   {
    "duration": 1822,
    "start_time": "2022-07-29T15:39:23.468Z"
   },
   {
    "duration": 69427,
    "start_time": "2022-07-29T15:39:25.292Z"
   },
   {
    "duration": 112,
    "start_time": "2022-07-29T15:40:34.720Z"
   },
   {
    "duration": 6,
    "start_time": "2022-07-29T15:40:34.834Z"
   },
   {
    "duration": 1055964,
    "start_time": "2022-07-29T15:40:34.843Z"
   },
   {
    "duration": 74915,
    "start_time": "2022-07-29T15:58:10.808Z"
   },
   {
    "duration": 3,
    "start_time": "2022-07-29T15:59:25.725Z"
   },
   {
    "duration": 61,
    "start_time": "2022-07-29T15:59:25.729Z"
   },
   {
    "duration": 3,
    "start_time": "2022-07-29T15:59:25.792Z"
   },
   {
    "duration": 5,
    "start_time": "2022-07-29T15:59:25.797Z"
   },
   {
    "duration": 4916,
    "start_time": "2022-07-29T15:59:25.804Z"
   },
   {
    "duration": 1105,
    "start_time": "2022-07-29T15:59:30.722Z"
   },
   {
    "duration": 4,
    "start_time": "2022-07-29T15:59:31.832Z"
   },
   {
    "duration": 10,
    "start_time": "2022-07-29T15:59:31.837Z"
   },
   {
    "duration": 153676,
    "start_time": "2022-07-29T16:34:58.497Z"
   },
   {
    "duration": 3077,
    "start_time": "2022-07-29T16:37:32.175Z"
   },
   {
    "duration": 5,
    "start_time": "2022-07-29T16:37:35.255Z"
   },
   {
    "duration": 15,
    "start_time": "2022-07-29T16:37:35.265Z"
   },
   {
    "duration": 26,
    "start_time": "2022-07-29T16:37:35.281Z"
   },
   {
    "duration": 13,
    "start_time": "2022-07-29T16:37:35.309Z"
   },
   {
    "duration": 10,
    "start_time": "2022-07-29T16:37:35.325Z"
   },
   {
    "duration": 6,
    "start_time": "2022-07-29T16:37:35.337Z"
   },
   {
    "duration": 2240,
    "start_time": "2022-07-29T16:37:35.345Z"
   },
   {
    "duration": 86262,
    "start_time": "2022-07-29T16:37:37.587Z"
   },
   {
    "duration": 433,
    "start_time": "2022-07-29T16:39:03.850Z"
   },
   {
    "duration": 6,
    "start_time": "2022-07-29T16:39:04.285Z"
   },
   {
    "duration": 1966820,
    "start_time": "2022-07-29T16:39:04.292Z"
   },
   {
    "duration": 153568,
    "start_time": "2022-07-29T17:11:51.116Z"
   },
   {
    "duration": 4,
    "start_time": "2022-07-29T17:14:24.686Z"
   },
   {
    "duration": 70,
    "start_time": "2022-07-29T17:14:24.691Z"
   },
   {
    "duration": 3,
    "start_time": "2022-07-29T17:14:24.763Z"
   },
   {
    "duration": 7,
    "start_time": "2022-07-29T17:14:24.768Z"
   },
   {
    "duration": 5570,
    "start_time": "2022-07-29T17:14:24.776Z"
   },
   {
    "duration": 1424,
    "start_time": "2022-07-29T17:14:30.348Z"
   },
   {
    "duration": 4,
    "start_time": "2022-07-29T17:14:31.774Z"
   },
   {
    "duration": 16,
    "start_time": "2022-07-29T17:14:31.780Z"
   }
  ],
  "kernelspec": {
   "display_name": "Python 3 (ipykernel)",
   "language": "python",
   "name": "python3"
  },
  "language_info": {
   "codemirror_mode": {
    "name": "ipython",
    "version": 3
   },
   "file_extension": ".py",
   "mimetype": "text/x-python",
   "name": "python",
   "nbconvert_exporter": "python",
   "pygments_lexer": "ipython3",
   "version": "3.9.5"
  },
  "toc": {
   "base_numbering": 1,
   "nav_menu": {},
   "number_sections": true,
   "sideBar": true,
   "skip_h1_title": true,
   "title_cell": "Содержание",
   "title_sidebar": "Contents",
   "toc_cell": true,
   "toc_position": {
    "height": "calc(100% - 180px)",
    "left": "10px",
    "top": "150px",
    "width": "302.391px"
   },
   "toc_section_display": true,
   "toc_window_display": false
  }
 },
 "nbformat": 4,
 "nbformat_minor": 2
}
