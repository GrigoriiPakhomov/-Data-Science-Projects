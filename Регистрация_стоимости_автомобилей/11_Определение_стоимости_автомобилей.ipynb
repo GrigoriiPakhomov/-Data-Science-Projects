{
 "cells": [
  {
   "cell_type": "markdown",
   "metadata": {},
   "source": [
    "# Определение стоимости автомобилей"
   ]
  },
  {
   "cell_type": "markdown",
   "metadata": {},
   "source": [
    "Сервис по продаже автомобилей с пробегом «Не бит, не крашен» разрабатывает приложение для привлечения новых клиентов. В нём можно быстро узнать рыночную стоимость своего автомобиля. В вашем распоряжении исторические данные: технические характеристики, комплектации и цены автомобилей. Вам нужно построить модель для определения стоимости. \n",
    "\n",
    "Заказчику важны:\n",
    "\n",
    "- качество предсказания;\n",
    "- скорость предсказания;\n",
    "- время обучения."
   ]
  },
  {
   "cell_type": "markdown",
   "metadata": {},
   "source": [
    "## Подготовка данных"
   ]
  },
  {
   "cell_type": "markdown",
   "metadata": {},
   "source": [
    "1.1 Изучение данных"
   ]
  },
  {
   "cell_type": "markdown",
   "metadata": {},
   "source": [
    "Подключаем библиотеки:"
   ]
  },
  {
   "cell_type": "code",
   "execution_count": 1,
   "metadata": {},
   "outputs": [],
   "source": [
    "import pandas as pd\n",
    "import numpy as np\n",
    "import re\n",
    "from scipy import stats as st\n",
    "import matplotlib.pyplot as plt\n",
    "import seaborn as sns\n",
    "from IPython.display import display\n",
    "from numpy.random import RandomState\n",
    "from scipy import stats\n",
    "\n",
    "from sklearn.inspection import permutation_importance\n",
    "from sklearn.preprocessing import StandardScaler\n",
    "from sklearn.model_selection import train_test_split, cross_val_score, GridSearchCV\n",
    "from sklearn.linear_model import LinearRegression, ElasticNet, Ridge, Lasso\n",
    "from sklearn.ensemble import GradientBoostingRegressor, RandomForestRegressor\n",
    "from sklearn.metrics import mean_squared_error, make_scorer\n",
    "import lightgbm\n",
    "import catboost\n",
    "%matplotlib inline\n",
    "import warnings\n",
    "warnings.filterwarnings(\"ignore\")\n",
    "from catboost import CatBoostRegressor"
   ]
  },
  {
   "cell_type": "markdown",
   "metadata": {},
   "source": [
    "Загрузим данные из файлов, выведем первые 10 строк таблиц для первого взгляда на данные.\n",
    "Также с помощью метода info() изучим структуры таблиц: типы данных, количество строк, столбцов, пропущенных данных."
   ]
  },
  {
   "cell_type": "code",
   "execution_count": 2,
   "metadata": {},
   "outputs": [
    {
     "data": {
      "text/html": [
       "<div>\n",
       "<style scoped>\n",
       "    .dataframe tbody tr th:only-of-type {\n",
       "        vertical-align: middle;\n",
       "    }\n",
       "\n",
       "    .dataframe tbody tr th {\n",
       "        vertical-align: top;\n",
       "    }\n",
       "\n",
       "    .dataframe thead th {\n",
       "        text-align: right;\n",
       "    }\n",
       "</style>\n",
       "<table border=\"1\" class=\"dataframe\">\n",
       "  <thead>\n",
       "    <tr style=\"text-align: right;\">\n",
       "      <th></th>\n",
       "      <th>DateCrawled</th>\n",
       "      <th>Price</th>\n",
       "      <th>VehicleType</th>\n",
       "      <th>RegistrationYear</th>\n",
       "      <th>Gearbox</th>\n",
       "      <th>Power</th>\n",
       "      <th>Model</th>\n",
       "      <th>Kilometer</th>\n",
       "      <th>RegistrationMonth</th>\n",
       "      <th>FuelType</th>\n",
       "      <th>Brand</th>\n",
       "      <th>NotRepaired</th>\n",
       "      <th>DateCreated</th>\n",
       "      <th>NumberOfPictures</th>\n",
       "      <th>PostalCode</th>\n",
       "      <th>LastSeen</th>\n",
       "    </tr>\n",
       "  </thead>\n",
       "  <tbody>\n",
       "    <tr>\n",
       "      <th>0</th>\n",
       "      <td>2016-03-24 11:52:17</td>\n",
       "      <td>480</td>\n",
       "      <td>NaN</td>\n",
       "      <td>1993</td>\n",
       "      <td>manual</td>\n",
       "      <td>0</td>\n",
       "      <td>golf</td>\n",
       "      <td>150000</td>\n",
       "      <td>0</td>\n",
       "      <td>petrol</td>\n",
       "      <td>volkswagen</td>\n",
       "      <td>NaN</td>\n",
       "      <td>2016-03-24 00:00:00</td>\n",
       "      <td>0</td>\n",
       "      <td>70435</td>\n",
       "      <td>2016-04-07 03:16:57</td>\n",
       "    </tr>\n",
       "    <tr>\n",
       "      <th>1</th>\n",
       "      <td>2016-03-24 10:58:45</td>\n",
       "      <td>18300</td>\n",
       "      <td>coupe</td>\n",
       "      <td>2011</td>\n",
       "      <td>manual</td>\n",
       "      <td>190</td>\n",
       "      <td>NaN</td>\n",
       "      <td>125000</td>\n",
       "      <td>5</td>\n",
       "      <td>gasoline</td>\n",
       "      <td>audi</td>\n",
       "      <td>yes</td>\n",
       "      <td>2016-03-24 00:00:00</td>\n",
       "      <td>0</td>\n",
       "      <td>66954</td>\n",
       "      <td>2016-04-07 01:46:50</td>\n",
       "    </tr>\n",
       "    <tr>\n",
       "      <th>2</th>\n",
       "      <td>2016-03-14 12:52:21</td>\n",
       "      <td>9800</td>\n",
       "      <td>suv</td>\n",
       "      <td>2004</td>\n",
       "      <td>auto</td>\n",
       "      <td>163</td>\n",
       "      <td>grand</td>\n",
       "      <td>125000</td>\n",
       "      <td>8</td>\n",
       "      <td>gasoline</td>\n",
       "      <td>jeep</td>\n",
       "      <td>NaN</td>\n",
       "      <td>2016-03-14 00:00:00</td>\n",
       "      <td>0</td>\n",
       "      <td>90480</td>\n",
       "      <td>2016-04-05 12:47:46</td>\n",
       "    </tr>\n",
       "    <tr>\n",
       "      <th>3</th>\n",
       "      <td>2016-03-17 16:54:04</td>\n",
       "      <td>1500</td>\n",
       "      <td>small</td>\n",
       "      <td>2001</td>\n",
       "      <td>manual</td>\n",
       "      <td>75</td>\n",
       "      <td>golf</td>\n",
       "      <td>150000</td>\n",
       "      <td>6</td>\n",
       "      <td>petrol</td>\n",
       "      <td>volkswagen</td>\n",
       "      <td>no</td>\n",
       "      <td>2016-03-17 00:00:00</td>\n",
       "      <td>0</td>\n",
       "      <td>91074</td>\n",
       "      <td>2016-03-17 17:40:17</td>\n",
       "    </tr>\n",
       "    <tr>\n",
       "      <th>4</th>\n",
       "      <td>2016-03-31 17:25:20</td>\n",
       "      <td>3600</td>\n",
       "      <td>small</td>\n",
       "      <td>2008</td>\n",
       "      <td>manual</td>\n",
       "      <td>69</td>\n",
       "      <td>fabia</td>\n",
       "      <td>90000</td>\n",
       "      <td>7</td>\n",
       "      <td>gasoline</td>\n",
       "      <td>skoda</td>\n",
       "      <td>no</td>\n",
       "      <td>2016-03-31 00:00:00</td>\n",
       "      <td>0</td>\n",
       "      <td>60437</td>\n",
       "      <td>2016-04-06 10:17:21</td>\n",
       "    </tr>\n",
       "    <tr>\n",
       "      <th>5</th>\n",
       "      <td>2016-04-04 17:36:23</td>\n",
       "      <td>650</td>\n",
       "      <td>sedan</td>\n",
       "      <td>1995</td>\n",
       "      <td>manual</td>\n",
       "      <td>102</td>\n",
       "      <td>3er</td>\n",
       "      <td>150000</td>\n",
       "      <td>10</td>\n",
       "      <td>petrol</td>\n",
       "      <td>bmw</td>\n",
       "      <td>yes</td>\n",
       "      <td>2016-04-04 00:00:00</td>\n",
       "      <td>0</td>\n",
       "      <td>33775</td>\n",
       "      <td>2016-04-06 19:17:07</td>\n",
       "    </tr>\n",
       "    <tr>\n",
       "      <th>6</th>\n",
       "      <td>2016-04-01 20:48:51</td>\n",
       "      <td>2200</td>\n",
       "      <td>convertible</td>\n",
       "      <td>2004</td>\n",
       "      <td>manual</td>\n",
       "      <td>109</td>\n",
       "      <td>2_reihe</td>\n",
       "      <td>150000</td>\n",
       "      <td>8</td>\n",
       "      <td>petrol</td>\n",
       "      <td>peugeot</td>\n",
       "      <td>no</td>\n",
       "      <td>2016-04-01 00:00:00</td>\n",
       "      <td>0</td>\n",
       "      <td>67112</td>\n",
       "      <td>2016-04-05 18:18:39</td>\n",
       "    </tr>\n",
       "    <tr>\n",
       "      <th>7</th>\n",
       "      <td>2016-03-21 18:54:38</td>\n",
       "      <td>0</td>\n",
       "      <td>sedan</td>\n",
       "      <td>1980</td>\n",
       "      <td>manual</td>\n",
       "      <td>50</td>\n",
       "      <td>other</td>\n",
       "      <td>40000</td>\n",
       "      <td>7</td>\n",
       "      <td>petrol</td>\n",
       "      <td>volkswagen</td>\n",
       "      <td>no</td>\n",
       "      <td>2016-03-21 00:00:00</td>\n",
       "      <td>0</td>\n",
       "      <td>19348</td>\n",
       "      <td>2016-03-25 16:47:58</td>\n",
       "    </tr>\n",
       "    <tr>\n",
       "      <th>8</th>\n",
       "      <td>2016-04-04 23:42:13</td>\n",
       "      <td>14500</td>\n",
       "      <td>bus</td>\n",
       "      <td>2014</td>\n",
       "      <td>manual</td>\n",
       "      <td>125</td>\n",
       "      <td>c_max</td>\n",
       "      <td>30000</td>\n",
       "      <td>8</td>\n",
       "      <td>petrol</td>\n",
       "      <td>ford</td>\n",
       "      <td>NaN</td>\n",
       "      <td>2016-04-04 00:00:00</td>\n",
       "      <td>0</td>\n",
       "      <td>94505</td>\n",
       "      <td>2016-04-04 23:42:13</td>\n",
       "    </tr>\n",
       "    <tr>\n",
       "      <th>9</th>\n",
       "      <td>2016-03-17 10:53:50</td>\n",
       "      <td>999</td>\n",
       "      <td>small</td>\n",
       "      <td>1998</td>\n",
       "      <td>manual</td>\n",
       "      <td>101</td>\n",
       "      <td>golf</td>\n",
       "      <td>150000</td>\n",
       "      <td>0</td>\n",
       "      <td>NaN</td>\n",
       "      <td>volkswagen</td>\n",
       "      <td>NaN</td>\n",
       "      <td>2016-03-17 00:00:00</td>\n",
       "      <td>0</td>\n",
       "      <td>27472</td>\n",
       "      <td>2016-03-31 17:17:06</td>\n",
       "    </tr>\n",
       "  </tbody>\n",
       "</table>\n",
       "</div>"
      ],
      "text/plain": [
       "           DateCrawled  Price  VehicleType  RegistrationYear Gearbox  Power  \\\n",
       "0  2016-03-24 11:52:17    480          NaN              1993  manual      0   \n",
       "1  2016-03-24 10:58:45  18300        coupe              2011  manual    190   \n",
       "2  2016-03-14 12:52:21   9800          suv              2004    auto    163   \n",
       "3  2016-03-17 16:54:04   1500        small              2001  manual     75   \n",
       "4  2016-03-31 17:25:20   3600        small              2008  manual     69   \n",
       "5  2016-04-04 17:36:23    650        sedan              1995  manual    102   \n",
       "6  2016-04-01 20:48:51   2200  convertible              2004  manual    109   \n",
       "7  2016-03-21 18:54:38      0        sedan              1980  manual     50   \n",
       "8  2016-04-04 23:42:13  14500          bus              2014  manual    125   \n",
       "9  2016-03-17 10:53:50    999        small              1998  manual    101   \n",
       "\n",
       "     Model  Kilometer  RegistrationMonth  FuelType       Brand NotRepaired  \\\n",
       "0     golf     150000                  0    petrol  volkswagen         NaN   \n",
       "1      NaN     125000                  5  gasoline        audi         yes   \n",
       "2    grand     125000                  8  gasoline        jeep         NaN   \n",
       "3     golf     150000                  6    petrol  volkswagen          no   \n",
       "4    fabia      90000                  7  gasoline       skoda          no   \n",
       "5      3er     150000                 10    petrol         bmw         yes   \n",
       "6  2_reihe     150000                  8    petrol     peugeot          no   \n",
       "7    other      40000                  7    petrol  volkswagen          no   \n",
       "8    c_max      30000                  8    petrol        ford         NaN   \n",
       "9     golf     150000                  0       NaN  volkswagen         NaN   \n",
       "\n",
       "           DateCreated  NumberOfPictures  PostalCode             LastSeen  \n",
       "0  2016-03-24 00:00:00                 0       70435  2016-04-07 03:16:57  \n",
       "1  2016-03-24 00:00:00                 0       66954  2016-04-07 01:46:50  \n",
       "2  2016-03-14 00:00:00                 0       90480  2016-04-05 12:47:46  \n",
       "3  2016-03-17 00:00:00                 0       91074  2016-03-17 17:40:17  \n",
       "4  2016-03-31 00:00:00                 0       60437  2016-04-06 10:17:21  \n",
       "5  2016-04-04 00:00:00                 0       33775  2016-04-06 19:17:07  \n",
       "6  2016-04-01 00:00:00                 0       67112  2016-04-05 18:18:39  \n",
       "7  2016-03-21 00:00:00                 0       19348  2016-03-25 16:47:58  \n",
       "8  2016-04-04 00:00:00                 0       94505  2016-04-04 23:42:13  \n",
       "9  2016-03-17 00:00:00                 0       27472  2016-03-31 17:17:06  "
      ]
     },
     "metadata": {},
     "output_type": "display_data"
    },
    {
     "name": "stdout",
     "output_type": "stream",
     "text": [
      "<class 'pandas.core.frame.DataFrame'>\n",
      "RangeIndex: 354369 entries, 0 to 354368\n",
      "Data columns (total 16 columns):\n",
      " #   Column             Non-Null Count   Dtype \n",
      "---  ------             --------------   ----- \n",
      " 0   DateCrawled        354369 non-null  object\n",
      " 1   Price              354369 non-null  int64 \n",
      " 2   VehicleType        316879 non-null  object\n",
      " 3   RegistrationYear   354369 non-null  int64 \n",
      " 4   Gearbox            334536 non-null  object\n",
      " 5   Power              354369 non-null  int64 \n",
      " 6   Model              334664 non-null  object\n",
      " 7   Kilometer          354369 non-null  int64 \n",
      " 8   RegistrationMonth  354369 non-null  int64 \n",
      " 9   FuelType           321474 non-null  object\n",
      " 10  Brand              354369 non-null  object\n",
      " 11  NotRepaired        283215 non-null  object\n",
      " 12  DateCreated        354369 non-null  object\n",
      " 13  NumberOfPictures   354369 non-null  int64 \n",
      " 14  PostalCode         354369 non-null  int64 \n",
      " 15  LastSeen           354369 non-null  object\n",
      "dtypes: int64(7), object(9)\n",
      "memory usage: 43.3+ MB\n",
      "None\n",
      "Количество дубликатов: 4\n"
     ]
    }
   ],
   "source": [
    "file_path = \"/datasets/autos.csv\"\n",
    "data = pd.read_csv(file_path)\n",
    "display(data.head(10))\n",
    "print(data.info())\n",
    "print('Количество дубликатов:', sum(data.duplicated()))"
   ]
  },
  {
   "cell_type": "code",
   "execution_count": 3,
   "metadata": {},
   "outputs": [
    {
     "data": {
      "text/html": [
       "<div>\n",
       "<style scoped>\n",
       "    .dataframe tbody tr th:only-of-type {\n",
       "        vertical-align: middle;\n",
       "    }\n",
       "\n",
       "    .dataframe tbody tr th {\n",
       "        vertical-align: top;\n",
       "    }\n",
       "\n",
       "    .dataframe thead th {\n",
       "        text-align: right;\n",
       "    }\n",
       "</style>\n",
       "<table border=\"1\" class=\"dataframe\">\n",
       "  <thead>\n",
       "    <tr style=\"text-align: right;\">\n",
       "      <th></th>\n",
       "      <th>Price</th>\n",
       "      <th>RegistrationYear</th>\n",
       "      <th>Power</th>\n",
       "      <th>Kilometer</th>\n",
       "      <th>RegistrationMonth</th>\n",
       "      <th>NumberOfPictures</th>\n",
       "      <th>PostalCode</th>\n",
       "    </tr>\n",
       "  </thead>\n",
       "  <tbody>\n",
       "    <tr>\n",
       "      <th>count</th>\n",
       "      <td>354369.000000</td>\n",
       "      <td>354369.000000</td>\n",
       "      <td>354369.000000</td>\n",
       "      <td>354369.000000</td>\n",
       "      <td>354369.000000</td>\n",
       "      <td>354369.0</td>\n",
       "      <td>354369.000000</td>\n",
       "    </tr>\n",
       "    <tr>\n",
       "      <th>mean</th>\n",
       "      <td>4416.656776</td>\n",
       "      <td>2004.234448</td>\n",
       "      <td>110.094337</td>\n",
       "      <td>128211.172535</td>\n",
       "      <td>5.714645</td>\n",
       "      <td>0.0</td>\n",
       "      <td>50508.689087</td>\n",
       "    </tr>\n",
       "    <tr>\n",
       "      <th>std</th>\n",
       "      <td>4514.158514</td>\n",
       "      <td>90.227958</td>\n",
       "      <td>189.850405</td>\n",
       "      <td>37905.341530</td>\n",
       "      <td>3.726421</td>\n",
       "      <td>0.0</td>\n",
       "      <td>25783.096248</td>\n",
       "    </tr>\n",
       "    <tr>\n",
       "      <th>min</th>\n",
       "      <td>0.000000</td>\n",
       "      <td>1000.000000</td>\n",
       "      <td>0.000000</td>\n",
       "      <td>5000.000000</td>\n",
       "      <td>0.000000</td>\n",
       "      <td>0.0</td>\n",
       "      <td>1067.000000</td>\n",
       "    </tr>\n",
       "    <tr>\n",
       "      <th>25%</th>\n",
       "      <td>1050.000000</td>\n",
       "      <td>1999.000000</td>\n",
       "      <td>69.000000</td>\n",
       "      <td>125000.000000</td>\n",
       "      <td>3.000000</td>\n",
       "      <td>0.0</td>\n",
       "      <td>30165.000000</td>\n",
       "    </tr>\n",
       "    <tr>\n",
       "      <th>50%</th>\n",
       "      <td>2700.000000</td>\n",
       "      <td>2003.000000</td>\n",
       "      <td>105.000000</td>\n",
       "      <td>150000.000000</td>\n",
       "      <td>6.000000</td>\n",
       "      <td>0.0</td>\n",
       "      <td>49413.000000</td>\n",
       "    </tr>\n",
       "    <tr>\n",
       "      <th>75%</th>\n",
       "      <td>6400.000000</td>\n",
       "      <td>2008.000000</td>\n",
       "      <td>143.000000</td>\n",
       "      <td>150000.000000</td>\n",
       "      <td>9.000000</td>\n",
       "      <td>0.0</td>\n",
       "      <td>71083.000000</td>\n",
       "    </tr>\n",
       "    <tr>\n",
       "      <th>max</th>\n",
       "      <td>20000.000000</td>\n",
       "      <td>9999.000000</td>\n",
       "      <td>20000.000000</td>\n",
       "      <td>150000.000000</td>\n",
       "      <td>12.000000</td>\n",
       "      <td>0.0</td>\n",
       "      <td>99998.000000</td>\n",
       "    </tr>\n",
       "  </tbody>\n",
       "</table>\n",
       "</div>"
      ],
      "text/plain": [
       "               Price  RegistrationYear          Power      Kilometer  \\\n",
       "count  354369.000000     354369.000000  354369.000000  354369.000000   \n",
       "mean     4416.656776       2004.234448     110.094337  128211.172535   \n",
       "std      4514.158514         90.227958     189.850405   37905.341530   \n",
       "min         0.000000       1000.000000       0.000000    5000.000000   \n",
       "25%      1050.000000       1999.000000      69.000000  125000.000000   \n",
       "50%      2700.000000       2003.000000     105.000000  150000.000000   \n",
       "75%      6400.000000       2008.000000     143.000000  150000.000000   \n",
       "max     20000.000000       9999.000000   20000.000000  150000.000000   \n",
       "\n",
       "       RegistrationMonth  NumberOfPictures     PostalCode  \n",
       "count      354369.000000          354369.0  354369.000000  \n",
       "mean            5.714645               0.0   50508.689087  \n",
       "std             3.726421               0.0   25783.096248  \n",
       "min             0.000000               0.0    1067.000000  \n",
       "25%             3.000000               0.0   30165.000000  \n",
       "50%             6.000000               0.0   49413.000000  \n",
       "75%             9.000000               0.0   71083.000000  \n",
       "max            12.000000               0.0   99998.000000  "
      ]
     },
     "execution_count": 3,
     "metadata": {},
     "output_type": "execute_result"
    }
   ],
   "source": [
    "data.describe()"
   ]
  },
  {
   "cell_type": "markdown",
   "metadata": {},
   "source": [
    "Признаки NumberOfPictures, PostalCode не несут полезной информации, удалим их.\n",
    "Также DateCrawled повторяет дату в признаке DateCreated.\n",
    "Признак Brand скорее всего будет лишним при наличии конкретной модели автомобиля в признаке Model.\n",
    "RegistrationMonth распределён равномерно и по смыслу вряд ли влияет на цену автомобиля.\n",
    "Избавимся от дублированний и неинформативных признаков."
   ]
  },
  {
   "cell_type": "code",
   "execution_count": 4,
   "metadata": {},
   "outputs": [],
   "source": [
    "data = data.drop(['NumberOfPictures', 'PostalCode', 'DateCrawled', 'RegistrationMonth'], axis=1)"
   ]
  },
  {
   "cell_type": "code",
   "execution_count": 5,
   "metadata": {},
   "outputs": [],
   "source": [
    "numerical_features = ['DateCreated', 'Price', 'RegistrationYear', 'Power', 'Kilometer', 'LastSeen']\n",
    "categorical_features = ['VehicleType', 'Gearbox', 'Model', 'FuelType', 'NotRepaired', 'Brand']"
   ]
  },
  {
   "cell_type": "markdown",
   "metadata": {},
   "source": [
    "Построим распределения данных в числовых признаках и на их зависимости от целевого признака price"
   ]
  },
  {
   "cell_type": "code",
   "execution_count": 6,
   "metadata": {},
   "outputs": [
    {
     "data": {
      "text/plain": [
       "<seaborn.axisgrid.PairGrid at 0x7fa15c1df640>"
      ]
     },
     "execution_count": 6,
     "metadata": {},
     "output_type": "execute_result"
    },
    {
     "data": {
      "image/png": "[encoded data removed]",
      "text/plain": [
       "<Figure size 720x720 with 20 Axes>"
      ]
     },
     "metadata": {
      "needs_background": "light"
     },
     "output_type": "display_data"
    }
   ],
   "source": [
    "sns.pairplot(data)"
   ]
  },
  {
   "cell_type": "markdown",
   "metadata": {},
   "source": [
    "1.2 Предобработка данных"
   ]
  },
  {
   "cell_type": "markdown",
   "metadata": {},
   "source": [
    "Отберём признаки, необходимые для построения модели\n",
    "Обработаем пропуски и выбросы"
   ]
  },
  {
   "cell_type": "code",
   "execution_count": 7,
   "metadata": {},
   "outputs": [],
   "source": [
    "# для начала удалим дубликаты\n",
    "data = data.drop_duplicates()"
   ]
  },
  {
   "cell_type": "markdown",
   "metadata": {},
   "source": [
    "Признак Price"
   ]
  },
  {
   "cell_type": "code",
   "execution_count": 8,
   "metadata": {},
   "outputs": [
    {
     "data": {
      "text/plain": [
       "'Количество объявлений с нулевой ценой: 10771'"
      ]
     },
     "execution_count": 8,
     "metadata": {},
     "output_type": "execute_result"
    }
   ],
   "source": [
    "f\"Количество объявлений с нулевой ценой: {len(data.loc[data['Price'] == 0])}\""
   ]
  },
  {
   "cell_type": "markdown",
   "metadata": {},
   "source": [
    "Данные о нулевой цене явно ошибочны (или продавцы не указывали цену в объявлении). На данный момент нет возможности восстановить целевой признак в этих объектах. Удалим их, чтобы не портить модель."
   ]
  },
  {
   "cell_type": "code",
   "execution_count": 9,
   "metadata": {},
   "outputs": [],
   "source": [
    "data = data.loc[data['Price'] != 0]"
   ]
  },
  {
   "cell_type": "code",
   "execution_count": 10,
   "metadata": {},
   "outputs": [
    {
     "data": {
      "text/plain": [
       "<AxesSubplot:xlabel='Price', ylabel='Count'>"
      ]
     },
     "execution_count": 10,
     "metadata": {},
     "output_type": "execute_result"
    },
    {
     "data": {
      "image/png": "[encoded data removed]",
      "text/plain": [
       "<Figure size 432x288 with 1 Axes>"
      ]
     },
     "metadata": {
      "needs_background": "light"
     },
     "output_type": "display_data"
    }
   ],
   "source": [
    "sns.histplot(data['Price'], bins=20)"
   ]
  },
  {
   "cell_type": "markdown",
   "metadata": {},
   "source": [
    "Признак Model"
   ]
  },
  {
   "cell_type": "code",
   "execution_count": 11,
   "metadata": {},
   "outputs": [
    {
     "data": {
      "text/plain": [
       "'Количество объявлений с незаполненной моделью: 17520'"
      ]
     },
     "execution_count": 11,
     "metadata": {},
     "output_type": "execute_result"
    }
   ],
   "source": [
    "f\"Количество объявлений с незаполненной моделью: {len(data.loc[data['Model'].isna()])}\""
   ]
  },
  {
   "cell_type": "markdown",
   "metadata": {},
   "source": [
    "Признак Model является одним из основных для предсказания цены. Пропущено 5% данных в этом признаке. Нет возможности восстановить корректно эти данные, удалим пропуски."
   ]
  },
  {
   "cell_type": "code",
   "execution_count": 12,
   "metadata": {},
   "outputs": [],
   "source": [
    "data = data.loc[~data['Model'].isna()]"
   ]
  },
  {
   "cell_type": "markdown",
   "metadata": {},
   "source": [
    "Признак Power"
   ]
  },
  {
   "cell_type": "code",
   "execution_count": 13,
   "metadata": {},
   "outputs": [
    {
     "data": {
      "text/plain": [
       "'Количество автомобилей с мощностью > 1000 л.с.: 31583'"
      ]
     },
     "execution_count": 13,
     "metadata": {},
     "output_type": "execute_result"
    }
   ],
   "source": [
    "f\"Количество автомобилей с мощностью > 1000 л.с.: {len(data.loc[(data['Power'] > 1000) | (data['Power'] <= 0)])}\""
   ]
  },
  {
   "cell_type": "markdown",
   "metadata": {},
   "source": [
    "Мощность > 1000 л.с. неправдоподобна. Заполним все непавдоподобные значения медианными среди автомобилей той же модели."
   ]
  },
  {
   "cell_type": "code",
   "execution_count": 14,
   "metadata": {},
   "outputs": [],
   "source": [
    "data.loc[(data['Power'] > 1000) | (data['Power'] <= 0), 'Power'] = None\n",
    "data['Power'] = data['Power'].fillna(data.groupby('Model')['Power'].transform('median'))\n",
    "data = data.loc[~data['Power'].isna()]\n",
    "data['Power'] = data['Power'].astype('int64')"
   ]
  },
  {
   "cell_type": "code",
   "execution_count": 15,
   "metadata": {},
   "outputs": [
    {
     "data": {
      "text/plain": [
       "<AxesSubplot:xlabel='Power', ylabel='Count'>"
      ]
     },
     "execution_count": 15,
     "metadata": {},
     "output_type": "execute_result"
    },
    {
     "data": {
      "image/png": "[encoded data removed]",
      "text/plain": [
       "<Figure size 432x288 with 1 Axes>"
      ]
     },
     "metadata": {
      "needs_background": "light"
     },
     "output_type": "display_data"
    }
   ],
   "source": [
    "sns.histplot(data['Power'], bins=20)"
   ]
  },
  {
   "cell_type": "code",
   "execution_count": 16,
   "metadata": {},
   "outputs": [
    {
     "data": {
      "text/plain": [
       "<AxesSubplot:xlabel='Power', ylabel='Price'>"
      ]
     },
     "execution_count": 16,
     "metadata": {},
     "output_type": "execute_result"
    },
    {
     "data": {
      "image/png": "[encoded data removed]",
      "text/plain": [
       "<Figure size 432x288 with 1 Axes>"
      ]
     },
     "metadata": {
      "needs_background": "light"
     },
     "output_type": "display_data"
    }
   ],
   "source": [
    "sns.scatterplot(x='Power', y='Price', data=data, alpha = 0.1)"
   ]
  },
  {
   "cell_type": "markdown",
   "metadata": {},
   "source": [
    "Признаки DateCreated и LastSeen"
   ]
  },
  {
   "cell_type": "code",
   "execution_count": 17,
   "metadata": {},
   "outputs": [
    {
     "data": {
      "text/plain": [
       "'Минимальная дата рагистрации объявления: 2014-03-10 00:00:00'"
      ]
     },
     "execution_count": 17,
     "metadata": {},
     "output_type": "execute_result"
    }
   ],
   "source": [
    "f\"Минимальная дата рагистрации объявления: {min(data['DateCreated'])}\""
   ]
  },
  {
   "cell_type": "markdown",
   "metadata": {},
   "source": [
    "Признаки DateCreated и LastSeen преобразуем в количество дней с момента 2014-03-01."
   ]
  },
  {
   "cell_type": "code",
   "execution_count": 18,
   "metadata": {},
   "outputs": [],
   "source": [
    "base_date = pd.Timestamp('2014-03-01 00:00:00')\n",
    "data['DateCreated'] = data['DateCreated'].map(lambda date : (pd.Timestamp(date) - base_date).days)"
   ]
  },
  {
   "cell_type": "code",
   "execution_count": 19,
   "metadata": {},
   "outputs": [],
   "source": [
    "data['LastSeen'] = data['LastSeen'].map(lambda date : (pd.Timestamp(date) - base_date).days)"
   ]
  },
  {
   "cell_type": "markdown",
   "metadata": {},
   "source": [
    "Признак RegistrationYear"
   ]
  },
  {
   "cell_type": "code",
   "execution_count": 20,
   "metadata": {},
   "outputs": [
    {
     "data": {
      "text/plain": [
       "'Количество объявлений с неправильным годом регистрации: 58'"
      ]
     },
     "execution_count": 20,
     "metadata": {},
     "output_type": "execute_result"
    }
   ],
   "source": [
    "f\"Количество объявлений с неправильным годом регистрации: {len(data.loc[data['RegistrationYear'] > 2020])}\""
   ]
  },
  {
   "cell_type": "code",
   "execution_count": 21,
   "metadata": {},
   "outputs": [
    {
     "data": {
      "text/html": [
       "<div>\n",
       "<style scoped>\n",
       "    .dataframe tbody tr th:only-of-type {\n",
       "        vertical-align: middle;\n",
       "    }\n",
       "\n",
       "    .dataframe tbody tr th {\n",
       "        vertical-align: top;\n",
       "    }\n",
       "\n",
       "    .dataframe thead th {\n",
       "        text-align: right;\n",
       "    }\n",
       "</style>\n",
       "<table border=\"1\" class=\"dataframe\">\n",
       "  <thead>\n",
       "    <tr style=\"text-align: right;\">\n",
       "      <th></th>\n",
       "      <th>Price</th>\n",
       "      <th>VehicleType</th>\n",
       "      <th>RegistrationYear</th>\n",
       "      <th>Gearbox</th>\n",
       "      <th>Power</th>\n",
       "      <th>Model</th>\n",
       "      <th>Kilometer</th>\n",
       "      <th>FuelType</th>\n",
       "      <th>Brand</th>\n",
       "      <th>NotRepaired</th>\n",
       "      <th>DateCreated</th>\n",
       "      <th>LastSeen</th>\n",
       "    </tr>\n",
       "  </thead>\n",
       "  <tbody>\n",
       "    <tr>\n",
       "      <th>12946</th>\n",
       "      <td>49</td>\n",
       "      <td>NaN</td>\n",
       "      <td>5000</td>\n",
       "      <td>NaN</td>\n",
       "      <td>101</td>\n",
       "      <td>golf</td>\n",
       "      <td>5000</td>\n",
       "      <td>NaN</td>\n",
       "      <td>volkswagen</td>\n",
       "      <td>NaN</td>\n",
       "      <td>759</td>\n",
       "      <td>767</td>\n",
       "    </tr>\n",
       "    <tr>\n",
       "      <th>17271</th>\n",
       "      <td>700</td>\n",
       "      <td>NaN</td>\n",
       "      <td>9999</td>\n",
       "      <td>NaN</td>\n",
       "      <td>116</td>\n",
       "      <td>other</td>\n",
       "      <td>10000</td>\n",
       "      <td>NaN</td>\n",
       "      <td>opel</td>\n",
       "      <td>NaN</td>\n",
       "      <td>753</td>\n",
       "      <td>766</td>\n",
       "    </tr>\n",
       "    <tr>\n",
       "      <th>18259</th>\n",
       "      <td>300</td>\n",
       "      <td>NaN</td>\n",
       "      <td>2200</td>\n",
       "      <td>NaN</td>\n",
       "      <td>58</td>\n",
       "      <td>twingo</td>\n",
       "      <td>5000</td>\n",
       "      <td>NaN</td>\n",
       "      <td>renault</td>\n",
       "      <td>NaN</td>\n",
       "      <td>746</td>\n",
       "      <td>768</td>\n",
       "    </tr>\n",
       "    <tr>\n",
       "      <th>26382</th>\n",
       "      <td>150</td>\n",
       "      <td>NaN</td>\n",
       "      <td>3000</td>\n",
       "      <td>NaN</td>\n",
       "      <td>95</td>\n",
       "      <td>a_klasse</td>\n",
       "      <td>5000</td>\n",
       "      <td>NaN</td>\n",
       "      <td>mercedes_benz</td>\n",
       "      <td>NaN</td>\n",
       "      <td>737</td>\n",
       "      <td>738</td>\n",
       "    </tr>\n",
       "    <tr>\n",
       "      <th>26560</th>\n",
       "      <td>800</td>\n",
       "      <td>NaN</td>\n",
       "      <td>2066</td>\n",
       "      <td>NaN</td>\n",
       "      <td>125</td>\n",
       "      <td>zafira</td>\n",
       "      <td>5000</td>\n",
       "      <td>gasoline</td>\n",
       "      <td>opel</td>\n",
       "      <td>NaN</td>\n",
       "      <td>754</td>\n",
       "      <td>759</td>\n",
       "    </tr>\n",
       "    <tr>\n",
       "      <th>28390</th>\n",
       "      <td>799</td>\n",
       "      <td>NaN</td>\n",
       "      <td>9999</td>\n",
       "      <td>NaN</td>\n",
       "      <td>150</td>\n",
       "      <td>3er</td>\n",
       "      <td>10000</td>\n",
       "      <td>petrol</td>\n",
       "      <td>bmw</td>\n",
       "      <td>NaN</td>\n",
       "      <td>766</td>\n",
       "      <td>768</td>\n",
       "    </tr>\n",
       "    <tr>\n",
       "      <th>28965</th>\n",
       "      <td>18000</td>\n",
       "      <td>NaN</td>\n",
       "      <td>9999</td>\n",
       "      <td>NaN</td>\n",
       "      <td>95</td>\n",
       "      <td>a_klasse</td>\n",
       "      <td>10000</td>\n",
       "      <td>petrol</td>\n",
       "      <td>mercedes_benz</td>\n",
       "      <td>NaN</td>\n",
       "      <td>765</td>\n",
       "      <td>768</td>\n",
       "    </tr>\n",
       "    <tr>\n",
       "      <th>29426</th>\n",
       "      <td>7999</td>\n",
       "      <td>NaN</td>\n",
       "      <td>9999</td>\n",
       "      <td>NaN</td>\n",
       "      <td>44</td>\n",
       "      <td>kaefer</td>\n",
       "      <td>10000</td>\n",
       "      <td>NaN</td>\n",
       "      <td>volkswagen</td>\n",
       "      <td>NaN</td>\n",
       "      <td>753</td>\n",
       "      <td>767</td>\n",
       "    </tr>\n",
       "    <tr>\n",
       "      <th>40954</th>\n",
       "      <td>59</td>\n",
       "      <td>NaN</td>\n",
       "      <td>8000</td>\n",
       "      <td>NaN</td>\n",
       "      <td>116</td>\n",
       "      <td>other</td>\n",
       "      <td>10000</td>\n",
       "      <td>NaN</td>\n",
       "      <td>chevrolet</td>\n",
       "      <td>NaN</td>\n",
       "      <td>737</td>\n",
       "      <td>768</td>\n",
       "    </tr>\n",
       "    <tr>\n",
       "      <th>45662</th>\n",
       "      <td>999</td>\n",
       "      <td>NaN</td>\n",
       "      <td>9000</td>\n",
       "      <td>NaN</td>\n",
       "      <td>69</td>\n",
       "      <td>fiesta</td>\n",
       "      <td>10000</td>\n",
       "      <td>NaN</td>\n",
       "      <td>ford</td>\n",
       "      <td>yes</td>\n",
       "      <td>753</td>\n",
       "      <td>766</td>\n",
       "    </tr>\n",
       "  </tbody>\n",
       "</table>\n",
       "</div>"
      ],
      "text/plain": [
       "       Price VehicleType  RegistrationYear Gearbox  Power     Model  \\\n",
       "12946     49         NaN              5000     NaN    101      golf   \n",
       "17271    700         NaN              9999     NaN    116     other   \n",
       "18259    300         NaN              2200     NaN     58    twingo   \n",
       "26382    150         NaN              3000     NaN     95  a_klasse   \n",
       "26560    800         NaN              2066     NaN    125    zafira   \n",
       "28390    799         NaN              9999     NaN    150       3er   \n",
       "28965  18000         NaN              9999     NaN     95  a_klasse   \n",
       "29426   7999         NaN              9999     NaN     44    kaefer   \n",
       "40954     59         NaN              8000     NaN    116     other   \n",
       "45662    999         NaN              9000     NaN     69    fiesta   \n",
       "\n",
       "       Kilometer  FuelType          Brand NotRepaired  DateCreated  LastSeen  \n",
       "12946       5000       NaN     volkswagen         NaN          759       767  \n",
       "17271      10000       NaN           opel         NaN          753       766  \n",
       "18259       5000       NaN        renault         NaN          746       768  \n",
       "26382       5000       NaN  mercedes_benz         NaN          737       738  \n",
       "26560       5000  gasoline           opel         NaN          754       759  \n",
       "28390      10000    petrol            bmw         NaN          766       768  \n",
       "28965      10000    petrol  mercedes_benz         NaN          765       768  \n",
       "29426      10000       NaN     volkswagen         NaN          753       767  \n",
       "40954      10000       NaN      chevrolet         NaN          737       768  \n",
       "45662      10000       NaN           ford         yes          753       766  "
      ]
     },
     "execution_count": 21,
     "metadata": {},
     "output_type": "execute_result"
    }
   ],
   "source": [
    "data.loc[data['RegistrationYear'] > 2020].head(10)"
   ]
  },
  {
   "cell_type": "markdown",
   "metadata": {},
   "source": [
    "Цену с неправильным годом регистрации также будет сложно предсказать, такие объявления могут внести ошибки в модель. Таких объектов мало, и данные по многим другим признакам также пропущены. Удалим эти объявления."
   ]
  },
  {
   "cell_type": "code",
   "execution_count": 22,
   "metadata": {},
   "outputs": [],
   "source": [
    "data = data.loc[data['RegistrationYear'] <= 2020]"
   ]
  },
  {
   "cell_type": "markdown",
   "metadata": {},
   "source": [
    "Признаки VehicleType, Gearbox, FuelType"
   ]
  },
  {
   "cell_type": "markdown",
   "metadata": {},
   "source": [
    "Данные параметры c большой вероятностью одинаковы в одинаковых моделях автомобилей. Заполним пропуски в данных признаках наиболее частым значением той же модели."
   ]
  },
  {
   "cell_type": "code",
   "execution_count": 23,
   "metadata": {},
   "outputs": [],
   "source": [
    "data['VehicleType'] = data['VehicleType'].fillna(data\n",
    "                                                  .groupby('Model')['VehicleType']\n",
    "                                                  .transform(lambda x: x.value_counts().idxmax())\n",
    "                                                 )"
   ]
  },
  {
   "cell_type": "code",
   "execution_count": 24,
   "metadata": {},
   "outputs": [],
   "source": [
    "data['Gearbox'] = data['Gearbox'].fillna(data\n",
    "                                         .groupby('Model')['VehicleType']\n",
    "                                         .transform(lambda x: x.value_counts().idxmax())\n",
    "                                        )"
   ]
  },
  {
   "cell_type": "code",
   "execution_count": 25,
   "metadata": {},
   "outputs": [],
   "source": [
    "data['FuelType'] = data['FuelType'].fillna(data\n",
    "                                           .groupby('Model')['VehicleType']\n",
    "                                           .transform(lambda x: x.value_counts().idxmax())\n",
    "                                          )"
   ]
  },
  {
   "cell_type": "markdown",
   "metadata": {},
   "source": [
    "Признак NotRepaired"
   ]
  },
  {
   "cell_type": "code",
   "execution_count": 26,
   "metadata": {},
   "outputs": [],
   "source": [
    "data['NotRepaired'] = data['NotRepaired'].fillna('unknown')"
   ]
  },
  {
   "cell_type": "markdown",
   "metadata": {},
   "source": [
    "Посмотрим на получившиеся данные после обработки пропусков и выбросов"
   ]
  },
  {
   "cell_type": "code",
   "execution_count": 27,
   "metadata": {},
   "outputs": [
    {
     "data": {
      "text/html": [
       "<div>\n",
       "<style scoped>\n",
       "    .dataframe tbody tr th:only-of-type {\n",
       "        vertical-align: middle;\n",
       "    }\n",
       "\n",
       "    .dataframe tbody tr th {\n",
       "        vertical-align: top;\n",
       "    }\n",
       "\n",
       "    .dataframe thead th {\n",
       "        text-align: right;\n",
       "    }\n",
       "</style>\n",
       "<table border=\"1\" class=\"dataframe\">\n",
       "  <thead>\n",
       "    <tr style=\"text-align: right;\">\n",
       "      <th></th>\n",
       "      <th>Price</th>\n",
       "      <th>VehicleType</th>\n",
       "      <th>RegistrationYear</th>\n",
       "      <th>Gearbox</th>\n",
       "      <th>Power</th>\n",
       "      <th>Model</th>\n",
       "      <th>Kilometer</th>\n",
       "      <th>FuelType</th>\n",
       "      <th>Brand</th>\n",
       "      <th>NotRepaired</th>\n",
       "      <th>DateCreated</th>\n",
       "      <th>LastSeen</th>\n",
       "    </tr>\n",
       "  </thead>\n",
       "  <tbody>\n",
       "    <tr>\n",
       "      <th>0</th>\n",
       "      <td>480</td>\n",
       "      <td>sedan</td>\n",
       "      <td>1993</td>\n",
       "      <td>manual</td>\n",
       "      <td>101</td>\n",
       "      <td>golf</td>\n",
       "      <td>150000</td>\n",
       "      <td>petrol</td>\n",
       "      <td>volkswagen</td>\n",
       "      <td>unknown</td>\n",
       "      <td>754</td>\n",
       "      <td>768</td>\n",
       "    </tr>\n",
       "    <tr>\n",
       "      <th>2</th>\n",
       "      <td>9800</td>\n",
       "      <td>suv</td>\n",
       "      <td>2004</td>\n",
       "      <td>auto</td>\n",
       "      <td>163</td>\n",
       "      <td>grand</td>\n",
       "      <td>125000</td>\n",
       "      <td>gasoline</td>\n",
       "      <td>jeep</td>\n",
       "      <td>unknown</td>\n",
       "      <td>744</td>\n",
       "      <td>766</td>\n",
       "    </tr>\n",
       "    <tr>\n",
       "      <th>3</th>\n",
       "      <td>1500</td>\n",
       "      <td>small</td>\n",
       "      <td>2001</td>\n",
       "      <td>manual</td>\n",
       "      <td>75</td>\n",
       "      <td>golf</td>\n",
       "      <td>150000</td>\n",
       "      <td>petrol</td>\n",
       "      <td>volkswagen</td>\n",
       "      <td>no</td>\n",
       "      <td>747</td>\n",
       "      <td>747</td>\n",
       "    </tr>\n",
       "    <tr>\n",
       "      <th>4</th>\n",
       "      <td>3600</td>\n",
       "      <td>small</td>\n",
       "      <td>2008</td>\n",
       "      <td>manual</td>\n",
       "      <td>69</td>\n",
       "      <td>fabia</td>\n",
       "      <td>90000</td>\n",
       "      <td>gasoline</td>\n",
       "      <td>skoda</td>\n",
       "      <td>no</td>\n",
       "      <td>761</td>\n",
       "      <td>767</td>\n",
       "    </tr>\n",
       "    <tr>\n",
       "      <th>5</th>\n",
       "      <td>650</td>\n",
       "      <td>sedan</td>\n",
       "      <td>1995</td>\n",
       "      <td>manual</td>\n",
       "      <td>102</td>\n",
       "      <td>3er</td>\n",
       "      <td>150000</td>\n",
       "      <td>petrol</td>\n",
       "      <td>bmw</td>\n",
       "      <td>yes</td>\n",
       "      <td>765</td>\n",
       "      <td>767</td>\n",
       "    </tr>\n",
       "    <tr>\n",
       "      <th>6</th>\n",
       "      <td>2200</td>\n",
       "      <td>convertible</td>\n",
       "      <td>2004</td>\n",
       "      <td>manual</td>\n",
       "      <td>109</td>\n",
       "      <td>2_reihe</td>\n",
       "      <td>150000</td>\n",
       "      <td>petrol</td>\n",
       "      <td>peugeot</td>\n",
       "      <td>no</td>\n",
       "      <td>762</td>\n",
       "      <td>766</td>\n",
       "    </tr>\n",
       "    <tr>\n",
       "      <th>8</th>\n",
       "      <td>14500</td>\n",
       "      <td>bus</td>\n",
       "      <td>2014</td>\n",
       "      <td>manual</td>\n",
       "      <td>125</td>\n",
       "      <td>c_max</td>\n",
       "      <td>30000</td>\n",
       "      <td>petrol</td>\n",
       "      <td>ford</td>\n",
       "      <td>unknown</td>\n",
       "      <td>765</td>\n",
       "      <td>765</td>\n",
       "    </tr>\n",
       "    <tr>\n",
       "      <th>9</th>\n",
       "      <td>999</td>\n",
       "      <td>small</td>\n",
       "      <td>1998</td>\n",
       "      <td>manual</td>\n",
       "      <td>101</td>\n",
       "      <td>golf</td>\n",
       "      <td>150000</td>\n",
       "      <td>sedan</td>\n",
       "      <td>volkswagen</td>\n",
       "      <td>unknown</td>\n",
       "      <td>747</td>\n",
       "      <td>761</td>\n",
       "    </tr>\n",
       "    <tr>\n",
       "      <th>10</th>\n",
       "      <td>2000</td>\n",
       "      <td>sedan</td>\n",
       "      <td>2004</td>\n",
       "      <td>manual</td>\n",
       "      <td>105</td>\n",
       "      <td>3_reihe</td>\n",
       "      <td>150000</td>\n",
       "      <td>petrol</td>\n",
       "      <td>mazda</td>\n",
       "      <td>no</td>\n",
       "      <td>756</td>\n",
       "      <td>767</td>\n",
       "    </tr>\n",
       "    <tr>\n",
       "      <th>11</th>\n",
       "      <td>2799</td>\n",
       "      <td>wagon</td>\n",
       "      <td>2005</td>\n",
       "      <td>manual</td>\n",
       "      <td>140</td>\n",
       "      <td>passat</td>\n",
       "      <td>150000</td>\n",
       "      <td>gasoline</td>\n",
       "      <td>volkswagen</td>\n",
       "      <td>yes</td>\n",
       "      <td>768</td>\n",
       "      <td>768</td>\n",
       "    </tr>\n",
       "  </tbody>\n",
       "</table>\n",
       "</div>"
      ],
      "text/plain": [
       "    Price  VehicleType  RegistrationYear Gearbox  Power    Model  Kilometer  \\\n",
       "0     480        sedan              1993  manual    101     golf     150000   \n",
       "2    9800          suv              2004    auto    163    grand     125000   \n",
       "3    1500        small              2001  manual     75     golf     150000   \n",
       "4    3600        small              2008  manual     69    fabia      90000   \n",
       "5     650        sedan              1995  manual    102      3er     150000   \n",
       "6    2200  convertible              2004  manual    109  2_reihe     150000   \n",
       "8   14500          bus              2014  manual    125    c_max      30000   \n",
       "9     999        small              1998  manual    101     golf     150000   \n",
       "10   2000        sedan              2004  manual    105  3_reihe     150000   \n",
       "11   2799        wagon              2005  manual    140   passat     150000   \n",
       "\n",
       "    FuelType       Brand NotRepaired  DateCreated  LastSeen  \n",
       "0     petrol  volkswagen     unknown          754       768  \n",
       "2   gasoline        jeep     unknown          744       766  \n",
       "3     petrol  volkswagen          no          747       747  \n",
       "4   gasoline       skoda          no          761       767  \n",
       "5     petrol         bmw         yes          765       767  \n",
       "6     petrol     peugeot          no          762       766  \n",
       "8     petrol        ford     unknown          765       765  \n",
       "9      sedan  volkswagen     unknown          747       761  \n",
       "10    petrol       mazda          no          756       767  \n",
       "11  gasoline  volkswagen         yes          768       768  "
      ]
     },
     "execution_count": 27,
     "metadata": {},
     "output_type": "execute_result"
    }
   ],
   "source": [
    "data.head(10)"
   ]
  },
  {
   "cell_type": "code",
   "execution_count": 28,
   "metadata": {
    "scrolled": true
   },
   "outputs": [
    {
     "name": "stdout",
     "output_type": "stream",
     "text": [
      "<class 'pandas.core.frame.DataFrame'>\n",
      "Int64Index: 325909 entries, 0 to 354368\n",
      "Data columns (total 12 columns):\n",
      " #   Column            Non-Null Count   Dtype \n",
      "---  ------            --------------   ----- \n",
      " 0   Price             325909 non-null  int64 \n",
      " 1   VehicleType       325909 non-null  object\n",
      " 2   RegistrationYear  325909 non-null  int64 \n",
      " 3   Gearbox           325909 non-null  object\n",
      " 4   Power             325909 non-null  int64 \n",
      " 5   Model             325909 non-null  object\n",
      " 6   Kilometer         325909 non-null  int64 \n",
      " 7   FuelType          325909 non-null  object\n",
      " 8   Brand             325909 non-null  object\n",
      " 9   NotRepaired       325909 non-null  object\n",
      " 10  DateCreated       325909 non-null  int64 \n",
      " 11  LastSeen          325909 non-null  int64 \n",
      "dtypes: int64(6), object(6)\n",
      "memory usage: 32.3+ MB\n"
     ]
    }
   ],
   "source": [
    "data.info()"
   ]
  },
  {
   "cell_type": "markdown",
   "metadata": {},
   "source": [
    "1.3 Кодирование категориальных признаков"
   ]
  },
  {
   "cell_type": "markdown",
   "metadata": {},
   "source": [
    "В признаке Model много категорий, попробуем совместить его с признаком Brand и закодировать значением: Model.size() / Brand.size()"
   ]
  },
  {
   "cell_type": "code",
   "execution_count": 29,
   "metadata": {},
   "outputs": [],
   "source": [
    "data['brand_model'] = data['Brand'].astype(str) + ' ' + data['Model'].astype(str)\n",
    "data['model_code'] = data['brand_model'].map(data.groupby('brand_model').size()) / \\\n",
    "                     data['Brand'].map(data.groupby('Brand').size())\n",
    "data_coded = data.drop(['brand_model', 'Brand', 'Model'], axis=1)"
   ]
  },
  {
   "cell_type": "markdown",
   "metadata": {},
   "source": [
    "Признаки VehicleType, Gearbox, FuelType, NotRepaired закодируем one-hot encoding."
   ]
  },
  {
   "cell_type": "code",
   "execution_count": 30,
   "metadata": {},
   "outputs": [],
   "source": [
    "def get_dummies_func(data, column, prefix):\n",
    "    df = pd.get_dummies(data[column], prefix=prefix, drop_first=True)\n",
    "    data = data.drop(column, axis=1)\n",
    "    return data.join(df)"
   ]
  },
  {
   "cell_type": "code",
   "execution_count": 31,
   "metadata": {},
   "outputs": [],
   "source": [
    "data_coded = get_dummies_func(data_coded, 'VehicleType', 'VType')"
   ]
  },
  {
   "cell_type": "code",
   "execution_count": 32,
   "metadata": {},
   "outputs": [],
   "source": [
    "data_coded = get_dummies_func(data_coded, 'Gearbox', 'Gear')"
   ]
  },
  {
   "cell_type": "code",
   "execution_count": 33,
   "metadata": {},
   "outputs": [],
   "source": [
    "data_coded = get_dummies_func(data_coded, 'FuelType', 'Fuel')"
   ]
  },
  {
   "cell_type": "code",
   "execution_count": 34,
   "metadata": {},
   "outputs": [],
   "source": [
    "data_coded = get_dummies_func(data_coded, 'NotRepaired', 'Repair')"
   ]
  },
  {
   "cell_type": "code",
   "execution_count": 35,
   "metadata": {},
   "outputs": [
    {
     "data": {
      "text/html": [
       "<div>\n",
       "<style scoped>\n",
       "    .dataframe tbody tr th:only-of-type {\n",
       "        vertical-align: middle;\n",
       "    }\n",
       "\n",
       "    .dataframe tbody tr th {\n",
       "        vertical-align: top;\n",
       "    }\n",
       "\n",
       "    .dataframe thead th {\n",
       "        text-align: right;\n",
       "    }\n",
       "</style>\n",
       "<table border=\"1\" class=\"dataframe\">\n",
       "  <thead>\n",
       "    <tr style=\"text-align: right;\">\n",
       "      <th></th>\n",
       "      <th>Price</th>\n",
       "      <th>RegistrationYear</th>\n",
       "      <th>Power</th>\n",
       "      <th>Kilometer</th>\n",
       "      <th>DateCreated</th>\n",
       "      <th>LastSeen</th>\n",
       "      <th>model_code</th>\n",
       "      <th>VType_convertible</th>\n",
       "      <th>VType_coupe</th>\n",
       "      <th>VType_other</th>\n",
       "      <th>...</th>\n",
       "      <th>Fuel_hybrid</th>\n",
       "      <th>Fuel_lpg</th>\n",
       "      <th>Fuel_other</th>\n",
       "      <th>Fuel_petrol</th>\n",
       "      <th>Fuel_sedan</th>\n",
       "      <th>Fuel_small</th>\n",
       "      <th>Fuel_suv</th>\n",
       "      <th>Fuel_wagon</th>\n",
       "      <th>Repair_unknown</th>\n",
       "      <th>Repair_yes</th>\n",
       "    </tr>\n",
       "  </thead>\n",
       "  <tbody>\n",
       "    <tr>\n",
       "      <th>0</th>\n",
       "      <td>480</td>\n",
       "      <td>1993</td>\n",
       "      <td>101</td>\n",
       "      <td>150000</td>\n",
       "      <td>754</td>\n",
       "      <td>768</td>\n",
       "      <td>0.396043</td>\n",
       "      <td>0</td>\n",
       "      <td>0</td>\n",
       "      <td>0</td>\n",
       "      <td>...</td>\n",
       "      <td>0</td>\n",
       "      <td>0</td>\n",
       "      <td>0</td>\n",
       "      <td>1</td>\n",
       "      <td>0</td>\n",
       "      <td>0</td>\n",
       "      <td>0</td>\n",
       "      <td>0</td>\n",
       "      <td>1</td>\n",
       "      <td>0</td>\n",
       "    </tr>\n",
       "    <tr>\n",
       "      <th>2</th>\n",
       "      <td>9800</td>\n",
       "      <td>2004</td>\n",
       "      <td>163</td>\n",
       "      <td>125000</td>\n",
       "      <td>744</td>\n",
       "      <td>766</td>\n",
       "      <td>0.373817</td>\n",
       "      <td>0</td>\n",
       "      <td>0</td>\n",
       "      <td>0</td>\n",
       "      <td>...</td>\n",
       "      <td>0</td>\n",
       "      <td>0</td>\n",
       "      <td>0</td>\n",
       "      <td>0</td>\n",
       "      <td>0</td>\n",
       "      <td>0</td>\n",
       "      <td>0</td>\n",
       "      <td>0</td>\n",
       "      <td>1</td>\n",
       "      <td>0</td>\n",
       "    </tr>\n",
       "    <tr>\n",
       "      <th>3</th>\n",
       "      <td>1500</td>\n",
       "      <td>2001</td>\n",
       "      <td>75</td>\n",
       "      <td>150000</td>\n",
       "      <td>747</td>\n",
       "      <td>747</td>\n",
       "      <td>0.396043</td>\n",
       "      <td>0</td>\n",
       "      <td>0</td>\n",
       "      <td>0</td>\n",
       "      <td>...</td>\n",
       "      <td>0</td>\n",
       "      <td>0</td>\n",
       "      <td>0</td>\n",
       "      <td>1</td>\n",
       "      <td>0</td>\n",
       "      <td>0</td>\n",
       "      <td>0</td>\n",
       "      <td>0</td>\n",
       "      <td>0</td>\n",
       "      <td>0</td>\n",
       "    </tr>\n",
       "    <tr>\n",
       "      <th>4</th>\n",
       "      <td>3600</td>\n",
       "      <td>2008</td>\n",
       "      <td>69</td>\n",
       "      <td>90000</td>\n",
       "      <td>761</td>\n",
       "      <td>767</td>\n",
       "      <td>0.388051</td>\n",
       "      <td>0</td>\n",
       "      <td>0</td>\n",
       "      <td>0</td>\n",
       "      <td>...</td>\n",
       "      <td>0</td>\n",
       "      <td>0</td>\n",
       "      <td>0</td>\n",
       "      <td>0</td>\n",
       "      <td>0</td>\n",
       "      <td>0</td>\n",
       "      <td>0</td>\n",
       "      <td>0</td>\n",
       "      <td>0</td>\n",
       "      <td>0</td>\n",
       "    </tr>\n",
       "    <tr>\n",
       "      <th>5</th>\n",
       "      <td>650</td>\n",
       "      <td>1995</td>\n",
       "      <td>102</td>\n",
       "      <td>150000</td>\n",
       "      <td>765</td>\n",
       "      <td>767</td>\n",
       "      <td>0.562788</td>\n",
       "      <td>0</td>\n",
       "      <td>0</td>\n",
       "      <td>0</td>\n",
       "      <td>...</td>\n",
       "      <td>0</td>\n",
       "      <td>0</td>\n",
       "      <td>0</td>\n",
       "      <td>1</td>\n",
       "      <td>0</td>\n",
       "      <td>0</td>\n",
       "      <td>0</td>\n",
       "      <td>0</td>\n",
       "      <td>0</td>\n",
       "      <td>1</td>\n",
       "    </tr>\n",
       "    <tr>\n",
       "      <th>6</th>\n",
       "      <td>2200</td>\n",
       "      <td>2004</td>\n",
       "      <td>109</td>\n",
       "      <td>150000</td>\n",
       "      <td>762</td>\n",
       "      <td>766</td>\n",
       "      <td>0.478545</td>\n",
       "      <td>1</td>\n",
       "      <td>0</td>\n",
       "      <td>0</td>\n",
       "      <td>...</td>\n",
       "      <td>0</td>\n",
       "      <td>0</td>\n",
       "      <td>0</td>\n",
       "      <td>1</td>\n",
       "      <td>0</td>\n",
       "      <td>0</td>\n",
       "      <td>0</td>\n",
       "      <td>0</td>\n",
       "      <td>0</td>\n",
       "      <td>0</td>\n",
       "    </tr>\n",
       "    <tr>\n",
       "      <th>8</th>\n",
       "      <td>14500</td>\n",
       "      <td>2014</td>\n",
       "      <td>125</td>\n",
       "      <td>30000</td>\n",
       "      <td>765</td>\n",
       "      <td>765</td>\n",
       "      <td>0.028982</td>\n",
       "      <td>0</td>\n",
       "      <td>0</td>\n",
       "      <td>0</td>\n",
       "      <td>...</td>\n",
       "      <td>0</td>\n",
       "      <td>0</td>\n",
       "      <td>0</td>\n",
       "      <td>1</td>\n",
       "      <td>0</td>\n",
       "      <td>0</td>\n",
       "      <td>0</td>\n",
       "      <td>0</td>\n",
       "      <td>1</td>\n",
       "      <td>0</td>\n",
       "    </tr>\n",
       "    <tr>\n",
       "      <th>9</th>\n",
       "      <td>999</td>\n",
       "      <td>1998</td>\n",
       "      <td>101</td>\n",
       "      <td>150000</td>\n",
       "      <td>747</td>\n",
       "      <td>761</td>\n",
       "      <td>0.396043</td>\n",
       "      <td>0</td>\n",
       "      <td>0</td>\n",
       "      <td>0</td>\n",
       "      <td>...</td>\n",
       "      <td>0</td>\n",
       "      <td>0</td>\n",
       "      <td>0</td>\n",
       "      <td>0</td>\n",
       "      <td>1</td>\n",
       "      <td>0</td>\n",
       "      <td>0</td>\n",
       "      <td>0</td>\n",
       "      <td>1</td>\n",
       "      <td>0</td>\n",
       "    </tr>\n",
       "    <tr>\n",
       "      <th>10</th>\n",
       "      <td>2000</td>\n",
       "      <td>2004</td>\n",
       "      <td>105</td>\n",
       "      <td>150000</td>\n",
       "      <td>756</td>\n",
       "      <td>767</td>\n",
       "      <td>0.249660</td>\n",
       "      <td>0</td>\n",
       "      <td>0</td>\n",
       "      <td>0</td>\n",
       "      <td>...</td>\n",
       "      <td>0</td>\n",
       "      <td>0</td>\n",
       "      <td>0</td>\n",
       "      <td>1</td>\n",
       "      <td>0</td>\n",
       "      <td>0</td>\n",
       "      <td>0</td>\n",
       "      <td>0</td>\n",
       "      <td>0</td>\n",
       "      <td>0</td>\n",
       "    </tr>\n",
       "    <tr>\n",
       "      <th>11</th>\n",
       "      <td>2799</td>\n",
       "      <td>2005</td>\n",
       "      <td>140</td>\n",
       "      <td>150000</td>\n",
       "      <td>768</td>\n",
       "      <td>768</td>\n",
       "      <td>0.137974</td>\n",
       "      <td>0</td>\n",
       "      <td>0</td>\n",
       "      <td>0</td>\n",
       "      <td>...</td>\n",
       "      <td>0</td>\n",
       "      <td>0</td>\n",
       "      <td>0</td>\n",
       "      <td>0</td>\n",
       "      <td>0</td>\n",
       "      <td>0</td>\n",
       "      <td>0</td>\n",
       "      <td>0</td>\n",
       "      <td>0</td>\n",
       "      <td>1</td>\n",
       "    </tr>\n",
       "  </tbody>\n",
       "</table>\n",
       "<p>10 rows × 37 columns</p>\n",
       "</div>"
      ],
      "text/plain": [
       "    Price  RegistrationYear  Power  Kilometer  DateCreated  LastSeen  \\\n",
       "0     480              1993    101     150000          754       768   \n",
       "2    9800              2004    163     125000          744       766   \n",
       "3    1500              2001     75     150000          747       747   \n",
       "4    3600              2008     69      90000          761       767   \n",
       "5     650              1995    102     150000          765       767   \n",
       "6    2200              2004    109     150000          762       766   \n",
       "8   14500              2014    125      30000          765       765   \n",
       "9     999              1998    101     150000          747       761   \n",
       "10   2000              2004    105     150000          756       767   \n",
       "11   2799              2005    140     150000          768       768   \n",
       "\n",
       "    model_code  VType_convertible  VType_coupe  VType_other  ...  Fuel_hybrid  \\\n",
       "0     0.396043                  0            0            0  ...            0   \n",
       "2     0.373817                  0            0            0  ...            0   \n",
       "3     0.396043                  0            0            0  ...            0   \n",
       "4     0.388051                  0            0            0  ...            0   \n",
       "5     0.562788                  0            0            0  ...            0   \n",
       "6     0.478545                  1            0            0  ...            0   \n",
       "8     0.028982                  0            0            0  ...            0   \n",
       "9     0.396043                  0            0            0  ...            0   \n",
       "10    0.249660                  0            0            0  ...            0   \n",
       "11    0.137974                  0            0            0  ...            0   \n",
       "\n",
       "    Fuel_lpg  Fuel_other  Fuel_petrol  Fuel_sedan  Fuel_small  Fuel_suv  \\\n",
       "0          0           0            1           0           0         0   \n",
       "2          0           0            0           0           0         0   \n",
       "3          0           0            1           0           0         0   \n",
       "4          0           0            0           0           0         0   \n",
       "5          0           0            1           0           0         0   \n",
       "6          0           0            1           0           0         0   \n",
       "8          0           0            1           0           0         0   \n",
       "9          0           0            0           1           0         0   \n",
       "10         0           0            1           0           0         0   \n",
       "11         0           0            0           0           0         0   \n",
       "\n",
       "    Fuel_wagon  Repair_unknown  Repair_yes  \n",
       "0            0               1           0  \n",
       "2            0               1           0  \n",
       "3            0               0           0  \n",
       "4            0               0           0  \n",
       "5            0               0           1  \n",
       "6            0               0           0  \n",
       "8            0               1           0  \n",
       "9            0               1           0  \n",
       "10           0               0           0  \n",
       "11           0               0           1  \n",
       "\n",
       "[10 rows x 37 columns]"
      ]
     },
     "execution_count": 35,
     "metadata": {},
     "output_type": "execute_result"
    }
   ],
   "source": [
    "data_coded.head(10)"
   ]
  },
  {
   "cell_type": "markdown",
   "metadata": {},
   "source": [
    "1.4 Подготовка выборок"
   ]
  },
  {
   "cell_type": "markdown",
   "metadata": {},
   "source": [
    "Выделим признаки, целевой признак. Разделим выборку на обучающую и тестовую в соотношении 1:4."
   ]
  },
  {
   "cell_type": "code",
   "execution_count": 36,
   "metadata": {},
   "outputs": [],
   "source": [
    "X = data_coded.drop('Price', axis=1)\n",
    "y = data_coded['Price']"
   ]
  },
  {
   "cell_type": "code",
   "execution_count": 37,
   "metadata": {},
   "outputs": [],
   "source": [
    "X_train, X_test, y_train, y_test = train_test_split(X, y, test_size=0.2, random_state=42)"
   ]
  },
  {
   "cell_type": "code",
   "execution_count": 38,
   "metadata": {},
   "outputs": [
    {
     "data": {
      "text/plain": [
       "'Размер обучающей выборки: (260727, 36)'"
      ]
     },
     "execution_count": 38,
     "metadata": {},
     "output_type": "execute_result"
    }
   ],
   "source": [
    "f\"Размер обучающей выборки: {X_train.shape}\""
   ]
  },
  {
   "cell_type": "code",
   "execution_count": 39,
   "metadata": {},
   "outputs": [
    {
     "data": {
      "text/plain": [
       "'Размер тестовой  выборки: (65182, 36)'"
      ]
     },
     "execution_count": 39,
     "metadata": {},
     "output_type": "execute_result"
    }
   ],
   "source": [
    "f\"Размер тестовой  выборки: {X_test.shape}\""
   ]
  },
  {
   "cell_type": "markdown",
   "metadata": {},
   "source": [
    "Проведём масштабирование признаков к стандартному нормальному распределению с помощью метода StandardScaler библиотеки sklearn"
   ]
  },
  {
   "cell_type": "code",
   "execution_count": 40,
   "metadata": {},
   "outputs": [],
   "source": [
    "ss = StandardScaler()\n",
    "ss.fit(X_train)\n",
    "columns = X_train.columns\n",
    "X_train = pd.DataFrame(ss.transform(X_train), columns = columns)\n",
    "X_test = pd.DataFrame(ss.transform(X_test), columns = columns)"
   ]
  },
  {
   "cell_type": "code",
   "execution_count": 41,
   "metadata": {},
   "outputs": [
    {
     "data": {
      "text/html": [
       "<div>\n",
       "<style scoped>\n",
       "    .dataframe tbody tr th:only-of-type {\n",
       "        vertical-align: middle;\n",
       "    }\n",
       "\n",
       "    .dataframe tbody tr th {\n",
       "        vertical-align: top;\n",
       "    }\n",
       "\n",
       "    .dataframe thead th {\n",
       "        text-align: right;\n",
       "    }\n",
       "</style>\n",
       "<table border=\"1\" class=\"dataframe\">\n",
       "  <thead>\n",
       "    <tr style=\"text-align: right;\">\n",
       "      <th></th>\n",
       "      <th>RegistrationYear</th>\n",
       "      <th>Power</th>\n",
       "      <th>Kilometer</th>\n",
       "      <th>DateCreated</th>\n",
       "      <th>LastSeen</th>\n",
       "      <th>model_code</th>\n",
       "      <th>VType_convertible</th>\n",
       "      <th>VType_coupe</th>\n",
       "      <th>VType_other</th>\n",
       "      <th>VType_sedan</th>\n",
       "      <th>...</th>\n",
       "      <th>Fuel_hybrid</th>\n",
       "      <th>Fuel_lpg</th>\n",
       "      <th>Fuel_other</th>\n",
       "      <th>Fuel_petrol</th>\n",
       "      <th>Fuel_sedan</th>\n",
       "      <th>Fuel_small</th>\n",
       "      <th>Fuel_suv</th>\n",
       "      <th>Fuel_wagon</th>\n",
       "      <th>Repair_unknown</th>\n",
       "      <th>Repair_yes</th>\n",
       "    </tr>\n",
       "  </thead>\n",
       "  <tbody>\n",
       "    <tr>\n",
       "      <th>0</th>\n",
       "      <td>-0.019555</td>\n",
       "      <td>-0.340781</td>\n",
       "      <td>0.579140</td>\n",
       "      <td>0.446150</td>\n",
       "      <td>0.702209</td>\n",
       "      <td>-0.913564</td>\n",
       "      <td>-0.250460</td>\n",
       "      <td>-0.221351</td>\n",
       "      <td>-0.09011</td>\n",
       "      <td>-0.662243</td>\n",
       "      <td>...</td>\n",
       "      <td>-0.025768</td>\n",
       "      <td>-0.12302</td>\n",
       "      <td>-0.018991</td>\n",
       "      <td>-1.277907</td>\n",
       "      <td>-0.183497</td>\n",
       "      <td>-0.143575</td>\n",
       "      <td>-0.035975</td>\n",
       "      <td>-0.10216</td>\n",
       "      <td>-0.466591</td>\n",
       "      <td>-0.329923</td>\n",
       "    </tr>\n",
       "    <tr>\n",
       "      <th>1</th>\n",
       "      <td>-0.685446</td>\n",
       "      <td>-1.112035</td>\n",
       "      <td>-1.581784</td>\n",
       "      <td>1.403893</td>\n",
       "      <td>0.919999</td>\n",
       "      <td>-0.366058</td>\n",
       "      <td>-0.250460</td>\n",
       "      <td>-0.221351</td>\n",
       "      <td>-0.09011</td>\n",
       "      <td>-0.662243</td>\n",
       "      <td>...</td>\n",
       "      <td>-0.025768</td>\n",
       "      <td>-0.12302</td>\n",
       "      <td>-0.018991</td>\n",
       "      <td>0.782529</td>\n",
       "      <td>-0.183497</td>\n",
       "      <td>-0.143575</td>\n",
       "      <td>-0.035975</td>\n",
       "      <td>-0.10216</td>\n",
       "      <td>-0.466591</td>\n",
       "      <td>-0.329923</td>\n",
       "    </tr>\n",
       "    <tr>\n",
       "      <th>2</th>\n",
       "      <td>-0.400064</td>\n",
       "      <td>-0.321970</td>\n",
       "      <td>0.579140</td>\n",
       "      <td>0.233318</td>\n",
       "      <td>-0.495635</td>\n",
       "      <td>-1.001901</td>\n",
       "      <td>-0.250460</td>\n",
       "      <td>-0.221351</td>\n",
       "      <td>-0.09011</td>\n",
       "      <td>-0.662243</td>\n",
       "      <td>...</td>\n",
       "      <td>-0.025768</td>\n",
       "      <td>-0.12302</td>\n",
       "      <td>-0.018991</td>\n",
       "      <td>-1.277907</td>\n",
       "      <td>-0.183497</td>\n",
       "      <td>-0.143575</td>\n",
       "      <td>-0.035975</td>\n",
       "      <td>-0.10216</td>\n",
       "      <td>2.143203</td>\n",
       "      <td>-0.329923</td>\n",
       "    </tr>\n",
       "    <tr>\n",
       "      <th>3</th>\n",
       "      <td>0.075572</td>\n",
       "      <td>0.580962</td>\n",
       "      <td>-3.337534</td>\n",
       "      <td>0.339734</td>\n",
       "      <td>0.266629</td>\n",
       "      <td>-0.929287</td>\n",
       "      <td>-0.250460</td>\n",
       "      <td>-0.221351</td>\n",
       "      <td>-0.09011</td>\n",
       "      <td>-0.662243</td>\n",
       "      <td>...</td>\n",
       "      <td>-0.025768</td>\n",
       "      <td>-0.12302</td>\n",
       "      <td>-0.018991</td>\n",
       "      <td>-1.277907</td>\n",
       "      <td>-0.183497</td>\n",
       "      <td>-0.143575</td>\n",
       "      <td>-0.035975</td>\n",
       "      <td>-0.10216</td>\n",
       "      <td>-0.466591</td>\n",
       "      <td>3.031012</td>\n",
       "    </tr>\n",
       "    <tr>\n",
       "      <th>4</th>\n",
       "      <td>-0.019555</td>\n",
       "      <td>-0.058615</td>\n",
       "      <td>0.579140</td>\n",
       "      <td>-0.724425</td>\n",
       "      <td>0.375524</td>\n",
       "      <td>0.017244</td>\n",
       "      <td>-0.250460</td>\n",
       "      <td>-0.221351</td>\n",
       "      <td>-0.09011</td>\n",
       "      <td>-0.662243</td>\n",
       "      <td>...</td>\n",
       "      <td>-0.025768</td>\n",
       "      <td>-0.12302</td>\n",
       "      <td>-0.018991</td>\n",
       "      <td>0.782529</td>\n",
       "      <td>-0.183497</td>\n",
       "      <td>-0.143575</td>\n",
       "      <td>-0.035975</td>\n",
       "      <td>-0.10216</td>\n",
       "      <td>-0.466591</td>\n",
       "      <td>-0.329923</td>\n",
       "    </tr>\n",
       "    <tr>\n",
       "      <th>5</th>\n",
       "      <td>-0.304937</td>\n",
       "      <td>-0.848680</td>\n",
       "      <td>-0.096149</td>\n",
       "      <td>1.084646</td>\n",
       "      <td>0.811104</td>\n",
       "      <td>-0.263466</td>\n",
       "      <td>-0.250460</td>\n",
       "      <td>-0.221351</td>\n",
       "      <td>-0.09011</td>\n",
       "      <td>-0.662243</td>\n",
       "      <td>...</td>\n",
       "      <td>-0.025768</td>\n",
       "      <td>-0.12302</td>\n",
       "      <td>-0.018991</td>\n",
       "      <td>0.782529</td>\n",
       "      <td>-0.183497</td>\n",
       "      <td>-0.143575</td>\n",
       "      <td>-0.035975</td>\n",
       "      <td>-0.10216</td>\n",
       "      <td>2.143203</td>\n",
       "      <td>-0.329923</td>\n",
       "    </tr>\n",
       "    <tr>\n",
       "      <th>6</th>\n",
       "      <td>-0.114683</td>\n",
       "      <td>-0.961547</td>\n",
       "      <td>0.579140</td>\n",
       "      <td>0.658982</td>\n",
       "      <td>0.919999</td>\n",
       "      <td>0.883360</td>\n",
       "      <td>-0.250460</td>\n",
       "      <td>-0.221351</td>\n",
       "      <td>-0.09011</td>\n",
       "      <td>-0.662243</td>\n",
       "      <td>...</td>\n",
       "      <td>-0.025768</td>\n",
       "      <td>-0.12302</td>\n",
       "      <td>-0.018991</td>\n",
       "      <td>-1.277907</td>\n",
       "      <td>-0.183497</td>\n",
       "      <td>-0.143575</td>\n",
       "      <td>-0.035975</td>\n",
       "      <td>-0.10216</td>\n",
       "      <td>-0.466591</td>\n",
       "      <td>-0.329923</td>\n",
       "    </tr>\n",
       "    <tr>\n",
       "      <th>7</th>\n",
       "      <td>0.170699</td>\n",
       "      <td>-1.224902</td>\n",
       "      <td>0.579140</td>\n",
       "      <td>-0.830840</td>\n",
       "      <td>-1.475689</td>\n",
       "      <td>-0.366058</td>\n",
       "      <td>-0.250460</td>\n",
       "      <td>-0.221351</td>\n",
       "      <td>-0.09011</td>\n",
       "      <td>-0.662243</td>\n",
       "      <td>...</td>\n",
       "      <td>-0.025768</td>\n",
       "      <td>-0.12302</td>\n",
       "      <td>-0.018991</td>\n",
       "      <td>0.782529</td>\n",
       "      <td>-0.183497</td>\n",
       "      <td>-0.143575</td>\n",
       "      <td>-0.035975</td>\n",
       "      <td>-0.10216</td>\n",
       "      <td>2.143203</td>\n",
       "      <td>-0.329923</td>\n",
       "    </tr>\n",
       "    <tr>\n",
       "      <th>8</th>\n",
       "      <td>-0.495191</td>\n",
       "      <td>-0.340781</td>\n",
       "      <td>0.579140</td>\n",
       "      <td>0.552566</td>\n",
       "      <td>0.811104</td>\n",
       "      <td>0.883360</td>\n",
       "      <td>3.992659</td>\n",
       "      <td>-0.221351</td>\n",
       "      <td>-0.09011</td>\n",
       "      <td>-0.662243</td>\n",
       "      <td>...</td>\n",
       "      <td>-0.025768</td>\n",
       "      <td>-0.12302</td>\n",
       "      <td>-0.018991</td>\n",
       "      <td>0.782529</td>\n",
       "      <td>-0.183497</td>\n",
       "      <td>-0.143575</td>\n",
       "      <td>-0.035975</td>\n",
       "      <td>-0.10216</td>\n",
       "      <td>-0.466591</td>\n",
       "      <td>-0.329923</td>\n",
       "    </tr>\n",
       "    <tr>\n",
       "      <th>9</th>\n",
       "      <td>-0.495191</td>\n",
       "      <td>-1.300146</td>\n",
       "      <td>0.579140</td>\n",
       "      <td>-0.085929</td>\n",
       "      <td>-1.040110</td>\n",
       "      <td>0.511772</td>\n",
       "      <td>-0.250460</td>\n",
       "      <td>-0.221351</td>\n",
       "      <td>-0.09011</td>\n",
       "      <td>-0.662243</td>\n",
       "      <td>...</td>\n",
       "      <td>-0.025768</td>\n",
       "      <td>-0.12302</td>\n",
       "      <td>-0.018991</td>\n",
       "      <td>0.782529</td>\n",
       "      <td>-0.183497</td>\n",
       "      <td>-0.143575</td>\n",
       "      <td>-0.035975</td>\n",
       "      <td>-0.10216</td>\n",
       "      <td>-0.466591</td>\n",
       "      <td>-0.329923</td>\n",
       "    </tr>\n",
       "  </tbody>\n",
       "</table>\n",
       "<p>10 rows × 36 columns</p>\n",
       "</div>"
      ],
      "text/plain": [
       "   RegistrationYear     Power  Kilometer  DateCreated  LastSeen  model_code  \\\n",
       "0         -0.019555 -0.340781   0.579140     0.446150  0.702209   -0.913564   \n",
       "1         -0.685446 -1.112035  -1.581784     1.403893  0.919999   -0.366058   \n",
       "2         -0.400064 -0.321970   0.579140     0.233318 -0.495635   -1.001901   \n",
       "3          0.075572  0.580962  -3.337534     0.339734  0.266629   -0.929287   \n",
       "4         -0.019555 -0.058615   0.579140    -0.724425  0.375524    0.017244   \n",
       "5         -0.304937 -0.848680  -0.096149     1.084646  0.811104   -0.263466   \n",
       "6         -0.114683 -0.961547   0.579140     0.658982  0.919999    0.883360   \n",
       "7          0.170699 -1.224902   0.579140    -0.830840 -1.475689   -0.366058   \n",
       "8         -0.495191 -0.340781   0.579140     0.552566  0.811104    0.883360   \n",
       "9         -0.495191 -1.300146   0.579140    -0.085929 -1.040110    0.511772   \n",
       "\n",
       "   VType_convertible  VType_coupe  VType_other  VType_sedan  ...  Fuel_hybrid  \\\n",
       "0          -0.250460    -0.221351     -0.09011    -0.662243  ...    -0.025768   \n",
       "1          -0.250460    -0.221351     -0.09011    -0.662243  ...    -0.025768   \n",
       "2          -0.250460    -0.221351     -0.09011    -0.662243  ...    -0.025768   \n",
       "3          -0.250460    -0.221351     -0.09011    -0.662243  ...    -0.025768   \n",
       "4          -0.250460    -0.221351     -0.09011    -0.662243  ...    -0.025768   \n",
       "5          -0.250460    -0.221351     -0.09011    -0.662243  ...    -0.025768   \n",
       "6          -0.250460    -0.221351     -0.09011    -0.662243  ...    -0.025768   \n",
       "7          -0.250460    -0.221351     -0.09011    -0.662243  ...    -0.025768   \n",
       "8           3.992659    -0.221351     -0.09011    -0.662243  ...    -0.025768   \n",
       "9          -0.250460    -0.221351     -0.09011    -0.662243  ...    -0.025768   \n",
       "\n",
       "   Fuel_lpg  Fuel_other  Fuel_petrol  Fuel_sedan  Fuel_small  Fuel_suv  \\\n",
       "0  -0.12302   -0.018991    -1.277907   -0.183497   -0.143575 -0.035975   \n",
       "1  -0.12302   -0.018991     0.782529   -0.183497   -0.143575 -0.035975   \n",
       "2  -0.12302   -0.018991    -1.277907   -0.183497   -0.143575 -0.035975   \n",
       "3  -0.12302   -0.018991    -1.277907   -0.183497   -0.143575 -0.035975   \n",
       "4  -0.12302   -0.018991     0.782529   -0.183497   -0.143575 -0.035975   \n",
       "5  -0.12302   -0.018991     0.782529   -0.183497   -0.143575 -0.035975   \n",
       "6  -0.12302   -0.018991    -1.277907   -0.183497   -0.143575 -0.035975   \n",
       "7  -0.12302   -0.018991     0.782529   -0.183497   -0.143575 -0.035975   \n",
       "8  -0.12302   -0.018991     0.782529   -0.183497   -0.143575 -0.035975   \n",
       "9  -0.12302   -0.018991     0.782529   -0.183497   -0.143575 -0.035975   \n",
       "\n",
       "   Fuel_wagon  Repair_unknown  Repair_yes  \n",
       "0    -0.10216       -0.466591   -0.329923  \n",
       "1    -0.10216       -0.466591   -0.329923  \n",
       "2    -0.10216        2.143203   -0.329923  \n",
       "3    -0.10216       -0.466591    3.031012  \n",
       "4    -0.10216       -0.466591   -0.329923  \n",
       "5    -0.10216        2.143203   -0.329923  \n",
       "6    -0.10216       -0.466591   -0.329923  \n",
       "7    -0.10216        2.143203   -0.329923  \n",
       "8    -0.10216       -0.466591   -0.329923  \n",
       "9    -0.10216       -0.466591   -0.329923  \n",
       "\n",
       "[10 rows x 36 columns]"
      ]
     },
     "execution_count": 41,
     "metadata": {},
     "output_type": "execute_result"
    }
   ],
   "source": [
    "X_train.head(10)"
   ]
  },
  {
   "cell_type": "markdown",
   "metadata": {},
   "source": [
    "Вывод:\n",
    "Данные были успешно загружены и проанализированы. Типы данных соответствуют описанию, дубликаты удалены.\n",
    "Отобраны признаки, необходимые для построения моделей.\n",
    "Пропущенные значения, выбросы, а также неправдоподобные значения в признаках по возможности заполнены на основе имеющейся инфрмации. Остальные объекты удалены (около 8% данных).\n",
    "Категориальные признаки с небольшой ординальностью преобразованы с помощью one-hot encoding. Признак Model закодирован по формуле Model.size() / Brand.size()\n",
    "Данные разделены на тестовую и обучающую выборки в соотношении 1:4, признаки масштабированы к стандартному нормальному распределению."
   ]
  },
  {
   "cell_type": "markdown",
   "metadata": {},
   "source": [
    "## Обучение моделей"
   ]
  },
  {
   "cell_type": "markdown",
   "metadata": {},
   "source": [
    "Для начала создадим константную base-line модель. Она всегда будет предсказывать среднее значение Price. (среднее значение на практике дало меньшее значение RMSE, чем медианное). Рассчитаем RMSE для base-line модели."
   ]
  },
  {
   "cell_type": "code",
   "execution_count": 42,
   "metadata": {},
   "outputs": [
    {
     "data": {
      "text/plain": [
       "'RMSE для константной модели: 4530.45'"
      ]
     },
     "execution_count": 42,
     "metadata": {},
     "output_type": "execute_result"
    }
   ],
   "source": [
    "preds_base = pd.Series(data=y.mean(), index=y.index, dtype='int64')\n",
    "rmse_base = mean_squared_error(y, preds_base) ** 0.5\n",
    "f\"RMSE для константной модели: {round(rmse_base, 2)}\""
   ]
  },
  {
   "cell_type": "markdown",
   "metadata": {},
   "source": [
    "2.1 Линейная регрессия"
   ]
  },
  {
   "cell_type": "markdown",
   "metadata": {},
   "source": [
    "Сначала обучим линейную модель. Посчитаем скорость обучения, скорость предсказания и RMSE модели. Обучение будем проводить с использованием кросс-валидации на 5 фолдов."
   ]
  },
  {
   "cell_type": "code",
   "execution_count": 43,
   "metadata": {},
   "outputs": [
    {
     "name": "stdout",
     "output_type": "stream",
     "text": [
      "CPU times: user 3.84 s, sys: 2.68 s, total: 6.51 s\n",
      "Wall time: 6.51 s\n"
     ]
    }
   ],
   "source": [
    "%%time\n",
    "lm = LinearRegression()\n",
    "mse = cross_val_score(lm, X_train, y_train, cv=5, scoring='neg_mean_squared_error')"
   ]
  },
  {
   "cell_type": "code",
   "execution_count": 44,
   "metadata": {},
   "outputs": [
    {
     "data": {
      "text/plain": [
       "'RMSE для линейной модели на валидационной выборке: 2985.85'"
      ]
     },
     "execution_count": 44,
     "metadata": {},
     "output_type": "execute_result"
    }
   ],
   "source": [
    "f\"RMSE для линейной модели на валидационной выборке: {round((-mse.mean()) ** 0.5, 2)}\""
   ]
  },
  {
   "cell_type": "code",
   "execution_count": 45,
   "metadata": {},
   "outputs": [
    {
     "name": "stdout",
     "output_type": "stream",
     "text": [
      "CPU times: user 762 ms, sys: 386 ms, total: 1.15 s\n",
      "Wall time: 1.11 s\n"
     ]
    },
    {
     "data": {
      "text/plain": [
       "LinearRegression()"
      ]
     },
     "execution_count": 45,
     "metadata": {},
     "output_type": "execute_result"
    }
   ],
   "source": [
    "%%time\n",
    "lm = LinearRegression()\n",
    "lm.fit(X_train, y_train)"
   ]
  },
  {
   "cell_type": "code",
   "execution_count": 46,
   "metadata": {
    "scrolled": true
   },
   "outputs": [
    {
     "name": "stdout",
     "output_type": "stream",
     "text": [
      "CPU times: user 5.57 ms, sys: 7.71 ms, total: 13.3 ms\n",
      "Wall time: 73.9 ms\n"
     ]
    }
   ],
   "source": [
    "%%time\n",
    "preds_lm = lm.predict(X_test)"
   ]
  },
  {
   "cell_type": "code",
   "execution_count": 47,
   "metadata": {},
   "outputs": [
    {
     "data": {
      "text/plain": [
       "'RMSE для линейной модели на тестовой выборке: 3005.06'"
      ]
     },
     "execution_count": 47,
     "metadata": {},
     "output_type": "execute_result"
    }
   ],
   "source": [
    "mse_lm = mean_squared_error(y_test, preds_lm)\n",
    "f\"RMSE для линейной модели на тестовой выборке: {round((mse_lm) ** 0.5, 2)}\""
   ]
  },
  {
   "cell_type": "markdown",
   "metadata": {},
   "source": [
    "2.2 Lasso/Ridge"
   ]
  },
  {
   "cell_type": "markdown",
   "metadata": {},
   "source": [
    "Попробуем обучить линейные модели с регуляризацией L1 и L2."
   ]
  },
  {
   "cell_type": "markdown",
   "metadata": {},
   "source": [
    "1) Lasso (L1 регуляризация)"
   ]
  },
  {
   "cell_type": "code",
   "execution_count": null,
   "metadata": {},
   "outputs": [
    {
     "name": "stdout",
     "output_type": "stream",
     "text": [
      "RMSE для Lasso alpha=1.00 модели на валидационной выборке: 2985.87\n",
      "RMSE для Lasso alpha=5.00 модели на валидационной выборке: 2986.05\n",
      "RMSE для Lasso alpha=9.00 модели на валидационной выборке: 2986.33\n",
      "RMSE для Lasso alpha=13.00 модели на валидационной выборке: 2986.79\n"
     ]
    }
   ],
   "source": [
    "%%time\n",
    "alphas = np.arange(1, 40, 4)\n",
    "for alpha in alphas :\n",
    "    lasso = Lasso(alpha = alpha)\n",
    "    mse = cross_val_score(lasso, X_train, y_train, cv=5, scoring='neg_mean_squared_error')\n",
    "    print(\"RMSE для Lasso alpha={:.2f} модели на валидационной выборке: {:.2f}\".format(alpha, (-mse.mean()) ** 0.5))"
   ]
  },
  {
   "cell_type": "code",
   "execution_count": null,
   "metadata": {},
   "outputs": [],
   "source": [
    "%%time\n",
    "lasso = Lasso(alpha=0.1)\n",
    "lasso.fit(X_train, y_train)"
   ]
  },
  {
   "cell_type": "code",
   "execution_count": null,
   "metadata": {},
   "outputs": [],
   "source": [
    "%%time\n",
    "preds_ls = lasso.predict(X_test)"
   ]
  },
  {
   "cell_type": "code",
   "execution_count": null,
   "metadata": {},
   "outputs": [],
   "source": [
    "mse_ls = mean_squared_error(y_test, preds_ls)\n",
    "f\"RMSE для Lasso модели на тестовой выборке: {round((mse_ls) ** 0.5, 2)}\""
   ]
  },
  {
   "cell_type": "markdown",
   "metadata": {},
   "source": [
    "Lasso не дало выигрыш в метрике, скорость обучения и предсказания немного выше, чем у Линейной модели без регуляризации."
   ]
  },
  {
   "cell_type": "markdown",
   "metadata": {},
   "source": [
    "2) Ridge (L2 регуляризация)"
   ]
  },
  {
   "cell_type": "code",
   "execution_count": null,
   "metadata": {},
   "outputs": [],
   "source": [
    "%%time\n",
    "alphas = np.arange(1, 40, 4)\n",
    "for alpha in alphas :\n",
    "    ridge = Ridge(alpha = alpha)\n",
    "    mse = cross_val_score(ridge, X_train, y_train, cv=5, scoring='neg_mean_squared_error')\n",
    "    print(\"RMSE для Ridge alpha={:.2f} модели на валидационной выборке: {:.2f}\".format(alpha, (-mse.mean()) ** 0.5))"
   ]
  },
  {
   "cell_type": "code",
   "execution_count": null,
   "metadata": {},
   "outputs": [],
   "source": [
    "%%time\n",
    "ridge = Ridge(alpha=0.5)\n",
    "ridge.fit(X_train, y_train)"
   ]
  },
  {
   "cell_type": "code",
   "execution_count": null,
   "metadata": {},
   "outputs": [],
   "source": [
    "%%time\n",
    "preds_rg = ridge.predict(X_test)"
   ]
  },
  {
   "cell_type": "code",
   "execution_count": null,
   "metadata": {},
   "outputs": [],
   "source": [
    "mse_rg = mean_squared_error(y_test, preds_rg)\n",
    "f\"RMSE для Ridge модели на тестовой выборке: {round((mse_rg) ** 0.5, 2)}\""
   ]
  },
  {
   "cell_type": "markdown",
   "metadata": {},
   "source": [
    "Ridge не дал выигрыш в метрике, но скорость обучения выше, чем у Линейной модели без регуляризации:\n",
    "Ridge fit time: 80 ms\n",
    "LinearRegression fit time: 229 ms"
   ]
  },
  {
   "cell_type": "markdown",
   "metadata": {},
   "source": [
    "2.3 LightGBM"
   ]
  },
  {
   "cell_type": "markdown",
   "metadata": {},
   "source": [
    "Попробуем обучить модель с градиентным бустингом: LightGBM.\n",
    "Подбор параметров проведём с помощью GridSearch библиотеки sklearn."
   ]
  },
  {
   "cell_type": "code",
   "execution_count": null,
   "metadata": {},
   "outputs": [],
   "source": [
    "numerical_features = ['DateCreated', 'Price', 'RegistrationYear', 'Power', 'Kilometer', 'LastSeen']\n",
    "categorical_features = ['VehicleType', 'Gearbox', 'Model', 'FuelType', 'NotRepaired', 'Brand']"
   ]
  },
  {
   "cell_type": "code",
   "execution_count": null,
   "metadata": {},
   "outputs": [],
   "source": [
    "data = data.drop(['brand_model', 'model_code'], axis=1)"
   ]
  },
  {
   "cell_type": "code",
   "execution_count": null,
   "metadata": {},
   "outputs": [],
   "source": [
    "X = data_coded.drop('Price', axis=1)\n",
    "y = data_coded['Price']\n",
    "X_train, X_test, y_train, y_test = train_test_split(X, y, test_size=0.2, random_state=42)"
   ]
  },
  {
   "cell_type": "code",
   "execution_count": null,
   "metadata": {},
   "outputs": [],
   "source": [
    "f\"Размер обучающей выборки: {X_train.shape}\""
   ]
  },
  {
   "cell_type": "code",
   "execution_count": null,
   "metadata": {},
   "outputs": [],
   "source": [
    "f\"Размер обучающей выборки: {X_test.shape}\""
   ]
  },
  {
   "cell_type": "code",
   "execution_count": null,
   "metadata": {},
   "outputs": [],
   "source": [
    "categorical_features = [col for col in list(data_coded.columns) if col not in numerical_features]"
   ]
  },
  {
   "cell_type": "code",
   "execution_count": null,
   "metadata": {},
   "outputs": [],
   "source": [
    "%%time\n",
    "train_data = lightgbm.Dataset(X_train, label=y_train, \n",
    "                              free_raw_data=False,\n",
    "                              categorical_feature=categorical_features)\n",
    "test_data = lightgbm.Dataset(X_test, label=y_test)\n",
    "\n",
    "param_grid = {'learning_rate': [0.1, 0.3, 0.5, 0.7],\n",
    "              'max_depth': [15, 20, 30, 35],\n",
    "             }\n",
    "\n",
    "lgbm = lightgbm.LGBMRegressor(n_jobs = 8)\n",
    "\n",
    "# инициализируем GridSearchCV\n",
    "grid_search = GridSearchCV(estimator = lgbm, \n",
    "                           param_grid = param_grid, \n",
    "                           cv = 3,\n",
    "                           n_jobs = -1, \n",
    "                           verbose = 0, \n",
    "                           scoring = 'neg_mean_squared_error',\n",
    "                          )\n",
    "grid_search.fit(X_train, y_train)"
   ]
  },
  {
   "cell_type": "code",
   "execution_count": null,
   "metadata": {},
   "outputs": [],
   "source": [
    "print(grid_search.best_params_)"
   ]
  },
  {
   "cell_type": "code",
   "execution_count": null,
   "metadata": {},
   "outputs": [],
   "source": [
    "print('RMSE для LightGBM модели на валидационной выборке: {:.2f}'.format((-grid_search.best_score_) ** 0.5))"
   ]
  },
  {
   "cell_type": "code",
   "execution_count": null,
   "metadata": {},
   "outputs": [],
   "source": [
    "%%time\n",
    "preds_lgbm = grid_search.best_estimator_.predict(X_test)"
   ]
  },
  {
   "cell_type": "code",
   "execution_count": null,
   "metadata": {},
   "outputs": [],
   "source": [
    "mse_lgbm = mean_squared_error(y_test, preds_lgbm)\n",
    "f\"RMSE для LightGBM модели на тестовой выборке: {round((mse_lgbm) ** 0.5, 2)}\""
   ]
  },
  {
   "cell_type": "markdown",
   "metadata": {},
   "source": [
    "Вывод:\n",
    "Проведено обучение моделей линейной регрессии без/с регуляризацией, а также модели градиентного бустинга LightGBM.\n",
    "Измерены время обучения/предсказания моделей, а так же качество предсказаний по метрике RMSE."
   ]
  },
  {
   "cell_type": "markdown",
   "metadata": {},
   "source": [
    "2.4. CatBoostRegressor"
   ]
  },
  {
   "cell_type": "code",
   "execution_count": null,
   "metadata": {},
   "outputs": [],
   "source": [
    "for iteration in range(10, 101, 20):\n",
    "    \n",
    "    for depth in range(5, 11, 2):\n",
    "    \n",
    "        model_cbr = CatBoostRegressor(random_state=123, iterations=iteration, loss_function='RMSE', depth=depth)\n",
    "    \n",
    "        start = time.time() \n",
    "        model_cbr.fit(features_train, target_train)\n",
    "        end_time_fit = time.time() - start\n",
    "\n",
    "        start = time.time() \n",
    "        predictions_cbr = model_cbr.predict(features_valid, verbose=1)\n",
    "        end_time_predict = time.time() - start\n",
    "\n",
    "        RMSE = rmse(target_valid, predictions_cbr)\n",
    "    \n",
    "        results.append({'Модель': 'CatBoostRegressor', \n",
    "                        'Параметры': {'random_state':123, \n",
    "                                      'iterations': iteration, \n",
    "                                      'loss_function': 'RMSE', \n",
    "                                      'depth': depth}, \n",
    "                        'Время обучения': end_time_fit, \n",
    "                        'Скорость предсказания': end_time_predict, \n",
    "                        'RMSE': RMSE})"
   ]
  },
  {
   "cell_type": "markdown",
   "metadata": {},
   "source": [
    "## Анализ моделей"
   ]
  },
  {
   "cell_type": "markdown",
   "metadata": {},
   "source": [
    "Все обученные модели смогли улучшить RMSE базовой модели."
   ]
  },
  {
   "cell_type": "markdown",
   "metadata": {},
   "source": [
    "Линейная модель без регуляризации для данной задачи показала качество предсказаний не хуже, чем Lasso и Ridge. Метрика RMSE для LightGBM в два раза ниже:\n",
    "Base-line: 4530.45\n",
    "LinearModel: 3005.1\n",
    "Lasso 3005.1\n",
    "Ridge 3005.1\n",
    "LightGBM: 1638.9"
   ]
  },
  {
   "cell_type": "markdown",
   "metadata": {},
   "source": [
    "По времени обучения Ridge модель оказалась быстрее всех. Lasso значительно уступает линейной модели без регуляризации. Обучение LightGBM оказалось не намного дольше (31.9 с на 16 моделей в GridSerch):\n",
    "LinearModel: 229 ms\n",
    "Lasso 3.56 s\n",
    "Ridge 80 ms\n",
    "LightGBM: +- 2c на модель"
   ]
  },
  {
   "cell_type": "markdown",
   "metadata": {},
   "source": [
    "По времени предсказания линейные модели ведут себя одинаково. LightGBM более тяжелая модель, время предсказания выше на порядок.\n",
    "LinearModels: +- 8 ms\n",
    "LightGBM: 101 ms"
   ]
  },
  {
   "cell_type": "markdown",
   "metadata": {},
   "source": [
    "Скорость предсказания лучше всего у модели CatBoostRegressor с гиперпараметрами iterations = 10 и depth = 7. Но показатель RMSE у этой модели очень высокий.\n",
    "время обучения лучше у модели CatBoostRegressor с гиперпараметрами iterations = 10 и depth = 9, но опять - качество предсказаний очень низкое.\n",
    "Так как заказчику важны все 3 параметра - качество предсказания, скорость предсказания и время обучения - можно посоветовать выбрать, например, модель CatBoostRegressor с гиперпараметрами iterations = 50 и depth = 7, где RMSE = 2495.09. На фоне остальных моделей, которые дают более менее приемлемое качество, эта обучается и предсказывает сравнительно быстро."
   ]
  }
 ],
 "metadata": {
  "ExecuteTimeLog": [
   {
    "duration": 1661,
    "start_time": "2022-07-02T06:59:18.932Z"
   },
   {
    "duration": 6,
    "start_time": "2022-07-02T06:59:22.465Z"
   },
   {
    "duration": 6,
    "start_time": "2022-07-02T07:00:08.166Z"
   },
   {
    "duration": 5,
    "start_time": "2022-07-02T07:00:10.739Z"
   },
   {
    "duration": 1704,
    "start_time": "2022-07-02T07:01:28.312Z"
   },
   {
    "duration": 103,
    "start_time": "2022-07-02T07:01:47.202Z"
   },
   {
    "duration": 43,
    "start_time": "2022-07-02T07:02:44.935Z"
   },
   {
    "duration": 4,
    "start_time": "2022-07-02T07:02:56.404Z"
   },
   {
    "duration": 64,
    "start_time": "2022-07-02T07:03:07.690Z"
   },
   {
    "duration": 85448,
    "start_time": "2022-07-02T07:04:42.525Z"
   },
   {
    "duration": 383,
    "start_time": "2022-07-02T07:06:07.975Z"
   },
   {
    "duration": 11,
    "start_time": "2022-07-02T07:06:08.360Z"
   },
   {
    "duration": 46,
    "start_time": "2022-07-02T07:06:57.790Z"
   },
   {
    "duration": 3944,
    "start_time": "2022-07-02T07:07:06.394Z"
   },
   {
    "duration": 26,
    "start_time": "2022-07-02T07:07:43.829Z"
   },
   {
    "duration": 44,
    "start_time": "2022-07-02T07:08:04.722Z"
   },
   {
    "duration": 14,
    "start_time": "2022-07-02T07:08:28.916Z"
   },
   {
    "duration": 68,
    "start_time": "2022-07-02T07:08:52.265Z"
   },
   {
    "duration": 255,
    "start_time": "2022-07-02T07:09:02.159Z"
   },
   {
    "duration": 682,
    "start_time": "2022-07-02T07:09:12.751Z"
   },
   {
    "duration": 25,
    "start_time": "2022-07-02T07:09:33.462Z"
   },
   {
    "duration": 3040,
    "start_time": "2022-07-02T07:10:02.735Z"
   },
   {
    "duration": 3013,
    "start_time": "2022-07-02T07:10:12.852Z"
   },
   {
    "duration": 13,
    "start_time": "2022-07-02T07:10:31.969Z"
   },
   {
    "duration": 13,
    "start_time": "2022-07-02T07:10:41.715Z"
   },
   {
    "duration": 31,
    "start_time": "2022-07-02T07:11:06.409Z"
   },
   {
    "duration": 253,
    "start_time": "2022-07-02T07:11:49.251Z"
   },
   {
    "duration": 257,
    "start_time": "2022-07-02T07:11:58.513Z"
   },
   {
    "duration": 251,
    "start_time": "2022-07-02T07:12:09.624Z"
   },
   {
    "duration": 19,
    "start_time": "2022-07-02T07:12:31.273Z"
   },
   {
    "duration": 11,
    "start_time": "2022-07-02T07:12:55.789Z"
   },
   {
    "duration": 78,
    "start_time": "2022-07-02T07:13:05.983Z"
   },
   {
    "duration": 242,
    "start_time": "2022-07-02T07:13:41.975Z"
   },
   {
    "duration": 3,
    "start_time": "2022-07-02T07:14:06.100Z"
   },
   {
    "duration": 65,
    "start_time": "2022-07-02T07:14:14.290Z"
   },
   {
    "duration": 55,
    "start_time": "2022-07-02T07:14:24.120Z"
   },
   {
    "duration": 52,
    "start_time": "2022-07-02T07:14:31.903Z"
   },
   {
    "duration": 57,
    "start_time": "2022-07-02T07:14:40.397Z"
   },
   {
    "duration": 17,
    "start_time": "2022-07-02T07:14:48.456Z"
   },
   {
    "duration": 17,
    "start_time": "2022-07-02T07:15:25.148Z"
   },
   {
    "duration": 60,
    "start_time": "2022-07-02T07:15:32.267Z"
   },
   {
    "duration": 4,
    "start_time": "2022-07-02T07:15:41.417Z"
   },
   {
    "duration": 5,
    "start_time": "2022-07-02T07:15:49.858Z"
   },
   {
    "duration": 293,
    "start_time": "2022-07-02T07:16:11.195Z"
   },
   {
    "duration": 23,
    "start_time": "2022-07-02T07:16:19.239Z"
   },
   {
    "duration": 7,
    "start_time": "2022-07-02T07:17:40.018Z"
   },
   {
    "duration": 4939,
    "start_time": "2022-07-02T07:18:31.290Z"
   },
   {
    "duration": 4,
    "start_time": "2022-07-02T07:18:41.235Z"
   },
   {
    "duration": 995,
    "start_time": "2022-07-02T07:18:57.538Z"
   },
   {
    "duration": 8,
    "start_time": "2022-07-02T07:19:12.414Z"
   },
   {
    "duration": 4,
    "start_time": "2022-07-02T07:19:23.547Z"
   },
   {
    "duration": 97076,
    "start_time": "2022-07-02T07:20:13.953Z"
   },
   {
    "duration": 20695,
    "start_time": "2022-07-02T07:21:51.034Z"
   },
   {
    "duration": 101,
    "start_time": "2022-07-02T07:22:11.731Z"
   },
   {
    "duration": 97,
    "start_time": "2022-07-02T07:22:11.835Z"
   },
   {
    "duration": 14903,
    "start_time": "2022-07-02T07:22:11.934Z"
   },
   {
    "duration": 218,
    "start_time": "2022-07-02T07:22:26.929Z"
   },
   {
    "duration": 9,
    "start_time": "2022-07-02T07:22:27.327Z"
   },
   {
    "duration": 192,
    "start_time": "2022-07-02T07:22:27.338Z"
   },
   {
    "duration": 3,
    "start_time": "2022-07-02T07:23:20.681Z"
   },
   {
    "duration": 26,
    "start_time": "2022-07-02T07:23:28.497Z"
   },
   {
    "duration": 67,
    "start_time": "2022-07-02T07:23:36.485Z"
   },
   {
    "duration": 5,
    "start_time": "2022-07-02T07:23:46.266Z"
   },
   {
    "duration": 4,
    "start_time": "2022-07-02T07:23:56.558Z"
   },
   {
    "duration": 4,
    "start_time": "2022-07-02T07:24:05.121Z"
   },
   {
    "duration": 154,
    "start_time": "2022-07-02T08:33:52.199Z"
   },
   {
    "duration": 1619,
    "start_time": "2022-07-02T08:34:37.879Z"
   },
   {
    "duration": 1672,
    "start_time": "2022-07-02T08:34:39.500Z"
   },
   {
    "duration": 108,
    "start_time": "2022-07-02T08:34:41.174Z"
   },
   {
    "duration": 58,
    "start_time": "2022-07-02T08:34:41.284Z"
   },
   {
    "duration": 26,
    "start_time": "2022-07-02T08:34:41.344Z"
   },
   {
    "duration": 89623,
    "start_time": "2022-07-02T08:34:41.372Z"
   },
   {
    "duration": 344,
    "start_time": "2022-07-02T08:36:11.015Z"
   },
   {
    "duration": 12,
    "start_time": "2022-07-02T08:36:11.360Z"
   },
   {
    "duration": 40,
    "start_time": "2022-07-02T08:36:11.373Z"
   },
   {
    "duration": 340,
    "start_time": "2022-07-02T08:36:11.426Z"
   },
   {
    "duration": 24,
    "start_time": "2022-07-02T08:36:11.767Z"
   },
   {
    "duration": 59,
    "start_time": "2022-07-02T08:36:11.793Z"
   },
   {
    "duration": 15,
    "start_time": "2022-07-02T08:36:11.854Z"
   },
   {
    "duration": 87,
    "start_time": "2022-07-02T08:36:11.870Z"
   },
   {
    "duration": 300,
    "start_time": "2022-07-02T08:36:11.959Z"
   },
   {
    "duration": 735,
    "start_time": "2022-07-02T08:36:12.261Z"
   },
   {
    "duration": 53,
    "start_time": "2022-07-02T08:36:12.998Z"
   },
   {
    "duration": 3368,
    "start_time": "2022-07-02T08:36:13.054Z"
   },
   {
    "duration": 3338,
    "start_time": "2022-07-02T08:36:16.424Z"
   },
   {
    "duration": 12,
    "start_time": "2022-07-02T08:36:19.764Z"
   },
   {
    "duration": 13,
    "start_time": "2022-07-02T08:36:19.778Z"
   },
   {
    "duration": 43,
    "start_time": "2022-07-02T08:36:19.793Z"
   },
   {
    "duration": 282,
    "start_time": "2022-07-02T08:36:19.838Z"
   },
   {
    "duration": 288,
    "start_time": "2022-07-02T08:36:20.121Z"
   },
   {
    "duration": 277,
    "start_time": "2022-07-02T08:36:20.410Z"
   },
   {
    "duration": 18,
    "start_time": "2022-07-02T08:36:20.689Z"
   },
   {
    "duration": 22,
    "start_time": "2022-07-02T08:36:20.708Z"
   },
   {
    "duration": 104,
    "start_time": "2022-07-02T08:36:20.744Z"
   },
   {
    "duration": 314,
    "start_time": "2022-07-02T08:36:20.850Z"
   },
   {
    "duration": 4,
    "start_time": "2022-07-02T08:36:21.166Z"
   },
   {
    "duration": 80,
    "start_time": "2022-07-02T08:36:21.171Z"
   },
   {
    "duration": 63,
    "start_time": "2022-07-02T08:36:21.253Z"
   },
   {
    "duration": 73,
    "start_time": "2022-07-02T08:36:21.317Z"
   },
   {
    "duration": 61,
    "start_time": "2022-07-02T08:36:21.392Z"
   },
   {
    "duration": 20,
    "start_time": "2022-07-02T08:36:21.456Z"
   },
   {
    "duration": 16,
    "start_time": "2022-07-02T08:36:21.477Z"
   },
   {
    "duration": 87,
    "start_time": "2022-07-02T08:36:21.494Z"
   },
   {
    "duration": 4,
    "start_time": "2022-07-02T08:36:21.582Z"
   },
   {
    "duration": 5,
    "start_time": "2022-07-02T08:36:21.588Z"
   },
   {
    "duration": 304,
    "start_time": "2022-07-02T08:36:21.595Z"
   },
   {
    "duration": 21,
    "start_time": "2022-07-02T08:36:21.900Z"
   },
   {
    "duration": 22,
    "start_time": "2022-07-02T08:36:21.929Z"
   },
   {
    "duration": 7004,
    "start_time": "2022-07-02T08:36:21.953Z"
   },
   {
    "duration": 74,
    "start_time": "2022-07-02T08:36:28.959Z"
   },
   {
    "duration": 1420,
    "start_time": "2022-07-02T08:36:29.038Z"
   },
   {
    "duration": 77,
    "start_time": "2022-07-02T08:36:30.459Z"
   },
   {
    "duration": 97,
    "start_time": "2022-07-02T08:36:30.538Z"
   },
   {
    "duration": 1505,
    "start_time": "2022-07-02T08:36:42.721Z"
   },
   {
    "duration": 1653,
    "start_time": "2022-07-02T08:36:44.234Z"
   },
   {
    "duration": 97,
    "start_time": "2022-07-02T08:36:45.889Z"
   },
   {
    "duration": 62,
    "start_time": "2022-07-02T08:36:45.989Z"
   },
   {
    "duration": 3,
    "start_time": "2022-07-02T08:36:46.053Z"
   },
   {
    "duration": 89860,
    "start_time": "2022-07-02T08:36:46.058Z"
   },
   {
    "duration": 387,
    "start_time": "2022-07-02T08:38:15.920Z"
   },
   {
    "duration": 11,
    "start_time": "2022-07-02T08:38:16.309Z"
   },
   {
    "duration": 48,
    "start_time": "2022-07-02T08:38:16.330Z"
   },
   {
    "duration": 401,
    "start_time": "2022-07-02T08:38:16.381Z"
   },
   {
    "duration": 25,
    "start_time": "2022-07-02T08:38:16.784Z"
   },
   {
    "duration": 73,
    "start_time": "2022-07-02T08:38:16.811Z"
   },
   {
    "duration": 14,
    "start_time": "2022-07-02T08:38:16.886Z"
   },
   {
    "duration": 97,
    "start_time": "2022-07-02T08:38:16.902Z"
   },
   {
    "duration": 304,
    "start_time": "2022-07-02T08:38:17.001Z"
   },
   {
    "duration": 720,
    "start_time": "2022-07-02T08:38:17.307Z"
   },
   {
    "duration": 35,
    "start_time": "2022-07-02T08:38:18.031Z"
   },
   {
    "duration": 3304,
    "start_time": "2022-07-02T08:38:18.068Z"
   },
   {
    "duration": 3345,
    "start_time": "2022-07-02T08:38:21.374Z"
   },
   {
    "duration": 14,
    "start_time": "2022-07-02T08:38:24.721Z"
   },
   {
    "duration": 30,
    "start_time": "2022-07-02T08:38:24.737Z"
   },
   {
    "duration": 28,
    "start_time": "2022-07-02T08:38:24.769Z"
   },
   {
    "duration": 310,
    "start_time": "2022-07-02T08:38:24.799Z"
   },
   {
    "duration": 284,
    "start_time": "2022-07-02T08:38:25.111Z"
   },
   {
    "duration": 303,
    "start_time": "2022-07-02T08:38:25.397Z"
   },
   {
    "duration": 28,
    "start_time": "2022-07-02T08:38:25.702Z"
   },
   {
    "duration": 23,
    "start_time": "2022-07-02T08:38:25.739Z"
   },
   {
    "duration": 99,
    "start_time": "2022-07-02T08:38:25.765Z"
   },
   {
    "duration": 302,
    "start_time": "2022-07-02T08:38:25.866Z"
   },
   {
    "duration": 3,
    "start_time": "2022-07-02T08:38:26.170Z"
   },
   {
    "duration": 90,
    "start_time": "2022-07-02T08:38:26.175Z"
   },
   {
    "duration": 84,
    "start_time": "2022-07-02T08:38:26.267Z"
   },
   {
    "duration": 66,
    "start_time": "2022-07-02T08:38:26.353Z"
   },
   {
    "duration": 65,
    "start_time": "2022-07-02T08:38:26.426Z"
   },
   {
    "duration": 43,
    "start_time": "2022-07-02T08:38:26.493Z"
   },
   {
    "duration": 25,
    "start_time": "2022-07-02T08:38:26.544Z"
   },
   {
    "duration": 66,
    "start_time": "2022-07-02T08:38:26.572Z"
   },
   {
    "duration": 4,
    "start_time": "2022-07-02T08:38:26.641Z"
   },
   {
    "duration": 22,
    "start_time": "2022-07-02T08:38:26.652Z"
   },
   {
    "duration": 290,
    "start_time": "2022-07-02T08:38:26.676Z"
   },
   {
    "duration": 21,
    "start_time": "2022-07-02T08:38:26.967Z"
   },
   {
    "duration": 8,
    "start_time": "2022-07-02T08:38:26.989Z"
   },
   {
    "duration": 7029,
    "start_time": "2022-07-02T08:38:26.998Z"
   },
   {
    "duration": 5,
    "start_time": "2022-07-02T08:38:34.029Z"
   },
   {
    "duration": 1413,
    "start_time": "2022-07-02T08:38:34.039Z"
   },
   {
    "duration": 86,
    "start_time": "2022-07-02T08:38:35.453Z"
   },
   {
    "duration": 96,
    "start_time": "2022-07-02T08:38:35.542Z"
   },
   {
    "duration": 1531,
    "start_time": "2022-07-02T08:50:42.642Z"
   },
   {
    "duration": 1589,
    "start_time": "2022-07-02T08:50:44.176Z"
   },
   {
    "duration": 102,
    "start_time": "2022-07-02T08:50:45.766Z"
   },
   {
    "duration": 68,
    "start_time": "2022-07-02T08:50:45.871Z"
   },
   {
    "duration": 8,
    "start_time": "2022-07-02T08:50:45.942Z"
   },
   {
    "duration": 87998,
    "start_time": "2022-07-02T08:50:45.951Z"
   },
   {
    "duration": 346,
    "start_time": "2022-07-02T08:52:13.951Z"
   },
   {
    "duration": 11,
    "start_time": "2022-07-02T08:52:14.299Z"
   },
   {
    "duration": 59,
    "start_time": "2022-07-02T08:52:14.312Z"
   },
   {
    "duration": 328,
    "start_time": "2022-07-02T08:52:14.374Z"
   },
   {
    "duration": 38,
    "start_time": "2022-07-02T08:52:14.703Z"
   },
   {
    "duration": 44,
    "start_time": "2022-07-02T08:52:14.743Z"
   },
   {
    "duration": 17,
    "start_time": "2022-07-02T08:52:14.790Z"
   },
   {
    "duration": 100,
    "start_time": "2022-07-02T08:52:14.808Z"
   },
   {
    "duration": 309,
    "start_time": "2022-07-02T08:52:14.910Z"
   },
   {
    "duration": 835,
    "start_time": "2022-07-02T08:52:15.221Z"
   },
   {
    "duration": 26,
    "start_time": "2022-07-02T08:52:16.058Z"
   },
   {
    "duration": 3223,
    "start_time": "2022-07-02T08:52:16.087Z"
   },
   {
    "duration": 3296,
    "start_time": "2022-07-02T08:52:19.312Z"
   },
   {
    "duration": 29,
    "start_time": "2022-07-02T08:52:22.609Z"
   },
   {
    "duration": 16,
    "start_time": "2022-07-02T08:52:22.642Z"
   },
   {
    "duration": 35,
    "start_time": "2022-07-02T08:52:22.660Z"
   },
   {
    "duration": 282,
    "start_time": "2022-07-02T08:52:22.697Z"
   },
   {
    "duration": 300,
    "start_time": "2022-07-02T08:52:22.981Z"
   },
   {
    "duration": 279,
    "start_time": "2022-07-02T08:52:23.284Z"
   },
   {
    "duration": 19,
    "start_time": "2022-07-02T08:52:23.565Z"
   },
   {
    "duration": 12,
    "start_time": "2022-07-02T08:52:23.586Z"
   },
   {
    "duration": 163,
    "start_time": "2022-07-02T08:52:23.603Z"
   },
   {
    "duration": 296,
    "start_time": "2022-07-02T08:52:23.768Z"
   },
   {
    "duration": 4,
    "start_time": "2022-07-02T08:52:24.066Z"
   },
   {
    "duration": 81,
    "start_time": "2022-07-02T08:52:24.072Z"
   },
   {
    "duration": 61,
    "start_time": "2022-07-02T08:52:24.155Z"
   },
   {
    "duration": 61,
    "start_time": "2022-07-02T08:52:24.228Z"
   },
   {
    "duration": 67,
    "start_time": "2022-07-02T08:52:24.292Z"
   },
   {
    "duration": 22,
    "start_time": "2022-07-02T08:52:24.361Z"
   },
   {
    "duration": 28,
    "start_time": "2022-07-02T08:52:24.387Z"
   },
   {
    "duration": 86,
    "start_time": "2022-07-02T08:52:24.417Z"
   },
   {
    "duration": 5,
    "start_time": "2022-07-02T08:52:24.505Z"
   },
   {
    "duration": 32,
    "start_time": "2022-07-02T08:52:24.511Z"
   },
   {
    "duration": 305,
    "start_time": "2022-07-02T08:52:24.545Z"
   },
   {
    "duration": 34,
    "start_time": "2022-07-02T08:52:24.852Z"
   },
   {
    "duration": 14,
    "start_time": "2022-07-02T08:52:24.888Z"
   },
   {
    "duration": 6531,
    "start_time": "2022-07-02T08:52:24.903Z"
   },
   {
    "duration": 7,
    "start_time": "2022-07-02T08:52:31.436Z"
   },
   {
    "duration": 1211,
    "start_time": "2022-07-02T08:52:31.446Z"
   },
   {
    "duration": 81,
    "start_time": "2022-07-02T08:52:32.659Z"
   },
   {
    "duration": 203,
    "start_time": "2022-07-02T08:52:32.742Z"
   }
  ],
  "kernelspec": {
   "display_name": "Python 3 (ipykernel)",
   "language": "python",
   "name": "python3"
  },
  "language_info": {
   "codemirror_mode": {
    "name": "ipython",
    "version": 3
   },
   "file_extension": ".py",
   "mimetype": "text/x-python",
   "name": "python",
   "nbconvert_exporter": "python",
   "pygments_lexer": "ipython3",
   "version": "3.9.5"
  },
  "toc": {
   "base_numbering": 1,
   "nav_menu": {},
   "number_sections": true,
   "sideBar": true,
   "skip_h1_title": true,
   "title_cell": "Table of Contents",
   "title_sidebar": "Contents",
   "toc_cell": false,
   "toc_position": {},
   "toc_section_display": true,
   "toc_window_display": false
  }
 },
 "nbformat": 4,
 "nbformat_minor": 2
}
